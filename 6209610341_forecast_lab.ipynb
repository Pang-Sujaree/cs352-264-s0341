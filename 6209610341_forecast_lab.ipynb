{
  "cells": [
    {
      "cell_type": "markdown",
      "metadata": {
        "id": "view-in-github",
        "colab_type": "text"
      },
      "source": [
        "<a href=\"https://colab.research.google.com/github/Pang-Sujaree/cs352-264-s0341/blob/main/6209610341_forecast_lab.ipynb\" target=\"_parent\"><img src=\"https://colab.research.google.com/assets/colab-badge.svg\" alt=\"Open In Colab\"/></a>"
      ]
    },
    {
      "cell_type": "code",
      "source": [
        "#6209610341 Sujaree Tipklom"
      ],
      "metadata": {
        "id": "sYTQc4PVJnxp"
      },
      "execution_count": null,
      "outputs": []
    },
    {
      "cell_type": "markdown",
      "metadata": {
        "id": "3qMu2UFPJE0U"
      },
      "source": [
        "# Lab 4 - Student Notebook"
      ]
    },
    {
      "cell_type": "markdown",
      "metadata": {
        "id": "qiHAa6XNJE0W"
      },
      "source": [
        "## Overview\n",
        "\n",
        "In this lab, you will prepare a dataset for creating a forecast by using Amazon Forecast.\n",
        "\n",
        "This lab includes two Jupyter notebooks:\n",
        "\n",
        "1. This notebook contains the steps that you will follow to prepare the dataset and evaluate the forecast.\n",
        "2. The `forecast-autorun.ipynb` notebook contains the steps to create the forecast by using Amazon Forecast. This notebook is run in the background when the lab starts, and it can take between 1–2 hours to complete. You will refer to this notebook during the lab steps, but you won't need to run any cells.\n",
        "\n",
        "\n",
        "## About the dataset\n",
        "\n",
        "This [Online Retail II](https://archive.ics.uci.edu/ml/datasets/Online+Retail+II) dataset contains all transactions that occurred between January 12, 2009 and September 12, 2011 for a non-store, online retail organization that's registered and based in the United Kingdom. The company mainly sells unique all-occasion giftware. Many customers of the company are wholesalers.\n",
        "\n",
        "\n",
        "## Attribute information\n",
        "\n",
        "- **InvoiceNo** – Invoice number. Nominal. A 6-digit integral number that's uniquely assigned to each transaction. If this code starts with the letter *c*, it indicates a cancelation.\n",
        "- **StockCode** – Product (item) code. Nominal. A 5-digit integral number that's uniquely assigned to each distinct product.\n",
        "- **Description** – Product (item) name. Nominal.\n",
        "- **Quantity** – The quantities of each product (item) per transaction. Numeric.\n",
        "- **InvoiceDate** – Invoice date and time. Numeric. The day and time when a transaction was generated.\n",
        "- **UnitPrice** – Unit price. Numeric. Product price per unit in pounds sterling (£).\n",
        "- **CustomerID** – Customer number. Nominal. A 5-digit integral number that's uniquely assigned to each customer.\n",
        "- **Country** – Country name. Nominal. The name of the country where a customer resides.\n",
        "\n",
        "\n",
        "## Dataset attributions\n",
        "\n",
        "This dataset was obtained from:\n",
        "Dua, D. and Graff, C. (2019). UCI Machine Learning Repository (http://archive.ics.uci.edu/ml). Irvine, CA: University of California, School of Information and Computer Science."
      ]
    },
    {
      "cell_type": "markdown",
      "metadata": {
        "id": "hm63Uf7HJE0Y"
      },
      "source": [
        "## Lab instructions\n",
        "\n",
        "To complete this lab, read and run the cells below."
      ]
    },
    {
      "cell_type": "markdown",
      "metadata": {
        "id": "H9SzupWJJE0Z"
      },
      "source": [
        "## Task 1: Importing Python packages\n",
        "\n",
        "Start by importing the Python packages that you need.\n",
        "\n",
        "In the following code:\n",
        "\n",
        "- *boto3* represents the AWS SDK for Python (Boto3), which is the Python library for AWS\n",
        "- *pandas* provides DataFrames for manipulating time series data\n",
        "- *matplotlib* provides plotting functions\n",
        "- *sagemaker* represents the API that's needed to work with Amazon SageMaker\n",
        "- *time*, *sys*, *os*, *io*, and *json* provide helper functions \n"
      ]
    },
    {
      "cell_type": "code",
      "execution_count": null,
      "metadata": {
        "id": "rzI9abt0JE0Z"
      },
      "outputs": [],
      "source": [
        "import warnings\n",
        "warnings.filterwarnings('ignore')\n",
        "bucket_name='c47433a664956l1921541t1w0601673233-forecastbucket-4h537o6jo8i0'\n",
        "\n",
        "import boto3\n",
        "import pandas as pd\n",
        "import matplotlib\n",
        "import matplotlib.pyplot as plt\n",
        "import sagemaker\n",
        "import time, sys, os, io, json\n",
        "import xlrd\n"
      ]
    },
    {
      "cell_type": "markdown",
      "metadata": {
        "id": "M9ccV-_KJE0b"
      },
      "source": [
        "## Task 2: Exploring the data\n"
      ]
    },
    {
      "cell_type": "markdown",
      "metadata": {
        "id": "o6tbafEBJE0b"
      },
      "source": [
        "The data is in the *Microsoft Excel* format. pandas can read Excel files.\n",
        "\n",
        "**Note:** This data might take 1–2 minutes to load"
      ]
    },
    {
      "cell_type": "code",
      "execution_count": null,
      "metadata": {
        "id": "c435o1dlJE0c"
      },
      "outputs": [],
      "source": [
        "retail = pd.read_excel('online_retail_II.xlsx',engine='openpyxl')"
      ]
    },
    {
      "cell_type": "markdown",
      "metadata": {
        "id": "waYYNuZSJE0d"
      },
      "source": [
        "According to the description for the dataset, some values are missing. To keep things simple, you will remove anything wtih a missing value."
      ]
    },
    {
      "cell_type": "code",
      "execution_count": null,
      "metadata": {
        "id": "OF4Sp4q-JE0d"
      },
      "outputs": [],
      "source": [
        "retail = retail.dropna()"
      ]
    },
    {
      "cell_type": "markdown",
      "metadata": {
        "id": "26M-7W6fJE0e"
      },
      "source": [
        "Start by examining the data.\n",
        "\n",
        "How many rows and columns are in the dataset?"
      ]
    },
    {
      "cell_type": "code",
      "execution_count": null,
      "metadata": {
        "id": "YeVrmqsuJE0e",
        "outputId": "14ee32ae-62f9-4b65-81fd-0dfcb5e05a1a"
      },
      "outputs": [
        {
          "data": {
            "text/plain": [
              "(417534, 8)"
            ]
          },
          "execution_count": 4,
          "metadata": {},
          "output_type": "execute_result"
        }
      ],
      "source": [
        "retail.shape"
      ]
    },
    {
      "cell_type": "markdown",
      "metadata": {
        "id": "rUKGtpyZJE0f"
      },
      "source": [
        "What are the data types?"
      ]
    },
    {
      "cell_type": "code",
      "execution_count": null,
      "metadata": {
        "id": "lkVDUZ9rJE0g",
        "outputId": "a40c3fcd-471f-4e3c-b579-20dd54106894"
      },
      "outputs": [
        {
          "data": {
            "text/plain": [
              "Invoice                object\n",
              "StockCode              object\n",
              "Description            object\n",
              "Quantity                int64\n",
              "InvoiceDate    datetime64[ns]\n",
              "Price                 float64\n",
              "Customer ID           float64\n",
              "Country                object\n",
              "dtype: object"
            ]
          },
          "execution_count": 5,
          "metadata": {},
          "output_type": "execute_result"
        }
      ],
      "source": [
        "retail.dtypes"
      ]
    },
    {
      "cell_type": "markdown",
      "metadata": {
        "id": "YqGlKyFGJE0h"
      },
      "source": [
        "What does the data look like?"
      ]
    },
    {
      "cell_type": "code",
      "execution_count": null,
      "metadata": {
        "id": "RQ7cwz2tJE0i",
        "outputId": "5aee15e7-dc33-4f3a-f15e-fbaff97496fa"
      },
      "outputs": [
        {
          "data": {
            "text/html": [
              "<div>\n",
              "<style scoped>\n",
              "    .dataframe tbody tr th:only-of-type {\n",
              "        vertical-align: middle;\n",
              "    }\n",
              "\n",
              "    .dataframe tbody tr th {\n",
              "        vertical-align: top;\n",
              "    }\n",
              "\n",
              "    .dataframe thead th {\n",
              "        text-align: right;\n",
              "    }\n",
              "</style>\n",
              "<table border=\"1\" class=\"dataframe\">\n",
              "  <thead>\n",
              "    <tr style=\"text-align: right;\">\n",
              "      <th></th>\n",
              "      <th>Invoice</th>\n",
              "      <th>StockCode</th>\n",
              "      <th>Description</th>\n",
              "      <th>Quantity</th>\n",
              "      <th>InvoiceDate</th>\n",
              "      <th>Price</th>\n",
              "      <th>Customer ID</th>\n",
              "      <th>Country</th>\n",
              "    </tr>\n",
              "  </thead>\n",
              "  <tbody>\n",
              "    <tr>\n",
              "      <th>0</th>\n",
              "      <td>489434</td>\n",
              "      <td>85048</td>\n",
              "      <td>15CM CHRISTMAS GLASS BALL 20 LIGHTS</td>\n",
              "      <td>12</td>\n",
              "      <td>2009-12-01 07:45:00</td>\n",
              "      <td>6.95</td>\n",
              "      <td>13085.0</td>\n",
              "      <td>United Kingdom</td>\n",
              "    </tr>\n",
              "    <tr>\n",
              "      <th>1</th>\n",
              "      <td>489434</td>\n",
              "      <td>79323P</td>\n",
              "      <td>PINK CHERRY LIGHTS</td>\n",
              "      <td>12</td>\n",
              "      <td>2009-12-01 07:45:00</td>\n",
              "      <td>6.75</td>\n",
              "      <td>13085.0</td>\n",
              "      <td>United Kingdom</td>\n",
              "    </tr>\n",
              "    <tr>\n",
              "      <th>2</th>\n",
              "      <td>489434</td>\n",
              "      <td>79323W</td>\n",
              "      <td>WHITE CHERRY LIGHTS</td>\n",
              "      <td>12</td>\n",
              "      <td>2009-12-01 07:45:00</td>\n",
              "      <td>6.75</td>\n",
              "      <td>13085.0</td>\n",
              "      <td>United Kingdom</td>\n",
              "    </tr>\n",
              "    <tr>\n",
              "      <th>3</th>\n",
              "      <td>489434</td>\n",
              "      <td>22041</td>\n",
              "      <td>RECORD FRAME 7\" SINGLE SIZE</td>\n",
              "      <td>48</td>\n",
              "      <td>2009-12-01 07:45:00</td>\n",
              "      <td>2.10</td>\n",
              "      <td>13085.0</td>\n",
              "      <td>United Kingdom</td>\n",
              "    </tr>\n",
              "    <tr>\n",
              "      <th>4</th>\n",
              "      <td>489434</td>\n",
              "      <td>21232</td>\n",
              "      <td>STRAWBERRY CERAMIC TRINKET BOX</td>\n",
              "      <td>24</td>\n",
              "      <td>2009-12-01 07:45:00</td>\n",
              "      <td>1.25</td>\n",
              "      <td>13085.0</td>\n",
              "      <td>United Kingdom</td>\n",
              "    </tr>\n",
              "    <tr>\n",
              "      <th>5</th>\n",
              "      <td>489434</td>\n",
              "      <td>22064</td>\n",
              "      <td>PINK DOUGHNUT TRINKET POT</td>\n",
              "      <td>24</td>\n",
              "      <td>2009-12-01 07:45:00</td>\n",
              "      <td>1.65</td>\n",
              "      <td>13085.0</td>\n",
              "      <td>United Kingdom</td>\n",
              "    </tr>\n",
              "    <tr>\n",
              "      <th>6</th>\n",
              "      <td>489434</td>\n",
              "      <td>21871</td>\n",
              "      <td>SAVE THE PLANET MUG</td>\n",
              "      <td>24</td>\n",
              "      <td>2009-12-01 07:45:00</td>\n",
              "      <td>1.25</td>\n",
              "      <td>13085.0</td>\n",
              "      <td>United Kingdom</td>\n",
              "    </tr>\n",
              "    <tr>\n",
              "      <th>7</th>\n",
              "      <td>489434</td>\n",
              "      <td>21523</td>\n",
              "      <td>FANCY FONT HOME SWEET HOME DOORMAT</td>\n",
              "      <td>10</td>\n",
              "      <td>2009-12-01 07:45:00</td>\n",
              "      <td>5.95</td>\n",
              "      <td>13085.0</td>\n",
              "      <td>United Kingdom</td>\n",
              "    </tr>\n",
              "    <tr>\n",
              "      <th>8</th>\n",
              "      <td>489435</td>\n",
              "      <td>22350</td>\n",
              "      <td>CAT BOWL</td>\n",
              "      <td>12</td>\n",
              "      <td>2009-12-01 07:46:00</td>\n",
              "      <td>2.55</td>\n",
              "      <td>13085.0</td>\n",
              "      <td>United Kingdom</td>\n",
              "    </tr>\n",
              "    <tr>\n",
              "      <th>9</th>\n",
              "      <td>489435</td>\n",
              "      <td>22349</td>\n",
              "      <td>DOG BOWL , CHASING BALL DESIGN</td>\n",
              "      <td>12</td>\n",
              "      <td>2009-12-01 07:46:00</td>\n",
              "      <td>3.75</td>\n",
              "      <td>13085.0</td>\n",
              "      <td>United Kingdom</td>\n",
              "    </tr>\n",
              "    <tr>\n",
              "      <th>10</th>\n",
              "      <td>489435</td>\n",
              "      <td>22195</td>\n",
              "      <td>HEART MEASURING SPOONS LARGE</td>\n",
              "      <td>24</td>\n",
              "      <td>2009-12-01 07:46:00</td>\n",
              "      <td>1.65</td>\n",
              "      <td>13085.0</td>\n",
              "      <td>United Kingdom</td>\n",
              "    </tr>\n",
              "    <tr>\n",
              "      <th>11</th>\n",
              "      <td>489435</td>\n",
              "      <td>22353</td>\n",
              "      <td>LUNCHBOX WITH CUTLERY FAIRY CAKES</td>\n",
              "      <td>12</td>\n",
              "      <td>2009-12-01 07:46:00</td>\n",
              "      <td>2.55</td>\n",
              "      <td>13085.0</td>\n",
              "      <td>United Kingdom</td>\n",
              "    </tr>\n",
              "    <tr>\n",
              "      <th>12</th>\n",
              "      <td>489436</td>\n",
              "      <td>48173C</td>\n",
              "      <td>DOOR MAT BLACK FLOCK</td>\n",
              "      <td>10</td>\n",
              "      <td>2009-12-01 09:06:00</td>\n",
              "      <td>5.95</td>\n",
              "      <td>13078.0</td>\n",
              "      <td>United Kingdom</td>\n",
              "    </tr>\n",
              "    <tr>\n",
              "      <th>13</th>\n",
              "      <td>489436</td>\n",
              "      <td>21755</td>\n",
              "      <td>LOVE BUILDING BLOCK WORD</td>\n",
              "      <td>18</td>\n",
              "      <td>2009-12-01 09:06:00</td>\n",
              "      <td>5.45</td>\n",
              "      <td>13078.0</td>\n",
              "      <td>United Kingdom</td>\n",
              "    </tr>\n",
              "    <tr>\n",
              "      <th>14</th>\n",
              "      <td>489436</td>\n",
              "      <td>21754</td>\n",
              "      <td>HOME BUILDING BLOCK WORD</td>\n",
              "      <td>3</td>\n",
              "      <td>2009-12-01 09:06:00</td>\n",
              "      <td>5.95</td>\n",
              "      <td>13078.0</td>\n",
              "      <td>United Kingdom</td>\n",
              "    </tr>\n",
              "    <tr>\n",
              "      <th>15</th>\n",
              "      <td>489436</td>\n",
              "      <td>84879</td>\n",
              "      <td>ASSORTED COLOUR BIRD ORNAMENT</td>\n",
              "      <td>16</td>\n",
              "      <td>2009-12-01 09:06:00</td>\n",
              "      <td>1.69</td>\n",
              "      <td>13078.0</td>\n",
              "      <td>United Kingdom</td>\n",
              "    </tr>\n",
              "    <tr>\n",
              "      <th>16</th>\n",
              "      <td>489436</td>\n",
              "      <td>22119</td>\n",
              "      <td>PEACE WOODEN BLOCK LETTERS</td>\n",
              "      <td>3</td>\n",
              "      <td>2009-12-01 09:06:00</td>\n",
              "      <td>6.95</td>\n",
              "      <td>13078.0</td>\n",
              "      <td>United Kingdom</td>\n",
              "    </tr>\n",
              "    <tr>\n",
              "      <th>17</th>\n",
              "      <td>489436</td>\n",
              "      <td>22142</td>\n",
              "      <td>CHRISTMAS CRAFT WHITE FAIRY</td>\n",
              "      <td>12</td>\n",
              "      <td>2009-12-01 09:06:00</td>\n",
              "      <td>1.45</td>\n",
              "      <td>13078.0</td>\n",
              "      <td>United Kingdom</td>\n",
              "    </tr>\n",
              "    <tr>\n",
              "      <th>18</th>\n",
              "      <td>489436</td>\n",
              "      <td>22296</td>\n",
              "      <td>HEART IVORY TRELLIS LARGE</td>\n",
              "      <td>12</td>\n",
              "      <td>2009-12-01 09:06:00</td>\n",
              "      <td>1.65</td>\n",
              "      <td>13078.0</td>\n",
              "      <td>United Kingdom</td>\n",
              "    </tr>\n",
              "    <tr>\n",
              "      <th>19</th>\n",
              "      <td>489436</td>\n",
              "      <td>22295</td>\n",
              "      <td>HEART FILIGREE DOVE LARGE</td>\n",
              "      <td>12</td>\n",
              "      <td>2009-12-01 09:06:00</td>\n",
              "      <td>1.65</td>\n",
              "      <td>13078.0</td>\n",
              "      <td>United Kingdom</td>\n",
              "    </tr>\n",
              "  </tbody>\n",
              "</table>\n",
              "</div>"
            ],
            "text/plain": [
              "   Invoice StockCode                          Description  Quantity  \\\n",
              "0   489434     85048  15CM CHRISTMAS GLASS BALL 20 LIGHTS        12   \n",
              "1   489434    79323P                   PINK CHERRY LIGHTS        12   \n",
              "2   489434    79323W                  WHITE CHERRY LIGHTS        12   \n",
              "3   489434     22041         RECORD FRAME 7\" SINGLE SIZE         48   \n",
              "4   489434     21232       STRAWBERRY CERAMIC TRINKET BOX        24   \n",
              "5   489434     22064           PINK DOUGHNUT TRINKET POT         24   \n",
              "6   489434     21871                  SAVE THE PLANET MUG        24   \n",
              "7   489434     21523   FANCY FONT HOME SWEET HOME DOORMAT        10   \n",
              "8   489435     22350                            CAT BOWL         12   \n",
              "9   489435     22349       DOG BOWL , CHASING BALL DESIGN        12   \n",
              "10  489435     22195         HEART MEASURING SPOONS LARGE        24   \n",
              "11  489435     22353   LUNCHBOX WITH CUTLERY FAIRY CAKES         12   \n",
              "12  489436    48173C                DOOR MAT BLACK FLOCK         10   \n",
              "13  489436     21755             LOVE BUILDING BLOCK WORD        18   \n",
              "14  489436     21754             HOME BUILDING BLOCK WORD         3   \n",
              "15  489436     84879        ASSORTED COLOUR BIRD ORNAMENT        16   \n",
              "16  489436     22119           PEACE WOODEN BLOCK LETTERS         3   \n",
              "17  489436     22142         CHRISTMAS CRAFT WHITE FAIRY         12   \n",
              "18  489436     22296            HEART IVORY TRELLIS LARGE        12   \n",
              "19  489436     22295            HEART FILIGREE DOVE LARGE        12   \n",
              "\n",
              "           InvoiceDate  Price  Customer ID         Country  \n",
              "0  2009-12-01 07:45:00   6.95      13085.0  United Kingdom  \n",
              "1  2009-12-01 07:45:00   6.75      13085.0  United Kingdom  \n",
              "2  2009-12-01 07:45:00   6.75      13085.0  United Kingdom  \n",
              "3  2009-12-01 07:45:00   2.10      13085.0  United Kingdom  \n",
              "4  2009-12-01 07:45:00   1.25      13085.0  United Kingdom  \n",
              "5  2009-12-01 07:45:00   1.65      13085.0  United Kingdom  \n",
              "6  2009-12-01 07:45:00   1.25      13085.0  United Kingdom  \n",
              "7  2009-12-01 07:45:00   5.95      13085.0  United Kingdom  \n",
              "8  2009-12-01 07:46:00   2.55      13085.0  United Kingdom  \n",
              "9  2009-12-01 07:46:00   3.75      13085.0  United Kingdom  \n",
              "10 2009-12-01 07:46:00   1.65      13085.0  United Kingdom  \n",
              "11 2009-12-01 07:46:00   2.55      13085.0  United Kingdom  \n",
              "12 2009-12-01 09:06:00   5.95      13078.0  United Kingdom  \n",
              "13 2009-12-01 09:06:00   5.45      13078.0  United Kingdom  \n",
              "14 2009-12-01 09:06:00   5.95      13078.0  United Kingdom  \n",
              "15 2009-12-01 09:06:00   1.69      13078.0  United Kingdom  \n",
              "16 2009-12-01 09:06:00   6.95      13078.0  United Kingdom  \n",
              "17 2009-12-01 09:06:00   1.45      13078.0  United Kingdom  \n",
              "18 2009-12-01 09:06:00   1.65      13078.0  United Kingdom  \n",
              "19 2009-12-01 09:06:00   1.65      13078.0  United Kingdom  "
            ]
          },
          "execution_count": 6,
          "metadata": {},
          "output_type": "execute_result"
        }
      ],
      "source": [
        "retail.head(20)"
      ]
    },
    {
      "cell_type": "markdown",
      "metadata": {
        "id": "V2mJEeBpJE0j"
      },
      "source": [
        "Amazon Forecast has schemas for domains such as retail. Review the schema information at [RETAIL Domain](https://docs.aws.amazon.com/forecast/latest/dg/retail-domain.html) in the AWS Documentation.\n",
        "\n",
        "The target time series is the historical time series data for each item or product that's sold by the retail organization. The following fields are required:\n",
        "\n",
        "- **item_id** (string) – A unique identifier for the item or product that you want to predict the demand for.\n",
        "- **timestamp** (timestamp)\n",
        "- **demand** (float) – The number of sales for that item at the timestamp. It's also the target field that Amazon Forecast generates a forecast for.\n",
        "\n"
      ]
    },
    {
      "cell_type": "markdown",
      "metadata": {
        "id": "rr-k6W_lJE0k"
      },
      "source": [
        "If you examine the previous data, there are certain columns that you don't need for your investigation. You can drop these columns. The columns you can drop are **Invoice**, **Description**, and **Customer ID**. \n",
        "\n",
        "**Note:** It's possible that items in the same order (as shown by the **Invoice** column) could have a correlation that impacts the model. For this lab, you will ignore this possibility.\n",
        "\n",
        "Drop the columns that you don't need."
      ]
    },
    {
      "cell_type": "code",
      "execution_count": null,
      "metadata": {
        "id": "0Sx25G_OJE0l"
      },
      "outputs": [],
      "source": [
        "retail = retail[['StockCode','Quantity','Price','Country','InvoiceDate']]"
      ]
    },
    {
      "cell_type": "markdown",
      "metadata": {
        "id": "ClGBEfnkJE0m"
      },
      "source": [
        "The **InvoiceDate** column is your datetime data. You can inform pandas of this by using the `to_datetime` function. You can explore the data by time by setting the index of the DataFrame to the **InvoiceDate** column."
      ]
    },
    {
      "cell_type": "code",
      "execution_count": null,
      "metadata": {
        "id": "senOBcnVJE0n"
      },
      "outputs": [],
      "source": [
        "retail['InvoiceDate'] = pd.to_datetime(retail.InvoiceDate)\n",
        "retail = retail.set_index('InvoiceDate')"
      ]
    },
    {
      "cell_type": "markdown",
      "metadata": {
        "id": "cnMt-ncRJE0p"
      },
      "source": [
        "You will now examine the updated DataFrame.\n",
        "\n",
        "The number of rows and columns are:"
      ]
    },
    {
      "cell_type": "code",
      "execution_count": null,
      "metadata": {
        "id": "O6hIACQSJE0p",
        "outputId": "7ebc7b82-e45d-44af-af9c-df48a445ac64"
      },
      "outputs": [
        {
          "data": {
            "text/plain": [
              "(417534, 4)"
            ]
          },
          "execution_count": 9,
          "metadata": {},
          "output_type": "execute_result"
        }
      ],
      "source": [
        "retail.shape"
      ]
    },
    {
      "cell_type": "markdown",
      "metadata": {
        "id": "XijNVlKWJE0r"
      },
      "source": [
        "The new data looks like this example:"
      ]
    },
    {
      "cell_type": "code",
      "execution_count": null,
      "metadata": {
        "id": "iXZksurBJE0r",
        "outputId": "4cee3d89-4262-4545-e642-5170b516d83e"
      },
      "outputs": [
        {
          "data": {
            "text/html": [
              "<div>\n",
              "<style scoped>\n",
              "    .dataframe tbody tr th:only-of-type {\n",
              "        vertical-align: middle;\n",
              "    }\n",
              "\n",
              "    .dataframe tbody tr th {\n",
              "        vertical-align: top;\n",
              "    }\n",
              "\n",
              "    .dataframe thead th {\n",
              "        text-align: right;\n",
              "    }\n",
              "</style>\n",
              "<table border=\"1\" class=\"dataframe\">\n",
              "  <thead>\n",
              "    <tr style=\"text-align: right;\">\n",
              "      <th></th>\n",
              "      <th>StockCode</th>\n",
              "      <th>Quantity</th>\n",
              "      <th>Price</th>\n",
              "      <th>Country</th>\n",
              "    </tr>\n",
              "    <tr>\n",
              "      <th>InvoiceDate</th>\n",
              "      <th></th>\n",
              "      <th></th>\n",
              "      <th></th>\n",
              "      <th></th>\n",
              "    </tr>\n",
              "  </thead>\n",
              "  <tbody>\n",
              "    <tr>\n",
              "      <th>2009-12-01 07:45:00</th>\n",
              "      <td>85048</td>\n",
              "      <td>12</td>\n",
              "      <td>6.95</td>\n",
              "      <td>United Kingdom</td>\n",
              "    </tr>\n",
              "    <tr>\n",
              "      <th>2009-12-01 07:45:00</th>\n",
              "      <td>79323P</td>\n",
              "      <td>12</td>\n",
              "      <td>6.75</td>\n",
              "      <td>United Kingdom</td>\n",
              "    </tr>\n",
              "    <tr>\n",
              "      <th>2009-12-01 07:45:00</th>\n",
              "      <td>79323W</td>\n",
              "      <td>12</td>\n",
              "      <td>6.75</td>\n",
              "      <td>United Kingdom</td>\n",
              "    </tr>\n",
              "    <tr>\n",
              "      <th>2009-12-01 07:45:00</th>\n",
              "      <td>22041</td>\n",
              "      <td>48</td>\n",
              "      <td>2.10</td>\n",
              "      <td>United Kingdom</td>\n",
              "    </tr>\n",
              "    <tr>\n",
              "      <th>2009-12-01 07:45:00</th>\n",
              "      <td>21232</td>\n",
              "      <td>24</td>\n",
              "      <td>1.25</td>\n",
              "      <td>United Kingdom</td>\n",
              "    </tr>\n",
              "  </tbody>\n",
              "</table>\n",
              "</div>"
            ],
            "text/plain": [
              "                    StockCode  Quantity  Price         Country\n",
              "InvoiceDate                                                   \n",
              "2009-12-01 07:45:00     85048        12   6.95  United Kingdom\n",
              "2009-12-01 07:45:00    79323P        12   6.75  United Kingdom\n",
              "2009-12-01 07:45:00    79323W        12   6.75  United Kingdom\n",
              "2009-12-01 07:45:00     22041        48   2.10  United Kingdom\n",
              "2009-12-01 07:45:00     21232        24   1.25  United Kingdom"
            ]
          },
          "execution_count": 10,
          "metadata": {},
          "output_type": "execute_result"
        }
      ],
      "source": [
        "retail.head()"
      ]
    },
    {
      "cell_type": "markdown",
      "metadata": {
        "id": "bZPleD4CJE0s"
      },
      "source": [
        "Note that **InvoiceDate** is the index, and it's shown in the first column."
      ]
    },
    {
      "cell_type": "markdown",
      "metadata": {
        "id": "jGzIrA-KJE0t"
      },
      "source": [
        "Because you set the index to your datetime data, you can use it to select data.\n",
        "\n",
        "To select all the rows from a specific date, use the date in the index."
      ]
    },
    {
      "cell_type": "code",
      "execution_count": null,
      "metadata": {
        "id": "o96HGEOhJE0u",
        "outputId": "4fb9b053-e4bf-4242-b83d-564b915bd6f3"
      },
      "outputs": [
        {
          "data": {
            "text/html": [
              "<div>\n",
              "<style scoped>\n",
              "    .dataframe tbody tr th:only-of-type {\n",
              "        vertical-align: middle;\n",
              "    }\n",
              "\n",
              "    .dataframe tbody tr th {\n",
              "        vertical-align: top;\n",
              "    }\n",
              "\n",
              "    .dataframe thead th {\n",
              "        text-align: right;\n",
              "    }\n",
              "</style>\n",
              "<table border=\"1\" class=\"dataframe\">\n",
              "  <thead>\n",
              "    <tr style=\"text-align: right;\">\n",
              "      <th></th>\n",
              "      <th>StockCode</th>\n",
              "      <th>Quantity</th>\n",
              "      <th>Price</th>\n",
              "      <th>Country</th>\n",
              "    </tr>\n",
              "    <tr>\n",
              "      <th>InvoiceDate</th>\n",
              "      <th></th>\n",
              "      <th></th>\n",
              "      <th></th>\n",
              "      <th></th>\n",
              "    </tr>\n",
              "  </thead>\n",
              "  <tbody>\n",
              "    <tr>\n",
              "      <th>2010-01-04 09:24:00</th>\n",
              "      <td>TEST001</td>\n",
              "      <td>5</td>\n",
              "      <td>4.50</td>\n",
              "      <td>United Kingdom</td>\n",
              "    </tr>\n",
              "    <tr>\n",
              "      <th>2010-01-04 09:43:00</th>\n",
              "      <td>21539</td>\n",
              "      <td>-1</td>\n",
              "      <td>4.25</td>\n",
              "      <td>United Kingdom</td>\n",
              "    </tr>\n",
              "    <tr>\n",
              "      <th>2010-01-04 09:53:00</th>\n",
              "      <td>TEST001</td>\n",
              "      <td>5</td>\n",
              "      <td>4.50</td>\n",
              "      <td>United Kingdom</td>\n",
              "    </tr>\n",
              "    <tr>\n",
              "      <th>2010-01-04 10:28:00</th>\n",
              "      <td>21844</td>\n",
              "      <td>36</td>\n",
              "      <td>2.55</td>\n",
              "      <td>United Kingdom</td>\n",
              "    </tr>\n",
              "    <tr>\n",
              "      <th>2010-01-04 10:28:00</th>\n",
              "      <td>21533</td>\n",
              "      <td>12</td>\n",
              "      <td>4.25</td>\n",
              "      <td>United Kingdom</td>\n",
              "    </tr>\n",
              "    <tr>\n",
              "      <th>...</th>\n",
              "      <td>...</td>\n",
              "      <td>...</td>\n",
              "      <td>...</td>\n",
              "      <td>...</td>\n",
              "    </tr>\n",
              "    <tr>\n",
              "      <th>2010-01-04 17:39:00</th>\n",
              "      <td>90214G</td>\n",
              "      <td>1</td>\n",
              "      <td>1.25</td>\n",
              "      <td>United Kingdom</td>\n",
              "    </tr>\n",
              "    <tr>\n",
              "      <th>2010-01-04 17:39:00</th>\n",
              "      <td>90214N</td>\n",
              "      <td>1</td>\n",
              "      <td>1.25</td>\n",
              "      <td>United Kingdom</td>\n",
              "    </tr>\n",
              "    <tr>\n",
              "      <th>2010-01-04 17:39:00</th>\n",
              "      <td>90214N</td>\n",
              "      <td>1</td>\n",
              "      <td>1.25</td>\n",
              "      <td>United Kingdom</td>\n",
              "    </tr>\n",
              "    <tr>\n",
              "      <th>2010-01-04 17:39:00</th>\n",
              "      <td>90214C</td>\n",
              "      <td>1</td>\n",
              "      <td>1.25</td>\n",
              "      <td>United Kingdom</td>\n",
              "    </tr>\n",
              "    <tr>\n",
              "      <th>2010-01-04 17:39:00</th>\n",
              "      <td>21690</td>\n",
              "      <td>2</td>\n",
              "      <td>3.75</td>\n",
              "      <td>United Kingdom</td>\n",
              "    </tr>\n",
              "  </tbody>\n",
              "</table>\n",
              "<p>633 rows × 4 columns</p>\n",
              "</div>"
            ],
            "text/plain": [
              "                    StockCode  Quantity  Price         Country\n",
              "InvoiceDate                                                   \n",
              "2010-01-04 09:24:00   TEST001         5   4.50  United Kingdom\n",
              "2010-01-04 09:43:00     21539        -1   4.25  United Kingdom\n",
              "2010-01-04 09:53:00   TEST001         5   4.50  United Kingdom\n",
              "2010-01-04 10:28:00     21844        36   2.55  United Kingdom\n",
              "2010-01-04 10:28:00     21533        12   4.25  United Kingdom\n",
              "...                       ...       ...    ...             ...\n",
              "2010-01-04 17:39:00    90214G         1   1.25  United Kingdom\n",
              "2010-01-04 17:39:00    90214N         1   1.25  United Kingdom\n",
              "2010-01-04 17:39:00    90214N         1   1.25  United Kingdom\n",
              "2010-01-04 17:39:00    90214C         1   1.25  United Kingdom\n",
              "2010-01-04 17:39:00     21690         2   3.75  United Kingdom\n",
              "\n",
              "[633 rows x 4 columns]"
            ]
          },
          "execution_count": 11,
          "metadata": {},
          "output_type": "execute_result"
        }
      ],
      "source": [
        "retail['2010-01-04']"
      ]
    },
    {
      "cell_type": "markdown",
      "metadata": {
        "id": "HYn1XzQrJE0v"
      },
      "source": [
        "You can use parts of a date, and date ranges. To view the **Jan** and **Feb** rows:"
      ]
    },
    {
      "cell_type": "code",
      "execution_count": null,
      "metadata": {
        "id": "NWghgUHaJE0v",
        "outputId": "7564157f-958d-43ab-a50a-2b6f98855d20"
      },
      "outputs": [
        {
          "data": {
            "text/html": [
              "<div>\n",
              "<style scoped>\n",
              "    .dataframe tbody tr th:only-of-type {\n",
              "        vertical-align: middle;\n",
              "    }\n",
              "\n",
              "    .dataframe tbody tr th {\n",
              "        vertical-align: top;\n",
              "    }\n",
              "\n",
              "    .dataframe thead th {\n",
              "        text-align: right;\n",
              "    }\n",
              "</style>\n",
              "<table border=\"1\" class=\"dataframe\">\n",
              "  <thead>\n",
              "    <tr style=\"text-align: right;\">\n",
              "      <th></th>\n",
              "      <th>StockCode</th>\n",
              "      <th>Quantity</th>\n",
              "      <th>Price</th>\n",
              "      <th>Country</th>\n",
              "    </tr>\n",
              "    <tr>\n",
              "      <th>InvoiceDate</th>\n",
              "      <th></th>\n",
              "      <th></th>\n",
              "      <th></th>\n",
              "      <th></th>\n",
              "    </tr>\n",
              "  </thead>\n",
              "  <tbody>\n",
              "    <tr>\n",
              "      <th>2010-01-04 09:24:00</th>\n",
              "      <td>TEST001</td>\n",
              "      <td>5</td>\n",
              "      <td>4.50</td>\n",
              "      <td>United Kingdom</td>\n",
              "    </tr>\n",
              "    <tr>\n",
              "      <th>2010-01-04 09:43:00</th>\n",
              "      <td>21539</td>\n",
              "      <td>-1</td>\n",
              "      <td>4.25</td>\n",
              "      <td>United Kingdom</td>\n",
              "    </tr>\n",
              "    <tr>\n",
              "      <th>2010-01-04 09:53:00</th>\n",
              "      <td>TEST001</td>\n",
              "      <td>5</td>\n",
              "      <td>4.50</td>\n",
              "      <td>United Kingdom</td>\n",
              "    </tr>\n",
              "    <tr>\n",
              "      <th>2010-01-04 10:28:00</th>\n",
              "      <td>21844</td>\n",
              "      <td>36</td>\n",
              "      <td>2.55</td>\n",
              "      <td>United Kingdom</td>\n",
              "    </tr>\n",
              "    <tr>\n",
              "      <th>2010-01-04 10:28:00</th>\n",
              "      <td>21533</td>\n",
              "      <td>12</td>\n",
              "      <td>4.25</td>\n",
              "      <td>United Kingdom</td>\n",
              "    </tr>\n",
              "    <tr>\n",
              "      <th>...</th>\n",
              "      <td>...</td>\n",
              "      <td>...</td>\n",
              "      <td>...</td>\n",
              "      <td>...</td>\n",
              "    </tr>\n",
              "    <tr>\n",
              "      <th>2010-02-28 16:14:00</th>\n",
              "      <td>84279B</td>\n",
              "      <td>1</td>\n",
              "      <td>3.75</td>\n",
              "      <td>United Kingdom</td>\n",
              "    </tr>\n",
              "    <tr>\n",
              "      <th>2010-02-28 16:14:00</th>\n",
              "      <td>84882</td>\n",
              "      <td>1</td>\n",
              "      <td>3.75</td>\n",
              "      <td>United Kingdom</td>\n",
              "    </tr>\n",
              "    <tr>\n",
              "      <th>2010-02-28 16:14:00</th>\n",
              "      <td>84882</td>\n",
              "      <td>1</td>\n",
              "      <td>3.75</td>\n",
              "      <td>United Kingdom</td>\n",
              "    </tr>\n",
              "    <tr>\n",
              "      <th>2010-02-28 16:14:00</th>\n",
              "      <td>44242B</td>\n",
              "      <td>5</td>\n",
              "      <td>1.25</td>\n",
              "      <td>United Kingdom</td>\n",
              "    </tr>\n",
              "    <tr>\n",
              "      <th>2010-02-28 16:16:00</th>\n",
              "      <td>10133</td>\n",
              "      <td>40</td>\n",
              "      <td>0.85</td>\n",
              "      <td>United Kingdom</td>\n",
              "    </tr>\n",
              "  </tbody>\n",
              "</table>\n",
              "<p>46345 rows × 4 columns</p>\n",
              "</div>"
            ],
            "text/plain": [
              "                    StockCode  Quantity  Price         Country\n",
              "InvoiceDate                                                   \n",
              "2010-01-04 09:24:00   TEST001         5   4.50  United Kingdom\n",
              "2010-01-04 09:43:00     21539        -1   4.25  United Kingdom\n",
              "2010-01-04 09:53:00   TEST001         5   4.50  United Kingdom\n",
              "2010-01-04 10:28:00     21844        36   2.55  United Kingdom\n",
              "2010-01-04 10:28:00     21533        12   4.25  United Kingdom\n",
              "...                       ...       ...    ...             ...\n",
              "2010-02-28 16:14:00    84279B         1   3.75  United Kingdom\n",
              "2010-02-28 16:14:00     84882         1   3.75  United Kingdom\n",
              "2010-02-28 16:14:00     84882         1   3.75  United Kingdom\n",
              "2010-02-28 16:14:00    44242B         5   1.25  United Kingdom\n",
              "2010-02-28 16:16:00     10133        40   0.85  United Kingdom\n",
              "\n",
              "[46345 rows x 4 columns]"
            ]
          },
          "execution_count": 12,
          "metadata": {},
          "output_type": "execute_result"
        }
      ],
      "source": [
        "retail['2010-01':'2010-02']"
      ]
    },
    {
      "cell_type": "markdown",
      "metadata": {
        "id": "8bdchGyuJE0w"
      },
      "source": [
        "The date range starts at:"
      ]
    },
    {
      "cell_type": "code",
      "execution_count": null,
      "metadata": {
        "id": "7xxBB3QXJE0y",
        "outputId": "4c1cd0c0-4185-4fe2-f6c6-32fc2990e6e5"
      },
      "outputs": [
        {
          "data": {
            "text/plain": [
              "Timestamp('2009-12-01 07:45:00')"
            ]
          },
          "execution_count": 13,
          "metadata": {},
          "output_type": "execute_result"
        }
      ],
      "source": [
        "retail.index.min()"
      ]
    },
    {
      "cell_type": "markdown",
      "metadata": {
        "id": "eFuyILSZJE0z"
      },
      "source": [
        "The date range ends at:"
      ]
    },
    {
      "cell_type": "code",
      "execution_count": null,
      "metadata": {
        "id": "NV44RzihJE0z",
        "outputId": "82650ce3-55fb-4d02-ef89-acb5c4948ba4"
      },
      "outputs": [
        {
          "data": {
            "text/plain": [
              "Timestamp('2010-12-09 20:01:00')"
            ]
          },
          "execution_count": 14,
          "metadata": {},
          "output_type": "execute_result"
        }
      ],
      "source": [
        "retail.index.max()"
      ]
    },
    {
      "cell_type": "markdown",
      "metadata": {
        "id": "Pv8JuBGYJE00"
      },
      "source": [
        "With pandas, you can extract date information easily. You might extract date information to explore the data further and look for time-related trends.\n",
        "\n",
        "Extract the year, month, and day of the week."
      ]
    },
    {
      "cell_type": "code",
      "execution_count": null,
      "metadata": {
        "id": "VUDhV3eLJE00"
      },
      "outputs": [],
      "source": [
        "retail['Year'] = retail.index.year\n",
        "retail['Month'] = retail.index.month\n",
        "retail['weekday_name'] = retail.index.day_name()"
      ]
    },
    {
      "cell_type": "code",
      "execution_count": null,
      "metadata": {
        "id": "ca2lEngyJE01",
        "outputId": "f86574fe-e1d5-48e9-e7eb-36aa9dee847c"
      },
      "outputs": [
        {
          "data": {
            "text/html": [
              "<div>\n",
              "<style scoped>\n",
              "    .dataframe tbody tr th:only-of-type {\n",
              "        vertical-align: middle;\n",
              "    }\n",
              "\n",
              "    .dataframe tbody tr th {\n",
              "        vertical-align: top;\n",
              "    }\n",
              "\n",
              "    .dataframe thead th {\n",
              "        text-align: right;\n",
              "    }\n",
              "</style>\n",
              "<table border=\"1\" class=\"dataframe\">\n",
              "  <thead>\n",
              "    <tr style=\"text-align: right;\">\n",
              "      <th></th>\n",
              "      <th>StockCode</th>\n",
              "      <th>Quantity</th>\n",
              "      <th>Price</th>\n",
              "      <th>Country</th>\n",
              "      <th>Year</th>\n",
              "      <th>Month</th>\n",
              "      <th>weekday_name</th>\n",
              "    </tr>\n",
              "    <tr>\n",
              "      <th>InvoiceDate</th>\n",
              "      <th></th>\n",
              "      <th></th>\n",
              "      <th></th>\n",
              "      <th></th>\n",
              "      <th></th>\n",
              "      <th></th>\n",
              "      <th></th>\n",
              "    </tr>\n",
              "  </thead>\n",
              "  <tbody>\n",
              "    <tr>\n",
              "      <th>2009-12-01 07:45:00</th>\n",
              "      <td>85048</td>\n",
              "      <td>12</td>\n",
              "      <td>6.95</td>\n",
              "      <td>United Kingdom</td>\n",
              "      <td>2009</td>\n",
              "      <td>12</td>\n",
              "      <td>Tuesday</td>\n",
              "    </tr>\n",
              "    <tr>\n",
              "      <th>2009-12-01 07:45:00</th>\n",
              "      <td>79323P</td>\n",
              "      <td>12</td>\n",
              "      <td>6.75</td>\n",
              "      <td>United Kingdom</td>\n",
              "      <td>2009</td>\n",
              "      <td>12</td>\n",
              "      <td>Tuesday</td>\n",
              "    </tr>\n",
              "    <tr>\n",
              "      <th>2009-12-01 07:45:00</th>\n",
              "      <td>79323W</td>\n",
              "      <td>12</td>\n",
              "      <td>6.75</td>\n",
              "      <td>United Kingdom</td>\n",
              "      <td>2009</td>\n",
              "      <td>12</td>\n",
              "      <td>Tuesday</td>\n",
              "    </tr>\n",
              "    <tr>\n",
              "      <th>2009-12-01 07:45:00</th>\n",
              "      <td>22041</td>\n",
              "      <td>48</td>\n",
              "      <td>2.10</td>\n",
              "      <td>United Kingdom</td>\n",
              "      <td>2009</td>\n",
              "      <td>12</td>\n",
              "      <td>Tuesday</td>\n",
              "    </tr>\n",
              "    <tr>\n",
              "      <th>2009-12-01 07:45:00</th>\n",
              "      <td>21232</td>\n",
              "      <td>24</td>\n",
              "      <td>1.25</td>\n",
              "      <td>United Kingdom</td>\n",
              "      <td>2009</td>\n",
              "      <td>12</td>\n",
              "      <td>Tuesday</td>\n",
              "    </tr>\n",
              "  </tbody>\n",
              "</table>\n",
              "</div>"
            ],
            "text/plain": [
              "                    StockCode  Quantity  Price         Country  Year  Month  \\\n",
              "InvoiceDate                                                                   \n",
              "2009-12-01 07:45:00     85048        12   6.95  United Kingdom  2009     12   \n",
              "2009-12-01 07:45:00    79323P        12   6.75  United Kingdom  2009     12   \n",
              "2009-12-01 07:45:00    79323W        12   6.75  United Kingdom  2009     12   \n",
              "2009-12-01 07:45:00     22041        48   2.10  United Kingdom  2009     12   \n",
              "2009-12-01 07:45:00     21232        24   1.25  United Kingdom  2009     12   \n",
              "\n",
              "                    weekday_name  \n",
              "InvoiceDate                       \n",
              "2009-12-01 07:45:00      Tuesday  \n",
              "2009-12-01 07:45:00      Tuesday  \n",
              "2009-12-01 07:45:00      Tuesday  \n",
              "2009-12-01 07:45:00      Tuesday  \n",
              "2009-12-01 07:45:00      Tuesday  "
            ]
          },
          "execution_count": 16,
          "metadata": {},
          "output_type": "execute_result"
        }
      ],
      "source": [
        "retail.head()"
      ]
    },
    {
      "cell_type": "markdown",
      "metadata": {
        "id": "KM2cp_cdJE02"
      },
      "source": [
        "The dataset that you now have includes purchases made between December 2009 and December 2010. It's reasonable to assume there would be some seasonality in this data. You will now investigate whether there is seasonality."
      ]
    },
    {
      "cell_type": "code",
      "execution_count": null,
      "metadata": {
        "id": "Lk1eWnuMJE02",
        "outputId": "372ac65d-f57e-42dd-9b19-7fb4ea2c761f"
      },
      "outputs": [
        {
          "data": {
            "text/plain": [
              "<AxesSubplot:>"
            ]
          },
          "execution_count": 17,
          "metadata": {},
          "output_type": "execute_result"
        },
        {
          "data": {
            "image/png": "[encoded data removed]",
            "text/plain": [
              "<Figure size 432x288 with 1 Axes>"
            ]
          },
          "metadata": {
            "needs_background": "light"
          },
          "output_type": "display_data"
        }
      ],
      "source": [
        "retail.Month.value_counts(sort=False).plot(kind='bar')"
      ]
    },
    {
      "cell_type": "markdown",
      "metadata": {
        "id": "XbKeNwbdJE03"
      },
      "source": [
        "From the chart, you could deduce some seasonality:\n",
        "\n",
        "1. November and December seem to be higher than the rest of the year.\n",
        "\n",
        "2. Q4 seems to be higher than other quarters.\n",
        "\n",
        "3. For Q1, Q2, and Q3: The last month of the quarter (months 3, 6, and 9) seem to have spikes.\n",
        "\n",
        "Do you notice any other seasonal patterns?"
      ]
    },
    {
      "cell_type": "markdown",
      "metadata": {
        "id": "K74XevjxJE03"
      },
      "source": [
        "Now, investigate whether there is any seasonality during the week."
      ]
    },
    {
      "cell_type": "code",
      "execution_count": null,
      "metadata": {
        "id": "MvJ-BHQMJE04",
        "outputId": "3bad6216-07de-461b-a735-08e40524121f"
      },
      "outputs": [
        {
          "data": {
            "text/plain": [
              "<AxesSubplot:>"
            ]
          },
          "execution_count": 18,
          "metadata": {},
          "output_type": "execute_result"
        },
        {
          "data": {
            "image/png": "[encoded data removed]",
            "text/plain": [
              "<Figure size 432x288 with 1 Axes>"
            ]
          },
          "metadata": {
            "needs_background": "light"
          },
          "output_type": "display_data"
        }
      ],
      "source": [
        "day_order = [\"Monday\", \"Tuesday\", \"Wednesday\", \"Thursday\", \"Friday\", \"Saturday\", \"Sunday\"]\n",
        "retail.weekday_name.value_counts(sort=False).loc[day_order].plot(kind='bar')"
      ]
    },
    {
      "cell_type": "markdown",
      "metadata": {
        "id": "NqAFkH3AJE04"
      },
      "source": [
        "Saturday shows very few orders. Why might this be the case?"
      ]
    },
    {
      "cell_type": "markdown",
      "metadata": {
        "id": "p_VqLfbgJE04"
      },
      "source": [
        "## Task 3: Cleaning and reducing the size of the data"
      ]
    },
    {
      "cell_type": "markdown",
      "metadata": {
        "id": "L98tGgdCJE05"
      },
      "source": [
        "In this task, you will reduce the size of the data. You will also remove any anomalies, such as negative prices, outliers, and country data."
      ]
    },
    {
      "cell_type": "markdown",
      "metadata": {
        "id": "AirYuzHAJE05"
      },
      "source": [
        "### Reducing the countries\n",
        "Examine the **Country** data."
      ]
    },
    {
      "cell_type": "code",
      "execution_count": null,
      "metadata": {
        "id": "jXp955iMJE05",
        "outputId": "746322d4-b09e-4338-a3ea-83fa9e99ac26"
      },
      "outputs": [
        {
          "data": {
            "text/plain": [
              "array(['United Kingdom', 'France', 'USA', 'Belgium', 'Australia', 'EIRE',\n",
              "       'Germany', 'Portugal', 'Japan', 'Denmark', 'Netherlands', 'Poland',\n",
              "       'Spain', 'Channel Islands', 'Italy', 'Cyprus', 'Greece', 'Norway',\n",
              "       'Austria', 'Sweden', 'United Arab Emirates', 'Finland',\n",
              "       'Switzerland', 'Unspecified', 'Nigeria', 'Malta', 'RSA',\n",
              "       'Singapore', 'Bahrain', 'Thailand', 'Israel', 'Lithuania',\n",
              "       'West Indies', 'Korea', 'Brazil', 'Canada', 'Iceland'],\n",
              "      dtype=object)"
            ]
          },
          "execution_count": 19,
          "metadata": {},
          "output_type": "execute_result"
        }
      ],
      "source": [
        "retail.Country.unique()"
      ]
    },
    {
      "cell_type": "code",
      "execution_count": null,
      "metadata": {
        "id": "RRHgTGHmJE06",
        "outputId": "8be70ddb-ee58-4615-d098-3ec39c76459e"
      },
      "outputs": [
        {
          "data": {
            "text/plain": [
              "United Kingdom          379423\n",
              "EIRE                      8710\n",
              "Germany                   8129\n",
              "France                    5710\n",
              "Netherlands               2769\n",
              "Spain                     1278\n",
              "Switzerland               1187\n",
              "Belgium                   1054\n",
              "Portugal                  1024\n",
              "Channel Islands            906\n",
              "Sweden                     883\n",
              "Italy                      731\n",
              "Australia                  654\n",
              "Cyprus                     554\n",
              "Austria                    537\n",
              "Greece                     517\n",
              "Denmark                    428\n",
              "Norway                     369\n",
              "Finland                    354\n",
              "United Arab Emirates       318\n",
              "Unspecified                280\n",
              "USA                        244\n",
              "Japan                      224\n",
              "Poland                     194\n",
              "Malta                      172\n",
              "Lithuania                  154\n",
              "Singapore                  117\n",
              "Canada                      77\n",
              "Thailand                    76\n",
              "Israel                      74\n",
              "Iceland                     71\n",
              "RSA                         65\n",
              "Korea                       63\n",
              "Brazil                      62\n",
              "West Indies                 54\n",
              "Bahrain                     42\n",
              "Nigeria                     30\n",
              "Name: Country, dtype: int64"
            ]
          },
          "execution_count": 20,
          "metadata": {},
          "output_type": "execute_result"
        }
      ],
      "source": [
        "retail.Country.value_counts()"
      ]
    },
    {
      "cell_type": "markdown",
      "metadata": {
        "id": "VoBO0EuyJE06"
      },
      "source": [
        "Most of the data seems to be for the United Kingdom. To make your job easier, filter the data by *United Kingdom*."
      ]
    },
    {
      "cell_type": "code",
      "execution_count": null,
      "metadata": {
        "id": "hNV_fZT_JE07"
      },
      "outputs": [],
      "source": [
        "country_filter = ['United Kingdom']\n",
        "retail = retail[retail.Country.isin(country_filter)]"
      ]
    },
    {
      "cell_type": "markdown",
      "metadata": {
        "id": "DUC4b5xVJE07"
      },
      "source": [
        "Because the **Country** column only contains the same value, you can drop it."
      ]
    },
    {
      "cell_type": "code",
      "execution_count": null,
      "metadata": {
        "id": "dwjbveiqJE07"
      },
      "outputs": [],
      "source": [
        "retail = retail[['StockCode','Quantity','Price']]"
      ]
    },
    {
      "cell_type": "code",
      "execution_count": null,
      "metadata": {
        "id": "p_n3fQ2DJE08",
        "outputId": "f430fdc4-4d7f-4788-c40f-b00cdb14ed3e"
      },
      "outputs": [
        {
          "data": {
            "text/html": [
              "<div>\n",
              "<style scoped>\n",
              "    .dataframe tbody tr th:only-of-type {\n",
              "        vertical-align: middle;\n",
              "    }\n",
              "\n",
              "    .dataframe tbody tr th {\n",
              "        vertical-align: top;\n",
              "    }\n",
              "\n",
              "    .dataframe thead th {\n",
              "        text-align: right;\n",
              "    }\n",
              "</style>\n",
              "<table border=\"1\" class=\"dataframe\">\n",
              "  <thead>\n",
              "    <tr style=\"text-align: right;\">\n",
              "      <th></th>\n",
              "      <th>StockCode</th>\n",
              "      <th>Quantity</th>\n",
              "      <th>Price</th>\n",
              "    </tr>\n",
              "    <tr>\n",
              "      <th>InvoiceDate</th>\n",
              "      <th></th>\n",
              "      <th></th>\n",
              "      <th></th>\n",
              "    </tr>\n",
              "  </thead>\n",
              "  <tbody>\n",
              "    <tr>\n",
              "      <th>2009-12-01 07:45:00</th>\n",
              "      <td>85048</td>\n",
              "      <td>12</td>\n",
              "      <td>6.95</td>\n",
              "    </tr>\n",
              "    <tr>\n",
              "      <th>2009-12-01 07:45:00</th>\n",
              "      <td>79323P</td>\n",
              "      <td>12</td>\n",
              "      <td>6.75</td>\n",
              "    </tr>\n",
              "    <tr>\n",
              "      <th>2009-12-01 07:45:00</th>\n",
              "      <td>79323W</td>\n",
              "      <td>12</td>\n",
              "      <td>6.75</td>\n",
              "    </tr>\n",
              "    <tr>\n",
              "      <th>2009-12-01 07:45:00</th>\n",
              "      <td>22041</td>\n",
              "      <td>48</td>\n",
              "      <td>2.10</td>\n",
              "    </tr>\n",
              "    <tr>\n",
              "      <th>2009-12-01 07:45:00</th>\n",
              "      <td>21232</td>\n",
              "      <td>24</td>\n",
              "      <td>1.25</td>\n",
              "    </tr>\n",
              "  </tbody>\n",
              "</table>\n",
              "</div>"
            ],
            "text/plain": [
              "                    StockCode  Quantity  Price\n",
              "InvoiceDate                                   \n",
              "2009-12-01 07:45:00     85048        12   6.95\n",
              "2009-12-01 07:45:00    79323P        12   6.75\n",
              "2009-12-01 07:45:00    79323W        12   6.75\n",
              "2009-12-01 07:45:00     22041        48   2.10\n",
              "2009-12-01 07:45:00     21232        24   1.25"
            ]
          },
          "execution_count": 23,
          "metadata": {},
          "output_type": "execute_result"
        }
      ],
      "source": [
        "retail.head()"
      ]
    },
    {
      "cell_type": "markdown",
      "metadata": {
        "id": "Ydi7EIKqJE08"
      },
      "source": [
        "### Examining StockCode and removing anomalies\n",
        "\n",
        "Examine the distribution of the **StockCode** column:"
      ]
    },
    {
      "cell_type": "code",
      "execution_count": null,
      "metadata": {
        "id": "mxkhtJ52JE08",
        "outputId": "4da3abb2-c1de-4ab8-df9f-3e9a4255593c"
      },
      "outputs": [
        {
          "data": {
            "text/plain": [
              "count     379423\n",
              "unique      4015\n",
              "top       85123A\n",
              "freq        3140\n",
              "Name: StockCode, dtype: object"
            ]
          },
          "execution_count": 24,
          "metadata": {},
          "output_type": "execute_result"
        }
      ],
      "source": [
        "retail.StockCode.describe()"
      ]
    },
    {
      "cell_type": "markdown",
      "metadata": {
        "id": "ri_eQG14JE09"
      },
      "source": [
        "There are 4,015 unique values for **StockCode**. A quick plot of the counts might give you some insight into how the values are distributed."
      ]
    },
    {
      "cell_type": "code",
      "execution_count": null,
      "metadata": {
        "id": "mMFxG4jRJE09",
        "outputId": "e62bcda0-2cf6-4aa9-b42f-3da5a8fe768a"
      },
      "outputs": [
        {
          "data": {
            "text/plain": [
              "<AxesSubplot:>"
            ]
          },
          "execution_count": 25,
          "metadata": {},
          "output_type": "execute_result"
        },
        {
          "data": {
            "image/png": "[encoded data removed]",
            "text/plain": [
              "<Figure size 432x288 with 1 Axes>"
            ]
          },
          "metadata": {
            "needs_background": "light"
          },
          "output_type": "display_data"
        }
      ],
      "source": [
        "retail.StockCode.value_counts().plot()"
      ]
    },
    {
      "cell_type": "markdown",
      "metadata": {
        "id": "-G0HC2mMJE0-"
      },
      "source": [
        "It seems that there are a few high-selling products, with a long tail behind them. You could investigate this situation further. However, for now, examine **Quantity**."
      ]
    },
    {
      "cell_type": "code",
      "execution_count": null,
      "metadata": {
        "id": "Xhj0VK9IJE0-",
        "outputId": "ff85b4c3-a32e-4e59-999e-7788cfd57350"
      },
      "outputs": [
        {
          "data": {
            "text/plain": [
              "count    379423.000000\n",
              "mean         11.451517\n",
              "std          68.943709\n",
              "min       -9360.000000\n",
              "25%           2.000000\n",
              "50%           4.000000\n",
              "75%          12.000000\n",
              "max       10000.000000\n",
              "Name: Quantity, dtype: float64"
            ]
          },
          "execution_count": 26,
          "metadata": {},
          "output_type": "execute_result"
        }
      ],
      "source": [
        "retail.Quantity.describe()"
      ]
    },
    {
      "cell_type": "code",
      "execution_count": null,
      "metadata": {
        "id": "Suqyoj2pJE0-",
        "outputId": "aa686383-abd7-413e-81d9-4c7552cd94e1"
      },
      "outputs": [
        {
          "data": {
            "text/plain": [
              "<AxesSubplot:xlabel='InvoiceDate'>"
            ]
          },
          "execution_count": 27,
          "metadata": {},
          "output_type": "execute_result"
        },
        {
          "data": {
            "image/png": "[encoded data removed]",
            "text/plain": [
              "<Figure size 432x288 with 1 Axes>"
            ]
          },
          "metadata": {
            "needs_background": "light"
          },
          "output_type": "display_data"
        }
      ],
      "source": [
        "retail.Quantity.plot()"
      ]
    },
    {
      "cell_type": "markdown",
      "metadata": {
        "id": "8LAGqQaBJE0_"
      },
      "source": [
        "From the initial plot, notice a couple of interesting aspects.\n",
        "\n",
        "1. There appear to be negative quantities.\n",
        "\n",
        "2. There are very large spikes throughout the year.\n"
      ]
    },
    {
      "cell_type": "markdown",
      "metadata": {
        "id": "hboyri5FJE0_"
      },
      "source": [
        "Negative and zero quantities could impact the forecast if you don't know why these values exist. To make things easier for now, you will remove negative and zero quantities"
      ]
    },
    {
      "cell_type": "code",
      "execution_count": null,
      "metadata": {
        "id": "xcrt0TJCJE0_"
      },
      "outputs": [],
      "source": [
        "retail = retail[retail.Quantity>0]"
      ]
    },
    {
      "cell_type": "markdown",
      "metadata": {
        "id": "ODJOQo7YJE1A"
      },
      "source": [
        "Now, examine **Price**."
      ]
    },
    {
      "cell_type": "code",
      "execution_count": null,
      "metadata": {
        "id": "C6MIB9SWJE1B",
        "outputId": "5f9f750b-244e-4ed4-a378-2943974d76d3"
      },
      "outputs": [
        {
          "data": {
            "text/plain": [
              "count    370951.000000\n",
              "mean          3.145220\n",
              "std          30.551482\n",
              "min           0.000000\n",
              "25%           1.250000\n",
              "50%           1.950000\n",
              "75%           3.750000\n",
              "max       10953.500000\n",
              "Name: Price, dtype: float64"
            ]
          },
          "execution_count": 29,
          "metadata": {},
          "output_type": "execute_result"
        }
      ],
      "source": [
        "retail.Price.describe()"
      ]
    },
    {
      "cell_type": "code",
      "execution_count": null,
      "metadata": {
        "id": "6kpVqgO_JE1B",
        "outputId": "b8f5831c-5ab7-455a-fae8-7f1623811792"
      },
      "outputs": [
        {
          "data": {
            "text/plain": [
              "<AxesSubplot:xlabel='InvoiceDate'>"
            ]
          },
          "execution_count": 30,
          "metadata": {},
          "output_type": "execute_result"
        },
        {
          "data": {
            "image/png": "[encoded data removed]",
            "text/plain": [
              "<Figure size 432x288 with 1 Axes>"
            ]
          },
          "metadata": {
            "needs_background": "light"
          },
          "output_type": "display_data"
        }
      ],
      "source": [
        "retail.Price.plot()"
      ]
    },
    {
      "cell_type": "markdown",
      "metadata": {
        "id": "TVNInQe0JE1C"
      },
      "source": [
        "The plot shows some clear price spikes. You will now try to find out why these spikes exist."
      ]
    },
    {
      "cell_type": "code",
      "execution_count": null,
      "metadata": {
        "id": "A8_fnswlJE1C",
        "outputId": "a1be5783-f0e9-4139-b59f-0c631c4d1a21"
      },
      "outputs": [
        {
          "data": {
            "text/html": [
              "<div>\n",
              "<style scoped>\n",
              "    .dataframe tbody tr th:only-of-type {\n",
              "        vertical-align: middle;\n",
              "    }\n",
              "\n",
              "    .dataframe tbody tr th {\n",
              "        vertical-align: top;\n",
              "    }\n",
              "\n",
              "    .dataframe thead th {\n",
              "        text-align: right;\n",
              "    }\n",
              "</style>\n",
              "<table border=\"1\" class=\"dataframe\">\n",
              "  <thead>\n",
              "    <tr style=\"text-align: right;\">\n",
              "      <th></th>\n",
              "      <th>StockCode</th>\n",
              "      <th>Quantity</th>\n",
              "      <th>Price</th>\n",
              "    </tr>\n",
              "    <tr>\n",
              "      <th>InvoiceDate</th>\n",
              "      <th></th>\n",
              "      <th></th>\n",
              "      <th></th>\n",
              "    </tr>\n",
              "  </thead>\n",
              "  <tbody>\n",
              "    <tr>\n",
              "      <th>2009-12-10 11:50:00</th>\n",
              "      <td>M</td>\n",
              "      <td>1</td>\n",
              "      <td>1213.02</td>\n",
              "    </tr>\n",
              "    <tr>\n",
              "      <th>2010-01-29 11:04:00</th>\n",
              "      <td>M</td>\n",
              "      <td>1</td>\n",
              "      <td>8985.60</td>\n",
              "    </tr>\n",
              "    <tr>\n",
              "      <th>2010-03-23 15:22:00</th>\n",
              "      <td>M</td>\n",
              "      <td>1</td>\n",
              "      <td>10953.50</td>\n",
              "    </tr>\n",
              "    <tr>\n",
              "      <th>2010-06-08 16:39:00</th>\n",
              "      <td>M</td>\n",
              "      <td>1</td>\n",
              "      <td>849.45</td>\n",
              "    </tr>\n",
              "    <tr>\n",
              "      <th>2010-06-11 15:54:00</th>\n",
              "      <td>M</td>\n",
              "      <td>1</td>\n",
              "      <td>1000.63</td>\n",
              "    </tr>\n",
              "  </tbody>\n",
              "</table>\n",
              "</div>"
            ],
            "text/plain": [
              "                    StockCode  Quantity     Price\n",
              "InvoiceDate                                      \n",
              "2009-12-10 11:50:00         M         1   1213.02\n",
              "2010-01-29 11:04:00         M         1   8985.60\n",
              "2010-03-23 15:22:00         M         1  10953.50\n",
              "2010-06-08 16:39:00         M         1    849.45\n",
              "2010-06-11 15:54:00         M         1   1000.63"
            ]
          },
          "execution_count": 31,
          "metadata": {},
          "output_type": "execute_result"
        }
      ],
      "source": [
        "retail[retail.Price>500].head()"
      ]
    },
    {
      "cell_type": "markdown",
      "metadata": {
        "id": "aX42F5LkJE1D"
      },
      "source": [
        "The **StockCode** value of *M* looks unusual. If you had access to a domain expert, you could learn about the importance of *M*. Because you can't ask a domain expert for this lab, you will drop everything that has a **StockCode** value of *M*."
      ]
    },
    {
      "cell_type": "code",
      "execution_count": null,
      "metadata": {
        "id": "C_4RZS07JE1D"
      },
      "outputs": [],
      "source": [
        "retail = retail[retail.StockCode!='M']"
      ]
    },
    {
      "cell_type": "code",
      "execution_count": null,
      "metadata": {
        "id": "PsdZr3QwJE1D",
        "outputId": "495531ab-8767-4b09-81cf-83ca8cbb9967"
      },
      "outputs": [
        {
          "data": {
            "text/plain": [
              "count    370576.000000\n",
              "mean          3.009463\n",
              "std           4.576951\n",
              "min           0.000000\n",
              "25%           1.250000\n",
              "50%           1.950000\n",
              "75%           3.750000\n",
              "max         387.540000\n",
              "Name: Price, dtype: float64"
            ]
          },
          "execution_count": 33,
          "metadata": {},
          "output_type": "execute_result"
        }
      ],
      "source": [
        "retail.Price.describe()"
      ]
    },
    {
      "cell_type": "markdown",
      "metadata": {
        "id": "l1fmUwH5JE1E"
      },
      "source": [
        "This result is better, but the **max** value is still high. You will now investigate this situation further."
      ]
    },
    {
      "cell_type": "code",
      "execution_count": null,
      "metadata": {
        "id": "WBddaKY6JE1E",
        "outputId": "568088ee-1021-4082-de9a-7c978950d96a"
      },
      "outputs": [
        {
          "data": {
            "text/html": [
              "<div>\n",
              "<style scoped>\n",
              "    .dataframe tbody tr th:only-of-type {\n",
              "        vertical-align: middle;\n",
              "    }\n",
              "\n",
              "    .dataframe tbody tr th {\n",
              "        vertical-align: top;\n",
              "    }\n",
              "\n",
              "    .dataframe thead th {\n",
              "        text-align: right;\n",
              "    }\n",
              "</style>\n",
              "<table border=\"1\" class=\"dataframe\">\n",
              "  <thead>\n",
              "    <tr style=\"text-align: right;\">\n",
              "      <th></th>\n",
              "      <th>StockCode</th>\n",
              "      <th>Quantity</th>\n",
              "      <th>Price</th>\n",
              "    </tr>\n",
              "    <tr>\n",
              "      <th>InvoiceDate</th>\n",
              "      <th></th>\n",
              "      <th></th>\n",
              "      <th></th>\n",
              "    </tr>\n",
              "  </thead>\n",
              "  <tbody>\n",
              "    <tr>\n",
              "      <th>2010-01-26 16:29:00</th>\n",
              "      <td>ADJUST</td>\n",
              "      <td>1</td>\n",
              "      <td>342.80</td>\n",
              "    </tr>\n",
              "    <tr>\n",
              "      <th>2010-01-26 17:28:00</th>\n",
              "      <td>ADJUST</td>\n",
              "      <td>1</td>\n",
              "      <td>387.54</td>\n",
              "    </tr>\n",
              "    <tr>\n",
              "      <th>2010-06-25 14:15:00</th>\n",
              "      <td>ADJUST2</td>\n",
              "      <td>1</td>\n",
              "      <td>300.13</td>\n",
              "    </tr>\n",
              "    <tr>\n",
              "      <th>2010-06-25 14:15:00</th>\n",
              "      <td>ADJUST2</td>\n",
              "      <td>1</td>\n",
              "      <td>358.47</td>\n",
              "    </tr>\n",
              "    <tr>\n",
              "      <th>2010-08-04 11:38:00</th>\n",
              "      <td>POST</td>\n",
              "      <td>1</td>\n",
              "      <td>334.88</td>\n",
              "    </tr>\n",
              "  </tbody>\n",
              "</table>\n",
              "</div>"
            ],
            "text/plain": [
              "                    StockCode  Quantity   Price\n",
              "InvoiceDate                                    \n",
              "2010-01-26 16:29:00    ADJUST         1  342.80\n",
              "2010-01-26 17:28:00    ADJUST         1  387.54\n",
              "2010-06-25 14:15:00   ADJUST2         1  300.13\n",
              "2010-06-25 14:15:00   ADJUST2         1  358.47\n",
              "2010-08-04 11:38:00      POST         1  334.88"
            ]
          },
          "execution_count": 34,
          "metadata": {},
          "output_type": "execute_result"
        }
      ],
      "source": [
        "retail[retail.Price>300].head(20)"
      ]
    },
    {
      "cell_type": "markdown",
      "metadata": {
        "id": "MLG79nUhJE1F"
      },
      "source": [
        "It seems that some adjustments occurred. You will also drop any data that shows these adjustments."
      ]
    },
    {
      "cell_type": "code",
      "execution_count": null,
      "metadata": {
        "id": "A1b5w3xWJE1F"
      },
      "outputs": [],
      "source": [
        "stockcodes = ['ADJUST', 'ADJUST2', 'POST']\n",
        "retail = retail[~retail.StockCode.isin(stockcodes)]"
      ]
    },
    {
      "cell_type": "code",
      "execution_count": null,
      "metadata": {
        "id": "6H1F2myIJE1G",
        "outputId": "579fb95d-0e92-4f4c-e8a1-a2b6684d4350"
      },
      "outputs": [
        {
          "data": {
            "text/plain": [
              "count    370554.000000\n",
              "mean          3.002500\n",
              "std           4.363688\n",
              "min           0.000000\n",
              "25%           1.250000\n",
              "50%           1.950000\n",
              "75%           3.750000\n",
              "max         295.000000\n",
              "Name: Price, dtype: float64"
            ]
          },
          "execution_count": 36,
          "metadata": {},
          "output_type": "execute_result"
        }
      ],
      "source": [
        "retail.Price.describe()"
      ]
    },
    {
      "cell_type": "markdown",
      "metadata": {
        "id": "yml7F8ynJE1G"
      },
      "source": [
        "You will now examine zero-priced items."
      ]
    },
    {
      "cell_type": "code",
      "execution_count": null,
      "metadata": {
        "id": "OpdOsBD2JE1H",
        "outputId": "edf88609-c324-44bf-a7b5-fc03e4f6af5d"
      },
      "outputs": [
        {
          "data": {
            "text/plain": [
              "<bound method DataFrame.count of                     StockCode  Quantity  Price\n",
              "InvoiceDate                                   \n",
              "2009-12-02 13:34:00     22076        12    0.0\n",
              "2009-12-03 11:19:00     48185         2    0.0\n",
              "2009-12-08 15:25:00     22065         1    0.0\n",
              "2009-12-08 15:25:00     22142        12    0.0\n",
              "2009-12-15 13:49:00     85042         8    0.0\n",
              "2009-12-18 14:22:00     21143        12    0.0\n",
              "2010-01-06 14:54:00     79320        24    0.0\n",
              "2010-01-15 12:43:00     21533        12    0.0\n",
              "2010-02-12 14:58:00   TEST001         5    0.0\n",
              "2010-02-12 15:47:00   TEST001         5    0.0\n",
              "2010-03-04 11:44:00     21662         1    0.0\n",
              "2010-04-01 17:13:00     22459         8    0.0\n",
              "2010-04-01 17:13:00     22458         8    0.0\n",
              "2010-06-11 11:12:00     21765         1    0.0\n",
              "2010-06-17 10:12:00     20914         2    0.0\n",
              "2010-06-24 12:34:00     22423         5    0.0\n",
              "2010-07-19 13:13:00     22690         6    0.0\n",
              "2010-09-27 16:59:00    46000M       648    0.0\n",
              "2010-09-30 12:19:00     22218         2    0.0\n",
              "2010-10-18 15:13:00     22121         1    0.0\n",
              "2010-11-07 14:26:00     21843         2    0.0>"
            ]
          },
          "execution_count": 37,
          "metadata": {},
          "output_type": "execute_result"
        }
      ],
      "source": [
        "retail[retail.Price==0].count"
      ]
    },
    {
      "cell_type": "markdown",
      "metadata": {
        "id": "mtvrHNlLJE1H"
      },
      "source": [
        "There aren't many values in these results, so you can drop zero-priced items."
      ]
    },
    {
      "cell_type": "code",
      "execution_count": null,
      "metadata": {
        "id": "rHWFwSQYJE1H"
      },
      "outputs": [],
      "source": [
        "retail = retail[retail.Price>0]"
      ]
    },
    {
      "cell_type": "markdown",
      "metadata": {
        "id": "ElvcWm8_JE1K"
      },
      "source": [
        "### Splitting the data"
      ]
    },
    {
      "cell_type": "markdown",
      "metadata": {
        "id": "XPb2EVlPJE1L"
      },
      "source": [
        "The timeseries data that you need to create a forecast requires a *timestamp*, an *itemId*, and a *demand*. These features will map to the **InvoiceDate**, **StockCode**, and **Quantity** columns.\n",
        "\n",
        "The related timeseries data needs a *timestamp*, an *itemId*, and a *price*. These features will map to the **InvoiceDate**, **StockCode**, and **Price** columns.\n",
        "\n",
        "Create the two DataFrames:"
      ]
    },
    {
      "cell_type": "code",
      "execution_count": null,
      "metadata": {
        "id": "Ih0po_7eJE1L"
      },
      "outputs": [],
      "source": [
        "df_time_series = retail[['StockCode','Quantity']]\n",
        "df_related_time_series = retail[['StockCode','Price']]"
      ]
    },
    {
      "cell_type": "markdown",
      "metadata": {
        "id": "4VHVC0RYJE1Q"
      },
      "source": [
        "### Downsampling"
      ]
    },
    {
      "cell_type": "markdown",
      "metadata": {
        "id": "Rl0Kb2ZQJE1Q"
      },
      "source": [
        "You will now examine a single item."
      ]
    },
    {
      "cell_type": "code",
      "execution_count": null,
      "metadata": {
        "id": "iYSBJqBCJE1R",
        "outputId": "7d00f731-eaa5-46d9-ae55-ce179bf29219"
      },
      "outputs": [
        {
          "data": {
            "text/html": [
              "<div>\n",
              "<style scoped>\n",
              "    .dataframe tbody tr th:only-of-type {\n",
              "        vertical-align: middle;\n",
              "    }\n",
              "\n",
              "    .dataframe tbody tr th {\n",
              "        vertical-align: top;\n",
              "    }\n",
              "\n",
              "    .dataframe thead th {\n",
              "        text-align: right;\n",
              "    }\n",
              "</style>\n",
              "<table border=\"1\" class=\"dataframe\">\n",
              "  <thead>\n",
              "    <tr style=\"text-align: right;\">\n",
              "      <th></th>\n",
              "      <th>StockCode</th>\n",
              "      <th>Quantity</th>\n",
              "    </tr>\n",
              "    <tr>\n",
              "      <th>InvoiceDate</th>\n",
              "      <th></th>\n",
              "      <th></th>\n",
              "    </tr>\n",
              "  </thead>\n",
              "  <tbody>\n",
              "    <tr>\n",
              "      <th>2009-12-01 07:45:00</th>\n",
              "      <td>21232</td>\n",
              "      <td>24</td>\n",
              "    </tr>\n",
              "    <tr>\n",
              "      <th>2009-12-01 10:49:00</th>\n",
              "      <td>21232</td>\n",
              "      <td>48</td>\n",
              "    </tr>\n",
              "    <tr>\n",
              "      <th>2009-12-01 12:13:00</th>\n",
              "      <td>21232</td>\n",
              "      <td>3</td>\n",
              "    </tr>\n",
              "    <tr>\n",
              "      <th>2009-12-01 12:14:00</th>\n",
              "      <td>21232</td>\n",
              "      <td>20</td>\n",
              "    </tr>\n",
              "    <tr>\n",
              "      <th>2009-12-01 13:31:00</th>\n",
              "      <td>21232</td>\n",
              "      <td>4</td>\n",
              "    </tr>\n",
              "    <tr>\n",
              "      <th>2009-12-01 13:37:00</th>\n",
              "      <td>21232</td>\n",
              "      <td>12</td>\n",
              "    </tr>\n",
              "    <tr>\n",
              "      <th>2009-12-01 13:43:00</th>\n",
              "      <td>21232</td>\n",
              "      <td>24</td>\n",
              "    </tr>\n",
              "    <tr>\n",
              "      <th>2009-12-01 14:19:00</th>\n",
              "      <td>21232</td>\n",
              "      <td>12</td>\n",
              "    </tr>\n",
              "    <tr>\n",
              "      <th>2009-12-01 15:26:00</th>\n",
              "      <td>21232</td>\n",
              "      <td>12</td>\n",
              "    </tr>\n",
              "    <tr>\n",
              "      <th>2009-12-01 16:18:00</th>\n",
              "      <td>21232</td>\n",
              "      <td>12</td>\n",
              "    </tr>\n",
              "  </tbody>\n",
              "</table>\n",
              "</div>"
            ],
            "text/plain": [
              "                    StockCode  Quantity\n",
              "InvoiceDate                            \n",
              "2009-12-01 07:45:00     21232        24\n",
              "2009-12-01 10:49:00     21232        48\n",
              "2009-12-01 12:13:00     21232         3\n",
              "2009-12-01 12:14:00     21232        20\n",
              "2009-12-01 13:31:00     21232         4\n",
              "2009-12-01 13:37:00     21232        12\n",
              "2009-12-01 13:43:00     21232        24\n",
              "2009-12-01 14:19:00     21232        12\n",
              "2009-12-01 15:26:00     21232        12\n",
              "2009-12-01 16:18:00     21232        12"
            ]
          },
          "execution_count": 40,
          "metadata": {},
          "output_type": "execute_result"
        }
      ],
      "source": [
        "df_time_series[df_time_series.StockCode==21232]['2009-12-01']"
      ]
    },
    {
      "cell_type": "markdown",
      "metadata": {
        "id": "AFuTA6EhJE1U"
      },
      "source": [
        "You can see multiple orders for each day. You want to create a forecast that predicts demand at a daily level.\n",
        "\n",
        "You must *downsample* the data from the individual orders into a daily total.\n",
        "\n",
        "The orders for each day can be summed, because the total demand for the day is the value that you will forecast.\n",
        "\n",
        "pandas provides the `resample` function for this purpose. `sum` will sum the **Quantity** column. You will also reset the index based on the **InvoiceDate** value. However, this time, it will be a date without the time portion.\n",
        "\n",
        "**Note:** It might take up to 1 minute for this process to complete."
      ]
    },
    {
      "cell_type": "code",
      "execution_count": null,
      "metadata": {
        "id": "bza4kc6cJE1U"
      },
      "outputs": [],
      "source": [
        "df_time_series = df_time_series.groupby('StockCode').resample('D').sum().reset_index()"
      ]
    },
    {
      "cell_type": "code",
      "execution_count": null,
      "metadata": {
        "id": "2jc2RKHcJE1V",
        "outputId": "40cd1e5d-315d-4600-93af-82fe0306c66a"
      },
      "outputs": [
        {
          "data": {
            "text/html": [
              "<div>\n",
              "<style scoped>\n",
              "    .dataframe tbody tr th:only-of-type {\n",
              "        vertical-align: middle;\n",
              "    }\n",
              "\n",
              "    .dataframe tbody tr th {\n",
              "        vertical-align: top;\n",
              "    }\n",
              "\n",
              "    .dataframe thead th {\n",
              "        text-align: right;\n",
              "    }\n",
              "</style>\n",
              "<table border=\"1\" class=\"dataframe\">\n",
              "  <thead>\n",
              "    <tr style=\"text-align: right;\">\n",
              "      <th></th>\n",
              "      <th>StockCode</th>\n",
              "      <th>Quantity</th>\n",
              "    </tr>\n",
              "    <tr>\n",
              "      <th>InvoiceDate</th>\n",
              "      <th></th>\n",
              "      <th></th>\n",
              "    </tr>\n",
              "  </thead>\n",
              "  <tbody>\n",
              "    <tr>\n",
              "      <th>2009-12-01</th>\n",
              "      <td>10002</td>\n",
              "      <td>12</td>\n",
              "    </tr>\n",
              "    <tr>\n",
              "      <th>2009-12-02</th>\n",
              "      <td>10002</td>\n",
              "      <td>0</td>\n",
              "    </tr>\n",
              "    <tr>\n",
              "      <th>2009-12-03</th>\n",
              "      <td>10002</td>\n",
              "      <td>7</td>\n",
              "    </tr>\n",
              "    <tr>\n",
              "      <th>2009-12-04</th>\n",
              "      <td>10002</td>\n",
              "      <td>25</td>\n",
              "    </tr>\n",
              "    <tr>\n",
              "      <th>2009-12-05</th>\n",
              "      <td>10002</td>\n",
              "      <td>0</td>\n",
              "    </tr>\n",
              "  </tbody>\n",
              "</table>\n",
              "</div>"
            ],
            "text/plain": [
              "            StockCode  Quantity\n",
              "InvoiceDate                    \n",
              "2009-12-01      10002        12\n",
              "2009-12-02      10002         0\n",
              "2009-12-03      10002         7\n",
              "2009-12-04      10002        25\n",
              "2009-12-05      10002         0"
            ]
          },
          "execution_count": 42,
          "metadata": {},
          "output_type": "execute_result"
        }
      ],
      "source": [
        "df_time_series['InvoiceDate'] = pd.to_datetime(df_time_series.InvoiceDate)\n",
        "df_time_series = df_time_series.set_index('InvoiceDate')\n",
        "df_time_series.head()"
      ]
    },
    {
      "cell_type": "code",
      "execution_count": null,
      "metadata": {
        "id": "PVERa0H7JE1V"
      },
      "outputs": [],
      "source": [
        "df_time_series = df_time_series.groupby('StockCode').resample('D').sum().reset_index().set_index(['InvoiceDate'])"
      ]
    },
    {
      "cell_type": "markdown",
      "metadata": {
        "id": "7QoLmXAnJE1W"
      },
      "source": [
        "Examine the new DataFrame."
      ]
    },
    {
      "cell_type": "code",
      "execution_count": null,
      "metadata": {
        "id": "wpcln4d-JE1W",
        "outputId": "7bf0de5b-820b-46db-a539-049792d0ffe3"
      },
      "outputs": [
        {
          "data": {
            "text/html": [
              "<div>\n",
              "<style scoped>\n",
              "    .dataframe tbody tr th:only-of-type {\n",
              "        vertical-align: middle;\n",
              "    }\n",
              "\n",
              "    .dataframe tbody tr th {\n",
              "        vertical-align: top;\n",
              "    }\n",
              "\n",
              "    .dataframe thead th {\n",
              "        text-align: right;\n",
              "    }\n",
              "</style>\n",
              "<table border=\"1\" class=\"dataframe\">\n",
              "  <thead>\n",
              "    <tr style=\"text-align: right;\">\n",
              "      <th></th>\n",
              "      <th>StockCode</th>\n",
              "      <th>Quantity</th>\n",
              "    </tr>\n",
              "    <tr>\n",
              "      <th>InvoiceDate</th>\n",
              "      <th></th>\n",
              "      <th></th>\n",
              "    </tr>\n",
              "  </thead>\n",
              "  <tbody>\n",
              "    <tr>\n",
              "      <th>2009-12-01</th>\n",
              "      <td>21232</td>\n",
              "      <td>171</td>\n",
              "    </tr>\n",
              "    <tr>\n",
              "      <th>2009-12-02</th>\n",
              "      <td>21232</td>\n",
              "      <td>164</td>\n",
              "    </tr>\n",
              "    <tr>\n",
              "      <th>2009-12-03</th>\n",
              "      <td>21232</td>\n",
              "      <td>192</td>\n",
              "    </tr>\n",
              "    <tr>\n",
              "      <th>2009-12-04</th>\n",
              "      <td>21232</td>\n",
              "      <td>264</td>\n",
              "    </tr>\n",
              "    <tr>\n",
              "      <th>2009-12-05</th>\n",
              "      <td>21232</td>\n",
              "      <td>36</td>\n",
              "    </tr>\n",
              "    <tr>\n",
              "      <th>...</th>\n",
              "      <td>...</td>\n",
              "      <td>...</td>\n",
              "    </tr>\n",
              "    <tr>\n",
              "      <th>2010-12-04</th>\n",
              "      <td>21232</td>\n",
              "      <td>0</td>\n",
              "    </tr>\n",
              "    <tr>\n",
              "      <th>2010-12-05</th>\n",
              "      <td>21232</td>\n",
              "      <td>4</td>\n",
              "    </tr>\n",
              "    <tr>\n",
              "      <th>2010-12-06</th>\n",
              "      <td>21232</td>\n",
              "      <td>12</td>\n",
              "    </tr>\n",
              "    <tr>\n",
              "      <th>2010-12-07</th>\n",
              "      <td>21232</td>\n",
              "      <td>28</td>\n",
              "    </tr>\n",
              "    <tr>\n",
              "      <th>2010-12-08</th>\n",
              "      <td>21232</td>\n",
              "      <td>61</td>\n",
              "    </tr>\n",
              "  </tbody>\n",
              "</table>\n",
              "<p>373 rows × 2 columns</p>\n",
              "</div>"
            ],
            "text/plain": [
              "            StockCode  Quantity\n",
              "InvoiceDate                    \n",
              "2009-12-01      21232       171\n",
              "2009-12-02      21232       164\n",
              "2009-12-03      21232       192\n",
              "2009-12-04      21232       264\n",
              "2009-12-05      21232        36\n",
              "...               ...       ...\n",
              "2010-12-04      21232         0\n",
              "2010-12-05      21232         4\n",
              "2010-12-06      21232        12\n",
              "2010-12-07      21232        28\n",
              "2010-12-08      21232        61\n",
              "\n",
              "[373 rows x 2 columns]"
            ]
          },
          "execution_count": 44,
          "metadata": {},
          "output_type": "execute_result"
        }
      ],
      "source": [
        "df_time_series[df_time_series.StockCode==21232]\n"
      ]
    },
    {
      "cell_type": "markdown",
      "metadata": {
        "id": "blZNlpkxJE1X"
      },
      "source": [
        "The order now has a single entry for each day."
      ]
    },
    {
      "cell_type": "markdown",
      "metadata": {
        "id": "lNFgUBzxJE1X"
      },
      "source": [
        "Repeat this process with the related time series data."
      ]
    },
    {
      "cell_type": "code",
      "execution_count": null,
      "metadata": {
        "id": "Bp0Gl25YJE1X",
        "outputId": "70cecbc4-2291-455d-80a6-eec8c8226116"
      },
      "outputs": [
        {
          "data": {
            "text/html": [
              "<div>\n",
              "<style scoped>\n",
              "    .dataframe tbody tr th:only-of-type {\n",
              "        vertical-align: middle;\n",
              "    }\n",
              "\n",
              "    .dataframe tbody tr th {\n",
              "        vertical-align: top;\n",
              "    }\n",
              "\n",
              "    .dataframe thead th {\n",
              "        text-align: right;\n",
              "    }\n",
              "</style>\n",
              "<table border=\"1\" class=\"dataframe\">\n",
              "  <thead>\n",
              "    <tr style=\"text-align: right;\">\n",
              "      <th></th>\n",
              "      <th>StockCode</th>\n",
              "      <th>Price</th>\n",
              "    </tr>\n",
              "    <tr>\n",
              "      <th>InvoiceDate</th>\n",
              "      <th></th>\n",
              "      <th></th>\n",
              "    </tr>\n",
              "  </thead>\n",
              "  <tbody>\n",
              "    <tr>\n",
              "      <th>2009-12-01 07:45:00</th>\n",
              "      <td>85048</td>\n",
              "      <td>6.95</td>\n",
              "    </tr>\n",
              "    <tr>\n",
              "      <th>2009-12-01 07:45:00</th>\n",
              "      <td>79323P</td>\n",
              "      <td>6.75</td>\n",
              "    </tr>\n",
              "    <tr>\n",
              "      <th>2009-12-01 07:45:00</th>\n",
              "      <td>79323W</td>\n",
              "      <td>6.75</td>\n",
              "    </tr>\n",
              "    <tr>\n",
              "      <th>2009-12-01 07:45:00</th>\n",
              "      <td>22041</td>\n",
              "      <td>2.10</td>\n",
              "    </tr>\n",
              "    <tr>\n",
              "      <th>2009-12-01 07:45:00</th>\n",
              "      <td>21232</td>\n",
              "      <td>1.25</td>\n",
              "    </tr>\n",
              "  </tbody>\n",
              "</table>\n",
              "</div>"
            ],
            "text/plain": [
              "                    StockCode  Price\n",
              "InvoiceDate                         \n",
              "2009-12-01 07:45:00     85048   6.95\n",
              "2009-12-01 07:45:00    79323P   6.75\n",
              "2009-12-01 07:45:00    79323W   6.75\n",
              "2009-12-01 07:45:00     22041   2.10\n",
              "2009-12-01 07:45:00     21232   1.25"
            ]
          },
          "execution_count": 45,
          "metadata": {},
          "output_type": "execute_result"
        }
      ],
      "source": [
        "df_related_time_series.head()"
      ]
    },
    {
      "cell_type": "code",
      "execution_count": null,
      "metadata": {
        "id": "n1Tm2P-NJE1Y"
      },
      "outputs": [],
      "source": [
        "df_related_time_series2 = df_related_time_series.groupby('StockCode').resample('D').mean().reset_index().set_index(['InvoiceDate','StockCode'])"
      ]
    },
    {
      "cell_type": "code",
      "execution_count": null,
      "metadata": {
        "id": "BkVZ4fuQJE1Y",
        "outputId": "1c1a107d-8b73-4ef5-8350-58f569f29ab1"
      },
      "outputs": [
        {
          "data": {
            "text/html": [
              "<div>\n",
              "<style scoped>\n",
              "    .dataframe tbody tr th:only-of-type {\n",
              "        vertical-align: middle;\n",
              "    }\n",
              "\n",
              "    .dataframe tbody tr th {\n",
              "        vertical-align: top;\n",
              "    }\n",
              "\n",
              "    .dataframe thead th {\n",
              "        text-align: right;\n",
              "    }\n",
              "</style>\n",
              "<table border=\"1\" class=\"dataframe\">\n",
              "  <thead>\n",
              "    <tr style=\"text-align: right;\">\n",
              "      <th></th>\n",
              "      <th></th>\n",
              "      <th>Price</th>\n",
              "    </tr>\n",
              "    <tr>\n",
              "      <th>InvoiceDate</th>\n",
              "      <th>StockCode</th>\n",
              "      <th></th>\n",
              "    </tr>\n",
              "  </thead>\n",
              "  <tbody>\n",
              "    <tr>\n",
              "      <th>2009-12-01</th>\n",
              "      <th>10002</th>\n",
              "      <td>0.85</td>\n",
              "    </tr>\n",
              "    <tr>\n",
              "      <th>2009-12-02</th>\n",
              "      <th>10002</th>\n",
              "      <td>NaN</td>\n",
              "    </tr>\n",
              "    <tr>\n",
              "      <th>2009-12-03</th>\n",
              "      <th>10002</th>\n",
              "      <td>0.85</td>\n",
              "    </tr>\n",
              "    <tr>\n",
              "      <th>2009-12-04</th>\n",
              "      <th>10002</th>\n",
              "      <td>0.85</td>\n",
              "    </tr>\n",
              "    <tr>\n",
              "      <th>2009-12-05</th>\n",
              "      <th>10002</th>\n",
              "      <td>NaN</td>\n",
              "    </tr>\n",
              "    <tr>\n",
              "      <th>2009-12-06</th>\n",
              "      <th>10002</th>\n",
              "      <td>0.85</td>\n",
              "    </tr>\n",
              "    <tr>\n",
              "      <th>2009-12-07</th>\n",
              "      <th>10002</th>\n",
              "      <td>0.85</td>\n",
              "    </tr>\n",
              "    <tr>\n",
              "      <th>2009-12-08</th>\n",
              "      <th>10002</th>\n",
              "      <td>NaN</td>\n",
              "    </tr>\n",
              "    <tr>\n",
              "      <th>2009-12-09</th>\n",
              "      <th>10002</th>\n",
              "      <td>NaN</td>\n",
              "    </tr>\n",
              "    <tr>\n",
              "      <th>2009-12-10</th>\n",
              "      <th>10002</th>\n",
              "      <td>NaN</td>\n",
              "    </tr>\n",
              "    <tr>\n",
              "      <th>2009-12-11</th>\n",
              "      <th>10002</th>\n",
              "      <td>0.85</td>\n",
              "    </tr>\n",
              "    <tr>\n",
              "      <th>2009-12-12</th>\n",
              "      <th>10002</th>\n",
              "      <td>NaN</td>\n",
              "    </tr>\n",
              "    <tr>\n",
              "      <th>2009-12-13</th>\n",
              "      <th>10002</th>\n",
              "      <td>NaN</td>\n",
              "    </tr>\n",
              "    <tr>\n",
              "      <th>2009-12-14</th>\n",
              "      <th>10002</th>\n",
              "      <td>0.85</td>\n",
              "    </tr>\n",
              "    <tr>\n",
              "      <th>2009-12-15</th>\n",
              "      <th>10002</th>\n",
              "      <td>NaN</td>\n",
              "    </tr>\n",
              "    <tr>\n",
              "      <th>2009-12-16</th>\n",
              "      <th>10002</th>\n",
              "      <td>NaN</td>\n",
              "    </tr>\n",
              "    <tr>\n",
              "      <th>2009-12-17</th>\n",
              "      <th>10002</th>\n",
              "      <td>NaN</td>\n",
              "    </tr>\n",
              "    <tr>\n",
              "      <th>2009-12-18</th>\n",
              "      <th>10002</th>\n",
              "      <td>NaN</td>\n",
              "    </tr>\n",
              "    <tr>\n",
              "      <th>2009-12-19</th>\n",
              "      <th>10002</th>\n",
              "      <td>NaN</td>\n",
              "    </tr>\n",
              "    <tr>\n",
              "      <th>2009-12-20</th>\n",
              "      <th>10002</th>\n",
              "      <td>NaN</td>\n",
              "    </tr>\n",
              "  </tbody>\n",
              "</table>\n",
              "</div>"
            ],
            "text/plain": [
              "                       Price\n",
              "InvoiceDate StockCode       \n",
              "2009-12-01  10002       0.85\n",
              "2009-12-02  10002        NaN\n",
              "2009-12-03  10002       0.85\n",
              "2009-12-04  10002       0.85\n",
              "2009-12-05  10002        NaN\n",
              "2009-12-06  10002       0.85\n",
              "2009-12-07  10002       0.85\n",
              "2009-12-08  10002        NaN\n",
              "2009-12-09  10002        NaN\n",
              "2009-12-10  10002        NaN\n",
              "2009-12-11  10002       0.85\n",
              "2009-12-12  10002        NaN\n",
              "2009-12-13  10002        NaN\n",
              "2009-12-14  10002       0.85\n",
              "2009-12-15  10002        NaN\n",
              "2009-12-16  10002        NaN\n",
              "2009-12-17  10002        NaN\n",
              "2009-12-18  10002        NaN\n",
              "2009-12-19  10002        NaN\n",
              "2009-12-20  10002        NaN"
            ]
          },
          "execution_count": 47,
          "metadata": {},
          "output_type": "execute_result"
        }
      ],
      "source": [
        "df_related_time_series2.head(20)"
      ]
    },
    {
      "cell_type": "markdown",
      "metadata": {
        "id": "A0k7nlhcJE1Y"
      },
      "source": [
        "**Question:** Why are some of the previous values showing as *NaN*?"
      ]
    },
    {
      "cell_type": "markdown",
      "metadata": {
        "id": "5eDCFg8IJE1Z"
      },
      "source": [
        "**Answer:** That product had no orders for those days, and thus it has no price. Should you fill these NaN values with a numerical value?"
      ]
    },
    {
      "cell_type": "code",
      "execution_count": null,
      "metadata": {
        "id": "UWVYtYKxJE1Z",
        "outputId": "a9dddb89-9f2c-4660-ca28-121e393d3173"
      },
      "outputs": [
        {
          "data": {
            "text/html": [
              "<div>\n",
              "<style scoped>\n",
              "    .dataframe tbody tr th:only-of-type {\n",
              "        vertical-align: middle;\n",
              "    }\n",
              "\n",
              "    .dataframe tbody tr th {\n",
              "        vertical-align: top;\n",
              "    }\n",
              "\n",
              "    .dataframe thead th {\n",
              "        text-align: right;\n",
              "    }\n",
              "</style>\n",
              "<table border=\"1\" class=\"dataframe\">\n",
              "  <thead>\n",
              "    <tr style=\"text-align: right;\">\n",
              "      <th></th>\n",
              "      <th>StockCode</th>\n",
              "      <th>Quantity</th>\n",
              "      <th>Price</th>\n",
              "    </tr>\n",
              "    <tr>\n",
              "      <th>InvoiceDate</th>\n",
              "      <th></th>\n",
              "      <th></th>\n",
              "      <th></th>\n",
              "    </tr>\n",
              "  </thead>\n",
              "  <tbody>\n",
              "    <tr>\n",
              "      <th>2009-12-01 09:08:00</th>\n",
              "      <td>10002</td>\n",
              "      <td>12</td>\n",
              "      <td>0.85</td>\n",
              "    </tr>\n",
              "    <tr>\n",
              "      <th>2009-12-03 13:49:00</th>\n",
              "      <td>10002</td>\n",
              "      <td>1</td>\n",
              "      <td>0.85</td>\n",
              "    </tr>\n",
              "    <tr>\n",
              "      <th>2009-12-03 13:49:00</th>\n",
              "      <td>10002</td>\n",
              "      <td>1</td>\n",
              "      <td>0.85</td>\n",
              "    </tr>\n",
              "    <tr>\n",
              "      <th>2009-12-03 19:13:00</th>\n",
              "      <td>10002</td>\n",
              "      <td>1</td>\n",
              "      <td>0.85</td>\n",
              "    </tr>\n",
              "    <tr>\n",
              "      <th>2009-12-03 20:03:00</th>\n",
              "      <td>10002</td>\n",
              "      <td>4</td>\n",
              "      <td>0.85</td>\n",
              "    </tr>\n",
              "    <tr>\n",
              "      <th>2009-12-04 08:46:00</th>\n",
              "      <td>10002</td>\n",
              "      <td>12</td>\n",
              "      <td>0.85</td>\n",
              "    </tr>\n",
              "    <tr>\n",
              "      <th>2009-12-04 12:20:00</th>\n",
              "      <td>10002</td>\n",
              "      <td>12</td>\n",
              "      <td>0.85</td>\n",
              "    </tr>\n",
              "    <tr>\n",
              "      <th>2009-12-04 17:31:00</th>\n",
              "      <td>10002</td>\n",
              "      <td>1</td>\n",
              "      <td>0.85</td>\n",
              "    </tr>\n",
              "    <tr>\n",
              "      <th>2009-12-06 15:24:00</th>\n",
              "      <td>10002</td>\n",
              "      <td>1</td>\n",
              "      <td>0.85</td>\n",
              "    </tr>\n",
              "    <tr>\n",
              "      <th>2009-12-07 16:40:00</th>\n",
              "      <td>10002</td>\n",
              "      <td>2</td>\n",
              "      <td>0.85</td>\n",
              "    </tr>\n",
              "    <tr>\n",
              "      <th>2009-12-11 12:21:00</th>\n",
              "      <td>10002</td>\n",
              "      <td>9</td>\n",
              "      <td>0.85</td>\n",
              "    </tr>\n",
              "    <tr>\n",
              "      <th>2009-12-14 12:02:00</th>\n",
              "      <td>10002</td>\n",
              "      <td>12</td>\n",
              "      <td>0.85</td>\n",
              "    </tr>\n",
              "    <tr>\n",
              "      <th>2009-12-14 14:12:00</th>\n",
              "      <td>10002</td>\n",
              "      <td>24</td>\n",
              "      <td>0.85</td>\n",
              "    </tr>\n",
              "    <tr>\n",
              "      <th>2009-12-21 13:29:00</th>\n",
              "      <td>10002</td>\n",
              "      <td>12</td>\n",
              "      <td>0.85</td>\n",
              "    </tr>\n",
              "    <tr>\n",
              "      <th>2009-12-23 12:07:00</th>\n",
              "      <td>10002</td>\n",
              "      <td>1</td>\n",
              "      <td>0.85</td>\n",
              "    </tr>\n",
              "  </tbody>\n",
              "</table>\n",
              "</div>"
            ],
            "text/plain": [
              "                    StockCode  Quantity  Price\n",
              "InvoiceDate                                   \n",
              "2009-12-01 09:08:00     10002        12   0.85\n",
              "2009-12-03 13:49:00     10002         1   0.85\n",
              "2009-12-03 13:49:00     10002         1   0.85\n",
              "2009-12-03 19:13:00     10002         1   0.85\n",
              "2009-12-03 20:03:00     10002         4   0.85\n",
              "2009-12-04 08:46:00     10002        12   0.85\n",
              "2009-12-04 12:20:00     10002        12   0.85\n",
              "2009-12-04 17:31:00     10002         1   0.85\n",
              "2009-12-06 15:24:00     10002         1   0.85\n",
              "2009-12-07 16:40:00     10002         2   0.85\n",
              "2009-12-11 12:21:00     10002         9   0.85\n",
              "2009-12-14 12:02:00     10002        12   0.85\n",
              "2009-12-14 14:12:00     10002        24   0.85\n",
              "2009-12-21 13:29:00     10002        12   0.85\n",
              "2009-12-23 12:07:00     10002         1   0.85"
            ]
          },
          "execution_count": 48,
          "metadata": {},
          "output_type": "execute_result"
        }
      ],
      "source": [
        "retail[retail.StockCode == 10002]['2009-12']"
      ]
    },
    {
      "cell_type": "markdown",
      "metadata": {
        "id": "gsLgPBf0JE1Z"
      },
      "source": [
        "You can use `pad` to forward-fill the price. The previous value will be used to fill the gap for each missing value. "
      ]
    },
    {
      "cell_type": "code",
      "execution_count": null,
      "metadata": {
        "id": "OmcS59wMJE1Z"
      },
      "outputs": [],
      "source": [
        "df_related_time_series3 = df_related_time_series2.groupby('StockCode').pad()"
      ]
    },
    {
      "cell_type": "code",
      "execution_count": null,
      "metadata": {
        "id": "PipWoOARJE1a",
        "outputId": "a58b1cbb-6197-4caf-ef83-9acc23099204"
      },
      "outputs": [
        {
          "data": {
            "text/html": [
              "<div>\n",
              "<style scoped>\n",
              "    .dataframe tbody tr th:only-of-type {\n",
              "        vertical-align: middle;\n",
              "    }\n",
              "\n",
              "    .dataframe tbody tr th {\n",
              "        vertical-align: top;\n",
              "    }\n",
              "\n",
              "    .dataframe thead th {\n",
              "        text-align: right;\n",
              "    }\n",
              "</style>\n",
              "<table border=\"1\" class=\"dataframe\">\n",
              "  <thead>\n",
              "    <tr style=\"text-align: right;\">\n",
              "      <th></th>\n",
              "      <th></th>\n",
              "      <th>Price</th>\n",
              "    </tr>\n",
              "    <tr>\n",
              "      <th>InvoiceDate</th>\n",
              "      <th>StockCode</th>\n",
              "      <th></th>\n",
              "    </tr>\n",
              "  </thead>\n",
              "  <tbody>\n",
              "    <tr>\n",
              "      <th>2009-12-01</th>\n",
              "      <th>10002</th>\n",
              "      <td>0.85</td>\n",
              "    </tr>\n",
              "    <tr>\n",
              "      <th>2009-12-02</th>\n",
              "      <th>10002</th>\n",
              "      <td>0.85</td>\n",
              "    </tr>\n",
              "    <tr>\n",
              "      <th>2009-12-03</th>\n",
              "      <th>10002</th>\n",
              "      <td>0.85</td>\n",
              "    </tr>\n",
              "    <tr>\n",
              "      <th>2009-12-04</th>\n",
              "      <th>10002</th>\n",
              "      <td>0.85</td>\n",
              "    </tr>\n",
              "    <tr>\n",
              "      <th>2009-12-05</th>\n",
              "      <th>10002</th>\n",
              "      <td>0.85</td>\n",
              "    </tr>\n",
              "    <tr>\n",
              "      <th>2009-12-06</th>\n",
              "      <th>10002</th>\n",
              "      <td>0.85</td>\n",
              "    </tr>\n",
              "    <tr>\n",
              "      <th>2009-12-07</th>\n",
              "      <th>10002</th>\n",
              "      <td>0.85</td>\n",
              "    </tr>\n",
              "    <tr>\n",
              "      <th>2009-12-08</th>\n",
              "      <th>10002</th>\n",
              "      <td>0.85</td>\n",
              "    </tr>\n",
              "    <tr>\n",
              "      <th>2009-12-09</th>\n",
              "      <th>10002</th>\n",
              "      <td>0.85</td>\n",
              "    </tr>\n",
              "    <tr>\n",
              "      <th>2009-12-10</th>\n",
              "      <th>10002</th>\n",
              "      <td>0.85</td>\n",
              "    </tr>\n",
              "    <tr>\n",
              "      <th>2009-12-11</th>\n",
              "      <th>10002</th>\n",
              "      <td>0.85</td>\n",
              "    </tr>\n",
              "    <tr>\n",
              "      <th>2009-12-12</th>\n",
              "      <th>10002</th>\n",
              "      <td>0.85</td>\n",
              "    </tr>\n",
              "    <tr>\n",
              "      <th>2009-12-13</th>\n",
              "      <th>10002</th>\n",
              "      <td>0.85</td>\n",
              "    </tr>\n",
              "    <tr>\n",
              "      <th>2009-12-14</th>\n",
              "      <th>10002</th>\n",
              "      <td>0.85</td>\n",
              "    </tr>\n",
              "    <tr>\n",
              "      <th>2009-12-15</th>\n",
              "      <th>10002</th>\n",
              "      <td>0.85</td>\n",
              "    </tr>\n",
              "    <tr>\n",
              "      <th>2009-12-16</th>\n",
              "      <th>10002</th>\n",
              "      <td>0.85</td>\n",
              "    </tr>\n",
              "    <tr>\n",
              "      <th>2009-12-17</th>\n",
              "      <th>10002</th>\n",
              "      <td>0.85</td>\n",
              "    </tr>\n",
              "    <tr>\n",
              "      <th>2009-12-18</th>\n",
              "      <th>10002</th>\n",
              "      <td>0.85</td>\n",
              "    </tr>\n",
              "    <tr>\n",
              "      <th>2009-12-19</th>\n",
              "      <th>10002</th>\n",
              "      <td>0.85</td>\n",
              "    </tr>\n",
              "    <tr>\n",
              "      <th>2009-12-20</th>\n",
              "      <th>10002</th>\n",
              "      <td>0.85</td>\n",
              "    </tr>\n",
              "  </tbody>\n",
              "</table>\n",
              "</div>"
            ],
            "text/plain": [
              "                       Price\n",
              "InvoiceDate StockCode       \n",
              "2009-12-01  10002       0.85\n",
              "2009-12-02  10002       0.85\n",
              "2009-12-03  10002       0.85\n",
              "2009-12-04  10002       0.85\n",
              "2009-12-05  10002       0.85\n",
              "2009-12-06  10002       0.85\n",
              "2009-12-07  10002       0.85\n",
              "2009-12-08  10002       0.85\n",
              "2009-12-09  10002       0.85\n",
              "2009-12-10  10002       0.85\n",
              "2009-12-11  10002       0.85\n",
              "2009-12-12  10002       0.85\n",
              "2009-12-13  10002       0.85\n",
              "2009-12-14  10002       0.85\n",
              "2009-12-15  10002       0.85\n",
              "2009-12-16  10002       0.85\n",
              "2009-12-17  10002       0.85\n",
              "2009-12-18  10002       0.85\n",
              "2009-12-19  10002       0.85\n",
              "2009-12-20  10002       0.85"
            ]
          },
          "execution_count": 50,
          "metadata": {},
          "output_type": "execute_result"
        }
      ],
      "source": [
        "df_related_time_series3.head(20)"
      ]
    },
    {
      "cell_type": "markdown",
      "metadata": {
        "id": "0f38ZyRgJE1a"
      },
      "source": [
        "## Task 4: Reviewing the creation of the forecast\n",
        "\n",
        "The following cells are Markdown. They demonstrate the API calls that are needed to create a forecast based on the data that you have been working with. Creating a forecast with Amazon Forecast involves three stages:\n",
        "\n",
        "1. Creating the datasets and importing the data. This process typically takes 5–10 minutes.\n",
        "2. Creating the predictor. This process trains a model by using the data that you provided. It takes 30–60 minutes to complete.\n",
        "3. Creating the forecast. This process generates a forecast for a particular item by using the predictor. It also takes 30–60 minutes to complete.\n",
        "\n",
        "To save time, when this lab was started, the `forecast-autorun.ipynb` was also ran in the background. The notebook will be updated with the results after running completes. It takes about 65 minutes to run, but it might take a little longer. By the time you review this cell, the forecast creation should in process. While it's finishing, you will review the code.\n",
        "\n",
        "**Note:** Feel free to review the actual `forecast-autorun.ipynb` notebook if you want some more detail. However, make sure that you don't run any cells!"
      ]
    },
    {
      "cell_type": "markdown",
      "metadata": {
        "id": "TYtsnrPOJE1b"
      },
      "source": [
        "### Creating the datasets and importing the data\n",
        "\n",
        "The first step is to create a Forecast Dataset Group:\n",
        "\n",
        "```python\n",
        "session = boto3.Session()\n",
        "forecast = session.client(service_name='forecast') \n",
        "create_dataset_group_response = forecast.create_dataset_group(DatasetGroupName=dataset_group_name, Domain=\"RETAIL\")\n",
        "dataset_group_arn = create_dataset_group_response['DatasetGroupArn']\n",
        "```\n",
        "    \n",
        "The `create_dataset` function requires a few parameters:\n",
        "\n",
        "- **DOMAIN** – This parameter specifies the domain, such as *retail*, that the forecast should use.\n",
        "- **DatasetType** – For the time series data, this parameter will be set to *TARGET_TIME_SERIES*.\n",
        "- **DatasetName** – This parameter specifies the name of the dataset.\n",
        "- **DataFrequency** – This parameter specifices the frequency. For the daily dataset, it will be *D*.\n",
        "- **Schema** – This parameter specifies the schema of the dataset.\n",
        "\n",
        "The dataset schema for the time series data is:\n",
        "\n",
        "```python\n",
        "schema ={\n",
        "   \"Attributes\":[\n",
        "      {\n",
        "         \"AttributeName\":\"timestamp\",\n",
        "         \"AttributeType\":\"timestamp\"\n",
        "      },\n",
        "      {\n",
        "         \"AttributeName\":\"item_id\",\n",
        "         \"AttributeType\":\"string\"\n",
        "      },\n",
        "      {\n",
        "         \"AttributeName\":\"demand\",\n",
        "         \"AttributeType\":\"float\"\n",
        "      }\n",
        "   ]\n",
        "}\n",
        "```\n",
        "\n",
        "\n",
        "The code to create the dataset is:\n",
        "\n",
        "```python\n",
        "time_series_response=forecast.create_dataset(\n",
        "                    Domain=\"RETAIL\",\n",
        "                    DatasetType='TARGET_TIME_SERIES',\n",
        "                    DatasetName='retail_time_series_data',\n",
        "                    DataFrequency='D', \n",
        "                    Schema = schema\n",
        ")\n",
        "dataset_arn = time_series_response['DatasetArn']\n",
        "```\n",
        "    \n",
        "Now that the dataset is defined, a job is needed to import the data:\n",
        "\n",
        "```python\n",
        "ds_import_job_response=forecast.create_dataset_import_job(DatasetImportJobName='retail_import_job',\n",
        "                                                      DatasetArn=dataset_arn,\n",
        "                                                      DataSource= data_source,\n",
        "                                                      TimestampFormat=timestamp_format\n",
        "                                                     )\n",
        "```\n",
        "\n",
        "Note that the *data_source* is a path to the data that's stored in Amazon Simple Storage Service (Amazon S3).\n",
        "\n",
        "The final step is to add the dataset to the dataset group:\n",
        "\n",
        "```python\n",
        "forecast.update_dataset_group(DatasetGroupArn=dataset_group_arn, DatasetArns=[dataset_arn])\n",
        "```\n",
        "    \n",
        "\n",
        "The process of adding the related data or metadata is done in the same way: by  changing the names, schema, and dataset type. Although you have prepared this data, you won't use it in the predictor because the model wasn't impacted by the additional data."
      ]
    },
    {
      "cell_type": "markdown",
      "metadata": {
        "id": "r79eqGg-JE1b"
      },
      "source": [
        "### Creating the predictor\n",
        "\n",
        "The next step is to create the predictor. The `create_predictor` command needs a few parameters:\n",
        "\n",
        "- **PredictorName** – This parameter specifies the name that you want to give the predictor.\n",
        "\n",
        "    ```python\n",
        "    predictor_name= prefix+'_deeparp_algo'\n",
        "    ```\n",
        "\n",
        "\n",
        "- **AlgorithmArn** – This parameter is the path to the algorithm that you want to use. In this example, you will use DeepAR+.\n",
        "\n",
        "    ```python\n",
        "    algorithm_arn = 'arn:aws:forecast:::algorithm/Deep_AR_Plus\n",
        "    ```\n",
        "\n",
        "\n",
        "- **EvaluationParameters** – This parameter enables you to specify the number and size of the back test windows. Recall from the module that this parameter controls the size and number of testing windows that are created from the data.\n",
        "\n",
        "    ```python\n",
        "    evaluation_parameters= {\"NumberOfBacktestWindows\": 1, \"BackTestWindowOffset\": 30}\n",
        "    ```\n",
        "\n",
        "\n",
        "- **ForecastHorizon** – How many units to forecast (in this case, the units are days).\n",
        "\n",
        "    ```python\n",
        "    forecast_horizon = 30\n",
        "    ```\n",
        "\n",
        "\n",
        "- **InputDataConfig** – This parameter specifies the data, along with optional vacation days.\n",
        "\n",
        "    ```python\n",
        "    input_data_config = {\"DatasetGroupArn\": dataset_group_arn, \"SupplementaryFeatures\": [ {\"Name\": \"holiday\",\"Value\": \"UK\"} ]}\n",
        "    ```\n",
        "\n",
        "\n",
        "- **FeaturizationConfig** – This parameter sets the frequency, but it can also be used to specify filling methods for data.\n",
        "\n",
        "    ```python\n",
        "    featurization_config= {\"ForecastFrequency\": dataset_frequency }\n",
        "    ```\n",
        "\n",
        "The code to create the predictor is:\n",
        "\n",
        "```python\n",
        "create_predictor_response=forecast.create_predictor(PredictorName = predictor_name,\n",
        "      AlgorithmArn = algorithm_arn,\n",
        "      ForecastHorizon = forecast_horizon,\n",
        "      PerformAutoML = False,\n",
        "      PerformHPO = False,\n",
        "      EvaluationParameters= evaluation_parameters, \n",
        "      InputDataConfig = input_data_config,\n",
        "      FeaturizationConfig = featurization_config\n",
        "     )\n",
        "```\n",
        "                                                 \n",
        "After the predictor is created, you can create a forecast."
      ]
    },
    {
      "cell_type": "markdown",
      "metadata": {
        "id": "3jfAeyu3JE1c"
      },
      "source": [
        "### Creating the forecast\n",
        "\n",
        "To create the forecast, use the `create_forecast` method:\n",
        "\n",
        "```python\n",
        "predictor_arn = create_predictor_response['PredictorArn']\n",
        "\n",
        "create_forecast_response=forecast.create_forecast(ForecastName=forecast_Name,\n",
        "                                                  PredictorArn=predictor_arn)\n",
        "\n",
        "```\n",
        "\n",
        "After the forecast is generated, the results can be queried by using the `query_forecast` method:\n",
        "\n",
        "```python\n",
        "forecast_response = forecast_query.query_forecast(\n",
        "    ForecastArn=forecast_arn,\n",
        "    Filters={\"item_id\":\"22423\"}\n",
        ")\n",
        "```\n"
      ]
    },
    {
      "cell_type": "markdown",
      "metadata": {
        "id": "XZzXAgxOJE1c"
      },
      "source": [
        "## Task 5: Waiting for the forecast creation to complete\n",
        "\n",
        "The forecast should now be created. You can investigate to see whether the forecast creation is complete.\n",
        "\n",
        "First, create a helper method to show the status."
      ]
    },
    {
      "cell_type": "code",
      "execution_count": null,
      "metadata": {
        "id": "ZuMyBVx1JE1d"
      },
      "outputs": [],
      "source": [
        "import sys\n",
        "\n",
        "class StatusIndicator:\n",
        "    \n",
        "    def __init__(self):\n",
        "        self.previous_status = None\n",
        "        self.need_newline = False\n",
        "        \n",
        "    def update( self, status ):\n",
        "        if self.previous_status != status:\n",
        "            if self.need_newline:\n",
        "                sys.stdout.write(\"\\n\")\n",
        "            sys.stdout.write( status + \" \")\n",
        "            self.need_newline = True\n",
        "            self.previous_status = status\n",
        "        else:\n",
        "            # sys.stdout.write(\".\")\n",
        "            print('.',end='')\n",
        "            self.need_newline = True\n",
        "        sys.stdout.flush()\n",
        "\n",
        "    def end(self):\n",
        "        if self.need_newline:\n",
        "            sys.stdout.write(\"\\n\")"
      ]
    },
    {
      "cell_type": "markdown",
      "metadata": {
        "id": "Ww76kecGJE1d"
      },
      "source": [
        "Next, create instances of the forecast and the forecast query objects."
      ]
    },
    {
      "cell_type": "code",
      "execution_count": null,
      "metadata": {
        "id": "zVDWqWlLJE1d"
      },
      "outputs": [],
      "source": [
        "bucket='mlf-lab4-forecastbucket-12sb9sjex9iv'\n",
        "\n",
        "session = boto3.Session() \n",
        "forecast = session.client(service_name='forecast') \n",
        "forecast_query = session.client(service_name='forecastquery')"
      ]
    },
    {
      "cell_type": "markdown",
      "metadata": {
        "id": "0B2E_xx4JE1e"
      },
      "source": [
        "You will read the variables from the store, and check whether the forecast was defined. After the forecast is defined, you will wait until its status becomes active."
      ]
    },
    {
      "cell_type": "code",
      "execution_count": null,
      "metadata": {
        "id": "rlog6xVXJE1e",
        "outputId": "b37aeb4b-9b72-449c-a68c-f71126a059d2"
      },
      "outputs": [
        {
          "name": "stdout",
          "output_type": "stream",
          "text": [
            "Waiting for the predictor arn to be available\n",
            "........"
          ]
        }
      ],
      "source": [
        "print('Waiting for the predictor arn to be available')\n",
        "while True:\n",
        "    %store -r\n",
        "    is_local = \"forecast_arn\" in locals()\n",
        "    if is_local: break\n",
        "    print('.',end='')\n",
        "    time.sleep(10)\n",
        "\n",
        "print('Waiting for the predictor to be available')\n",
        "status_indicator_predictor = StatusIndicator()\n",
        "while True:\n",
        "    status = forecast.describe_predictor(PredictorArn=predictor_arn)['Status']\n",
        "    status_indicator_predictor.update(status)\n",
        "    if status in ('ACTIVE', 'CREATE_FAILED'): break\n",
        "    time.sleep(10)\n",
        "\n",
        "status_indicator_predictor.end()\n",
        "    \n",
        "print('Waiting for forecast to be available')\n",
        "status_indicator = StatusIndicator()\n",
        "while True:\n",
        "    status = forecast.describe_forecast(ForecastArn=forecast_arn)['Status']\n",
        "    status_indicator.update(status)\n",
        "    if status in ('ACTIVE', 'CREATE_FAILED'): break\n",
        "    time.sleep(10)\n",
        "\n",
        "status_indicator.end()"
      ]
    },
    {
      "cell_type": "markdown",
      "metadata": {
        "id": "gEknnTTFJE1e"
      },
      "source": [
        "## Task 6: Using the forecast\n",
        "\n",
        "At this point, there should be a forecast that's ready to be queried.\n",
        "\n",
        "Check that you get data for the following test stock code: *21232*"
      ]
    },
    {
      "cell_type": "code",
      "execution_count": null,
      "metadata": {
        "id": "heF0zhJSJE1f"
      },
      "outputs": [],
      "source": [
        "print()\n",
        "forecast_response = forecast_query.query_forecast(\n",
        "    ForecastArn=forecast_arn,\n",
        "    Filters={\"item_id\":\"21232\"}\n",
        ")\n",
        "print(forecast_response)"
      ]
    },
    {
      "cell_type": "markdown",
      "metadata": {
        "id": "R8L8D9KBJE1f"
      },
      "source": [
        "### Plotting the actual results\n",
        "\n",
        "Earlier, you split the data and held back the *November* and *December* values. You will plot these values against the predicted values for the same time period.\n",
        "\n",
        "You will start by reading the test values back into a DataFrame.\n"
      ]
    },
    {
      "cell_type": "code",
      "execution_count": null,
      "metadata": {
        "id": "xWcBvZtjJE1f"
      },
      "outputs": [],
      "source": [
        "actual_df = pd.read_csv(test, names=['InvoiceDate','StockCode','Quantity'])\n",
        "actual_df['InvoiceDate'] = pd.to_datetime(actual_df.InvoiceDate)\n",
        "actual_df = actual_df.set_index('InvoiceDate')\n",
        "actual_df.head()"
      ]
    },
    {
      "cell_type": "markdown",
      "metadata": {
        "id": "0U20beq2JE1g"
      },
      "source": [
        "Check that you only have data for the *21232* stock code."
      ]
    },
    {
      "cell_type": "code",
      "execution_count": null,
      "metadata": {
        "id": "WefizZlUJE1g"
      },
      "outputs": [],
      "source": [
        "stockcode_filter = ['21232']\n",
        "actual_df = actual_df[actual_df['StockCode'].isin(stockcode_filter)]"
      ]
    },
    {
      "cell_type": "code",
      "execution_count": null,
      "metadata": {
        "id": "iWy_luAEJE1g"
      },
      "outputs": [],
      "source": [
        "actual_df.head()"
      ]
    },
    {
      "cell_type": "markdown",
      "metadata": {
        "id": "G39d0t4MJE1h"
      },
      "source": [
        "You can do a quick plot of the data. Remember that this data is test data, so the actual values are plotted. In the next step, you will plot the predicted values."
      ]
    },
    {
      "cell_type": "code",
      "execution_count": null,
      "metadata": {
        "id": "yt1dEF4pJE1h"
      },
      "outputs": [],
      "source": [
        "actual_df.Quantity.plot()"
      ]
    },
    {
      "cell_type": "markdown",
      "metadata": {
        "id": "xgKVqALtJE1h"
      },
      "source": [
        "### Plotting the prediction\n",
        "\n",
        "Next, you must convert the JSON response from the predictor to a DataFrame that you can plot.\n",
        "\n",
        "Start by getting the P10 predictions.\n"
      ]
    },
    {
      "cell_type": "code",
      "execution_count": null,
      "metadata": {
        "id": "LQFsUHzbJE1i"
      },
      "outputs": [],
      "source": [
        "# Generate DF \n",
        "prediction_df_p10 = pd.DataFrame.from_dict(forecast_response['Forecast']['Predictions']['p10'])\n",
        "prediction_df_p10.head()"
      ]
    },
    {
      "cell_type": "markdown",
      "metadata": {
        "id": "rg6Qws7PJE1i"
      },
      "source": [
        "Next, plot the P10 predictions."
      ]
    },
    {
      "cell_type": "code",
      "execution_count": null,
      "metadata": {
        "id": "-2jy1K1LJE1i"
      },
      "outputs": [],
      "source": [
        "# Plot\n",
        "prediction_df_p10.plot()\n"
      ]
    },
    {
      "cell_type": "markdown",
      "metadata": {
        "id": "TFlExaUcJE1i"
      },
      "source": [
        "The previous code only retrieved the P10 values and put them in a DataFrame. Now, complete the same process for the P50 and P90 values.\n"
      ]
    },
    {
      "cell_type": "code",
      "execution_count": null,
      "metadata": {
        "id": "QIiLnLydJE1j"
      },
      "outputs": [],
      "source": [
        "prediction_df_p50 = pd.DataFrame.from_dict(forecast_response['Forecast']['Predictions']['p50'])\n",
        "prediction_df_p90 = pd.DataFrame.from_dict(forecast_response['Forecast']['Predictions']['p90'])"
      ]
    },
    {
      "cell_type": "markdown",
      "metadata": {
        "id": "ceyq2sdSJE1j"
      },
      "source": [
        "\n",
        "### Comparing the prediction to actual results\n",
        "\n",
        "After you obtain the DataFrames, the next task is to plot them together to determine the best fit.\n"
      ]
    },
    {
      "cell_type": "code",
      "execution_count": null,
      "metadata": {
        "id": "iDNRlVt5JE1j"
      },
      "outputs": [],
      "source": [
        "# Start by creating a DataFrame to house the content. Here, Source will be which DataFrame it came from.\n",
        "results_df = pd.DataFrame(columns=['timestamp','value','Source'])\n",
        "\n",
        "results_df.head()"
      ]
    },
    {
      "cell_type": "markdown",
      "metadata": {
        "id": "bl3SwbjoJE1j"
      },
      "source": [
        "\n",
        "\n",
        "Import the observed values into the DataFrame:\n"
      ]
    },
    {
      "cell_type": "code",
      "execution_count": null,
      "metadata": {
        "id": "iHhWmpCKJE1k"
      },
      "outputs": [],
      "source": [
        "import dateutil.parser\n",
        "for index, row in actual_df.iterrows():\n",
        "    #clean_timestamp = dateutil.parser.parse(index)\n",
        "    results_df = results_df.append({'timestamp' : index , 'value' : row['Quantity'], 'Source': 'Actual'} , ignore_index=True)"
      ]
    },
    {
      "cell_type": "code",
      "execution_count": null,
      "metadata": {
        "id": "xNVV7BtiJE1k"
      },
      "outputs": [],
      "source": [
        "# To show the new DataFrame\n",
        "results_df.head()"
      ]
    },
    {
      "cell_type": "code",
      "execution_count": null,
      "metadata": {
        "id": "YYHXpzBUJE1k"
      },
      "outputs": [],
      "source": [
        "# Now add the P10, P50, and P90 Values\n",
        "for index, row in prediction_df_p10.iterrows():\n",
        "    clean_timestamp = dateutil.parser.parse(row['Timestamp'])\n",
        "    results_df = results_df.append({'timestamp' : clean_timestamp , 'value' : row['Value'], 'Source': 'p10'} , ignore_index=True)\n",
        "for index, row in prediction_df_p50.iterrows():\n",
        "    clean_timestamp = dateutil.parser.parse(row['Timestamp'])\n",
        "    results_df = results_df.append({'timestamp' : clean_timestamp , 'value' : row['Value'], 'Source': 'p50'} , ignore_index=True)\n",
        "for index, row in prediction_df_p90.iterrows():\n",
        "    clean_timestamp = dateutil.parser.parse(row['Timestamp'])\n",
        "    results_df = results_df.append({'timestamp' : clean_timestamp , 'value' : row['Value'], 'Source': 'p90'} , ignore_index=True)"
      ]
    },
    {
      "cell_type": "markdown",
      "metadata": {
        "id": "Zxkxx2WwJE1l"
      },
      "source": [
        "By creating a pivot on the data, you can compare the actual P10, P50, and P90 values."
      ]
    },
    {
      "cell_type": "code",
      "execution_count": null,
      "metadata": {
        "id": "L27oVIsGJE1l"
      },
      "outputs": [],
      "source": [
        "pivot_df = results_df.pivot(columns='Source', values='value', index=\"timestamp\")\n",
        "pivot_df"
      ]
    },
    {
      "cell_type": "markdown",
      "metadata": {
        "id": "VDPMlGLeJE1m"
      },
      "source": [
        "Charts can be easier to analyze than the raw values."
      ]
    },
    {
      "cell_type": "code",
      "execution_count": null,
      "metadata": {
        "id": "frPvpfx6JE1m"
      },
      "outputs": [],
      "source": [
        "pivot_df.plot(figsize=(20,10))"
      ]
    },
    {
      "cell_type": "markdown",
      "metadata": {
        "id": "9y-yA9M7JE1m"
      },
      "source": [
        "### Examining the results\n",
        "\n",
        "Hopefully, in the previous chart, you will see at least some correlation between the predicted values and the actual values. The correlation might not be good, and there could be several reasons for this outcome:\n",
        "\n",
        "- The sales are mostly wholesale, but they do include some smaller orders.\n",
        "- You held back data, which meant that an entire season wasn't included in the training data.\n",
        "- You might have been missing useful category or sales promotion data.\n",
        "\n",
        "Like all machine learning models, the results are as good as the data you use to train the model. As noted previously, the model could be improved with more data."
      ]
    },
    {
      "cell_type": "markdown",
      "metadata": {
        "id": "VGu2Q9aMJE1m"
      },
      "source": [
        "## Task 7: Cleaning up\n",
        "\n",
        "The following cells will clean up the resources that were created during the lab."
      ]
    },
    {
      "cell_type": "code",
      "execution_count": null,
      "metadata": {
        "id": "519Syw5jJE1n"
      },
      "outputs": [],
      "source": [
        "%store -r"
      ]
    },
    {
      "cell_type": "code",
      "execution_count": null,
      "metadata": {
        "id": "SDLLstb8JE1n"
      },
      "outputs": [],
      "source": [
        "print(forecast_arn)"
      ]
    },
    {
      "cell_type": "code",
      "execution_count": null,
      "metadata": {
        "id": "2kxoW5GYJE1n"
      },
      "outputs": [],
      "source": [
        "forecast.delete_forecast(ForecastArn=forecast_arn)\n",
        "time.sleep(60)"
      ]
    },
    {
      "cell_type": "code",
      "execution_count": null,
      "metadata": {
        "id": "G2QZmdc8JE1o"
      },
      "outputs": [],
      "source": [
        "forecast.delete_predictor(PredictorArn=predictor_arn)\n",
        "time.sleep(60)"
      ]
    },
    {
      "cell_type": "code",
      "execution_count": null,
      "metadata": {
        "id": "2GUV9AIgJE1o"
      },
      "outputs": [],
      "source": [
        "forecast.delete_dataset_import_job(DatasetImportJobArn=ds_related_import_job_arn)"
      ]
    },
    {
      "cell_type": "code",
      "execution_count": null,
      "metadata": {
        "id": "w908nF6tJE1o"
      },
      "outputs": [],
      "source": [
        "forecast.delete_dataset_import_job(DatasetImportJobArn=ds_import_job_arn)"
      ]
    },
    {
      "cell_type": "code",
      "execution_count": null,
      "metadata": {
        "id": "NgCKeb2RJE1p"
      },
      "outputs": [],
      "source": [
        "time.sleep(60)"
      ]
    },
    {
      "cell_type": "code",
      "execution_count": null,
      "metadata": {
        "id": "i8KYQCEyJE1p"
      },
      "outputs": [],
      "source": [
        "forecast.delete_dataset(DatasetArn=related_dataset_arn)"
      ]
    },
    {
      "cell_type": "code",
      "execution_count": null,
      "metadata": {
        "id": "WfeDeJWKJE1p"
      },
      "outputs": [],
      "source": [
        "forecast.delete_dataset(DatasetArn=dataset_arn)"
      ]
    },
    {
      "cell_type": "code",
      "execution_count": null,
      "metadata": {
        "id": "YRDEzkHQJE1p"
      },
      "outputs": [],
      "source": [
        "time.sleep(60)"
      ]
    },
    {
      "cell_type": "code",
      "execution_count": null,
      "metadata": {
        "id": "pHs4ou-oJE1p"
      },
      "outputs": [],
      "source": [
        "forecast.delete_dataset_group(DatasetGroupArn=dataset_group_arn)"
      ]
    }
  ],
  "metadata": {
    "kernelspec": {
      "display_name": "conda_python3",
      "language": "python",
      "name": "conda_python3"
    },
    "language_info": {
      "codemirror_mode": {
        "name": "ipython",
        "version": 3
      },
      "file_extension": ".py",
      "mimetype": "text/x-python",
      "name": "python",
      "nbconvert_exporter": "python",
      "pygments_lexer": "ipython3",
      "version": "3.6.13"
    },
    "colab": {
      "name": "6209610341_forecast-lab.ipynb",
      "provenance": [],
      "include_colab_link": true
    }
  },
  "nbformat": 4,
  "nbformat_minor": 0
}
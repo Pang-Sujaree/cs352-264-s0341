{
  "cells": [
    {
      "cell_type": "markdown",
      "metadata": {
        "id": "view-in-github",
        "colab_type": "text"
      },
      "source": [
        "<a href=\"https://colab.research.google.com/github/Pang-Sujaree/cs352-264-s0341/blob/main/Flight_Delay_Student_6209610341.ipynb\" target=\"_parent\"><img src=\"https://colab.research.google.com/assets/colab-badge.svg\" alt=\"Open In Colab\"/></a>"
      ]
    },
    {
      "cell_type": "markdown",
      "source": [
        "*6209610341* สุจารี ทิพย์กล่อม\n",
        "\n",
        "\n"
      ],
      "metadata": {
        "id": "37C5g5ard_DK"
      }
    },
    {
      "cell_type": "markdown",
      "metadata": {
        "id": "3veRopjgd5P9"
      },
      "source": [
        "# Problem: Predicting Airplane Delays\n",
        "\n",
        "The goals of this notebook are:\n",
        "- Process and create a dataset from downloaded .zip files\n",
        "- Perform exploratory data analysis (EDA)\n",
        "- Establish a baseline model\n",
        "- Move from a simple model to an ensemble model\n",
        "- Perform hyperparameter optimization\n",
        "- Check feature importance\n",
        "\n",
        "\n",
        "## Introduction to business scenario\n",
        "\n",
        "You work for a travel booking website that wants to improve the customer experience for flights that were delayed. The company wants to create a feature to let customers know if the flight will be delayed because of weather when they book a flight to or from the busiest airports for domestic travel in the US. \n",
        "\n",
        "You are tasked with solving part of this problem by using machine learning (ML) to identify whether the flight will be delayed because of weather. You have been given access to the a dataset about the on-time performance of domestic flights that were operated by large air carriers. You can use this data to train an ML model to predict if the flight is going to be delayed for the busiest airports.\n",
        "\n",
        "\n",
        "## About this dataset\n",
        "\n",
        "This dataset contains scheduled and actual departure and arrival times reported by certified US air carriers that account for at least 1 percent of domestic scheduled passenger revenues. The data was collected by the U.S. Office of Airline Information, Bureau of Transportation Statistics (BTS). The dataset contains date, time, origin, destination, airline, distance, and delay status of flights for flights between 2013 and 2018.\n",
        "\n",
        "\n",
        "### Features\n",
        "\n",
        "For more information about features in the dataset, see [On-time delay dataset features](https://www.transtats.bts.gov/Fields.asp).\n",
        "\n",
        "### Dataset attributions  \n",
        "Website: https://www.transtats.bts.gov/\n",
        "\n",
        "Dataset(s) used in this lab were compiled by the U.S. Office of Airline Information, Bureau of Transportation Statistics (BTS), Airline On-Time Performance Data, available at https://www.transtats.bts.gov/DatabaseInfo.asp?DB_ID=120&DB_URL=Mode_ID=1&Mode_Desc=Aviation&Subject_ID2=0."
      ]
    },
    {
      "cell_type": "markdown",
      "metadata": {
        "id": "QJycl1isd5QA"
      },
      "source": [
        "# Step 1: Problem formulation and data collection\n",
        "\n",
        "Start this project by writing a few sentences that summarize the business problem and the business goal that you want to achieve in this scenario. You can write down your ideas in the following sections. Include a business metric that you would like your team to aspire toward. After you define that information, write the ML problem statement. Finally, add a comment or two about the type of ML this activity represents. \n",
        "\n",
        "#### <span style=\"color: blue;\">Project presentation: Include a summary of these details in your project presentation.</span>\n",
        "\n",
        "### 1. Determine if and why ML is an appropriate solution to deploy for this scenario."
      ]
    },
    {
      "cell_type": "code",
      "source": [
        "เพราะว่าการทำ Machine Learning เราจะสามารถนำ dataset เวลาเที่ยวบินออกและเวลาเที่ยวบินลงจอดของสายการบิน \n",
        "มา train เพื่อทำเป็น model หรือใช้ศึกษาความล่าช้าของเที่ยวบินจาก dataset ที่มีอยู่ได้"
      ],
      "metadata": {
        "id": "RYbpUQb-gT6W"
      },
      "execution_count": null,
      "outputs": []
    },
    {
      "cell_type": "markdown",
      "metadata": {
        "id": "1kMBAQDwd5QE"
      },
      "source": [
        "### 2. Formulate the business problem, success metrics, and desired ML output."
      ]
    },
    {
      "cell_type": "code",
      "source": [
        "business problem คือ ปัญหาเที่ยวบินล่าช้า โดยไม่มีการแจ้งให้ทราบก่อนล่วงหน้า ทำให้ส่งผลต่อความพึงพอใจของผู้โดยสาร, \n",
        "success metrics คือ ผู้โดยสารได้รับการแจ้งเตือน เมื่อมีเที่ยวบินdelay, desired ML output คือ คาดการณ์ความล่าช้าของเที่ยวบินได้"
      ],
      "metadata": {
        "id": "EYbjak_hgaKf"
      },
      "execution_count": null,
      "outputs": []
    },
    {
      "cell_type": "markdown",
      "metadata": {
        "id": "m7FN-qZ7d5QG"
      },
      "source": [
        "### 3. Identify the type of ML problem that you're working with."
      ]
    },
    {
      "cell_type": "code",
      "source": [
        "supervised - regression"
      ],
      "metadata": {
        "id": "yWX90BtbgeCt"
      },
      "execution_count": null,
      "outputs": []
    },
    {
      "cell_type": "markdown",
      "metadata": {
        "id": "9kXNJDMOd5QH"
      },
      "source": [
        "### 4. Analyze the appropriateness of the data that you're working with."
      ]
    },
    {
      "cell_type": "code",
      "source": [
        "เป็น dataset ที่ประกอบด้วยวันที่ เวลา สายการบินต้นทาง-ปลายทาง ชื่อสายการบิน ระยะทาง \n",
        "และการ delay ของเที่ยวบินตั้งแต่ปี 2013 ถึง 2018 ส่วนตัวคิดว่า dataset ที่นำมาใช้ครอบคลุมและเหมาะกับการนำมา train model ค่ะ"
      ],
      "metadata": {
        "id": "4zWu_KgagmFZ"
      },
      "execution_count": null,
      "outputs": []
    },
    {
      "cell_type": "markdown",
      "metadata": {
        "id": "WObBdUtkd5QI"
      },
      "source": [
        "### Setup\n",
        "\n",
        "Now that you have decided where you want to focus your attention, you will set up this lab so that you can start solving the problem.\n",
        "\n",
        "**Note:** This notebook was created and tested on an `ml.m4.xlarge` notebook instance with 25 GB storage. "
      ]
    },
    {
      "cell_type": "code",
      "execution_count": null,
      "metadata": {
        "id": "QNkjBclld5QJ"
      },
      "outputs": [],
      "source": [
        "import os\n",
        "from pathlib2 import Path\n",
        "from zipfile import ZipFile\n",
        "import time\n",
        "\n",
        "import pandas as pd\n",
        "import numpy as np\n",
        "import subprocess\n",
        "\n",
        "import matplotlib.pyplot as plt\n",
        "import seaborn as sns\n",
        "\n",
        "sns.set()\n",
        "instance_type='ml.m4.xlarge'\n",
        "\n",
        "import warnings\n",
        "warnings.filterwarnings('ignore')\n",
        "\n",
        "%matplotlib inline"
      ]
    },
    {
      "cell_type": "markdown",
      "metadata": {
        "id": "n9duY729d5QK"
      },
      "source": [
        "# Step 2: Data preprocessing and visualization  \n",
        "In this data preprocessing phase, you explore and visualize your data to better understand it. First, import the necessary libraries and read the data into a pandas DataFrame. After you import the data, explore the dataset. Look for the shape of the dataset and explore your columns and the types of columns that you will work with (numerical, categorical). Consider performing basic statistics on the features to get a sense of feature means and ranges. Examine your target column closely, and determine its distribution.\n",
        "\n",
        "\n",
        "### Specific questions to consider\n",
        "\n",
        "Throughout this section of the lab, consider the following questions:\n",
        "\n",
        "1. What can you deduce from the basic statistics that you ran on the features? \n",
        "2. What can you deduce from the distributions of the target classes?\n",
        "3. Is there anything else you can deduce by exploring the data?\n",
        "\n",
        "#### <span style=\"color: blue;\">Project presentation: Include a summary of your answers to these questions (and other similar questions) in your project presentation.</span>"
      ]
    },
    {
      "cell_type": "markdown",
      "metadata": {
        "id": "MRWB98C1d5QL"
      },
      "source": [
        "Start by bringing in the dataset from a public Amazon Simple Storage Service (Amazon S3) bucket to this notebook environment."
      ]
    },
    {
      "cell_type": "code",
      "execution_count": null,
      "metadata": {
        "id": "ShgMPZhed5QN",
        "outputId": "b6803788-fb52-4e77-ce52-76d0a326b013"
      },
      "outputs": [
        {
          "name": "stdout",
          "output_type": "stream",
          "text": [
            "download: s3://aws-tc-largeobjects/CUR-TF-200-ACMLFO-1/flight_delay_project/data/On_Time_Reporting_Carrier_On_Time_Performance_1987_present_2014_10.zip to ../project/data/FlightDelays/On_Time_Reporting_Carrier_On_Time_Performance_1987_present_2014_10.zip\n",
            "download: s3://aws-tc-largeobjects/CUR-TF-200-ACMLFO-1/flight_delay_project/data/On_Time_Reporting_Carrier_On_Time_Performance_1987_present_2014_2.zip to ../project/data/FlightDelays/On_Time_Reporting_Carrier_On_Time_Performance_1987_present_2014_2.zip\n",
            "download: s3://aws-tc-largeobjects/CUR-TF-200-ACMLFO-1/flight_delay_project/data/On_Time_Reporting_Carrier_On_Time_Performance_1987_present_2014_1.zip to ../project/data/FlightDelays/On_Time_Reporting_Carrier_On_Time_Performance_1987_present_2014_1.zip\n",
            "download: s3://aws-tc-largeobjects/CUR-TF-200-ACMLFO-1/flight_delay_project/data/On_Time_Reporting_Carrier_On_Time_Performance_1987_present_2014_11.zip to ../project/data/FlightDelays/On_Time_Reporting_Carrier_On_Time_Performance_1987_present_2014_11.zip\n",
            "download: s3://aws-tc-largeobjects/CUR-TF-200-ACMLFO-1/flight_delay_project/data/On_Time_Reporting_Carrier_On_Time_Performance_1987_present_2014_12.zip to ../project/data/FlightDelays/On_Time_Reporting_Carrier_On_Time_Performance_1987_present_2014_12.zip\n",
            "download: s3://aws-tc-largeobjects/CUR-TF-200-ACMLFO-1/flight_delay_project/data/On_Time_Reporting_Carrier_On_Time_Performance_1987_present_2014_3.zip to ../project/data/FlightDelays/On_Time_Reporting_Carrier_On_Time_Performance_1987_present_2014_3.zip\n",
            "download: s3://aws-tc-largeobjects/CUR-TF-200-ACMLFO-1/flight_delay_project/data/On_Time_Reporting_Carrier_On_Time_Performance_1987_present_2014_4.zip to ../project/data/FlightDelays/On_Time_Reporting_Carrier_On_Time_Performance_1987_present_2014_4.zip\n",
            "download: s3://aws-tc-largeobjects/CUR-TF-200-ACMLFO-1/flight_delay_project/data/On_Time_Reporting_Carrier_On_Time_Performance_1987_present_2014_6.zip to ../project/data/FlightDelays/On_Time_Reporting_Carrier_On_Time_Performance_1987_present_2014_6.zip\n",
            "download: s3://aws-tc-largeobjects/CUR-TF-200-ACMLFO-1/flight_delay_project/data/On_Time_Reporting_Carrier_On_Time_Performance_1987_present_2014_5.zip to ../project/data/FlightDelays/On_Time_Reporting_Carrier_On_Time_Performance_1987_present_2014_5.zip\n",
            "download: s3://aws-tc-largeobjects/CUR-TF-200-ACMLFO-1/flight_delay_project/data/On_Time_Reporting_Carrier_On_Time_Performance_1987_present_2014_7.zip to ../project/data/FlightDelays/On_Time_Reporting_Carrier_On_Time_Performance_1987_present_2014_7.zip\n",
            "download: s3://aws-tc-largeobjects/CUR-TF-200-ACMLFO-1/flight_delay_project/data/On_Time_Reporting_Carrier_On_Time_Performance_1987_present_2014_9.zip to ../project/data/FlightDelays/On_Time_Reporting_Carrier_On_Time_Performance_1987_present_2014_9.zip\n",
            "download: s3://aws-tc-largeobjects/CUR-TF-200-ACMLFO-1/flight_delay_project/data/On_Time_Reporting_Carrier_On_Time_Performance_1987_present_2015_1.zip to ../project/data/FlightDelays/On_Time_Reporting_Carrier_On_Time_Performance_1987_present_2015_1.zip\n",
            "download: s3://aws-tc-largeobjects/CUR-TF-200-ACMLFO-1/flight_delay_project/data/On_Time_Reporting_Carrier_On_Time_Performance_1987_present_2014_8.zip to ../project/data/FlightDelays/On_Time_Reporting_Carrier_On_Time_Performance_1987_present_2014_8.zip\n",
            "download: s3://aws-tc-largeobjects/CUR-TF-200-ACMLFO-1/flight_delay_project/data/On_Time_Reporting_Carrier_On_Time_Performance_1987_present_2015_10.zip to ../project/data/FlightDelays/On_Time_Reporting_Carrier_On_Time_Performance_1987_present_2015_10.zip\n",
            "download: s3://aws-tc-largeobjects/CUR-TF-200-ACMLFO-1/flight_delay_project/data/On_Time_Reporting_Carrier_On_Time_Performance_1987_present_2015_12.zip to ../project/data/FlightDelays/On_Time_Reporting_Carrier_On_Time_Performance_1987_present_2015_12.zip\n",
            "download: s3://aws-tc-largeobjects/CUR-TF-200-ACMLFO-1/flight_delay_project/data/On_Time_Reporting_Carrier_On_Time_Performance_1987_present_2015_2.zip to ../project/data/FlightDelays/On_Time_Reporting_Carrier_On_Time_Performance_1987_present_2015_2.zip\n",
            "download: s3://aws-tc-largeobjects/CUR-TF-200-ACMLFO-1/flight_delay_project/data/On_Time_Reporting_Carrier_On_Time_Performance_1987_present_2015_11.zip to ../project/data/FlightDelays/On_Time_Reporting_Carrier_On_Time_Performance_1987_present_2015_11.zip\n",
            "download: s3://aws-tc-largeobjects/CUR-TF-200-ACMLFO-1/flight_delay_project/data/On_Time_Reporting_Carrier_On_Time_Performance_1987_present_2015_4.zip to ../project/data/FlightDelays/On_Time_Reporting_Carrier_On_Time_Performance_1987_present_2015_4.zip\n",
            "download: s3://aws-tc-largeobjects/CUR-TF-200-ACMLFO-1/flight_delay_project/data/On_Time_Reporting_Carrier_On_Time_Performance_1987_present_2015_5.zip to ../project/data/FlightDelays/On_Time_Reporting_Carrier_On_Time_Performance_1987_present_2015_5.zip\n",
            "download: s3://aws-tc-largeobjects/CUR-TF-200-ACMLFO-1/flight_delay_project/data/On_Time_Reporting_Carrier_On_Time_Performance_1987_present_2015_6.zip to ../project/data/FlightDelays/On_Time_Reporting_Carrier_On_Time_Performance_1987_present_2015_6.zip\n",
            "download: s3://aws-tc-largeobjects/CUR-TF-200-ACMLFO-1/flight_delay_project/data/On_Time_Reporting_Carrier_On_Time_Performance_1987_present_2015_3.zip to ../project/data/FlightDelays/On_Time_Reporting_Carrier_On_Time_Performance_1987_present_2015_3.zip\n",
            "download: s3://aws-tc-largeobjects/CUR-TF-200-ACMLFO-1/flight_delay_project/data/On_Time_Reporting_Carrier_On_Time_Performance_1987_present_2015_9.zip to ../project/data/FlightDelays/On_Time_Reporting_Carrier_On_Time_Performance_1987_present_2015_9.zip\n",
            "download: s3://aws-tc-largeobjects/CUR-TF-200-ACMLFO-1/flight_delay_project/data/On_Time_Reporting_Carrier_On_Time_Performance_1987_present_2015_7.zip to ../project/data/FlightDelays/On_Time_Reporting_Carrier_On_Time_Performance_1987_present_2015_7.zip\n",
            "download: s3://aws-tc-largeobjects/CUR-TF-200-ACMLFO-1/flight_delay_project/data/On_Time_Reporting_Carrier_On_Time_Performance_1987_present_2015_8.zip to ../project/data/FlightDelays/On_Time_Reporting_Carrier_On_Time_Performance_1987_present_2015_8.zip\n",
            "download: s3://aws-tc-largeobjects/CUR-TF-200-ACMLFO-1/flight_delay_project/data/On_Time_Reporting_Carrier_On_Time_Performance_1987_present_2016_1.zip to ../project/data/FlightDelays/On_Time_Reporting_Carrier_On_Time_Performance_1987_present_2016_1.zip\n",
            "download: s3://aws-tc-largeobjects/CUR-TF-200-ACMLFO-1/flight_delay_project/data/On_Time_Reporting_Carrier_On_Time_Performance_1987_present_2016_2.zip to ../project/data/FlightDelays/On_Time_Reporting_Carrier_On_Time_Performance_1987_present_2016_2.zip\n",
            "download: s3://aws-tc-largeobjects/CUR-TF-200-ACMLFO-1/flight_delay_project/data/On_Time_Reporting_Carrier_On_Time_Performance_1987_present_2016_11.zip to ../project/data/FlightDelays/On_Time_Reporting_Carrier_On_Time_Performance_1987_present_2016_11.zip\n",
            "download: s3://aws-tc-largeobjects/CUR-TF-200-ACMLFO-1/flight_delay_project/data/On_Time_Reporting_Carrier_On_Time_Performance_1987_present_2016_12.zip to ../project/data/FlightDelays/On_Time_Reporting_Carrier_On_Time_Performance_1987_present_2016_12.zip\n",
            "download: s3://aws-tc-largeobjects/CUR-TF-200-ACMLFO-1/flight_delay_project/data/On_Time_Reporting_Carrier_On_Time_Performance_1987_present_2016_10.zip to ../project/data/FlightDelays/On_Time_Reporting_Carrier_On_Time_Performance_1987_present_2016_10.zip\n",
            "download: s3://aws-tc-largeobjects/CUR-TF-200-ACMLFO-1/flight_delay_project/data/On_Time_Reporting_Carrier_On_Time_Performance_1987_present_2016_3.zip to ../project/data/FlightDelays/On_Time_Reporting_Carrier_On_Time_Performance_1987_present_2016_3.zip\n",
            "download: s3://aws-tc-largeobjects/CUR-TF-200-ACMLFO-1/flight_delay_project/data/On_Time_Reporting_Carrier_On_Time_Performance_1987_present_2016_6.zip to ../project/data/FlightDelays/On_Time_Reporting_Carrier_On_Time_Performance_1987_present_2016_6.zip\n",
            "download: s3://aws-tc-largeobjects/CUR-TF-200-ACMLFO-1/flight_delay_project/data/On_Time_Reporting_Carrier_On_Time_Performance_1987_present_2016_5.zip to ../project/data/FlightDelays/On_Time_Reporting_Carrier_On_Time_Performance_1987_present_2016_5.zip\n",
            "download: s3://aws-tc-largeobjects/CUR-TF-200-ACMLFO-1/flight_delay_project/data/On_Time_Reporting_Carrier_On_Time_Performance_1987_present_2016_8.zip to ../project/data/FlightDelays/On_Time_Reporting_Carrier_On_Time_Performance_1987_present_2016_8.zip\n",
            "download: s3://aws-tc-largeobjects/CUR-TF-200-ACMLFO-1/flight_delay_project/data/On_Time_Reporting_Carrier_On_Time_Performance_1987_present_2016_4.zip to ../project/data/FlightDelays/On_Time_Reporting_Carrier_On_Time_Performance_1987_present_2016_4.zip\n",
            "download: s3://aws-tc-largeobjects/CUR-TF-200-ACMLFO-1/flight_delay_project/data/On_Time_Reporting_Carrier_On_Time_Performance_1987_present_2016_7.zip to ../project/data/FlightDelays/On_Time_Reporting_Carrier_On_Time_Performance_1987_present_2016_7.zip\n",
            "download: s3://aws-tc-largeobjects/CUR-TF-200-ACMLFO-1/flight_delay_project/data/On_Time_Reporting_Carrier_On_Time_Performance_1987_present_2016_9.zip to ../project/data/FlightDelays/On_Time_Reporting_Carrier_On_Time_Performance_1987_present_2016_9.zip\n",
            "download: s3://aws-tc-largeobjects/CUR-TF-200-ACMLFO-1/flight_delay_project/data/On_Time_Reporting_Carrier_On_Time_Performance_1987_present_2017_10.zip to ../project/data/FlightDelays/On_Time_Reporting_Carrier_On_Time_Performance_1987_present_2017_10.zip\n",
            "download: s3://aws-tc-largeobjects/CUR-TF-200-ACMLFO-1/flight_delay_project/data/On_Time_Reporting_Carrier_On_Time_Performance_1987_present_2017_1.zip to ../project/data/FlightDelays/On_Time_Reporting_Carrier_On_Time_Performance_1987_present_2017_1.zip\n",
            "download: s3://aws-tc-largeobjects/CUR-TF-200-ACMLFO-1/flight_delay_project/data/On_Time_Reporting_Carrier_On_Time_Performance_1987_present_2017_11.zip to ../project/data/FlightDelays/On_Time_Reporting_Carrier_On_Time_Performance_1987_present_2017_11.zip\n",
            "download: s3://aws-tc-largeobjects/CUR-TF-200-ACMLFO-1/flight_delay_project/data/On_Time_Reporting_Carrier_On_Time_Performance_1987_present_2017_2.zip to ../project/data/FlightDelays/On_Time_Reporting_Carrier_On_Time_Performance_1987_present_2017_2.zip\n",
            "download: s3://aws-tc-largeobjects/CUR-TF-200-ACMLFO-1/flight_delay_project/data/On_Time_Reporting_Carrier_On_Time_Performance_1987_present_2017_12.zip to ../project/data/FlightDelays/On_Time_Reporting_Carrier_On_Time_Performance_1987_present_2017_12.zip\n",
            "download: s3://aws-tc-largeobjects/CUR-TF-200-ACMLFO-1/flight_delay_project/data/On_Time_Reporting_Carrier_On_Time_Performance_1987_present_2017_3.zip to ../project/data/FlightDelays/On_Time_Reporting_Carrier_On_Time_Performance_1987_present_2017_3.zip\n",
            "download: s3://aws-tc-largeobjects/CUR-TF-200-ACMLFO-1/flight_delay_project/data/On_Time_Reporting_Carrier_On_Time_Performance_1987_present_2017_4.zip to ../project/data/FlightDelays/On_Time_Reporting_Carrier_On_Time_Performance_1987_present_2017_4.zip\n",
            "download: s3://aws-tc-largeobjects/CUR-TF-200-ACMLFO-1/flight_delay_project/data/On_Time_Reporting_Carrier_On_Time_Performance_1987_present_2017_6.zip to ../project/data/FlightDelays/On_Time_Reporting_Carrier_On_Time_Performance_1987_present_2017_6.zip\n",
            "download: s3://aws-tc-largeobjects/CUR-TF-200-ACMLFO-1/flight_delay_project/data/On_Time_Reporting_Carrier_On_Time_Performance_1987_present_2017_5.zip to ../project/data/FlightDelays/On_Time_Reporting_Carrier_On_Time_Performance_1987_present_2017_5.zip\n",
            "download: s3://aws-tc-largeobjects/CUR-TF-200-ACMLFO-1/flight_delay_project/data/On_Time_Reporting_Carrier_On_Time_Performance_1987_present_2017_7.zip to ../project/data/FlightDelays/On_Time_Reporting_Carrier_On_Time_Performance_1987_present_2017_7.zip\n",
            "download: s3://aws-tc-largeobjects/CUR-TF-200-ACMLFO-1/flight_delay_project/data/On_Time_Reporting_Carrier_On_Time_Performance_1987_present_2017_9.zip to ../project/data/FlightDelays/On_Time_Reporting_Carrier_On_Time_Performance_1987_present_2017_9.zip\n",
            "download: s3://aws-tc-largeobjects/CUR-TF-200-ACMLFO-1/flight_delay_project/data/On_Time_Reporting_Carrier_On_Time_Performance_1987_present_2017_8.zip to ../project/data/FlightDelays/On_Time_Reporting_Carrier_On_Time_Performance_1987_present_2017_8.zip\n",
            "download: s3://aws-tc-largeobjects/CUR-TF-200-ACMLFO-1/flight_delay_project/data/On_Time_Reporting_Carrier_On_Time_Performance_1987_present_2018_11.zip to ../project/data/FlightDelays/On_Time_Reporting_Carrier_On_Time_Performance_1987_present_2018_11.zip\n",
            "download: s3://aws-tc-largeobjects/CUR-TF-200-ACMLFO-1/flight_delay_project/data/On_Time_Reporting_Carrier_On_Time_Performance_1987_present_2018_1.zip to ../project/data/FlightDelays/On_Time_Reporting_Carrier_On_Time_Performance_1987_present_2018_1.zip\n",
            "download: s3://aws-tc-largeobjects/CUR-TF-200-ACMLFO-1/flight_delay_project/data/On_Time_Reporting_Carrier_On_Time_Performance_1987_present_2018_2.zip to ../project/data/FlightDelays/On_Time_Reporting_Carrier_On_Time_Performance_1987_present_2018_2.zip\n",
            "download: s3://aws-tc-largeobjects/CUR-TF-200-ACMLFO-1/flight_delay_project/data/On_Time_Reporting_Carrier_On_Time_Performance_1987_present_2018_12.zip to ../project/data/FlightDelays/On_Time_Reporting_Carrier_On_Time_Performance_1987_present_2018_12.zip\n",
            "download: s3://aws-tc-largeobjects/CUR-TF-200-ACMLFO-1/flight_delay_project/data/On_Time_Reporting_Carrier_On_Time_Performance_1987_present_2018_10.zip to ../project/data/FlightDelays/On_Time_Reporting_Carrier_On_Time_Performance_1987_present_2018_10.zip\n",
            "download: s3://aws-tc-largeobjects/CUR-TF-200-ACMLFO-1/flight_delay_project/data/On_Time_Reporting_Carrier_On_Time_Performance_1987_present_2018_3.zip to ../project/data/FlightDelays/On_Time_Reporting_Carrier_On_Time_Performance_1987_present_2018_3.zip\n",
            "download: s3://aws-tc-largeobjects/CUR-TF-200-ACMLFO-1/flight_delay_project/data/On_Time_Reporting_Carrier_On_Time_Performance_1987_present_2018_4.zip to ../project/data/FlightDelays/On_Time_Reporting_Carrier_On_Time_Performance_1987_present_2018_4.zip\n",
            "download: s3://aws-tc-largeobjects/CUR-TF-200-ACMLFO-1/flight_delay_project/data/On_Time_Reporting_Carrier_On_Time_Performance_1987_present_2018_5.zip to ../project/data/FlightDelays/On_Time_Reporting_Carrier_On_Time_Performance_1987_present_2018_5.zip\n",
            "download: s3://aws-tc-largeobjects/CUR-TF-200-ACMLFO-1/flight_delay_project/data/On_Time_Reporting_Carrier_On_Time_Performance_1987_present_2018_6.zip to ../project/data/FlightDelays/On_Time_Reporting_Carrier_On_Time_Performance_1987_present_2018_6.zip\n",
            "download: s3://aws-tc-largeobjects/CUR-TF-200-ACMLFO-1/flight_delay_project/data/On_Time_Reporting_Carrier_On_Time_Performance_1987_present_2018_9.zip to ../project/data/FlightDelays/On_Time_Reporting_Carrier_On_Time_Performance_1987_present_2018_9.zip\n",
            "download: s3://aws-tc-largeobjects/CUR-TF-200-ACMLFO-1/flight_delay_project/data/On_Time_Reporting_Carrier_On_Time_Performance_1987_present_2018_7.zip to ../project/data/FlightDelays/On_Time_Reporting_Carrier_On_Time_Performance_1987_present_2018_7.zip\n",
            "download: s3://aws-tc-largeobjects/CUR-TF-200-ACMLFO-1/flight_delay_project/data/On_Time_Reporting_Carrier_On_Time_Performance_1987_present_2018_8.zip to ../project/data/FlightDelays/On_Time_Reporting_Carrier_On_Time_Performance_1987_present_2018_8.zip\n"
          ]
        }
      ],
      "source": [
        "# download the files\n",
        "\n",
        "zip_path = '/home/ec2-user/SageMaker/project/data/FlightDelays/'\n",
        "base_path = '/home/ec2-user/SageMaker/project/data/FlightDelays/'\n",
        "csv_base_path = '/home/ec2-user/SageMaker/project/data/csvFlightDelays/'\n",
        "\n",
        "!mkdir -p {zip_path}\n",
        "!mkdir -p {csv_base_path}\n",
        "!aws s3 cp s3://aws-tc-largeobjects/CUR-TF-200-ACMLFO-1/flight_delay_project/data/ {zip_path} --recursive\n"
      ]
    },
    {
      "cell_type": "code",
      "execution_count": null,
      "metadata": {
        "id": "zFFWwE-Xd5QP",
        "outputId": "58bbd494-6a4a-4e56-f6af-a4da3e0e81c8"
      },
      "outputs": [
        {
          "data": {
            "text/plain": [
              "60"
            ]
          },
          "execution_count": 3,
          "metadata": {},
          "output_type": "execute_result"
        }
      ],
      "source": [
        "zip_files = [str(file) for file in list(Path(base_path).iterdir()) if '.zip' in str(file)]\n",
        "len(zip_files)"
      ]
    },
    {
      "cell_type": "markdown",
      "metadata": {
        "id": "Ary7D9jtd5QQ"
      },
      "source": [
        "Extract comma-separated values (CSV) files from the .zip files."
      ]
    },
    {
      "cell_type": "code",
      "execution_count": null,
      "metadata": {
        "id": "OW7CFn_4d5QR",
        "outputId": "34a4b571-5f62-4e41-a976-16aa9aada5ff"
      },
      "outputs": [
        {
          "name": "stdout",
          "output_type": "stream",
          "text": [
            "Extracting /home/ec2-user/SageMaker/project/data/FlightDelays/On_Time_Reporting_Carrier_On_Time_Performance_1987_present_2014_7.zip \n",
            "Extracting /home/ec2-user/SageMaker/project/data/FlightDelays/On_Time_Reporting_Carrier_On_Time_Performance_1987_present_2015_2.zip \n",
            "Extracting /home/ec2-user/SageMaker/project/data/FlightDelays/On_Time_Reporting_Carrier_On_Time_Performance_1987_present_2017_8.zip \n",
            "Extracting /home/ec2-user/SageMaker/project/data/FlightDelays/On_Time_Reporting_Carrier_On_Time_Performance_1987_present_2018_2.zip \n",
            "Extracting /home/ec2-user/SageMaker/project/data/FlightDelays/On_Time_Reporting_Carrier_On_Time_Performance_1987_present_2017_4.zip \n",
            "Extracting /home/ec2-user/SageMaker/project/data/FlightDelays/On_Time_Reporting_Carrier_On_Time_Performance_1987_present_2016_1.zip \n",
            "Extracting /home/ec2-user/SageMaker/project/data/FlightDelays/On_Time_Reporting_Carrier_On_Time_Performance_1987_present_2017_5.zip \n",
            "Extracting /home/ec2-user/SageMaker/project/data/FlightDelays/On_Time_Reporting_Carrier_On_Time_Performance_1987_present_2018_1.zip \n",
            "Extracting /home/ec2-user/SageMaker/project/data/FlightDelays/On_Time_Reporting_Carrier_On_Time_Performance_1987_present_2018_10.zip \n",
            "Extracting /home/ec2-user/SageMaker/project/data/FlightDelays/On_Time_Reporting_Carrier_On_Time_Performance_1987_present_2015_11.zip \n",
            "Extracting /home/ec2-user/SageMaker/project/data/FlightDelays/On_Time_Reporting_Carrier_On_Time_Performance_1987_present_2014_3.zip \n",
            "Extracting /home/ec2-user/SageMaker/project/data/FlightDelays/On_Time_Reporting_Carrier_On_Time_Performance_1987_present_2018_9.zip \n",
            "Extracting /home/ec2-user/SageMaker/project/data/FlightDelays/On_Time_Reporting_Carrier_On_Time_Performance_1987_present_2017_9.zip \n",
            "Extracting /home/ec2-user/SageMaker/project/data/FlightDelays/On_Time_Reporting_Carrier_On_Time_Performance_1987_present_2016_12.zip \n",
            "Extracting /home/ec2-user/SageMaker/project/data/FlightDelays/On_Time_Reporting_Carrier_On_Time_Performance_1987_present_2018_5.zip \n",
            "Extracting /home/ec2-user/SageMaker/project/data/FlightDelays/On_Time_Reporting_Carrier_On_Time_Performance_1987_present_2017_2.zip \n",
            "Extracting /home/ec2-user/SageMaker/project/data/FlightDelays/On_Time_Reporting_Carrier_On_Time_Performance_1987_present_2018_12.zip \n",
            "Extracting /home/ec2-user/SageMaker/project/data/FlightDelays/On_Time_Reporting_Carrier_On_Time_Performance_1987_present_2018_3.zip \n",
            "Extracting /home/ec2-user/SageMaker/project/data/FlightDelays/On_Time_Reporting_Carrier_On_Time_Performance_1987_present_2016_5.zip \n",
            "Extracting /home/ec2-user/SageMaker/project/data/FlightDelays/On_Time_Reporting_Carrier_On_Time_Performance_1987_present_2016_10.zip \n",
            "Extracting /home/ec2-user/SageMaker/project/data/FlightDelays/On_Time_Reporting_Carrier_On_Time_Performance_1987_present_2017_7.zip \n",
            "Extracting /home/ec2-user/SageMaker/project/data/FlightDelays/On_Time_Reporting_Carrier_On_Time_Performance_1987_present_2018_6.zip \n",
            "Extracting /home/ec2-user/SageMaker/project/data/FlightDelays/On_Time_Reporting_Carrier_On_Time_Performance_1987_present_2014_8.zip \n",
            "Extracting /home/ec2-user/SageMaker/project/data/FlightDelays/On_Time_Reporting_Carrier_On_Time_Performance_1987_present_2014_6.zip \n",
            "Extracting /home/ec2-user/SageMaker/project/data/FlightDelays/On_Time_Reporting_Carrier_On_Time_Performance_1987_present_2015_4.zip \n",
            "Extracting /home/ec2-user/SageMaker/project/data/FlightDelays/On_Time_Reporting_Carrier_On_Time_Performance_1987_present_2015_1.zip \n",
            "Extracting /home/ec2-user/SageMaker/project/data/FlightDelays/On_Time_Reporting_Carrier_On_Time_Performance_1987_present_2015_12.zip \n",
            "Extracting /home/ec2-user/SageMaker/project/data/FlightDelays/On_Time_Reporting_Carrier_On_Time_Performance_1987_present_2014_9.zip \n",
            "Extracting /home/ec2-user/SageMaker/project/data/FlightDelays/On_Time_Reporting_Carrier_On_Time_Performance_1987_present_2016_7.zip \n",
            "Extracting /home/ec2-user/SageMaker/project/data/FlightDelays/On_Time_Reporting_Carrier_On_Time_Performance_1987_present_2016_4.zip \n",
            "Extracting /home/ec2-user/SageMaker/project/data/FlightDelays/On_Time_Reporting_Carrier_On_Time_Performance_1987_present_2016_3.zip \n",
            "Extracting /home/ec2-user/SageMaker/project/data/FlightDelays/On_Time_Reporting_Carrier_On_Time_Performance_1987_present_2017_6.zip \n",
            "Extracting /home/ec2-user/SageMaker/project/data/FlightDelays/On_Time_Reporting_Carrier_On_Time_Performance_1987_present_2014_5.zip \n",
            "Extracting /home/ec2-user/SageMaker/project/data/FlightDelays/On_Time_Reporting_Carrier_On_Time_Performance_1987_present_2018_8.zip \n",
            "Extracting /home/ec2-user/SageMaker/project/data/FlightDelays/On_Time_Reporting_Carrier_On_Time_Performance_1987_present_2015_8.zip \n",
            "Extracting /home/ec2-user/SageMaker/project/data/FlightDelays/On_Time_Reporting_Carrier_On_Time_Performance_1987_present_2015_10.zip \n",
            "Extracting /home/ec2-user/SageMaker/project/data/FlightDelays/On_Time_Reporting_Carrier_On_Time_Performance_1987_present_2014_10.zip \n",
            "Extracting /home/ec2-user/SageMaker/project/data/FlightDelays/On_Time_Reporting_Carrier_On_Time_Performance_1987_present_2016_6.zip \n",
            "Extracting /home/ec2-user/SageMaker/project/data/FlightDelays/On_Time_Reporting_Carrier_On_Time_Performance_1987_present_2016_9.zip \n",
            "Extracting /home/ec2-user/SageMaker/project/data/FlightDelays/On_Time_Reporting_Carrier_On_Time_Performance_1987_present_2017_10.zip \n",
            "Extracting /home/ec2-user/SageMaker/project/data/FlightDelays/On_Time_Reporting_Carrier_On_Time_Performance_1987_present_2018_4.zip \n",
            "Extracting /home/ec2-user/SageMaker/project/data/FlightDelays/On_Time_Reporting_Carrier_On_Time_Performance_1987_present_2018_11.zip \n",
            "Extracting /home/ec2-user/SageMaker/project/data/FlightDelays/On_Time_Reporting_Carrier_On_Time_Performance_1987_present_2015_6.zip \n",
            "Extracting /home/ec2-user/SageMaker/project/data/FlightDelays/On_Time_Reporting_Carrier_On_Time_Performance_1987_present_2017_11.zip \n",
            "Extracting /home/ec2-user/SageMaker/project/data/FlightDelays/On_Time_Reporting_Carrier_On_Time_Performance_1987_present_2014_1.zip \n",
            "Extracting /home/ec2-user/SageMaker/project/data/FlightDelays/On_Time_Reporting_Carrier_On_Time_Performance_1987_present_2018_7.zip \n",
            "Extracting /home/ec2-user/SageMaker/project/data/FlightDelays/On_Time_Reporting_Carrier_On_Time_Performance_1987_present_2014_4.zip \n",
            "Extracting /home/ec2-user/SageMaker/project/data/FlightDelays/On_Time_Reporting_Carrier_On_Time_Performance_1987_present_2014_11.zip \n",
            "Extracting /home/ec2-user/SageMaker/project/data/FlightDelays/On_Time_Reporting_Carrier_On_Time_Performance_1987_present_2017_1.zip \n",
            "Extracting /home/ec2-user/SageMaker/project/data/FlightDelays/On_Time_Reporting_Carrier_On_Time_Performance_1987_present_2017_12.zip \n",
            "Extracting /home/ec2-user/SageMaker/project/data/FlightDelays/On_Time_Reporting_Carrier_On_Time_Performance_1987_present_2014_12.zip \n",
            "Extracting /home/ec2-user/SageMaker/project/data/FlightDelays/On_Time_Reporting_Carrier_On_Time_Performance_1987_present_2015_5.zip \n",
            "Extracting /home/ec2-user/SageMaker/project/data/FlightDelays/On_Time_Reporting_Carrier_On_Time_Performance_1987_present_2016_11.zip \n",
            "Extracting /home/ec2-user/SageMaker/project/data/FlightDelays/On_Time_Reporting_Carrier_On_Time_Performance_1987_present_2017_3.zip \n",
            "Extracting /home/ec2-user/SageMaker/project/data/FlightDelays/On_Time_Reporting_Carrier_On_Time_Performance_1987_present_2015_9.zip \n",
            "Extracting /home/ec2-user/SageMaker/project/data/FlightDelays/On_Time_Reporting_Carrier_On_Time_Performance_1987_present_2015_7.zip \n",
            "Extracting /home/ec2-user/SageMaker/project/data/FlightDelays/On_Time_Reporting_Carrier_On_Time_Performance_1987_present_2015_3.zip \n",
            "Extracting /home/ec2-user/SageMaker/project/data/FlightDelays/On_Time_Reporting_Carrier_On_Time_Performance_1987_present_2016_2.zip \n",
            "Extracting /home/ec2-user/SageMaker/project/data/FlightDelays/On_Time_Reporting_Carrier_On_Time_Performance_1987_present_2014_2.zip \n",
            "Extracting /home/ec2-user/SageMaker/project/data/FlightDelays/On_Time_Reporting_Carrier_On_Time_Performance_1987_present_2016_8.zip \n",
            "Files Extracted\n"
          ]
        }
      ],
      "source": [
        "def zip2csv(zipFile_name , file_path):\n",
        "    \"\"\"\n",
        "    Extract csv from zip files\n",
        "    zipFile_name: name of the zip file\n",
        "    file_path : name of the folder to store csv\n",
        "    \"\"\"\n",
        "\n",
        "    try:\n",
        "        with ZipFile(zipFile_name, 'r') as z: \n",
        "            print(f'Extracting {zipFile_name} ') \n",
        "            z.extractall(path=file_path) \n",
        "    except:\n",
        "        print(f'zip2csv failed for {zipFile_name}')\n",
        "\n",
        "for file in zip_files:\n",
        "    zip2csv(file, csv_base_path)\n",
        "\n",
        "print(\"Files Extracted\")"
      ]
    },
    {
      "cell_type": "code",
      "execution_count": null,
      "metadata": {
        "id": "odhPdVA5d5QT",
        "outputId": "e8222baf-c346-45d3-ffa4-d26046c359ca"
      },
      "outputs": [
        {
          "data": {
            "text/plain": [
              "60"
            ]
          },
          "execution_count": 5,
          "metadata": {},
          "output_type": "execute_result"
        }
      ],
      "source": [
        "csv_files = [str(file) for file in list(Path(csv_base_path).iterdir()) if '.csv' in str(file)]\n",
        "len(csv_files)"
      ]
    },
    {
      "cell_type": "markdown",
      "metadata": {
        "id": "DphuEpald5QU"
      },
      "source": [
        "Before you load the CSV file, read the HTML file from the extracted folder. This HTML file includes the background and more information about the features that are included in the dataset."
      ]
    },
    {
      "cell_type": "code",
      "execution_count": null,
      "metadata": {
        "id": "sCNvGBPEd5QV",
        "outputId": "fc280dce-8f56-41e0-d02d-bda47e84bae3"
      },
      "outputs": [
        {
          "data": {
            "text/html": [
              "\n",
              "        <iframe\n",
              "            width=\"1000\"\n",
              "            height=\"600\"\n",
              "            src=\"../project/data/csvFlightDelays/readme.html\"\n",
              "            frameborder=\"0\"\n",
              "            allowfullscreen\n",
              "        ></iframe>\n",
              "        "
            ],
            "text/plain": [
              "<IPython.lib.display.IFrame at 0x7f5d68743ba8>"
            ]
          },
          "execution_count": 6,
          "metadata": {},
          "output_type": "execute_result"
        }
      ],
      "source": [
        "from IPython.display import IFrame\n",
        "\n",
        "IFrame(src=os.path.relpath(f\"{csv_base_path}readme.html\"), width=1000, height=600)"
      ]
    },
    {
      "cell_type": "markdown",
      "metadata": {
        "id": "9O6qvIZUd5QX"
      },
      "source": [
        "#### Load sample CSV file\n",
        "\n",
        "Before you combine all the CSV files, examine the data from a single CSV file. By using pandas, read the `On_Time_Reporting_Carrier_On_Time_Performance_(1987_present)_2018_9.csv` file first. You can use the built-in `read_csv` function in Python ([pandas.read_csv documentation](https://pandas.pydata.org/pandas-docs/stable/reference/api/pandas.read_csv.html))."
      ]
    },
    {
      "cell_type": "code",
      "execution_count": null,
      "metadata": {
        "id": "KVMaQ75td5QY"
      },
      "outputs": [],
      "source": [
        "df_temp = pd.read_csv(f\"{csv_base_path}On_Time_Reporting_Carrier_On_Time_Performance_(1987_present)_2018_9.csv\")"
      ]
    },
    {
      "cell_type": "markdown",
      "metadata": {
        "id": "TdRa4kQjd5QZ"
      },
      "source": [
        "**Question**: Print the row and column length in the dataset, and print the column names.\n",
        "\n",
        "**Hint**: To view the rows and columns of a DataFrame, use the `<DataFrame>.shape` function. To view the column names, use the `<DataFrame>.columns` function."
      ]
    },
    {
      "cell_type": "code",
      "execution_count": null,
      "metadata": {
        "id": "_NgnwPJOd5Qb",
        "outputId": "537163fa-0770-4228-f23d-f46b94a7b2b7"
      },
      "outputs": [
        {
          "name": "stdout",
          "output_type": "stream",
          "text": [
            "Rows and columns in one CSV file is (585749, 110)\n"
          ]
        }
      ],
      "source": [
        "df_shape = df_temp.shape\n",
        "print(f'Rows and columns in one CSV file is {df_shape}')"
      ]
    },
    {
      "cell_type": "markdown",
      "metadata": {
        "id": "c98krUWSd5Qc"
      },
      "source": [
        "**Question**: Print the first 10 rows of the dataset.  \n",
        "\n",
        "**Hint**: To print `x` number of rows, use the built-in `head(x)` function in pandas."
      ]
    },
    {
      "cell_type": "code",
      "execution_count": null,
      "metadata": {
        "id": "EzsXc83ed5Qd",
        "outputId": "ac27c611-1fe1-4dda-c8a6-0eb470f1e9d1"
      },
      "outputs": [
        {
          "data": {
            "text/html": [
              "<div>\n",
              "<style scoped>\n",
              "    .dataframe tbody tr th:only-of-type {\n",
              "        vertical-align: middle;\n",
              "    }\n",
              "\n",
              "    .dataframe tbody tr th {\n",
              "        vertical-align: top;\n",
              "    }\n",
              "\n",
              "    .dataframe thead th {\n",
              "        text-align: right;\n",
              "    }\n",
              "</style>\n",
              "<table border=\"1\" class=\"dataframe\">\n",
              "  <thead>\n",
              "    <tr style=\"text-align: right;\">\n",
              "      <th></th>\n",
              "      <th>Year</th>\n",
              "      <th>Quarter</th>\n",
              "      <th>Month</th>\n",
              "      <th>DayofMonth</th>\n",
              "      <th>DayOfWeek</th>\n",
              "      <th>FlightDate</th>\n",
              "      <th>Reporting_Airline</th>\n",
              "      <th>DOT_ID_Reporting_Airline</th>\n",
              "      <th>IATA_CODE_Reporting_Airline</th>\n",
              "      <th>Tail_Number</th>\n",
              "      <th>...</th>\n",
              "      <th>Div4TailNum</th>\n",
              "      <th>Div5Airport</th>\n",
              "      <th>Div5AirportID</th>\n",
              "      <th>Div5AirportSeqID</th>\n",
              "      <th>Div5WheelsOn</th>\n",
              "      <th>Div5TotalGTime</th>\n",
              "      <th>Div5LongestGTime</th>\n",
              "      <th>Div5WheelsOff</th>\n",
              "      <th>Div5TailNum</th>\n",
              "      <th>Unnamed: 109</th>\n",
              "    </tr>\n",
              "  </thead>\n",
              "  <tbody>\n",
              "    <tr>\n",
              "      <th>0</th>\n",
              "      <td>2018</td>\n",
              "      <td>3</td>\n",
              "      <td>9</td>\n",
              "      <td>3</td>\n",
              "      <td>1</td>\n",
              "      <td>2018-09-03</td>\n",
              "      <td>9E</td>\n",
              "      <td>20363</td>\n",
              "      <td>9E</td>\n",
              "      <td>N908XJ</td>\n",
              "      <td>...</td>\n",
              "      <td>NaN</td>\n",
              "      <td>NaN</td>\n",
              "      <td>NaN</td>\n",
              "      <td>NaN</td>\n",
              "      <td>NaN</td>\n",
              "      <td>NaN</td>\n",
              "      <td>NaN</td>\n",
              "      <td>NaN</td>\n",
              "      <td>NaN</td>\n",
              "      <td>NaN</td>\n",
              "    </tr>\n",
              "    <tr>\n",
              "      <th>1</th>\n",
              "      <td>2018</td>\n",
              "      <td>3</td>\n",
              "      <td>9</td>\n",
              "      <td>9</td>\n",
              "      <td>7</td>\n",
              "      <td>2018-09-09</td>\n",
              "      <td>9E</td>\n",
              "      <td>20363</td>\n",
              "      <td>9E</td>\n",
              "      <td>N315PQ</td>\n",
              "      <td>...</td>\n",
              "      <td>NaN</td>\n",
              "      <td>NaN</td>\n",
              "      <td>NaN</td>\n",
              "      <td>NaN</td>\n",
              "      <td>NaN</td>\n",
              "      <td>NaN</td>\n",
              "      <td>NaN</td>\n",
              "      <td>NaN</td>\n",
              "      <td>NaN</td>\n",
              "      <td>NaN</td>\n",
              "    </tr>\n",
              "    <tr>\n",
              "      <th>2</th>\n",
              "      <td>2018</td>\n",
              "      <td>3</td>\n",
              "      <td>9</td>\n",
              "      <td>10</td>\n",
              "      <td>1</td>\n",
              "      <td>2018-09-10</td>\n",
              "      <td>9E</td>\n",
              "      <td>20363</td>\n",
              "      <td>9E</td>\n",
              "      <td>N582CA</td>\n",
              "      <td>...</td>\n",
              "      <td>NaN</td>\n",
              "      <td>NaN</td>\n",
              "      <td>NaN</td>\n",
              "      <td>NaN</td>\n",
              "      <td>NaN</td>\n",
              "      <td>NaN</td>\n",
              "      <td>NaN</td>\n",
              "      <td>NaN</td>\n",
              "      <td>NaN</td>\n",
              "      <td>NaN</td>\n",
              "    </tr>\n",
              "    <tr>\n",
              "      <th>3</th>\n",
              "      <td>2018</td>\n",
              "      <td>3</td>\n",
              "      <td>9</td>\n",
              "      <td>13</td>\n",
              "      <td>4</td>\n",
              "      <td>2018-09-13</td>\n",
              "      <td>9E</td>\n",
              "      <td>20363</td>\n",
              "      <td>9E</td>\n",
              "      <td>N292PQ</td>\n",
              "      <td>...</td>\n",
              "      <td>NaN</td>\n",
              "      <td>NaN</td>\n",
              "      <td>NaN</td>\n",
              "      <td>NaN</td>\n",
              "      <td>NaN</td>\n",
              "      <td>NaN</td>\n",
              "      <td>NaN</td>\n",
              "      <td>NaN</td>\n",
              "      <td>NaN</td>\n",
              "      <td>NaN</td>\n",
              "    </tr>\n",
              "    <tr>\n",
              "      <th>4</th>\n",
              "      <td>2018</td>\n",
              "      <td>3</td>\n",
              "      <td>9</td>\n",
              "      <td>14</td>\n",
              "      <td>5</td>\n",
              "      <td>2018-09-14</td>\n",
              "      <td>9E</td>\n",
              "      <td>20363</td>\n",
              "      <td>9E</td>\n",
              "      <td>N600LR</td>\n",
              "      <td>...</td>\n",
              "      <td>NaN</td>\n",
              "      <td>NaN</td>\n",
              "      <td>NaN</td>\n",
              "      <td>NaN</td>\n",
              "      <td>NaN</td>\n",
              "      <td>NaN</td>\n",
              "      <td>NaN</td>\n",
              "      <td>NaN</td>\n",
              "      <td>NaN</td>\n",
              "      <td>NaN</td>\n",
              "    </tr>\n",
              "    <tr>\n",
              "      <th>5</th>\n",
              "      <td>2018</td>\n",
              "      <td>3</td>\n",
              "      <td>9</td>\n",
              "      <td>16</td>\n",
              "      <td>7</td>\n",
              "      <td>2018-09-16</td>\n",
              "      <td>9E</td>\n",
              "      <td>20363</td>\n",
              "      <td>9E</td>\n",
              "      <td>N316PQ</td>\n",
              "      <td>...</td>\n",
              "      <td>NaN</td>\n",
              "      <td>NaN</td>\n",
              "      <td>NaN</td>\n",
              "      <td>NaN</td>\n",
              "      <td>NaN</td>\n",
              "      <td>NaN</td>\n",
              "      <td>NaN</td>\n",
              "      <td>NaN</td>\n",
              "      <td>NaN</td>\n",
              "      <td>NaN</td>\n",
              "    </tr>\n",
              "    <tr>\n",
              "      <th>6</th>\n",
              "      <td>2018</td>\n",
              "      <td>3</td>\n",
              "      <td>9</td>\n",
              "      <td>17</td>\n",
              "      <td>1</td>\n",
              "      <td>2018-09-17</td>\n",
              "      <td>9E</td>\n",
              "      <td>20363</td>\n",
              "      <td>9E</td>\n",
              "      <td>N916XJ</td>\n",
              "      <td>...</td>\n",
              "      <td>NaN</td>\n",
              "      <td>NaN</td>\n",
              "      <td>NaN</td>\n",
              "      <td>NaN</td>\n",
              "      <td>NaN</td>\n",
              "      <td>NaN</td>\n",
              "      <td>NaN</td>\n",
              "      <td>NaN</td>\n",
              "      <td>NaN</td>\n",
              "      <td>NaN</td>\n",
              "    </tr>\n",
              "    <tr>\n",
              "      <th>7</th>\n",
              "      <td>2018</td>\n",
              "      <td>3</td>\n",
              "      <td>9</td>\n",
              "      <td>20</td>\n",
              "      <td>4</td>\n",
              "      <td>2018-09-20</td>\n",
              "      <td>9E</td>\n",
              "      <td>20363</td>\n",
              "      <td>9E</td>\n",
              "      <td>N371CA</td>\n",
              "      <td>...</td>\n",
              "      <td>NaN</td>\n",
              "      <td>NaN</td>\n",
              "      <td>NaN</td>\n",
              "      <td>NaN</td>\n",
              "      <td>NaN</td>\n",
              "      <td>NaN</td>\n",
              "      <td>NaN</td>\n",
              "      <td>NaN</td>\n",
              "      <td>NaN</td>\n",
              "      <td>NaN</td>\n",
              "    </tr>\n",
              "    <tr>\n",
              "      <th>8</th>\n",
              "      <td>2018</td>\n",
              "      <td>3</td>\n",
              "      <td>9</td>\n",
              "      <td>21</td>\n",
              "      <td>5</td>\n",
              "      <td>2018-09-21</td>\n",
              "      <td>9E</td>\n",
              "      <td>20363</td>\n",
              "      <td>9E</td>\n",
              "      <td>N601LR</td>\n",
              "      <td>...</td>\n",
              "      <td>NaN</td>\n",
              "      <td>NaN</td>\n",
              "      <td>NaN</td>\n",
              "      <td>NaN</td>\n",
              "      <td>NaN</td>\n",
              "      <td>NaN</td>\n",
              "      <td>NaN</td>\n",
              "      <td>NaN</td>\n",
              "      <td>NaN</td>\n",
              "      <td>NaN</td>\n",
              "    </tr>\n",
              "    <tr>\n",
              "      <th>9</th>\n",
              "      <td>2018</td>\n",
              "      <td>3</td>\n",
              "      <td>9</td>\n",
              "      <td>23</td>\n",
              "      <td>7</td>\n",
              "      <td>2018-09-23</td>\n",
              "      <td>9E</td>\n",
              "      <td>20363</td>\n",
              "      <td>9E</td>\n",
              "      <td>N906XJ</td>\n",
              "      <td>...</td>\n",
              "      <td>NaN</td>\n",
              "      <td>NaN</td>\n",
              "      <td>NaN</td>\n",
              "      <td>NaN</td>\n",
              "      <td>NaN</td>\n",
              "      <td>NaN</td>\n",
              "      <td>NaN</td>\n",
              "      <td>NaN</td>\n",
              "      <td>NaN</td>\n",
              "      <td>NaN</td>\n",
              "    </tr>\n",
              "  </tbody>\n",
              "</table>\n",
              "<p>10 rows × 110 columns</p>\n",
              "</div>"
            ],
            "text/plain": [
              "   Year  Quarter  Month  DayofMonth  DayOfWeek  FlightDate Reporting_Airline  \\\n",
              "0  2018        3      9           3          1  2018-09-03                9E   \n",
              "1  2018        3      9           9          7  2018-09-09                9E   \n",
              "2  2018        3      9          10          1  2018-09-10                9E   \n",
              "3  2018        3      9          13          4  2018-09-13                9E   \n",
              "4  2018        3      9          14          5  2018-09-14                9E   \n",
              "5  2018        3      9          16          7  2018-09-16                9E   \n",
              "6  2018        3      9          17          1  2018-09-17                9E   \n",
              "7  2018        3      9          20          4  2018-09-20                9E   \n",
              "8  2018        3      9          21          5  2018-09-21                9E   \n",
              "9  2018        3      9          23          7  2018-09-23                9E   \n",
              "\n",
              "   DOT_ID_Reporting_Airline IATA_CODE_Reporting_Airline Tail_Number  ...  \\\n",
              "0                     20363                          9E      N908XJ  ...   \n",
              "1                     20363                          9E      N315PQ  ...   \n",
              "2                     20363                          9E      N582CA  ...   \n",
              "3                     20363                          9E      N292PQ  ...   \n",
              "4                     20363                          9E      N600LR  ...   \n",
              "5                     20363                          9E      N316PQ  ...   \n",
              "6                     20363                          9E      N916XJ  ...   \n",
              "7                     20363                          9E      N371CA  ...   \n",
              "8                     20363                          9E      N601LR  ...   \n",
              "9                     20363                          9E      N906XJ  ...   \n",
              "\n",
              "   Div4TailNum  Div5Airport  Div5AirportID  Div5AirportSeqID Div5WheelsOn  \\\n",
              "0          NaN          NaN            NaN               NaN          NaN   \n",
              "1          NaN          NaN            NaN               NaN          NaN   \n",
              "2          NaN          NaN            NaN               NaN          NaN   \n",
              "3          NaN          NaN            NaN               NaN          NaN   \n",
              "4          NaN          NaN            NaN               NaN          NaN   \n",
              "5          NaN          NaN            NaN               NaN          NaN   \n",
              "6          NaN          NaN            NaN               NaN          NaN   \n",
              "7          NaN          NaN            NaN               NaN          NaN   \n",
              "8          NaN          NaN            NaN               NaN          NaN   \n",
              "9          NaN          NaN            NaN               NaN          NaN   \n",
              "\n",
              "  Div5TotalGTime Div5LongestGTime  Div5WheelsOff Div5TailNum  Unnamed: 109  \n",
              "0            NaN              NaN            NaN         NaN           NaN  \n",
              "1            NaN              NaN            NaN         NaN           NaN  \n",
              "2            NaN              NaN            NaN         NaN           NaN  \n",
              "3            NaN              NaN            NaN         NaN           NaN  \n",
              "4            NaN              NaN            NaN         NaN           NaN  \n",
              "5            NaN              NaN            NaN         NaN           NaN  \n",
              "6            NaN              NaN            NaN         NaN           NaN  \n",
              "7            NaN              NaN            NaN         NaN           NaN  \n",
              "8            NaN              NaN            NaN         NaN           NaN  \n",
              "9            NaN              NaN            NaN         NaN           NaN  \n",
              "\n",
              "[10 rows x 110 columns]"
            ]
          },
          "execution_count": 9,
          "metadata": {},
          "output_type": "execute_result"
        }
      ],
      "source": [
        "df_temp.head(10)"
      ]
    },
    {
      "cell_type": "markdown",
      "metadata": {
        "id": "5lgqpspgd5Qg"
      },
      "source": [
        "**Question**: Print all the columns in the dataset. To view the column names, use `<DataFrame>.columns`."
      ]
    },
    {
      "cell_type": "code",
      "execution_count": null,
      "metadata": {
        "id": "VUBowAbtd5Qh",
        "outputId": "7ef698bf-83c9-4f9e-cb5b-b93e74be4075"
      },
      "outputs": [
        {
          "name": "stdout",
          "output_type": "stream",
          "text": [
            "The column names are :\n",
            "#########\n",
            "Year\n",
            "Quarter\n",
            "Month\n",
            "DayofMonth\n",
            "DayOfWeek\n",
            "FlightDate\n",
            "Reporting_Airline\n",
            "DOT_ID_Reporting_Airline\n",
            "IATA_CODE_Reporting_Airline\n",
            "Tail_Number\n",
            "Flight_Number_Reporting_Airline\n",
            "OriginAirportID\n",
            "OriginAirportSeqID\n",
            "OriginCityMarketID\n",
            "Origin\n",
            "OriginCityName\n",
            "OriginState\n",
            "OriginStateFips\n",
            "OriginStateName\n",
            "OriginWac\n",
            "DestAirportID\n",
            "DestAirportSeqID\n",
            "DestCityMarketID\n",
            "Dest\n",
            "DestCityName\n",
            "DestState\n",
            "DestStateFips\n",
            "DestStateName\n",
            "DestWac\n",
            "CRSDepTime\n",
            "DepTime\n",
            "DepDelay\n",
            "DepDelayMinutes\n",
            "DepDel15\n",
            "DepartureDelayGroups\n",
            "DepTimeBlk\n",
            "TaxiOut\n",
            "WheelsOff\n",
            "WheelsOn\n",
            "TaxiIn\n",
            "CRSArrTime\n",
            "ArrTime\n",
            "ArrDelay\n",
            "ArrDelayMinutes\n",
            "ArrDel15\n",
            "ArrivalDelayGroups\n",
            "ArrTimeBlk\n",
            "Cancelled\n",
            "CancellationCode\n",
            "Diverted\n",
            "CRSElapsedTime\n",
            "ActualElapsedTime\n",
            "AirTime\n",
            "Flights\n",
            "Distance\n",
            "DistanceGroup\n",
            "CarrierDelay\n",
            "WeatherDelay\n",
            "NASDelay\n",
            "SecurityDelay\n",
            "LateAircraftDelay\n",
            "FirstDepTime\n",
            "TotalAddGTime\n",
            "LongestAddGTime\n",
            "DivAirportLandings\n",
            "DivReachedDest\n",
            "DivActualElapsedTime\n",
            "DivArrDelay\n",
            "DivDistance\n",
            "Div1Airport\n",
            "Div1AirportID\n",
            "Div1AirportSeqID\n",
            "Div1WheelsOn\n",
            "Div1TotalGTime\n",
            "Div1LongestGTime\n",
            "Div1WheelsOff\n",
            "Div1TailNum\n",
            "Div2Airport\n",
            "Div2AirportID\n",
            "Div2AirportSeqID\n",
            "Div2WheelsOn\n",
            "Div2TotalGTime\n",
            "Div2LongestGTime\n",
            "Div2WheelsOff\n",
            "Div2TailNum\n",
            "Div3Airport\n",
            "Div3AirportID\n",
            "Div3AirportSeqID\n",
            "Div3WheelsOn\n",
            "Div3TotalGTime\n",
            "Div3LongestGTime\n",
            "Div3WheelsOff\n",
            "Div3TailNum\n",
            "Div4Airport\n",
            "Div4AirportID\n",
            "Div4AirportSeqID\n",
            "Div4WheelsOn\n",
            "Div4TotalGTime\n",
            "Div4LongestGTime\n",
            "Div4WheelsOff\n",
            "Div4TailNum\n",
            "Div5Airport\n",
            "Div5AirportID\n",
            "Div5AirportSeqID\n",
            "Div5WheelsOn\n",
            "Div5TotalGTime\n",
            "Div5LongestGTime\n",
            "Div5WheelsOff\n",
            "Div5TailNum\n",
            "Unnamed: 109\n"
          ]
        }
      ],
      "source": [
        "print(f'The column names are :')\n",
        "print('#########')\n",
        "for col in df_temp.columns:\n",
        "    print(col)"
      ]
    },
    {
      "cell_type": "markdown",
      "metadata": {
        "id": "SxvKV34Ud5Qi"
      },
      "source": [
        "**Question**: Print all the columns in the dataset that contain the word *Del*. This will help you see how many columns have *delay data* in them.\n",
        "\n",
        "**Hint**: To include values that pass certain `if` statement criteria, you can use a Python list comprehension.\n",
        "\n",
        "For example: `[x for x in [1,2,3,4,5] if x > 2]`  \n",
        "\n",
        "**Hint**: To check if the value is in a list, you can use the `in` keyword ([Python in Keyword documentation](https://www.w3schools.com/python/ref_keyword_in.asp)). \n",
        "\n",
        "For example: `5 in [1,2,3,4,5]`"
      ]
    },
    {
      "cell_type": "code",
      "execution_count": null,
      "metadata": {
        "id": "gqxAXmWSd5Qj",
        "outputId": "6ed5c831-63dc-4f60-ccb5-77f17c14a4a7"
      },
      "outputs": [
        {
          "name": "stdout",
          "output_type": "stream",
          "text": [
            "['DepDelay', 'DepDelayMinutes', 'DepDel15', 'DepartureDelayGroups', 'ArrDelay', 'ArrDelayMinutes', 'ArrDel15', 'ArrivalDelayGroups', 'CarrierDelay', 'WeatherDelay', 'NASDelay', 'SecurityDelay', 'LateAircraftDelay', 'DivArrDelay']\n"
          ]
        }
      ],
      "source": [
        "print([x for x in df_temp.columns if \"Del\" in x])"
      ]
    },
    {
      "cell_type": "markdown",
      "metadata": {
        "id": "cW6YtDKOd5Qj"
      },
      "source": [
        "Here are some more questions to help you learn more about your dataset.\n",
        "\n",
        "**Questions**   \n",
        "\n",
        "1. How many rows and columns does the dataset have?   \n",
        "2. How many years are included in the dataset?   \n",
        "3. What is the date range for the dataset?   \n",
        "4. Which airlines are included in the dataset?   \n",
        "5. Which origin and destination airports are covered?\n",
        "\n",
        "**Hints**\n",
        "- To show the dimensions of the DataFrame, use `df_temp.shape`.\n",
        "- To refer to a specific column, use `df_temp.columnName` (for example, `df_temp.CarrierDelay`).\n",
        "- To get unique values for a column, use `df_temp.column.unique()` (for, example `df_temp.Year.unique()`)."
      ]
    },
    {
      "cell_type": "code",
      "execution_count": null,
      "metadata": {
        "id": "ELt7Mkfnd5Qk",
        "outputId": "5e760828-ea3f-49f1-d4df-37b7f996141e"
      },
      "outputs": [
        {
          "name": "stdout",
          "output_type": "stream",
          "text": [
            "The #rows and #columns are  585749  and  110\n",
            "The years in this dataset are:  [2018]\n",
            "The months covered in this dataset are:  [9]\n",
            "The date range for data is : 2018-09-01  to  2018-09-30\n",
            "The airlines covered in this dataset are:  ['9E', 'B6', 'WN', 'YV', 'YX', 'EV', 'AA', 'AS', 'DL', 'HA', 'UA', 'F9', 'G4', 'MQ', 'NK', 'OH', 'OO']\n",
            "The Origin airports covered are:  ['DFW', 'LGA', 'MSN', 'MSP', 'ATL', 'BDL', 'VLD', 'JFK', 'RDU', 'CHS', 'DTW', 'GRB', 'PVD', 'SHV', 'FNT', 'PIT', 'RIC', 'RST', 'RSW', 'CVG', 'LIT', 'ORD', 'JAX', 'TRI', 'BOS', 'CWA', 'DCA', 'CHO', 'AVP', 'IND', 'GRR', 'BTR', 'MEM', 'TUL', 'CLE', 'STL', 'BTV', 'OMA', 'MGM', 'TVC', 'SAV', 'GSP', 'EWR', 'OAJ', 'BNA', 'MCI', 'TLH', 'ROC', 'LEX', 'PWM', 'BUF', 'AGS', 'CLT', 'GSO', 'BWI', 'SAT', 'PHL', 'TYS', 'ACK', 'DSM', 'GNV', 'AVL', 'BGR', 'MHT', 'ILM', 'MOT', 'IAH', 'SBN', 'SYR', 'ORF', 'MKE', 'XNA', 'MSY', 'PBI', 'ABE', 'HPN', 'EVV', 'ALB', 'LNK', 'AUS', 'PHF', 'CHA', 'GTR', 'BMI', 'BQK', 'CID', 'CAK', 'ATW', 'ABY', 'CAE', 'SRQ', 'MLI', 'BHM', 'IAD', 'CSG', 'CMH', 'MCO', 'MBS', 'FLL', 'SDF', 'TPA', 'MVY', 'LAS', 'LGB', 'SFO', 'SAN', 'LAX', 'RNO', 'PDX', 'ANC', 'ABQ', 'SLC', 'DEN', 'PHX', 'OAK', 'SMF', 'SJU', 'SEA', 'HOU', 'STX', 'BUR', 'SWF', 'SJC', 'DAB', 'BQN', 'PSE', 'ORH', 'HYA', 'STT', 'ONT', 'HRL', 'ICT', 'ISP', 'LBB', 'MAF', 'MDW', 'OKC', 'PNS', 'SNA', 'TUS', 'AMA', 'BOI', 'CRP', 'DAL', 'ECP', 'ELP', 'GEG', 'LFT', 'MFE', 'MDT', 'JAN', 'COS', 'MOB', 'VPS', 'MTJ', 'DRO', 'GPT', 'BFL', 'MRY', 'SBA', 'PSP', 'FSD', 'BRO', 'RAP', 'COU', 'STS', 'PIA', 'FAT', 'SBP', 'FSM', 'HSV', 'BIS', 'DAY', 'BZN', 'MIA', 'EYW', 'MYR', 'HHH', 'GJT', 'FAR', 'SGF', 'HOB', 'CLL', 'LRD', 'AEX', 'ERI', 'MLU', 'LCH', 'ROA', 'LAW', 'MHK', 'GRK', 'SAF', 'GRI', 'JLN', 'ROW', 'FWA', 'CRW', 'LAN', 'OGG', 'HNL', 'KOA', 'EGE', 'LIH', 'MLB', 'JAC', 'FAI', 'RDM', 'ADQ', 'BET', 'BRW', 'SCC', 'KTN', 'YAK', 'CDV', 'JNU', 'SIT', 'PSG', 'WRG', 'OME', 'OTZ', 'ADK', 'FCA', 'FAY', 'PSC', 'BIL', 'MSO', 'ITO', 'PPG', 'MFR', 'EUG', 'GUM', 'SPN', 'DLH', 'TTN', 'BKG', 'SFB', 'PIE', 'PGD', 'AZA', 'SMX', 'RFD', 'SCK', 'OWB', 'HTS', 'BLV', 'IAG', 'USA', 'GFK', 'BLI', 'ELM', 'PBG', 'LCK', 'GTF', 'OGD', 'IDA', 'PVU', 'TOL', 'PSM', 'CKB', 'HGR', 'SPI', 'STC', 'ACT', 'TYR', 'ABI', 'AZO', 'CMI', 'BPT', 'GCK', 'MQT', 'ALO', 'TXK', 'SPS', 'SWO', 'DBQ', 'SUX', 'SJT', 'GGG', 'LSE', 'LBE', 'ACY', 'LYH', 'PGV', 'HVN', 'EWN', 'DHN', 'PIH', 'IMT', 'WYS', 'CPR', 'SCE', 'HLN', 'SUN', 'ISN', 'CMX', 'EAU', 'LWB', 'SHD', 'LBF', 'HYS', 'SLN', 'EAR', 'VEL', 'CNY', 'GCC', 'RKS', 'PUB', 'LBL', 'MKG', 'PAH', 'CGI', 'UIN', 'BFF', 'DVL', 'JMS', 'LAR', 'SGU', 'PRC', 'ASE', 'RDD', 'ACV', 'OTH', 'COD', 'LWS', 'ABR', 'APN', 'ESC', 'PLN', 'BJI', 'BRD', 'BTM', 'CDC', 'CIU', 'EKO', 'TWF', 'HIB', 'BGM', 'RHI', 'ITH', 'INL', 'FLG', 'YUM', 'MEI', 'PIB', 'HDN']\n",
            "The Destination airports covered are:  ['CVG', 'PWM', 'RDU', 'MSP', 'MSN', 'SHV', 'CLT', 'PIT', 'RIC', 'IAH', 'ATL', 'JFK', 'DCA', 'DTW', 'LGA', 'TYS', 'PVD', 'FNT', 'LIT', 'BUF', 'ORD', 'TRI', 'IND', 'BGR', 'AVP', 'BWI', 'LEX', 'BDL', 'GRR', 'CWA', 'TUL', 'MEM', 'AGS', 'EWR', 'MGM', 'PHL', 'SYR', 'OMA', 'STL', 'TVC', 'ORF', 'CLE', 'ABY', 'BOS', 'OAJ', 'TLH', 'BTR', 'SAT', 'JAX', 'BNA', 'CHO', 'VLD', 'ROC', 'DFW', 'GNV', 'ACK', 'PBI', 'CHS', 'GRB', 'MOT', 'MKE', 'DSM', 'ILM', 'GSO', 'MCI', 'SBN', 'BTV', 'MVY', 'XNA', 'RST', 'EVV', 'HPN', 'RSW', 'MDT', 'ROA', 'GSP', 'MCO', 'CSG', 'SAV', 'PHF', 'ALB', 'CHA', 'ABE', 'BMI', 'MSY', 'IAD', 'GTR', 'CID', 'CAK', 'ATW', 'AUS', 'BQK', 'MLI', 'CAE', 'CMH', 'AVL', 'MBS', 'FLL', 'SDF', 'TPA', 'LNK', 'SRQ', 'MHT', 'BHM', 'LAS', 'SFO', 'SAN', 'RNO', 'LGB', 'ANC', 'PDX', 'SJU', 'ABQ', 'SLC', 'DEN', 'LAX', 'PHX', 'OAK', 'SMF', 'SEA', 'STX', 'BUR', 'DAB', 'SJC', 'SWF', 'HOU', 'BQN', 'PSE', 'ORH', 'HYA', 'STT', 'ONT', 'DAL', 'ECP', 'ELP', 'HRL', 'MAF', 'MDW', 'OKC', 'PNS', 'SNA', 'AMA', 'BOI', 'GEG', 'ICT', 'LBB', 'TUS', 'ISP', 'CRP', 'MFE', 'LFT', 'VPS', 'JAN', 'COS', 'MOB', 'DRO', 'GPT', 'BFL', 'COU', 'SBP', 'MTJ', 'SBA', 'PSP', 'FSD', 'FSM', 'BRO', 'PIA', 'STS', 'FAT', 'RAP', 'MRY', 'HSV', 'BIS', 'DAY', 'BZN', 'MIA', 'EYW', 'MYR', 'HHH', 'GJT', 'FAR', 'MLU', 'LRD', 'CLL', 'LCH', 'FWA', 'GRK', 'SGF', 'HOB', 'LAW', 'MHK', 'SAF', 'JLN', 'ROW', 'GRI', 'AEX', 'CRW', 'LAN', 'ERI', 'HNL', 'KOA', 'OGG', 'EGE', 'LIH', 'JAC', 'MLB', 'RDM', 'BET', 'ADQ', 'BRW', 'SCC', 'FAI', 'JNU', 'CDV', 'YAK', 'SIT', 'KTN', 'WRG', 'PSG', 'OME', 'OTZ', 'ADK', 'FCA', 'BIL', 'PSC', 'FAY', 'MSO', 'ITO', 'PPG', 'MFR', 'DLH', 'EUG', 'GUM', 'SPN', 'TTN', 'BKG', 'AZA', 'SFB', 'LCK', 'BLI', 'SCK', 'PIE', 'RFD', 'PVU', 'PBG', 'BLV', 'PGD', 'SPI', 'USA', 'TOL', 'IDA', 'ELM', 'HTS', 'HGR', 'SMX', 'OGD', 'GFK', 'STC', 'GTF', 'IAG', 'CKB', 'OWB', 'PSM', 'ABI', 'TYR', 'ALO', 'SUX', 'AZO', 'ACT', 'CMI', 'BPT', 'TXK', 'SWO', 'SPS', 'DBQ', 'SJT', 'GGG', 'LSE', 'MQT', 'GCK', 'LBE', 'ACY', 'LYH', 'PGV', 'HVN', 'EWN', 'DHN', 'PIH', 'WYS', 'SCE', 'IMT', 'HLN', 'ASE', 'SUN', 'ISN', 'EAR', 'SGU', 'VEL', 'SHD', 'LWB', 'MKG', 'SLN', 'HYS', 'BFF', 'PUB', 'LBL', 'CMX', 'EAU', 'PAH', 'UIN', 'RKS', 'CGI', 'CNY', 'JMS', 'DVL', 'LAR', 'GCC', 'LBF', 'PRC', 'RDD', 'ACV', 'OTH', 'COD', 'LWS', 'ABR', 'APN', 'PLN', 'BJI', 'CPR', 'BRD', 'BTM', 'CDC', 'CIU', 'ESC', 'EKO', 'ITH', 'HIB', 'BGM', 'TWF', 'RHI', 'INL', 'FLG', 'YUM', 'MEI', 'PIB', 'HDN']\n"
          ]
        }
      ],
      "source": [
        "print(\"The #rows and #columns are \", df_temp.shape[0] , \" and \", df_temp.shape[1])\n",
        "print(\"The years in this dataset are: \", df_temp.Year.unique())\n",
        "print(\"The months covered in this dataset are: \", df_temp.Month.unique())\n",
        "print(\"The date range for data is :\" , min(df_temp.FlightDate.unique()), \" to \", max(df_temp.FlightDate.unique()))\n",
        "print(\"The airlines covered in this dataset are: \", list(df_temp.Reporting_Airline.unique()))\n",
        "print(\"The Origin airports covered are: \", list(df_temp.Origin.unique()))\n",
        "print(\"The Destination airports covered are: \", list(df_temp.Dest.unique()))"
      ]
    },
    {
      "cell_type": "markdown",
      "metadata": {
        "id": "ABQHAJ5od5Qm"
      },
      "source": [
        "**Question**: What is the count of all the origin and destination airports?\n",
        "\n",
        "**Hint**: To find the values for each airport by using the **Origin** and **Dest** columns, you can use the `values_count` function in pandas ([pandas.Series.value_counts documentation](https://pandas.pydata.org/pandas-docs/stable/reference/api/pandas.Series.value_counts.html))."
      ]
    },
    {
      "cell_type": "code",
      "execution_count": null,
      "metadata": {
        "id": "lbBgFQpZd5Qn",
        "outputId": "cdd946b3-8724-4500-8af0-068a9ecd3b6c"
      },
      "outputs": [
        {
          "data": {
            "text/html": [
              "<div>\n",
              "<style scoped>\n",
              "    .dataframe tbody tr th:only-of-type {\n",
              "        vertical-align: middle;\n",
              "    }\n",
              "\n",
              "    .dataframe tbody tr th {\n",
              "        vertical-align: top;\n",
              "    }\n",
              "\n",
              "    .dataframe thead th {\n",
              "        text-align: right;\n",
              "    }\n",
              "</style>\n",
              "<table border=\"1\" class=\"dataframe\">\n",
              "  <thead>\n",
              "    <tr style=\"text-align: right;\">\n",
              "      <th></th>\n",
              "      <th>Origin</th>\n",
              "      <th>Destination</th>\n",
              "    </tr>\n",
              "  </thead>\n",
              "  <tbody>\n",
              "    <tr>\n",
              "      <th>ABE</th>\n",
              "      <td>303</td>\n",
              "      <td>303</td>\n",
              "    </tr>\n",
              "    <tr>\n",
              "      <th>ABI</th>\n",
              "      <td>169</td>\n",
              "      <td>169</td>\n",
              "    </tr>\n",
              "    <tr>\n",
              "      <th>ABQ</th>\n",
              "      <td>2077</td>\n",
              "      <td>2076</td>\n",
              "    </tr>\n",
              "    <tr>\n",
              "      <th>ABR</th>\n",
              "      <td>60</td>\n",
              "      <td>60</td>\n",
              "    </tr>\n",
              "    <tr>\n",
              "      <th>ABY</th>\n",
              "      <td>79</td>\n",
              "      <td>79</td>\n",
              "    </tr>\n",
              "    <tr>\n",
              "      <th>...</th>\n",
              "      <td>...</td>\n",
              "      <td>...</td>\n",
              "    </tr>\n",
              "    <tr>\n",
              "      <th>WRG</th>\n",
              "      <td>60</td>\n",
              "      <td>60</td>\n",
              "    </tr>\n",
              "    <tr>\n",
              "      <th>WYS</th>\n",
              "      <td>52</td>\n",
              "      <td>52</td>\n",
              "    </tr>\n",
              "    <tr>\n",
              "      <th>XNA</th>\n",
              "      <td>1004</td>\n",
              "      <td>1004</td>\n",
              "    </tr>\n",
              "    <tr>\n",
              "      <th>YAK</th>\n",
              "      <td>60</td>\n",
              "      <td>60</td>\n",
              "    </tr>\n",
              "    <tr>\n",
              "      <th>YUM</th>\n",
              "      <td>96</td>\n",
              "      <td>96</td>\n",
              "    </tr>\n",
              "  </tbody>\n",
              "</table>\n",
              "<p>346 rows × 2 columns</p>\n",
              "</div>"
            ],
            "text/plain": [
              "     Origin  Destination\n",
              "ABE     303          303\n",
              "ABI     169          169\n",
              "ABQ    2077         2076\n",
              "ABR      60           60\n",
              "ABY      79           79\n",
              "..      ...          ...\n",
              "WRG      60           60\n",
              "WYS      52           52\n",
              "XNA    1004         1004\n",
              "YAK      60           60\n",
              "YUM      96           96\n",
              "\n",
              "[346 rows x 2 columns]"
            ]
          },
          "execution_count": 13,
          "metadata": {},
          "output_type": "execute_result"
        }
      ],
      "source": [
        "counts = pd.DataFrame({'Origin':df_temp.Origin.value_counts(), 'Destination':df_temp.Dest.value_counts()})\n",
        "counts"
      ]
    },
    {
      "cell_type": "markdown",
      "metadata": {
        "id": "p2K56vUTd5Qs"
      },
      "source": [
        "**Question**: Print the top 15 origin and destination airports based on number of flights in the dataset.\n",
        "\n",
        "**Hint**: You can use the `sort_values` function in pandas ([pandas.DataFrame.sort_values documentation](https://pandas.pydata.org/pandas-docs/stable/reference/api/pandas.DataFrame.sort_values.html))."
      ]
    },
    {
      "cell_type": "code",
      "execution_count": null,
      "metadata": {
        "id": "S9Q7E5bsd5Qs",
        "outputId": "3d581bec-c6dd-47fc-e8de-02e8b9b019de"
      },
      "outputs": [
        {
          "data": {
            "text/html": [
              "<div>\n",
              "<style scoped>\n",
              "    .dataframe tbody tr th:only-of-type {\n",
              "        vertical-align: middle;\n",
              "    }\n",
              "\n",
              "    .dataframe tbody tr th {\n",
              "        vertical-align: top;\n",
              "    }\n",
              "\n",
              "    .dataframe thead th {\n",
              "        text-align: right;\n",
              "    }\n",
              "</style>\n",
              "<table border=\"1\" class=\"dataframe\">\n",
              "  <thead>\n",
              "    <tr style=\"text-align: right;\">\n",
              "      <th></th>\n",
              "      <th>Origin</th>\n",
              "      <th>Destination</th>\n",
              "    </tr>\n",
              "  </thead>\n",
              "  <tbody>\n",
              "    <tr>\n",
              "      <th>ATL</th>\n",
              "      <td>31525</td>\n",
              "      <td>31521</td>\n",
              "    </tr>\n",
              "    <tr>\n",
              "      <th>ORD</th>\n",
              "      <td>28257</td>\n",
              "      <td>28250</td>\n",
              "    </tr>\n",
              "    <tr>\n",
              "      <th>DFW</th>\n",
              "      <td>22802</td>\n",
              "      <td>22795</td>\n",
              "    </tr>\n",
              "    <tr>\n",
              "      <th>DEN</th>\n",
              "      <td>19807</td>\n",
              "      <td>19807</td>\n",
              "    </tr>\n",
              "    <tr>\n",
              "      <th>CLT</th>\n",
              "      <td>19655</td>\n",
              "      <td>19654</td>\n",
              "    </tr>\n",
              "    <tr>\n",
              "      <th>LAX</th>\n",
              "      <td>17875</td>\n",
              "      <td>17873</td>\n",
              "    </tr>\n",
              "    <tr>\n",
              "      <th>SFO</th>\n",
              "      <td>14332</td>\n",
              "      <td>14348</td>\n",
              "    </tr>\n",
              "    <tr>\n",
              "      <th>IAH</th>\n",
              "      <td>14210</td>\n",
              "      <td>14203</td>\n",
              "    </tr>\n",
              "    <tr>\n",
              "      <th>LGA</th>\n",
              "      <td>13850</td>\n",
              "      <td>13850</td>\n",
              "    </tr>\n",
              "    <tr>\n",
              "      <th>MSP</th>\n",
              "      <td>13349</td>\n",
              "      <td>13347</td>\n",
              "    </tr>\n",
              "    <tr>\n",
              "      <th>LAS</th>\n",
              "      <td>13318</td>\n",
              "      <td>13322</td>\n",
              "    </tr>\n",
              "    <tr>\n",
              "      <th>PHX</th>\n",
              "      <td>13126</td>\n",
              "      <td>13128</td>\n",
              "    </tr>\n",
              "    <tr>\n",
              "      <th>DTW</th>\n",
              "      <td>12725</td>\n",
              "      <td>12724</td>\n",
              "    </tr>\n",
              "    <tr>\n",
              "      <th>BOS</th>\n",
              "      <td>12223</td>\n",
              "      <td>12227</td>\n",
              "    </tr>\n",
              "    <tr>\n",
              "      <th>SEA</th>\n",
              "      <td>11872</td>\n",
              "      <td>11877</td>\n",
              "    </tr>\n",
              "  </tbody>\n",
              "</table>\n",
              "</div>"
            ],
            "text/plain": [
              "     Origin  Destination\n",
              "ATL   31525        31521\n",
              "ORD   28257        28250\n",
              "DFW   22802        22795\n",
              "DEN   19807        19807\n",
              "CLT   19655        19654\n",
              "LAX   17875        17873\n",
              "SFO   14332        14348\n",
              "IAH   14210        14203\n",
              "LGA   13850        13850\n",
              "MSP   13349        13347\n",
              "LAS   13318        13322\n",
              "PHX   13126        13128\n",
              "DTW   12725        12724\n",
              "BOS   12223        12227\n",
              "SEA   11872        11877"
            ]
          },
          "execution_count": 14,
          "metadata": {},
          "output_type": "execute_result"
        }
      ],
      "source": [
        "counts.sort_values(by=['Origin','Destination'],ascending=False).head(15) # Enter your code here"
      ]
    },
    {
      "cell_type": "markdown",
      "metadata": {
        "id": "akTLEAOPd5Qt"
      },
      "source": [
        "**Given all the information about a flight trip, can you predict if it would be delayed?**"
      ]
    },
    {
      "cell_type": "markdown",
      "metadata": {
        "id": "b2JsUBt7d5Qu"
      },
      "source": [
        "The **ArrDel15** column is an indicator variable that takes the value *1* when the delay is more than 15 minutes. Otherwise, it takes a value of *0*.\n",
        "\n",
        "You could use this as a target column for the classification problem."
      ]
    },
    {
      "cell_type": "markdown",
      "metadata": {
        "id": "MA2kQ5g2d5Qv"
      },
      "source": [
        "Now, assume that you are traveling from San Francisco to Los Angeles on a work trip. You want to better manage your reservations in Los Angeles. Thus, want to have an idea of whether your flight will be delayed, given a set of features. How many features from this dataset would you need to know before your flight?\n",
        "\n",
        "Columns such as `DepDelay`, `ArrDelay`, `CarrierDelay`, `WeatherDelay`, `NASDelay`, `SecurityDelay`, `LateAircraftDelay`, and `DivArrDelay` contain information about a delay. But this delay could have occured at the origin or the destination. If there were a sudden weather delay 10 minutes before landing, this data wouldn't be helpful to managing your Los Angeles reservations.\n",
        "\n",
        "So to simplify the problem statement, consider the following columns to predict an arrival delay:<br>\n",
        "\n",
        "`Year`, `Quarter`, `Month`, `DayofMonth`, `DayOfWeek`, `FlightDate`, `Reporting_Airline`, `Origin`, `OriginState`, `Dest`, `DestState`, `CRSDepTime`, `DepDelayMinutes`, `DepartureDelayGroups`, `Cancelled`, `Diverted`, `Distance`, `DistanceGroup`, `ArrDelay`, `ArrDelayMinutes`, `ArrDel15`, `AirTime`\n",
        "\n",
        "You will also filter the source and destination airports to be:\n",
        "- Top airports: ATL, ORD, DFW, DEN, CLT, LAX, IAH, PHX, SFO\n",
        "- Top five airlines: UA, OO, WN, AA, DL\n",
        "\n",
        "This information should help reduce the size of data across the CSV files that will be combined."
      ]
    },
    {
      "cell_type": "markdown",
      "metadata": {
        "id": "0EDto7GGd5Qw"
      },
      "source": [
        "#### Combine all CSV files\n",
        " \n",
        "First, create an empy DataFrame that you will use to copy your individual DataFrames from each file. Then, for each file in the `csv_files` list:\n",
        "\n",
        "1. Read the CSV file into a dataframe \n",
        "2. Filter the columns based on the `filter_cols` variable\n",
        "\n",
        "```\n",
        "        columns = ['col1', 'col2']\n",
        "        df_filter = df[columns]\n",
        "```\n",
        "\n",
        "3. Keep only the `subset_vals` in each of the `subset_cols`. To check if the `val` is in the DataFrame column, use the `isin` function in pandas ([pandas.DataFram.isin documentation](https://pandas.pydata.org/pandas-docs/stable/reference/api/pandas.DataFrame.isin.html)). Then, choose the rows that include it.\n",
        "\n",
        "```\n",
        "        df_eg[df_eg['col1'].isin('5')]\n",
        "```\n",
        "\n",
        "4. Concatenate the DataFrame with the empty DataFrame "
      ]
    },
    {
      "cell_type": "code",
      "execution_count": null,
      "metadata": {
        "id": "LUq6wGQXd5Qw"
      },
      "outputs": [],
      "source": [
        "def combine_csv(csv_files, filter_cols, subset_cols, subset_vals, file_name):\n",
        "\n",
        "    \"\"\"\n",
        "    Combine csv files into one Data Frame\n",
        "    csv_files: list of csv file paths\n",
        "    filter_cols: list of columns to filter\n",
        "    subset_cols: list of columns to subset rows\n",
        "    subset_vals: list of list of values to subset rows\n",
        "    \"\"\"\n",
        "\n",
        "    df = pd.DataFrame()\n",
        "    \n",
        "    for file in csv_files:\n",
        "        df_temp = pd.read_csv(file)\n",
        "        df_temp = df_temp[filter_cols]\n",
        "        for col, val in zip(subset_cols,subset_vals):\n",
        "            df_temp = df_temp[df_temp[col].isin(val)]      \n",
        "        \n",
        "        df = pd.concat([df, df_temp], axis=0)\n",
        "      \n",
        "    df.to_csv(file_name, index=False)\n",
        "    print(f'Combined csv stored at {file_name}')"
      ]
    },
    {
      "cell_type": "code",
      "execution_count": null,
      "metadata": {
        "id": "mXY6K6acd5Qx"
      },
      "outputs": [],
      "source": [
        "#cols is the list of columns to predict Arrival Delay \n",
        "cols = ['Year','Quarter','Month','DayofMonth','DayOfWeek','FlightDate',\n",
        "        'Reporting_Airline','Origin','OriginState','Dest','DestState',\n",
        "        'CRSDepTime','Cancelled','Diverted','Distance','DistanceGroup',\n",
        "        'ArrDelay','ArrDelayMinutes','ArrDel15','AirTime']\n",
        "\n",
        "subset_cols = ['Origin', 'Dest', 'Reporting_Airline']\n",
        "\n",
        "# subset_vals is a list collection of the top origin and destination airports and top 5 airlines\n",
        "subset_vals = [['ATL', 'ORD', 'DFW', 'DEN', 'CLT', 'LAX', 'IAH', 'PHX', 'SFO'], \n",
        "               ['ATL', 'ORD', 'DFW', 'DEN', 'CLT', 'LAX', 'IAH', 'PHX', 'SFO'], \n",
        "               ['UA', 'OO', 'WN', 'AA', 'DL']]"
      ]
    },
    {
      "cell_type": "markdown",
      "metadata": {
        "id": "OU0UeoZId5Qy"
      },
      "source": [
        "Use the previous function to merge all the different files into a single file that you can read easily. \n",
        "\n",
        "**Note**: This process will take 5-7 minutes to complete."
      ]
    },
    {
      "cell_type": "code",
      "execution_count": null,
      "metadata": {
        "id": "PDDCXXFjd5Qz",
        "outputId": "f3baf363-25f5-4d73-ca5e-49da9140571b"
      },
      "outputs": [
        {
          "name": "stdout",
          "output_type": "stream",
          "text": [
            "Combined csv stored at /home/ec2-user/SageMaker/project/data/FlightDelays/combined_files.csv\n",
            "CSVs merged in 4.32 minutes\n"
          ]
        }
      ],
      "source": [
        "start = time.time()\n",
        "combined_csv_filename = f\"{base_path}combined_files.csv\"\n",
        "combine_csv(csv_files, cols, subset_cols, subset_vals, combined_csv_filename)\n",
        "print(f'CSVs merged in {round((time.time() - start)/60,2)} minutes')"
      ]
    },
    {
      "cell_type": "markdown",
      "metadata": {
        "id": "4XdWTxYDd5Qz"
      },
      "source": [
        "#### Load the dataset\n",
        "\n",
        "Load the combined dataset."
      ]
    },
    {
      "cell_type": "code",
      "execution_count": null,
      "metadata": {
        "id": "aW-HtyUGd5Q0"
      },
      "outputs": [],
      "source": [
        "data = pd.read_csv(combined_csv_filename)"
      ]
    },
    {
      "cell_type": "markdown",
      "metadata": {
        "id": "ogGa2aHpd5Q1"
      },
      "source": [
        "Print the first five records."
      ]
    },
    {
      "cell_type": "code",
      "execution_count": null,
      "metadata": {
        "id": "PYPZ0I7-d5Q2",
        "outputId": "1e6cf598-c2e5-4f03-dc71-2bc68c4be297"
      },
      "outputs": [
        {
          "data": {
            "text/html": [
              "<div>\n",
              "<style scoped>\n",
              "    .dataframe tbody tr th:only-of-type {\n",
              "        vertical-align: middle;\n",
              "    }\n",
              "\n",
              "    .dataframe tbody tr th {\n",
              "        vertical-align: top;\n",
              "    }\n",
              "\n",
              "    .dataframe thead th {\n",
              "        text-align: right;\n",
              "    }\n",
              "</style>\n",
              "<table border=\"1\" class=\"dataframe\">\n",
              "  <thead>\n",
              "    <tr style=\"text-align: right;\">\n",
              "      <th></th>\n",
              "      <th>Year</th>\n",
              "      <th>Quarter</th>\n",
              "      <th>Month</th>\n",
              "      <th>DayofMonth</th>\n",
              "      <th>DayOfWeek</th>\n",
              "      <th>FlightDate</th>\n",
              "      <th>Reporting_Airline</th>\n",
              "      <th>Origin</th>\n",
              "      <th>OriginState</th>\n",
              "      <th>Dest</th>\n",
              "      <th>DestState</th>\n",
              "      <th>CRSDepTime</th>\n",
              "      <th>Cancelled</th>\n",
              "      <th>Diverted</th>\n",
              "      <th>Distance</th>\n",
              "      <th>DistanceGroup</th>\n",
              "      <th>ArrDelay</th>\n",
              "      <th>ArrDelayMinutes</th>\n",
              "      <th>ArrDel15</th>\n",
              "      <th>AirTime</th>\n",
              "    </tr>\n",
              "  </thead>\n",
              "  <tbody>\n",
              "    <tr>\n",
              "      <th>0</th>\n",
              "      <td>2014</td>\n",
              "      <td>3</td>\n",
              "      <td>9</td>\n",
              "      <td>10</td>\n",
              "      <td>3</td>\n",
              "      <td>2014-09-10</td>\n",
              "      <td>UA</td>\n",
              "      <td>DEN</td>\n",
              "      <td>CO</td>\n",
              "      <td>ORD</td>\n",
              "      <td>IL</td>\n",
              "      <td>1050</td>\n",
              "      <td>0.0</td>\n",
              "      <td>0.0</td>\n",
              "      <td>888.0</td>\n",
              "      <td>4</td>\n",
              "      <td>-6.0</td>\n",
              "      <td>0.0</td>\n",
              "      <td>0.0</td>\n",
              "      <td>109.0</td>\n",
              "    </tr>\n",
              "    <tr>\n",
              "      <th>1</th>\n",
              "      <td>2014</td>\n",
              "      <td>3</td>\n",
              "      <td>9</td>\n",
              "      <td>10</td>\n",
              "      <td>3</td>\n",
              "      <td>2014-09-10</td>\n",
              "      <td>UA</td>\n",
              "      <td>IAH</td>\n",
              "      <td>TX</td>\n",
              "      <td>LAX</td>\n",
              "      <td>CA</td>\n",
              "      <td>715</td>\n",
              "      <td>0.0</td>\n",
              "      <td>0.0</td>\n",
              "      <td>1379.0</td>\n",
              "      <td>6</td>\n",
              "      <td>-27.0</td>\n",
              "      <td>0.0</td>\n",
              "      <td>0.0</td>\n",
              "      <td>173.0</td>\n",
              "    </tr>\n",
              "    <tr>\n",
              "      <th>2</th>\n",
              "      <td>2014</td>\n",
              "      <td>3</td>\n",
              "      <td>9</td>\n",
              "      <td>10</td>\n",
              "      <td>3</td>\n",
              "      <td>2014-09-10</td>\n",
              "      <td>UA</td>\n",
              "      <td>DEN</td>\n",
              "      <td>CO</td>\n",
              "      <td>LAX</td>\n",
              "      <td>CA</td>\n",
              "      <td>833</td>\n",
              "      <td>0.0</td>\n",
              "      <td>0.0</td>\n",
              "      <td>862.0</td>\n",
              "      <td>4</td>\n",
              "      <td>14.0</td>\n",
              "      <td>14.0</td>\n",
              "      <td>0.0</td>\n",
              "      <td>119.0</td>\n",
              "    </tr>\n",
              "    <tr>\n",
              "      <th>3</th>\n",
              "      <td>2014</td>\n",
              "      <td>3</td>\n",
              "      <td>9</td>\n",
              "      <td>10</td>\n",
              "      <td>3</td>\n",
              "      <td>2014-09-10</td>\n",
              "      <td>UA</td>\n",
              "      <td>DFW</td>\n",
              "      <td>TX</td>\n",
              "      <td>DEN</td>\n",
              "      <td>CO</td>\n",
              "      <td>604</td>\n",
              "      <td>0.0</td>\n",
              "      <td>0.0</td>\n",
              "      <td>641.0</td>\n",
              "      <td>3</td>\n",
              "      <td>-17.0</td>\n",
              "      <td>0.0</td>\n",
              "      <td>0.0</td>\n",
              "      <td>92.0</td>\n",
              "    </tr>\n",
              "    <tr>\n",
              "      <th>4</th>\n",
              "      <td>2014</td>\n",
              "      <td>3</td>\n",
              "      <td>9</td>\n",
              "      <td>10</td>\n",
              "      <td>3</td>\n",
              "      <td>2014-09-10</td>\n",
              "      <td>UA</td>\n",
              "      <td>ORD</td>\n",
              "      <td>IL</td>\n",
              "      <td>DEN</td>\n",
              "      <td>CO</td>\n",
              "      <td>1555</td>\n",
              "      <td>0.0</td>\n",
              "      <td>0.0</td>\n",
              "      <td>888.0</td>\n",
              "      <td>4</td>\n",
              "      <td>-12.0</td>\n",
              "      <td>0.0</td>\n",
              "      <td>0.0</td>\n",
              "      <td>122.0</td>\n",
              "    </tr>\n",
              "  </tbody>\n",
              "</table>\n",
              "</div>"
            ],
            "text/plain": [
              "   Year  Quarter  Month  DayofMonth  DayOfWeek  FlightDate Reporting_Airline  \\\n",
              "0  2014        3      9          10          3  2014-09-10                UA   \n",
              "1  2014        3      9          10          3  2014-09-10                UA   \n",
              "2  2014        3      9          10          3  2014-09-10                UA   \n",
              "3  2014        3      9          10          3  2014-09-10                UA   \n",
              "4  2014        3      9          10          3  2014-09-10                UA   \n",
              "\n",
              "  Origin OriginState Dest DestState  CRSDepTime  Cancelled  Diverted  \\\n",
              "0    DEN          CO  ORD        IL        1050        0.0       0.0   \n",
              "1    IAH          TX  LAX        CA         715        0.0       0.0   \n",
              "2    DEN          CO  LAX        CA         833        0.0       0.0   \n",
              "3    DFW          TX  DEN        CO         604        0.0       0.0   \n",
              "4    ORD          IL  DEN        CO        1555        0.0       0.0   \n",
              "\n",
              "   Distance  DistanceGroup  ArrDelay  ArrDelayMinutes  ArrDel15  AirTime  \n",
              "0     888.0              4      -6.0              0.0       0.0    109.0  \n",
              "1    1379.0              6     -27.0              0.0       0.0    173.0  \n",
              "2     862.0              4      14.0             14.0       0.0    119.0  \n",
              "3     641.0              3     -17.0              0.0       0.0     92.0  \n",
              "4     888.0              4     -12.0              0.0       0.0    122.0  "
            ]
          },
          "execution_count": 19,
          "metadata": {},
          "output_type": "execute_result"
        }
      ],
      "source": [
        "data.head(5)"
      ]
    },
    {
      "cell_type": "markdown",
      "metadata": {
        "id": "s7DiDvnwd5Q3"
      },
      "source": [
        "Here are some more questions to help you learn more about your dataset.\n",
        "\n",
        "**Questions**   \n",
        "\n",
        "1. How many rows and columns does the dataset have?   \n",
        "2. How many years are included in the dataset?   \n",
        "3. What is the date range for the dataset?   \n",
        "4. Which airlines are included in the dataset?   \n",
        "5. Which origin and destination airports are covered?"
      ]
    },
    {
      "cell_type": "code",
      "execution_count": null,
      "metadata": {
        "id": "7FPcaGf0d5Q4",
        "outputId": "08e953b2-3eb3-46d4-949c-126cf06bc8f1"
      },
      "outputs": [
        {
          "name": "stdout",
          "output_type": "stream",
          "text": [
            "The #rows and #columns are  1658130  and  20\n",
            "The years in this dataset are:  [2014, 2016, 2017, 2015, 2018]\n",
            "The months covered in this dataset are:  [1, 2, 3, 4, 5, 6, 7, 8, 9, 10, 11, 12]\n",
            "The date range for data is : 2014-01-01  to  2018-12-31\n",
            "The airlines covered in this dataset are:  ['UA', 'OO', 'WN', 'AA', 'DL']\n",
            "The Origin airports covered are:  ['DEN', 'IAH', 'DFW', 'ORD', 'LAX', 'SFO', 'ATL', 'PHX', 'CLT']\n",
            "The Destination airports covered are:  ['ORD', 'LAX', 'DEN', 'SFO', 'IAH', 'DFW', 'PHX', 'ATL', 'CLT']\n"
          ]
        }
      ],
      "source": [
        "print(\"The #rows and #columns are \", data.shape[0], \" and \", data.shape[1])\n",
        "print(\"The years in this dataset are: \", list(data.Year.unique()))\n",
        "print(\"The months covered in this dataset are: \", sorted(list(data.Month.unique())))\n",
        "print(\"The date range for data is :\" , min(data.FlightDate.unique()), \" to \", max(data.FlightDate.unique()))\n",
        "print(\"The airlines covered in this dataset are: \", list(data.Reporting_Airline.unique()))\n",
        "print(\"The Origin airports covered are: \", list(data.Origin.unique()))\n",
        "print(\"The Destination airports covered are: \", list(data.Dest.unique()))"
      ]
    },
    {
      "cell_type": "markdown",
      "metadata": {
        "id": "3RbI8N2cd5Q5"
      },
      "source": [
        "Define your target column: **is_delay** (*1* means that the arrival time delayed more than 15 minutes, and *0* means all other cases). To rename the column from **ArrDel15** to *is_delay*, use the `rename` method .\n",
        "\n",
        "**Hint**: You can use the `rename` function in pandas ([pandas.DataFrame.rename documentation](https://pandas.pydata.org/pandas-docs/stable/reference/api/pandas.DataFrame.rename.html)).\n",
        "\n",
        "For example:\n",
        "```\n",
        "data.rename(columns={'col1':'column1'}, inplace=True)\n",
        "```"
      ]
    },
    {
      "cell_type": "code",
      "execution_count": null,
      "metadata": {
        "id": "_dSFHftRd5Q6"
      },
      "outputs": [],
      "source": [
        " data.rename(columns={'ArrDel15': 'is_delay'}, inplace=True) # Enter your code here"
      ]
    },
    {
      "cell_type": "markdown",
      "metadata": {
        "id": "xYeNKoMnd5Q7"
      },
      "source": [
        "Look for nulls across columns. You can use the `isnull()` function ([pandas.isnull documentation](https://pandas.pydata.org/pandas-docs/version/0.17.0/generated/pandas.isnull.html)).\n",
        "\n",
        "**Hint**: `isnull()` detects whether the particular value is null or not. It returns a boolean (*True* or *False*) in its place. To sum the number of columns, use the `sum(axis=0)` function (for example, `df.isnull().sum(axis=0)`)."
      ]
    },
    {
      "cell_type": "code",
      "execution_count": null,
      "metadata": {
        "id": "CCS3ieE5d5Q8",
        "outputId": "be7197e3-ec96-4f50-e287-7a7e030d2767"
      },
      "outputs": [
        {
          "data": {
            "text/plain": [
              "Year                     0\n",
              "Quarter                  0\n",
              "Month                    0\n",
              "DayofMonth               0\n",
              "DayOfWeek                0\n",
              "FlightDate               0\n",
              "Reporting_Airline        0\n",
              "Origin                   0\n",
              "OriginState              0\n",
              "Dest                     0\n",
              "DestState                0\n",
              "CRSDepTime               0\n",
              "Cancelled                0\n",
              "Diverted                 0\n",
              "Distance                 0\n",
              "DistanceGroup            0\n",
              "ArrDelay             22540\n",
              "ArrDelayMinutes      22540\n",
              "is_delay             22540\n",
              "AirTime              22540\n",
              "dtype: int64"
            ]
          },
          "execution_count": 22,
          "metadata": {},
          "output_type": "execute_result"
        }
      ],
      "source": [
        "data.isnull().sum(axis=0)"
      ]
    },
    {
      "cell_type": "markdown",
      "metadata": {
        "id": "0hQLyodjd5Q-"
      },
      "source": [
        "The arrival delay details and airtime are missing for 22,540 out of 1,658,130 rows, which is 1.3 percent. You can either remove or impute these rows. The documentation doesn't mention any information about missing rows.\n"
      ]
    },
    {
      "cell_type": "code",
      "execution_count": null,
      "metadata": {
        "id": "-BPyUvMpd5Q_",
        "outputId": "d29a75dc-1fa9-443a-80a5-d2c694995668"
      },
      "outputs": [
        {
          "data": {
            "text/plain": [
              "Year                 0\n",
              "Quarter              0\n",
              "Month                0\n",
              "DayofMonth           0\n",
              "DayOfWeek            0\n",
              "FlightDate           0\n",
              "Reporting_Airline    0\n",
              "Origin               0\n",
              "OriginState          0\n",
              "Dest                 0\n",
              "DestState            0\n",
              "CRSDepTime           0\n",
              "Cancelled            0\n",
              "Diverted             0\n",
              "Distance             0\n",
              "DistanceGroup        0\n",
              "ArrDelay             0\n",
              "ArrDelayMinutes      0\n",
              "is_delay             0\n",
              "AirTime              0\n",
              "dtype: int64"
            ]
          },
          "execution_count": 23,
          "metadata": {},
          "output_type": "execute_result"
        }
      ],
      "source": [
        "### Remove null columns\n",
        "data = data[~data.is_delay.isnull()]\n",
        "data.isnull().sum(axis = 0)"
      ]
    },
    {
      "cell_type": "markdown",
      "metadata": {
        "id": "9G7_q2-vd5Q_"
      },
      "source": [
        "Get the hour of the day in 24-hour-time format from CRSDepTime."
      ]
    },
    {
      "cell_type": "code",
      "execution_count": null,
      "metadata": {
        "id": "BGJoB0nZd5RA"
      },
      "outputs": [],
      "source": [
        "data['DepHourofDay'] = (data['CRSDepTime']//100)"
      ]
    },
    {
      "cell_type": "markdown",
      "metadata": {
        "id": "EeyCIYAtd5RA"
      },
      "source": [
        "## **The ML problem statement**\n",
        "- Given a set of features, can you predict if a flight is going to be delayed more than 15 minutes?\n",
        "- Because the target variable takes only a value of *0* or *1*, you could use a classification algorithm. \n",
        "\n",
        "Before you start modeling, it's a good practice to look at feature distribution, correlations, and others.\n",
        "- This will give you an idea of any non-linearity or patterns in the data\n",
        "    - Linear models: Add power, exponential, or interaction features\n",
        "    - Try a non-linear model\n",
        "- Data imbalance \n",
        "    - Choose metrics that won't give biased model performance (accuracy versus the area under the curve, or AUC)\n",
        "    - Use weighted or custom loss functions\n",
        "- Missing data\n",
        "    - Do imputation based on simple statistics -- mean, median, mode (numerical variables), frequent class (categorical variables)\n",
        "    - Clustering-based imputation (k-nearest neighbors, or KNNs, to predict column value)\n",
        "    - Drop column"
      ]
    },
    {
      "cell_type": "markdown",
      "metadata": {
        "id": "GUUFbQFCd5RB"
      },
      "source": [
        "### Data exploration\n",
        "\n",
        "Check the classes *delay* versus *no delay*.\n"
      ]
    },
    {
      "cell_type": "code",
      "execution_count": null,
      "metadata": {
        "id": "ce2H_SAbd5RB",
        "outputId": "baf42820-636c-4145-e1b1-b3be0b84d394"
      },
      "outputs": [
        {
          "data": {
            "image/png": "[encoded data removed]",
            "text/plain": [
              "<Figure size 432x288 with 1 Axes>"
            ]
          },
          "metadata": {
            "needs_background": "light"
          },
          "output_type": "display_data"
        }
      ],
      "source": [
        "(data.groupby('is_delay').size()/len(data) ).plot(kind='bar')# Enter your code here\n",
        "plt.ylabel('Frequency')\n",
        "plt.title('Distribution of classes')\n",
        "plt.show()"
      ]
    },
    {
      "cell_type": "markdown",
      "metadata": {
        "id": "xkKvAY6ed5RC"
      },
      "source": [
        "**Question**: What can you deduce from the bar plot about the ratio of *delay* versus *no delay*?"
      ]
    },
    {
      "cell_type": "code",
      "execution_count": null,
      "metadata": {
        "id": "aegOtYJvd5RC"
      },
      "outputs": [],
      "source": [
        "จาก bar plot จะทราบว่าความถี่ของเที่ยวบินที่ไม่มีความล่าช้า(delay)สูงกว่าเที่ยวบินที่มีความล่าช้า"
      ]
    },
    {
      "cell_type": "markdown",
      "metadata": {
        "id": "c4epsPl7d5RD"
      },
      "source": [
        "Run the following two cells and answer the questions."
      ]
    },
    {
      "cell_type": "code",
      "execution_count": null,
      "metadata": {
        "id": "N4NZMd4Fd5RD",
        "outputId": "efff2821-aa6d-44cc-ad2e-7e7554da2b01"
      },
      "outputs": [
        {
          "data": {
            "image/png": "[encoded data removed]",
            "text/plain": [
              "<Figure size 1440x1440 with 6 Axes>"
            ]
          },
          "metadata": {
            "needs_background": "light"
          },
          "output_type": "display_data"
        }
      ],
      "source": [
        "viz_columns = ['Month', 'DepHourofDay', 'DayOfWeek', 'Reporting_Airline', 'Origin', 'Dest']\n",
        "fig, axes = plt.subplots(3, 2, figsize=(20,20), squeeze=False)\n",
        "# fig.autofmt_xdate(rotation=90)\n",
        "\n",
        "for idx, column in enumerate(viz_columns):\n",
        "    ax = axes[idx//2, idx%2]\n",
        "    temp = data.groupby(column)['is_delay'].value_counts(normalize=True).rename('percentage').\\\n",
        "    mul(100).reset_index().sort_values(column)\n",
        "    sns.barplot(x=column, y=\"percentage\", hue=\"is_delay\", data=temp, ax=ax)\n",
        "    plt.ylabel('% delay/no-delay')\n",
        "    \n",
        "\n",
        "plt.show()"
      ]
    },
    {
      "cell_type": "code",
      "execution_count": null,
      "metadata": {
        "id": "lnBQOABfd5RE",
        "outputId": "378766e6-19a6-4006-c557-488c0c5d608a"
      },
      "outputs": [
        {
          "data": {
            "image/png": "[encoded data removed]",
            "text/plain": [
              "<Figure size 360x360 with 1 Axes>"
            ]
          },
          "metadata": {
            "needs_background": "light"
          },
          "output_type": "display_data"
        }
      ],
      "source": [
        "sns.lmplot( x=\"is_delay\", y=\"Distance\", data=data, fit_reg=False, hue='is_delay', legend=False)\n",
        "plt.legend(loc='center')\n",
        "plt.xlabel('is_delay')\n",
        "plt.ylabel('Distance')\n",
        "plt.show()"
      ]
    },
    {
      "cell_type": "markdown",
      "metadata": {
        "id": "Ed3-JIDtd5RH"
      },
      "source": [
        "**Questions**\n",
        "\n",
        "Using the data from the previous charts, answer these questions:\n",
        "\n",
        "- Which months have the most delays?\n",
        "- What time of the day has the most delays?\n",
        "- What day of the week has the most delays?\n",
        "- Which airline has the most delays?\n",
        "- Which origin and destination airports have the most delays?\n",
        "- Is flight distance a factor in the delays?"
      ]
    },
    {
      "cell_type": "code",
      "execution_count": null,
      "metadata": {
        "id": "TBkPZsf2d5RH"
      },
      "outputs": [],
      "source": [
        "1)เดือน6 June\n",
        "2)เวลา 20.00 น.\n",
        "3)1,4,5\n",
        "4)WN\n",
        "5)ORD ,SFO\n",
        "6)ไม่มีผลทำให้เครื่อง delay"
      ]
    },
    {
      "cell_type": "markdown",
      "metadata": {
        "id": "yPqI0V-8d5RK"
      },
      "source": [
        "### Features\n",
        "\n",
        "Look at all the columns and what their specific types are."
      ]
    },
    {
      "cell_type": "code",
      "execution_count": null,
      "metadata": {
        "id": "OIKzAEUvd5RL",
        "outputId": "484d4411-97db-4507-f88b-441610238718"
      },
      "outputs": [
        {
          "data": {
            "text/plain": [
              "Index(['Year', 'Quarter', 'Month', 'DayofMonth', 'DayOfWeek', 'FlightDate',\n",
              "       'Reporting_Airline', 'Origin', 'OriginState', 'Dest', 'DestState',\n",
              "       'CRSDepTime', 'Cancelled', 'Diverted', 'Distance', 'DistanceGroup',\n",
              "       'ArrDelay', 'ArrDelayMinutes', 'is_delay', 'AirTime', 'DepHourofDay'],\n",
              "      dtype='object')"
            ]
          },
          "execution_count": 30,
          "metadata": {},
          "output_type": "execute_result"
        }
      ],
      "source": [
        "data.columns"
      ]
    },
    {
      "cell_type": "code",
      "execution_count": null,
      "metadata": {
        "id": "xLBDi4kFd5RL",
        "outputId": "cd2772d8-bc0d-4fdc-d155-533cad198d4f"
      },
      "outputs": [
        {
          "data": {
            "text/plain": [
              "Year                   int64\n",
              "Quarter                int64\n",
              "Month                  int64\n",
              "DayofMonth             int64\n",
              "DayOfWeek              int64\n",
              "FlightDate            object\n",
              "Reporting_Airline     object\n",
              "Origin                object\n",
              "OriginState           object\n",
              "Dest                  object\n",
              "DestState             object\n",
              "CRSDepTime             int64\n",
              "Cancelled            float64\n",
              "Diverted             float64\n",
              "Distance             float64\n",
              "DistanceGroup          int64\n",
              "ArrDelay             float64\n",
              "ArrDelayMinutes      float64\n",
              "is_delay             float64\n",
              "AirTime              float64\n",
              "DepHourofDay           int64\n",
              "dtype: object"
            ]
          },
          "execution_count": 31,
          "metadata": {},
          "output_type": "execute_result"
        }
      ],
      "source": [
        "data.dtypes"
      ]
    },
    {
      "cell_type": "markdown",
      "metadata": {
        "id": "TybImU25d5RM"
      },
      "source": [
        "Filtering the required columns:\n",
        "- *Date* is redundant, because you have *Year*, *Quarter*, *Month*, *DayofMonth*, and *DayOfWeek* to describe the date.\n",
        "- Use *Origin* and *Dest* codes instead of *OriginState* and *DestState*.\n",
        "- Because you are only classifying whether the flight is delayed or not, you don't need *TotalDelayMinutes*, *DepDelayMinutes*, and *ArrDelayMinutes*.\n",
        "\n",
        "Treat *DepHourofDay* as a categorical variable because it doesn't have any quantitative relation with the target.\n",
        "- If you needed to do a one-hot encoding of this variable, it would result in 23 more columns.\n",
        "- Other alternatives to handling categorical variables include hash encoding, regularized mean encoding, and bucketizing the values, among others.\n",
        "- In this case, you only need to split into buckets.\n",
        "\n",
        "To change a column type to category, use the `astype` function ([pandas.DataFrame.astype documentation](https://pandas.pydata.org/pandas-docs/stable/reference/api/pandas.DataFrame.astype.html))."
      ]
    },
    {
      "cell_type": "code",
      "execution_count": null,
      "metadata": {
        "id": "EiIUt1oMd5RN"
      },
      "outputs": [],
      "source": [
        "data_orig = data.copy()\n",
        "data = data[[ 'is_delay', 'Quarter', 'Month', 'DayofMonth', 'DayOfWeek', \n",
        "       'Reporting_Airline', 'Origin', 'Dest','Distance','DepHourofDay']]\n",
        "categorical_columns  = ['Quarter', 'Month', 'DayofMonth', 'DayOfWeek', \n",
        "       'Reporting_Airline', 'Origin', 'Dest', 'DepHourofDay']\n",
        "for c in categorical_columns:\n",
        "    data[c] = data[c].astype('category')"
      ]
    },
    {
      "cell_type": "markdown",
      "metadata": {
        "id": "6Aiy85ekd5RO"
      },
      "source": [
        "To use one-hot encoding, use the `get_dummies` function in pandas for the categorical columns that you selected. Then, you can concatenate those generated features to your original dataset by using the `concat` function in pandas. For encoding categorical variables, you can also use *dummy encoding* by using a keyword `drop_first=True`. For more information about dummy encoding, see [Dummy variable (statistics)](https://en.wikiversity.org/wiki/Dummy_variable_(statistics)).\n",
        "\n",
        "For example:\n",
        "```\n",
        "pd.get_dummies(df[['column1','columns2']], drop_first=True)\n",
        "```"
      ]
    },
    {
      "cell_type": "code",
      "execution_count": null,
      "metadata": {
        "id": "Sqj0ywPJd5RP"
      },
      "outputs": [],
      "source": [
        "data_dummies = pd.get_dummies(data[['Quarter', 'Month', 'DayofMonth', 'DayOfWeek', \n",
        "       'Reporting_Airline', 'Origin', 'Dest','Distance','DepHourofDay']], drop_first=True) # Enter your code here\n",
        "data = pd.concat([data, data_dummies], axis = 1)\n",
        "data.drop(categorical_columns,axis=1, inplace=True)"
      ]
    },
    {
      "cell_type": "markdown",
      "metadata": {
        "id": "uf5GmZa-d5RP"
      },
      "source": [
        "Check the length of the dataset and the new columns.\n",
        "\n",
        "**Hint**: Use the `shape` and `columns` properties."
      ]
    },
    {
      "cell_type": "code",
      "execution_count": null,
      "metadata": {
        "id": "0xuHdvMqd5RP",
        "outputId": "97bcf437-bb6f-45d1-f68b-8e8ec43793c9"
      },
      "outputs": [
        {
          "data": {
            "text/plain": [
              "(1635590, 95)"
            ]
          },
          "execution_count": 34,
          "metadata": {},
          "output_type": "execute_result"
        }
      ],
      "source": [
        "data.shape"
      ]
    },
    {
      "cell_type": "code",
      "execution_count": null,
      "metadata": {
        "id": "VpzVvu_pd5RQ",
        "outputId": "2b076808-70ea-4690-a012-2964c76225d6"
      },
      "outputs": [
        {
          "data": {
            "text/html": [
              "<div>\n",
              "<style scoped>\n",
              "    .dataframe tbody tr th:only-of-type {\n",
              "        vertical-align: middle;\n",
              "    }\n",
              "\n",
              "    .dataframe tbody tr th {\n",
              "        vertical-align: top;\n",
              "    }\n",
              "\n",
              "    .dataframe thead th {\n",
              "        text-align: right;\n",
              "    }\n",
              "</style>\n",
              "<table border=\"1\" class=\"dataframe\">\n",
              "  <thead>\n",
              "    <tr style=\"text-align: right;\">\n",
              "      <th></th>\n",
              "      <th>is_delay</th>\n",
              "      <th>Distance</th>\n",
              "      <th>Distance</th>\n",
              "      <th>Quarter_2</th>\n",
              "      <th>Quarter_3</th>\n",
              "      <th>Quarter_4</th>\n",
              "      <th>Month_2</th>\n",
              "      <th>Month_3</th>\n",
              "      <th>Month_4</th>\n",
              "      <th>Month_5</th>\n",
              "      <th>...</th>\n",
              "      <th>DepHourofDay_14</th>\n",
              "      <th>DepHourofDay_15</th>\n",
              "      <th>DepHourofDay_16</th>\n",
              "      <th>DepHourofDay_17</th>\n",
              "      <th>DepHourofDay_18</th>\n",
              "      <th>DepHourofDay_19</th>\n",
              "      <th>DepHourofDay_20</th>\n",
              "      <th>DepHourofDay_21</th>\n",
              "      <th>DepHourofDay_22</th>\n",
              "      <th>DepHourofDay_23</th>\n",
              "    </tr>\n",
              "  </thead>\n",
              "  <tbody>\n",
              "    <tr>\n",
              "      <th>0</th>\n",
              "      <td>0.0</td>\n",
              "      <td>888.0</td>\n",
              "      <td>888.0</td>\n",
              "      <td>0</td>\n",
              "      <td>1</td>\n",
              "      <td>0</td>\n",
              "      <td>0</td>\n",
              "      <td>0</td>\n",
              "      <td>0</td>\n",
              "      <td>0</td>\n",
              "      <td>...</td>\n",
              "      <td>0</td>\n",
              "      <td>0</td>\n",
              "      <td>0</td>\n",
              "      <td>0</td>\n",
              "      <td>0</td>\n",
              "      <td>0</td>\n",
              "      <td>0</td>\n",
              "      <td>0</td>\n",
              "      <td>0</td>\n",
              "      <td>0</td>\n",
              "    </tr>\n",
              "    <tr>\n",
              "      <th>1</th>\n",
              "      <td>0.0</td>\n",
              "      <td>1379.0</td>\n",
              "      <td>1379.0</td>\n",
              "      <td>0</td>\n",
              "      <td>1</td>\n",
              "      <td>0</td>\n",
              "      <td>0</td>\n",
              "      <td>0</td>\n",
              "      <td>0</td>\n",
              "      <td>0</td>\n",
              "      <td>...</td>\n",
              "      <td>0</td>\n",
              "      <td>0</td>\n",
              "      <td>0</td>\n",
              "      <td>0</td>\n",
              "      <td>0</td>\n",
              "      <td>0</td>\n",
              "      <td>0</td>\n",
              "      <td>0</td>\n",
              "      <td>0</td>\n",
              "      <td>0</td>\n",
              "    </tr>\n",
              "    <tr>\n",
              "      <th>2</th>\n",
              "      <td>0.0</td>\n",
              "      <td>862.0</td>\n",
              "      <td>862.0</td>\n",
              "      <td>0</td>\n",
              "      <td>1</td>\n",
              "      <td>0</td>\n",
              "      <td>0</td>\n",
              "      <td>0</td>\n",
              "      <td>0</td>\n",
              "      <td>0</td>\n",
              "      <td>...</td>\n",
              "      <td>0</td>\n",
              "      <td>0</td>\n",
              "      <td>0</td>\n",
              "      <td>0</td>\n",
              "      <td>0</td>\n",
              "      <td>0</td>\n",
              "      <td>0</td>\n",
              "      <td>0</td>\n",
              "      <td>0</td>\n",
              "      <td>0</td>\n",
              "    </tr>\n",
              "    <tr>\n",
              "      <th>3</th>\n",
              "      <td>0.0</td>\n",
              "      <td>641.0</td>\n",
              "      <td>641.0</td>\n",
              "      <td>0</td>\n",
              "      <td>1</td>\n",
              "      <td>0</td>\n",
              "      <td>0</td>\n",
              "      <td>0</td>\n",
              "      <td>0</td>\n",
              "      <td>0</td>\n",
              "      <td>...</td>\n",
              "      <td>0</td>\n",
              "      <td>0</td>\n",
              "      <td>0</td>\n",
              "      <td>0</td>\n",
              "      <td>0</td>\n",
              "      <td>0</td>\n",
              "      <td>0</td>\n",
              "      <td>0</td>\n",
              "      <td>0</td>\n",
              "      <td>0</td>\n",
              "    </tr>\n",
              "    <tr>\n",
              "      <th>4</th>\n",
              "      <td>0.0</td>\n",
              "      <td>888.0</td>\n",
              "      <td>888.0</td>\n",
              "      <td>0</td>\n",
              "      <td>1</td>\n",
              "      <td>0</td>\n",
              "      <td>0</td>\n",
              "      <td>0</td>\n",
              "      <td>0</td>\n",
              "      <td>0</td>\n",
              "      <td>...</td>\n",
              "      <td>0</td>\n",
              "      <td>1</td>\n",
              "      <td>0</td>\n",
              "      <td>0</td>\n",
              "      <td>0</td>\n",
              "      <td>0</td>\n",
              "      <td>0</td>\n",
              "      <td>0</td>\n",
              "      <td>0</td>\n",
              "      <td>0</td>\n",
              "    </tr>\n",
              "  </tbody>\n",
              "</table>\n",
              "<p>5 rows × 95 columns</p>\n",
              "</div>"
            ],
            "text/plain": [
              "   is_delay  Distance  Distance  Quarter_2  Quarter_3  Quarter_4  Month_2  \\\n",
              "0       0.0     888.0     888.0          0          1          0        0   \n",
              "1       0.0    1379.0    1379.0          0          1          0        0   \n",
              "2       0.0     862.0     862.0          0          1          0        0   \n",
              "3       0.0     641.0     641.0          0          1          0        0   \n",
              "4       0.0     888.0     888.0          0          1          0        0   \n",
              "\n",
              "   Month_3  Month_4  Month_5  ...  DepHourofDay_14  DepHourofDay_15  \\\n",
              "0        0        0        0  ...                0                0   \n",
              "1        0        0        0  ...                0                0   \n",
              "2        0        0        0  ...                0                0   \n",
              "3        0        0        0  ...                0                0   \n",
              "4        0        0        0  ...                0                1   \n",
              "\n",
              "   DepHourofDay_16  DepHourofDay_17  DepHourofDay_18  DepHourofDay_19  \\\n",
              "0                0                0                0                0   \n",
              "1                0                0                0                0   \n",
              "2                0                0                0                0   \n",
              "3                0                0                0                0   \n",
              "4                0                0                0                0   \n",
              "\n",
              "   DepHourofDay_20  DepHourofDay_21  DepHourofDay_22  DepHourofDay_23  \n",
              "0                0                0                0                0  \n",
              "1                0                0                0                0  \n",
              "2                0                0                0                0  \n",
              "3                0                0                0                0  \n",
              "4                0                0                0                0  \n",
              "\n",
              "[5 rows x 95 columns]"
            ]
          },
          "execution_count": 35,
          "metadata": {},
          "output_type": "execute_result"
        }
      ],
      "source": [
        "data.head()"
      ]
    },
    {
      "cell_type": "markdown",
      "metadata": {
        "id": "hpmTmOcpd5RR"
      },
      "source": [
        "You are now ready to train the model. Before you split the data, rename the **is_delay** column to *target*.\n",
        "\n",
        "**Hint**: You can use the `rename` function in pandas ([pandas.DataFrame.rename documentation](https://pandas.pydata.org/pandas-docs/stable/reference/api/pandas.DataFrame.rename.html))."
      ]
    },
    {
      "cell_type": "code",
      "execution_count": null,
      "metadata": {
        "id": "K91MKwTVd5RR"
      },
      "outputs": [],
      "source": [
        "data.rename(columns = {'is_delay':'target'}, inplace=True )# Enter your code here"
      ]
    },
    {
      "cell_type": "markdown",
      "metadata": {
        "id": "KsGPDE5Dd5RS"
      },
      "source": [
        "## <span style=\"color:red\"> End of Step 2 </span>\n",
        "\n",
        "Save the project file to your local computer. Follow these steps:\n",
        "\n",
        "1. In the file explorer on the left, right-click the notebook that you're working on. \n",
        "\n",
        "2. Choose **Download**, and save the file locally.  \n",
        "\n",
        "This action downloads the current notebook to the default download folder on your computer."
      ]
    },
    {
      "cell_type": "markdown",
      "metadata": {
        "id": "QVrI2UlZd5RS"
      },
      "source": [
        "# Step 3: Model training and evaluation\n",
        "\n",
        "You must include some preliminary steps when you convert the dataset from a DataFrame to a format that a machine learning algorithm can use. For Amazon SageMaker, you must perform these steps:\n",
        "\n",
        "1. Split the data into `train_data`, `validation_data`, and `test_data` by using `sklearn.model_selection.train_test_split`.  \n",
        "\n",
        "2. Convert the dataset to an appropriate file format that the Amazon SageMaker training job can use. This can be either a CSV file or record protobuf. For more information, see [Common Data Formats for Training](https://docs.aws.amazon.com/sagemaker/latest/dg/cdf-training.html).  \n",
        "\n",
        "3. Upload the data to your S3 bucket. If you haven't created one before, see [Create a Bucket](https://docs.aws.amazon.com/AmazonS3/latest/gsg/CreatingABucket.html).  \n",
        "\n",
        "Use the following cells to complete these steps. Insert and delete cells where needed.\n",
        "\n",
        "#### <span style=\"color: blue;\">Project presentation: In your project presentation, write down the key decisions that you made in this phase.</span>"
      ]
    },
    {
      "cell_type": "markdown",
      "metadata": {
        "id": "QzF1O7Fsd5RS"
      },
      "source": [
        "### Train-test split"
      ]
    },
    {
      "cell_type": "code",
      "execution_count": null,
      "metadata": {
        "id": "NWTaBnCFd5RV"
      },
      "outputs": [],
      "source": [
        "from sklearn.model_selection import train_test_split\n",
        "def split_data(data):\n",
        "    train, test_and_validate = train_test_split(data, test_size=0.2, random_state=42, stratify=data['target'])\n",
        "    test, validate = train_test_split(test_and_validate, test_size=0.5, random_state=42, stratify=test_and_validate['target'])\n",
        "    return train, validate, test"
      ]
    },
    {
      "cell_type": "code",
      "execution_count": null,
      "metadata": {
        "id": "0spoTeZhd5RW",
        "outputId": "e37768c0-9e94-4971-ff6b-c0a66807541c"
      },
      "outputs": [
        {
          "name": "stdout",
          "output_type": "stream",
          "text": [
            "0.0    1033806\n",
            "1.0     274666\n",
            "Name: target, dtype: int64\n",
            "0.0    129226\n",
            "1.0     34333\n",
            "Name: target, dtype: int64\n",
            "0.0    129226\n",
            "1.0     34333\n",
            "Name: target, dtype: int64\n"
          ]
        }
      ],
      "source": [
        "train, validate, test = split_data(data)\n",
        "print(train['target'].value_counts())\n",
        "print(test['target'].value_counts())\n",
        "print(validate['target'].value_counts())"
      ]
    },
    {
      "cell_type": "markdown",
      "metadata": {
        "id": "Djd_9GMRd5RX"
      },
      "source": [
        "**Sample answer**\n",
        "```\n",
        "0.0    1033570\n",
        "1.0     274902\n",
        "Name: target, dtype: int64\n",
        "0.0    129076\n",
        "1.0     34483\n",
        "Name: target, dtype: int64\n",
        "0.0    129612\n",
        "1.0     33947\n",
        "Name: target, dtype: int64\n",
        "```"
      ]
    },
    {
      "cell_type": "markdown",
      "metadata": {
        "id": "opxnBGHld5RY"
      },
      "source": [
        "### Baseline classification model"
      ]
    },
    {
      "cell_type": "code",
      "execution_count": null,
      "metadata": {
        "id": "MGV9tWVUd5RY"
      },
      "outputs": [],
      "source": [
        "import sagemaker\n",
        "from sagemaker.serializers import CSVSerializer\n",
        "from sagemaker.amazon.amazon_estimator import RecordSet\n",
        "import boto3\n",
        "\n",
        "# Instantiate the LinearLearner estimator object with 1 ml.m4.xlarge\n",
        "classifier_estimator = sagemaker.LinearLearner(role=sagemaker.get_execution_role(),\n",
        "                                               instance_count=1,\n",
        "                                               instance_type='ml.m4.xlarge',\n",
        "                                               predictor_type='binary_classifier',\n",
        "                                               binary_classifier_model_selection_criteria='cross_entropy_loss')"
      ]
    },
    {
      "cell_type": "markdown",
      "metadata": {
        "id": "LflyQR8dd5RZ"
      },
      "source": [
        "### Sample code\n",
        "```\n",
        "num_classes = len(pd.unique(train_labels))\n",
        "classifier_estimator = sagemaker.LinearLearner(role=sagemaker.get_execution_role(),\n",
        "                                              instance_count=1,\n",
        "                                              instance_type='ml.m4.xlarge',\n",
        "                                              predictor_type='binary_classifier',\n",
        "                                              binary_classifier_model_selection_criteria = 'cross_entropy_loss')\n",
        "                                              \n",
        "```"
      ]
    },
    {
      "cell_type": "markdown",
      "metadata": {
        "id": "EwZy5MnNd5RZ"
      },
      "source": [
        "Linear learner accepts training data in protobuf or CSV content types. It also accepts inference requests in protobuf, CSV, or JavaScript Object Notation (JSON) content types. Training data has features and ground-truth labels, but the data in an inference request has only features.\n",
        "\n",
        "In a production pipeline, AWS recommends converting the data to the Amazon SageMaker protobuf format and storing it in Amazon S3. To get up and running quickly, AWS provides the `record_set` operation for converting and uploading the dataset when it's small enough to fit in local memory. It accepts NumPy arrays like the ones you already have, so you will use it for this step. The `RecordSet` object will track the temporary Amazon S3 location of your data. Create train, validation, and test records by using the `estimator.record_set` function. Then, start your training job by using the `estimator.fit` function."
      ]
    },
    {
      "cell_type": "code",
      "execution_count": null,
      "metadata": {
        "id": "jWmYMKaQd5RZ"
      },
      "outputs": [],
      "source": [
        "### Create train, validate, and test records\n",
        "train_records = classifier_estimator.record_set(train.values[:, 1:].astype(np.float32), train.values[:, 0].astype(np.float32), channel='train')\n",
        "val_records = classifier_estimator.record_set(validate.values[:, 1:].astype(np.float32), validate.values[:, 0].astype(np.float32), channel='validation')\n",
        "test_records = classifier_estimator.record_set(test.values[:, 1:].astype(np.float32), test.values[:, 0].astype(np.float32), channel='test')"
      ]
    },
    {
      "cell_type": "markdown",
      "metadata": {
        "id": "5gLeUY_2d5Ra"
      },
      "source": [
        "Now, train your model on the dataset that you just uploaded.\n",
        "\n",
        "### Sample code\n",
        "```\n",
        "linear.fit([train_records,val_records,test_records])\n",
        "```"
      ]
    },
    {
      "cell_type": "code",
      "execution_count": null,
      "metadata": {
        "id": "3pxqxL8Nd5Ra",
        "outputId": "ed091282-f4c0-400f-e3ea-1b7cb1f5d162"
      },
      "outputs": [
        {
          "name": "stderr",
          "output_type": "stream",
          "text": [
            "Defaulting to the only supported framework/algorithm version: 1. Ignoring framework/algorithm version: 1.\n",
            "Defaulting to the only supported framework/algorithm version: 1. Ignoring framework/algorithm version: 1.\n"
          ]
        },
        {
          "name": "stdout",
          "output_type": "stream",
          "text": [
            "2022-04-25 07:23:27 Starting - Starting the training job...\n",
            "2022-04-25 07:23:54 Starting - Preparing the instances for trainingProfilerReport-1650871407: InProgress\n",
            ".........\n",
            "2022-04-25 07:25:17 Downloading - Downloading input data...\n",
            "2022-04-25 07:25:58 Training - Downloading the training image......\n",
            "2022-04-25 07:26:50 Training - Training image download completed. Training in progress.\u001b[34mDocker entrypoint called with argument(s): train\u001b[0m\n",
            "\u001b[34mRunning default environment configuration script\u001b[0m\n",
            "\u001b[34m[04/25/2022 07:26:51 INFO 140418656159552 integration.py:636] worker started\u001b[0m\n",
            "\u001b[34m[04/25/2022 07:26:51 INFO 140418656159552] Reading default configuration from /opt/amazon/lib/python3.7/site-packages/algorithm/resources/default-input.json: {'mini_batch_size': '1000', 'epochs': '15', 'feature_dim': 'auto', 'use_bias': 'true', 'binary_classifier_model_selection_criteria': 'accuracy', 'f_beta': '1.0', 'target_recall': '0.8', 'target_precision': '0.8', 'num_models': 'auto', 'num_calibration_samples': '10000000', 'init_method': 'uniform', 'init_scale': '0.07', 'init_sigma': '0.01', 'init_bias': '0.0', 'optimizer': 'auto', 'loss': 'auto', 'margin': '1.0', 'quantile': '0.5', 'loss_insensitivity': '0.01', 'huber_delta': '1.0', 'num_classes': '1', 'accuracy_top_k': '3', 'wd': 'auto', 'l1': 'auto', 'momentum': 'auto', 'learning_rate': 'auto', 'beta_1': 'auto', 'beta_2': 'auto', 'bias_lr_mult': 'auto', 'bias_wd_mult': 'auto', 'use_lr_scheduler': 'true', 'lr_scheduler_step': 'auto', 'lr_scheduler_factor': 'auto', 'lr_scheduler_minimum_lr': 'auto', 'positive_example_weight_mult': '1.0', 'balance_multiclass_weights': 'false', 'normalize_data': 'true', 'normalize_label': 'auto', 'unbias_data': 'auto', 'unbias_label': 'auto', 'num_point_for_scaler': '10000', '_kvstore': 'auto', '_num_gpus': 'auto', '_num_kv_servers': 'auto', '_log_level': 'info', '_tuning_objective_metric': '', 'early_stopping_patience': '3', 'early_stopping_tolerance': '0.001', '_enable_profiler': 'false'}\u001b[0m\n",
            "\u001b[34m[04/25/2022 07:26:51 INFO 140418656159552] Merging with provided configuration from /opt/ml/input/config/hyperparameters.json: {'binary_classifier_model_selection_criteria': 'cross_entropy_loss', 'feature_dim': '94', 'mini_batch_size': '1000', 'predictor_type': 'binary_classifier'}\u001b[0m\n",
            "\u001b[34m[04/25/2022 07:26:51 INFO 140418656159552] Final configuration: {'mini_batch_size': '1000', 'epochs': '15', 'feature_dim': '94', 'use_bias': 'true', 'binary_classifier_model_selection_criteria': 'cross_entropy_loss', 'f_beta': '1.0', 'target_recall': '0.8', 'target_precision': '0.8', 'num_models': 'auto', 'num_calibration_samples': '10000000', 'init_method': 'uniform', 'init_scale': '0.07', 'init_sigma': '0.01', 'init_bias': '0.0', 'optimizer': 'auto', 'loss': 'auto', 'margin': '1.0', 'quantile': '0.5', 'loss_insensitivity': '0.01', 'huber_delta': '1.0', 'num_classes': '1', 'accuracy_top_k': '3', 'wd': 'auto', 'l1': 'auto', 'momentum': 'auto', 'learning_rate': 'auto', 'beta_1': 'auto', 'beta_2': 'auto', 'bias_lr_mult': 'auto', 'bias_wd_mult': 'auto', 'use_lr_scheduler': 'true', 'lr_scheduler_step': 'auto', 'lr_scheduler_factor': 'auto', 'lr_scheduler_minimum_lr': 'auto', 'positive_example_weight_mult': '1.0', 'balance_multiclass_weights': 'false', 'normalize_data': 'true', 'normalize_label': 'auto', 'unbias_data': 'auto', 'unbias_label': 'auto', 'num_point_for_scaler': '10000', '_kvstore': 'auto', '_num_gpus': 'auto', '_num_kv_servers': 'auto', '_log_level': 'info', '_tuning_objective_metric': '', 'early_stopping_patience': '3', 'early_stopping_tolerance': '0.001', '_enable_profiler': 'false', 'predictor_type': 'binary_classifier'}\u001b[0m\n",
            "\u001b[34m[04/25/2022 07:26:51 WARNING 140418656159552] Loggers have already been setup.\u001b[0m\n",
            "\u001b[34mProcess 1 is a worker.\u001b[0m\n",
            "\u001b[34m[04/25/2022 07:26:51 INFO 140418656159552] Using default worker.\u001b[0m\n",
            "\u001b[34m[04/25/2022 07:26:51 INFO 140418656159552] Checkpoint loading and saving are disabled.\u001b[0m\n",
            "\u001b[34m[2022-04-25 07:26:51.863] [tensorio] [warning] TensorIO is already initialized; ignoring the initialization routine.\u001b[0m\n",
            "\u001b[34m[2022-04-25 07:26:51.872] [tensorio] [warning] TensorIO is already initialized; ignoring the initialization routine.\u001b[0m\n",
            "\u001b[34m[2022-04-25 07:26:51.931] [tensorio] [info] epoch_stats={\"data_pipeline\": \"/opt/ml/input/data/train\", \"epoch\": 0, \"duration\": 77, \"num_examples\": 1, \"num_bytes\": 424000}\u001b[0m\n",
            "\u001b[34m[04/25/2022 07:26:51 INFO 140418656159552] Create Store: local\u001b[0m\n",
            "\u001b[34m[2022-04-25 07:26:52.123] [tensorio] [info] epoch_stats={\"data_pipeline\": \"/opt/ml/input/data/train\", \"epoch\": 1, \"duration\": 190, \"num_examples\": 11, \"num_bytes\": 4664000}\u001b[0m\n",
            "\u001b[34m[04/25/2022 07:26:52 INFO 140418656159552] Scaler algorithm parameters\n",
            " <algorithm.scaler.ScalerAlgorithmStable object at 0x7fb56defbdd0>\u001b[0m\n",
            "\u001b[34m[04/25/2022 07:26:52 INFO 140418656159552] Scaling model computed with parameters:\n",
            " {'stdev_label': None, 'stdev_weight': \u001b[0m\n",
            "\u001b[34m[5.3744678e+02 5.3744678e+02 4.3369290e-01 4.4040909e-01 4.3843508e-01\n",
            " 2.5049374e-01 2.7833980e-01 2.6888552e-01 2.8223431e-01 2.7955690e-01\n",
            " 2.8303027e-01 2.8876913e-01 2.7684170e-01 2.8289786e-01 2.7955690e-01\n",
            " 2.8103408e-01 1.8029131e-01 1.7887397e-01 1.7503002e-01 1.8005599e-01\n",
            " 1.7839868e-01 1.8262546e-01 1.8515393e-01 1.7331764e-01 1.7934784e-01\n",
            " 1.8492572e-01 1.7183442e-01 1.7672351e-01 1.7792191e-01 1.7768294e-01\n",
            " 1.7454271e-01 1.7792188e-01 1.8122913e-01 1.8216141e-01 1.7478657e-01\n",
            " 1.8741830e-01 1.7405388e-01 1.8853861e-01 1.7257786e-01 1.6445161e-01\n",
            " 1.7982030e-01 1.8696794e-01 1.7934787e-01 1.7158580e-01 1.5967569e-01\n",
            " 1.3360855e-01 3.5081300e-01 3.5164195e-01 3.6302766e-01 3.6190468e-01\n",
            " 3.2163686e-01 3.4886354e-01 3.7555289e-01 2.3494284e-01 4.5741972e-01\n",
            " 3.1368127e-01 2.3782340e-01 3.1401956e-01 3.3082196e-01 2.7002233e-01\n",
            " 3.5910892e-01 3.4269202e-01 3.0760476e-01 3.1536645e-01 2.3933032e-01\n",
            " 3.2109502e-01 3.2718080e-01 2.6945478e-01 3.5572970e-01 3.3489779e-01\n",
            " 3.0216950e-01 3.2833281e-01 5.3011697e-02 1.0000000e+00 1.0000000e+00\n",
            " 1.6626751e-01 2.2921817e-01 2.5049368e-01 2.5636876e-01 2.3460098e-01\n",
            " 2.4197929e-01 2.4459091e-01 2.4263567e-01 2.3511358e-01 2.4263565e-01\n",
            " 2.3698084e-01 2.4099037e-01 2.4748585e-01 2.0909061e-01 2.2583826e-01\n",
            " 1.9659816e-01 1.5967570e-01 1.6523261e-01 1.1861288e-01]\u001b[0m\n",
            "\u001b[34m<NDArray 94 @cpu(0)>, 'mean_label': None, 'mean_weight': \u001b[0m\n",
            "\u001b[34m[1.01320135e+03 1.01320135e+03 2.51181841e-01 2.63272732e-01\n",
            " 2.59636402e-01 6.72727227e-02 8.46363679e-02 7.84545392e-02\n",
            " 8.72727334e-02 8.54545534e-02 8.78181905e-02 9.18181911e-02\n",
            " 8.36363733e-02 8.77272934e-02 8.54545608e-02 8.64545479e-02\n",
            " 3.36363688e-02 3.30909118e-02 3.16363648e-02 3.35454531e-02\n",
            " 3.29090916e-02 3.45454589e-02 3.55454534e-02 3.10000032e-02\n",
            " 3.32727283e-02 3.54545452e-02 3.04545462e-02 3.22727300e-02\n",
            " 3.27272750e-02 3.26363668e-02 3.14545482e-02 3.27272713e-02\n",
            " 3.40000056e-02 3.43636386e-02 3.15454565e-02 3.64545472e-02\n",
            " 3.12727280e-02 3.69090959e-02 3.07272747e-02 2.78181862e-02\n",
            " 3.34545448e-02 3.62727307e-02 3.32727283e-02 3.03636398e-02\n",
            " 2.61818208e-02 1.81818195e-02 1.43727273e-01 1.44545481e-01\n",
            " 1.56181827e-01 1.55000001e-01 1.17181830e-01 1.41818210e-01\n",
            " 1.69909105e-01 5.86363673e-02 2.98090965e-01 1.10636368e-01\n",
            " 6.01818226e-02 1.10909097e-01 1.25090912e-01 7.91818202e-02\n",
            " 1.52090922e-01 1.35909095e-01 1.05818197e-01 1.12000011e-01\n",
            " 6.10000044e-02 1.16727270e-01 1.21909097e-01 7.88181946e-02\n",
            " 1.48636371e-01 1.28727257e-01 1.01636365e-01 1.22909106e-01\n",
            " 2.81818211e-03 0.00000000e+00 0.00000000e+00 2.84545459e-02\n",
            " 5.56363650e-02 6.72727376e-02 7.07272887e-02 5.84545508e-02\n",
            " 6.24545477e-02 6.39090911e-02 6.28181845e-02 5.87272681e-02\n",
            " 6.28181919e-02 5.97272739e-02 6.19090982e-02 6.55454621e-02\n",
            " 4.58181873e-02 5.39090969e-02 4.02727313e-02 2.61818208e-02\n",
            " 2.80909110e-02 1.42727280e-02]\u001b[0m\n",
            "\u001b[34m<NDArray 94 @cpu(0)>}\u001b[0m\n",
            "\u001b[34m[04/25/2022 07:26:52 INFO 140418656159552] nvidia-smi: took 0.093 seconds to run.\u001b[0m\n",
            "\u001b[34m[04/25/2022 07:26:52 INFO 140418656159552] nvidia-smi identified 0 GPUs.\u001b[0m\n",
            "\u001b[34m[04/25/2022 07:26:52 INFO 140418656159552] Number of GPUs being used: 0\u001b[0m\n",
            "\u001b[34m#metrics {\"StartTime\": 1650871612.3819513, \"EndTime\": 1650871612.3820174, \"Dimensions\": {\"Algorithm\": \"Linear Learner\", \"Host\": \"algo-1\", \"Operation\": \"training\", \"Meta\": \"init_train_data_iter\"}, \"Metrics\": {\"Total Records Seen\": {\"sum\": 12000.0, \"count\": 1, \"min\": 12000, \"max\": 12000}, \"Total Batches Seen\": {\"sum\": 12.0, \"count\": 1, \"min\": 12, \"max\": 12}, \"Max Records Seen Between Resets\": {\"sum\": 11000.0, \"count\": 1, \"min\": 11000, \"max\": 11000}, \"Max Batches Seen Between Resets\": {\"sum\": 11.0, \"count\": 1, \"min\": 11, \"max\": 11}, \"Reset Count\": {\"sum\": 2.0, \"count\": 1, \"min\": 2, \"max\": 2}, \"Number of Records Since Last Reset\": {\"sum\": 0.0, \"count\": 1, \"min\": 0, \"max\": 0}, \"Number of Batches Since Last Reset\": {\"sum\": 0.0, \"count\": 1, \"min\": 0, \"max\": 0}}}\u001b[0m\n",
            "\u001b[34m[2022-04-25 07:27:52.937] [tensorio] [info] epoch_stats={\"data_pipeline\": \"/opt/ml/input/data/train\", \"epoch\": 3, \"duration\": 60554, \"num_examples\": 1309, \"num_bytes\": 554792128}\u001b[0m\n",
            "\u001b[34m#metrics {\"StartTime\": 1650871672.937924, \"EndTime\": 1650871672.9380338, \"Dimensions\": {\"Algorithm\": \"Linear Learner\", \"Host\": \"algo-1\", \"Operation\": \"training\", \"epoch\": 0, \"model\": 0}, \"Metrics\": {\"train_binary_classification_cross_entropy_objective\": {\"sum\": 0.4942290182317798, \"count\": 1, \"min\": 0.4942290182317798, \"max\": 0.4942290182317798}}}\u001b[0m\n",
            "\u001b[34m#metrics {\"StartTime\": 1650871672.9384232, \"EndTime\": 1650871672.9384503, \"Dimensions\": {\"Algorithm\": \"Linear Learner\", \"Host\": \"algo-1\", \"Operation\": \"training\", \"epoch\": 0, \"model\": 1}, \"Metrics\": {\"train_binary_classification_cross_entropy_objective\": {\"sum\": 0.49480690016440293, \"count\": 1, \"min\": 0.49480690016440293, \"max\": 0.49480690016440293}}}\u001b[0m\n",
            "\u001b[34m#metrics {\"StartTime\": 1650871672.938518, \"EndTime\": 1650871672.9385378, \"Dimensions\": {\"Algorithm\": \"Linear Learner\", \"Host\": \"algo-1\", \"Operation\": \"training\", \"epoch\": 0, \"model\": 2}, \"Metrics\": {\"train_binary_classification_cross_entropy_objective\": {\"sum\": 0.49428734922263234, \"count\": 1, \"min\": 0.49428734922263234, \"max\": 0.49428734922263234}}}\u001b[0m\n",
            "\u001b[34m#metrics {\"StartTime\": 1650871672.9385939, \"EndTime\": 1650871672.938611, \"Dimensions\": {\"Algorithm\": \"Linear Learner\", \"Host\": \"algo-1\", \"Operation\": \"training\", \"epoch\": 0, \"model\": 3}, \"Metrics\": {\"train_binary_classification_cross_entropy_objective\": {\"sum\": 0.4947838282920534, \"count\": 1, \"min\": 0.4947838282920534, \"max\": 0.4947838282920534}}}\u001b[0m\n",
            "\u001b[34m#metrics {\"StartTime\": 1650871672.9386663, \"EndTime\": 1650871672.938684, \"Dimensions\": {\"Algorithm\": \"Linear Learner\", \"Host\": \"algo-1\", \"Operation\": \"training\", \"epoch\": 0, \"model\": 4}, \"Metrics\": {\"train_binary_classification_cross_entropy_objective\": {\"sum\": 0.5074459608818778, \"count\": 1, \"min\": 0.5074459608818778, \"max\": 0.5074459608818778}}}\u001b[0m\n",
            "\u001b[34m#metrics {\"StartTime\": 1650871672.9387362, \"EndTime\": 1650871672.9387534, \"Dimensions\": {\"Algorithm\": \"Linear Learner\", \"Host\": \"algo-1\", \"Operation\": \"training\", \"epoch\": 0, \"model\": 5}, \"Metrics\": {\"train_binary_classification_cross_entropy_objective\": {\"sum\": 0.5174580783902323, \"count\": 1, \"min\": 0.5174580783902323, \"max\": 0.5174580783902323}}}\u001b[0m\n",
            "\u001b[34m#metrics {\"StartTime\": 1650871672.9388044, \"EndTime\": 1650871672.938821, \"Dimensions\": {\"Algorithm\": \"Linear Learner\", \"Host\": \"algo-1\", \"Operation\": \"training\", \"epoch\": 0, \"model\": 6}, \"Metrics\": {\"train_binary_classification_cross_entropy_objective\": {\"sum\": 0.5074149710978937, \"count\": 1, \"min\": 0.5074149710978937, \"max\": 0.5074149710978937}}}\u001b[0m\n",
            "\u001b[34m#metrics {\"StartTime\": 1650871672.938875, \"EndTime\": 1650871672.9389012, \"Dimensions\": {\"Algorithm\": \"Linear Learner\", \"Host\": \"algo-1\", \"Operation\": \"training\", \"epoch\": 0, \"model\": 7}, \"Metrics\": {\"train_binary_classification_cross_entropy_objective\": {\"sum\": 0.5175175769117629, \"count\": 1, \"min\": 0.5175175769117629, \"max\": 0.5175175769117629}}}\u001b[0m\n",
            "\u001b[34m#metrics {\"StartTime\": 1650871672.9389546, \"EndTime\": 1650871672.9389708, \"Dimensions\": {\"Algorithm\": \"Linear Learner\", \"Host\": \"algo-1\", \"Operation\": \"training\", \"epoch\": 0, \"model\": 8}, \"Metrics\": {\"train_binary_classification_cross_entropy_objective\": {\"sum\": 0.4943203996197528, \"count\": 1, \"min\": 0.4943203996197528, \"max\": 0.4943203996197528}}}\u001b[0m\n",
            "\u001b[34m#metrics {\"StartTime\": 1650871672.9390218, \"EndTime\": 1650871672.939037, \"Dimensions\": {\"Algorithm\": \"Linear Learner\", \"Host\": \"algo-1\", \"Operation\": \"training\", \"epoch\": 0, \"model\": 9}, \"Metrics\": {\"train_binary_classification_cross_entropy_objective\": {\"sum\": 0.4948944231085821, \"count\": 1, \"min\": 0.4948944231085821, \"max\": 0.4948944231085821}}}\u001b[0m\n",
            "\u001b[34m#metrics {\"StartTime\": 1650871672.9390864, \"EndTime\": 1650871672.9391026, \"Dimensions\": {\"Algorithm\": \"Linear Learner\", \"Host\": \"algo-1\", \"Operation\": \"training\", \"epoch\": 0, \"model\": 10}, \"Metrics\": {\"train_binary_classification_cross_entropy_objective\": {\"sum\": 0.4943433277701748, \"count\": 1, \"min\": 0.4943433277701748, \"max\": 0.4943433277701748}}}\u001b[0m\n",
            "\u001b[34m#metrics {\"StartTime\": 1650871672.9391515, \"EndTime\": 1650871672.9391677, \"Dimensions\": {\"Algorithm\": \"Linear Learner\", \"Host\": \"algo-1\", \"Operation\": \"training\", \"epoch\": 0, \"model\": 11}, \"Metrics\": {\"train_binary_classification_cross_entropy_objective\": {\"sum\": 0.4949050889554738, \"count\": 1, \"min\": 0.4949050889554738, \"max\": 0.4949050889554738}}}\u001b[0m\n",
            "\u001b[34m#metrics {\"StartTime\": 1650871672.9392195, \"EndTime\": 1650871672.9392369, \"Dimensions\": {\"Algorithm\": \"Linear Learner\", \"Host\": \"algo-1\", \"Operation\": \"training\", \"epoch\": 0, \"model\": 12}, \"Metrics\": {\"train_binary_classification_cross_entropy_objective\": {\"sum\": 0.5065687827014048, \"count\": 1, \"min\": 0.5065687827014048, \"max\": 0.5065687827014048}}}\u001b[0m\n",
            "\u001b[34m#metrics {\"StartTime\": 1650871672.939289, \"EndTime\": 1650871672.9393063, \"Dimensions\": {\"Algorithm\": \"Linear Learner\", \"Host\": \"algo-1\", \"Operation\": \"training\", \"epoch\": 0, \"model\": 13}, \"Metrics\": {\"train_binary_classification_cross_entropy_objective\": {\"sum\": 0.5157851777616261, \"count\": 1, \"min\": 0.5157851777616261, \"max\": 0.5157851777616261}}}\u001b[0m\n",
            "\u001b[34m#metrics {\"StartTime\": 1650871672.9393587, \"EndTime\": 1650871672.939375, \"Dimensions\": {\"Algorithm\": \"Linear Learner\", \"Host\": \"algo-1\", \"Operation\": \"training\", \"epoch\": 0, \"model\": 14}, \"Metrics\": {\"train_binary_classification_cross_entropy_objective\": {\"sum\": 0.5065670307404404, \"count\": 1, \"min\": 0.5065670307404404, \"max\": 0.5065670307404404}}}\u001b[0m\n",
            "\u001b[34m#metrics {\"StartTime\": 1650871672.9394276, \"EndTime\": 1650871672.9394448, \"Dimensions\": {\"Algorithm\": \"Linear Learner\", \"Host\": \"algo-1\", \"Operation\": \"training\", \"epoch\": 0, \"model\": 15}, \"Metrics\": {\"train_binary_classification_cross_entropy_objective\": {\"sum\": 0.5157484340142766, \"count\": 1, \"min\": 0.5157484340142766, \"max\": 0.5157484340142766}}}\u001b[0m\n",
            "\u001b[34m#metrics {\"StartTime\": 1650871672.9394953, \"EndTime\": 1650871672.939512, \"Dimensions\": {\"Algorithm\": \"Linear Learner\", \"Host\": \"algo-1\", \"Operation\": \"training\", \"epoch\": 0, \"model\": 16}, \"Metrics\": {\"train_binary_classification_cross_entropy_objective\": {\"sum\": 0.5091955880214679, \"count\": 1, \"min\": 0.5091955880214679, \"max\": 0.5091955880214679}}}\u001b[0m\n",
            "\u001b[34m#metrics {\"StartTime\": 1650871672.9395628, \"EndTime\": 1650871672.9395797, \"Dimensions\": {\"Algorithm\": \"Linear Learner\", \"Host\": \"algo-1\", \"Operation\": \"training\", \"epoch\": 0, \"model\": 17}, \"Metrics\": {\"train_binary_classification_cross_entropy_objective\": {\"sum\": 0.5093106711384718, \"count\": 1, \"min\": 0.5093106711384718, \"max\": 0.5093106711384718}}}\u001b[0m\n",
            "\u001b[34m#metrics {\"StartTime\": 1650871672.9396315, \"EndTime\": 1650871672.9396472, \"Dimensions\": {\"Algorithm\": \"Linear Learner\", \"Host\": \"algo-1\", \"Operation\": \"training\", \"epoch\": 0, \"model\": 18}, \"Metrics\": {\"train_binary_classification_cross_entropy_objective\": {\"sum\": 0.5091782256193482, \"count\": 1, \"min\": 0.5091782256193482, \"max\": 0.5091782256193482}}}\u001b[0m\n",
            "\u001b[34m#metrics {\"StartTime\": 1650871672.9396994, \"EndTime\": 1650871672.9397168, \"Dimensions\": {\"Algorithm\": \"Linear Learner\", \"Host\": \"algo-1\", \"Operation\": \"training\", \"epoch\": 0, \"model\": 19}, \"Metrics\": {\"train_binary_classification_cross_entropy_objective\": {\"sum\": 0.5093232554397816, \"count\": 1, \"min\": 0.5093232554397816, \"max\": 0.5093232554397816}}}\u001b[0m\n",
            "\u001b[34m#metrics {\"StartTime\": 1650871672.9397678, \"EndTime\": 1650871672.9397829, \"Dimensions\": {\"Algorithm\": \"Linear Learner\", \"Host\": \"algo-1\", \"Operation\": \"training\", \"epoch\": 0, \"model\": 20}, \"Metrics\": {\"train_binary_classification_cross_entropy_objective\": {\"sum\": 0.510603919002988, \"count\": 1, \"min\": 0.510603919002988, \"max\": 0.510603919002988}}}\u001b[0m\n",
            "\u001b[34m#metrics {\"StartTime\": 1650871672.9398372, \"EndTime\": 1650871672.9398534, \"Dimensions\": {\"Algorithm\": \"Linear Learner\", \"Host\": \"algo-1\", \"Operation\": \"training\", \"epoch\": 0, \"model\": 21}, \"Metrics\": {\"train_binary_classification_cross_entropy_objective\": {\"sum\": 0.5123500816508535, \"count\": 1, \"min\": 0.5123500816508535, \"max\": 0.5123500816508535}}}\u001b[0m\n",
            "\u001b[34m#metrics {\"StartTime\": 1650871672.9399066, \"EndTime\": 1650871672.939923, \"Dimensions\": {\"Algorithm\": \"Linear Learner\", \"Host\": \"algo-1\", \"Operation\": \"training\", \"epoch\": 0, \"model\": 22}, \"Metrics\": {\"train_binary_classification_cross_entropy_objective\": {\"sum\": 0.5106269551315075, \"count\": 1, \"min\": 0.5106269551315075, \"max\": 0.5106269551315075}}}\u001b[0m\n",
            "\u001b[34m#metrics {\"StartTime\": 1650871672.939977, \"EndTime\": 1650871672.9399943, \"Dimensions\": {\"Algorithm\": \"Linear Learner\", \"Host\": \"algo-1\", \"Operation\": \"training\", \"epoch\": 0, \"model\": 23}, \"Metrics\": {\"train_binary_classification_cross_entropy_objective\": {\"sum\": 0.5123701844288304, \"count\": 1, \"min\": 0.5123701844288304, \"max\": 0.5123701844288304}}}\u001b[0m\n",
            "\u001b[34m#metrics {\"StartTime\": 1650871672.9400449, \"EndTime\": 1650871672.9400606, \"Dimensions\": {\"Algorithm\": \"Linear Learner\", \"Host\": \"algo-1\", \"Operation\": \"training\", \"epoch\": 0, \"model\": 24}, \"Metrics\": {\"train_binary_classification_cross_entropy_objective\": {\"sum\": 0.515078766615748, \"count\": 1, \"min\": 0.515078766615748, \"max\": 0.515078766615748}}}\u001b[0m\n",
            "\u001b[34m#metrics {\"StartTime\": 1650871672.9401112, \"EndTime\": 1650871672.9401271, \"Dimensions\": {\"Algorithm\": \"Linear Learner\", \"Host\": \"algo-1\", \"Operation\": \"training\", \"epoch\": 0, \"model\": 25}, \"Metrics\": {\"train_binary_classification_cross_entropy_objective\": {\"sum\": 0.515119802725789, \"count\": 1, \"min\": 0.515119802725789, \"max\": 0.515119802725789}}}\u001b[0m\n",
            "\u001b[34m#metrics {\"StartTime\": 1650871672.9401863, \"EndTime\": 1650871672.9402032, \"Dimensions\": {\"Algorithm\": \"Linear Learner\", \"Host\": \"algo-1\", \"Operation\": \"training\", \"epoch\": 0, \"model\": 26}, \"Metrics\": {\"train_binary_classification_cross_entropy_objective\": {\"sum\": 0.5150746694675644, \"count\": 1, \"min\": 0.5150746694675644, \"max\": 0.5150746694675644}}}\u001b[0m\n",
            "\u001b[34m#metrics {\"StartTime\": 1650871672.940257, \"EndTime\": 1650871672.9402747, \"Dimensions\": {\"Algorithm\": \"Linear Learner\", \"Host\": \"algo-1\", \"Operation\": \"training\", \"epoch\": 0, \"model\": 27}, \"Metrics\": {\"train_binary_classification_cross_entropy_objective\": {\"sum\": 0.5150946875289311, \"count\": 1, \"min\": 0.5150946875289311, \"max\": 0.5150946875289311}}}\u001b[0m\n",
            "\u001b[34m#metrics {\"StartTime\": 1650871672.9403257, \"EndTime\": 1650871672.9403417, \"Dimensions\": {\"Algorithm\": \"Linear Learner\", \"Host\": \"algo-1\", \"Operation\": \"training\", \"epoch\": 0, \"model\": 28}, \"Metrics\": {\"train_binary_classification_cross_entropy_objective\": {\"sum\": 0.5150655974408538, \"count\": 1, \"min\": 0.5150655974408538, \"max\": 0.5150655974408538}}}\u001b[0m\n",
            "\u001b[34m#metrics {\"StartTime\": 1650871672.9403918, \"EndTime\": 1650871672.9404068, \"Dimensions\": {\"Algorithm\": \"Linear Learner\", \"Host\": \"algo-1\", \"Operation\": \"training\", \"epoch\": 0, \"model\": 29}, \"Metrics\": {\"train_binary_classification_cross_entropy_objective\": {\"sum\": 0.5158032685492746, \"count\": 1, \"min\": 0.5158032685492746, \"max\": 0.5158032685492746}}}\u001b[0m\n",
            "\u001b[34m#metrics {\"StartTime\": 1650871672.9404593, \"EndTime\": 1650871672.940475, \"Dimensions\": {\"Algorithm\": \"Linear Learner\", \"Host\": \"algo-1\", \"Operation\": \"training\", \"epoch\": 0, \"model\": 30}, \"Metrics\": {\"train_binary_classification_cross_entropy_objective\": {\"sum\": 0.5150515985051426, \"count\": 1, \"min\": 0.5150515985051426, \"max\": 0.5150515985051426}}}\u001b[0m\n",
            "\u001b[34m#metrics {\"StartTime\": 1650871672.9405282, \"EndTime\": 1650871672.9405448, \"Dimensions\": {\"Algorithm\": \"Linear Learner\", \"Host\": \"algo-1\", \"Operation\": \"training\", \"epoch\": 0, \"model\": 31}, \"Metrics\": {\"train_binary_classification_cross_entropy_objective\": {\"sum\": 0.5157813000460284, \"count\": 1, \"min\": 0.5157813000460284, \"max\": 0.5157813000460284}}}\u001b[0m\n",
            "\u001b[34m[04/25/2022 07:27:52 INFO 140418656159552] #quality_metric: host=algo-1, epoch=0, train binary_classification_cross_entropy_objective <loss>=0.4942290182317798\u001b[0m\n",
            "\u001b[34m[2022-04-25 07:27:52.972] [tensorio] [info] epoch_stats={\"data_pipeline\": \"/opt/ml/input/data/validation\", \"epoch\": 0, \"duration\": 61108, \"num_examples\": 1, \"num_bytes\": 424000}\u001b[0m\n",
            "\u001b[34m[2022-04-25 07:27:58.979] [tensorio] [info] epoch_stats={\"data_pipeline\": \"/opt/ml/input/data/validation\", \"epoch\": 2, \"duration\": 6007, \"num_examples\": 164, \"num_bytes\": 69349016}\u001b[0m\n",
            "\u001b[34m#metrics {\"StartTime\": 1650871678.9915109, \"EndTime\": 1650871678.9916098, \"Dimensions\": {\"Algorithm\": \"Linear Learner\", \"Host\": \"algo-1\", \"Operation\": \"training\", \"epoch\": 0, \"model\": 0}, \"Metrics\": {\"validation_binary_classification_cross_entropy_objective\": {\"sum\": 0.49241850115625085, \"count\": 1, \"min\": 0.49241850115625085, \"max\": 0.49241850115625085}}}\u001b[0m\n",
            "\u001b[34m#metrics {\"StartTime\": 1650871678.991737, \"EndTime\": 1650871678.9917612, \"Dimensions\": {\"Algorithm\": \"Linear Learner\", \"Host\": \"algo-1\", \"Operation\": \"training\", \"epoch\": 0, \"model\": 1}, \"Metrics\": {\"validation_binary_classification_cross_entropy_objective\": {\"sum\": 0.49371864712027896, \"count\": 1, \"min\": 0.49371864712027896, \"max\": 0.49371864712027896}}}\u001b[0m\n",
            "\u001b[34m#metrics {\"StartTime\": 1650871678.9918218, \"EndTime\": 1650871678.9918394, \"Dimensions\": {\"Algorithm\": \"Linear Learner\", \"Host\": \"algo-1\", \"Operation\": \"training\", \"epoch\": 0, \"model\": 2}, \"Metrics\": {\"validation_binary_classification_cross_entropy_objective\": {\"sum\": 0.49241518125781925, \"count\": 1, \"min\": 0.49241518125781925, \"max\": 0.49241518125781925}}}\u001b[0m\n",
            "\u001b[34m#metrics {\"StartTime\": 1650871678.9918997, \"EndTime\": 1650871678.9919176, \"Dimensions\": {\"Algorithm\": \"Linear Learner\", \"Host\": \"algo-1\", \"Operation\": \"training\", \"epoch\": 0, \"model\": 3}, \"Metrics\": {\"validation_binary_classification_cross_entropy_objective\": {\"sum\": 0.4937192204945205, \"count\": 1, \"min\": 0.4937192204945205, \"max\": 0.4937192204945205}}}\u001b[0m\n",
            "\u001b[34m#metrics {\"StartTime\": 1650871678.9919746, \"EndTime\": 1650871678.9919915, \"Dimensions\": {\"Algorithm\": \"Linear Learner\", \"Host\": \"algo-1\", \"Operation\": \"training\", \"epoch\": 0, \"model\": 4}, \"Metrics\": {\"validation_binary_classification_cross_entropy_objective\": {\"sum\": 0.5016549683419501, \"count\": 1, \"min\": 0.5016549683419501, \"max\": 0.5016549683419501}}}\u001b[0m\n",
            "\u001b[34m#metrics {\"StartTime\": 1650871678.9920452, \"EndTime\": 1650871678.9920616, \"Dimensions\": {\"Algorithm\": \"Linear Learner\", \"Host\": \"algo-1\", \"Operation\": \"training\", \"epoch\": 0, \"model\": 5}, \"Metrics\": {\"validation_binary_classification_cross_entropy_objective\": {\"sum\": 0.5231507858244554, \"count\": 1, \"min\": 0.5231507858244554, \"max\": 0.5231507858244554}}}\u001b[0m\n",
            "\u001b[34m#metrics {\"StartTime\": 1650871678.992133, \"EndTime\": 1650871678.9921505, \"Dimensions\": {\"Algorithm\": \"Linear Learner\", \"Host\": \"algo-1\", \"Operation\": \"training\", \"epoch\": 0, \"model\": 6}, \"Metrics\": {\"validation_binary_classification_cross_entropy_objective\": {\"sum\": 0.5016557115081083, \"count\": 1, \"min\": 0.5016557115081083, \"max\": 0.5016557115081083}}}\u001b[0m\n",
            "\u001b[34m#metrics {\"StartTime\": 1650871678.9922063, \"EndTime\": 1650871678.9922235, \"Dimensions\": {\"Algorithm\": \"Linear Learner\", \"Host\": \"algo-1\", \"Operation\": \"training\", \"epoch\": 0, \"model\": 7}, \"Metrics\": {\"validation_binary_classification_cross_entropy_objective\": {\"sum\": 0.5231567384305176, \"count\": 1, \"min\": 0.5231567384305176, \"max\": 0.5231567384305176}}}\u001b[0m\n",
            "\u001b[34m#metrics {\"StartTime\": 1650871678.992278, \"EndTime\": 1650871678.9922945, \"Dimensions\": {\"Algorithm\": \"Linear Learner\", \"Host\": \"algo-1\", \"Operation\": \"training\", \"epoch\": 0, \"model\": 8}, \"Metrics\": {\"validation_binary_classification_cross_entropy_objective\": {\"sum\": 0.49254777363136876, \"count\": 1, \"min\": 0.49254777363136876, \"max\": 0.49254777363136876}}}\u001b[0m\n",
            "\u001b[34m#metrics {\"StartTime\": 1650871678.9923587, \"EndTime\": 1650871678.9923725, \"Dimensions\": {\"Algorithm\": \"Linear Learner\", \"Host\": \"algo-1\", \"Operation\": \"training\", \"epoch\": 0, \"model\": 9}, \"Metrics\": {\"validation_binary_classification_cross_entropy_objective\": {\"sum\": 0.4937418069242932, \"count\": 1, \"min\": 0.4937418069242932, \"max\": 0.4937418069242932}}}\u001b[0m\n",
            "\u001b[34m#metrics {\"StartTime\": 1650871678.9924254, \"EndTime\": 1650871678.9924448, \"Dimensions\": {\"Algorithm\": \"Linear Learner\", \"Host\": \"algo-1\", \"Operation\": \"training\", \"epoch\": 0, \"model\": 10}, \"Metrics\": {\"validation_binary_classification_cross_entropy_objective\": {\"sum\": 0.492549128794765, \"count\": 1, \"min\": 0.492549128794765, \"max\": 0.492549128794765}}}\u001b[0m\n",
            "\u001b[34m#metrics {\"StartTime\": 1650871678.9925053, \"EndTime\": 1650871678.992521, \"Dimensions\": {\"Algorithm\": \"Linear Learner\", \"Host\": \"algo-1\", \"Operation\": \"training\", \"epoch\": 0, \"model\": 11}, \"Metrics\": {\"validation_binary_classification_cross_entropy_objective\": {\"sum\": 0.493742052656111, \"count\": 1, \"min\": 0.493742052656111, \"max\": 0.493742052656111}}}\u001b[0m\n",
            "\u001b[34m#metrics {\"StartTime\": 1650871678.992576, \"EndTime\": 1650871678.9925919, \"Dimensions\": {\"Algorithm\": \"Linear Learner\", \"Host\": \"algo-1\", \"Operation\": \"training\", \"epoch\": 0, \"model\": 12}, \"Metrics\": {\"validation_binary_classification_cross_entropy_objective\": {\"sum\": 0.5010506068890015, \"count\": 1, \"min\": 0.5010506068890015, \"max\": 0.5010506068890015}}}\u001b[0m\n",
            "\u001b[34m#metrics {\"StartTime\": 1650871678.9926405, \"EndTime\": 1650871678.9926558, \"Dimensions\": {\"Algorithm\": \"Linear Learner\", \"Host\": \"algo-1\", \"Operation\": \"training\", \"epoch\": 0, \"model\": 13}, \"Metrics\": {\"validation_binary_classification_cross_entropy_objective\": {\"sum\": 0.5205939425283603, \"count\": 1, \"min\": 0.5205939425283603, \"max\": 0.5205939425283603}}}\u001b[0m\n",
            "\u001b[34m#metrics {\"StartTime\": 1650871678.9927049, \"EndTime\": 1650871678.9927182, \"Dimensions\": {\"Algorithm\": \"Linear Learner\", \"Host\": \"algo-1\", \"Operation\": \"training\", \"epoch\": 0, \"model\": 14}, \"Metrics\": {\"validation_binary_classification_cross_entropy_objective\": {\"sum\": 0.5010526201360131, \"count\": 1, \"min\": 0.5010526201360131, \"max\": 0.5010526201360131}}}\u001b[0m\n",
            "\u001b[34m#metrics {\"StartTime\": 1650871678.9927697, \"EndTime\": 1650871678.992786, \"Dimensions\": {\"Algorithm\": \"Linear Learner\", \"Host\": \"algo-1\", \"Operation\": \"training\", \"epoch\": 0, \"model\": 15}, \"Metrics\": {\"validation_binary_classification_cross_entropy_objective\": {\"sum\": 0.5205917326212607, \"count\": 1, \"min\": 0.5205917326212607, \"max\": 0.5205917326212607}}}\u001b[0m\n",
            "\u001b[34m#metrics {\"StartTime\": 1650871678.9928458, \"EndTime\": 1650871678.9928634, \"Dimensions\": {\"Algorithm\": \"Linear Learner\", \"Host\": \"algo-1\", \"Operation\": \"training\", \"epoch\": 0, \"model\": 16}, \"Metrics\": {\"validation_binary_classification_cross_entropy_objective\": {\"sum\": 0.5074584344089065, \"count\": 1, \"min\": 0.5074584344089065, \"max\": 0.5074584344089065}}}\u001b[0m\n",
            "\u001b[34m#metrics {\"StartTime\": 1650871678.9929154, \"EndTime\": 1650871678.9929316, \"Dimensions\": {\"Algorithm\": \"Linear Learner\", \"Host\": \"algo-1\", \"Operation\": \"training\", \"epoch\": 0, \"model\": 17}, \"Metrics\": {\"validation_binary_classification_cross_entropy_objective\": {\"sum\": 0.5079234892442172, \"count\": 1, \"min\": 0.5079234892442172, \"max\": 0.5079234892442172}}}\u001b[0m\n",
            "\u001b[34m#metrics {\"StartTime\": 1650871678.992991, \"EndTime\": 1650871678.9930086, \"Dimensions\": {\"Algorithm\": \"Linear Learner\", \"Host\": \"algo-1\", \"Operation\": \"training\", \"epoch\": 0, \"model\": 18}, \"Metrics\": {\"validation_binary_classification_cross_entropy_objective\": {\"sum\": 0.5074582439061076, \"count\": 1, \"min\": 0.5074582439061076, \"max\": 0.5074582439061076}}}\u001b[0m\n",
            "\u001b[34m#metrics {\"StartTime\": 1650871678.9930544, \"EndTime\": 1650871678.9930708, \"Dimensions\": {\"Algorithm\": \"Linear Learner\", \"Host\": \"algo-1\", \"Operation\": \"training\", \"epoch\": 0, \"model\": 19}, \"Metrics\": {\"validation_binary_classification_cross_entropy_objective\": {\"sum\": 0.5079174022972979, \"count\": 1, \"min\": 0.5079174022972979, \"max\": 0.5079174022972979}}}\u001b[0m\n",
            "\u001b[34m#metrics {\"StartTime\": 1650871678.9931166, \"EndTime\": 1650871678.9931326, \"Dimensions\": {\"Algorithm\": \"Linear Learner\", \"Host\": \"algo-1\", \"Operation\": \"training\", \"epoch\": 0, \"model\": 20}, \"Metrics\": {\"validation_binary_classification_cross_entropy_objective\": {\"sum\": 0.5106633189681361, \"count\": 1, \"min\": 0.5106633189681361, \"max\": 0.5106633189681361}}}\u001b[0m\n",
            "\u001b[34m#metrics {\"StartTime\": 1650871678.9931846, \"EndTime\": 1650871678.9932005, \"Dimensions\": {\"Algorithm\": \"Linear Learner\", \"Host\": \"algo-1\", \"Operation\": \"training\", \"epoch\": 0, \"model\": 21}, \"Metrics\": {\"validation_binary_classification_cross_entropy_objective\": {\"sum\": 0.5094614483788749, \"count\": 1, \"min\": 0.5094614483788749, \"max\": 0.5094614483788749}}}\u001b[0m\n",
            "\u001b[34m#metrics {\"StartTime\": 1650871678.9932554, \"EndTime\": 1650871678.9932702, \"Dimensions\": {\"Algorithm\": \"Linear Learner\", \"Host\": \"algo-1\", \"Operation\": \"training\", \"epoch\": 0, \"model\": 22}, \"Metrics\": {\"validation_binary_classification_cross_entropy_objective\": {\"sum\": 0.5106550456237672, \"count\": 1, \"min\": 0.5106550456237672, \"max\": 0.5106550456237672}}}\u001b[0m\n",
            "\u001b[34m#metrics {\"StartTime\": 1650871678.9933226, \"EndTime\": 1650871678.9933386, \"Dimensions\": {\"Algorithm\": \"Linear Learner\", \"Host\": \"algo-1\", \"Operation\": \"training\", \"epoch\": 0, \"model\": 23}, \"Metrics\": {\"validation_binary_classification_cross_entropy_objective\": {\"sum\": 0.5094604182457191, \"count\": 1, \"min\": 0.5094604182457191, \"max\": 0.5094604182457191}}}\u001b[0m\n",
            "\u001b[34m#metrics {\"StartTime\": 1650871678.993387, \"EndTime\": 1650871678.9934008, \"Dimensions\": {\"Algorithm\": \"Linear Learner\", \"Host\": \"algo-1\", \"Operation\": \"training\", \"epoch\": 0, \"model\": 24}, \"Metrics\": {\"validation_binary_classification_cross_entropy_objective\": {\"sum\": 0.5137665282094067, \"count\": 1, \"min\": 0.5137665282094067, \"max\": 0.5137665282094067}}}\u001b[0m\n",
            "\u001b[34m#metrics {\"StartTime\": 1650871678.9934556, \"EndTime\": 1650871678.9934728, \"Dimensions\": {\"Algorithm\": \"Linear Learner\", \"Host\": \"algo-1\", \"Operation\": \"training\", \"epoch\": 0, \"model\": 25}, \"Metrics\": {\"validation_binary_classification_cross_entropy_objective\": {\"sum\": 0.5144359459016772, \"count\": 1, \"min\": 0.5144359459016772, \"max\": 0.5144359459016772}}}\u001b[0m\n",
            "\u001b[34m#metrics {\"StartTime\": 1650871678.9935374, \"EndTime\": 1650871678.9935546, \"Dimensions\": {\"Algorithm\": \"Linear Learner\", \"Host\": \"algo-1\", \"Operation\": \"training\", \"epoch\": 0, \"model\": 26}, \"Metrics\": {\"validation_binary_classification_cross_entropy_objective\": {\"sum\": 0.5137585489222471, \"count\": 1, \"min\": 0.5137585489222471, \"max\": 0.5137585489222471}}}\u001b[0m\n",
            "\u001b[34m#metrics {\"StartTime\": 1650871678.9936059, \"EndTime\": 1650871678.993623, \"Dimensions\": {\"Algorithm\": \"Linear Learner\", \"Host\": \"algo-1\", \"Operation\": \"training\", \"epoch\": 0, \"model\": 27}, \"Metrics\": {\"validation_binary_classification_cross_entropy_objective\": {\"sum\": 0.5144346638794143, \"count\": 1, \"min\": 0.5144346638794143, \"max\": 0.5144346638794143}}}\u001b[0m\n",
            "\u001b[34m#metrics {\"StartTime\": 1650871678.993692, \"EndTime\": 1650871678.9937103, \"Dimensions\": {\"Algorithm\": \"Linear Learner\", \"Host\": \"algo-1\", \"Operation\": \"training\", \"epoch\": 0, \"model\": 28}, \"Metrics\": {\"validation_binary_classification_cross_entropy_objective\": {\"sum\": 0.5153454588798877, \"count\": 1, \"min\": 0.5153454588798877, \"max\": 0.5153454588798877}}}\u001b[0m\n",
            "\u001b[34m#metrics {\"StartTime\": 1650871678.9937656, \"EndTime\": 1650871678.9937823, \"Dimensions\": {\"Algorithm\": \"Linear Learner\", \"Host\": \"algo-1\", \"Operation\": \"training\", \"epoch\": 0, \"model\": 29}, \"Metrics\": {\"validation_binary_classification_cross_entropy_objective\": {\"sum\": 0.5138803871235996, \"count\": 1, \"min\": 0.5138803871235996, \"max\": 0.5138803871235996}}}\u001b[0m\n",
            "\u001b[34m#metrics {\"StartTime\": 1650871678.9938335, \"EndTime\": 1650871678.993848, \"Dimensions\": {\"Algorithm\": \"Linear Learner\", \"Host\": \"algo-1\", \"Operation\": \"training\", \"epoch\": 0, \"model\": 30}, \"Metrics\": {\"validation_binary_classification_cross_entropy_objective\": {\"sum\": 0.5153228231918007, \"count\": 1, \"min\": 0.5153228231918007, \"max\": 0.5153228231918007}}}\u001b[0m\n",
            "\u001b[34m#metrics {\"StartTime\": 1650871678.9938965, \"EndTime\": 1650871678.993911, \"Dimensions\": {\"Algorithm\": \"Linear Learner\", \"Host\": \"algo-1\", \"Operation\": \"training\", \"epoch\": 0, \"model\": 31}, \"Metrics\": {\"validation_binary_classification_cross_entropy_objective\": {\"sum\": 0.5139490705660639, \"count\": 1, \"min\": 0.5139490705660639, \"max\": 0.5139490705660639}}}\u001b[0m\n",
            "\u001b[34m[04/25/2022 07:27:58 INFO 140418656159552] #quality_metric: host=algo-1, epoch=0, validation binary_classification_cross_entropy_objective <loss>=0.49241850115625085\u001b[0m\n",
            "\u001b[34m[04/25/2022 07:27:58 INFO 140418656159552] #early_stopping_criteria_metric: host=algo-1, epoch=0, criteria=binary_classification_cross_entropy_objective, value=0.49241518125781925\u001b[0m\n",
            "\u001b[34m[04/25/2022 07:27:58 INFO 140418656159552] Epoch 0: Loss improved. Updating best model\u001b[0m\n",
            "\u001b[34m[04/25/2022 07:27:58 INFO 140418656159552] Saving model for epoch: 0\u001b[0m\n",
            "\u001b[34m[04/25/2022 07:27:59 INFO 140418656159552] Saved checkpoint to \"/tmp/tmptq1px15_/mx-mod-0000.params\"\u001b[0m\n",
            "\u001b[34m[04/25/2022 07:27:59 INFO 140418656159552] #progress_metric: host=algo-1, completed 6.666666666666667 % of epochs\u001b[0m\n",
            "\u001b[34m#metrics {\"StartTime\": 1650871612.3826854, \"EndTime\": 1650871679.0060332, \"Dimensions\": {\"Algorithm\": \"Linear Learner\", \"Host\": \"algo-1\", \"Operation\": \"training\", \"epoch\": 0, \"Meta\": \"training_data_iter\"}, \"Metrics\": {\"Total Records Seen\": {\"sum\": 1320472.0, \"count\": 1, \"min\": 1320472, \"max\": 1320472}, \"Total Batches Seen\": {\"sum\": 1321.0, \"count\": 1, \"min\": 1321, \"max\": 1321}, \"Max Records Seen Between Resets\": {\"sum\": 1308472.0, \"count\": 1, \"min\": 1308472, \"max\": 1308472}, \"Max Batches Seen Between Resets\": {\"sum\": 1309.0, \"count\": 1, \"min\": 1309, \"max\": 1309}, \"Reset Count\": {\"sum\": 3.0, \"count\": 1, \"min\": 3, \"max\": 3}, \"Number of Records Since Last Reset\": {\"sum\": 1308472.0, \"count\": 1, \"min\": 1308472, \"max\": 1308472}, \"Number of Batches Since Last Reset\": {\"sum\": 1309.0, \"count\": 1, \"min\": 1309, \"max\": 1309}}}\u001b[0m\n",
            "\u001b[34m[04/25/2022 07:27:59 INFO 140418656159552] #throughput_metric: host=algo-1, train throughput=19639.78478827374 records/second\u001b[0m\n",
            "\u001b[34m[2022-04-25 07:28:59.756] [tensorio] [info] epoch_stats={\"data_pipeline\": \"/opt/ml/input/data/train\", \"epoch\": 5, \"duration\": 60748, \"num_examples\": 1309, \"num_bytes\": 554792128}\u001b[0m\n",
            "\u001b[34m#metrics {\"StartTime\": 1650871739.7567067, \"EndTime\": 1650871739.7567751, \"Dimensions\": {\"Algorithm\": \"Linear Learner\", \"Host\": \"algo-1\", \"Operation\": \"training\", \"epoch\": 1, \"model\": 0}, \"Metrics\": {\"train_binary_classification_cross_entropy_objective\": {\"sum\": 0.4920763716391467, \"count\": 1, \"min\": 0.4920763716391467, \"max\": 0.4920763716391467}}}\u001b[0m\n",
            "\u001b[34m#metrics {\"StartTime\": 1650871739.7568526, \"EndTime\": 1650871739.7568686, \"Dimensions\": {\"Algorithm\": \"Linear Learner\", \"Host\": \"algo-1\", \"Operation\": \"training\", \"epoch\": 1, \"model\": 1}, \"Metrics\": {\"train_binary_classification_cross_entropy_objective\": {\"sum\": 0.4931096619772255, \"count\": 1, \"min\": 0.4931096619772255, \"max\": 0.4931096619772255}}}\u001b[0m\n",
            "\u001b[34m#metrics {\"StartTime\": 1650871739.756904, \"EndTime\": 1650871739.7569134, \"Dimensions\": {\"Algorithm\": \"Linear Learner\", \"Host\": \"algo-1\", \"Operation\": \"training\", \"epoch\": 1, \"model\": 2}, \"Metrics\": {\"train_binary_classification_cross_entropy_objective\": {\"sum\": 0.49207673103729155, \"count\": 1, \"min\": 0.49207673103729155, \"max\": 0.49207673103729155}}}\u001b[0m\n",
            "\u001b[34m#metrics {\"StartTime\": 1650871739.756944, \"EndTime\": 1650871739.7569523, \"Dimensions\": {\"Algorithm\": \"Linear Learner\", \"Host\": \"algo-1\", \"Operation\": \"training\", \"epoch\": 1, \"model\": 3}, \"Metrics\": {\"train_binary_classification_cross_entropy_objective\": {\"sum\": 0.49311129462099224, \"count\": 1, \"min\": 0.49311129462099224, \"max\": 0.49311129462099224}}}\u001b[0m\n",
            "\u001b[34m#metrics {\"StartTime\": 1650871739.7569807, \"EndTime\": 1650871739.756989, \"Dimensions\": {\"Algorithm\": \"Linear Learner\", \"Host\": \"algo-1\", \"Operation\": \"training\", \"epoch\": 1, \"model\": 4}, \"Metrics\": {\"train_binary_classification_cross_entropy_objective\": {\"sum\": 0.49615813698024924, \"count\": 1, \"min\": 0.49615813698024924, \"max\": 0.49615813698024924}}}\u001b[0m\n",
            "\u001b[34m#metrics {\"StartTime\": 1650871739.7570274, \"EndTime\": 1650871739.7570353, \"Dimensions\": {\"Algorithm\": \"Linear Learner\", \"Host\": \"algo-1\", \"Operation\": \"training\", \"epoch\": 1, \"model\": 5}, \"Metrics\": {\"train_binary_classification_cross_entropy_objective\": {\"sum\": 0.5140356829115375, \"count\": 1, \"min\": 0.5140356829115375, \"max\": 0.5140356829115375}}}\u001b[0m\n",
            "\u001b[34m#metrics {\"StartTime\": 1650871739.757061, \"EndTime\": 1650871739.757069, \"Dimensions\": {\"Algorithm\": \"Linear Learner\", \"Host\": \"algo-1\", \"Operation\": \"training\", \"epoch\": 1, \"model\": 6}, \"Metrics\": {\"train_binary_classification_cross_entropy_objective\": {\"sum\": 0.496158768750112, \"count\": 1, \"min\": 0.496158768750112, \"max\": 0.496158768750112}}}\u001b[0m\n",
            "\u001b[34m#metrics {\"StartTime\": 1650871739.7571435, \"EndTime\": 1650871739.7571566, \"Dimensions\": {\"Algorithm\": \"Linear Learner\", \"Host\": \"algo-1\", \"Operation\": \"training\", \"epoch\": 1, \"model\": 7}, \"Metrics\": {\"train_binary_classification_cross_entropy_objective\": {\"sum\": 0.5140334828461347, \"count\": 1, \"min\": 0.5140334828461347, \"max\": 0.5140334828461347}}}\u001b[0m\n",
            "\u001b[34m#metrics {\"StartTime\": 1650871739.7571878, \"EndTime\": 1650871739.7571962, \"Dimensions\": {\"Algorithm\": \"Linear Learner\", \"Host\": \"algo-1\", \"Operation\": \"training\", \"epoch\": 1, \"model\": 8}, \"Metrics\": {\"train_binary_classification_cross_entropy_objective\": {\"sum\": 0.49226517908872086, \"count\": 1, \"min\": 0.49226517908872086, \"max\": 0.49226517908872086}}}\u001b[0m\n",
            "\u001b[34m#metrics {\"StartTime\": 1650871739.7572227, \"EndTime\": 1650871739.7572305, \"Dimensions\": {\"Algorithm\": \"Linear Learner\", \"Host\": \"algo-1\", \"Operation\": \"training\", \"epoch\": 1, \"model\": 9}, \"Metrics\": {\"train_binary_classification_cross_entropy_objective\": {\"sum\": 0.4932478977168372, \"count\": 1, \"min\": 0.4932478977168372, \"max\": 0.4932478977168372}}}\u001b[0m\n",
            "\u001b[34m#metrics {\"StartTime\": 1650871739.7572565, \"EndTime\": 1650871739.7572644, \"Dimensions\": {\"Algorithm\": \"Linear Learner\", \"Host\": \"algo-1\", \"Operation\": \"training\", \"epoch\": 1, \"model\": 10}, \"Metrics\": {\"train_binary_classification_cross_entropy_objective\": {\"sum\": 0.492265927306009, \"count\": 1, \"min\": 0.492265927306009, \"max\": 0.492265927306009}}}\u001b[0m\n",
            "\u001b[34m#metrics {\"StartTime\": 1650871739.7572901, \"EndTime\": 1650871739.757298, \"Dimensions\": {\"Algorithm\": \"Linear Learner\", \"Host\": \"algo-1\", \"Operation\": \"training\", \"epoch\": 1, \"model\": 11}, \"Metrics\": {\"train_binary_classification_cross_entropy_objective\": {\"sum\": 0.4932479763205992, \"count\": 1, \"min\": 0.4932479763205992, \"max\": 0.4932479763205992}}}\u001b[0m\n",
            "\u001b[34m#metrics {\"StartTime\": 1650871739.7573256, \"EndTime\": 1650871739.7573338, \"Dimensions\": {\"Algorithm\": \"Linear Learner\", \"Host\": \"algo-1\", \"Operation\": \"training\", \"epoch\": 1, \"model\": 12}, \"Metrics\": {\"train_binary_classification_cross_entropy_objective\": {\"sum\": 0.49612205519369984, \"count\": 1, \"min\": 0.49612205519369984, \"max\": 0.49612205519369984}}}\u001b[0m\n",
            "\u001b[34m#metrics {\"StartTime\": 1650871739.7573595, \"EndTime\": 1650871739.7573676, \"Dimensions\": {\"Algorithm\": \"Linear Learner\", \"Host\": \"algo-1\", \"Operation\": \"training\", \"epoch\": 1, \"model\": 13}, \"Metrics\": {\"train_binary_classification_cross_entropy_objective\": {\"sum\": 0.5126031035910323, \"count\": 1, \"min\": 0.5126031035910323, \"max\": 0.5126031035910323}}}\u001b[0m\n",
            "\u001b[34m#metrics {\"StartTime\": 1650871739.757393, \"EndTime\": 1650871739.7574008, \"Dimensions\": {\"Algorithm\": \"Linear Learner\", \"Host\": \"algo-1\", \"Operation\": \"training\", \"epoch\": 1, \"model\": 14}, \"Metrics\": {\"train_binary_classification_cross_entropy_objective\": {\"sum\": 0.4961226493765455, \"count\": 1, \"min\": 0.4961226493765455, \"max\": 0.4961226493765455}}}\u001b[0m\n",
            "\u001b[34m#metrics {\"StartTime\": 1650871739.7574265, \"EndTime\": 1650871739.7574341, \"Dimensions\": {\"Algorithm\": \"Linear Learner\", \"Host\": \"algo-1\", \"Operation\": \"training\", \"epoch\": 1, \"model\": 15}, \"Metrics\": {\"train_binary_classification_cross_entropy_objective\": {\"sum\": 0.5126037672316992, \"count\": 1, \"min\": 0.5126037672316992, \"max\": 0.5126037672316992}}}\u001b[0m\n",
            "\u001b[34m#metrics {\"StartTime\": 1650871739.7574596, \"EndTime\": 1650871739.757467, \"Dimensions\": {\"Algorithm\": \"Linear Learner\", \"Host\": \"algo-1\", \"Operation\": \"training\", \"epoch\": 1, \"model\": 16}, \"Metrics\": {\"train_binary_classification_cross_entropy_objective\": {\"sum\": 0.5077906959370371, \"count\": 1, \"min\": 0.5077906959370371, \"max\": 0.5077906959370371}}}\u001b[0m\n",
            "\u001b[34m#metrics {\"StartTime\": 1650871739.7574925, \"EndTime\": 1650871739.7575002, \"Dimensions\": {\"Algorithm\": \"Linear Learner\", \"Host\": \"algo-1\", \"Operation\": \"training\", \"epoch\": 1, \"model\": 17}, \"Metrics\": {\"train_binary_classification_cross_entropy_objective\": {\"sum\": 0.5080421803092373, \"count\": 1, \"min\": 0.5080421803092373, \"max\": 0.5080421803092373}}}\u001b[0m\n",
            "\u001b[34m#metrics {\"StartTime\": 1650871739.757525, \"EndTime\": 1650871739.7575326, \"Dimensions\": {\"Algorithm\": \"Linear Learner\", \"Host\": \"algo-1\", \"Operation\": \"training\", \"epoch\": 1, \"model\": 18}, \"Metrics\": {\"train_binary_classification_cross_entropy_objective\": {\"sum\": 0.5077905492053484, \"count\": 1, \"min\": 0.5077905492053484, \"max\": 0.5077905492053484}}}\u001b[0m\n",
            "\u001b[34m#metrics {\"StartTime\": 1650871739.757558, \"EndTime\": 1650871739.7575657, \"Dimensions\": {\"Algorithm\": \"Linear Learner\", \"Host\": \"algo-1\", \"Operation\": \"training\", \"epoch\": 1, \"model\": 19}, \"Metrics\": {\"train_binary_classification_cross_entropy_objective\": {\"sum\": 0.5080419999102205, \"count\": 1, \"min\": 0.5080419999102205, \"max\": 0.5080419999102205}}}\u001b[0m\n",
            "\u001b[34m#metrics {\"StartTime\": 1650871739.7575908, \"EndTime\": 1650871739.7575986, \"Dimensions\": {\"Algorithm\": \"Linear Learner\", \"Host\": \"algo-1\", \"Operation\": \"training\", \"epoch\": 1, \"model\": 20}, \"Metrics\": {\"train_binary_classification_cross_entropy_objective\": {\"sum\": 0.5086475263589748, \"count\": 1, \"min\": 0.5086475263589748, \"max\": 0.5086475263589748}}}\u001b[0m\n",
            "\u001b[34m#metrics {\"StartTime\": 1650871739.7576234, \"EndTime\": 1650871739.7576315, \"Dimensions\": {\"Algorithm\": \"Linear Learner\", \"Host\": \"algo-1\", \"Operation\": \"training\", \"epoch\": 1, \"model\": 21}, \"Metrics\": {\"train_binary_classification_cross_entropy_objective\": {\"sum\": 0.5115793979423127, \"count\": 1, \"min\": 0.5115793979423127, \"max\": 0.5115793979423127}}}\u001b[0m\n",
            "\u001b[34m#metrics {\"StartTime\": 1650871739.7576568, \"EndTime\": 1650871739.7576644, \"Dimensions\": {\"Algorithm\": \"Linear Learner\", \"Host\": \"algo-1\", \"Operation\": \"training\", \"epoch\": 1, \"model\": 22}, \"Metrics\": {\"train_binary_classification_cross_entropy_objective\": {\"sum\": 0.5086471153515923, \"count\": 1, \"min\": 0.5086471153515923, \"max\": 0.5086471153515923}}}\u001b[0m\n",
            "\u001b[34m#metrics {\"StartTime\": 1650871739.7576902, \"EndTime\": 1650871739.757698, \"Dimensions\": {\"Algorithm\": \"Linear Learner\", \"Host\": \"algo-1\", \"Operation\": \"training\", \"epoch\": 1, \"model\": 23}, \"Metrics\": {\"train_binary_classification_cross_entropy_objective\": {\"sum\": 0.5115791546649524, \"count\": 1, \"min\": 0.5115791546649524, \"max\": 0.5115791546649524}}}\u001b[0m\n",
            "\u001b[34m#metrics {\"StartTime\": 1650871739.7577252, \"EndTime\": 1650871739.757739, \"Dimensions\": {\"Algorithm\": \"Linear Learner\", \"Host\": \"algo-1\", \"Operation\": \"training\", \"epoch\": 1, \"model\": 24}, \"Metrics\": {\"train_binary_classification_cross_entropy_objective\": {\"sum\": 0.5137812156793904, \"count\": 1, \"min\": 0.5137812156793904, \"max\": 0.5137812156793904}}}\u001b[0m\n",
            "\u001b[34m#metrics {\"StartTime\": 1650871739.7577853, \"EndTime\": 1650871739.7577996, \"Dimensions\": {\"Algorithm\": \"Linear Learner\", \"Host\": \"algo-1\", \"Operation\": \"training\", \"epoch\": 1, \"model\": 25}, \"Metrics\": {\"train_binary_classification_cross_entropy_objective\": {\"sum\": 0.5138796931508849, \"count\": 1, \"min\": 0.5138796931508849, \"max\": 0.5138796931508849}}}\u001b[0m\n",
            "\u001b[34m#metrics {\"StartTime\": 1650871739.7578418, \"EndTime\": 1650871739.757857, \"Dimensions\": {\"Algorithm\": \"Linear Learner\", \"Host\": \"algo-1\", \"Operation\": \"training\", \"epoch\": 1, \"model\": 26}, \"Metrics\": {\"train_binary_classification_cross_entropy_objective\": {\"sum\": 0.5137807881766503, \"count\": 1, \"min\": 0.5137807881766503, \"max\": 0.5137807881766503}}}\u001b[0m\n",
            "\u001b[34m#metrics {\"StartTime\": 1650871739.757901, \"EndTime\": 1650871739.7579112, \"Dimensions\": {\"Algorithm\": \"Linear Learner\", \"Host\": \"algo-1\", \"Operation\": \"training\", \"epoch\": 1, \"model\": 27}, \"Metrics\": {\"train_binary_classification_cross_entropy_objective\": {\"sum\": 0.5138796766088644, \"count\": 1, \"min\": 0.5138796766088644, \"max\": 0.5138796766088644}}}\u001b[0m\n",
            "\u001b[34m#metrics {\"StartTime\": 1650871739.7579415, \"EndTime\": 1650871739.7579563, \"Dimensions\": {\"Algorithm\": \"Linear Learner\", \"Host\": \"algo-1\", \"Operation\": \"training\", \"epoch\": 1, \"model\": 28}, \"Metrics\": {\"train_binary_classification_cross_entropy_objective\": {\"sum\": 0.514162978519358, \"count\": 1, \"min\": 0.514162978519358, \"max\": 0.514162978519358}}}\u001b[0m\n",
            "\u001b[34m#metrics {\"StartTime\": 1650871739.7579997, \"EndTime\": 1650871739.75801, \"Dimensions\": {\"Algorithm\": \"Linear Learner\", \"Host\": \"algo-1\", \"Operation\": \"training\", \"epoch\": 1, \"model\": 29}, \"Metrics\": {\"train_binary_classification_cross_entropy_objective\": {\"sum\": 0.5152423289821053, \"count\": 1, \"min\": 0.5152423289821053, \"max\": 0.5152423289821053}}}\u001b[0m\n",
            "\u001b[34m#metrics {\"StartTime\": 1650871739.7580376, \"EndTime\": 1650871739.7580454, \"Dimensions\": {\"Algorithm\": \"Linear Learner\", \"Host\": \"algo-1\", \"Operation\": \"training\", \"epoch\": 1, \"model\": 30}, \"Metrics\": {\"train_binary_classification_cross_entropy_objective\": {\"sum\": 0.5141636242414469, \"count\": 1, \"min\": 0.5141636242414469, \"max\": 0.5141636242414469}}}\u001b[0m\n",
            "\u001b[34m#metrics {\"StartTime\": 1650871739.7580712, \"EndTime\": 1650871739.758079, \"Dimensions\": {\"Algorithm\": \"Linear Learner\", \"Host\": \"algo-1\", \"Operation\": \"training\", \"epoch\": 1, \"model\": 31}, \"Metrics\": {\"train_binary_classification_cross_entropy_objective\": {\"sum\": 0.5152394809547914, \"count\": 1, \"min\": 0.5152394809547914, \"max\": 0.5152394809547914}}}\u001b[0m\n",
            "\u001b[34m[04/25/2022 07:28:59 INFO 140418656159552] #quality_metric: host=algo-1, epoch=1, train binary_classification_cross_entropy_objective <loss>=0.4920763716391467\u001b[0m\n",
            "\u001b[34m[2022-04-25 07:29:05.662] [tensorio] [info] epoch_stats={\"data_pipeline\": \"/opt/ml/input/data/validation\", \"epoch\": 5, \"duration\": 5874, \"num_examples\": 164, \"num_bytes\": 69349016}\u001b[0m\n",
            "\u001b[34m#metrics {\"StartTime\": 1650871745.6746073, \"EndTime\": 1650871745.6747286, \"Dimensions\": {\"Algorithm\": \"Linear Learner\", \"Host\": \"algo-1\", \"Operation\": \"training\", \"epoch\": 1, \"model\": 0}, \"Metrics\": {\"validation_binary_classification_cross_entropy_objective\": {\"sum\": 0.492212446537414, \"count\": 1, \"min\": 0.492212446537414, \"max\": 0.492212446537414}}}\u001b[0m\n",
            "\u001b[34m#metrics {\"StartTime\": 1650871745.674864, \"EndTime\": 1650871745.6748888, \"Dimensions\": {\"Algorithm\": \"Linear Learner\", \"Host\": \"algo-1\", \"Operation\": \"training\", \"epoch\": 1, \"model\": 1}, \"Metrics\": {\"validation_binary_classification_cross_entropy_objective\": {\"sum\": 0.4937029622654564, \"count\": 1, \"min\": 0.4937029622654564, \"max\": 0.4937029622654564}}}\u001b[0m\n",
            "\u001b[34m#metrics {\"StartTime\": 1650871745.6749687, \"EndTime\": 1650871745.6749892, \"Dimensions\": {\"Algorithm\": \"Linear Learner\", \"Host\": \"algo-1\", \"Operation\": \"training\", \"epoch\": 1, \"model\": 2}, \"Metrics\": {\"validation_binary_classification_cross_entropy_objective\": {\"sum\": 0.49221079022659636, \"count\": 1, \"min\": 0.49221079022659636, \"max\": 0.49221079022659636}}}\u001b[0m\n",
            "\u001b[34m#metrics {\"StartTime\": 1650871745.6750498, \"EndTime\": 1650871745.675067, \"Dimensions\": {\"Algorithm\": \"Linear Learner\", \"Host\": \"algo-1\", \"Operation\": \"training\", \"epoch\": 1, \"model\": 3}, \"Metrics\": {\"validation_binary_classification_cross_entropy_objective\": {\"sum\": 0.49370284191843855, \"count\": 1, \"min\": 0.49370284191843855, \"max\": 0.49370284191843855}}}\u001b[0m\n",
            "\u001b[34m#metrics {\"StartTime\": 1650871745.6751223, \"EndTime\": 1650871745.6751387, \"Dimensions\": {\"Algorithm\": \"Linear Learner\", \"Host\": \"algo-1\", \"Operation\": \"training\", \"epoch\": 1, \"model\": 4}, \"Metrics\": {\"validation_binary_classification_cross_entropy_objective\": {\"sum\": 0.49419271678685617, \"count\": 1, \"min\": 0.49419271678685617, \"max\": 0.49419271678685617}}}\u001b[0m\n",
            "\u001b[34m#metrics {\"StartTime\": 1650871745.6751904, \"EndTime\": 1650871745.6752062, \"Dimensions\": {\"Algorithm\": \"Linear Learner\", \"Host\": \"algo-1\", \"Operation\": \"training\", \"epoch\": 1, \"model\": 5}, \"Metrics\": {\"validation_binary_classification_cross_entropy_objective\": {\"sum\": 0.5185785121046724, \"count\": 1, \"min\": 0.5185785121046724, \"max\": 0.5185785121046724}}}\u001b[0m\n",
            "\u001b[34m#metrics {\"StartTime\": 1650871745.6752565, \"EndTime\": 1650871745.6752722, \"Dimensions\": {\"Algorithm\": \"Linear Learner\", \"Host\": \"algo-1\", \"Operation\": \"training\", \"epoch\": 1, \"model\": 6}, \"Metrics\": {\"validation_binary_classification_cross_entropy_objective\": {\"sum\": 0.4941926550273788, \"count\": 1, \"min\": 0.4941926550273788, \"max\": 0.4941926550273788}}}\u001b[0m\n",
            "\u001b[34m#metrics {\"StartTime\": 1650871745.6753232, \"EndTime\": 1650871745.675341, \"Dimensions\": {\"Algorithm\": \"Linear Learner\", \"Host\": \"algo-1\", \"Operation\": \"training\", \"epoch\": 1, \"model\": 7}, \"Metrics\": {\"validation_binary_classification_cross_entropy_objective\": {\"sum\": 0.5185793013572081, \"count\": 1, \"min\": 0.5185793013572081, \"max\": 0.5185793013572081}}}\u001b[0m\n",
            "\u001b[34m#metrics {\"StartTime\": 1650871745.6753995, \"EndTime\": 1650871745.6754165, \"Dimensions\": {\"Algorithm\": \"Linear Learner\", \"Host\": \"algo-1\", \"Operation\": \"training\", \"epoch\": 1, \"model\": 8}, \"Metrics\": {\"validation_binary_classification_cross_entropy_objective\": {\"sum\": 0.4923913743786765, \"count\": 1, \"min\": 0.4923913743786765, \"max\": 0.4923913743786765}}}\u001b[0m\n",
            "\u001b[34m#metrics {\"StartTime\": 1650871745.675578, \"EndTime\": 1650871745.6756012, \"Dimensions\": {\"Algorithm\": \"Linear Learner\", \"Host\": \"algo-1\", \"Operation\": \"training\", \"epoch\": 1, \"model\": 9}, \"Metrics\": {\"validation_binary_classification_cross_entropy_objective\": {\"sum\": 0.4937609428464676, \"count\": 1, \"min\": 0.4937609428464676, \"max\": 0.4937609428464676}}}\u001b[0m\n",
            "\u001b[34m#metrics {\"StartTime\": 1650871745.6757073, \"EndTime\": 1650871745.6757312, \"Dimensions\": {\"Algorithm\": \"Linear Learner\", \"Host\": \"algo-1\", \"Operation\": \"training\", \"epoch\": 1, \"model\": 10}, \"Metrics\": {\"validation_binary_classification_cross_entropy_objective\": {\"sum\": 0.4923917766549098, \"count\": 1, \"min\": 0.4923917766549098, \"max\": 0.4923917766549098}}}\u001b[0m\n",
            "\u001b[34m#metrics {\"StartTime\": 1650871745.6757915, \"EndTime\": 1650871745.675812, \"Dimensions\": {\"Algorithm\": \"Linear Learner\", \"Host\": \"algo-1\", \"Operation\": \"training\", \"epoch\": 1, \"model\": 11}, \"Metrics\": {\"validation_binary_classification_cross_entropy_objective\": {\"sum\": 0.4937610314741164, \"count\": 1, \"min\": 0.4937610314741164, \"max\": 0.4937610314741164}}}\u001b[0m\n",
            "\u001b[34m#metrics {\"StartTime\": 1650871745.676039, \"EndTime\": 1650871745.6760597, \"Dimensions\": {\"Algorithm\": \"Linear Learner\", \"Host\": \"algo-1\", \"Operation\": \"training\", \"epoch\": 1, \"model\": 12}, \"Metrics\": {\"validation_binary_classification_cross_entropy_objective\": {\"sum\": 0.4941336047572928, \"count\": 1, \"min\": 0.4941336047572928, \"max\": 0.4941336047572928}}}\u001b[0m\n",
            "\u001b[34m#metrics {\"StartTime\": 1650871745.6762333, \"EndTime\": 1650871745.6762478, \"Dimensions\": {\"Algorithm\": \"Linear Learner\", \"Host\": \"algo-1\", \"Operation\": \"training\", \"epoch\": 1, \"model\": 13}, \"Metrics\": {\"validation_binary_classification_cross_entropy_objective\": {\"sum\": 0.5175077747979848, \"count\": 1, \"min\": 0.5175077747979848, \"max\": 0.5175077747979848}}}\u001b[0m\n",
            "\u001b[34m#metrics {\"StartTime\": 1650871745.676278, \"EndTime\": 1650871745.6762867, \"Dimensions\": {\"Algorithm\": \"Linear Learner\", \"Host\": \"algo-1\", \"Operation\": \"training\", \"epoch\": 1, \"model\": 14}, \"Metrics\": {\"validation_binary_classification_cross_entropy_objective\": {\"sum\": 0.4941332737563476, \"count\": 1, \"min\": 0.4941332737563476, \"max\": 0.4941332737563476}}}\u001b[0m\n",
            "\u001b[34m#metrics {\"StartTime\": 1650871745.6763127, \"EndTime\": 1650871745.6763203, \"Dimensions\": {\"Algorithm\": \"Linear Learner\", \"Host\": \"algo-1\", \"Operation\": \"training\", \"epoch\": 1, \"model\": 15}, \"Metrics\": {\"validation_binary_classification_cross_entropy_objective\": {\"sum\": 0.5175042515224222, \"count\": 1, \"min\": 0.5175042515224222, \"max\": 0.5175042515224222}}}\u001b[0m\n",
            "\u001b[34m#metrics {\"StartTime\": 1650871745.676345, \"EndTime\": 1650871745.6763527, \"Dimensions\": {\"Algorithm\": \"Linear Learner\", \"Host\": \"algo-1\", \"Operation\": \"training\", \"epoch\": 1, \"model\": 16}, \"Metrics\": {\"validation_binary_classification_cross_entropy_objective\": {\"sum\": 0.5077870062101778, \"count\": 1, \"min\": 0.5077870062101778, \"max\": 0.5077870062101778}}}\u001b[0m\n",
            "\u001b[34m#metrics {\"StartTime\": 1650871745.6763773, \"EndTime\": 1650871745.676385, \"Dimensions\": {\"Algorithm\": \"Linear Learner\", \"Host\": \"algo-1\", \"Operation\": \"training\", \"epoch\": 1, \"model\": 17}, \"Metrics\": {\"validation_binary_classification_cross_entropy_objective\": {\"sum\": 0.5080318873891527, \"count\": 1, \"min\": 0.5080318873891527, \"max\": 0.5080318873891527}}}\u001b[0m\n",
            "\u001b[34m#metrics {\"StartTime\": 1650871745.6764107, \"EndTime\": 1650871745.6764247, \"Dimensions\": {\"Algorithm\": \"Linear Learner\", \"Host\": \"algo-1\", \"Operation\": \"training\", \"epoch\": 1, \"model\": 18}, \"Metrics\": {\"validation_binary_classification_cross_entropy_objective\": {\"sum\": 0.5077867311845897, \"count\": 1, \"min\": 0.5077867311845897, \"max\": 0.5077867311845897}}}\u001b[0m\n",
            "\u001b[34m#metrics {\"StartTime\": 1650871745.6764638, \"EndTime\": 1650871745.6764731, \"Dimensions\": {\"Algorithm\": \"Linear Learner\", \"Host\": \"algo-1\", \"Operation\": \"training\", \"epoch\": 1, \"model\": 19}, \"Metrics\": {\"validation_binary_classification_cross_entropy_objective\": {\"sum\": 0.5080300183719779, \"count\": 1, \"min\": 0.5080300183719779, \"max\": 0.5080300183719779}}}\u001b[0m\n",
            "\u001b[34m#metrics {\"StartTime\": 1650871745.6765072, \"EndTime\": 1650871745.6765246, \"Dimensions\": {\"Algorithm\": \"Linear Learner\", \"Host\": \"algo-1\", \"Operation\": \"training\", \"epoch\": 1, \"model\": 20}, \"Metrics\": {\"validation_binary_classification_cross_entropy_objective\": {\"sum\": 0.5076793532838303, \"count\": 1, \"min\": 0.5076793532838303, \"max\": 0.5076793532838303}}}\u001b[0m\n",
            "\u001b[34m#metrics {\"StartTime\": 1650871745.676574, \"EndTime\": 1650871745.6765907, \"Dimensions\": {\"Algorithm\": \"Linear Learner\", \"Host\": \"algo-1\", \"Operation\": \"training\", \"epoch\": 1, \"model\": 21}, \"Metrics\": {\"validation_binary_classification_cross_entropy_objective\": {\"sum\": 0.5100338973477986, \"count\": 1, \"min\": 0.5100338973477986, \"max\": 0.5100338973477986}}}\u001b[0m\n",
            "\u001b[34m#metrics {\"StartTime\": 1650871745.676646, \"EndTime\": 1650871745.676661, \"Dimensions\": {\"Algorithm\": \"Linear Learner\", \"Host\": \"algo-1\", \"Operation\": \"training\", \"epoch\": 1, \"model\": 22}, \"Metrics\": {\"validation_binary_classification_cross_entropy_objective\": {\"sum\": 0.5076795964034648, \"count\": 1, \"min\": 0.5076795964034648, \"max\": 0.5076795964034648}}}\u001b[0m\n",
            "\u001b[34m#metrics {\"StartTime\": 1650871745.6767106, \"EndTime\": 1650871745.6767259, \"Dimensions\": {\"Algorithm\": \"Linear Learner\", \"Host\": \"algo-1\", \"Operation\": \"training\", \"epoch\": 1, \"model\": 23}, \"Metrics\": {\"validation_binary_classification_cross_entropy_objective\": {\"sum\": 0.5100366203623387, \"count\": 1, \"min\": 0.5100366203623387, \"max\": 0.5100366203623387}}}\u001b[0m\n",
            "\u001b[34m#metrics {\"StartTime\": 1650871745.6767728, \"EndTime\": 1650871745.676789, \"Dimensions\": {\"Algorithm\": \"Linear Learner\", \"Host\": \"algo-1\", \"Operation\": \"training\", \"epoch\": 1, \"model\": 24}, \"Metrics\": {\"validation_binary_classification_cross_entropy_objective\": {\"sum\": 0.5137650232186378, \"count\": 1, \"min\": 0.5137650232186378, \"max\": 0.5137650232186378}}}\u001b[0m\n",
            "\u001b[34m#metrics {\"StartTime\": 1650871745.6768386, \"EndTime\": 1650871745.6768563, \"Dimensions\": {\"Algorithm\": \"Linear Learner\", \"Host\": \"algo-1\", \"Operation\": \"training\", \"epoch\": 1, \"model\": 25}, \"Metrics\": {\"validation_binary_classification_cross_entropy_objective\": {\"sum\": 0.514577562995473, \"count\": 1, \"min\": 0.514577562995473, \"max\": 0.514577562995473}}}\u001b[0m\n",
            "\u001b[34m#metrics {\"StartTime\": 1650871745.676911, \"EndTime\": 1650871745.6769273, \"Dimensions\": {\"Algorithm\": \"Linear Learner\", \"Host\": \"algo-1\", \"Operation\": \"training\", \"epoch\": 1, \"model\": 26}, \"Metrics\": {\"validation_binary_classification_cross_entropy_objective\": {\"sum\": 0.5137609383236588, \"count\": 1, \"min\": 0.5137609383236588, \"max\": 0.5137609383236588}}}\u001b[0m\n",
            "\u001b[34m#metrics {\"StartTime\": 1650871745.6769786, \"EndTime\": 1650871745.6769946, \"Dimensions\": {\"Algorithm\": \"Linear Learner\", \"Host\": \"algo-1\", \"Operation\": \"training\", \"epoch\": 1, \"model\": 27}, \"Metrics\": {\"validation_binary_classification_cross_entropy_objective\": {\"sum\": 0.5145863404912252, \"count\": 1, \"min\": 0.5145863404912252, \"max\": 0.5145863404912252}}}\u001b[0m\n",
            "\u001b[34m#metrics {\"StartTime\": 1650871745.6770458, \"EndTime\": 1650871745.6770632, \"Dimensions\": {\"Algorithm\": \"Linear Learner\", \"Host\": \"algo-1\", \"Operation\": \"training\", \"epoch\": 1, \"model\": 28}, \"Metrics\": {\"validation_binary_classification_cross_entropy_objective\": {\"sum\": 0.5139674569782062, \"count\": 1, \"min\": 0.5139674569782062, \"max\": 0.5139674569782062}}}\u001b[0m\n",
            "\u001b[34m#metrics {\"StartTime\": 1650871745.6771152, \"EndTime\": 1650871745.6771305, \"Dimensions\": {\"Algorithm\": \"Linear Learner\", \"Host\": \"algo-1\", \"Operation\": \"training\", \"epoch\": 1, \"model\": 29}, \"Metrics\": {\"validation_binary_classification_cross_entropy_objective\": {\"sum\": 0.5143242849531744, \"count\": 1, \"min\": 0.5143242849531744, \"max\": 0.5143242849531744}}}\u001b[0m\n",
            "\u001b[34m#metrics {\"StartTime\": 1650871745.6771824, \"EndTime\": 1650871745.6772, \"Dimensions\": {\"Algorithm\": \"Linear Learner\", \"Host\": \"algo-1\", \"Operation\": \"training\", \"epoch\": 1, \"model\": 30}, \"Metrics\": {\"validation_binary_classification_cross_entropy_objective\": {\"sum\": 0.5139685695817215, \"count\": 1, \"min\": 0.5139685695817215, \"max\": 0.5139685695817215}}}\u001b[0m\n",
            "\u001b[34m#metrics {\"StartTime\": 1650871745.6772554, \"EndTime\": 1650871745.677272, \"Dimensions\": {\"Algorithm\": \"Linear Learner\", \"Host\": \"algo-1\", \"Operation\": \"training\", \"epoch\": 1, \"model\": 31}, \"Metrics\": {\"validation_binary_classification_cross_entropy_objective\": {\"sum\": 0.5143595850658129, \"count\": 1, \"min\": 0.5143595850658129, \"max\": 0.5143595850658129}}}\u001b[0m\n",
            "\u001b[34m[04/25/2022 07:29:05 INFO 140418656159552] #quality_metric: host=algo-1, epoch=1, validation binary_classification_cross_entropy_objective <loss>=0.492212446537414\u001b[0m\n",
            "\u001b[34m[04/25/2022 07:29:05 INFO 140418656159552] #early_stopping_criteria_metric: host=algo-1, epoch=1, criteria=binary_classification_cross_entropy_objective, value=0.49221079022659636\u001b[0m\n",
            "\u001b[34m[04/25/2022 07:29:05 INFO 140418656159552] Saving model for epoch: 1\u001b[0m\n",
            "\u001b[34m[04/25/2022 07:29:05 INFO 140418656159552] Saved checkpoint to \"/tmp/tmpdxriz47d/mx-mod-0000.params\"\u001b[0m\n",
            "\u001b[34m[04/25/2022 07:29:05 INFO 140418656159552] #progress_metric: host=algo-1, completed 13.333333333333334 % of epochs\u001b[0m\n",
            "\u001b[34m#metrics {\"StartTime\": 1650871679.0081618, \"EndTime\": 1650871745.688425, \"Dimensions\": {\"Algorithm\": \"Linear Learner\", \"Host\": \"algo-1\", \"Operation\": \"training\", \"epoch\": 1, \"Meta\": \"training_data_iter\"}, \"Metrics\": {\"Total Records Seen\": {\"sum\": 2628944.0, \"count\": 1, \"min\": 2628944, \"max\": 2628944}, \"Total Batches Seen\": {\"sum\": 2630.0, \"count\": 1, \"min\": 2630, \"max\": 2630}, \"Max Records Seen Between Resets\": {\"sum\": 1308472.0, \"count\": 1, \"min\": 1308472, \"max\": 1308472}, \"Max Batches Seen Between Resets\": {\"sum\": 1309.0, \"count\": 1, \"min\": 1309, \"max\": 1309}, \"Reset Count\": {\"sum\": 4.0, \"count\": 1, \"min\": 4, \"max\": 4}, \"Number of Records Since Last Reset\": {\"sum\": 1308472.0, \"count\": 1, \"min\": 1308472, \"max\": 1308472}, \"Number of Batches Since Last Reset\": {\"sum\": 1309.0, \"count\": 1, \"min\": 1309, \"max\": 1309}}}\u001b[0m\n",
            "\u001b[34m[04/25/2022 07:29:05 INFO 140418656159552] #throughput_metric: host=algo-1, train throughput=19623.011374138245 records/second\u001b[0m\n",
            "\u001b[34m[2022-04-25 07:30:06.664] [tensorio] [info] epoch_stats={\"data_pipeline\": \"/opt/ml/input/data/train\", \"epoch\": 7, \"duration\": 60962, \"num_examples\": 1309, \"num_bytes\": 554792128}\u001b[0m\n",
            "\u001b[34m#metrics {\"StartTime\": 1650871806.6648154, \"EndTime\": 1650871806.664905, \"Dimensions\": {\"Algorithm\": \"Linear Learner\", \"Host\": \"algo-1\", \"Operation\": \"training\", \"epoch\": 2, \"model\": 0}, \"Metrics\": {\"train_binary_classification_cross_entropy_objective\": {\"sum\": 0.4919115276511656, \"count\": 1, \"min\": 0.4919115276511656, \"max\": 0.4919115276511656}}}\u001b[0m\n",
            "\u001b[34m#metrics {\"StartTime\": 1650871806.664999, \"EndTime\": 1650871806.6650188, \"Dimensions\": {\"Algorithm\": \"Linear Learner\", \"Host\": \"algo-1\", \"Operation\": \"training\", \"epoch\": 2, \"model\": 1}, \"Metrics\": {\"train_binary_classification_cross_entropy_objective\": {\"sum\": 0.492963965646353, \"count\": 1, \"min\": 0.492963965646353, \"max\": 0.492963965646353}}}\u001b[0m\n",
            "\u001b[34m#metrics {\"StartTime\": 1650871806.6650567, \"EndTime\": 1650871806.6651196, \"Dimensions\": {\"Algorithm\": \"Linear Learner\", \"Host\": \"algo-1\", \"Operation\": \"training\", \"epoch\": 2, \"model\": 2}, \"Metrics\": {\"train_binary_classification_cross_entropy_objective\": {\"sum\": 0.49191207531103665, \"count\": 1, \"min\": 0.49191207531103665, \"max\": 0.49191207531103665}}}\u001b[0m\n",
            "\u001b[34m#metrics {\"StartTime\": 1650871806.6651735, \"EndTime\": 1650871806.6651862, \"Dimensions\": {\"Algorithm\": \"Linear Learner\", \"Host\": \"algo-1\", \"Operation\": \"training\", \"epoch\": 2, \"model\": 3}, \"Metrics\": {\"train_binary_classification_cross_entropy_objective\": {\"sum\": 0.49296452252215933, \"count\": 1, \"min\": 0.49296452252215933, \"max\": 0.49296452252215933}}}\u001b[0m\n",
            "\u001b[34m#metrics {\"StartTime\": 1650871806.6652296, \"EndTime\": 1650871806.6652458, \"Dimensions\": {\"Algorithm\": \"Linear Learner\", \"Host\": \"algo-1\", \"Operation\": \"training\", \"epoch\": 2, \"model\": 4}, \"Metrics\": {\"train_binary_classification_cross_entropy_objective\": {\"sum\": 0.4930450673234572, \"count\": 1, \"min\": 0.4930450673234572, \"max\": 0.4930450673234572}}}\u001b[0m\n",
            "\u001b[34m#metrics {\"StartTime\": 1650871806.66532, \"EndTime\": 1650871806.665337, \"Dimensions\": {\"Algorithm\": \"Linear Learner\", \"Host\": \"algo-1\", \"Operation\": \"training\", \"epoch\": 2, \"model\": 5}, \"Metrics\": {\"train_binary_classification_cross_entropy_objective\": {\"sum\": 0.5114490132463088, \"count\": 1, \"min\": 0.5114490132463088, \"max\": 0.5114490132463088}}}\u001b[0m\n",
            "\u001b[34m#metrics {\"StartTime\": 1650871806.6654022, \"EndTime\": 1650871806.6654203, \"Dimensions\": {\"Algorithm\": \"Linear Learner\", \"Host\": \"algo-1\", \"Operation\": \"training\", \"epoch\": 2, \"model\": 6}, \"Metrics\": {\"train_binary_classification_cross_entropy_objective\": {\"sum\": 0.4930451140097522, \"count\": 1, \"min\": 0.4930451140097522, \"max\": 0.4930451140097522}}}\u001b[0m\n",
            "\u001b[34m#metrics {\"StartTime\": 1650871806.6654868, \"EndTime\": 1650871806.665505, \"Dimensions\": {\"Algorithm\": \"Linear Learner\", \"Host\": \"algo-1\", \"Operation\": \"training\", \"epoch\": 2, \"model\": 7}, \"Metrics\": {\"train_binary_classification_cross_entropy_objective\": {\"sum\": 0.5114486329898192, \"count\": 1, \"min\": 0.5114486329898192, \"max\": 0.5114486329898192}}}\u001b[0m\n",
            "\u001b[34m#metrics {\"StartTime\": 1650871806.6655705, \"EndTime\": 1650871806.665588, \"Dimensions\": {\"Algorithm\": \"Linear Learner\", \"Host\": \"algo-1\", \"Operation\": \"training\", \"epoch\": 2, \"model\": 8}, \"Metrics\": {\"train_binary_classification_cross_entropy_objective\": {\"sum\": 0.49211322980408273, \"count\": 1, \"min\": 0.49211322980408273, \"max\": 0.49211322980408273}}}\u001b[0m\n",
            "\u001b[34m#metrics {\"StartTime\": 1650871806.6656544, \"EndTime\": 1650871806.665673, \"Dimensions\": {\"Algorithm\": \"Linear Learner\", \"Host\": \"algo-1\", \"Operation\": \"training\", \"epoch\": 2, \"model\": 9}, \"Metrics\": {\"train_binary_classification_cross_entropy_objective\": {\"sum\": 0.49311789708035436, \"count\": 1, \"min\": 0.49311789708035436, \"max\": 0.49311789708035436}}}\u001b[0m\n",
            "\u001b[34m#metrics {\"StartTime\": 1650871806.6657324, \"EndTime\": 1650871806.6657495, \"Dimensions\": {\"Algorithm\": \"Linear Learner\", \"Host\": \"algo-1\", \"Operation\": \"training\", \"epoch\": 2, \"model\": 10}, \"Metrics\": {\"train_binary_classification_cross_entropy_objective\": {\"sum\": 0.4921136349552633, \"count\": 1, \"min\": 0.4921136349552633, \"max\": 0.4921136349552633}}}\u001b[0m\n",
            "\u001b[34m#metrics {\"StartTime\": 1650871806.6658046, \"EndTime\": 1650871806.6658204, \"Dimensions\": {\"Algorithm\": \"Linear Learner\", \"Host\": \"algo-1\", \"Operation\": \"training\", \"epoch\": 2, \"model\": 11}, \"Metrics\": {\"train_binary_classification_cross_entropy_objective\": {\"sum\": 0.49311791373903235, \"count\": 1, \"min\": 0.49311791373903235, \"max\": 0.49311791373903235}}}\u001b[0m\n",
            "\u001b[34m#metrics {\"StartTime\": 1650871806.6658747, \"EndTime\": 1650871806.6658912, \"Dimensions\": {\"Algorithm\": \"Linear Learner\", \"Host\": \"algo-1\", \"Operation\": \"training\", \"epoch\": 2, \"model\": 12}, \"Metrics\": {\"train_binary_classification_cross_entropy_objective\": {\"sum\": 0.4931964694381854, \"count\": 1, \"min\": 0.4931964694381854, \"max\": 0.4931964694381854}}}\u001b[0m\n",
            "\u001b[34m#metrics {\"StartTime\": 1650871806.6659446, \"EndTime\": 1650871806.6659608, \"Dimensions\": {\"Algorithm\": \"Linear Learner\", \"Host\": \"algo-1\", \"Operation\": \"training\", \"epoch\": 2, \"model\": 13}, \"Metrics\": {\"train_binary_classification_cross_entropy_objective\": {\"sum\": 0.510266415680585, \"count\": 1, \"min\": 0.510266415680585, \"max\": 0.510266415680585}}}\u001b[0m\n",
            "\u001b[34m#metrics {\"StartTime\": 1650871806.666014, \"EndTime\": 1650871806.6660302, \"Dimensions\": {\"Algorithm\": \"Linear Learner\", \"Host\": \"algo-1\", \"Operation\": \"training\", \"epoch\": 2, \"model\": 14}, \"Metrics\": {\"train_binary_classification_cross_entropy_objective\": {\"sum\": 0.49319652165404154, \"count\": 1, \"min\": 0.49319652165404154, \"max\": 0.49319652165404154}}}\u001b[0m\n",
            "\u001b[34m#metrics {\"StartTime\": 1650871806.6660848, \"EndTime\": 1650871806.666101, \"Dimensions\": {\"Algorithm\": \"Linear Learner\", \"Host\": \"algo-1\", \"Operation\": \"training\", \"epoch\": 2, \"model\": 15}, \"Metrics\": {\"train_binary_classification_cross_entropy_objective\": {\"sum\": 0.5102664594971077, \"count\": 1, \"min\": 0.5102664594971077, \"max\": 0.5102664594971077}}}\u001b[0m\n",
            "\u001b[34m#metrics {\"StartTime\": 1650871806.6661549, \"EndTime\": 1650871806.6661716, \"Dimensions\": {\"Algorithm\": \"Linear Learner\", \"Host\": \"algo-1\", \"Operation\": \"training\", \"epoch\": 2, \"model\": 16}, \"Metrics\": {\"train_binary_classification_cross_entropy_objective\": {\"sum\": 0.5077607300551295, \"count\": 1, \"min\": 0.5077607300551295, \"max\": 0.5077607300551295}}}\u001b[0m\n",
            "\u001b[34m#metrics {\"StartTime\": 1650871806.6662629, \"EndTime\": 1650871806.666281, \"Dimensions\": {\"Algorithm\": \"Linear Learner\", \"Host\": \"algo-1\", \"Operation\": \"training\", \"epoch\": 2, \"model\": 17}, \"Metrics\": {\"train_binary_classification_cross_entropy_objective\": {\"sum\": 0.5080231505927689, \"count\": 1, \"min\": 0.5080231505927689, \"max\": 0.5080231505927689}}}\u001b[0m\n",
            "\u001b[34m#metrics {\"StartTime\": 1650871806.6663492, \"EndTime\": 1650871806.6663678, \"Dimensions\": {\"Algorithm\": \"Linear Learner\", \"Host\": \"algo-1\", \"Operation\": \"training\", \"epoch\": 2, \"model\": 18}, \"Metrics\": {\"train_binary_classification_cross_entropy_objective\": {\"sum\": 0.5077607473904204, \"count\": 1, \"min\": 0.5077607473904204, \"max\": 0.5077607473904204}}}\u001b[0m\n",
            "\u001b[34m#metrics {\"StartTime\": 1650871806.6664343, \"EndTime\": 1650871806.6664515, \"Dimensions\": {\"Algorithm\": \"Linear Learner\", \"Host\": \"algo-1\", \"Operation\": \"training\", \"epoch\": 2, \"model\": 19}, \"Metrics\": {\"train_binary_classification_cross_entropy_objective\": {\"sum\": 0.5080231048397332, \"count\": 1, \"min\": 0.5080231048397332, \"max\": 0.5080231048397332}}}\u001b[0m\n",
            "\u001b[34m#metrics {\"StartTime\": 1650871806.66651, \"EndTime\": 1650871806.6665268, \"Dimensions\": {\"Algorithm\": \"Linear Learner\", \"Host\": \"algo-1\", \"Operation\": \"training\", \"epoch\": 2, \"model\": 20}, \"Metrics\": {\"train_binary_classification_cross_entropy_objective\": {\"sum\": 0.5080177122110257, \"count\": 1, \"min\": 0.5080177122110257, \"max\": 0.5080177122110257}}}\u001b[0m\n",
            "\u001b[34m#metrics {\"StartTime\": 1650871806.6665778, \"EndTime\": 1650871806.6665945, \"Dimensions\": {\"Algorithm\": \"Linear Learner\", \"Host\": \"algo-1\", \"Operation\": \"training\", \"epoch\": 2, \"model\": 21}, \"Metrics\": {\"train_binary_classification_cross_entropy_objective\": {\"sum\": 0.5111524499549049, \"count\": 1, \"min\": 0.5111524499549049, \"max\": 0.5111524499549049}}}\u001b[0m\n",
            "\u001b[34m#metrics {\"StartTime\": 1650871806.6666455, \"EndTime\": 1650871806.6666622, \"Dimensions\": {\"Algorithm\": \"Linear Learner\", \"Host\": \"algo-1\", \"Operation\": \"training\", \"epoch\": 2, \"model\": 22}, \"Metrics\": {\"train_binary_classification_cross_entropy_objective\": {\"sum\": 0.5080176980021532, \"count\": 1, \"min\": 0.5080176980021532, \"max\": 0.5080176980021532}}}\u001b[0m\n",
            "\u001b[34m#metrics {\"StartTime\": 1650871806.6668277, \"EndTime\": 1650871806.6668503, \"Dimensions\": {\"Algorithm\": \"Linear Learner\", \"Host\": \"algo-1\", \"Operation\": \"training\", \"epoch\": 2, \"model\": 23}, \"Metrics\": {\"train_binary_classification_cross_entropy_objective\": {\"sum\": 0.511152379540493, \"count\": 1, \"min\": 0.511152379540493, \"max\": 0.511152379540493}}}\u001b[0m\n",
            "\u001b[34m#metrics {\"StartTime\": 1650871806.6669152, \"EndTime\": 1650871806.666932, \"Dimensions\": {\"Algorithm\": \"Linear Learner\", \"Host\": \"algo-1\", \"Operation\": \"training\", \"epoch\": 2, \"model\": 24}, \"Metrics\": {\"train_binary_classification_cross_entropy_objective\": {\"sum\": 0.5137728867837048, \"count\": 1, \"min\": 0.5137728867837048, \"max\": 0.5137728867837048}}}\u001b[0m\n",
            "\u001b[34m#metrics {\"StartTime\": 1650871806.666986, \"EndTime\": 1650871806.6670024, \"Dimensions\": {\"Algorithm\": \"Linear Learner\", \"Host\": \"algo-1\", \"Operation\": \"training\", \"epoch\": 2, \"model\": 25}, \"Metrics\": {\"train_binary_classification_cross_entropy_objective\": {\"sum\": 0.5138812551469248, \"count\": 1, \"min\": 0.5138812551469248, \"max\": 0.5138812551469248}}}\u001b[0m\n",
            "\u001b[34m#metrics {\"StartTime\": 1650871806.667108, \"EndTime\": 1650871806.6671276, \"Dimensions\": {\"Algorithm\": \"Linear Learner\", \"Host\": \"algo-1\", \"Operation\": \"training\", \"epoch\": 2, \"model\": 26}, \"Metrics\": {\"train_binary_classification_cross_entropy_objective\": {\"sum\": 0.5137727414052421, \"count\": 1, \"min\": 0.5137727414052421, \"max\": 0.5137727414052421}}}\u001b[0m\n",
            "\u001b[34m#metrics {\"StartTime\": 1650871806.667182, \"EndTime\": 1650871806.6671984, \"Dimensions\": {\"Algorithm\": \"Linear Learner\", \"Host\": \"algo-1\", \"Operation\": \"training\", \"epoch\": 2, \"model\": 27}, \"Metrics\": {\"train_binary_classification_cross_entropy_objective\": {\"sum\": 0.5138805684080912, \"count\": 1, \"min\": 0.5138805684080912, \"max\": 0.5138805684080912}}}\u001b[0m\n",
            "\u001b[34m#metrics {\"StartTime\": 1650871806.6672506, \"EndTime\": 1650871806.6672668, \"Dimensions\": {\"Algorithm\": \"Linear Learner\", \"Host\": \"algo-1\", \"Operation\": \"training\", \"epoch\": 2, \"model\": 28}, \"Metrics\": {\"train_binary_classification_cross_entropy_objective\": {\"sum\": 0.5138749143501306, \"count\": 1, \"min\": 0.5138749143501306, \"max\": 0.5138749143501306}}}\u001b[0m\n",
            "\u001b[34m#metrics {\"StartTime\": 1650871806.6673217, \"EndTime\": 1650871806.6673393, \"Dimensions\": {\"Algorithm\": \"Linear Learner\", \"Host\": \"algo-1\", \"Operation\": \"training\", \"epoch\": 2, \"model\": 29}, \"Metrics\": {\"train_binary_classification_cross_entropy_objective\": {\"sum\": 0.5150508231766727, \"count\": 1, \"min\": 0.5150508231766727, \"max\": 0.5150508231766727}}}\u001b[0m\n",
            "\u001b[34m#metrics {\"StartTime\": 1650871806.6673868, \"EndTime\": 1650871806.6674023, \"Dimensions\": {\"Algorithm\": \"Linear Learner\", \"Host\": \"algo-1\", \"Operation\": \"training\", \"epoch\": 2, \"model\": 30}, \"Metrics\": {\"train_binary_classification_cross_entropy_objective\": {\"sum\": 0.5138746771856185, \"count\": 1, \"min\": 0.5138746771856185, \"max\": 0.5138746771856185}}}\u001b[0m\n",
            "\u001b[34m#metrics {\"StartTime\": 1650871806.6674545, \"EndTime\": 1650871806.667471, \"Dimensions\": {\"Algorithm\": \"Linear Learner\", \"Host\": \"algo-1\", \"Operation\": \"training\", \"epoch\": 2, \"model\": 31}, \"Metrics\": {\"train_binary_classification_cross_entropy_objective\": {\"sum\": 0.5150513312196877, \"count\": 1, \"min\": 0.5150513312196877, \"max\": 0.5150513312196877}}}\u001b[0m\n",
            "\u001b[34m[04/25/2022 07:30:06 INFO 140418656159552] #quality_metric: host=algo-1, epoch=2, train binary_classification_cross_entropy_objective <loss>=0.4919115276511656\u001b[0m\n",
            "\u001b[34m[2022-04-25 07:30:12.237] [tensorio] [info] epoch_stats={\"data_pipeline\": \"/opt/ml/input/data/validation\", \"epoch\": 8, \"duration\": 5539, \"num_examples\": 164, \"num_bytes\": 69349016}\u001b[0m\n",
            "\u001b[34m#metrics {\"StartTime\": 1650871812.2496, \"EndTime\": 1650871812.2496989, \"Dimensions\": {\"Algorithm\": \"Linear Learner\", \"Host\": \"algo-1\", \"Operation\": \"training\", \"epoch\": 2, \"model\": 0}, \"Metrics\": {\"validation_binary_classification_cross_entropy_objective\": {\"sum\": 0.4921362993408294, \"count\": 1, \"min\": 0.4921362993408294, \"max\": 0.4921362993408294}}}\u001b[0m\n",
            "\u001b[34m#metrics {\"StartTime\": 1650871812.249821, \"EndTime\": 1650871812.2498434, \"Dimensions\": {\"Algorithm\": \"Linear Learner\", \"Host\": \"algo-1\", \"Operation\": \"training\", \"epoch\": 2, \"model\": 1}, \"Metrics\": {\"validation_binary_classification_cross_entropy_objective\": {\"sum\": 0.49354418760519186, \"count\": 1, \"min\": 0.49354418760519186, \"max\": 0.49354418760519186}}}\u001b[0m\n",
            "\u001b[34m#metrics {\"StartTime\": 1650871812.2499192, \"EndTime\": 1650871812.249937, \"Dimensions\": {\"Algorithm\": \"Linear Learner\", \"Host\": \"algo-1\", \"Operation\": \"training\", \"epoch\": 2, \"model\": 2}, \"Metrics\": {\"validation_binary_classification_cross_entropy_objective\": {\"sum\": 0.4921348790594344, \"count\": 1, \"min\": 0.4921348790594344, \"max\": 0.4921348790594344}}}\u001b[0m\n",
            "\u001b[34m#metrics {\"StartTime\": 1650871812.2500002, \"EndTime\": 1650871812.2500248, \"Dimensions\": {\"Algorithm\": \"Linear Learner\", \"Host\": \"algo-1\", \"Operation\": \"training\", \"epoch\": 2, \"model\": 3}, \"Metrics\": {\"validation_binary_classification_cross_entropy_objective\": {\"sum\": 0.4935440247169026, \"count\": 1, \"min\": 0.4935440247169026, \"max\": 0.4935440247169026}}}\u001b[0m\n",
            "\u001b[34m#metrics {\"StartTime\": 1650871812.2501783, \"EndTime\": 1650871812.2501998, \"Dimensions\": {\"Algorithm\": \"Linear Learner\", \"Host\": \"algo-1\", \"Operation\": \"training\", \"epoch\": 2, \"model\": 4}, \"Metrics\": {\"validation_binary_classification_cross_entropy_objective\": {\"sum\": 0.4927012136535139, \"count\": 1, \"min\": 0.4927012136535139, \"max\": 0.4927012136535139}}}\u001b[0m\n",
            "\u001b[34m#metrics {\"StartTime\": 1650871812.250277, \"EndTime\": 1650871812.250294, \"Dimensions\": {\"Algorithm\": \"Linear Learner\", \"Host\": \"algo-1\", \"Operation\": \"training\", \"epoch\": 2, \"model\": 5}, \"Metrics\": {\"validation_binary_classification_cross_entropy_objective\": {\"sum\": 0.5133478735866387, \"count\": 1, \"min\": 0.5133478735866387, \"max\": 0.5133478735866387}}}\u001b[0m\n",
            "\u001b[34m#metrics {\"StartTime\": 1650871812.2503486, \"EndTime\": 1650871812.2503657, \"Dimensions\": {\"Algorithm\": \"Linear Learner\", \"Host\": \"algo-1\", \"Operation\": \"training\", \"epoch\": 2, \"model\": 6}, \"Metrics\": {\"validation_binary_classification_cross_entropy_objective\": {\"sum\": 0.4927012220498175, \"count\": 1, \"min\": 0.4927012220498175, \"max\": 0.4927012220498175}}}\u001b[0m\n",
            "\u001b[34m#metrics {\"StartTime\": 1650871812.2504182, \"EndTime\": 1650871812.2504349, \"Dimensions\": {\"Algorithm\": \"Linear Learner\", \"Host\": \"algo-1\", \"Operation\": \"training\", \"epoch\": 2, \"model\": 7}, \"Metrics\": {\"validation_binary_classification_cross_entropy_objective\": {\"sum\": 0.5133481710023695, \"count\": 1, \"min\": 0.5133481710023695, \"max\": 0.5133481710023695}}}\u001b[0m\n",
            "\u001b[34m#metrics {\"StartTime\": 1650871812.2504978, \"EndTime\": 1650871812.2505157, \"Dimensions\": {\"Algorithm\": \"Linear Learner\", \"Host\": \"algo-1\", \"Operation\": \"training\", \"epoch\": 2, \"model\": 8}, \"Metrics\": {\"validation_binary_classification_cross_entropy_objective\": {\"sum\": 0.4923324149752536, \"count\": 1, \"min\": 0.4923324149752536, \"max\": 0.4923324149752536}}}\u001b[0m\n",
            "\u001b[34m#metrics {\"StartTime\": 1650871812.25057, \"EndTime\": 1650871812.250587, \"Dimensions\": {\"Algorithm\": \"Linear Learner\", \"Host\": \"algo-1\", \"Operation\": \"training\", \"epoch\": 2, \"model\": 9}, \"Metrics\": {\"validation_binary_classification_cross_entropy_objective\": {\"sum\": 0.49362288317320224, \"count\": 1, \"min\": 0.49362288317320224, \"max\": 0.49362288317320224}}}\u001b[0m\n",
            "\u001b[34m#metrics {\"StartTime\": 1650871812.2506397, \"EndTime\": 1650871812.2506578, \"Dimensions\": {\"Algorithm\": \"Linear Learner\", \"Host\": \"algo-1\", \"Operation\": \"training\", \"epoch\": 2, \"model\": 10}, \"Metrics\": {\"validation_binary_classification_cross_entropy_objective\": {\"sum\": 0.4923326883215809, \"count\": 1, \"min\": 0.4923326883215809, \"max\": 0.4923326883215809}}}\u001b[0m\n",
            "\u001b[34m#metrics {\"StartTime\": 1650871812.2507102, \"EndTime\": 1650871812.2507267, \"Dimensions\": {\"Algorithm\": \"Linear Learner\", \"Host\": \"algo-1\", \"Operation\": \"training\", \"epoch\": 2, \"model\": 11}, \"Metrics\": {\"validation_binary_classification_cross_entropy_objective\": {\"sum\": 0.4936229167584165, \"count\": 1, \"min\": 0.4936229167584165, \"max\": 0.4936229167584165}}}\u001b[0m\n",
            "\u001b[34m#metrics {\"StartTime\": 1650871812.2507794, \"EndTime\": 1650871812.2507963, \"Dimensions\": {\"Algorithm\": \"Linear Learner\", \"Host\": \"algo-1\", \"Operation\": \"training\", \"epoch\": 2, \"model\": 12}, \"Metrics\": {\"validation_binary_classification_cross_entropy_objective\": {\"sum\": 0.49283138248068403, \"count\": 1, \"min\": 0.49283138248068403, \"max\": 0.49283138248068403}}}\u001b[0m\n",
            "\u001b[34m#metrics {\"StartTime\": 1650871812.2508485, \"EndTime\": 1650871812.250865, \"Dimensions\": {\"Algorithm\": \"Linear Learner\", \"Host\": \"algo-1\", \"Operation\": \"training\", \"epoch\": 2, \"model\": 13}, \"Metrics\": {\"validation_binary_classification_cross_entropy_objective\": {\"sum\": 0.512703263799481, \"count\": 1, \"min\": 0.512703263799481, \"max\": 0.512703263799481}}}\u001b[0m\n",
            "\u001b[34m#metrics {\"StartTime\": 1650871812.2509172, \"EndTime\": 1650871812.2509327, \"Dimensions\": {\"Algorithm\": \"Linear Learner\", \"Host\": \"algo-1\", \"Operation\": \"training\", \"epoch\": 2, \"model\": 14}, \"Metrics\": {\"validation_binary_classification_cross_entropy_objective\": {\"sum\": 0.4928314231561102, \"count\": 1, \"min\": 0.4928314231561102, \"max\": 0.4928314231561102}}}\u001b[0m\n",
            "\u001b[34m#metrics {\"StartTime\": 1650871812.2509923, \"EndTime\": 1650871812.25101, \"Dimensions\": {\"Algorithm\": \"Linear Learner\", \"Host\": \"algo-1\", \"Operation\": \"training\", \"epoch\": 2, \"model\": 15}, \"Metrics\": {\"validation_binary_classification_cross_entropy_objective\": {\"sum\": 0.5127022984111549, \"count\": 1, \"min\": 0.5127022984111549, \"max\": 0.5127022984111549}}}\u001b[0m\n",
            "\u001b[34m#metrics {\"StartTime\": 1650871812.2510684, \"EndTime\": 1650871812.251084, \"Dimensions\": {\"Algorithm\": \"Linear Learner\", \"Host\": \"algo-1\", \"Operation\": \"training\", \"epoch\": 2, \"model\": 16}, \"Metrics\": {\"validation_binary_classification_cross_entropy_objective\": {\"sum\": 0.5077575961977859, \"count\": 1, \"min\": 0.5077575961977859, \"max\": 0.5077575961977859}}}\u001b[0m\n",
            "\u001b[34m#metrics {\"StartTime\": 1650871812.251132, \"EndTime\": 1650871812.251146, \"Dimensions\": {\"Algorithm\": \"Linear Learner\", \"Host\": \"algo-1\", \"Operation\": \"training\", \"epoch\": 2, \"model\": 17}, \"Metrics\": {\"validation_binary_classification_cross_entropy_objective\": {\"sum\": 0.5079772550674208, \"count\": 1, \"min\": 0.5079772550674208, \"max\": 0.5079772550674208}}}\u001b[0m\n",
            "\u001b[34m#metrics {\"StartTime\": 1650871812.2511954, \"EndTime\": 1650871812.2512128, \"Dimensions\": {\"Algorithm\": \"Linear Learner\", \"Host\": \"algo-1\", \"Operation\": \"training\", \"epoch\": 2, \"model\": 18}, \"Metrics\": {\"validation_binary_classification_cross_entropy_objective\": {\"sum\": 0.5077571592168313, \"count\": 1, \"min\": 0.5077571592168313, \"max\": 0.5077571592168313}}}\u001b[0m\n",
            "\u001b[34m#metrics {\"StartTime\": 1650871812.2512841, \"EndTime\": 1650871812.2513027, \"Dimensions\": {\"Algorithm\": \"Linear Learner\", \"Host\": \"algo-1\", \"Operation\": \"training\", \"epoch\": 2, \"model\": 19}, \"Metrics\": {\"validation_binary_classification_cross_entropy_objective\": {\"sum\": 0.5079767688281518, \"count\": 1, \"min\": 0.5079767688281518, \"max\": 0.5079767688281518}}}\u001b[0m\n",
            "\u001b[34m#metrics {\"StartTime\": 1650871812.25136, \"EndTime\": 1650871812.2513769, \"Dimensions\": {\"Algorithm\": \"Linear Learner\", \"Host\": \"algo-1\", \"Operation\": \"training\", \"epoch\": 2, \"model\": 20}, \"Metrics\": {\"validation_binary_classification_cross_entropy_objective\": {\"sum\": 0.5075180403277043, \"count\": 1, \"min\": 0.5075180403277043, \"max\": 0.5075180403277043}}}\u001b[0m\n",
            "\u001b[34m#metrics {\"StartTime\": 1650871812.25143, \"EndTime\": 1650871812.251447, \"Dimensions\": {\"Algorithm\": \"Linear Learner\", \"Host\": \"algo-1\", \"Operation\": \"training\", \"epoch\": 2, \"model\": 21}, \"Metrics\": {\"validation_binary_classification_cross_entropy_objective\": {\"sum\": 0.5098368543882913, \"count\": 1, \"min\": 0.5098368543882913, \"max\": 0.5098368543882913}}}\u001b[0m\n",
            "\u001b[34m#metrics {\"StartTime\": 1650871812.2515008, \"EndTime\": 1650871812.2515175, \"Dimensions\": {\"Algorithm\": \"Linear Learner\", \"Host\": \"algo-1\", \"Operation\": \"training\", \"epoch\": 2, \"model\": 22}, \"Metrics\": {\"validation_binary_classification_cross_entropy_objective\": {\"sum\": 0.5075179789413959, \"count\": 1, \"min\": 0.5075179789413959, \"max\": 0.5075179789413959}}}\u001b[0m\n",
            "\u001b[34m#metrics {\"StartTime\": 1650871812.2515686, \"EndTime\": 1650871812.2515833, \"Dimensions\": {\"Algorithm\": \"Linear Learner\", \"Host\": \"algo-1\", \"Operation\": \"training\", \"epoch\": 2, \"model\": 23}, \"Metrics\": {\"validation_binary_classification_cross_entropy_objective\": {\"sum\": 0.5098367801276508, \"count\": 1, \"min\": 0.5098367801276508, \"max\": 0.5098367801276508}}}\u001b[0m\n",
            "\u001b[34m#metrics {\"StartTime\": 1650871812.2516325, \"EndTime\": 1650871812.2516472, \"Dimensions\": {\"Algorithm\": \"Linear Learner\", \"Host\": \"algo-1\", \"Operation\": \"training\", \"epoch\": 2, \"model\": 24}, \"Metrics\": {\"validation_binary_classification_cross_entropy_objective\": {\"sum\": 0.513758163438621, \"count\": 1, \"min\": 0.513758163438621, \"max\": 0.513758163438621}}}\u001b[0m\n",
            "\u001b[34m#metrics {\"StartTime\": 1650871812.2516973, \"EndTime\": 1650871812.2517128, \"Dimensions\": {\"Algorithm\": \"Linear Learner\", \"Host\": \"algo-1\", \"Operation\": \"training\", \"epoch\": 2, \"model\": 25}, \"Metrics\": {\"validation_binary_classification_cross_entropy_objective\": {\"sum\": 0.5145171064378312, \"count\": 1, \"min\": 0.5145171064378312, \"max\": 0.5145171064378312}}}\u001b[0m\n",
            "\u001b[34m#metrics {\"StartTime\": 1650871812.251762, \"EndTime\": 1650871812.2517767, \"Dimensions\": {\"Algorithm\": \"Linear Learner\", \"Host\": \"algo-1\", \"Operation\": \"training\", \"epoch\": 2, \"model\": 26}, \"Metrics\": {\"validation_binary_classification_cross_entropy_objective\": {\"sum\": 0.5137526651658743, \"count\": 1, \"min\": 0.5137526651658743, \"max\": 0.5137526651658743}}}\u001b[0m\n",
            "\u001b[34m#metrics {\"StartTime\": 1650871812.2518256, \"EndTime\": 1650871812.2518413, \"Dimensions\": {\"Algorithm\": \"Linear Learner\", \"Host\": \"algo-1\", \"Operation\": \"training\", \"epoch\": 2, \"model\": 27}, \"Metrics\": {\"validation_binary_classification_cross_entropy_objective\": {\"sum\": 0.5145330821779264, \"count\": 1, \"min\": 0.5145330821779264, \"max\": 0.5145330821779264}}}\u001b[0m\n",
            "\u001b[34m#metrics {\"StartTime\": 1650871812.2519033, \"EndTime\": 1650871812.2519193, \"Dimensions\": {\"Algorithm\": \"Linear Learner\", \"Host\": \"algo-1\", \"Operation\": \"training\", \"epoch\": 2, \"model\": 28}, \"Metrics\": {\"validation_binary_classification_cross_entropy_objective\": {\"sum\": 0.5139804777791983, \"count\": 1, \"min\": 0.5139804777791983, \"max\": 0.5139804777791983}}}\u001b[0m\n",
            "\u001b[34m#metrics {\"StartTime\": 1650871812.2519748, \"EndTime\": 1650871812.2519913, \"Dimensions\": {\"Algorithm\": \"Linear Learner\", \"Host\": \"algo-1\", \"Operation\": \"training\", \"epoch\": 2, \"model\": 29}, \"Metrics\": {\"validation_binary_classification_cross_entropy_objective\": {\"sum\": 0.5141436644171121, \"count\": 1, \"min\": 0.5141436644171121, \"max\": 0.5141436644171121}}}\u001b[0m\n",
            "\u001b[34m#metrics {\"StartTime\": 1650871812.252045, \"EndTime\": 1650871812.2520623, \"Dimensions\": {\"Algorithm\": \"Linear Learner\", \"Host\": \"algo-1\", \"Operation\": \"training\", \"epoch\": 2, \"model\": 30}, \"Metrics\": {\"validation_binary_classification_cross_entropy_objective\": {\"sum\": 0.5139633648064307, \"count\": 1, \"min\": 0.5139633648064307, \"max\": 0.5139633648064307}}}\u001b[0m\n",
            "\u001b[34m#metrics {\"StartTime\": 1650871812.2521122, \"EndTime\": 1650871812.2521286, \"Dimensions\": {\"Algorithm\": \"Linear Learner\", \"Host\": \"algo-1\", \"Operation\": \"training\", \"epoch\": 2, \"model\": 31}, \"Metrics\": {\"validation_binary_classification_cross_entropy_objective\": {\"sum\": 0.5141435866113657, \"count\": 1, \"min\": 0.5141435866113657, \"max\": 0.5141435866113657}}}\u001b[0m\n",
            "\u001b[34m[04/25/2022 07:30:12 INFO 140418656159552] #quality_metric: host=algo-1, epoch=2, validation binary_classification_cross_entropy_objective <loss>=0.4921362993408294\u001b[0m\n",
            "\u001b[34m[04/25/2022 07:30:12 INFO 140418656159552] #early_stopping_criteria_metric: host=algo-1, epoch=2, criteria=binary_classification_cross_entropy_objective, value=0.4921348790594344\u001b[0m\n",
            "\u001b[34m[04/25/2022 07:30:12 INFO 140418656159552] Saving model for epoch: 2\u001b[0m\n",
            "\u001b[34m[04/25/2022 07:30:12 INFO 140418656159552] Saved checkpoint to \"/tmp/tmpkzvq1oog/mx-mod-0000.params\"\u001b[0m\n",
            "\u001b[34m[04/25/2022 07:30:12 INFO 140418656159552] #progress_metric: host=algo-1, completed 20.0 % of epochs\u001b[0m\n",
            "\u001b[34m#metrics {\"StartTime\": 1650871745.7020235, \"EndTime\": 1650871812.2596402, \"Dimensions\": {\"Algorithm\": \"Linear Learner\", \"Host\": \"algo-1\", \"Operation\": \"training\", \"epoch\": 2, \"Meta\": \"training_data_iter\"}, \"Metrics\": {\"Total Records Seen\": {\"sum\": 3937416.0, \"count\": 1, \"min\": 3937416, \"max\": 3937416}, \"Total Batches Seen\": {\"sum\": 3939.0, \"count\": 1, \"min\": 3939, \"max\": 3939}, \"Max Records Seen Between Resets\": {\"sum\": 1308472.0, \"count\": 1, \"min\": 1308472, \"max\": 1308472}, \"Max Batches Seen Between Resets\": {\"sum\": 1309.0, \"count\": 1, \"min\": 1309, \"max\": 1309}, \"Reset Count\": {\"sum\": 5.0, \"count\": 1, \"min\": 5, \"max\": 5}, \"Number of Records Since Last Reset\": {\"sum\": 1308472.0, \"count\": 1, \"min\": 1308472, \"max\": 1308472}, \"Number of Batches Since Last Reset\": {\"sum\": 1309.0, \"count\": 1, \"min\": 1309, \"max\": 1309}}}\u001b[0m\n",
            "\u001b[34m[04/25/2022 07:30:12 INFO 140418656159552] #throughput_metric: host=algo-1, train throughput=19659.190895160624 records/second\u001b[0m\n",
            "\u001b[34m[2022-04-25 07:31:13.256] [tensorio] [info] epoch_stats={\"data_pipeline\": \"/opt/ml/input/data/train\", \"epoch\": 9, \"duration\": 60994, \"num_examples\": 1309, \"num_bytes\": 554792128}\u001b[0m\n",
            "\u001b[34m#metrics {\"StartTime\": 1650871873.25664, \"EndTime\": 1650871873.2567563, \"Dimensions\": {\"Algorithm\": \"Linear Learner\", \"Host\": \"algo-1\", \"Operation\": \"training\", \"epoch\": 3, \"model\": 0}, \"Metrics\": {\"train_binary_classification_cross_entropy_objective\": {\"sum\": 0.49184345646662814, \"count\": 1, \"min\": 0.49184345646662814, \"max\": 0.49184345646662814}}}\u001b[0m\n",
            "\u001b[34m#metrics {\"StartTime\": 1650871873.2568712, \"EndTime\": 1650871873.2568963, \"Dimensions\": {\"Algorithm\": \"Linear Learner\", \"Host\": \"algo-1\", \"Operation\": \"training\", \"epoch\": 3, \"model\": 1}, \"Metrics\": {\"train_binary_classification_cross_entropy_objective\": {\"sum\": 0.4928241238841952, \"count\": 1, \"min\": 0.4928241238841952, \"max\": 0.4928241238841952}}}\u001b[0m\n",
            "\u001b[34m#metrics {\"StartTime\": 1650871873.256963, \"EndTime\": 1650871873.2569842, \"Dimensions\": {\"Algorithm\": \"Linear Learner\", \"Host\": \"algo-1\", \"Operation\": \"training\", \"epoch\": 3, \"model\": 2}, \"Metrics\": {\"train_binary_classification_cross_entropy_objective\": {\"sum\": 0.4918604983875146, \"count\": 1, \"min\": 0.4918604983875146, \"max\": 0.4918604983875146}}}\u001b[0m\n",
            "\u001b[34m#metrics {\"StartTime\": 1650871873.2570477, \"EndTime\": 1650871873.257067, \"Dimensions\": {\"Algorithm\": \"Linear Learner\", \"Host\": \"algo-1\", \"Operation\": \"training\", \"epoch\": 3, \"model\": 3}, \"Metrics\": {\"train_binary_classification_cross_entropy_objective\": {\"sum\": 0.4928243547492071, \"count\": 1, \"min\": 0.4928243547492071, \"max\": 0.4928243547492071}}}\u001b[0m\n",
            "\u001b[34m#metrics {\"StartTime\": 1650871873.257128, \"EndTime\": 1650871873.2571476, \"Dimensions\": {\"Algorithm\": \"Linear Learner\", \"Host\": \"algo-1\", \"Operation\": \"training\", \"epoch\": 3, \"model\": 4}, \"Metrics\": {\"train_binary_classification_cross_entropy_objective\": {\"sum\": 0.4921556043245741, \"count\": 1, \"min\": 0.4921556043245741, \"max\": 0.4921556043245741}}}\u001b[0m\n",
            "\u001b[34m#metrics {\"StartTime\": 1650871873.2572093, \"EndTime\": 1650871873.2572286, \"Dimensions\": {\"Algorithm\": \"Linear Learner\", \"Host\": \"algo-1\", \"Operation\": \"training\", \"epoch\": 3, \"model\": 5}, \"Metrics\": {\"train_binary_classification_cross_entropy_objective\": {\"sum\": 0.5091272990608798, \"count\": 1, \"min\": 0.5091272990608798, \"max\": 0.5091272990608798}}}\u001b[0m\n",
            "\u001b[34m#metrics {\"StartTime\": 1650871873.2572882, \"EndTime\": 1650871873.2573073, \"Dimensions\": {\"Algorithm\": \"Linear Learner\", \"Host\": \"algo-1\", \"Operation\": \"training\", \"epoch\": 3, \"model\": 6}, \"Metrics\": {\"train_binary_classification_cross_entropy_objective\": {\"sum\": 0.4921556082209316, \"count\": 1, \"min\": 0.4921556082209316, \"max\": 0.4921556082209316}}}\u001b[0m\n",
            "\u001b[34m#metrics {\"StartTime\": 1650871873.257369, \"EndTime\": 1650871873.257399, \"Dimensions\": {\"Algorithm\": \"Linear Learner\", \"Host\": \"algo-1\", \"Operation\": \"training\", \"epoch\": 3, \"model\": 7}, \"Metrics\": {\"train_binary_classification_cross_entropy_objective\": {\"sum\": 0.5091272288097883, \"count\": 1, \"min\": 0.5091272288097883, \"max\": 0.5091272288097883}}}\u001b[0m\n",
            "\u001b[34m#metrics {\"StartTime\": 1650871873.257456, \"EndTime\": 1650871873.2574744, \"Dimensions\": {\"Algorithm\": \"Linear Learner\", \"Host\": \"algo-1\", \"Operation\": \"training\", \"epoch\": 3, \"model\": 8}, \"Metrics\": {\"train_binary_classification_cross_entropy_objective\": {\"sum\": 0.492048195421878, \"count\": 1, \"min\": 0.492048195421878, \"max\": 0.492048195421878}}}\u001b[0m\n",
            "\u001b[34m#metrics {\"StartTime\": 1650871873.2575293, \"EndTime\": 1650871873.2575457, \"Dimensions\": {\"Algorithm\": \"Linear Learner\", \"Host\": \"algo-1\", \"Operation\": \"training\", \"epoch\": 3, \"model\": 9}, \"Metrics\": {\"train_binary_classification_cross_entropy_objective\": {\"sum\": 0.49298805887764746, \"count\": 1, \"min\": 0.49298805887764746, \"max\": 0.49298805887764746}}}\u001b[0m\n",
            "\u001b[34m#metrics {\"StartTime\": 1650871873.257599, \"EndTime\": 1650871873.2576158, \"Dimensions\": {\"Algorithm\": \"Linear Learner\", \"Host\": \"algo-1\", \"Operation\": \"training\", \"epoch\": 3, \"model\": 10}, \"Metrics\": {\"train_binary_classification_cross_entropy_objective\": {\"sum\": 0.4920640136998728, \"count\": 1, \"min\": 0.4920640136998728, \"max\": 0.4920640136998728}}}\u001b[0m\n",
            "\u001b[34m#metrics {\"StartTime\": 1650871873.2577305, \"EndTime\": 1650871873.2577593, \"Dimensions\": {\"Algorithm\": \"Linear Learner\", \"Host\": \"algo-1\", \"Operation\": \"training\", \"epoch\": 3, \"model\": 11}, \"Metrics\": {\"train_binary_classification_cross_entropy_objective\": {\"sum\": 0.4929880627973364, \"count\": 1, \"min\": 0.4929880627973364, \"max\": 0.4929880627973364}}}\u001b[0m\n",
            "\u001b[34m#metrics {\"StartTime\": 1650871873.2578146, \"EndTime\": 1650871873.2578309, \"Dimensions\": {\"Algorithm\": \"Linear Learner\", \"Host\": \"algo-1\", \"Operation\": \"training\", \"epoch\": 3, \"model\": 12}, \"Metrics\": {\"train_binary_classification_cross_entropy_objective\": {\"sum\": 0.4923564192045719, \"count\": 1, \"min\": 0.4923564192045719, \"max\": 0.4923564192045719}}}\u001b[0m\n",
            "\u001b[34m#metrics {\"StartTime\": 1650871873.257885, \"EndTime\": 1650871873.2579002, \"Dimensions\": {\"Algorithm\": \"Linear Learner\", \"Host\": \"algo-1\", \"Operation\": \"training\", \"epoch\": 3, \"model\": 13}, \"Metrics\": {\"train_binary_classification_cross_entropy_objective\": {\"sum\": 0.5081622236292661, \"count\": 1, \"min\": 0.5081622236292661, \"max\": 0.5081622236292661}}}\u001b[0m\n",
            "\u001b[34m#metrics {\"StartTime\": 1650871873.2579482, \"EndTime\": 1650871873.2579656, \"Dimensions\": {\"Algorithm\": \"Linear Learner\", \"Host\": \"algo-1\", \"Operation\": \"training\", \"epoch\": 3, \"model\": 14}, \"Metrics\": {\"train_binary_classification_cross_entropy_objective\": {\"sum\": 0.49235642289094605, \"count\": 1, \"min\": 0.49235642289094605, \"max\": 0.49235642289094605}}}\u001b[0m\n",
            "\u001b[34m#metrics {\"StartTime\": 1650871873.258016, \"EndTime\": 1650871873.2580328, \"Dimensions\": {\"Algorithm\": \"Linear Learner\", \"Host\": \"algo-1\", \"Operation\": \"training\", \"epoch\": 3, \"model\": 15}, \"Metrics\": {\"train_binary_classification_cross_entropy_objective\": {\"sum\": 0.5081622215760957, \"count\": 1, \"min\": 0.5081622215760957, \"max\": 0.5081622215760957}}}\u001b[0m\n",
            "\u001b[34m#metrics {\"StartTime\": 1650871873.258083, \"EndTime\": 1650871873.2580981, \"Dimensions\": {\"Algorithm\": \"Linear Learner\", \"Host\": \"algo-1\", \"Operation\": \"training\", \"epoch\": 3, \"model\": 16}, \"Metrics\": {\"train_binary_classification_cross_entropy_objective\": {\"sum\": 0.5077541906607625, \"count\": 1, \"min\": 0.5077541906607625, \"max\": 0.5077541906607625}}}\u001b[0m\n",
            "\u001b[34m#metrics {\"StartTime\": 1650871873.258147, \"EndTime\": 1650871873.2581644, \"Dimensions\": {\"Algorithm\": \"Linear Learner\", \"Host\": \"algo-1\", \"Operation\": \"training\", \"epoch\": 3, \"model\": 17}, \"Metrics\": {\"train_binary_classification_cross_entropy_objective\": {\"sum\": 0.5079910766648226, \"count\": 1, \"min\": 0.5079910766648226, \"max\": 0.5079910766648226}}}\u001b[0m\n",
            "\u001b[34m#metrics {\"StartTime\": 1650871873.2582533, \"EndTime\": 1650871873.2582712, \"Dimensions\": {\"Algorithm\": \"Linear Learner\", \"Host\": \"algo-1\", \"Operation\": \"training\", \"epoch\": 3, \"model\": 18}, \"Metrics\": {\"train_binary_classification_cross_entropy_objective\": {\"sum\": 0.5077527191908717, \"count\": 1, \"min\": 0.5077527191908717, \"max\": 0.5077527191908717}}}\u001b[0m\n",
            "\u001b[34m#metrics {\"StartTime\": 1650871873.258326, \"EndTime\": 1650871873.2583418, \"Dimensions\": {\"Algorithm\": \"Linear Learner\", \"Host\": \"algo-1\", \"Operation\": \"training\", \"epoch\": 3, \"model\": 19}, \"Metrics\": {\"train_binary_classification_cross_entropy_objective\": {\"sum\": 0.5079910655357057, \"count\": 1, \"min\": 0.5079910655357057, \"max\": 0.5079910655357057}}}\u001b[0m\n",
            "\u001b[34m#metrics {\"StartTime\": 1650871873.2583945, \"EndTime\": 1650871873.258411, \"Dimensions\": {\"Algorithm\": \"Linear Learner\", \"Host\": \"algo-1\", \"Operation\": \"training\", \"epoch\": 3, \"model\": 20}, \"Metrics\": {\"train_binary_classification_cross_entropy_objective\": {\"sum\": 0.5078106545264568, \"count\": 1, \"min\": 0.5078106545264568, \"max\": 0.5078106545264568}}}\u001b[0m\n",
            "\u001b[34m#metrics {\"StartTime\": 1650871873.2584615, \"EndTime\": 1650871873.2584774, \"Dimensions\": {\"Algorithm\": \"Linear Learner\", \"Host\": \"algo-1\", \"Operation\": \"training\", \"epoch\": 3, \"model\": 21}, \"Metrics\": {\"train_binary_classification_cross_entropy_objective\": {\"sum\": 0.5107230971216791, \"count\": 1, \"min\": 0.5107230971216791, \"max\": 0.5107230971216791}}}\u001b[0m\n",
            "\u001b[34m#metrics {\"StartTime\": 1650871873.2585282, \"EndTime\": 1650871873.2585447, \"Dimensions\": {\"Algorithm\": \"Linear Learner\", \"Host\": \"algo-1\", \"Operation\": \"training\", \"epoch\": 3, \"model\": 22}, \"Metrics\": {\"train_binary_classification_cross_entropy_objective\": {\"sum\": 0.5078106523799605, \"count\": 1, \"min\": 0.5078106523799605, \"max\": 0.5078106523799605}}}\u001b[0m\n",
            "\u001b[34m#metrics {\"StartTime\": 1650871873.2585945, \"EndTime\": 1650871873.25861, \"Dimensions\": {\"Algorithm\": \"Linear Learner\", \"Host\": \"algo-1\", \"Operation\": \"training\", \"epoch\": 3, \"model\": 23}, \"Metrics\": {\"train_binary_classification_cross_entropy_objective\": {\"sum\": 0.5107230745601362, \"count\": 1, \"min\": 0.5107230745601362, \"max\": 0.5107230745601362}}}\u001b[0m\n",
            "\u001b[34m#metrics {\"StartTime\": 1650871873.2586606, \"EndTime\": 1650871873.2586777, \"Dimensions\": {\"Algorithm\": \"Linear Learner\", \"Host\": \"algo-1\", \"Operation\": \"training\", \"epoch\": 3, \"model\": 24}, \"Metrics\": {\"train_binary_classification_cross_entropy_objective\": {\"sum\": 0.5137681569323992, \"count\": 1, \"min\": 0.5137681569323992, \"max\": 0.5137681569323992}}}\u001b[0m\n",
            "\u001b[34m#metrics {\"StartTime\": 1650871873.2587287, \"EndTime\": 1650871873.2587454, \"Dimensions\": {\"Algorithm\": \"Linear Learner\", \"Host\": \"algo-1\", \"Operation\": \"training\", \"epoch\": 3, \"model\": 25}, \"Metrics\": {\"train_binary_classification_cross_entropy_objective\": {\"sum\": 0.5138704073611385, \"count\": 1, \"min\": 0.5138704073611385, \"max\": 0.5138704073611385}}}\u001b[0m\n",
            "\u001b[34m#metrics {\"StartTime\": 1650871873.2587986, \"EndTime\": 1650871873.2588148, \"Dimensions\": {\"Algorithm\": \"Linear Learner\", \"Host\": \"algo-1\", \"Operation\": \"training\", \"epoch\": 3, \"model\": 26}, \"Metrics\": {\"train_binary_classification_cross_entropy_objective\": {\"sum\": 0.5137697679712138, \"count\": 1, \"min\": 0.5137697679712138, \"max\": 0.5137697679712138}}}\u001b[0m\n",
            "\u001b[34m#metrics {\"StartTime\": 1650871873.2588634, \"EndTime\": 1650871873.25888, \"Dimensions\": {\"Algorithm\": \"Linear Learner\", \"Host\": \"algo-1\", \"Operation\": \"training\", \"epoch\": 3, \"model\": 27}, \"Metrics\": {\"train_binary_classification_cross_entropy_objective\": {\"sum\": 0.5138702894204983, \"count\": 1, \"min\": 0.5138702894204983, \"max\": 0.5138702894204983}}}\u001b[0m\n",
            "\u001b[34m#metrics {\"StartTime\": 1650871873.2589293, \"EndTime\": 1650871873.2589445, \"Dimensions\": {\"Algorithm\": \"Linear Learner\", \"Host\": \"algo-1\", \"Operation\": \"training\", \"epoch\": 3, \"model\": 28}, \"Metrics\": {\"train_binary_classification_cross_entropy_objective\": {\"sum\": 0.5137890534707166, \"count\": 1, \"min\": 0.5137890534707166, \"max\": 0.5137890534707166}}}\u001b[0m\n",
            "\u001b[34m#metrics {\"StartTime\": 1650871873.2589977, \"EndTime\": 1650871873.2590141, \"Dimensions\": {\"Algorithm\": \"Linear Learner\", \"Host\": \"algo-1\", \"Operation\": \"training\", \"epoch\": 3, \"model\": 29}, \"Metrics\": {\"train_binary_classification_cross_entropy_objective\": {\"sum\": 0.5148541577307092, \"count\": 1, \"min\": 0.5148541577307092, \"max\": 0.5148541577307092}}}\u001b[0m\n",
            "\u001b[34m#metrics {\"StartTime\": 1650871873.2590735, \"EndTime\": 1650871873.2590897, \"Dimensions\": {\"Algorithm\": \"Linear Learner\", \"Host\": \"algo-1\", \"Operation\": \"training\", \"epoch\": 3, \"model\": 30}, \"Metrics\": {\"train_binary_classification_cross_entropy_objective\": {\"sum\": 0.5137889364400041, \"count\": 1, \"min\": 0.5137889364400041, \"max\": 0.5137889364400041}}}\u001b[0m\n",
            "\u001b[34m#metrics {\"StartTime\": 1650871873.2591584, \"EndTime\": 1650871873.2591758, \"Dimensions\": {\"Algorithm\": \"Linear Learner\", \"Host\": \"algo-1\", \"Operation\": \"training\", \"epoch\": 3, \"model\": 31}, \"Metrics\": {\"train_binary_classification_cross_entropy_objective\": {\"sum\": 0.5148541612070999, \"count\": 1, \"min\": 0.5148541612070999, \"max\": 0.5148541612070999}}}\u001b[0m\n",
            "\u001b[34m[04/25/2022 07:31:13 INFO 140418656159552] #quality_metric: host=algo-1, epoch=3, train binary_classification_cross_entropy_objective <loss>=0.49184345646662814\u001b[0m\n",
            "\u001b[34m[2022-04-25 07:31:18.640] [tensorio] [info] epoch_stats={\"data_pipeline\": \"/opt/ml/input/data/validation\", \"epoch\": 11, \"duration\": 5348, \"num_examples\": 164, \"num_bytes\": 69349016}\u001b[0m\n",
            "\u001b[34m#metrics {\"StartTime\": 1650871878.6493385, \"EndTime\": 1650871878.6493955, \"Dimensions\": {\"Algorithm\": \"Linear Learner\", \"Host\": \"algo-1\", \"Operation\": \"training\", \"epoch\": 3, \"model\": 0}, \"Metrics\": {\"validation_binary_classification_cross_entropy_objective\": {\"sum\": 0.4921280603280129, \"count\": 1, \"min\": 0.4921280603280129, \"max\": 0.4921280603280129}}}\u001b[0m\n",
            "\u001b[34m#metrics {\"StartTime\": 1650871878.6494803, \"EndTime\": 1650871878.6494951, \"Dimensions\": {\"Algorithm\": \"Linear Learner\", \"Host\": \"algo-1\", \"Operation\": \"training\", \"epoch\": 3, \"model\": 1}, \"Metrics\": {\"validation_binary_classification_cross_entropy_objective\": {\"sum\": 0.4933463477431835, \"count\": 1, \"min\": 0.4933463477431835, \"max\": 0.4933463477431835}}}\u001b[0m\n",
            "\u001b[34m#metrics {\"StartTime\": 1650871878.6495447, \"EndTime\": 1650871878.6495638, \"Dimensions\": {\"Algorithm\": \"Linear Learner\", \"Host\": \"algo-1\", \"Operation\": \"training\", \"epoch\": 3, \"model\": 2}, \"Metrics\": {\"validation_binary_classification_cross_entropy_objective\": {\"sum\": 0.49213524420534743, \"count\": 1, \"min\": 0.49213524420534743, \"max\": 0.49213524420534743}}}\u001b[0m\n",
            "\u001b[34m#metrics {\"StartTime\": 1650871878.6496263, \"EndTime\": 1650871878.6496432, \"Dimensions\": {\"Algorithm\": \"Linear Learner\", \"Host\": \"algo-1\", \"Operation\": \"training\", \"epoch\": 3, \"model\": 3}, \"Metrics\": {\"validation_binary_classification_cross_entropy_objective\": {\"sum\": 0.4933462050060228, \"count\": 1, \"min\": 0.4933462050060228, \"max\": 0.4933462050060228}}}\u001b[0m\n",
            "\u001b[34m#metrics {\"StartTime\": 1650871878.6496954, \"EndTime\": 1650871878.6497073, \"Dimensions\": {\"Algorithm\": \"Linear Learner\", \"Host\": \"algo-1\", \"Operation\": \"training\", \"epoch\": 3, \"model\": 4}, \"Metrics\": {\"validation_binary_classification_cross_entropy_objective\": {\"sum\": 0.4922348420912188, \"count\": 1, \"min\": 0.4922348420912188, \"max\": 0.4922348420912188}}}\u001b[0m\n",
            "\u001b[34m#metrics {\"StartTime\": 1650871878.6497366, \"EndTime\": 1650871878.6497447, \"Dimensions\": {\"Algorithm\": \"Linear Learner\", \"Host\": \"algo-1\", \"Operation\": \"training\", \"epoch\": 3, \"model\": 5}, \"Metrics\": {\"validation_binary_classification_cross_entropy_objective\": {\"sum\": 0.5098898201370569, \"count\": 1, \"min\": 0.5098898201370569, \"max\": 0.5098898201370569}}}\u001b[0m\n",
            "\u001b[34m#metrics {\"StartTime\": 1650871878.6497707, \"EndTime\": 1650871878.6497784, \"Dimensions\": {\"Algorithm\": \"Linear Learner\", \"Host\": \"algo-1\", \"Operation\": \"training\", \"epoch\": 3, \"model\": 6}, \"Metrics\": {\"validation_binary_classification_cross_entropy_objective\": {\"sum\": 0.49223484003878903, \"count\": 1, \"min\": 0.49223484003878903, \"max\": 0.49223484003878903}}}\u001b[0m\n",
            "\u001b[34m#metrics {\"StartTime\": 1650871878.6498103, \"EndTime\": 1650871878.6498246, \"Dimensions\": {\"Algorithm\": \"Linear Learner\", \"Host\": \"algo-1\", \"Operation\": \"training\", \"epoch\": 3, \"model\": 7}, \"Metrics\": {\"validation_binary_classification_cross_entropy_objective\": {\"sum\": 0.509889809501739, \"count\": 1, \"min\": 0.509889809501739, \"max\": 0.509889809501739}}}\u001b[0m\n",
            "\u001b[34m#metrics {\"StartTime\": 1650871878.6498885, \"EndTime\": 1650871878.649906, \"Dimensions\": {\"Algorithm\": \"Linear Learner\", \"Host\": \"algo-1\", \"Operation\": \"training\", \"epoch\": 3, \"model\": 8}, \"Metrics\": {\"validation_binary_classification_cross_entropy_objective\": {\"sum\": 0.4923294346606552, \"count\": 1, \"min\": 0.4923294346606552, \"max\": 0.4923294346606552}}}\u001b[0m\n",
            "\u001b[34m#metrics {\"StartTime\": 1650871878.6499624, \"EndTime\": 1650871878.6499794, \"Dimensions\": {\"Algorithm\": \"Linear Learner\", \"Host\": \"algo-1\", \"Operation\": \"training\", \"epoch\": 3, \"model\": 9}, \"Metrics\": {\"validation_binary_classification_cross_entropy_objective\": {\"sum\": 0.4934420958305757, \"count\": 1, \"min\": 0.4934420958305757, \"max\": 0.4934420958305757}}}\u001b[0m\n",
            "\u001b[34m#metrics {\"StartTime\": 1650871878.6500432, \"EndTime\": 1650871878.6500595, \"Dimensions\": {\"Algorithm\": \"Linear Learner\", \"Host\": \"algo-1\", \"Operation\": \"training\", \"epoch\": 3, \"model\": 10}, \"Metrics\": {\"validation_binary_classification_cross_entropy_objective\": {\"sum\": 0.4923341683100235, \"count\": 1, \"min\": 0.4923341683100235, \"max\": 0.4923341683100235}}}\u001b[0m\n",
            "\u001b[34m#metrics {\"StartTime\": 1650871878.6501155, \"EndTime\": 1650871878.6501307, \"Dimensions\": {\"Algorithm\": \"Linear Learner\", \"Host\": \"algo-1\", \"Operation\": \"training\", \"epoch\": 3, \"model\": 11}, \"Metrics\": {\"validation_binary_classification_cross_entropy_objective\": {\"sum\": 0.4934421070256471, \"count\": 1, \"min\": 0.4934421070256471, \"max\": 0.4934421070256471}}}\u001b[0m\n",
            "\u001b[34m#metrics {\"StartTime\": 1650871878.650198, \"EndTime\": 1650871878.6502373, \"Dimensions\": {\"Algorithm\": \"Linear Learner\", \"Host\": \"algo-1\", \"Operation\": \"training\", \"epoch\": 3, \"model\": 12}, \"Metrics\": {\"validation_binary_classification_cross_entropy_objective\": {\"sum\": 0.4924139615547873, \"count\": 1, \"min\": 0.4924139615547873, \"max\": 0.4924139615547873}}}\u001b[0m\n",
            "\u001b[34m#metrics {\"StartTime\": 1650871878.6502929, \"EndTime\": 1650871878.6503098, \"Dimensions\": {\"Algorithm\": \"Linear Learner\", \"Host\": \"algo-1\", \"Operation\": \"training\", \"epoch\": 3, \"model\": 13}, \"Metrics\": {\"validation_binary_classification_cross_entropy_objective\": {\"sum\": 0.5089782523034859, \"count\": 1, \"min\": 0.5089782523034859, \"max\": 0.5089782523034859}}}\u001b[0m\n",
            "\u001b[34m#metrics {\"StartTime\": 1650871878.6503642, \"EndTime\": 1650871878.6503806, \"Dimensions\": {\"Algorithm\": \"Linear Learner\", \"Host\": \"algo-1\", \"Operation\": \"training\", \"epoch\": 3, \"model\": 14}, \"Metrics\": {\"validation_binary_classification_cross_entropy_objective\": {\"sum\": 0.4924139656596468, \"count\": 1, \"min\": 0.4924139656596468, \"max\": 0.4924139656596468}}}\u001b[0m\n",
            "\u001b[34m#metrics {\"StartTime\": 1650871878.6504276, \"EndTime\": 1650871878.650443, \"Dimensions\": {\"Algorithm\": \"Linear Learner\", \"Host\": \"algo-1\", \"Operation\": \"training\", \"epoch\": 3, \"model\": 15}, \"Metrics\": {\"validation_binary_classification_cross_entropy_objective\": {\"sum\": 0.5089781211345658, \"count\": 1, \"min\": 0.5089781211345658, \"max\": 0.5089781211345658}}}\u001b[0m\n",
            "\u001b[34m#metrics {\"StartTime\": 1650871878.6504958, \"EndTime\": 1650871878.6505108, \"Dimensions\": {\"Algorithm\": \"Linear Learner\", \"Host\": \"algo-1\", \"Operation\": \"training\", \"epoch\": 3, \"model\": 16}, \"Metrics\": {\"validation_binary_classification_cross_entropy_objective\": {\"sum\": 0.5077484779986933, \"count\": 1, \"min\": 0.5077484779986933, \"max\": 0.5077484779986933}}}\u001b[0m\n",
            "\u001b[34m#metrics {\"StartTime\": 1650871878.650564, \"EndTime\": 1650871878.6505792, \"Dimensions\": {\"Algorithm\": \"Linear Learner\", \"Host\": \"algo-1\", \"Operation\": \"training\", \"epoch\": 3, \"model\": 17}, \"Metrics\": {\"validation_binary_classification_cross_entropy_objective\": {\"sum\": 0.5078785331958885, \"count\": 1, \"min\": 0.5078785331958885, \"max\": 0.5078785331958885}}}\u001b[0m\n",
            "\u001b[34m#metrics {\"StartTime\": 1650871878.6506307, \"EndTime\": 1650871878.6506476, \"Dimensions\": {\"Algorithm\": \"Linear Learner\", \"Host\": \"algo-1\", \"Operation\": \"training\", \"epoch\": 3, \"model\": 18}, \"Metrics\": {\"validation_binary_classification_cross_entropy_objective\": {\"sum\": 0.50775800798983, \"count\": 1, \"min\": 0.50775800798983, \"max\": 0.50775800798983}}}\u001b[0m\n",
            "\u001b[34m#metrics {\"StartTime\": 1650871878.6507018, \"EndTime\": 1650871878.6507182, \"Dimensions\": {\"Algorithm\": \"Linear Learner\", \"Host\": \"algo-1\", \"Operation\": \"training\", \"epoch\": 3, \"model\": 19}, \"Metrics\": {\"validation_binary_classification_cross_entropy_objective\": {\"sum\": 0.5078784270292944, \"count\": 1, \"min\": 0.5078784270292944, \"max\": 0.5078784270292944}}}\u001b[0m\n",
            "\u001b[34m#metrics {\"StartTime\": 1650871878.6507683, \"EndTime\": 1650871878.6507847, \"Dimensions\": {\"Algorithm\": \"Linear Learner\", \"Host\": \"algo-1\", \"Operation\": \"training\", \"epoch\": 3, \"model\": 20}, \"Metrics\": {\"validation_binary_classification_cross_entropy_objective\": {\"sum\": 0.5077711788047791, \"count\": 1, \"min\": 0.5077711788047791, \"max\": 0.5077711788047791}}}\u001b[0m\n",
            "\u001b[34m#metrics {\"StartTime\": 1650871878.6508365, \"EndTime\": 1650871878.650854, \"Dimensions\": {\"Algorithm\": \"Linear Learner\", \"Host\": \"algo-1\", \"Operation\": \"training\", \"epoch\": 3, \"model\": 21}, \"Metrics\": {\"validation_binary_classification_cross_entropy_objective\": {\"sum\": 0.5094739392798193, \"count\": 1, \"min\": 0.5094739392798193, \"max\": 0.5094739392798193}}}\u001b[0m\n",
            "\u001b[34m#metrics {\"StartTime\": 1650871878.6509058, \"EndTime\": 1650871878.6509225, \"Dimensions\": {\"Algorithm\": \"Linear Learner\", \"Host\": \"algo-1\", \"Operation\": \"training\", \"epoch\": 3, \"model\": 22}, \"Metrics\": {\"validation_binary_classification_cross_entropy_objective\": {\"sum\": 0.5077711771255183, \"count\": 1, \"min\": 0.5077711771255183, \"max\": 0.5077711771255183}}}\u001b[0m\n",
            "\u001b[34m#metrics {\"StartTime\": 1650871878.6509748, \"EndTime\": 1650871878.65099, \"Dimensions\": {\"Algorithm\": \"Linear Learner\", \"Host\": \"algo-1\", \"Operation\": \"training\", \"epoch\": 3, \"model\": 23}, \"Metrics\": {\"validation_binary_classification_cross_entropy_objective\": {\"sum\": 0.5094738489729098, \"count\": 1, \"min\": 0.5094738489729098, \"max\": 0.5094738489729098}}}\u001b[0m\n",
            "\u001b[34m#metrics {\"StartTime\": 1650871878.6510441, \"EndTime\": 1650871878.6510608, \"Dimensions\": {\"Algorithm\": \"Linear Learner\", \"Host\": \"algo-1\", \"Operation\": \"training\", \"epoch\": 3, \"model\": 24}, \"Metrics\": {\"validation_binary_classification_cross_entropy_objective\": {\"sum\": 0.5137551293876799, \"count\": 1, \"min\": 0.5137551293876799, \"max\": 0.5137551293876799}}}\u001b[0m\n",
            "\u001b[34m#metrics {\"StartTime\": 1650871878.6511273, \"EndTime\": 1650871878.6511452, \"Dimensions\": {\"Algorithm\": \"Linear Learner\", \"Host\": \"algo-1\", \"Operation\": \"training\", \"epoch\": 3, \"model\": 25}, \"Metrics\": {\"validation_binary_classification_cross_entropy_objective\": {\"sum\": 0.5144588071704534, \"count\": 1, \"min\": 0.5144588071704534, \"max\": 0.5144588071704534}}}\u001b[0m\n",
            "\u001b[34m#metrics {\"StartTime\": 1650871878.65121, \"EndTime\": 1650871878.6512315, \"Dimensions\": {\"Algorithm\": \"Linear Learner\", \"Host\": \"algo-1\", \"Operation\": \"training\", \"epoch\": 3, \"model\": 26}, \"Metrics\": {\"validation_binary_classification_cross_entropy_objective\": {\"sum\": 0.5137517337359316, \"count\": 1, \"min\": 0.5137517337359316, \"max\": 0.5137517337359316}}}\u001b[0m\n",
            "\u001b[34m#metrics {\"StartTime\": 1650871878.6513016, \"EndTime\": 1650871878.6513178, \"Dimensions\": {\"Algorithm\": \"Linear Learner\", \"Host\": \"algo-1\", \"Operation\": \"training\", \"epoch\": 3, \"model\": 27}, \"Metrics\": {\"validation_binary_classification_cross_entropy_objective\": {\"sum\": 0.5144526957809615, \"count\": 1, \"min\": 0.5144526957809615, \"max\": 0.5144526957809615}}}\u001b[0m\n",
            "\u001b[34m#metrics {\"StartTime\": 1650871878.6513827, \"EndTime\": 1650871878.6514006, \"Dimensions\": {\"Algorithm\": \"Linear Learner\", \"Host\": \"algo-1\", \"Operation\": \"training\", \"epoch\": 3, \"model\": 28}, \"Metrics\": {\"validation_binary_classification_cross_entropy_objective\": {\"sum\": 0.5137692306996491, \"count\": 1, \"min\": 0.5137692306996491, \"max\": 0.5137692306996491}}}\u001b[0m\n",
            "\u001b[34m#metrics {\"StartTime\": 1650871878.6514604, \"EndTime\": 1650871878.6514764, \"Dimensions\": {\"Algorithm\": \"Linear Learner\", \"Host\": \"algo-1\", \"Operation\": \"training\", \"epoch\": 3, \"model\": 29}, \"Metrics\": {\"validation_binary_classification_cross_entropy_objective\": {\"sum\": 0.5138910496827955, \"count\": 1, \"min\": 0.5138910496827955, \"max\": 0.5138910496827955}}}\u001b[0m\n",
            "\u001b[34m#metrics {\"StartTime\": 1650871878.651528, \"EndTime\": 1650871878.651544, \"Dimensions\": {\"Algorithm\": \"Linear Learner\", \"Host\": \"algo-1\", \"Operation\": \"training\", \"epoch\": 3, \"model\": 30}, \"Metrics\": {\"validation_binary_classification_cross_entropy_objective\": {\"sum\": 0.5137763565491968, \"count\": 1, \"min\": 0.5137763565491968, \"max\": 0.5137763565491968}}}\u001b[0m\n",
            "\u001b[34m#metrics {\"StartTime\": 1650871878.6515963, \"EndTime\": 1650871878.6516132, \"Dimensions\": {\"Algorithm\": \"Linear Learner\", \"Host\": \"algo-1\", \"Operation\": \"training\", \"epoch\": 3, \"model\": 31}, \"Metrics\": {\"validation_binary_classification_cross_entropy_objective\": {\"sum\": 0.5138910506157182, \"count\": 1, \"min\": 0.5138910506157182, \"max\": 0.5138910506157182}}}\u001b[0m\n",
            "\u001b[34m[04/25/2022 07:31:18 INFO 140418656159552] #quality_metric: host=algo-1, epoch=3, validation binary_classification_cross_entropy_objective <loss>=0.4921280603280129\u001b[0m\n",
            "\u001b[34m[04/25/2022 07:31:18 INFO 140418656159552] #early_stopping_criteria_metric: host=algo-1, epoch=3, criteria=binary_classification_cross_entropy_objective, value=0.4921280603280129\u001b[0m\n",
            "\u001b[34m[04/25/2022 07:31:18 INFO 140418656159552] Saving model for epoch: 3\u001b[0m\n",
            "\u001b[34m[04/25/2022 07:31:18 INFO 140418656159552] Saved checkpoint to \"/tmp/tmps0lakuc6/mx-mod-0000.params\"\u001b[0m\n",
            "\u001b[34m[04/25/2022 07:31:18 INFO 140418656159552] #progress_metric: host=algo-1, completed 26.666666666666668 % of epochs\u001b[0m\n",
            "\u001b[34m#metrics {\"StartTime\": 1650871812.2618392, \"EndTime\": 1650871878.6587143, \"Dimensions\": {\"Algorithm\": \"Linear Learner\", \"Host\": \"algo-1\", \"Operation\": \"training\", \"epoch\": 3, \"Meta\": \"training_data_iter\"}, \"Metrics\": {\"Total Records Seen\": {\"sum\": 5245888.0, \"count\": 1, \"min\": 5245888, \"max\": 5245888}, \"Total Batches Seen\": {\"sum\": 5248.0, \"count\": 1, \"min\": 5248, \"max\": 5248}, \"Max Records Seen Between Resets\": {\"sum\": 1308472.0, \"count\": 1, \"min\": 1308472, \"max\": 1308472}, \"Max Batches Seen Between Resets\": {\"sum\": 1309.0, \"count\": 1, \"min\": 1309, \"max\": 1309}, \"Reset Count\": {\"sum\": 6.0, \"count\": 1, \"min\": 6, \"max\": 6}, \"Number of Records Since Last Reset\": {\"sum\": 1308472.0, \"count\": 1, \"min\": 1308472, \"max\": 1308472}, \"Number of Batches Since Last Reset\": {\"sum\": 1309.0, \"count\": 1, \"min\": 1309, \"max\": 1309}}}\u001b[0m\n",
            "\u001b[34m[04/25/2022 07:31:18 INFO 140418656159552] #throughput_metric: host=algo-1, train throughput=19706.80238040497 records/second\u001b[0m\n",
            "\u001b[34m[2022-04-25 07:32:19.753] [tensorio] [info] epoch_stats={\"data_pipeline\": \"/opt/ml/input/data/train\", \"epoch\": 11, \"duration\": 61093, \"num_examples\": 1309, \"num_bytes\": 554792128}\u001b[0m\n",
            "\u001b[34m#metrics {\"StartTime\": 1650871939.7537305, \"EndTime\": 1650871939.7539122, \"Dimensions\": {\"Algorithm\": \"Linear Learner\", \"Host\": \"algo-1\", \"Operation\": \"training\", \"epoch\": 4, \"model\": 0}, \"Metrics\": {\"train_binary_classification_cross_entropy_objective\": {\"sum\": 0.49181687941244984, \"count\": 1, \"min\": 0.49181687941244984, \"max\": 0.49181687941244984}}}\u001b[0m\n",
            "\u001b[34m#metrics {\"StartTime\": 1650871939.7543645, \"EndTime\": 1650871939.7543888, \"Dimensions\": {\"Algorithm\": \"Linear Learner\", \"Host\": \"algo-1\", \"Operation\": \"training\", \"epoch\": 4, \"model\": 1}, \"Metrics\": {\"train_binary_classification_cross_entropy_objective\": {\"sum\": 0.49269859171642805, \"count\": 1, \"min\": 0.49269859171642805, \"max\": 0.49269859171642805}}}\u001b[0m\n",
            "\u001b[34m#metrics {\"StartTime\": 1650871939.7544692, \"EndTime\": 1650871939.754491, \"Dimensions\": {\"Algorithm\": \"Linear Learner\", \"Host\": \"algo-1\", \"Operation\": \"training\", \"epoch\": 4, \"model\": 2}, \"Metrics\": {\"train_binary_classification_cross_entropy_objective\": {\"sum\": 0.49185958855305245, \"count\": 1, \"min\": 0.49185958855305245, \"max\": 0.49185958855305245}}}\u001b[0m\n",
            "\u001b[34m#metrics {\"StartTime\": 1650871939.7545524, \"EndTime\": 1650871939.7545726, \"Dimensions\": {\"Algorithm\": \"Linear Learner\", \"Host\": \"algo-1\", \"Operation\": \"training\", \"epoch\": 4, \"model\": 3}, \"Metrics\": {\"train_binary_classification_cross_entropy_objective\": {\"sum\": 0.49269870487411455, \"count\": 1, \"min\": 0.49269870487411455, \"max\": 0.49269870487411455}}}\u001b[0m\n",
            "\u001b[34m#metrics {\"StartTime\": 1650871939.7546318, \"EndTime\": 1650871939.7546513, \"Dimensions\": {\"Algorithm\": \"Linear Learner\", \"Host\": \"algo-1\", \"Operation\": \"training\", \"epoch\": 4, \"model\": 4}, \"Metrics\": {\"train_binary_classification_cross_entropy_objective\": {\"sum\": 0.4919258398820136, \"count\": 1, \"min\": 0.4919258398820136, \"max\": 0.4919258398820136}}}\u001b[0m\n",
            "\u001b[34m#metrics {\"StartTime\": 1650871939.75471, \"EndTime\": 1650871939.7547288, \"Dimensions\": {\"Algorithm\": \"Linear Learner\", \"Host\": \"algo-1\", \"Operation\": \"training\", \"epoch\": 4, \"model\": 5}, \"Metrics\": {\"train_binary_classification_cross_entropy_objective\": {\"sum\": 0.5070815449985889, \"count\": 1, \"min\": 0.5070815449985889, \"max\": 0.5070815449985889}}}\u001b[0m\n",
            "\u001b[34m#metrics {\"StartTime\": 1650871939.7547834, \"EndTime\": 1650871939.754802, \"Dimensions\": {\"Algorithm\": \"Linear Learner\", \"Host\": \"algo-1\", \"Operation\": \"training\", \"epoch\": 4, \"model\": 6}, \"Metrics\": {\"train_binary_classification_cross_entropy_objective\": {\"sum\": 0.49192584048863214, \"count\": 1, \"min\": 0.49192584048863214, \"max\": 0.49192584048863214}}}\u001b[0m\n",
            "\u001b[34m#metrics {\"StartTime\": 1650871939.7548566, \"EndTime\": 1650871939.7548745, \"Dimensions\": {\"Algorithm\": \"Linear Learner\", \"Host\": \"algo-1\", \"Operation\": \"training\", \"epoch\": 4, \"model\": 7}, \"Metrics\": {\"train_binary_classification_cross_entropy_objective\": {\"sum\": 0.5070815305330703, \"count\": 1, \"min\": 0.5070815305330703, \"max\": 0.5070815305330703}}}\u001b[0m\n",
            "\u001b[34m#metrics {\"StartTime\": 1650871939.7549298, \"EndTime\": 1650871939.7549472, \"Dimensions\": {\"Algorithm\": \"Linear Learner\", \"Host\": \"algo-1\", \"Operation\": \"training\", \"epoch\": 4, \"model\": 8}, \"Metrics\": {\"train_binary_classification_cross_entropy_objective\": {\"sum\": 0.49202176474941617, \"count\": 1, \"min\": 0.49202176474941617, \"max\": 0.49202176474941617}}}\u001b[0m\n",
            "\u001b[34m#metrics {\"StartTime\": 1650871939.7550008, \"EndTime\": 1650871939.7550194, \"Dimensions\": {\"Algorithm\": \"Linear Learner\", \"Host\": \"algo-1\", \"Operation\": \"training\", \"epoch\": 4, \"model\": 9}, \"Metrics\": {\"train_binary_classification_cross_entropy_objective\": {\"sum\": 0.4928701535146171, \"count\": 1, \"min\": 0.4928701535146171, \"max\": 0.4928701535146171}}}\u001b[0m\n",
            "\u001b[34m#metrics {\"StartTime\": 1650871939.7550871, \"EndTime\": 1650871939.755106, \"Dimensions\": {\"Algorithm\": \"Linear Learner\", \"Host\": \"algo-1\", \"Operation\": \"training\", \"epoch\": 4, \"model\": 10}, \"Metrics\": {\"train_binary_classification_cross_entropy_objective\": {\"sum\": 0.4920637723590256, \"count\": 1, \"min\": 0.4920637723590256, \"max\": 0.4920637723590256}}}\u001b[0m\n",
            "\u001b[34m#metrics {\"StartTime\": 1650871939.7551708, \"EndTime\": 1650871939.7551894, \"Dimensions\": {\"Algorithm\": \"Linear Learner\", \"Host\": \"algo-1\", \"Operation\": \"training\", \"epoch\": 4, \"model\": 11}, \"Metrics\": {\"train_binary_classification_cross_entropy_objective\": {\"sum\": 0.49287015318797633, \"count\": 1, \"min\": 0.49287015318797633, \"max\": 0.49287015318797633}}}\u001b[0m\n",
            "\u001b[34m#metrics {\"StartTime\": 1650871939.7552993, \"EndTime\": 1650871939.755324, \"Dimensions\": {\"Algorithm\": \"Linear Learner\", \"Host\": \"algo-1\", \"Operation\": \"training\", \"epoch\": 4, \"model\": 12}, \"Metrics\": {\"train_binary_classification_cross_entropy_objective\": {\"sum\": 0.49214009343885134, \"count\": 1, \"min\": 0.49214009343885134, \"max\": 0.49214009343885134}}}\u001b[0m\n",
            "\u001b[34m#metrics {\"StartTime\": 1650871939.7554827, \"EndTime\": 1650871939.7555041, \"Dimensions\": {\"Algorithm\": \"Linear Learner\", \"Host\": \"algo-1\", \"Operation\": \"training\", \"epoch\": 4, \"model\": 13}, \"Metrics\": {\"train_binary_classification_cross_entropy_objective\": {\"sum\": 0.5062922742651144, \"count\": 1, \"min\": 0.5062922742651144, \"max\": 0.5062922742651144}}}\u001b[0m\n",
            "\u001b[34m#metrics {\"StartTime\": 1650871939.7555904, \"EndTime\": 1650871939.7556098, \"Dimensions\": {\"Algorithm\": \"Linear Learner\", \"Host\": \"algo-1\", \"Operation\": \"training\", \"epoch\": 4, \"model\": 14}, \"Metrics\": {\"train_binary_classification_cross_entropy_objective\": {\"sum\": 0.492140093858818, \"count\": 1, \"min\": 0.492140093858818, \"max\": 0.492140093858818}}}\u001b[0m\n",
            "\u001b[34m#metrics {\"StartTime\": 1650871939.7556734, \"EndTime\": 1650871939.755692, \"Dimensions\": {\"Algorithm\": \"Linear Learner\", \"Host\": \"algo-1\", \"Operation\": \"training\", \"epoch\": 4, \"model\": 15}, \"Metrics\": {\"train_binary_classification_cross_entropy_objective\": {\"sum\": 0.5062922744051032, \"count\": 1, \"min\": 0.5062922744051032, \"max\": 0.5062922744051032}}}\u001b[0m\n",
            "\u001b[34m#metrics {\"StartTime\": 1650871939.7557478, \"EndTime\": 1650871939.7557669, \"Dimensions\": {\"Algorithm\": \"Linear Learner\", \"Host\": \"algo-1\", \"Operation\": \"training\", \"epoch\": 4, \"model\": 16}, \"Metrics\": {\"train_binary_classification_cross_entropy_objective\": {\"sum\": 0.5077473876906462, \"count\": 1, \"min\": 0.5077473876906462, \"max\": 0.5077473876906462}}}\u001b[0m\n",
            "\u001b[34m#metrics {\"StartTime\": 1650871939.7558286, \"EndTime\": 1650871939.7558515, \"Dimensions\": {\"Algorithm\": \"Linear Learner\", \"Host\": \"algo-1\", \"Operation\": \"training\", \"epoch\": 4, \"model\": 17}, \"Metrics\": {\"train_binary_classification_cross_entropy_objective\": {\"sum\": 0.5079579021908821, \"count\": 1, \"min\": 0.5079579021908821, \"max\": 0.5079579021908821}}}\u001b[0m\n",
            "\u001b[34m#metrics {\"StartTime\": 1650871939.7559078, \"EndTime\": 1650871939.7559237, \"Dimensions\": {\"Algorithm\": \"Linear Learner\", \"Host\": \"algo-1\", \"Operation\": \"training\", \"epoch\": 4, \"model\": 18}, \"Metrics\": {\"train_binary_classification_cross_entropy_objective\": {\"sum\": 0.5077528669491456, \"count\": 1, \"min\": 0.5077528669491456, \"max\": 0.5077528669491456}}}\u001b[0m\n",
            "\u001b[34m#metrics {\"StartTime\": 1650871939.7559905, \"EndTime\": 1650871939.7560117, \"Dimensions\": {\"Algorithm\": \"Linear Learner\", \"Host\": \"algo-1\", \"Operation\": \"training\", \"epoch\": 4, \"model\": 19}, \"Metrics\": {\"train_binary_classification_cross_entropy_objective\": {\"sum\": 0.5079579003010322, \"count\": 1, \"min\": 0.5079579003010322, \"max\": 0.5079579003010322}}}\u001b[0m\n",
            "\u001b[34m#metrics {\"StartTime\": 1650871939.7560666, \"EndTime\": 1650871939.7560852, \"Dimensions\": {\"Algorithm\": \"Linear Learner\", \"Host\": \"algo-1\", \"Operation\": \"training\", \"epoch\": 4, \"model\": 20}, \"Metrics\": {\"train_binary_classification_cross_entropy_objective\": {\"sum\": 0.5077662074937733, \"count\": 1, \"min\": 0.5077662074937733, \"max\": 0.5077662074937733}}}\u001b[0m\n",
            "\u001b[34m#metrics {\"StartTime\": 1650871939.7561357, \"EndTime\": 1650871939.7561514, \"Dimensions\": {\"Algorithm\": \"Linear Learner\", \"Host\": \"algo-1\", \"Operation\": \"training\", \"epoch\": 4, \"model\": 21}, \"Metrics\": {\"train_binary_classification_cross_entropy_objective\": {\"sum\": 0.510386161407564, \"count\": 1, \"min\": 0.510386161407564, \"max\": 0.510386161407564}}}\u001b[0m\n",
            "\u001b[34m#metrics {\"StartTime\": 1650871939.756202, \"EndTime\": 1650871939.7562206, \"Dimensions\": {\"Algorithm\": \"Linear Learner\", \"Host\": \"algo-1\", \"Operation\": \"training\", \"epoch\": 4, \"model\": 22}, \"Metrics\": {\"train_binary_classification_cross_entropy_objective\": {\"sum\": 0.5077662067471659, \"count\": 1, \"min\": 0.5077662067471659, \"max\": 0.5077662067471659}}}\u001b[0m\n",
            "\u001b[34m#metrics {\"StartTime\": 1650871939.756282, \"EndTime\": 1650871939.7562938, \"Dimensions\": {\"Algorithm\": \"Linear Learner\", \"Host\": \"algo-1\", \"Operation\": \"training\", \"epoch\": 4, \"model\": 23}, \"Metrics\": {\"train_binary_classification_cross_entropy_objective\": {\"sum\": 0.5103861604509733, \"count\": 1, \"min\": 0.5103861604509733, \"max\": 0.5103861604509733}}}\u001b[0m\n",
            "\u001b[34m#metrics {\"StartTime\": 1650871939.7563455, \"EndTime\": 1650871939.7563622, \"Dimensions\": {\"Algorithm\": \"Linear Learner\", \"Host\": \"algo-1\", \"Operation\": \"training\", \"epoch\": 4, \"model\": 24}, \"Metrics\": {\"train_binary_classification_cross_entropy_objective\": {\"sum\": 0.5137661330196835, \"count\": 1, \"min\": 0.5137661330196835, \"max\": 0.5137661330196835}}}\u001b[0m\n",
            "\u001b[34m#metrics {\"StartTime\": 1650871939.756415, \"EndTime\": 1650871939.756434, \"Dimensions\": {\"Algorithm\": \"Linear Learner\", \"Host\": \"algo-1\", \"Operation\": \"training\", \"epoch\": 4, \"model\": 25}, \"Metrics\": {\"train_binary_classification_cross_entropy_objective\": {\"sum\": 0.5138571624055915, \"count\": 1, \"min\": 0.5138571624055915, \"max\": 0.5138571624055915}}}\u001b[0m\n",
            "\u001b[34m#metrics {\"StartTime\": 1650871939.7564857, \"EndTime\": 1650871939.7565033, \"Dimensions\": {\"Algorithm\": \"Linear Learner\", \"Host\": \"algo-1\", \"Operation\": \"training\", \"epoch\": 4, \"model\": 26}, \"Metrics\": {\"train_binary_classification_cross_entropy_objective\": {\"sum\": 0.5137698432152424, \"count\": 1, \"min\": 0.5137698432152424, \"max\": 0.5137698432152424}}}\u001b[0m\n",
            "\u001b[34m#metrics {\"StartTime\": 1650871939.756558, \"EndTime\": 1650871939.7565753, \"Dimensions\": {\"Algorithm\": \"Linear Learner\", \"Host\": \"algo-1\", \"Operation\": \"training\", \"epoch\": 4, \"model\": 27}, \"Metrics\": {\"train_binary_classification_cross_entropy_objective\": {\"sum\": 0.5138568388212711, \"count\": 1, \"min\": 0.5138568388212711, \"max\": 0.5138568388212711}}}\u001b[0m\n",
            "\u001b[34m#metrics {\"StartTime\": 1650871939.7566392, \"EndTime\": 1650871939.7566574, \"Dimensions\": {\"Algorithm\": \"Linear Learner\", \"Host\": \"algo-1\", \"Operation\": \"training\", \"epoch\": 4, \"model\": 28}, \"Metrics\": {\"train_binary_classification_cross_entropy_objective\": {\"sum\": 0.5137753497949069, \"count\": 1, \"min\": 0.5137753497949069, \"max\": 0.5137753497949069}}}\u001b[0m\n",
            "\u001b[34m#metrics {\"StartTime\": 1650871939.756713, \"EndTime\": 1650871939.756732, \"Dimensions\": {\"Algorithm\": \"Linear Learner\", \"Host\": \"algo-1\", \"Operation\": \"training\", \"epoch\": 4, \"model\": 29}, \"Metrics\": {\"train_binary_classification_cross_entropy_objective\": {\"sum\": 0.5147192754716319, \"count\": 1, \"min\": 0.5147192754716319, \"max\": 0.5147192754716319}}}\u001b[0m\n",
            "\u001b[34m#metrics {\"StartTime\": 1650871939.756784, \"EndTime\": 1650871939.7568023, \"Dimensions\": {\"Algorithm\": \"Linear Learner\", \"Host\": \"algo-1\", \"Operation\": \"training\", \"epoch\": 4, \"model\": 30}, \"Metrics\": {\"train_binary_classification_cross_entropy_objective\": {\"sum\": 0.5137754414409672, \"count\": 1, \"min\": 0.5137754414409672, \"max\": 0.5137754414409672}}}\u001b[0m\n",
            "\u001b[34m#metrics {\"StartTime\": 1650871939.7568552, \"EndTime\": 1650871939.7568724, \"Dimensions\": {\"Algorithm\": \"Linear Learner\", \"Host\": \"algo-1\", \"Operation\": \"training\", \"epoch\": 4, \"model\": 31}, \"Metrics\": {\"train_binary_classification_cross_entropy_objective\": {\"sum\": 0.5147192777581171, \"count\": 1, \"min\": 0.5147192777581171, \"max\": 0.5147192777581171}}}\u001b[0m\n",
            "\u001b[34m[04/25/2022 07:32:19 INFO 140418656159552] #quality_metric: host=algo-1, epoch=4, train binary_classification_cross_entropy_objective <loss>=0.49181687941244984\u001b[0m\n",
            "\u001b[34m[2022-04-25 07:32:25.141] [tensorio] [info] epoch_stats={\"data_pipeline\": \"/opt/ml/input/data/validation\", \"epoch\": 14, \"duration\": 5353, \"num_examples\": 164, \"num_bytes\": 69349016}\u001b[0m\n",
            "\u001b[34m#metrics {\"StartTime\": 1650871945.1509614, \"EndTime\": 1650871945.1510222, \"Dimensions\": {\"Algorithm\": \"Linear Learner\", \"Host\": \"algo-1\", \"Operation\": \"training\", \"epoch\": 4, \"model\": 0}, \"Metrics\": {\"validation_binary_classification_cross_entropy_objective\": {\"sum\": 0.4921285346258723, \"count\": 1, \"min\": 0.4921285346258723, \"max\": 0.4921285346258723}}}\u001b[0m\n",
            "\u001b[34m#metrics {\"StartTime\": 1650871945.1511273, \"EndTime\": 1650871945.1511512, \"Dimensions\": {\"Algorithm\": \"Linear Learner\", \"Host\": \"algo-1\", \"Operation\": \"training\", \"epoch\": 4, \"model\": 1}, \"Metrics\": {\"validation_binary_classification_cross_entropy_objective\": {\"sum\": 0.49313722567477564, \"count\": 1, \"min\": 0.49313722567477564, \"max\": 0.49313722567477564}}}\u001b[0m\n",
            "\u001b[34m#metrics {\"StartTime\": 1650871945.1512148, \"EndTime\": 1650871945.1512346, \"Dimensions\": {\"Algorithm\": \"Linear Learner\", \"Host\": \"algo-1\", \"Operation\": \"training\", \"epoch\": 4, \"model\": 2}, \"Metrics\": {\"validation_binary_classification_cross_entropy_objective\": {\"sum\": 0.49213483689133203, \"count\": 1, \"min\": 0.49213483689133203, \"max\": 0.49213483689133203}}}\u001b[0m\n",
            "\u001b[34m#metrics {\"StartTime\": 1650871945.1512935, \"EndTime\": 1650871945.1513128, \"Dimensions\": {\"Algorithm\": \"Linear Learner\", \"Host\": \"algo-1\", \"Operation\": \"training\", \"epoch\": 4, \"model\": 3}, \"Metrics\": {\"validation_binary_classification_cross_entropy_objective\": {\"sum\": 0.49313711279113875, \"count\": 1, \"min\": 0.49313711279113875, \"max\": 0.49313711279113875}}}\u001b[0m\n",
            "\u001b[34m#metrics {\"StartTime\": 1650871945.1513708, \"EndTime\": 1650871945.1513882, \"Dimensions\": {\"Algorithm\": \"Linear Learner\", \"Host\": \"algo-1\", \"Operation\": \"training\", \"epoch\": 4, \"model\": 4}, \"Metrics\": {\"validation_binary_classification_cross_entropy_objective\": {\"sum\": 0.49214119867725487, \"count\": 1, \"min\": 0.49214119867725487, \"max\": 0.49214119867725487}}}\u001b[0m\n",
            "\u001b[34m#metrics {\"StartTime\": 1650871945.1514423, \"EndTime\": 1650871945.1514604, \"Dimensions\": {\"Algorithm\": \"Linear Learner\", \"Host\": \"algo-1\", \"Operation\": \"training\", \"epoch\": 4, \"model\": 5}, \"Metrics\": {\"validation_binary_classification_cross_entropy_objective\": {\"sum\": 0.5079816515585546, \"count\": 1, \"min\": 0.5079816515585546, \"max\": 0.5079816515585546}}}\u001b[0m\n",
            "\u001b[34m#metrics {\"StartTime\": 1650871945.1515272, \"EndTime\": 1650871945.1515443, \"Dimensions\": {\"Algorithm\": \"Linear Learner\", \"Host\": \"algo-1\", \"Operation\": \"training\", \"epoch\": 4, \"model\": 6}, \"Metrics\": {\"validation_binary_classification_cross_entropy_objective\": {\"sum\": 0.4921411938260572, \"count\": 1, \"min\": 0.4921411938260572, \"max\": 0.4921411938260572}}}\u001b[0m\n",
            "\u001b[34m#metrics {\"StartTime\": 1650871945.1516223, \"EndTime\": 1650871945.1516428, \"Dimensions\": {\"Algorithm\": \"Linear Learner\", \"Host\": \"algo-1\", \"Operation\": \"training\", \"epoch\": 4, \"model\": 7}, \"Metrics\": {\"validation_binary_classification_cross_entropy_objective\": {\"sum\": 0.5079816332732713, \"count\": 1, \"min\": 0.5079816332732713, \"max\": 0.5079816332732713}}}\u001b[0m\n",
            "\u001b[34m#metrics {\"StartTime\": 1650871945.1516984, \"EndTime\": 1650871945.1517165, \"Dimensions\": {\"Algorithm\": \"Linear Learner\", \"Host\": \"algo-1\", \"Operation\": \"training\", \"epoch\": 4, \"model\": 8}, \"Metrics\": {\"validation_binary_classification_cross_entropy_objective\": {\"sum\": 0.492331351443468, \"count\": 1, \"min\": 0.492331351443468, \"max\": 0.492331351443468}}}\u001b[0m\n",
            "\u001b[34m#metrics {\"StartTime\": 1650871945.15177, \"EndTime\": 1650871945.1517866, \"Dimensions\": {\"Algorithm\": \"Linear Learner\", \"Host\": \"algo-1\", \"Operation\": \"training\", \"epoch\": 4, \"model\": 9}, \"Metrics\": {\"validation_binary_classification_cross_entropy_objective\": {\"sum\": 0.49324688998228944, \"count\": 1, \"min\": 0.49324688998228944, \"max\": 0.49324688998228944}}}\u001b[0m\n",
            "\u001b[34m#metrics {\"StartTime\": 1650871945.15184, \"EndTime\": 1650871945.1518562, \"Dimensions\": {\"Algorithm\": \"Linear Learner\", \"Host\": \"algo-1\", \"Operation\": \"training\", \"epoch\": 4, \"model\": 10}, \"Metrics\": {\"validation_binary_classification_cross_entropy_objective\": {\"sum\": 0.4923343750456759, \"count\": 1, \"min\": 0.4923343750456759, \"max\": 0.4923343750456759}}}\u001b[0m\n",
            "\u001b[34m#metrics {\"StartTime\": 1650871945.1519122, \"EndTime\": 1650871945.15193, \"Dimensions\": {\"Algorithm\": \"Linear Learner\", \"Host\": \"algo-1\", \"Operation\": \"training\", \"epoch\": 4, \"model\": 11}, \"Metrics\": {\"validation_binary_classification_cross_entropy_objective\": {\"sum\": 0.4932468935273954, \"count\": 1, \"min\": 0.4932468935273954, \"max\": 0.4932468935273954}}}\u001b[0m\n",
            "\u001b[34m#metrics {\"StartTime\": 1650871945.1519852, \"EndTime\": 1650871945.152002, \"Dimensions\": {\"Algorithm\": \"Linear Learner\", \"Host\": \"algo-1\", \"Operation\": \"training\", \"epoch\": 4, \"model\": 12}, \"Metrics\": {\"validation_binary_classification_cross_entropy_objective\": {\"sum\": 0.4923426440986008, \"count\": 1, \"min\": 0.4923426440986008, \"max\": 0.4923426440986008}}}\u001b[0m\n",
            "\u001b[34m#metrics {\"StartTime\": 1650871945.1520588, \"EndTime\": 1650871945.152076, \"Dimensions\": {\"Algorithm\": \"Linear Learner\", \"Host\": \"algo-1\", \"Operation\": \"training\", \"epoch\": 4, \"model\": 13}, \"Metrics\": {\"validation_binary_classification_cross_entropy_objective\": {\"sum\": 0.5068218574586665, \"count\": 1, \"min\": 0.5068218574586665, \"max\": 0.5068218574586665}}}\u001b[0m\n",
            "\u001b[34m#metrics {\"StartTime\": 1650871945.1521332, \"EndTime\": 1650871945.15215, \"Dimensions\": {\"Algorithm\": \"Linear Learner\", \"Host\": \"algo-1\", \"Operation\": \"training\", \"epoch\": 4, \"model\": 14}, \"Metrics\": {\"validation_binary_classification_cross_entropy_objective\": {\"sum\": 0.4923426476437067, \"count\": 1, \"min\": 0.4923426476437067, \"max\": 0.4923426476437067}}}\u001b[0m\n",
            "\u001b[34m#metrics {\"StartTime\": 1650871945.152201, \"EndTime\": 1650871945.1522186, \"Dimensions\": {\"Algorithm\": \"Linear Learner\", \"Host\": \"algo-1\", \"Operation\": \"training\", \"epoch\": 4, \"model\": 15}, \"Metrics\": {\"validation_binary_classification_cross_entropy_objective\": {\"sum\": 0.5068218526074688, \"count\": 1, \"min\": 0.5068218526074688, \"max\": 0.5068218526074688}}}\u001b[0m\n",
            "\u001b[34m#metrics {\"StartTime\": 1650871945.1522706, \"EndTime\": 1650871945.1522887, \"Dimensions\": {\"Algorithm\": \"Linear Learner\", \"Host\": \"algo-1\", \"Operation\": \"training\", \"epoch\": 4, \"model\": 16}, \"Metrics\": {\"validation_binary_classification_cross_entropy_objective\": {\"sum\": 0.5077595271610226, \"count\": 1, \"min\": 0.5077595271610226, \"max\": 0.5077595271610226}}}\u001b[0m\n",
            "\u001b[34m#metrics {\"StartTime\": 1650871945.1523452, \"EndTime\": 1650871945.1523921, \"Dimensions\": {\"Algorithm\": \"Linear Learner\", \"Host\": \"algo-1\", \"Operation\": \"training\", \"epoch\": 4, \"model\": 17}, \"Metrics\": {\"validation_binary_classification_cross_entropy_objective\": {\"sum\": 0.5077596407909976, \"count\": 1, \"min\": 0.5077596407909976, \"max\": 0.5077596407909976}}}\u001b[0m\n",
            "\u001b[34m#metrics {\"StartTime\": 1650871945.152451, \"EndTime\": 1650871945.1524708, \"Dimensions\": {\"Algorithm\": \"Linear Learner\", \"Host\": \"algo-1\", \"Operation\": \"training\", \"epoch\": 4, \"model\": 18}, \"Metrics\": {\"validation_binary_classification_cross_entropy_objective\": {\"sum\": 0.5077580469859954, \"count\": 1, \"min\": 0.5077580469859954, \"max\": 0.5077580469859954}}}\u001b[0m\n",
            "\u001b[34m#metrics {\"StartTime\": 1650871945.1525261, \"EndTime\": 1650871945.1525435, \"Dimensions\": {\"Algorithm\": \"Linear Learner\", \"Host\": \"algo-1\", \"Operation\": \"training\", \"epoch\": 4, \"model\": 19}, \"Metrics\": {\"validation_binary_classification_cross_entropy_objective\": {\"sum\": 0.5077596176545166, \"count\": 1, \"min\": 0.5077596176545166, \"max\": 0.5077596176545166}}}\u001b[0m\n",
            "\u001b[34m#metrics {\"StartTime\": 1650871945.1525972, \"EndTime\": 1650871945.1526148, \"Dimensions\": {\"Algorithm\": \"Linear Learner\", \"Host\": \"algo-1\", \"Operation\": \"training\", \"epoch\": 4, \"model\": 20}, \"Metrics\": {\"validation_binary_classification_cross_entropy_objective\": {\"sum\": 0.5077657003099918, \"count\": 1, \"min\": 0.5077657003099918, \"max\": 0.5077657003099918}}}\u001b[0m\n",
            "\u001b[34m#metrics {\"StartTime\": 1650871945.15267, \"EndTime\": 1650871945.152686, \"Dimensions\": {\"Algorithm\": \"Linear Learner\", \"Host\": \"algo-1\", \"Operation\": \"training\", \"epoch\": 4, \"model\": 21}, \"Metrics\": {\"validation_binary_classification_cross_entropy_objective\": {\"sum\": 0.5093287145742563, \"count\": 1, \"min\": 0.5093287145742563, \"max\": 0.5093287145742563}}}\u001b[0m\n",
            "\u001b[34m#metrics {\"StartTime\": 1650871945.1527383, \"EndTime\": 1650871945.1527557, \"Dimensions\": {\"Algorithm\": \"Linear Learner\", \"Host\": \"algo-1\", \"Operation\": \"training\", \"epoch\": 4, \"model\": 22}, \"Metrics\": {\"validation_binary_classification_cross_entropy_objective\": {\"sum\": 0.5077656999368227, \"count\": 1, \"min\": 0.5077656999368227, \"max\": 0.5077656999368227}}}\u001b[0m\n",
            "\u001b[34m#metrics {\"StartTime\": 1650871945.1528094, \"EndTime\": 1650871945.1528275, \"Dimensions\": {\"Algorithm\": \"Linear Learner\", \"Host\": \"algo-1\", \"Operation\": \"training\", \"epoch\": 4, \"model\": 23}, \"Metrics\": {\"validation_binary_classification_cross_entropy_objective\": {\"sum\": 0.509328728008342, \"count\": 1, \"min\": 0.509328728008342, \"max\": 0.509328728008342}}}\u001b[0m\n",
            "\u001b[34m#metrics {\"StartTime\": 1650871945.152878, \"EndTime\": 1650871945.1528943, \"Dimensions\": {\"Algorithm\": \"Linear Learner\", \"Host\": \"algo-1\", \"Operation\": \"training\", \"epoch\": 4, \"model\": 24}, \"Metrics\": {\"validation_binary_classification_cross_entropy_objective\": {\"sum\": 0.5137596070430815, \"count\": 1, \"min\": 0.5137596070430815, \"max\": 0.5137596070430815}}}\u001b[0m\n",
            "\u001b[34m#metrics {\"StartTime\": 1650871945.1529493, \"EndTime\": 1650871945.1529677, \"Dimensions\": {\"Algorithm\": \"Linear Learner\", \"Host\": \"algo-1\", \"Operation\": \"training\", \"epoch\": 4, \"model\": 25}, \"Metrics\": {\"validation_binary_classification_cross_entropy_objective\": {\"sum\": 0.5143256931065754, \"count\": 1, \"min\": 0.5143256931065754, \"max\": 0.5143256931065754}}}\u001b[0m\n",
            "\u001b[34m#metrics {\"StartTime\": 1650871945.153022, \"EndTime\": 1650871945.1530387, \"Dimensions\": {\"Algorithm\": \"Linear Learner\", \"Host\": \"algo-1\", \"Operation\": \"training\", \"epoch\": 4, \"model\": 26}, \"Metrics\": {\"validation_binary_classification_cross_entropy_objective\": {\"sum\": 0.5137534460221064, \"count\": 1, \"min\": 0.5137534460221064, \"max\": 0.5137534460221064}}}\u001b[0m\n",
            "\u001b[34m#metrics {\"StartTime\": 1650871945.1531262, \"EndTime\": 1650871945.1531441, \"Dimensions\": {\"Algorithm\": \"Linear Learner\", \"Host\": \"algo-1\", \"Operation\": \"training\", \"epoch\": 4, \"model\": 27}, \"Metrics\": {\"validation_binary_classification_cross_entropy_objective\": {\"sum\": 0.5143277238925322, \"count\": 1, \"min\": 0.5143277238925322, \"max\": 0.5143277238925322}}}\u001b[0m\n",
            "\u001b[34m#metrics {\"StartTime\": 1650871945.1532, \"EndTime\": 1650871945.1532168, \"Dimensions\": {\"Algorithm\": \"Linear Learner\", \"Host\": \"algo-1\", \"Operation\": \"training\", \"epoch\": 4, \"model\": 28}, \"Metrics\": {\"validation_binary_classification_cross_entropy_objective\": {\"sum\": 0.5137540807826563, \"count\": 1, \"min\": 0.5137540807826563, \"max\": 0.5137540807826563}}}\u001b[0m\n",
            "\u001b[34m#metrics {\"StartTime\": 1650871945.1532724, \"EndTime\": 1650871945.1532888, \"Dimensions\": {\"Algorithm\": \"Linear Learner\", \"Host\": \"algo-1\", \"Operation\": \"training\", \"epoch\": 4, \"model\": 29}, \"Metrics\": {\"validation_binary_classification_cross_entropy_objective\": {\"sum\": 0.5138839471563134, \"count\": 1, \"min\": 0.5138839471563134, \"max\": 0.5138839471563134}}}\u001b[0m\n",
            "\u001b[34m#metrics {\"StartTime\": 1650871945.1533413, \"EndTime\": 1650871945.1533568, \"Dimensions\": {\"Algorithm\": \"Linear Learner\", \"Host\": \"algo-1\", \"Operation\": \"training\", \"epoch\": 4, \"model\": 30}, \"Metrics\": {\"validation_binary_classification_cross_entropy_objective\": {\"sum\": 0.5137537703060087, \"count\": 1, \"min\": 0.5137537703060087, \"max\": 0.5137537703060087}}}\u001b[0m\n",
            "\u001b[34m#metrics {\"StartTime\": 1650871945.1534235, \"EndTime\": 1650871945.153442, \"Dimensions\": {\"Algorithm\": \"Linear Learner\", \"Host\": \"algo-1\", \"Operation\": \"training\", \"epoch\": 4, \"model\": 31}, \"Metrics\": {\"validation_binary_classification_cross_entropy_objective\": {\"sum\": 0.5138838613274324, \"count\": 1, \"min\": 0.5138838613274324, \"max\": 0.5138838613274324}}}\u001b[0m\n",
            "\u001b[34m[04/25/2022 07:32:25 INFO 140418656159552] #quality_metric: host=algo-1, epoch=4, validation binary_classification_cross_entropy_objective <loss>=0.4921285346258723\u001b[0m\n",
            "\u001b[34m[04/25/2022 07:32:25 INFO 140418656159552] #early_stopping_criteria_metric: host=algo-1, epoch=4, criteria=binary_classification_cross_entropy_objective, value=0.4921285346258723\u001b[0m\n",
            "\u001b[34m[04/25/2022 07:32:25 INFO 140418656159552] Saving model for epoch: 4\u001b[0m\n",
            "\u001b[34m[04/25/2022 07:32:25 INFO 140418656159552] Saved checkpoint to \"/tmp/tmp5k0pdd8o/mx-mod-0000.params\"\u001b[0m\n",
            "\u001b[34m[04/25/2022 07:32:25 INFO 140418656159552] Early stop condition met. Stopping training.\u001b[0m\n",
            "\u001b[34m[04/25/2022 07:32:25 INFO 140418656159552] #progress_metric: host=algo-1, completed 100 % epochs\u001b[0m\n",
            "\u001b[34m#metrics {\"StartTime\": 1650871878.6601028, \"EndTime\": 1650871945.1614, \"Dimensions\": {\"Algorithm\": \"Linear Learner\", \"Host\": \"algo-1\", \"Operation\": \"training\", \"epoch\": 4, \"Meta\": \"training_data_iter\"}, \"Metrics\": {\"Total Records Seen\": {\"sum\": 6554360.0, \"count\": 1, \"min\": 6554360, \"max\": 6554360}, \"Total Batches Seen\": {\"sum\": 6557.0, \"count\": 1, \"min\": 6557, \"max\": 6557}, \"Max Records Seen Between Resets\": {\"sum\": 1308472.0, \"count\": 1, \"min\": 1308472, \"max\": 1308472}, \"Max Batches Seen Between Resets\": {\"sum\": 1309.0, \"count\": 1, \"min\": 1309, \"max\": 1309}, \"Reset Count\": {\"sum\": 7.0, \"count\": 1, \"min\": 7, \"max\": 7}, \"Number of Records Since Last Reset\": {\"sum\": 1308472.0, \"count\": 1, \"min\": 1308472, \"max\": 1308472}, \"Number of Batches Since Last Reset\": {\"sum\": 1309.0, \"count\": 1, \"min\": 1309, \"max\": 1309}}}\u001b[0m\n",
            "\u001b[34m[04/25/2022 07:32:25 INFO 140418656159552] #throughput_metric: host=algo-1, train throughput=19675.84297657742 records/second\u001b[0m\n",
            "\u001b[34m[04/25/2022 07:32:25 WARNING 140418656159552] wait_for_all_workers will not sync workers since the kv store is not running distributed\u001b[0m\n",
            "\u001b[34m[04/25/2022 07:32:25 WARNING 140418656159552] wait_for_all_workers will not sync workers since the kv store is not running distributed\u001b[0m\n",
            "\u001b[34m[2022-04-25 07:32:30.568] [tensorio] [info] epoch_stats={\"data_pipeline\": \"/opt/ml/input/data/validation\", \"epoch\": 17, \"duration\": 5373, \"num_examples\": 164, \"num_bytes\": 69349016}\u001b[0m\n",
            "\u001b[34m[04/25/2022 07:32:30 INFO 140418656159552] #early_stopping_criteria_metric: host=algo-1, epoch=4, criteria=binary_classification_cross_entropy_objective, value=0.4921285346258723\u001b[0m\n",
            "\u001b[34m[2022-04-25 07:32:31.475] [tensorio] [info] epoch_stats={\"data_pipeline\": \"/opt/ml/input/data/validation\", \"epoch\": 19, \"duration\": 892, \"num_examples\": 164, \"num_bytes\": 69349016}\u001b[0m\n",
            "\u001b[34m[04/25/2022 07:32:31 INFO 140418656159552] #validation_score (algo-1) : ('binary_classification_cross_entropy_objective', 0.49241518125781925)\u001b[0m\n",
            "\u001b[34m[04/25/2022 07:32:31 INFO 140418656159552] #validation_score (algo-1) : ('binary_classification_accuracy', 0.7902224885209619)\u001b[0m\n",
            "\u001b[34m[04/25/2022 07:32:31 INFO 140418656159552] #validation_score (algo-1) : ('binary_f_1.000', 0.006313533551507429)\u001b[0m\n",
            "\u001b[34m[04/25/2022 07:32:31 INFO 140418656159552] #validation_score (algo-1) : ('precision', 0.5561224489795918)\u001b[0m\n",
            "\u001b[34m[04/25/2022 07:32:31 INFO 140418656159552] #validation_score (algo-1) : ('recall', 0.0031747881047388808)\u001b[0m\n",
            "\u001b[34m[04/25/2022 07:32:31 INFO 140418656159552] #validation_score (algo-1) : ('roc_auc_score', 0.6433048027025757)\u001b[0m\n",
            "\u001b[34m[04/25/2022 07:32:31 INFO 140418656159552] #validation_score (algo-1) : ('binary_balanced_accuracy', 0.5)\u001b[0m\n",
            "\u001b[34m[04/25/2022 07:32:31 INFO 140418656159552] #validation_score (algo-1) : ('binary_log_loss', 0.7532718410503473)\u001b[0m\n",
            "\u001b[34m[04/25/2022 07:32:31 INFO 140418656159552] #quality_metric: host=algo-1, validation binary_classification_cross_entropy_objective <loss>=0.49241518125781925\u001b[0m\n",
            "\u001b[34m[04/25/2022 07:32:31 INFO 140418656159552] #quality_metric: host=algo-1, validation binary_classification_accuracy <score>=0.7902224885209619\u001b[0m\n",
            "\u001b[34m[04/25/2022 07:32:31 INFO 140418656159552] #quality_metric: host=algo-1, validation binary_f_1.000 <score>=0.006313533551507429\u001b[0m\n",
            "\u001b[34m[04/25/2022 07:32:31 INFO 140418656159552] #quality_metric: host=algo-1, validation precision <score>=0.5561224489795918\u001b[0m\n",
            "\u001b[34m[04/25/2022 07:32:31 INFO 140418656159552] #quality_metric: host=algo-1, validation recall <score>=0.0031747881047388808\u001b[0m\n",
            "\u001b[34m[04/25/2022 07:32:31 INFO 140418656159552] #quality_metric: host=algo-1, validation roc_auc_score <score>=0.6433048027025757\u001b[0m\n",
            "\u001b[34m[04/25/2022 07:32:31 INFO 140418656159552] #quality_metric: host=algo-1, validation binary_balanced_accuracy <score>=0.5\u001b[0m\n",
            "\u001b[34m[04/25/2022 07:32:31 INFO 140418656159552] #quality_metric: host=algo-1, validation binary_log_loss <score>=0.7532718410503473\u001b[0m\n",
            "\u001b[34m[04/25/2022 07:32:31 INFO 140418656159552] Best model found for hyperparameters: {\"optimizer\": \"adam\", \"learning_rate\": 0.005, \"wd\": 0.0001, \"l1\": 0.0, \"lr_scheduler_step\": 10, \"lr_scheduler_factor\": 0.99, \"lr_scheduler_minimum_lr\": 0.0001}\u001b[0m\n",
            "\u001b[34m[04/25/2022 07:32:31 INFO 140418656159552] Saved checkpoint to \"/tmp/tmpk0a6iey1/mx-mod-0000.params\"\u001b[0m\n",
            "\u001b[34m[2022-04-25 07:32:31.795] [tensorio] [info] epoch_stats={\"data_pipeline\": \"/opt/ml/input/data/test\", \"epoch\": 0, \"duration\": 339921, \"num_examples\": 1, \"num_bytes\": 424000}\u001b[0m\n",
            "\u001b[34m[2022-04-25 07:32:32.665] [tensorio] [info] epoch_stats={\"data_pipeline\": \"/opt/ml/input/data/test\", \"epoch\": 1, \"duration\": 869, \"num_examples\": 164, \"num_bytes\": 69349016}\u001b[0m\n",
            "\u001b[34m#metrics {\"StartTime\": 1650871951.7913864, \"EndTime\": 1650871952.9695494, \"Dimensions\": {\"Algorithm\": \"Linear Learner\", \"Host\": \"algo-1\", \"Operation\": \"training\", \"Meta\": \"test_data_iter\"}, \"Metrics\": {\"Total Records Seen\": {\"sum\": 163559.0, \"count\": 1, \"min\": 163559, \"max\": 163559}, \"Total Batches Seen\": {\"sum\": 164.0, \"count\": 1, \"min\": 164, \"max\": 164}, \"Max Records Seen Between Resets\": {\"sum\": 163559.0, \"count\": 1, \"min\": 163559, \"max\": 163559}, \"Max Batches Seen Between Resets\": {\"sum\": 164.0, \"count\": 1, \"min\": 164, \"max\": 164}, \"Reset Count\": {\"sum\": 1.0, \"count\": 1, \"min\": 1, \"max\": 1}, \"Number of Records Since Last Reset\": {\"sum\": 163559.0, \"count\": 1, \"min\": 163559, \"max\": 163559}, \"Number of Batches Since Last Reset\": {\"sum\": 164.0, \"count\": 1, \"min\": 164, \"max\": 164}}}\u001b[0m\n",
            "\u001b[34m[04/25/2022 07:32:32 INFO 140418656159552] #test_score (algo-1) : ('binary_classification_cross_entropy_objective', 0.49343209732569987)\u001b[0m\n",
            "\u001b[34m[04/25/2022 07:32:32 INFO 140418656159552] #test_score (algo-1) : ('binary_classification_accuracy', 0.7900390684707047)\u001b[0m\n",
            "\u001b[34m[04/25/2022 07:32:32 INFO 140418656159552] #test_score (algo-1) : ('binary_f_1.000', 0.0056750731099979735)\u001b[0m\n",
            "\u001b[34m[04/25/2022 07:32:32 INFO 140418656159552] #test_score (algo-1) : ('precision', 0.4803921568627451)\u001b[0m\n",
            "\u001b[34m[04/25/2022 07:32:32 INFO 140418656159552] #test_score (algo-1) : ('recall', 0.0028543966446276177)\u001b[0m\n",
            "\u001b[34m[04/25/2022 07:32:32 INFO 140418656159552] #test_score (algo-1) : ('roc_auc_score', 0.6402065684003)\u001b[0m\n",
            "\u001b[34m[04/25/2022 07:32:32 INFO 140418656159552] #test_score (algo-1) : ('binary_balanced_accuracy', 0.5)\u001b[0m\n",
            "\u001b[34m[04/25/2022 07:32:32 INFO 140418656159552] #test_score (algo-1) : ('binary_log_loss', 0.7535079176554553)\u001b[0m\n",
            "\u001b[34m[04/25/2022 07:32:32 INFO 140418656159552] #quality_metric: host=algo-1, test binary_classification_cross_entropy_objective <loss>=0.49343209732569987\u001b[0m\n",
            "\u001b[34m[04/25/2022 07:32:32 INFO 140418656159552] #quality_metric: host=algo-1, test binary_classification_accuracy <score>=0.7900390684707047\u001b[0m\n",
            "\u001b[34m[04/25/2022 07:32:32 INFO 140418656159552] #quality_metric: host=algo-1, test binary_f_1.000 <score>=0.0056750731099979735\u001b[0m\n",
            "\u001b[34m[04/25/2022 07:32:32 INFO 140418656159552] #quality_metric: host=algo-1, test precision <score>=0.4803921568627451\u001b[0m\n",
            "\u001b[34m[04/25/2022 07:32:32 INFO 140418656159552] #quality_metric: host=algo-1, test recall <score>=0.0028543966446276177\u001b[0m\n",
            "\u001b[34m[04/25/2022 07:32:32 INFO 140418656159552] #quality_metric: host=algo-1, test roc_auc_score <score>=0.6402065684003\u001b[0m\n",
            "\u001b[34m[04/25/2022 07:32:32 INFO 140418656159552] #quality_metric: host=algo-1, test binary_balanced_accuracy <score>=0.5\u001b[0m\n",
            "\u001b[34m[04/25/2022 07:32:32 INFO 140418656159552] #quality_metric: host=algo-1, test binary_log_loss <score>=0.7535079176554553\u001b[0m\n",
            "\u001b[34m#metrics {\"StartTime\": 1650871611.853659, \"EndTime\": 1650871952.9790866, \"Dimensions\": {\"Algorithm\": \"Linear Learner\", \"Host\": \"algo-1\", \"Operation\": \"training\"}, \"Metrics\": {\"initialize.time\": {\"sum\": 493.8337802886963, \"count\": 1, \"min\": 493.8337802886963, \"max\": 493.8337802886963}, \"epochs\": {\"sum\": 15.0, \"count\": 1, \"min\": 15, \"max\": 15}, \"check_early_stopping.time\": {\"sum\": 2.5434494018554688, \"count\": 6, \"min\": 0.23818016052246094, \"max\": 1.003265380859375}, \"update.time\": {\"sum\": 332738.39378356934, \"count\": 5, \"min\": 66393.74661445618, \"max\": 66675.79317092896}, \"finalize.time\": {\"sum\": 6626.1725425720215, \"count\": 1, \"min\": 6626.1725425720215, \"max\": 6626.1725425720215}, \"setuptime\": {\"sum\": 33.93721580505371, \"count\": 1, \"min\": 33.93721580505371, \"max\": 33.93721580505371}, \"totaltime\": {\"sum\": 341398.3778953552, \"count\": 1, \"min\": 341398.3778953552, \"max\": 341398.3778953552}}}\u001b[0m\n",
            "\u001b[34m[04/25/2022 07:32:32 INFO 140418656159552 integration.py:636] worker closed\u001b[0m\n",
            "\n",
            "2022-04-25 07:32:56 Uploading - Uploading generated training model\n",
            "2022-04-25 07:32:56 Completed - Training job completed\n",
            "Training seconds: 459\n",
            "Billable seconds: 459\n"
          ]
        }
      ],
      "source": [
        "### Fit the classifier\n",
        "classifier_estimator.fit([train_records,val_records,test_records])"
      ]
    },
    {
      "cell_type": "markdown",
      "metadata": {
        "id": "naEYu2lVd5Rb"
      },
      "source": [
        "## Model evaluation\n",
        "In this section, you will evaluate your trained model. "
      ]
    },
    {
      "cell_type": "markdown",
      "metadata": {
        "id": "qDuuBOrEd5Rb"
      },
      "source": [
        "First, examine the metrics for the training job:"
      ]
    },
    {
      "cell_type": "code",
      "execution_count": null,
      "metadata": {
        "id": "jQ7tUp06d5Rc",
        "outputId": "c07e4155-844a-4cda-a033-bd015a8eb374"
      },
      "outputs": [
        {
          "data": {
            "text/html": [
              "<div>\n",
              "<style scoped>\n",
              "    .dataframe tbody tr th:only-of-type {\n",
              "        vertical-align: middle;\n",
              "    }\n",
              "\n",
              "    .dataframe tbody tr th {\n",
              "        vertical-align: top;\n",
              "    }\n",
              "\n",
              "    .dataframe thead th {\n",
              "        text-align: right;\n",
              "    }\n",
              "</style>\n",
              "<table border=\"1\" class=\"dataframe\">\n",
              "  <thead>\n",
              "    <tr style=\"text-align: right;\">\n",
              "      <th></th>\n",
              "      <th>timestamp</th>\n",
              "      <th>metric_name</th>\n",
              "      <th>value</th>\n",
              "    </tr>\n",
              "  </thead>\n",
              "  <tbody>\n",
              "    <tr>\n",
              "      <th>0</th>\n",
              "      <td>0.0</td>\n",
              "      <td>test:objective_loss</td>\n",
              "      <td>0.493432</td>\n",
              "    </tr>\n",
              "    <tr>\n",
              "      <th>1</th>\n",
              "      <td>0.0</td>\n",
              "      <td>test:binary_f_beta</td>\n",
              "      <td>0.005675</td>\n",
              "    </tr>\n",
              "    <tr>\n",
              "      <th>2</th>\n",
              "      <td>0.0</td>\n",
              "      <td>test:precision</td>\n",
              "      <td>0.480392</td>\n",
              "    </tr>\n",
              "    <tr>\n",
              "      <th>3</th>\n",
              "      <td>0.0</td>\n",
              "      <td>test:recall</td>\n",
              "      <td>0.002854</td>\n",
              "    </tr>\n",
              "  </tbody>\n",
              "</table>\n",
              "</div>"
            ],
            "text/plain": [
              "   timestamp          metric_name     value\n",
              "0        0.0  test:objective_loss  0.493432\n",
              "1        0.0   test:binary_f_beta  0.005675\n",
              "2        0.0       test:precision  0.480392\n",
              "3        0.0          test:recall  0.002854"
            ]
          },
          "execution_count": 47,
          "metadata": {},
          "output_type": "execute_result"
        }
      ],
      "source": [
        "sagemaker.analytics.TrainingJobAnalytics(classifier_estimator._current_job_name, \n",
        "                                         metric_names = ['test:objective_loss', \n",
        "                                                         'test:binary_f_beta',\n",
        "                                                         'test:precision',\n",
        "                                                         'test:recall']\n",
        "                                        ).dataframe()"
      ]
    },
    {
      "cell_type": "markdown",
      "metadata": {
        "id": "8TsLqwvxd5Rc"
      },
      "source": [
        "Next, set up some functions that will help load the test data into Amazon S3 and perform a prediction by using the batch prediction function. Using batch prediction will help reduce costs because the instances will only run when predictions are performed on the supplied test data.\n",
        "\n",
        "**Note:** Replace `<LabBucketName>` with the name of the lab bucket that was created during the lab setup."
      ]
    },
    {
      "cell_type": "code",
      "execution_count": null,
      "metadata": {
        "id": "hE5eiJWwd5Rc"
      },
      "outputs": [],
      "source": [
        "import io\n",
        "bucket='sagemaker-us-east-1-351240002430'\n",
        "prefix='flight-linear'\n",
        "train_file='flight_train.csv'\n",
        "test_file='flight_test.csv'\n",
        "validate_file='flight_validate.csv'\n",
        "whole_file='flight.csv'\n",
        "s3_resource = boto3.Session().resource('s3')\n",
        "\n",
        "def upload_s3_csv(filename, folder, dataframe):\n",
        "    csv_buffer = io.StringIO()\n",
        "    dataframe.to_csv(csv_buffer, header=False, index=False )\n",
        "    s3_resource.Bucket(bucket).Object(os.path.join(prefix, folder, filename)).put(Body=csv_buffer.getvalue())"
      ]
    },
    {
      "cell_type": "code",
      "execution_count": null,
      "metadata": {
        "id": "peTY4vH5d5Rd"
      },
      "outputs": [],
      "source": [
        "def batch_linear_predict(test_data, estimator):\n",
        "    batch_X = test_data.iloc[:,1:];\n",
        "    batch_X_file='batch-in.csv'\n",
        "    upload_s3_csv(batch_X_file, 'batch-in', batch_X)\n",
        "\n",
        "    batch_output = \"s3://{}/{}/batch-out/\".format(bucket,prefix)\n",
        "    batch_input = \"s3://{}/{}/batch-in/{}\".format(bucket,prefix,batch_X_file)\n",
        "\n",
        "    classifier_transformer = estimator.transformer(instance_count=1,\n",
        "                                           instance_type='ml.m4.xlarge',\n",
        "                                           strategy='MultiRecord',\n",
        "                                           assemble_with='Line',\n",
        "                                           output_path=batch_output)\n",
        "\n",
        "    classifier_transformer.transform(data=batch_input,\n",
        "                             data_type='S3Prefix',\n",
        "                             content_type='text/csv',\n",
        "                             split_type='Line')\n",
        "    \n",
        "    classifier_transformer.wait()\n",
        "\n",
        "    s3 = boto3.client('s3')\n",
        "    obj = s3.get_object(Bucket=bucket, Key=\"{}/batch-out/{}\".format(prefix,'batch-in.csv.out'))\n",
        "    target_predicted_df = pd.read_json(io.BytesIO(obj['Body'].read()),orient=\"records\",lines=True)\n",
        "    return test_data.iloc[:,0], target_predicted_df.iloc[:,0]"
      ]
    },
    {
      "cell_type": "markdown",
      "metadata": {
        "id": "TsEGgrkFd5Re"
      },
      "source": [
        "\n",
        "To run the predictions on the test dataset, run the `batch_linear_predict` function (which was defined previously) on your test dataset.\n"
      ]
    },
    {
      "cell_type": "code",
      "execution_count": null,
      "metadata": {
        "id": "yRp_FYOfd5Rf",
        "outputId": "10531657-7d0b-431b-8d76-36061b4708a7"
      },
      "outputs": [
        {
          "name": "stderr",
          "output_type": "stream",
          "text": [
            "Defaulting to the only supported framework/algorithm version: 1. Ignoring framework/algorithm version: 1.\n"
          ]
        },
        {
          "name": "stdout",
          "output_type": "stream",
          "text": [
            "......................................\u001b[34mDocker entrypoint called with argument(s): serve\u001b[0m\n",
            "\u001b[34mRunning default environment configuration script\u001b[0m\n",
            "\u001b[34m[04/25/2022 07:40:49 INFO 140190273132352] loaded entry point class algorithm.serve.server_config:config_api\u001b[0m\n",
            "\u001b[34m[04/25/2022 07:40:49 INFO 140190273132352] loading entry points\u001b[0m\n",
            "\u001b[34m[04/25/2022 07:40:49 INFO 140190273132352] loaded request iterator application/json\u001b[0m\n",
            "\u001b[34m[04/25/2022 07:40:49 INFO 140190273132352] loaded request iterator application/jsonlines\u001b[0m\n",
            "\u001b[34m[04/25/2022 07:40:49 INFO 140190273132352] loaded request iterator application/x-recordio-protobuf\u001b[0m\n",
            "\u001b[34m[04/25/2022 07:40:49 INFO 140190273132352] loaded request iterator text/csv\u001b[0m\n",
            "\u001b[34m[04/25/2022 07:40:49 INFO 140190273132352] loaded response encoder application/json\u001b[0m\n",
            "\u001b[34m[04/25/2022 07:40:49 INFO 140190273132352] loaded response encoder application/jsonlines\u001b[0m\n",
            "\u001b[34m[04/25/2022 07:40:49 INFO 140190273132352] loaded response encoder application/x-recordio-protobuf\u001b[0m\n",
            "\u001b[34m[04/25/2022 07:40:49 INFO 140190273132352] loaded response encoder text/csv\u001b[0m\n",
            "\u001b[34m[04/25/2022 07:40:49 INFO 140190273132352] loaded entry point class algorithm:model\u001b[0m\n",
            "\u001b[34m[04/25/2022 07:40:49 INFO 140190273132352] Number of server workers: 4\u001b[0m\n",
            "\u001b[34m[04/25/2022 07:40:49 INFO 140190273132352] loading model...\u001b[0m\n",
            "\u001b[34m[04/25/2022 07:40:49 INFO 140190273132352] ...model loaded.\u001b[0m\n",
            "\u001b[34m[2022-04-25 07:40:49 +0000] [1] [INFO] Starting gunicorn 20.1.0\u001b[0m\n",
            "\u001b[34m[2022-04-25 07:40:49 +0000] [1] [INFO] Listening at: http://0.0.0.0:8080 (1)\u001b[0m\n",
            "\u001b[34m[2022-04-25 07:40:49 +0000] [1] [INFO] Using worker: sync\u001b[0m\n",
            "\u001b[34m[2022-04-25 07:40:49 +0000] [60] [INFO] Booting worker with pid: 60\u001b[0m\n",
            "\u001b[34m[2022-04-25 07:40:49 +0000] [69] [INFO] Booting worker with pid: 69\u001b[0m\n",
            "\u001b[34m[2022-04-25 07:40:50 +0000] [78] [INFO] Booting worker with pid: 78\u001b[0m\n",
            "\u001b[34m[2022-04-25 07:40:50 +0000] [87] [INFO] Booting worker with pid: 87\u001b[0m\n",
            "\u001b[34m#metrics {\"StartTime\": 1650872449.8421469, \"EndTime\": 1650872450.9870188, \"Dimensions\": {\"Algorithm\": \"LinearLearnerModel\", \"Host\": \"UNKNOWN\", \"Operation\": \"scoring\"}, \"Metrics\": {\"execution_parameters.count\": {\"sum\": 1.0, \"count\": 1, \"min\": 1, \"max\": 1}}}\u001b[0m\n",
            "\n",
            "\u001b[34m#metrics {\"StartTime\": 1650872449.8421469, \"EndTime\": 1650872453.9842958, \"Dimensions\": {\"Algorithm\": \"LinearLearnerModel\", \"Host\": \"UNKNOWN\", \"Operation\": \"scoring\"}, \"Metrics\": {\"json.encoder.time\": {\"sum\": 153.153657913208, \"count\": 1, \"min\": 153.153657913208, \"max\": 153.153657913208}, \"invocations.count\": {\"sum\": 1.0, \"count\": 1, \"min\": 1, \"max\": 1}}}\u001b[0m\n",
            "\u001b[35m#metrics {\"StartTime\": 1650872449.8421469, \"EndTime\": 1650872453.9842958, \"Dimensions\": {\"Algorithm\": \"LinearLearnerModel\", \"Host\": \"UNKNOWN\", \"Operation\": \"scoring\"}, \"Metrics\": {\"json.encoder.time\": {\"sum\": 153.153657913208, \"count\": 1, \"min\": 153.153657913208, \"max\": 153.153657913208}, \"invocations.count\": {\"sum\": 1.0, \"count\": 1, \"min\": 1, \"max\": 1}}}\u001b[0m\n",
            "\u001b[34m#metrics {\"StartTime\": 1650872449.8421469, \"EndTime\": 1650872454.0915003, \"Dimensions\": {\"Algorithm\": \"LinearLearnerModel\", \"Host\": \"UNKNOWN\", \"Operation\": \"scoring\"}, \"Metrics\": {\"json.encoder.time\": {\"sum\": 143.68820190429688, \"count\": 1, \"min\": 143.68820190429688, \"max\": 143.68820190429688}, \"invocations.count\": {\"sum\": 1.0, \"count\": 1, \"min\": 1, \"max\": 1}}}\u001b[0m\n",
            "\u001b[34m#metrics {\"StartTime\": 1650872449.8421469, \"EndTime\": 1650872454.1834302, \"Dimensions\": {\"Algorithm\": \"LinearLearnerModel\", \"Host\": \"UNKNOWN\", \"Operation\": \"scoring\"}, \"Metrics\": {\"json.encoder.time\": {\"sum\": 145.6601619720459, \"count\": 1, \"min\": 145.6601619720459, \"max\": 145.6601619720459}, \"invocations.count\": {\"sum\": 1.0, \"count\": 1, \"min\": 1, \"max\": 1}}}\u001b[0m\n",
            "\u001b[34m#metrics {\"StartTime\": 1650872450.9872522, \"EndTime\": 1650872454.1911676, \"Dimensions\": {\"Algorithm\": \"LinearLearnerModel\", \"Host\": \"UNKNOWN\", \"Operation\": \"scoring\"}, \"Metrics\": {\"json.encoder.time\": {\"sum\": 143.62692832946777, \"count\": 1, \"min\": 143.62692832946777, \"max\": 143.62692832946777}, \"invocations.count\": {\"sum\": 1.0, \"count\": 1, \"min\": 1, \"max\": 1}}}\u001b[0m\n",
            "\u001b[34m#metrics {\"StartTime\": 1650872453.984469, \"EndTime\": 1650872454.2973914, \"Dimensions\": {\"Algorithm\": \"LinearLearnerModel\", \"Host\": \"UNKNOWN\", \"Operation\": \"scoring\"}, \"Metrics\": {\"json.encoder.time\": {\"sum\": 7.95745849609375, \"count\": 1, \"min\": 7.95745849609375, \"max\": 7.95745849609375}, \"invocations.count\": {\"sum\": 1.0, \"count\": 1, \"min\": 1, \"max\": 1}}}\u001b[0m\n",
            "\u001b[35m#metrics {\"StartTime\": 1650872449.8421469, \"EndTime\": 1650872454.0915003, \"Dimensions\": {\"Algorithm\": \"LinearLearnerModel\", \"Host\": \"UNKNOWN\", \"Operation\": \"scoring\"}, \"Metrics\": {\"json.encoder.time\": {\"sum\": 143.68820190429688, \"count\": 1, \"min\": 143.68820190429688, \"max\": 143.68820190429688}, \"invocations.count\": {\"sum\": 1.0, \"count\": 1, \"min\": 1, \"max\": 1}}}\u001b[0m\n",
            "\u001b[35m#metrics {\"StartTime\": 1650872449.8421469, \"EndTime\": 1650872454.1834302, \"Dimensions\": {\"Algorithm\": \"LinearLearnerModel\", \"Host\": \"UNKNOWN\", \"Operation\": \"scoring\"}, \"Metrics\": {\"json.encoder.time\": {\"sum\": 145.6601619720459, \"count\": 1, \"min\": 145.6601619720459, \"max\": 145.6601619720459}, \"invocations.count\": {\"sum\": 1.0, \"count\": 1, \"min\": 1, \"max\": 1}}}\u001b[0m\n",
            "\u001b[35m#metrics {\"StartTime\": 1650872450.9872522, \"EndTime\": 1650872454.1911676, \"Dimensions\": {\"Algorithm\": \"LinearLearnerModel\", \"Host\": \"UNKNOWN\", \"Operation\": \"scoring\"}, \"Metrics\": {\"json.encoder.time\": {\"sum\": 143.62692832946777, \"count\": 1, \"min\": 143.62692832946777, \"max\": 143.62692832946777}, \"invocations.count\": {\"sum\": 1.0, \"count\": 1, \"min\": 1, \"max\": 1}}}\u001b[0m\n",
            "\u001b[35m#metrics {\"StartTime\": 1650872453.984469, \"EndTime\": 1650872454.2973914, \"Dimensions\": {\"Algorithm\": \"LinearLearnerModel\", \"Host\": \"UNKNOWN\", \"Operation\": \"scoring\"}, \"Metrics\": {\"json.encoder.time\": {\"sum\": 7.95745849609375, \"count\": 1, \"min\": 7.95745849609375, \"max\": 7.95745849609375}, \"invocations.count\": {\"sum\": 1.0, \"count\": 1, \"min\": 1, \"max\": 1}}}\u001b[0m\n",
            "\u001b[32m2022-04-25T07:40:50.996:[sagemaker logs]: MaxConcurrentTransforms=4, MaxPayloadInMB=6, BatchStrategy=MULTI_RECORD\u001b[0m\n",
            "\u001b[34m#metrics {\"StartTime\": 1650872454.0916865, \"EndTime\": 1650872455.0008433, \"Dimensions\": {\"Algorithm\": \"LinearLearnerModel\", \"Host\": \"UNKNOWN\", \"Operation\": \"scoring\"}, \"Metrics\": {\"json.encoder.time\": {\"sum\": 70.00541687011719, \"count\": 1, \"min\": 70.00541687011719, \"max\": 70.00541687011719}, \"invocations.count\": {\"sum\": 1.0, \"count\": 1, \"min\": 1, \"max\": 1}}}\u001b[0m\n",
            "\u001b[35m#metrics {\"StartTime\": 1650872454.0916865, \"EndTime\": 1650872455.0008433, \"Dimensions\": {\"Algorithm\": \"LinearLearnerModel\", \"Host\": \"UNKNOWN\", \"Operation\": \"scoring\"}, \"Metrics\": {\"json.encoder.time\": {\"sum\": 70.00541687011719, \"count\": 1, \"min\": 70.00541687011719, \"max\": 70.00541687011719}, \"invocations.count\": {\"sum\": 1.0, \"count\": 1, \"min\": 1, \"max\": 1}}}\u001b[0m\n",
            "\u001b[34mDocker entrypoint called with argument(s): serve\u001b[0m\n",
            "\u001b[34mRunning default environment configuration script\u001b[0m\n",
            "\u001b[35mDocker entrypoint called with argument(s): serve\u001b[0m\n",
            "\u001b[35mRunning default environment configuration script\u001b[0m\n",
            "\u001b[34m[04/25/2022 07:40:49 INFO 140190273132352] loaded entry point class algorithm.serve.server_config:config_api\u001b[0m\n",
            "\u001b[34m[04/25/2022 07:40:49 INFO 140190273132352] loading entry points\u001b[0m\n",
            "\u001b[34m[04/25/2022 07:40:49 INFO 140190273132352] loaded request iterator application/json\u001b[0m\n",
            "\u001b[34m[04/25/2022 07:40:49 INFO 140190273132352] loaded request iterator application/jsonlines\u001b[0m\n",
            "\u001b[34m[04/25/2022 07:40:49 INFO 140190273132352] loaded request iterator application/x-recordio-protobuf\u001b[0m\n",
            "\u001b[34m[04/25/2022 07:40:49 INFO 140190273132352] loaded request iterator text/csv\u001b[0m\n",
            "\u001b[34m[04/25/2022 07:40:49 INFO 140190273132352] loaded response encoder application/json\u001b[0m\n",
            "\u001b[34m[04/25/2022 07:40:49 INFO 140190273132352] loaded response encoder application/jsonlines\u001b[0m\n",
            "\u001b[34m[04/25/2022 07:40:49 INFO 140190273132352] loaded response encoder application/x-recordio-protobuf\u001b[0m\n",
            "\u001b[35m[04/25/2022 07:40:49 INFO 140190273132352] loaded entry point class algorithm.serve.server_config:config_api\u001b[0m\n",
            "\u001b[35m[04/25/2022 07:40:49 INFO 140190273132352] loading entry points\u001b[0m\n",
            "\u001b[35m[04/25/2022 07:40:49 INFO 140190273132352] loaded request iterator application/json\u001b[0m\n",
            "\u001b[35m[04/25/2022 07:40:49 INFO 140190273132352] loaded request iterator application/jsonlines\u001b[0m\n",
            "\u001b[35m[04/25/2022 07:40:49 INFO 140190273132352] loaded request iterator application/x-recordio-protobuf\u001b[0m\n",
            "\u001b[35m[04/25/2022 07:40:49 INFO 140190273132352] loaded request iterator text/csv\u001b[0m\n",
            "\u001b[35m[04/25/2022 07:40:49 INFO 140190273132352] loaded response encoder application/json\u001b[0m\n",
            "\u001b[35m[04/25/2022 07:40:49 INFO 140190273132352] loaded response encoder application/jsonlines\u001b[0m\n",
            "\u001b[35m[04/25/2022 07:40:49 INFO 140190273132352] loaded response encoder application/x-recordio-protobuf\u001b[0m\n",
            "\u001b[34m[04/25/2022 07:40:49 INFO 140190273132352] loaded response encoder text/csv\u001b[0m\n",
            "\u001b[34m[04/25/2022 07:40:49 INFO 140190273132352] loaded entry point class algorithm:model\u001b[0m\n",
            "\u001b[34m[04/25/2022 07:40:49 INFO 140190273132352] Number of server workers: 4\u001b[0m\n",
            "\u001b[34m[04/25/2022 07:40:49 INFO 140190273132352] loading model...\u001b[0m\n",
            "\u001b[34m[04/25/2022 07:40:49 INFO 140190273132352] ...model loaded.\u001b[0m\n",
            "\u001b[34m[2022-04-25 07:40:49 +0000] [1] [INFO] Starting gunicorn 20.1.0\u001b[0m\n",
            "\u001b[34m[2022-04-25 07:40:49 +0000] [1] [INFO] Listening at: http://0.0.0.0:8080 (1)\u001b[0m\n",
            "\u001b[34m[2022-04-25 07:40:49 +0000] [1] [INFO] Using worker: sync\u001b[0m\n",
            "\u001b[34m[2022-04-25 07:40:49 +0000] [60] [INFO] Booting worker with pid: 60\u001b[0m\n",
            "\u001b[34m[2022-04-25 07:40:49 +0000] [69] [INFO] Booting worker with pid: 69\u001b[0m\n",
            "\u001b[34m[2022-04-25 07:40:50 +0000] [78] [INFO] Booting worker with pid: 78\u001b[0m\n",
            "\u001b[34m[2022-04-25 07:40:50 +0000] [87] [INFO] Booting worker with pid: 87\u001b[0m\n",
            "\u001b[35m[04/25/2022 07:40:49 INFO 140190273132352] loaded response encoder text/csv\u001b[0m\n",
            "\u001b[35m[04/25/2022 07:40:49 INFO 140190273132352] loaded entry point class algorithm:model\u001b[0m\n",
            "\u001b[35m[04/25/2022 07:40:49 INFO 140190273132352] Number of server workers: 4\u001b[0m\n",
            "\u001b[35m[04/25/2022 07:40:49 INFO 140190273132352] loading model...\u001b[0m\n",
            "\u001b[35m[04/25/2022 07:40:49 INFO 140190273132352] ...model loaded.\u001b[0m\n",
            "\u001b[35m[2022-04-25 07:40:49 +0000] [1] [INFO] Starting gunicorn 20.1.0\u001b[0m\n",
            "\u001b[35m[2022-04-25 07:40:49 +0000] [1] [INFO] Listening at: http://0.0.0.0:8080 (1)\u001b[0m\n",
            "\u001b[35m[2022-04-25 07:40:49 +0000] [1] [INFO] Using worker: sync\u001b[0m\n",
            "\u001b[35m[2022-04-25 07:40:49 +0000] [60] [INFO] Booting worker with pid: 60\u001b[0m\n",
            "\u001b[35m[2022-04-25 07:40:49 +0000] [69] [INFO] Booting worker with pid: 69\u001b[0m\n",
            "\u001b[35m[2022-04-25 07:40:50 +0000] [78] [INFO] Booting worker with pid: 78\u001b[0m\n",
            "\u001b[35m[2022-04-25 07:40:50 +0000] [87] [INFO] Booting worker with pid: 87\u001b[0m\n",
            "\u001b[34m#metrics {\"StartTime\": 1650872449.8421469, \"EndTime\": 1650872450.9870188, \"Dimensions\": {\"Algorithm\": \"LinearLearnerModel\", \"Host\": \"UNKNOWN\", \"Operation\": \"scoring\"}, \"Metrics\": {\"execution_parameters.count\": {\"sum\": 1.0, \"count\": 1, \"min\": 1, \"max\": 1}}}\u001b[0m\n",
            "\u001b[35m#metrics {\"StartTime\": 1650872449.8421469, \"EndTime\": 1650872450.9870188, \"Dimensions\": {\"Algorithm\": \"LinearLearnerModel\", \"Host\": \"UNKNOWN\", \"Operation\": \"scoring\"}, \"Metrics\": {\"execution_parameters.count\": {\"sum\": 1.0, \"count\": 1, \"min\": 1, \"max\": 1}}}\u001b[0m\n",
            "\u001b[34m#metrics {\"StartTime\": 1650872449.8421469, \"EndTime\": 1650872453.9842958, \"Dimensions\": {\"Algorithm\": \"LinearLearnerModel\", \"Host\": \"UNKNOWN\", \"Operation\": \"scoring\"}, \"Metrics\": {\"json.encoder.time\": {\"sum\": 153.153657913208, \"count\": 1, \"min\": 153.153657913208, \"max\": 153.153657913208}, \"invocations.count\": {\"sum\": 1.0, \"count\": 1, \"min\": 1, \"max\": 1}}}\u001b[0m\n",
            "\u001b[35m#metrics {\"StartTime\": 1650872449.8421469, \"EndTime\": 1650872453.9842958, \"Dimensions\": {\"Algorithm\": \"LinearLearnerModel\", \"Host\": \"UNKNOWN\", \"Operation\": \"scoring\"}, \"Metrics\": {\"json.encoder.time\": {\"sum\": 153.153657913208, \"count\": 1, \"min\": 153.153657913208, \"max\": 153.153657913208}, \"invocations.count\": {\"sum\": 1.0, \"count\": 1, \"min\": 1, \"max\": 1}}}\u001b[0m\n",
            "\u001b[34m#metrics {\"StartTime\": 1650872449.8421469, \"EndTime\": 1650872454.0915003, \"Dimensions\": {\"Algorithm\": \"LinearLearnerModel\", \"Host\": \"UNKNOWN\", \"Operation\": \"scoring\"}, \"Metrics\": {\"json.encoder.time\": {\"sum\": 143.68820190429688, \"count\": 1, \"min\": 143.68820190429688, \"max\": 143.68820190429688}, \"invocations.count\": {\"sum\": 1.0, \"count\": 1, \"min\": 1, \"max\": 1}}}\u001b[0m\n",
            "\u001b[34m#metrics {\"StartTime\": 1650872449.8421469, \"EndTime\": 1650872454.1834302, \"Dimensions\": {\"Algorithm\": \"LinearLearnerModel\", \"Host\": \"UNKNOWN\", \"Operation\": \"scoring\"}, \"Metrics\": {\"json.encoder.time\": {\"sum\": 145.6601619720459, \"count\": 1, \"min\": 145.6601619720459, \"max\": 145.6601619720459}, \"invocations.count\": {\"sum\": 1.0, \"count\": 1, \"min\": 1, \"max\": 1}}}\u001b[0m\n",
            "\u001b[34m#metrics {\"StartTime\": 1650872450.9872522, \"EndTime\": 1650872454.1911676, \"Dimensions\": {\"Algorithm\": \"LinearLearnerModel\", \"Host\": \"UNKNOWN\", \"Operation\": \"scoring\"}, \"Metrics\": {\"json.encoder.time\": {\"sum\": 143.62692832946777, \"count\": 1, \"min\": 143.62692832946777, \"max\": 143.62692832946777}, \"invocations.count\": {\"sum\": 1.0, \"count\": 1, \"min\": 1, \"max\": 1}}}\u001b[0m\n",
            "\u001b[34m#metrics {\"StartTime\": 1650872453.984469, \"EndTime\": 1650872454.2973914, \"Dimensions\": {\"Algorithm\": \"LinearLearnerModel\", \"Host\": \"UNKNOWN\", \"Operation\": \"scoring\"}, \"Metrics\": {\"json.encoder.time\": {\"sum\": 7.95745849609375, \"count\": 1, \"min\": 7.95745849609375, \"max\": 7.95745849609375}, \"invocations.count\": {\"sum\": 1.0, \"count\": 1, \"min\": 1, \"max\": 1}}}\u001b[0m\n",
            "\u001b[35m#metrics {\"StartTime\": 1650872449.8421469, \"EndTime\": 1650872454.0915003, \"Dimensions\": {\"Algorithm\": \"LinearLearnerModel\", \"Host\": \"UNKNOWN\", \"Operation\": \"scoring\"}, \"Metrics\": {\"json.encoder.time\": {\"sum\": 143.68820190429688, \"count\": 1, \"min\": 143.68820190429688, \"max\": 143.68820190429688}, \"invocations.count\": {\"sum\": 1.0, \"count\": 1, \"min\": 1, \"max\": 1}}}\u001b[0m\n",
            "\u001b[35m#metrics {\"StartTime\": 1650872449.8421469, \"EndTime\": 1650872454.1834302, \"Dimensions\": {\"Algorithm\": \"LinearLearnerModel\", \"Host\": \"UNKNOWN\", \"Operation\": \"scoring\"}, \"Metrics\": {\"json.encoder.time\": {\"sum\": 145.6601619720459, \"count\": 1, \"min\": 145.6601619720459, \"max\": 145.6601619720459}, \"invocations.count\": {\"sum\": 1.0, \"count\": 1, \"min\": 1, \"max\": 1}}}\u001b[0m\n",
            "\u001b[35m#metrics {\"StartTime\": 1650872450.9872522, \"EndTime\": 1650872454.1911676, \"Dimensions\": {\"Algorithm\": \"LinearLearnerModel\", \"Host\": \"UNKNOWN\", \"Operation\": \"scoring\"}, \"Metrics\": {\"json.encoder.time\": {\"sum\": 143.62692832946777, \"count\": 1, \"min\": 143.62692832946777, \"max\": 143.62692832946777}, \"invocations.count\": {\"sum\": 1.0, \"count\": 1, \"min\": 1, \"max\": 1}}}\u001b[0m\n",
            "\u001b[35m#metrics {\"StartTime\": 1650872453.984469, \"EndTime\": 1650872454.2973914, \"Dimensions\": {\"Algorithm\": \"LinearLearnerModel\", \"Host\": \"UNKNOWN\", \"Operation\": \"scoring\"}, \"Metrics\": {\"json.encoder.time\": {\"sum\": 7.95745849609375, \"count\": 1, \"min\": 7.95745849609375, \"max\": 7.95745849609375}, \"invocations.count\": {\"sum\": 1.0, \"count\": 1, \"min\": 1, \"max\": 1}}}\u001b[0m\n",
            "\u001b[32m2022-04-25T07:40:50.996:[sagemaker logs]: MaxConcurrentTransforms=4, MaxPayloadInMB=6, BatchStrategy=MULTI_RECORD\u001b[0m\n",
            "\u001b[34m#metrics {\"StartTime\": 1650872454.0916865, \"EndTime\": 1650872455.0008433, \"Dimensions\": {\"Algorithm\": \"LinearLearnerModel\", \"Host\": \"UNKNOWN\", \"Operation\": \"scoring\"}, \"Metrics\": {\"json.encoder.time\": {\"sum\": 70.00541687011719, \"count\": 1, \"min\": 70.00541687011719, \"max\": 70.00541687011719}, \"invocations.count\": {\"sum\": 1.0, \"count\": 1, \"min\": 1, \"max\": 1}}}\u001b[0m\n",
            "\u001b[35m#metrics {\"StartTime\": 1650872454.0916865, \"EndTime\": 1650872455.0008433, \"Dimensions\": {\"Algorithm\": \"LinearLearnerModel\", \"Host\": \"UNKNOWN\", \"Operation\": \"scoring\"}, \"Metrics\": {\"json.encoder.time\": {\"sum\": 70.00541687011719, \"count\": 1, \"min\": 70.00541687011719, \"max\": 70.00541687011719}, \"invocations.count\": {\"sum\": 1.0, \"count\": 1, \"min\": 1, \"max\": 1}}}\u001b[0m\n"
          ]
        }
      ],
      "source": [
        "test_labels, target_predicted = batch_linear_predict(test, classifier_estimator)"
      ]
    },
    {
      "cell_type": "markdown",
      "metadata": {
        "id": "FVTq8XJud5Rf"
      },
      "source": [
        "To view a plot of the confusion matrix, and various scoring metrics, create a couple of functions:"
      ]
    },
    {
      "cell_type": "code",
      "execution_count": null,
      "metadata": {
        "id": "QLr09pQWd5Rg"
      },
      "outputs": [],
      "source": [
        "from sklearn.metrics import confusion_matrix\n",
        "\n",
        "def plot_confusion_matrix(test_labels, target_predicted):\n",
        "    matrix = confusion_matrix(test_labels, target_predicted)\n",
        "    df_confusion = pd.DataFrame(matrix)\n",
        "    colormap = sns.color_palette(\"BrBG\", 10)\n",
        "    sns.heatmap(df_confusion, annot=True, fmt='.2f', cbar=None, cmap=colormap)\n",
        "    plt.title(\"Confusion Matrix\")\n",
        "    plt.tight_layout()\n",
        "    plt.ylabel(\"True Class\")\n",
        "    plt.xlabel(\"Predicted Class\")\n",
        "    plt.show()\n",
        "    "
      ]
    },
    {
      "cell_type": "code",
      "execution_count": null,
      "metadata": {
        "id": "uVHaihyqd5Rh"
      },
      "outputs": [],
      "source": [
        "from sklearn import metrics\n",
        "\n",
        "def plot_roc(test_labels, target_predicted):\n",
        "    TN, FP, FN, TP = confusion_matrix(test_labels, target_predicted).ravel()\n",
        "    # Sensitivity, hit rate, recall, or true positive rate\n",
        "    Sensitivity  = float(TP)/(TP+FN)*100\n",
        "    # Specificity or true negative rate\n",
        "    Specificity  = float(TN)/(TN+FP)*100\n",
        "    # Precision or positive predictive value\n",
        "    Precision = float(TP)/(TP+FP)*100\n",
        "    # Negative predictive value\n",
        "    NPV = float(TN)/(TN+FN)*100\n",
        "    # Fall out or false positive rate\n",
        "    FPR = float(FP)/(FP+TN)*100\n",
        "    # False negative rate\n",
        "    FNR = float(FN)/(TP+FN)*100\n",
        "    # False discovery rate\n",
        "    FDR = float(FP)/(TP+FP)*100\n",
        "    # Overall accuracy\n",
        "    ACC = float(TP+TN)/(TP+FP+FN+TN)*100\n",
        "\n",
        "    print(\"Sensitivity or TPR: \", Sensitivity, \"%\") \n",
        "    print( \"Specificity or TNR: \",Specificity, \"%\") \n",
        "    print(\"Precision: \",Precision, \"%\") \n",
        "    print(\"Negative Predictive Value: \",NPV, \"%\") \n",
        "    print( \"False Positive Rate: \",FPR,\"%\")\n",
        "    print(\"False Negative Rate: \",FNR, \"%\") \n",
        "    print(\"False Discovery Rate: \",FDR, \"%\" )\n",
        "    print(\"Accuracy: \",ACC, \"%\") \n",
        "\n",
        "    test_labels = test.iloc[:,0];\n",
        "    print(\"Validation AUC\", metrics.roc_auc_score(test_labels, target_predicted) )\n",
        "\n",
        "    fpr, tpr, thresholds = metrics.roc_curve(test_labels, target_predicted)\n",
        "    roc_auc = metrics.auc(fpr, tpr)\n",
        "\n",
        "    plt.figure()\n",
        "    plt.plot(fpr, tpr, label='ROC curve (area = %0.2f)' % (roc_auc))\n",
        "    plt.plot([0, 1], [0, 1], 'k--')\n",
        "    plt.xlim([0.0, 1.0])\n",
        "    plt.ylim([0.0, 1.05])\n",
        "    plt.xlabel('False Positive Rate')\n",
        "    plt.ylabel('True Positive Rate')\n",
        "    plt.title('Receiver operating characteristic')\n",
        "    plt.legend(loc=\"lower right\")\n",
        "\n",
        "    # create the axis of thresholds (scores)\n",
        "    ax2 = plt.gca().twinx()\n",
        "    ax2.plot(fpr, thresholds, markeredgecolor='r',linestyle='dashed', color='r')\n",
        "    ax2.set_ylabel('Threshold',color='r')\n",
        "    ax2.set_ylim([thresholds[-1],thresholds[0]])\n",
        "    ax2.set_xlim([fpr[0],fpr[-1]])\n",
        "\n",
        "    print(plt.figure())"
      ]
    },
    {
      "cell_type": "markdown",
      "metadata": {
        "id": "Uu5y1CVcd5Ri"
      },
      "source": [
        "To plot the confusion matrix, call the `plot_confusion_matrix` function on the `test_labels` and the `target_predicted` data from your batch job:"
      ]
    },
    {
      "cell_type": "code",
      "execution_count": null,
      "metadata": {
        "id": "Y3ixlIoDd5Ri",
        "outputId": "a879145f-71be-4b30-b8db-656a39ced8e2"
      },
      "outputs": [
        {
          "data": {
            "image/png": "[encoded data removed]",
            "text/plain": [
              "<Figure size 432x288 with 1 Axes>"
            ]
          },
          "metadata": {
            "needs_background": "light"
          },
          "output_type": "display_data"
        }
      ],
      "source": [
        "plot_confusion_matrix(test_labels,target_predicted)"
      ]
    },
    {
      "cell_type": "markdown",
      "metadata": {
        "id": "WpC7nwlyd5Rj"
      },
      "source": [
        "To print statistics and plot a receiver operating characteristic (ROC) curve, call the `plot_roc` function on the `test_labels` and `target_predicted` data from your batch job:"
      ]
    },
    {
      "cell_type": "code",
      "execution_count": null,
      "metadata": {
        "id": "f3c0nqOQd5Rj",
        "outputId": "e4ccd5df-108e-48ee-dba3-e05b1c629358"
      },
      "outputs": [
        {
          "name": "stdout",
          "output_type": "stream",
          "text": [
            "Sensitivity or TPR:  0.28543966446276176 %\n",
            "Specificity or TNR:  99.91797316329531 %\n",
            "Precision:  48.03921568627451 %\n",
            "Negative Predictive Value:  79.04257598481834 %\n",
            "False Positive Rate:  0.08202683670468791 %\n",
            "False Negative Rate:  99.71456033553724 %\n",
            "False Discovery Rate:  51.9607843137255 %\n",
            "Accuracy:  79.00390684707047 %\n",
            "Validation AUC 0.5010170641387904\n",
            "Figure(432x288)\n"
          ]
        },
        {
          "data": {
            "image/png": "[encoded data removed]",
            "text/plain": [
              "<Figure size 432x288 with 2 Axes>"
            ]
          },
          "metadata": {
            "needs_background": "light"
          },
          "output_type": "display_data"
        },
        {
          "data": {
            "text/plain": [
              "<Figure size 432x288 with 0 Axes>"
            ]
          },
          "metadata": {},
          "output_type": "display_data"
        }
      ],
      "source": [
        "plot_roc(test_labels,target_predicted)"
      ]
    },
    {
      "cell_type": "markdown",
      "metadata": {
        "id": "c0ch2plXd5Rk"
      },
      "source": [
        "### Key questions to consider:\n",
        "\n",
        "1. How does your model's performance on the test set compare to its performance on the training set? What can you deduce from this comparison? \n",
        "2. Are there obvious differences between the outcomes of metrics like accuracy, precision, and recall? If so, why might you be seeing those differences? \n",
        "3. Given your business situation and goals, which metric (or metrics) is the most important for you to consider? Why?\n",
        "4. From a business standpoint, is the outcome for the metric (or metrics) that you consider to be the most important sufficient for what you need? If not, what are some things you might change in your next iteration? (This will happen in the feature engineering section, which is next.)\n",
        "\n",
        "Use the following cells to answer these (and other) questions. Insert and delete cells where needed.\n",
        "\n",
        "#### <span style=\"color: blue;\">Project presentation: In your project presentation, write down your answers to these questions -- and other similar questions that you might answer -- in this section. Record the key details and decisions that you made.</span>"
      ]
    },
    {
      "cell_type": "markdown",
      "metadata": {
        "id": "Pi0rKeWYd5Rk"
      },
      "source": [
        "\n",
        "**Question**: What can you summarize from the confusion matrix?\n"
      ]
    },
    {
      "cell_type": "code",
      "execution_count": null,
      "metadata": {
        "id": "gYlnls9zd5Rl"
      },
      "outputs": [],
      "source": [
        "จาก confusion matrix สรุปได้ว่าที่ predicted ว่าเครื่องบินจะ delay และเกิดการ delay จริงอยู่ที่ 98 \n",
        "predicted ว่าเครื่องบินจะ delay แต่ไม่ delay อยู่ที่ 106\n",
        "predicted ว่าเครื่องบินจะไม่ delay แต่เกิดการ delay อยู่ที่ 34235\n",
        "predicted ว่าเครื่องบินจะไม่ delay และไม่ delay จริงอยู่ที่ 129120"
      ]
    },
    {
      "cell_type": "markdown",
      "metadata": {
        "id": "FuDT17Ohd5Rl"
      },
      "source": [
        "## <span style=\"color:red\"> End of Step 3 </span>\n",
        "\n",
        "Save the project file to your local computer. Follow these steps:\n",
        "\n",
        "1. In the file explorer on the left, right-click the notebook that you're working on. \n",
        "\n",
        "2. Select **Download**, and save the file locally.  \n",
        "\n",
        "This action downloads the current notebook to the default download folder on your computer."
      ]
    },
    {
      "cell_type": "markdown",
      "metadata": {
        "id": "7tfU6pF4d5Rm"
      },
      "source": [
        "# Iteration II"
      ]
    },
    {
      "cell_type": "markdown",
      "metadata": {
        "id": "KAZC7qTyd5Rm"
      },
      "source": [
        "# Step 4: Feature engineering\n",
        "\n",
        "You have now gone through one iteration of training and evaluating your model. Given that the first outcome that you reached for your model probably wasn't sufficient for solving your business problem, what could you change about your data to possibly improve model performance?\n",
        "\n",
        "### Key questions to consider:\n",
        "\n",
        "1. How might the balance of your two main classes (*delay* and *no delay*) impact model performance?\n",
        "2. Do you have any features that are correlated?\n",
        "3. At this stage, could you perform any feature-reduction techniques that might have a positive impact on model performance? \n",
        "4. Can you think of adding some more data or datasets?\n",
        "5. After performing some feature engineering, how does the performance of your model compare to the first iteration?\n",
        "\n",
        "Use the following cells to perform specific feature-engineering techniques that you think could improve your model performance (use the previous questions as a guide). Insert and delete cells where needed.\n",
        "\n",
        "#### <span style=\"color: blue;\">Project presentation: In your project presentation, record your key decisions and the methods that you use in this section. Also include any new performance metrics that you obtain after you evaluate your model again.</span>\n",
        "\n",
        "Before you start, think about why the precision and recall are around 80 percent, and the accuracy is at 99 percent."
      ]
    },
    {
      "cell_type": "markdown",
      "metadata": {
        "id": "a8NEEvU4d5Rn"
      },
      "source": [
        "Add more features:\n",
        "\n",
        "1. Holidays\n",
        "2. Weather"
      ]
    },
    {
      "cell_type": "markdown",
      "metadata": {
        "id": "3O2OW4QXd5Ro"
      },
      "source": [
        "Because the list of holidays from 2014 to 2018 is known, you can create an indicator variable **is_holiday** to mark them.\n",
        "\n",
        "The hypothesis is that airplane delays could be higher during holidays compared to the rest of the days. Add a boolean variable `is_holiday` that includes the holidays for the years 2014-2018."
      ]
    },
    {
      "cell_type": "code",
      "execution_count": null,
      "metadata": {
        "id": "o4WhW1I8d5Ro"
      },
      "outputs": [],
      "source": [
        "# Source: http://www.calendarpedia.com/holidays/federal-holidays-2014.html\n",
        "\n",
        "holidays_14 = ['2014-01-01',  '2014-01-20', '2014-02-17', '2014-05-26', '2014-07-04', '2014-09-01', '2014-10-13', '2014-11-11', '2014-11-27', '2014-12-25' ] \n",
        "holidays_15 = ['2015-01-01',  '2015-01-19', '2015-02-16', '2015-05-25', '2015-06-03', '2015-07-04', '2015-09-07', '2015-10-12', '2015-11-11', '2015-11-26', '2015-12-25'] \n",
        "holidays_16 = ['2016-01-01',  '2016-01-18', '2016-02-15', '2016-05-30', '2016-07-04', '2016-09-05', '2016-10-10', '2016-11-11', '2016-11-24', '2016-12-25', '2016-12-26']\n",
        "holidays_17 = ['2017-01-02', '2017-01-16', '2017-02-20', '2017-05-29' , '2017-07-04', '2017-09-04' ,'2017-10-09', '2017-11-10', '2017-11-23', '2017-12-25']\n",
        "holidays_18 = ['2018-01-01', '2018-01-15', '2018-02-19', '2018-05-28' , '2018-07-04', '2018-09-03' ,'2018-10-08', '2018-11-12','2018-11-22', '2018-12-25']\n",
        "holidays = holidays_14+ holidays_15+ holidays_16 + holidays_17+ holidays_18\n",
        "\n",
        "### Add indicator variable for holidays\n",
        "data_orig['is_holiday'] = np.isin(data_orig['FlightDate'],holidays)"
      ]
    },
    {
      "cell_type": "markdown",
      "metadata": {
        "id": "cv32MnnFd5Rp"
      },
      "source": [
        "Weather data was fetched from https://www.ncei.noaa.gov/access/services/data/v1?dataset=daily-summaries&stations=USW00023174,USW00012960,USW00003017,USW00094846,USW00013874,USW00023234,USW00003927,USW00023183,USW00013881&dataTypes=AWND,PRCP,SNOW,SNWD,TAVG,TMIN,TMAX&startDate=2014-01-01&endDate=2018-12-31.\n",
        "<br>\n",
        "\n",
        "This dataset has information on wind speed, precipitation, snow, and temperature for cities by their airport codes.\n",
        "\n",
        "**Question**: Could bad weather because of rain, heavy winds, or snow lead to airplane delays? You will now check."
      ]
    },
    {
      "cell_type": "code",
      "execution_count": null,
      "metadata": {
        "id": "j5dGA_gXd5Rp",
        "outputId": "a59a80fb-2946-4cb1-b438-150679d1fec2"
      },
      "outputs": [
        {
          "name": "stdout",
          "output_type": "stream",
          "text": [
            "download: s3://aws-tc-largeobjects/CUR-TF-200-ACMLFO-1/flight_delay_project/data2/daily-summaries.csv to ../project/data/daily-summaries.csv\n"
          ]
        }
      ],
      "source": [
        "!aws s3 cp s3://aws-tc-largeobjects/CUR-TF-200-ACMLFO-1/flight_delay_project/data2/daily-summaries.csv /home/ec2-user/SageMaker/project/data/\n",
        "#!wget 'https://www.ncei.noaa.gov/access/services/data/v1?dataset=daily-summaries&stations=USW00023174,USW00012960,USW00003017,USW00094846,USW00013874,USW00023234,USW00003927,USW00023183,USW00013881&dataTypes=AWND,PRCP,SNOW,SNWD,TAVG,TMIN,TMAX&startDate=2014-01-01&endDate=2018-12-31' -O /home/ec2-user/SageMaker/project/data/daily-summaries.csv"
      ]
    },
    {
      "cell_type": "markdown",
      "metadata": {
        "id": "L1h216F-d5Rq"
      },
      "source": [
        "Import the weather data that was prepared for the airport codes in the dataset. Use the following stations and airports  for the analysis. Create a new column called *airport* that maps the weather station to the airport name."
      ]
    },
    {
      "cell_type": "code",
      "execution_count": null,
      "metadata": {
        "id": "6EkRmb6qd5Rq"
      },
      "outputs": [],
      "source": [
        "weather = pd.read_csv('/home/ec2-user/SageMaker/project/data/daily-summaries.csv')\n",
        "station = ['USW00023174','USW00012960','USW00003017','USW00094846','USW00013874','USW00023234','USW00003927','USW00023183','USW00013881'] \n",
        "airports = ['LAX', 'IAH', 'DEN', 'ORD', 'ATL', 'SFO', 'DFW', 'PHX', 'CLT']\n",
        "\n",
        "### Map weather stations to airport code\n",
        "station_map = {s:a for s,a in zip(station, airports)}\n",
        "weather['airport'] = weather['STATION'].map(station_map)"
      ]
    },
    {
      "cell_type": "markdown",
      "metadata": {
        "id": "p67doa79d5Rr"
      },
      "source": [
        "From the **DATE** column, create another column called *MONTH*."
      ]
    },
    {
      "cell_type": "code",
      "execution_count": null,
      "metadata": {
        "id": "U635rcvUd5Rr",
        "outputId": "81691d4b-da9b-4202-d03f-a16b4c536301"
      },
      "outputs": [
        {
          "data": {
            "text/html": [
              "<div>\n",
              "<style scoped>\n",
              "    .dataframe tbody tr th:only-of-type {\n",
              "        vertical-align: middle;\n",
              "    }\n",
              "\n",
              "    .dataframe tbody tr th {\n",
              "        vertical-align: top;\n",
              "    }\n",
              "\n",
              "    .dataframe thead th {\n",
              "        text-align: right;\n",
              "    }\n",
              "</style>\n",
              "<table border=\"1\" class=\"dataframe\">\n",
              "  <thead>\n",
              "    <tr style=\"text-align: right;\">\n",
              "      <th></th>\n",
              "      <th>STATION</th>\n",
              "      <th>DATE</th>\n",
              "      <th>AWND</th>\n",
              "      <th>PRCP</th>\n",
              "      <th>SNOW</th>\n",
              "      <th>SNWD</th>\n",
              "      <th>TAVG</th>\n",
              "      <th>TMAX</th>\n",
              "      <th>TMIN</th>\n",
              "      <th>airport</th>\n",
              "      <th>MONTH</th>\n",
              "    </tr>\n",
              "  </thead>\n",
              "  <tbody>\n",
              "    <tr>\n",
              "      <th>0</th>\n",
              "      <td>USW00023174</td>\n",
              "      <td>2014-01-01</td>\n",
              "      <td>16</td>\n",
              "      <td>0</td>\n",
              "      <td>NaN</td>\n",
              "      <td>NaN</td>\n",
              "      <td>131.0</td>\n",
              "      <td>178.0</td>\n",
              "      <td>78.0</td>\n",
              "      <td>LAX</td>\n",
              "      <td>01</td>\n",
              "    </tr>\n",
              "    <tr>\n",
              "      <th>1</th>\n",
              "      <td>USW00023174</td>\n",
              "      <td>2014-01-02</td>\n",
              "      <td>22</td>\n",
              "      <td>0</td>\n",
              "      <td>NaN</td>\n",
              "      <td>NaN</td>\n",
              "      <td>159.0</td>\n",
              "      <td>256.0</td>\n",
              "      <td>100.0</td>\n",
              "      <td>LAX</td>\n",
              "      <td>01</td>\n",
              "    </tr>\n",
              "    <tr>\n",
              "      <th>2</th>\n",
              "      <td>USW00023174</td>\n",
              "      <td>2014-01-03</td>\n",
              "      <td>17</td>\n",
              "      <td>0</td>\n",
              "      <td>NaN</td>\n",
              "      <td>NaN</td>\n",
              "      <td>140.0</td>\n",
              "      <td>178.0</td>\n",
              "      <td>83.0</td>\n",
              "      <td>LAX</td>\n",
              "      <td>01</td>\n",
              "    </tr>\n",
              "    <tr>\n",
              "      <th>3</th>\n",
              "      <td>USW00023174</td>\n",
              "      <td>2014-01-04</td>\n",
              "      <td>18</td>\n",
              "      <td>0</td>\n",
              "      <td>NaN</td>\n",
              "      <td>NaN</td>\n",
              "      <td>136.0</td>\n",
              "      <td>183.0</td>\n",
              "      <td>100.0</td>\n",
              "      <td>LAX</td>\n",
              "      <td>01</td>\n",
              "    </tr>\n",
              "    <tr>\n",
              "      <th>4</th>\n",
              "      <td>USW00023174</td>\n",
              "      <td>2014-01-05</td>\n",
              "      <td>18</td>\n",
              "      <td>0</td>\n",
              "      <td>NaN</td>\n",
              "      <td>NaN</td>\n",
              "      <td>151.0</td>\n",
              "      <td>244.0</td>\n",
              "      <td>83.0</td>\n",
              "      <td>LAX</td>\n",
              "      <td>01</td>\n",
              "    </tr>\n",
              "  </tbody>\n",
              "</table>\n",
              "</div>"
            ],
            "text/plain": [
              "       STATION        DATE  AWND  PRCP  SNOW  SNWD   TAVG   TMAX   TMIN  \\\n",
              "0  USW00023174  2014-01-01    16     0   NaN   NaN  131.0  178.0   78.0   \n",
              "1  USW00023174  2014-01-02    22     0   NaN   NaN  159.0  256.0  100.0   \n",
              "2  USW00023174  2014-01-03    17     0   NaN   NaN  140.0  178.0   83.0   \n",
              "3  USW00023174  2014-01-04    18     0   NaN   NaN  136.0  183.0  100.0   \n",
              "4  USW00023174  2014-01-05    18     0   NaN   NaN  151.0  244.0   83.0   \n",
              "\n",
              "  airport MONTH  \n",
              "0     LAX    01  \n",
              "1     LAX    01  \n",
              "2     LAX    01  \n",
              "3     LAX    01  \n",
              "4     LAX    01  "
            ]
          },
          "execution_count": 61,
          "metadata": {},
          "output_type": "execute_result"
        }
      ],
      "source": [
        "weather['MONTH'] = weather['DATE'].apply(lambda x: x.split('-')[1])\n",
        "weather.head()"
      ]
    },
    {
      "cell_type": "markdown",
      "metadata": {
        "id": "N6mesP3xd5Rs"
      },
      "source": [
        "### Sample output\n",
        "```\n",
        "  STATION     DATE      AWND PRCP SNOW SNWD TAVG TMAX  TMIN airport MONTH\n",
        "0 USW00023174 2014-01-01 16   0   NaN  NaN 131.0 178.0 78.0  LAX    01\n",
        "1 USW00023174 2014-01-02 22   0   NaN  NaN 159.0 256.0 100.0 LAX    01\n",
        "2 USW00023174 2014-01-03 17   0   NaN  NaN 140.0 178.0 83.0  LAX    01\n",
        "3 USW00023174 2014-01-04 18   0   NaN  NaN 136.0 183.0 100.0 LAX    01\n",
        "4 USW00023174 2014-01-05 18   0   NaN  NaN 151.0 244.0 83.0  LAX    01\n",
        "```"
      ]
    },
    {
      "cell_type": "markdown",
      "metadata": {
        "id": "jXepZdaWd5Rs"
      },
      "source": [
        "Analyze and handle the **SNOW** and **SNWD** columns for missing values by using `fillna()`. To check the missing values for all the columns, use the `isna()` function."
      ]
    },
    {
      "cell_type": "code",
      "execution_count": null,
      "metadata": {
        "id": "SsMrDQl3d5Ru",
        "outputId": "c44770a8-3f4f-492e-9f99-a701777518e5"
      },
      "outputs": [
        {
          "data": {
            "text/plain": [
              "STATION     0\n",
              "DATE        0\n",
              "AWND        0\n",
              "PRCP        0\n",
              "SNOW        0\n",
              "SNWD        0\n",
              "TAVG       62\n",
              "TMAX       20\n",
              "TMIN       20\n",
              "airport     0\n",
              "MONTH       0\n",
              "dtype: int64"
            ]
          },
          "execution_count": 62,
          "metadata": {},
          "output_type": "execute_result"
        }
      ],
      "source": [
        "weather.SNOW.fillna(0, inplace=True)\n",
        "weather.SNWD.fillna(0, inplace=True)\n",
        "weather.isna().sum()"
      ]
    },
    {
      "cell_type": "markdown",
      "metadata": {
        "id": "3oD2eUahd5Rv"
      },
      "source": [
        "**Question**: Print the index of the rows that have missing values for *TAVG*, *TMAX*, *TMIN*.\n",
        "\n",
        "**Hint**: To find the rows that are missing, use the `isna()` function. Then, to get the index, use the list on the *idx* variable."
      ]
    },
    {
      "cell_type": "code",
      "execution_count": null,
      "metadata": {
        "id": "9hkjjgigd5Rw",
        "outputId": "b87479f3-a3ec-46a9-aad9-47d76868b5da"
      },
      "outputs": [
        {
          "data": {
            "text/plain": [
              "array([ 3956,  3957,  3958,  3959,  3960,  3961,  3962,  3963,  3964,\n",
              "        3965,  3966,  3967,  3968,  3969,  3970,  3971,  3972,  3973,\n",
              "        3974,  3975,  3976,  3977,  3978,  3979,  3980,  3981,  3982,\n",
              "        3983,  3984,  3985,  4017,  4018,  4019,  4020,  4021,  4022,\n",
              "        4023,  4024,  4025,  4026,  4027,  4028,  4029,  4030,  4031,\n",
              "        4032,  4033,  4034,  4035,  4036,  4037,  4038,  4039,  4040,\n",
              "        4041,  4042,  4043,  4044,  4045,  4046,  4047, 13420])"
            ]
          },
          "execution_count": 63,
          "metadata": {},
          "output_type": "execute_result"
        }
      ],
      "source": [
        "idx = np.array([i for i in range(len(weather))])\n",
        "TAVG_idx = idx[weather.TAVG.isna()] \n",
        "TMAX_idx = idx[weather.TMAX.isna()] \n",
        "TMIN_idx = idx[weather.TMIN.isna()] \n",
        "TAVG_idx"
      ]
    },
    {
      "cell_type": "markdown",
      "metadata": {
        "id": "6MOVRQeJd5Rw"
      },
      "source": [
        "### Sample output\n",
        "\n",
        "```\n",
        "array([ 3956,  3957,  3958,  3959,  3960,  3961,  3962,  3963,  3964,\n",
        "        3965,  3966,  3967,  3968,  3969,  3970,  3971,  3972,  3973,\n",
        "        3974,  3975,  3976,  3977,  3978,  3979,  3980,  3981,  3982,\n",
        "        3983,  3984,  3985,  4017,  4018,  4019,  4020,  4021,  4022,\n",
        "        4023,  4024,  4025,  4026,  4027,  4028,  4029,  4030,  4031,\n",
        "        4032,  4033,  4034,  4035,  4036,  4037,  4038,  4039,  4040,\n",
        "        4041,  4042,  4043,  4044,  4045,  4046,  4047, 13420])\n",
        "```"
      ]
    },
    {
      "cell_type": "markdown",
      "metadata": {
        "id": "G1xEVn8md5Rx"
      },
      "source": [
        "You can replace the missing *TAVG*, *TMAX*, and *TMIN* values with the average value for a particular station or airport. Because consecutive rows of *TAVG_idx* are missing, replacing them with a previous value would not be possible. Instead, replace them with the mean. Use the `groupby` function to aggregate the variables with a mean value.\n",
        "\n",
        "**Hint:** Group by `MONTH` and `STATION`."
      ]
    },
    {
      "cell_type": "code",
      "execution_count": null,
      "metadata": {
        "id": "Xy3_1KGhd5Rx",
        "outputId": "cda27ef8-dc8e-4541-fa7f-21706b6cb292"
      },
      "outputs": [
        {
          "data": {
            "text/html": [
              "<div>\n",
              "<style scoped>\n",
              "    .dataframe tbody tr th:only-of-type {\n",
              "        vertical-align: middle;\n",
              "    }\n",
              "\n",
              "    .dataframe tbody tr th {\n",
              "        vertical-align: top;\n",
              "    }\n",
              "\n",
              "    .dataframe thead th {\n",
              "        text-align: right;\n",
              "    }\n",
              "</style>\n",
              "<table border=\"1\" class=\"dataframe\">\n",
              "  <thead>\n",
              "    <tr style=\"text-align: right;\">\n",
              "      <th></th>\n",
              "      <th>MONTH</th>\n",
              "      <th>STATION</th>\n",
              "      <th>TAVG</th>\n",
              "      <th>TMAX</th>\n",
              "      <th>TMIN</th>\n",
              "    </tr>\n",
              "  </thead>\n",
              "  <tbody>\n",
              "    <tr>\n",
              "      <th>0</th>\n",
              "      <td>01</td>\n",
              "      <td>USW00003017</td>\n",
              "      <td>-2.741935</td>\n",
              "      <td>74.000000</td>\n",
              "      <td>-69.858065</td>\n",
              "    </tr>\n",
              "    <tr>\n",
              "      <th>1</th>\n",
              "      <td>01</td>\n",
              "      <td>USW00003927</td>\n",
              "      <td>79.529032</td>\n",
              "      <td>143.767742</td>\n",
              "      <td>20.696774</td>\n",
              "    </tr>\n",
              "  </tbody>\n",
              "</table>\n",
              "</div>"
            ],
            "text/plain": [
              "  MONTH      STATION       TAVG        TMAX       TMIN\n",
              "0    01  USW00003017  -2.741935   74.000000 -69.858065\n",
              "1    01  USW00003927  79.529032  143.767742  20.696774"
            ]
          },
          "execution_count": 64,
          "metadata": {},
          "output_type": "execute_result"
        }
      ],
      "source": [
        "weather_impute = weather.groupby(['MONTH','STATION']).agg({'TAVG':'mean','TMAX':'mean', 'TMIN':'mean' }).reset_index()# Enter your code here\n",
        "weather_impute.head(2)"
      ]
    },
    {
      "cell_type": "markdown",
      "metadata": {
        "id": "f73d88fXd5Ry"
      },
      "source": [
        "Merge the mean data with the weather data."
      ]
    },
    {
      "cell_type": "code",
      "execution_count": null,
      "metadata": {
        "id": "WG8VPHkmd5Rz"
      },
      "outputs": [],
      "source": [
        "weather = pd.merge(weather, weather_impute,  how='left', left_on=['MONTH','STATION'], right_on = ['MONTH','STATION'])\\\n",
        ".rename(columns = {'TAVG_y':'TAVG_AVG',\n",
        "                   'TMAX_y':'TMAX_AVG', \n",
        "                   'TMIN_y':'TMIN_AVG',\n",
        "                   'TAVG_x':'TAVG',\n",
        "                   'TMAX_x':'TMAX', \n",
        "                   'TMIN_x':'TMIN'})"
      ]
    },
    {
      "cell_type": "markdown",
      "metadata": {
        "id": "3YjctIYVd5Rz"
      },
      "source": [
        "Check for missing values again."
      ]
    },
    {
      "cell_type": "code",
      "execution_count": null,
      "metadata": {
        "id": "Z4gfqiV2d5R0",
        "outputId": "cef26826-76a4-4ebd-92ba-bfb774729d10"
      },
      "outputs": [
        {
          "data": {
            "text/plain": [
              "STATION     0\n",
              "DATE        0\n",
              "AWND        0\n",
              "PRCP        0\n",
              "SNOW        0\n",
              "SNWD        0\n",
              "TAVG        0\n",
              "TMAX        0\n",
              "TMIN        0\n",
              "airport     0\n",
              "MONTH       0\n",
              "TAVG_AVG    0\n",
              "TMAX_AVG    0\n",
              "TMIN_AVG    0\n",
              "dtype: int64"
            ]
          },
          "execution_count": 66,
          "metadata": {},
          "output_type": "execute_result"
        }
      ],
      "source": [
        "weather.TAVG[TAVG_idx] = weather.TAVG_AVG[TAVG_idx]\n",
        "weather.TMAX[TMAX_idx] = weather.TMAX_AVG[TMAX_idx]\n",
        "weather.TMIN[TMIN_idx] = weather.TMIN_AVG[TMIN_idx]\n",
        "weather.isna().sum()"
      ]
    },
    {
      "cell_type": "markdown",
      "metadata": {
        "id": "cgjel5-zd5R1"
      },
      "source": [
        "Drop `STATION,MONTH,TAVG_AVG,TMAX_AVG,TMIN_AVG,TMAX,TMIN,SNWD` from the dataset."
      ]
    },
    {
      "cell_type": "code",
      "execution_count": null,
      "metadata": {
        "id": "v794Yibxd5R1"
      },
      "outputs": [],
      "source": [
        "weather.drop(columns=['STATION','MONTH','TAVG_AVG', 'TMAX_AVG', 'TMIN_AVG', 'TMAX' ,'TMIN', 'SNWD'],inplace=True)"
      ]
    },
    {
      "cell_type": "markdown",
      "metadata": {
        "id": "hZpqjuvod5R1"
      },
      "source": [
        "Add the origin and destination weather conditions to the dataset."
      ]
    },
    {
      "cell_type": "code",
      "execution_count": null,
      "metadata": {
        "id": "aPY0Ozqad5R2"
      },
      "outputs": [],
      "source": [
        "### Add origin weather conditions\n",
        "data_orig = pd.merge(data_orig, weather,  how='left', left_on=['FlightDate','Origin'], right_on = ['DATE','airport'])\\\n",
        ".rename(columns = {'AWND':'AWND_O','PRCP':'PRCP_O', 'TAVG':'TAVG_O', 'SNOW': 'SNOW_O'})\\\n",
        ".drop(columns=['DATE','airport'])\n",
        "\n",
        "### Add destination weather conditions\n",
        "data_orig = pd.merge(data_orig, weather,  how='left', left_on=['FlightDate','Dest'], right_on = ['DATE','airport'])\\\n",
        ".rename(columns = {'AWND':'AWND_D','PRCP':'PRCP_D', 'TAVG':'TAVG_D', 'SNOW': 'SNOW_D'})\\\n",
        ".drop(columns=['DATE','airport'])"
      ]
    },
    {
      "cell_type": "markdown",
      "metadata": {
        "id": "HqwzZiRPd5R3"
      },
      "source": [
        "**Note**: It's always a good practice to check for nulls or NAs after joins."
      ]
    },
    {
      "cell_type": "code",
      "execution_count": null,
      "metadata": {
        "id": "7s2eKbMNd5R3",
        "outputId": "4cd150f5-1e0f-4a57-aa9d-5f5fa0107c31"
      },
      "outputs": [
        {
          "data": {
            "text/plain": [
              "0"
            ]
          },
          "execution_count": 69,
          "metadata": {},
          "output_type": "execute_result"
        }
      ],
      "source": [
        "sum(data.isna().any())"
      ]
    },
    {
      "cell_type": "code",
      "execution_count": null,
      "metadata": {
        "id": "PbktYkaEd5R4",
        "outputId": "af5ff061-3583-4a22-a254-58e5223f5107"
      },
      "outputs": [
        {
          "data": {
            "text/plain": [
              "Index(['Year', 'Quarter', 'Month', 'DayofMonth', 'DayOfWeek', 'FlightDate',\n",
              "       'Reporting_Airline', 'Origin', 'OriginState', 'Dest', 'DestState',\n",
              "       'CRSDepTime', 'Cancelled', 'Diverted', 'Distance', 'DistanceGroup',\n",
              "       'ArrDelay', 'ArrDelayMinutes', 'is_delay', 'AirTime', 'DepHourofDay',\n",
              "       'is_holiday', 'AWND_O', 'PRCP_O', 'SNOW_O', 'TAVG_O', 'AWND_D',\n",
              "       'PRCP_D', 'SNOW_D', 'TAVG_D'],\n",
              "      dtype='object')"
            ]
          },
          "execution_count": 70,
          "metadata": {},
          "output_type": "execute_result"
        }
      ],
      "source": [
        "data_orig.columns"
      ]
    },
    {
      "cell_type": "markdown",
      "metadata": {
        "id": "IzyTwWTid5R4"
      },
      "source": [
        "Convert the categorical data into numerical data by using one-hot encoding."
      ]
    },
    {
      "cell_type": "code",
      "execution_count": null,
      "metadata": {
        "id": "8FC2EPPWd5R5"
      },
      "outputs": [],
      "source": [
        "data = data_orig.copy()\n",
        "data = data[['is_delay', 'Year', 'Quarter', 'Month', 'DayofMonth', 'DayOfWeek', \n",
        "       'Reporting_Airline', 'Origin', 'Dest','Distance','DepHourofDay','is_holiday', 'AWND_O', 'PRCP_O',\n",
        "       'TAVG_O', 'AWND_D', 'PRCP_D', 'TAVG_D', 'SNOW_O', 'SNOW_D']]\n",
        "\n",
        "\n",
        "categorical_columns  = ['Year', 'Quarter', 'Month', 'DayofMonth', 'DayOfWeek', \n",
        "       'Reporting_Airline', 'Origin', 'Dest', 'is_holiday']\n",
        "for c in categorical_columns:\n",
        "    data[c] = data[c].astype('category')"
      ]
    },
    {
      "cell_type": "code",
      "execution_count": null,
      "metadata": {
        "id": "kBMTJlw1d5R5"
      },
      "outputs": [],
      "source": [
        "data_dummies = pd.get_dummies(data[['Year', 'Quarter', 'Month', 'DayofMonth', 'DayOfWeek', 'Reporting_Airline', 'Origin', 'Dest', 'is_holiday']], drop_first=True)\n",
        "data = pd.concat([data, data_dummies], axis = 1)\n",
        "data.drop(categorical_columns,axis=1, inplace=True)"
      ]
    },
    {
      "cell_type": "markdown",
      "metadata": {
        "id": "6nKxdPNTd5R5"
      },
      "source": [
        "Check the new columns."
      ]
    },
    {
      "cell_type": "code",
      "execution_count": null,
      "metadata": {
        "id": "QYTRarrCd5R7",
        "outputId": "606a1340-f64e-44a0-cb6f-3e73bdcd95ee"
      },
      "outputs": [
        {
          "data": {
            "text/plain": [
              "(1635590, 86)"
            ]
          },
          "execution_count": 73,
          "metadata": {},
          "output_type": "execute_result"
        }
      ],
      "source": [
        "data.shape"
      ]
    },
    {
      "cell_type": "code",
      "execution_count": null,
      "metadata": {
        "id": "Z0KHoI22d5R8",
        "outputId": "5657166b-4325-46f0-9b43-ea5367be3086"
      },
      "outputs": [
        {
          "data": {
            "text/plain": [
              "Index(['is_delay', 'Distance', 'DepHourofDay', 'AWND_O', 'PRCP_O', 'TAVG_O',\n",
              "       'AWND_D', 'PRCP_D', 'TAVG_D', 'SNOW_O', 'SNOW_D', 'Year_2015',\n",
              "       'Year_2016', 'Year_2017', 'Year_2018', 'Quarter_2', 'Quarter_3',\n",
              "       'Quarter_4', 'Month_2', 'Month_3', 'Month_4', 'Month_5', 'Month_6',\n",
              "       'Month_7', 'Month_8', 'Month_9', 'Month_10', 'Month_11', 'Month_12',\n",
              "       'DayofMonth_2', 'DayofMonth_3', 'DayofMonth_4', 'DayofMonth_5',\n",
              "       'DayofMonth_6', 'DayofMonth_7', 'DayofMonth_8', 'DayofMonth_9',\n",
              "       'DayofMonth_10', 'DayofMonth_11', 'DayofMonth_12', 'DayofMonth_13',\n",
              "       'DayofMonth_14', 'DayofMonth_15', 'DayofMonth_16', 'DayofMonth_17',\n",
              "       'DayofMonth_18', 'DayofMonth_19', 'DayofMonth_20', 'DayofMonth_21',\n",
              "       'DayofMonth_22', 'DayofMonth_23', 'DayofMonth_24', 'DayofMonth_25',\n",
              "       'DayofMonth_26', 'DayofMonth_27', 'DayofMonth_28', 'DayofMonth_29',\n",
              "       'DayofMonth_30', 'DayofMonth_31', 'DayOfWeek_2', 'DayOfWeek_3',\n",
              "       'DayOfWeek_4', 'DayOfWeek_5', 'DayOfWeek_6', 'DayOfWeek_7',\n",
              "       'Reporting_Airline_DL', 'Reporting_Airline_OO', 'Reporting_Airline_UA',\n",
              "       'Reporting_Airline_WN', 'Origin_CLT', 'Origin_DEN', 'Origin_DFW',\n",
              "       'Origin_IAH', 'Origin_LAX', 'Origin_ORD', 'Origin_PHX', 'Origin_SFO',\n",
              "       'Dest_CLT', 'Dest_DEN', 'Dest_DFW', 'Dest_IAH', 'Dest_LAX', 'Dest_ORD',\n",
              "       'Dest_PHX', 'Dest_SFO', 'is_holiday_True'],\n",
              "      dtype='object')"
            ]
          },
          "execution_count": 74,
          "metadata": {},
          "output_type": "execute_result"
        }
      ],
      "source": [
        "data.columns"
      ]
    },
    {
      "cell_type": "markdown",
      "metadata": {
        "id": "OHfd1Aq1d5R8"
      },
      "source": [
        "### Sample output\n",
        "\n",
        "```\n",
        "Index(['Distance', 'DepHourofDay', 'is_delay', 'AWND_O', 'PRCP_O', 'TAVG_O',\n",
        "       'AWND_D', 'PRCP_D', 'TAVG_D', 'SNOW_O', 'SNOW_D', 'Year_2015',\n",
        "       'Year_2016', 'Year_2017', 'Year_2018', 'Quarter_2', 'Quarter_3',\n",
        "       'Quarter_4', 'Month_2', 'Month_3', 'Month_4', 'Month_5', 'Month_6',\n",
        "       'Month_7', 'Month_8', 'Month_9', 'Month_10', 'Month_11', 'Month_12',\n",
        "       'DayofMonth_2', 'DayofMonth_3', 'DayofMonth_4', 'DayofMonth_5',\n",
        "       'DayofMonth_6', 'DayofMonth_7', 'DayofMonth_8', 'DayofMonth_9',\n",
        "       'DayofMonth_10', 'DayofMonth_11', 'DayofMonth_12', 'DayofMonth_13',\n",
        "       'DayofMonth_14', 'DayofMonth_15', 'DayofMonth_16', 'DayofMonth_17',\n",
        "       'DayofMonth_18', 'DayofMonth_19', 'DayofMonth_20', 'DayofMonth_21',\n",
        "       'DayofMonth_22', 'DayofMonth_23', 'DayofMonth_24', 'DayofMonth_25',\n",
        "       'DayofMonth_26', 'DayofMonth_27', 'DayofMonth_28', 'DayofMonth_29',\n",
        "       'DayofMonth_30', 'DayofMonth_31', 'DayOfWeek_2', 'DayOfWeek_3',\n",
        "       'DayOfWeek_4', 'DayOfWeek_5', 'DayOfWeek_6', 'DayOfWeek_7',\n",
        "       'Reporting_Airline_DL', 'Reporting_Airline_OO', 'Reporting_Airline_UA',\n",
        "       'Reporting_Airline_WN', 'Origin_CLT', 'Origin_DEN', 'Origin_DFW',\n",
        "       'Origin_IAH', 'Origin_LAX', 'Origin_ORD', 'Origin_PHX', 'Origin_SFO',\n",
        "       'Dest_CLT', 'Dest_DEN', 'Dest_DFW', 'Dest_IAH', 'Dest_LAX', 'Dest_ORD',\n",
        "       'Dest_PHX', 'Dest_SFO', 'is_holiday_1'],\n",
        "      dtype='object')\n",
        "```"
      ]
    },
    {
      "cell_type": "markdown",
      "metadata": {
        "id": "22il4sEud5R9"
      },
      "source": [
        "Rename the **is_delay** column to *target* again. Use the same code that you used previously."
      ]
    },
    {
      "cell_type": "code",
      "execution_count": null,
      "metadata": {
        "id": "SJNOarkfd5R9"
      },
      "outputs": [],
      "source": [
        "data.rename(columns = {'is_delay':'target'}, inplace=True )# Enter your code here"
      ]
    },
    {
      "cell_type": "markdown",
      "metadata": {
        "id": "ZgMBu3Pdd5R-"
      },
      "source": [
        "Create the training sets again.\n",
        "\n",
        "**Hint:** Use the `split_data` function that you defined (and used) earlier."
      ]
    },
    {
      "cell_type": "code",
      "execution_count": null,
      "metadata": {
        "id": "3ci_hF0-d5R-",
        "outputId": "91ab4647-2f9b-4c84-e3d3-f0e47a1afdae"
      },
      "outputs": [
        {
          "name": "stdout",
          "output_type": "stream",
          "text": [
            "0.0    1033806\n",
            "1.0     274666\n",
            "Name: target, dtype: int64\n",
            "0.0    129226\n",
            "1.0     34333\n",
            "Name: target, dtype: int64\n",
            "0.0    129226\n",
            "1.0     34333\n",
            "Name: target, dtype: int64\n"
          ]
        }
      ],
      "source": [
        "train, validate, test = split_data(data)\n",
        "print(train['target'].value_counts())\n",
        "print(validate['target'].value_counts())\n",
        "print(test['target'].value_counts())"
      ]
    },
    {
      "cell_type": "markdown",
      "metadata": {
        "id": "_lZ-ugWSd5R_"
      },
      "source": [
        "### New baseline classifier\n",
        "\n",
        "Now, see if these new features add any predictive power to the model."
      ]
    },
    {
      "cell_type": "code",
      "execution_count": null,
      "metadata": {
        "id": "qS3BA2o_d5SA"
      },
      "outputs": [],
      "source": [
        "# Instantiate the LinearLearner estimator object\n",
        "classifier_estimator2 = sagemaker.LinearLearner(role=sagemaker.get_execution_role(),\n",
        "                                               instance_count=1,\n",
        "                                               instance_type='ml.m4.xlarge',\n",
        "                                               predictor_type='binary_classifier',\n",
        "                                               binary_classifier_model_selection_criteria = 'cross_entropy_loss')"
      ]
    },
    {
      "cell_type": "markdown",
      "metadata": {
        "id": "kcqdN61Bd5SA"
      },
      "source": [
        "### Sample code\n",
        "\n",
        "```\n",
        "num_classes = len(pd.unique(train_labels)) \n",
        "classifier_estimator2 = sagemaker.LinearLearner(role=sagemaker.get_execution_role(),\n",
        "                                               instance_count=1,\n",
        "                                               instance_type='ml.m4.xlarge',\n",
        "                                               predictor_type='binary_classifier',\n",
        "                                               binary_classifier_model_selection_criteria = 'cross_entropy_loss')\n",
        "```"
      ]
    },
    {
      "cell_type": "code",
      "execution_count": null,
      "metadata": {
        "id": "aBt2_Chxd5SB"
      },
      "outputs": [],
      "source": [
        "train_records = classifier_estimator2.record_set(train.values[:, 1:].astype(np.float32), train.values[:, 0].astype(np.float32), channel='train')\n",
        "val_records = classifier_estimator2.record_set(validate.values[:, 1:].astype(np.float32), validate.values[:, 0].astype(np.float32), channel='validation')\n",
        "test_records = classifier_estimator2.record_set(test.values[:, 1:].astype(np.float32), test.values[:, 0].astype(np.float32), channel='test')"
      ]
    },
    {
      "cell_type": "markdown",
      "metadata": {
        "id": "9LpuhHUBd5SB"
      },
      "source": [
        "Train your model by using the three datasets that you just created."
      ]
    },
    {
      "cell_type": "code",
      "execution_count": null,
      "metadata": {
        "id": "un8F3Ap8d5SC",
        "outputId": "1fa26c14-7013-4981-aa47-b52a221c0053"
      },
      "outputs": [
        {
          "name": "stderr",
          "output_type": "stream",
          "text": [
            "Defaulting to the only supported framework/algorithm version: 1. Ignoring framework/algorithm version: 1.\n",
            "Defaulting to the only supported framework/algorithm version: 1. Ignoring framework/algorithm version: 1.\n"
          ]
        },
        {
          "name": "stdout",
          "output_type": "stream",
          "text": [
            "2022-04-25 07:49:06 Starting - Starting the training job...\n",
            "2022-04-25 07:49:32 Starting - Preparing the instances for trainingProfilerReport-1650872945: InProgress\n",
            ".........\n",
            "2022-04-25 07:50:54 Downloading - Downloading input data.........\n",
            "2022-04-25 07:52:30 Training - Training image download completed. Training in progress..\u001b[34mDocker entrypoint called with argument(s): train\u001b[0m\n",
            "\u001b[34mRunning default environment configuration script\u001b[0m\n",
            "\u001b[34m[04/25/2022 07:52:39 INFO 140034759915328 integration.py:636] worker started\u001b[0m\n",
            "\u001b[34m[04/25/2022 07:52:39 INFO 140034759915328] Reading default configuration from /opt/amazon/lib/python3.7/site-packages/algorithm/resources/default-input.json: {'mini_batch_size': '1000', 'epochs': '15', 'feature_dim': 'auto', 'use_bias': 'true', 'binary_classifier_model_selection_criteria': 'accuracy', 'f_beta': '1.0', 'target_recall': '0.8', 'target_precision': '0.8', 'num_models': 'auto', 'num_calibration_samples': '10000000', 'init_method': 'uniform', 'init_scale': '0.07', 'init_sigma': '0.01', 'init_bias': '0.0', 'optimizer': 'auto', 'loss': 'auto', 'margin': '1.0', 'quantile': '0.5', 'loss_insensitivity': '0.01', 'huber_delta': '1.0', 'num_classes': '1', 'accuracy_top_k': '3', 'wd': 'auto', 'l1': 'auto', 'momentum': 'auto', 'learning_rate': 'auto', 'beta_1': 'auto', 'beta_2': 'auto', 'bias_lr_mult': 'auto', 'bias_wd_mult': 'auto', 'use_lr_scheduler': 'true', 'lr_scheduler_step': 'auto', 'lr_scheduler_factor': 'auto', 'lr_scheduler_minimum_lr': 'auto', 'positive_example_weight_mult': '1.0', 'balance_multiclass_weights': 'false', 'normalize_data': 'true', 'normalize_label': 'auto', 'unbias_data': 'auto', 'unbias_label': 'auto', 'num_point_for_scaler': '10000', '_kvstore': 'auto', '_num_gpus': 'auto', '_num_kv_servers': 'auto', '_log_level': 'info', '_tuning_objective_metric': '', 'early_stopping_patience': '3', 'early_stopping_tolerance': '0.001', '_enable_profiler': 'false'}\u001b[0m\n",
            "\u001b[34m[04/25/2022 07:52:39 INFO 140034759915328] Merging with provided configuration from /opt/ml/input/config/hyperparameters.json: {'binary_classifier_model_selection_criteria': 'cross_entropy_loss', 'feature_dim': '85', 'mini_batch_size': '1000', 'predictor_type': 'binary_classifier'}\u001b[0m\n",
            "\u001b[34m[04/25/2022 07:52:39 INFO 140034759915328] Final configuration: {'mini_batch_size': '1000', 'epochs': '15', 'feature_dim': '85', 'use_bias': 'true', 'binary_classifier_model_selection_criteria': 'cross_entropy_loss', 'f_beta': '1.0', 'target_recall': '0.8', 'target_precision': '0.8', 'num_models': 'auto', 'num_calibration_samples': '10000000', 'init_method': 'uniform', 'init_scale': '0.07', 'init_sigma': '0.01', 'init_bias': '0.0', 'optimizer': 'auto', 'loss': 'auto', 'margin': '1.0', 'quantile': '0.5', 'loss_insensitivity': '0.01', 'huber_delta': '1.0', 'num_classes': '1', 'accuracy_top_k': '3', 'wd': 'auto', 'l1': 'auto', 'momentum': 'auto', 'learning_rate': 'auto', 'beta_1': 'auto', 'beta_2': 'auto', 'bias_lr_mult': 'auto', 'bias_wd_mult': 'auto', 'use_lr_scheduler': 'true', 'lr_scheduler_step': 'auto', 'lr_scheduler_factor': 'auto', 'lr_scheduler_minimum_lr': 'auto', 'positive_example_weight_mult': '1.0', 'balance_multiclass_weights': 'false', 'normalize_data': 'true', 'normalize_label': 'auto', 'unbias_data': 'auto', 'unbias_label': 'auto', 'num_point_for_scaler': '10000', '_kvstore': 'auto', '_num_gpus': 'auto', '_num_kv_servers': 'auto', '_log_level': 'info', '_tuning_objective_metric': '', 'early_stopping_patience': '3', 'early_stopping_tolerance': '0.001', '_enable_profiler': 'false', 'predictor_type': 'binary_classifier'}\u001b[0m\n",
            "\u001b[34m[04/25/2022 07:52:39 WARNING 140034759915328] Loggers have already been setup.\u001b[0m\n",
            "\u001b[34mProcess 1 is a worker.\u001b[0m\n",
            "\u001b[34m[04/25/2022 07:52:39 INFO 140034759915328] Using default worker.\u001b[0m\n",
            "\u001b[34m[04/25/2022 07:52:40 INFO 140034759915328] Checkpoint loading and saving are disabled.\u001b[0m\n",
            "\u001b[34m[2022-04-25 07:52:40.156] [tensorio] [warning] TensorIO is already initialized; ignoring the initialization routine.\u001b[0m\n",
            "\u001b[34m[2022-04-25 07:52:40.166] [tensorio] [warning] TensorIO is already initialized; ignoring the initialization routine.\u001b[0m\n",
            "\u001b[34m[2022-04-25 07:52:40.227] [tensorio] [info] epoch_stats={\"data_pipeline\": \"/opt/ml/input/data/train\", \"epoch\": 0, \"duration\": 77, \"num_examples\": 1, \"num_bytes\": 388000}\u001b[0m\n",
            "\u001b[34m[04/25/2022 07:52:40 INFO 140034759915328] Create Store: local\u001b[0m\n",
            "\u001b[34m[2022-04-25 07:52:40.387] [tensorio] [info] epoch_stats={\"data_pipeline\": \"/opt/ml/input/data/train\", \"epoch\": 1, \"duration\": 157, \"num_examples\": 11, \"num_bytes\": 4268000}\u001b[0m\n",
            "\u001b[34m[04/25/2022 07:52:40 INFO 140034759915328] Scaler algorithm parameters\n",
            " <algorithm.scaler.ScalerAlgorithmStable object at 0x7f5c01d25e90>\u001b[0m\n",
            "\u001b[34m[04/25/2022 07:52:40 INFO 140034759915328] Scaling model computed with parameters:\n",
            " {'stdev_label': None, 'stdev_weight': \u001b[0m\n",
            "\u001b[34m[5.3744678e+02 5.0018244e+00 1.5813167e+01 9.2938301e+01 8.8930458e+01\n",
            " 1.6283644e+01 7.6208847e+01 8.9917763e+01 6.6631775e+00 7.9723420e+00\n",
            " 4.0000007e-01 4.1276321e-01 4.0872481e-01 4.0469456e-01 4.3369290e-01\n",
            " 4.4040909e-01 4.3843508e-01 2.5049374e-01 2.7833980e-01 2.6888552e-01\n",
            " 2.8223431e-01 2.7955690e-01 2.8303027e-01 2.8876913e-01 2.7684170e-01\n",
            " 2.8289786e-01 2.7955690e-01 2.8103408e-01 1.8029131e-01 1.7887397e-01\n",
            " 1.7503002e-01 1.8005599e-01 1.7839868e-01 1.8262546e-01 1.8515393e-01\n",
            " 1.7331764e-01 1.7934784e-01 1.8492572e-01 1.7183442e-01 1.7672351e-01\n",
            " 1.7792191e-01 1.7768294e-01 1.7454271e-01 1.7792188e-01 1.8122913e-01\n",
            " 1.8216141e-01 1.7478657e-01 1.8741830e-01 1.7405388e-01 1.8853861e-01\n",
            " 1.7257786e-01 1.6445161e-01 1.7982030e-01 1.8696794e-01 1.7934787e-01\n",
            " 1.7158580e-01 1.5967569e-01 1.3360855e-01 3.5081300e-01 3.5164195e-01\n",
            " 3.6302766e-01 3.6190468e-01 3.2163686e-01 3.4886354e-01 3.7555289e-01\n",
            " 2.3494284e-01 4.5741972e-01 3.1368127e-01 2.3782340e-01 3.1401956e-01\n",
            " 3.3082196e-01 2.7002233e-01 3.5910892e-01 3.4269202e-01 3.0760476e-01\n",
            " 3.1536645e-01 2.3933032e-01 3.2109502e-01 3.2718080e-01 2.6945478e-01\n",
            " 3.5572970e-01 3.3489779e-01 3.0216950e-01 3.2833281e-01 1.5304902e-01]\u001b[0m\n",
            "\u001b[34m<NDArray 85 @cpu(0)>, 'mean_label': None, 'mean_weight': \u001b[0m\n",
            "\u001b[34m[1.01320135e+03 1.29172726e+01 3.81237259e+01 2.07436371e+01\n",
            " 1.74512177e+02 3.85056381e+01 2.03234558e+01 1.72303009e+02\n",
            " 6.03909135e-01 6.60545468e-01 2.00000018e-01 2.17818201e-01\n",
            " 2.12000027e-01 2.06363663e-01 2.51181841e-01 2.63272732e-01\n",
            " 2.59636402e-01 6.72727227e-02 8.46363679e-02 7.84545392e-02\n",
            " 8.72727334e-02 8.54545534e-02 8.78181905e-02 9.18181911e-02\n",
            " 8.36363733e-02 8.77272934e-02 8.54545608e-02 8.64545479e-02\n",
            " 3.36363688e-02 3.30909118e-02 3.16363648e-02 3.35454531e-02\n",
            " 3.29090916e-02 3.45454589e-02 3.55454534e-02 3.10000032e-02\n",
            " 3.32727283e-02 3.54545452e-02 3.04545462e-02 3.22727300e-02\n",
            " 3.27272750e-02 3.26363668e-02 3.14545482e-02 3.27272713e-02\n",
            " 3.40000056e-02 3.43636386e-02 3.15454565e-02 3.64545472e-02\n",
            " 3.12727280e-02 3.69090959e-02 3.07272747e-02 2.78181862e-02\n",
            " 3.34545448e-02 3.62727307e-02 3.32727283e-02 3.03636398e-02\n",
            " 2.61818208e-02 1.81818195e-02 1.43727273e-01 1.44545481e-01\n",
            " 1.56181827e-01 1.55000001e-01 1.17181830e-01 1.41818210e-01\n",
            " 1.69909105e-01 5.86363673e-02 2.98090965e-01 1.10636368e-01\n",
            " 6.01818226e-02 1.10909097e-01 1.25090912e-01 7.91818202e-02\n",
            " 1.52090922e-01 1.35909095e-01 1.05818197e-01 1.12000011e-01\n",
            " 6.10000044e-02 1.16727270e-01 1.21909097e-01 7.88181946e-02\n",
            " 1.48636371e-01 1.28727257e-01 1.01636365e-01 1.22909106e-01\n",
            " 2.40000039e-02]\u001b[0m\n",
            "\u001b[34m<NDArray 85 @cpu(0)>}\u001b[0m\n",
            "\u001b[34m[04/25/2022 07:52:40 INFO 140034759915328] nvidia-smi: took 0.047 seconds to run.\u001b[0m\n",
            "\u001b[34m[04/25/2022 07:52:40 INFO 140034759915328] nvidia-smi identified 0 GPUs.\u001b[0m\n",
            "\u001b[34m[04/25/2022 07:52:40 INFO 140034759915328] Number of GPUs being used: 0\u001b[0m\n",
            "\u001b[34m#metrics {\"StartTime\": 1650873160.545536, \"EndTime\": 1650873160.5455809, \"Dimensions\": {\"Algorithm\": \"Linear Learner\", \"Host\": \"algo-1\", \"Operation\": \"training\", \"Meta\": \"init_train_data_iter\"}, \"Metrics\": {\"Total Records Seen\": {\"sum\": 12000.0, \"count\": 1, \"min\": 12000, \"max\": 12000}, \"Total Batches Seen\": {\"sum\": 12.0, \"count\": 1, \"min\": 12, \"max\": 12}, \"Max Records Seen Between Resets\": {\"sum\": 11000.0, \"count\": 1, \"min\": 11000, \"max\": 11000}, \"Max Batches Seen Between Resets\": {\"sum\": 11.0, \"count\": 1, \"min\": 11, \"max\": 11}, \"Reset Count\": {\"sum\": 2.0, \"count\": 1, \"min\": 2, \"max\": 2}, \"Number of Records Since Last Reset\": {\"sum\": 0.0, \"count\": 1, \"min\": 0, \"max\": 0}, \"Number of Batches Since Last Reset\": {\"sum\": 0.0, \"count\": 1, \"min\": 0, \"max\": 0}}}\u001b[0m\n",
            "\u001b[34m[2022-04-25 07:53:39.374] [tensorio] [info] epoch_stats={\"data_pipeline\": \"/opt/ml/input/data/train\", \"epoch\": 3, \"duration\": 58828, \"num_examples\": 1309, \"num_bytes\": 507687136}\u001b[0m\n",
            "\u001b[34m#metrics {\"StartTime\": 1650873219.3748019, \"EndTime\": 1650873219.374924, \"Dimensions\": {\"Algorithm\": \"Linear Learner\", \"Host\": \"algo-1\", \"Operation\": \"training\", \"epoch\": 0, \"model\": 0}, \"Metrics\": {\"train_binary_classification_cross_entropy_objective\": {\"sum\": 0.48287058685022755, \"count\": 1, \"min\": 0.48287058685022755, \"max\": 0.48287058685022755}}}\u001b[0m\n",
            "\u001b[34m#metrics {\"StartTime\": 1650873219.375103, \"EndTime\": 1650873219.3751278, \"Dimensions\": {\"Algorithm\": \"Linear Learner\", \"Host\": \"algo-1\", \"Operation\": \"training\", \"epoch\": 0, \"model\": 1}, \"Metrics\": {\"train_binary_classification_cross_entropy_objective\": {\"sum\": 0.48343533859486243, \"count\": 1, \"min\": 0.48343533859486243, \"max\": 0.48343533859486243}}}\u001b[0m\n",
            "\u001b[34m#metrics {\"StartTime\": 1650873219.3752503, \"EndTime\": 1650873219.375274, \"Dimensions\": {\"Algorithm\": \"Linear Learner\", \"Host\": \"algo-1\", \"Operation\": \"training\", \"epoch\": 0, \"model\": 2}, \"Metrics\": {\"train_binary_classification_cross_entropy_objective\": {\"sum\": 0.48294866241081774, \"count\": 1, \"min\": 0.48294866241081774, \"max\": 0.48294866241081774}}}\u001b[0m\n",
            "\u001b[34m#metrics {\"StartTime\": 1650873219.3753343, \"EndTime\": 1650873219.3753633, \"Dimensions\": {\"Algorithm\": \"Linear Learner\", \"Host\": \"algo-1\", \"Operation\": \"training\", \"epoch\": 0, \"model\": 3}, \"Metrics\": {\"train_binary_classification_cross_entropy_objective\": {\"sum\": 0.4834741239401908, \"count\": 1, \"min\": 0.4834741239401908, \"max\": 0.4834741239401908}}}\u001b[0m\n",
            "\u001b[34m#metrics {\"StartTime\": 1650873219.375422, \"EndTime\": 1650873219.3754394, \"Dimensions\": {\"Algorithm\": \"Linear Learner\", \"Host\": \"algo-1\", \"Operation\": \"training\", \"epoch\": 0, \"model\": 4}, \"Metrics\": {\"train_binary_classification_cross_entropy_objective\": {\"sum\": 0.4947557638792452, \"count\": 1, \"min\": 0.4947557638792452, \"max\": 0.4947557638792452}}}\u001b[0m\n",
            "\u001b[34m#metrics {\"StartTime\": 1650873219.3754969, \"EndTime\": 1650873219.3755138, \"Dimensions\": {\"Algorithm\": \"Linear Learner\", \"Host\": \"algo-1\", \"Operation\": \"training\", \"epoch\": 0, \"model\": 5}, \"Metrics\": {\"train_binary_classification_cross_entropy_objective\": {\"sum\": 0.5041944829724979, \"count\": 1, \"min\": 0.5041944829724979, \"max\": 0.5041944829724979}}}\u001b[0m\n",
            "\u001b[34m#metrics {\"StartTime\": 1650873219.3755682, \"EndTime\": 1650873219.375586, \"Dimensions\": {\"Algorithm\": \"Linear Learner\", \"Host\": \"algo-1\", \"Operation\": \"training\", \"epoch\": 0, \"model\": 6}, \"Metrics\": {\"train_binary_classification_cross_entropy_objective\": {\"sum\": 0.4947691806244923, \"count\": 1, \"min\": 0.4947691806244923, \"max\": 0.4947691806244923}}}\u001b[0m\n",
            "\u001b[34m#metrics {\"StartTime\": 1650873219.375638, \"EndTime\": 1650873219.3756545, \"Dimensions\": {\"Algorithm\": \"Linear Learner\", \"Host\": \"algo-1\", \"Operation\": \"training\", \"epoch\": 0, \"model\": 7}, \"Metrics\": {\"train_binary_classification_cross_entropy_objective\": {\"sum\": 0.5041598218632036, \"count\": 1, \"min\": 0.5041598218632036, \"max\": 0.5041598218632036}}}\u001b[0m\n",
            "\u001b[34m#metrics {\"StartTime\": 1650873219.375708, \"EndTime\": 1650873219.3757248, \"Dimensions\": {\"Algorithm\": \"Linear Learner\", \"Host\": \"algo-1\", \"Operation\": \"training\", \"epoch\": 0, \"model\": 8}, \"Metrics\": {\"train_binary_classification_cross_entropy_objective\": {\"sum\": 0.48316611982339747, \"count\": 1, \"min\": 0.48316611982339747, \"max\": 0.48316611982339747}}}\u001b[0m\n",
            "\u001b[34m#metrics {\"StartTime\": 1650873219.3757777, \"EndTime\": 1650873219.375794, \"Dimensions\": {\"Algorithm\": \"Linear Learner\", \"Host\": \"algo-1\", \"Operation\": \"training\", \"epoch\": 0, \"model\": 9}, \"Metrics\": {\"train_binary_classification_cross_entropy_objective\": {\"sum\": 0.4836664173697842, \"count\": 1, \"min\": 0.4836664173697842, \"max\": 0.4836664173697842}}}\u001b[0m\n",
            "\u001b[34m#metrics {\"StartTime\": 1650873219.3758469, \"EndTime\": 1650873219.3758636, \"Dimensions\": {\"Algorithm\": \"Linear Learner\", \"Host\": \"algo-1\", \"Operation\": \"training\", \"epoch\": 0, \"model\": 10}, \"Metrics\": {\"train_binary_classification_cross_entropy_objective\": {\"sum\": 0.48311785991330397, \"count\": 1, \"min\": 0.48311785991330397, \"max\": 0.48311785991330397}}}\u001b[0m\n",
            "\u001b[34m#metrics {\"StartTime\": 1650873219.3759155, \"EndTime\": 1650873219.3759325, \"Dimensions\": {\"Algorithm\": \"Linear Learner\", \"Host\": \"algo-1\", \"Operation\": \"training\", \"epoch\": 0, \"model\": 11}, \"Metrics\": {\"train_binary_classification_cross_entropy_objective\": {\"sum\": 0.4836159691300232, \"count\": 1, \"min\": 0.4836159691300232, \"max\": 0.4836159691300232}}}\u001b[0m\n",
            "\u001b[34m#metrics {\"StartTime\": 1650873219.3759854, \"EndTime\": 1650873219.3760018, \"Dimensions\": {\"Algorithm\": \"Linear Learner\", \"Host\": \"algo-1\", \"Operation\": \"training\", \"epoch\": 0, \"model\": 12}, \"Metrics\": {\"train_binary_classification_cross_entropy_objective\": {\"sum\": 0.49403932703234005, \"count\": 1, \"min\": 0.49403932703234005, \"max\": 0.49403932703234005}}}\u001b[0m\n",
            "\u001b[34m#metrics {\"StartTime\": 1650873219.3760552, \"EndTime\": 1650873219.3760724, \"Dimensions\": {\"Algorithm\": \"Linear Learner\", \"Host\": \"algo-1\", \"Operation\": \"training\", \"epoch\": 0, \"model\": 13}, \"Metrics\": {\"train_binary_classification_cross_entropy_objective\": {\"sum\": 0.5025921517935004, \"count\": 1, \"min\": 0.5025921517935004, \"max\": 0.5025921517935004}}}\u001b[0m\n",
            "\u001b[34m#metrics {\"StartTime\": 1650873219.3761268, \"EndTime\": 1650873219.376144, \"Dimensions\": {\"Algorithm\": \"Linear Learner\", \"Host\": \"algo-1\", \"Operation\": \"training\", \"epoch\": 0, \"model\": 14}, \"Metrics\": {\"train_binary_classification_cross_entropy_objective\": {\"sum\": 0.49403729115057426, \"count\": 1, \"min\": 0.49403729115057426, \"max\": 0.49403729115057426}}}\u001b[0m\n",
            "\u001b[34m#metrics {\"StartTime\": 1650873219.3761966, \"EndTime\": 1650873219.3762133, \"Dimensions\": {\"Algorithm\": \"Linear Learner\", \"Host\": \"algo-1\", \"Operation\": \"training\", \"epoch\": 0, \"model\": 15}, \"Metrics\": {\"train_binary_classification_cross_entropy_objective\": {\"sum\": 0.5025849924816633, \"count\": 1, \"min\": 0.5025849924816633, \"max\": 0.5025849924816633}}}\u001b[0m\n",
            "\u001b[34m#metrics {\"StartTime\": 1650873219.376276, \"EndTime\": 1650873219.376294, \"Dimensions\": {\"Algorithm\": \"Linear Learner\", \"Host\": \"algo-1\", \"Operation\": \"training\", \"epoch\": 0, \"model\": 16}, \"Metrics\": {\"train_binary_classification_cross_entropy_objective\": {\"sum\": 0.5060327896911434, \"count\": 1, \"min\": 0.5060327896911434, \"max\": 0.5060327896911434}}}\u001b[0m\n",
            "\u001b[34m#metrics {\"StartTime\": 1650873219.3763556, \"EndTime\": 1650873219.376373, \"Dimensions\": {\"Algorithm\": \"Linear Learner\", \"Host\": \"algo-1\", \"Operation\": \"training\", \"epoch\": 0, \"model\": 17}, \"Metrics\": {\"train_binary_classification_cross_entropy_objective\": {\"sum\": 0.5061611886214044, \"count\": 1, \"min\": 0.5061611886214044, \"max\": 0.5061611886214044}}}\u001b[0m\n",
            "\u001b[34m#metrics {\"StartTime\": 1650873219.3764768, \"EndTime\": 1650873219.3764968, \"Dimensions\": {\"Algorithm\": \"Linear Learner\", \"Host\": \"algo-1\", \"Operation\": \"training\", \"epoch\": 0, \"model\": 18}, \"Metrics\": {\"train_binary_classification_cross_entropy_objective\": {\"sum\": 0.5059866841167485, \"count\": 1, \"min\": 0.5059866841167485, \"max\": 0.5059866841167485}}}\u001b[0m\n",
            "\u001b[34m#metrics {\"StartTime\": 1650873219.3765485, \"EndTime\": 1650873219.3765655, \"Dimensions\": {\"Algorithm\": \"Linear Learner\", \"Host\": \"algo-1\", \"Operation\": \"training\", \"epoch\": 0, \"model\": 19}, \"Metrics\": {\"train_binary_classification_cross_entropy_objective\": {\"sum\": 0.506101341317553, \"count\": 1, \"min\": 0.506101341317553, \"max\": 0.506101341317553}}}\u001b[0m\n",
            "\u001b[34m#metrics {\"StartTime\": 1650873219.3766224, \"EndTime\": 1650873219.3766377, \"Dimensions\": {\"Algorithm\": \"Linear Learner\", \"Host\": \"algo-1\", \"Operation\": \"training\", \"epoch\": 0, \"model\": 20}, \"Metrics\": {\"train_binary_classification_cross_entropy_objective\": {\"sum\": 0.5074423581744553, \"count\": 1, \"min\": 0.5074423581744553, \"max\": 0.5074423581744553}}}\u001b[0m\n",
            "\u001b[34m#metrics {\"StartTime\": 1650873219.3766894, \"EndTime\": 1650873219.3767056, \"Dimensions\": {\"Algorithm\": \"Linear Learner\", \"Host\": \"algo-1\", \"Operation\": \"training\", \"epoch\": 0, \"model\": 21}, \"Metrics\": {\"train_binary_classification_cross_entropy_objective\": {\"sum\": 0.5090787790514278, \"count\": 1, \"min\": 0.5090787790514278, \"max\": 0.5090787790514278}}}\u001b[0m\n",
            "\u001b[34m#metrics {\"StartTime\": 1650873219.3767538, \"EndTime\": 1650873219.3767633, \"Dimensions\": {\"Algorithm\": \"Linear Learner\", \"Host\": \"algo-1\", \"Operation\": \"training\", \"epoch\": 0, \"model\": 22}, \"Metrics\": {\"train_binary_classification_cross_entropy_objective\": {\"sum\": 0.5073793113311861, \"count\": 1, \"min\": 0.5073793113311861, \"max\": 0.5073793113311861}}}\u001b[0m\n",
            "\u001b[34m#metrics {\"StartTime\": 1650873219.3768475, \"EndTime\": 1650873219.376867, \"Dimensions\": {\"Algorithm\": \"Linear Learner\", \"Host\": \"algo-1\", \"Operation\": \"training\", \"epoch\": 0, \"model\": 23}, \"Metrics\": {\"train_binary_classification_cross_entropy_objective\": {\"sum\": 0.5091115132369762, \"count\": 1, \"min\": 0.5091115132369762, \"max\": 0.5091115132369762}}}\u001b[0m\n",
            "\u001b[34m#metrics {\"StartTime\": 1650873219.3769252, \"EndTime\": 1650873219.3769426, \"Dimensions\": {\"Algorithm\": \"Linear Learner\", \"Host\": \"algo-1\", \"Operation\": \"training\", \"epoch\": 0, \"model\": 24}, \"Metrics\": {\"train_binary_classification_cross_entropy_objective\": {\"sum\": 0.515025544682774, \"count\": 1, \"min\": 0.515025544682774, \"max\": 0.515025544682774}}}\u001b[0m\n",
            "\u001b[34m#metrics {\"StartTime\": 1650873219.3769882, \"EndTime\": 1650873219.3770044, \"Dimensions\": {\"Algorithm\": \"Linear Learner\", \"Host\": \"algo-1\", \"Operation\": \"training\", \"epoch\": 0, \"model\": 25}, \"Metrics\": {\"train_binary_classification_cross_entropy_objective\": {\"sum\": 0.5150861796574491, \"count\": 1, \"min\": 0.5150861796574491, \"max\": 0.5150861796574491}}}\u001b[0m\n",
            "\u001b[34m#metrics {\"StartTime\": 1650873219.377045, \"EndTime\": 1650873219.377061, \"Dimensions\": {\"Algorithm\": \"Linear Learner\", \"Host\": \"algo-1\", \"Operation\": \"training\", \"epoch\": 0, \"model\": 26}, \"Metrics\": {\"train_binary_classification_cross_entropy_objective\": {\"sum\": 0.5150472460405542, \"count\": 1, \"min\": 0.5150472460405542, \"max\": 0.5150472460405542}}}\u001b[0m\n",
            "\u001b[34m#metrics {\"StartTime\": 1650873219.3771122, \"EndTime\": 1650873219.3771284, \"Dimensions\": {\"Algorithm\": \"Linear Learner\", \"Host\": \"algo-1\", \"Operation\": \"training\", \"epoch\": 0, \"model\": 27}, \"Metrics\": {\"train_binary_classification_cross_entropy_objective\": {\"sum\": 0.5150865377956939, \"count\": 1, \"min\": 0.5150865377956939, \"max\": 0.5150865377956939}}}\u001b[0m\n",
            "\u001b[34m#metrics {\"StartTime\": 1650873219.3772135, \"EndTime\": 1650873219.3772318, \"Dimensions\": {\"Algorithm\": \"Linear Learner\", \"Host\": \"algo-1\", \"Operation\": \"training\", \"epoch\": 0, \"model\": 28}, \"Metrics\": {\"train_binary_classification_cross_entropy_objective\": {\"sum\": 0.5150102400473499, \"count\": 1, \"min\": 0.5150102400473499, \"max\": 0.5150102400473499}}}\u001b[0m\n",
            "\u001b[34m#metrics {\"StartTime\": 1650873219.377286, \"EndTime\": 1650873219.3773007, \"Dimensions\": {\"Algorithm\": \"Linear Learner\", \"Host\": \"algo-1\", \"Operation\": \"training\", \"epoch\": 0, \"model\": 29}, \"Metrics\": {\"train_binary_classification_cross_entropy_objective\": {\"sum\": 0.5157373752885638, \"count\": 1, \"min\": 0.5157373752885638, \"max\": 0.5157373752885638}}}\u001b[0m\n",
            "\u001b[34m#metrics {\"StartTime\": 1650873219.3773499, \"EndTime\": 1650873219.377366, \"Dimensions\": {\"Algorithm\": \"Linear Learner\", \"Host\": \"algo-1\", \"Operation\": \"training\", \"epoch\": 0, \"model\": 30}, \"Metrics\": {\"train_binary_classification_cross_entropy_objective\": {\"sum\": 0.5150473599215166, \"count\": 1, \"min\": 0.5150473599215166, \"max\": 0.5150473599215166}}}\u001b[0m\n",
            "\u001b[34m#metrics {\"StartTime\": 1650873219.377419, \"EndTime\": 1650873219.3774354, \"Dimensions\": {\"Algorithm\": \"Linear Learner\", \"Host\": \"algo-1\", \"Operation\": \"training\", \"epoch\": 0, \"model\": 31}, \"Metrics\": {\"train_binary_classification_cross_entropy_objective\": {\"sum\": 0.5157659479543704, \"count\": 1, \"min\": 0.5157659479543704, \"max\": 0.5157659479543704}}}\u001b[0m\n",
            "\u001b[34m[04/25/2022 07:53:39 INFO 140034759915328] #quality_metric: host=algo-1, epoch=0, train binary_classification_cross_entropy_objective <loss>=0.48287058685022755\u001b[0m\n",
            "\u001b[34m[2022-04-25 07:53:39.406] [tensorio] [info] epoch_stats={\"data_pipeline\": \"/opt/ml/input/data/validation\", \"epoch\": 0, \"duration\": 59250, \"num_examples\": 1, \"num_bytes\": 388000}\u001b[0m\n",
            "\u001b[34m[2022-04-25 07:53:45.151] [tensorio] [info] epoch_stats={\"data_pipeline\": \"/opt/ml/input/data/validation\", \"epoch\": 2, \"duration\": 5744, \"num_examples\": 164, \"num_bytes\": 63460892}\u001b[0m\n",
            "\u001b[34m#metrics {\"StartTime\": 1650873225.158828, \"EndTime\": 1650873225.158886, \"Dimensions\": {\"Algorithm\": \"Linear Learner\", \"Host\": \"algo-1\", \"Operation\": \"training\", \"epoch\": 0, \"model\": 0}, \"Metrics\": {\"validation_binary_classification_cross_entropy_objective\": {\"sum\": 0.4807035151258491, \"count\": 1, \"min\": 0.4807035151258491, \"max\": 0.4807035151258491}}}\u001b[0m\n",
            "\u001b[34m#metrics {\"StartTime\": 1650873225.1589644, \"EndTime\": 1650873225.1589787, \"Dimensions\": {\"Algorithm\": \"Linear Learner\", \"Host\": \"algo-1\", \"Operation\": \"training\", \"epoch\": 0, \"model\": 1}, \"Metrics\": {\"validation_binary_classification_cross_entropy_objective\": {\"sum\": 0.48184876664136916, \"count\": 1, \"min\": 0.48184876664136916, \"max\": 0.48184876664136916}}}\u001b[0m\n",
            "\u001b[34m#metrics {\"StartTime\": 1650873225.1590524, \"EndTime\": 1650873225.1590717, \"Dimensions\": {\"Algorithm\": \"Linear Learner\", \"Host\": \"algo-1\", \"Operation\": \"training\", \"epoch\": 0, \"model\": 2}, \"Metrics\": {\"validation_binary_classification_cross_entropy_objective\": {\"sum\": 0.48070434673307155, \"count\": 1, \"min\": 0.48070434673307155, \"max\": 0.48070434673307155}}}\u001b[0m\n",
            "\u001b[34m#metrics {\"StartTime\": 1650873225.1591132, \"EndTime\": 1650873225.1591291, \"Dimensions\": {\"Algorithm\": \"Linear Learner\", \"Host\": \"algo-1\", \"Operation\": \"training\", \"epoch\": 0, \"model\": 3}, \"Metrics\": {\"validation_binary_classification_cross_entropy_objective\": {\"sum\": 0.481849102493512, \"count\": 1, \"min\": 0.481849102493512, \"max\": 0.481849102493512}}}\u001b[0m\n",
            "\u001b[34m#metrics {\"StartTime\": 1650873225.1591651, \"EndTime\": 1650873225.1591747, \"Dimensions\": {\"Algorithm\": \"Linear Learner\", \"Host\": \"algo-1\", \"Operation\": \"training\", \"epoch\": 0, \"model\": 4}, \"Metrics\": {\"validation_binary_classification_cross_entropy_objective\": {\"sum\": 0.4901149347829472, \"count\": 1, \"min\": 0.4901149347829472, \"max\": 0.4901149347829472}}}\u001b[0m\n",
            "\u001b[34m#metrics {\"StartTime\": 1650873225.1592195, \"EndTime\": 1650873225.1592302, \"Dimensions\": {\"Algorithm\": \"Linear Learner\", \"Host\": \"algo-1\", \"Operation\": \"training\", \"epoch\": 0, \"model\": 5}, \"Metrics\": {\"validation_binary_classification_cross_entropy_objective\": {\"sum\": 0.5119161827345775, \"count\": 1, \"min\": 0.5119161827345775, \"max\": 0.5119161827345775}}}\u001b[0m\n",
            "\u001b[34m#metrics {\"StartTime\": 1650873225.159285, \"EndTime\": 1650873225.1593013, \"Dimensions\": {\"Algorithm\": \"Linear Learner\", \"Host\": \"algo-1\", \"Operation\": \"training\", \"epoch\": 0, \"model\": 6}, \"Metrics\": {\"validation_binary_classification_cross_entropy_objective\": {\"sum\": 0.4901069556823723, \"count\": 1, \"min\": 0.4901069556823723, \"max\": 0.4901069556823723}}}\u001b[0m\n",
            "\u001b[34m#metrics {\"StartTime\": 1650873225.1593568, \"EndTime\": 1650873225.1593735, \"Dimensions\": {\"Algorithm\": \"Linear Learner\", \"Host\": \"algo-1\", \"Operation\": \"training\", \"epoch\": 0, \"model\": 7}, \"Metrics\": {\"validation_binary_classification_cross_entropy_objective\": {\"sum\": 0.5118945893076404, \"count\": 1, \"min\": 0.5118945893076404, \"max\": 0.5118945893076404}}}\u001b[0m\n",
            "\u001b[34m#metrics {\"StartTime\": 1650873225.1594155, \"EndTime\": 1650873225.1594312, \"Dimensions\": {\"Algorithm\": \"Linear Learner\", \"Host\": \"algo-1\", \"Operation\": \"training\", \"epoch\": 0, \"model\": 8}, \"Metrics\": {\"validation_binary_classification_cross_entropy_objective\": {\"sum\": 0.48098837707682607, \"count\": 1, \"min\": 0.48098837707682607, \"max\": 0.48098837707682607}}}\u001b[0m\n",
            "\u001b[34m#metrics {\"StartTime\": 1650873225.1594837, \"EndTime\": 1650873225.1594985, \"Dimensions\": {\"Algorithm\": \"Linear Learner\", \"Host\": \"algo-1\", \"Operation\": \"training\", \"epoch\": 0, \"model\": 9}, \"Metrics\": {\"validation_binary_classification_cross_entropy_objective\": {\"sum\": 0.482013459762728, \"count\": 1, \"min\": 0.482013459762728, \"max\": 0.482013459762728}}}\u001b[0m\n",
            "\u001b[34m#metrics {\"StartTime\": 1650873225.1595523, \"EndTime\": 1650873225.1595685, \"Dimensions\": {\"Algorithm\": \"Linear Learner\", \"Host\": \"algo-1\", \"Operation\": \"training\", \"epoch\": 0, \"model\": 10}, \"Metrics\": {\"validation_binary_classification_cross_entropy_objective\": {\"sum\": 0.4809876245814417, \"count\": 1, \"min\": 0.4809876245814417, \"max\": 0.4809876245814417}}}\u001b[0m\n",
            "\u001b[34m#metrics {\"StartTime\": 1650873225.1596203, \"EndTime\": 1650873225.1596367, \"Dimensions\": {\"Algorithm\": \"Linear Learner\", \"Host\": \"algo-1\", \"Operation\": \"training\", \"epoch\": 0, \"model\": 11}, \"Metrics\": {\"validation_binary_classification_cross_entropy_objective\": {\"sum\": 0.48201143364138427, \"count\": 1, \"min\": 0.48201143364138427, \"max\": 0.48201143364138427}}}\u001b[0m\n",
            "\u001b[34m#metrics {\"StartTime\": 1650873225.1596904, \"EndTime\": 1650873225.159708, \"Dimensions\": {\"Algorithm\": \"Linear Learner\", \"Host\": \"algo-1\", \"Operation\": \"training\", \"epoch\": 0, \"model\": 12}, \"Metrics\": {\"validation_binary_classification_cross_entropy_objective\": {\"sum\": 0.48977063539899734, \"count\": 1, \"min\": 0.48977063539899734, \"max\": 0.48977063539899734}}}\u001b[0m\n",
            "\u001b[34m#metrics {\"StartTime\": 1650873225.1597648, \"EndTime\": 1650873225.159782, \"Dimensions\": {\"Algorithm\": \"Linear Learner\", \"Host\": \"algo-1\", \"Operation\": \"training\", \"epoch\": 0, \"model\": 13}, \"Metrics\": {\"validation_binary_classification_cross_entropy_objective\": {\"sum\": 0.5092701665897083, \"count\": 1, \"min\": 0.5092701665897083, \"max\": 0.5092701665897083}}}\u001b[0m\n",
            "\u001b[34m#metrics {\"StartTime\": 1650873225.1598334, \"EndTime\": 1650873225.1598494, \"Dimensions\": {\"Algorithm\": \"Linear Learner\", \"Host\": \"algo-1\", \"Operation\": \"training\", \"epoch\": 0, \"model\": 14}, \"Metrics\": {\"validation_binary_classification_cross_entropy_objective\": {\"sum\": 0.4897642215559924, \"count\": 1, \"min\": 0.4897642215559924, \"max\": 0.4897642215559924}}}\u001b[0m\n",
            "\u001b[34m#metrics {\"StartTime\": 1650873225.1599028, \"EndTime\": 1650873225.1599185, \"Dimensions\": {\"Algorithm\": \"Linear Learner\", \"Host\": \"algo-1\", \"Operation\": \"training\", \"epoch\": 0, \"model\": 15}, \"Metrics\": {\"validation_binary_classification_cross_entropy_objective\": {\"sum\": 0.5092917831531263, \"count\": 1, \"min\": 0.5092917831531263, \"max\": 0.5092917831531263}}}\u001b[0m\n",
            "\u001b[34m#metrics {\"StartTime\": 1650873225.1599703, \"EndTime\": 1650873225.1599872, \"Dimensions\": {\"Algorithm\": \"Linear Learner\", \"Host\": \"algo-1\", \"Operation\": \"training\", \"epoch\": 0, \"model\": 16}, \"Metrics\": {\"validation_binary_classification_cross_entropy_objective\": {\"sum\": 0.5045786952127534, \"count\": 1, \"min\": 0.5045786952127534, \"max\": 0.5045786952127534}}}\u001b[0m\n",
            "\u001b[34m#metrics {\"StartTime\": 1650873225.1600392, \"EndTime\": 1650873225.1600564, \"Dimensions\": {\"Algorithm\": \"Linear Learner\", \"Host\": \"algo-1\", \"Operation\": \"training\", \"epoch\": 0, \"model\": 17}, \"Metrics\": {\"validation_binary_classification_cross_entropy_objective\": {\"sum\": 0.5050030589487801, \"count\": 1, \"min\": 0.5050030589487801, \"max\": 0.5050030589487801}}}\u001b[0m\n",
            "\u001b[34m#metrics {\"StartTime\": 1650873225.160107, \"EndTime\": 1650873225.1601253, \"Dimensions\": {\"Algorithm\": \"Linear Learner\", \"Host\": \"algo-1\", \"Operation\": \"training\", \"epoch\": 0, \"model\": 18}, \"Metrics\": {\"validation_binary_classification_cross_entropy_objective\": {\"sum\": 0.5045835861528752, \"count\": 1, \"min\": 0.5045835861528752, \"max\": 0.5045835861528752}}}\u001b[0m\n",
            "\u001b[34m#metrics {\"StartTime\": 1650873225.160188, \"EndTime\": 1650873225.1602054, \"Dimensions\": {\"Algorithm\": \"Linear Learner\", \"Host\": \"algo-1\", \"Operation\": \"training\", \"epoch\": 0, \"model\": 19}, \"Metrics\": {\"validation_binary_classification_cross_entropy_objective\": {\"sum\": 0.5050050072643774, \"count\": 1, \"min\": 0.5050050072643774, \"max\": 0.5050050072643774}}}\u001b[0m\n",
            "\u001b[34m#metrics {\"StartTime\": 1650873225.1602626, \"EndTime\": 1650873225.1602795, \"Dimensions\": {\"Algorithm\": \"Linear Learner\", \"Host\": \"algo-1\", \"Operation\": \"training\", \"epoch\": 0, \"model\": 20}, \"Metrics\": {\"validation_binary_classification_cross_entropy_objective\": {\"sum\": 0.5082973449228255, \"count\": 1, \"min\": 0.5082973449228255, \"max\": 0.5082973449228255}}}\u001b[0m\n",
            "\u001b[34m#metrics {\"StartTime\": 1650873225.1603436, \"EndTime\": 1650873225.1603613, \"Dimensions\": {\"Algorithm\": \"Linear Learner\", \"Host\": \"algo-1\", \"Operation\": \"training\", \"epoch\": 0, \"model\": 21}, \"Metrics\": {\"validation_binary_classification_cross_entropy_objective\": {\"sum\": 0.5084928802793808, \"count\": 1, \"min\": 0.5084928802793808, \"max\": 0.5084928802793808}}}\u001b[0m\n",
            "\u001b[34m#metrics {\"StartTime\": 1650873225.1604154, \"EndTime\": 1650873225.1604316, \"Dimensions\": {\"Algorithm\": \"Linear Learner\", \"Host\": \"algo-1\", \"Operation\": \"training\", \"epoch\": 0, \"model\": 22}, \"Metrics\": {\"validation_binary_classification_cross_entropy_objective\": {\"sum\": 0.5083059356474694, \"count\": 1, \"min\": 0.5083059356474694, \"max\": 0.5083059356474694}}}\u001b[0m\n",
            "\u001b[34m#metrics {\"StartTime\": 1650873225.160486, \"EndTime\": 1650873225.1605027, \"Dimensions\": {\"Algorithm\": \"Linear Learner\", \"Host\": \"algo-1\", \"Operation\": \"training\", \"epoch\": 0, \"model\": 23}, \"Metrics\": {\"validation_binary_classification_cross_entropy_objective\": {\"sum\": 0.5084917936111143, \"count\": 1, \"min\": 0.5084917936111143, \"max\": 0.5084917936111143}}}\u001b[0m\n",
            "\u001b[34m#metrics {\"StartTime\": 1650873225.160565, \"EndTime\": 1650873225.1605823, \"Dimensions\": {\"Algorithm\": \"Linear Learner\", \"Host\": \"algo-1\", \"Operation\": \"training\", \"epoch\": 0, \"model\": 24}, \"Metrics\": {\"validation_binary_classification_cross_entropy_objective\": {\"sum\": 0.5137503742810913, \"count\": 1, \"min\": 0.5137503742810913, \"max\": 0.5137503742810913}}}\u001b[0m\n",
            "\u001b[34m#metrics {\"StartTime\": 1650873225.1606379, \"EndTime\": 1650873225.1606529, \"Dimensions\": {\"Algorithm\": \"Linear Learner\", \"Host\": \"algo-1\", \"Operation\": \"training\", \"epoch\": 0, \"model\": 25}, \"Metrics\": {\"validation_binary_classification_cross_entropy_objective\": {\"sum\": 0.514396537570994, \"count\": 1, \"min\": 0.514396537570994, \"max\": 0.514396537570994}}}\u001b[0m\n",
            "\u001b[34m#metrics {\"StartTime\": 1650873225.1607087, \"EndTime\": 1650873225.160724, \"Dimensions\": {\"Algorithm\": \"Linear Learner\", \"Host\": \"algo-1\", \"Operation\": \"training\", \"epoch\": 0, \"model\": 26}, \"Metrics\": {\"validation_binary_classification_cross_entropy_objective\": {\"sum\": 0.5137436652613697, \"count\": 1, \"min\": 0.5137436652613697, \"max\": 0.5137436652613697}}}\u001b[0m\n",
            "\u001b[34m#metrics {\"StartTime\": 1650873225.16078, \"EndTime\": 1650873225.1607938, \"Dimensions\": {\"Algorithm\": \"Linear Learner\", \"Host\": \"algo-1\", \"Operation\": \"training\", \"epoch\": 0, \"model\": 27}, \"Metrics\": {\"validation_binary_classification_cross_entropy_objective\": {\"sum\": 0.5144291193337056, \"count\": 1, \"min\": 0.5144291193337056, \"max\": 0.5144291193337056}}}\u001b[0m\n",
            "\u001b[34m#metrics {\"StartTime\": 1650873225.1608467, \"EndTime\": 1650873225.1608636, \"Dimensions\": {\"Algorithm\": \"Linear Learner\", \"Host\": \"algo-1\", \"Operation\": \"training\", \"epoch\": 0, \"model\": 28}, \"Metrics\": {\"validation_binary_classification_cross_entropy_objective\": {\"sum\": 0.5153029172352966, \"count\": 1, \"min\": 0.5153029172352966, \"max\": 0.5153029172352966}}}\u001b[0m\n",
            "\u001b[34m#metrics {\"StartTime\": 1650873225.1609266, \"EndTime\": 1650873225.160944, \"Dimensions\": {\"Algorithm\": \"Linear Learner\", \"Host\": \"algo-1\", \"Operation\": \"training\", \"epoch\": 0, \"model\": 29}, \"Metrics\": {\"validation_binary_classification_cross_entropy_objective\": {\"sum\": 0.5137086327109384, \"count\": 1, \"min\": 0.5137086327109384, \"max\": 0.5137086327109384}}}\u001b[0m\n",
            "\u001b[34m#metrics {\"StartTime\": 1650873225.1610103, \"EndTime\": 1650873225.161029, \"Dimensions\": {\"Algorithm\": \"Linear Learner\", \"Host\": \"algo-1\", \"Operation\": \"training\", \"epoch\": 0, \"model\": 30}, \"Metrics\": {\"validation_binary_classification_cross_entropy_objective\": {\"sum\": 0.5152524326875284, \"count\": 1, \"min\": 0.5152524326875284, \"max\": 0.5152524326875284}}}\u001b[0m\n",
            "\u001b[34m#metrics {\"StartTime\": 1650873225.1610868, \"EndTime\": 1650873225.161105, \"Dimensions\": {\"Algorithm\": \"Linear Learner\", \"Host\": \"algo-1\", \"Operation\": \"training\", \"epoch\": 0, \"model\": 31}, \"Metrics\": {\"validation_binary_classification_cross_entropy_objective\": {\"sum\": 0.5138791799217307, \"count\": 1, \"min\": 0.5138791799217307, \"max\": 0.5138791799217307}}}\u001b[0m\n",
            "\u001b[34m[04/25/2022 07:53:45 INFO 140034759915328] #quality_metric: host=algo-1, epoch=0, validation binary_classification_cross_entropy_objective <loss>=0.4807035151258491\u001b[0m\n",
            "\u001b[34m[04/25/2022 07:53:45 INFO 140034759915328] #early_stopping_criteria_metric: host=algo-1, epoch=0, criteria=binary_classification_cross_entropy_objective, value=0.4807035151258491\u001b[0m\n",
            "\u001b[34m[04/25/2022 07:53:45 INFO 140034759915328] Epoch 0: Loss improved. Updating best model\u001b[0m\n",
            "\u001b[34m[04/25/2022 07:53:45 INFO 140034759915328] Saving model for epoch: 0\u001b[0m\n",
            "\u001b[34m[04/25/2022 07:53:45 INFO 140034759915328] Saved checkpoint to \"/tmp/tmpr555rgbv/mx-mod-0000.params\"\u001b[0m\n",
            "\u001b[34m[04/25/2022 07:53:45 INFO 140034759915328] #progress_metric: host=algo-1, completed 6.666666666666667 % of epochs\u001b[0m\n",
            "\u001b[34m#metrics {\"StartTime\": 1650873160.545917, \"EndTime\": 1650873225.1722572, \"Dimensions\": {\"Algorithm\": \"Linear Learner\", \"Host\": \"algo-1\", \"Operation\": \"training\", \"epoch\": 0, \"Meta\": \"training_data_iter\"}, \"Metrics\": {\"Total Records Seen\": {\"sum\": 1320472.0, \"count\": 1, \"min\": 1320472, \"max\": 1320472}, \"Total Batches Seen\": {\"sum\": 1321.0, \"count\": 1, \"min\": 1321, \"max\": 1321}, \"Max Records Seen Between Resets\": {\"sum\": 1308472.0, \"count\": 1, \"min\": 1308472, \"max\": 1308472}, \"Max Batches Seen Between Resets\": {\"sum\": 1309.0, \"count\": 1, \"min\": 1309, \"max\": 1309}, \"Reset Count\": {\"sum\": 3.0, \"count\": 1, \"min\": 3, \"max\": 3}, \"Number of Records Since Last Reset\": {\"sum\": 1308472.0, \"count\": 1, \"min\": 1308472, \"max\": 1308472}, \"Number of Batches Since Last Reset\": {\"sum\": 1309.0, \"count\": 1, \"min\": 1309, \"max\": 1309}}}\u001b[0m\n",
            "\u001b[34m[04/25/2022 07:53:45 INFO 140034759915328] #throughput_metric: host=algo-1, train throughput=20246.69157650015 records/second\u001b[0m\n",
            "\u001b[34m[2022-04-25 07:54:43.958] [tensorio] [info] epoch_stats={\"data_pipeline\": \"/opt/ml/input/data/train\", \"epoch\": 5, \"duration\": 58785, \"num_examples\": 1309, \"num_bytes\": 507687136}\u001b[0m\n",
            "\u001b[34m#metrics {\"StartTime\": 1650873283.9588041, \"EndTime\": 1650873283.95891, \"Dimensions\": {\"Algorithm\": \"Linear Learner\", \"Host\": \"algo-1\", \"Operation\": \"training\", \"epoch\": 1, \"model\": 0}, \"Metrics\": {\"train_binary_classification_cross_entropy_objective\": {\"sum\": 0.48063508727280735, \"count\": 1, \"min\": 0.48063508727280735, \"max\": 0.48063508727280735}}}\u001b[0m\n",
            "\u001b[34m#metrics {\"StartTime\": 1650873283.9590168, \"EndTime\": 1650873283.9590385, \"Dimensions\": {\"Algorithm\": \"Linear Learner\", \"Host\": \"algo-1\", \"Operation\": \"training\", \"epoch\": 1, \"model\": 1}, \"Metrics\": {\"train_binary_classification_cross_entropy_objective\": {\"sum\": 0.4815948541390422, \"count\": 1, \"min\": 0.4815948541390422, \"max\": 0.4815948541390422}}}\u001b[0m\n",
            "\u001b[34m#metrics {\"StartTime\": 1650873283.9591007, \"EndTime\": 1650873283.9591188, \"Dimensions\": {\"Algorithm\": \"Linear Learner\", \"Host\": \"algo-1\", \"Operation\": \"training\", \"epoch\": 1, \"model\": 2}, \"Metrics\": {\"train_binary_classification_cross_entropy_objective\": {\"sum\": 0.4806350851029796, \"count\": 1, \"min\": 0.4806350851029796, \"max\": 0.4806350851029796}}}\u001b[0m\n",
            "\u001b[34m#metrics {\"StartTime\": 1650873283.959173, \"EndTime\": 1650873283.9591892, \"Dimensions\": {\"Algorithm\": \"Linear Learner\", \"Host\": \"algo-1\", \"Operation\": \"training\", \"epoch\": 1, \"model\": 3}, \"Metrics\": {\"train_binary_classification_cross_entropy_objective\": {\"sum\": 0.48159458802016136, \"count\": 1, \"min\": 0.48159458802016136, \"max\": 0.48159458802016136}}}\u001b[0m\n",
            "\u001b[34m#metrics {\"StartTime\": 1650873283.9592476, \"EndTime\": 1650873283.9592662, \"Dimensions\": {\"Algorithm\": \"Linear Learner\", \"Host\": \"algo-1\", \"Operation\": \"training\", \"epoch\": 1, \"model\": 4}, \"Metrics\": {\"train_binary_classification_cross_entropy_objective\": {\"sum\": 0.4844748510891509, \"count\": 1, \"min\": 0.4844748510891509, \"max\": 0.4844748510891509}}}\u001b[0m\n",
            "\u001b[34m#metrics {\"StartTime\": 1650873283.9593222, \"EndTime\": 1650873283.9593396, \"Dimensions\": {\"Algorithm\": \"Linear Learner\", \"Host\": \"algo-1\", \"Operation\": \"training\", \"epoch\": 1, \"model\": 5}, \"Metrics\": {\"train_binary_classification_cross_entropy_objective\": {\"sum\": 0.5009650261555243, \"count\": 1, \"min\": 0.5009650261555243, \"max\": 0.5009650261555243}}}\u001b[0m\n",
            "\u001b[34m#metrics {\"StartTime\": 1650873283.9593954, \"EndTime\": 1650873283.9594123, \"Dimensions\": {\"Algorithm\": \"Linear Learner\", \"Host\": \"algo-1\", \"Operation\": \"training\", \"epoch\": 1, \"model\": 6}, \"Metrics\": {\"train_binary_classification_cross_entropy_objective\": {\"sum\": 0.4844749774057931, \"count\": 1, \"min\": 0.4844749774057931, \"max\": 0.4844749774057931}}}\u001b[0m\n",
            "\u001b[34m#metrics {\"StartTime\": 1650873283.9594693, \"EndTime\": 1650873283.9594862, \"Dimensions\": {\"Algorithm\": \"Linear Learner\", \"Host\": \"algo-1\", \"Operation\": \"training\", \"epoch\": 1, \"model\": 7}, \"Metrics\": {\"train_binary_classification_cross_entropy_objective\": {\"sum\": 0.5009654631308459, \"count\": 1, \"min\": 0.5009654631308459, \"max\": 0.5009654631308459}}}\u001b[0m\n",
            "\u001b[34m#metrics {\"StartTime\": 1650873283.959543, \"EndTime\": 1650873283.9595602, \"Dimensions\": {\"Algorithm\": \"Linear Learner\", \"Host\": \"algo-1\", \"Operation\": \"training\", \"epoch\": 1, \"model\": 8}, \"Metrics\": {\"train_binary_classification_cross_entropy_objective\": {\"sum\": 0.48089695023469603, \"count\": 1, \"min\": 0.48089695023469603, \"max\": 0.48089695023469603}}}\u001b[0m\n",
            "\u001b[34m#metrics {\"StartTime\": 1650873283.9596126, \"EndTime\": 1650873283.9596298, \"Dimensions\": {\"Algorithm\": \"Linear Learner\", \"Host\": \"algo-1\", \"Operation\": \"training\", \"epoch\": 1, \"model\": 9}, \"Metrics\": {\"train_binary_classification_cross_entropy_objective\": {\"sum\": 0.4818032225162611, \"count\": 1, \"min\": 0.4818032225162611, \"max\": 0.4818032225162611}}}\u001b[0m\n",
            "\u001b[34m#metrics {\"StartTime\": 1650873283.9596834, \"EndTime\": 1650873283.9597013, \"Dimensions\": {\"Algorithm\": \"Linear Learner\", \"Host\": \"algo-1\", \"Operation\": \"training\", \"epoch\": 1, \"model\": 10}, \"Metrics\": {\"train_binary_classification_cross_entropy_objective\": {\"sum\": 0.4808967823413534, \"count\": 1, \"min\": 0.4808967823413534, \"max\": 0.4808967823413534}}}\u001b[0m\n",
            "\u001b[34m#metrics {\"StartTime\": 1650873283.9597554, \"EndTime\": 1650873283.9597726, \"Dimensions\": {\"Algorithm\": \"Linear Learner\", \"Host\": \"algo-1\", \"Operation\": \"training\", \"epoch\": 1, \"model\": 11}, \"Metrics\": {\"train_binary_classification_cross_entropy_objective\": {\"sum\": 0.4818032827348155, \"count\": 1, \"min\": 0.4818032827348155, \"max\": 0.4818032827348155}}}\u001b[0m\n",
            "\u001b[34m#metrics {\"StartTime\": 1650873283.959829, \"EndTime\": 1650873283.9598467, \"Dimensions\": {\"Algorithm\": \"Linear Learner\", \"Host\": \"algo-1\", \"Operation\": \"training\", \"epoch\": 1, \"model\": 12}, \"Metrics\": {\"train_binary_classification_cross_entropy_objective\": {\"sum\": 0.4844948034257335, \"count\": 1, \"min\": 0.4844948034257335, \"max\": 0.4844948034257335}}}\u001b[0m\n",
            "\u001b[34m#metrics {\"StartTime\": 1650873283.9599013, \"EndTime\": 1650873283.9599204, \"Dimensions\": {\"Algorithm\": \"Linear Learner\", \"Host\": \"algo-1\", \"Operation\": \"training\", \"epoch\": 1, \"model\": 13}, \"Metrics\": {\"train_binary_classification_cross_entropy_objective\": {\"sum\": 0.49967065299031205, \"count\": 1, \"min\": 0.49967065299031205, \"max\": 0.49967065299031205}}}\u001b[0m\n",
            "\u001b[34m#metrics {\"StartTime\": 1650873283.959977, \"EndTime\": 1650873283.9599943, \"Dimensions\": {\"Algorithm\": \"Linear Learner\", \"Host\": \"algo-1\", \"Operation\": \"training\", \"epoch\": 1, \"model\": 14}, \"Metrics\": {\"train_binary_classification_cross_entropy_objective\": {\"sum\": 0.48449438905861764, \"count\": 1, \"min\": 0.48449438905861764, \"max\": 0.48449438905861764}}}\u001b[0m\n",
            "\u001b[34m#metrics {\"StartTime\": 1650873283.9600506, \"EndTime\": 1650873283.960067, \"Dimensions\": {\"Algorithm\": \"Linear Learner\", \"Host\": \"algo-1\", \"Operation\": \"training\", \"epoch\": 1, \"model\": 15}, \"Metrics\": {\"train_binary_classification_cross_entropy_objective\": {\"sum\": 0.49966940722917563, \"count\": 1, \"min\": 0.49966940722917563, \"max\": 0.49966940722917563}}}\u001b[0m\n",
            "\u001b[34m#metrics {\"StartTime\": 1650873283.9601202, \"EndTime\": 1650873283.9601383, \"Dimensions\": {\"Algorithm\": \"Linear Learner\", \"Host\": \"algo-1\", \"Operation\": \"training\", \"epoch\": 1, \"model\": 16}, \"Metrics\": {\"train_binary_classification_cross_entropy_objective\": {\"sum\": 0.5045832152993672, \"count\": 1, \"min\": 0.5045832152993672, \"max\": 0.5045832152993672}}}\u001b[0m\n",
            "\u001b[34m#metrics {\"StartTime\": 1650873283.960193, \"EndTime\": 1650873283.9602091, \"Dimensions\": {\"Algorithm\": \"Linear Learner\", \"Host\": \"algo-1\", \"Operation\": \"training\", \"epoch\": 1, \"model\": 17}, \"Metrics\": {\"train_binary_classification_cross_entropy_objective\": {\"sum\": 0.5048362642807334, \"count\": 1, \"min\": 0.5048362642807334, \"max\": 0.5048362642807334}}}\u001b[0m\n",
            "\u001b[34m#metrics {\"StartTime\": 1650873283.9602623, \"EndTime\": 1650873283.9602802, \"Dimensions\": {\"Algorithm\": \"Linear Learner\", \"Host\": \"algo-1\", \"Operation\": \"training\", \"epoch\": 1, \"model\": 18}, \"Metrics\": {\"train_binary_classification_cross_entropy_objective\": {\"sum\": 0.5045831962375465, \"count\": 1, \"min\": 0.5045831962375465, \"max\": 0.5045831962375465}}}\u001b[0m\n",
            "\u001b[34m#metrics {\"StartTime\": 1650873283.9603353, \"EndTime\": 1650873283.9603524, \"Dimensions\": {\"Algorithm\": \"Linear Learner\", \"Host\": \"algo-1\", \"Operation\": \"training\", \"epoch\": 1, \"model\": 19}, \"Metrics\": {\"train_binary_classification_cross_entropy_objective\": {\"sum\": 0.5048363600331345, \"count\": 1, \"min\": 0.5048363600331345, \"max\": 0.5048363600331345}}}\u001b[0m\n",
            "\u001b[34m#metrics {\"StartTime\": 1650873283.9604077, \"EndTime\": 1650873283.9604263, \"Dimensions\": {\"Algorithm\": \"Linear Learner\", \"Host\": \"algo-1\", \"Operation\": \"training\", \"epoch\": 1, \"model\": 20}, \"Metrics\": {\"train_binary_classification_cross_entropy_objective\": {\"sum\": 0.5054291102791416, \"count\": 1, \"min\": 0.5054291102791416, \"max\": 0.5054291102791416}}}\u001b[0m\n",
            "\u001b[34m#metrics {\"StartTime\": 1650873283.9604905, \"EndTime\": 1650873283.9605086, \"Dimensions\": {\"Algorithm\": \"Linear Learner\", \"Host\": \"algo-1\", \"Operation\": \"training\", \"epoch\": 1, \"model\": 21}, \"Metrics\": {\"train_binary_classification_cross_entropy_objective\": {\"sum\": 0.508341193616208, \"count\": 1, \"min\": 0.508341193616208, \"max\": 0.508341193616208}}}\u001b[0m\n",
            "\u001b[34m#metrics {\"StartTime\": 1650873283.9605618, \"EndTime\": 1650873283.96058, \"Dimensions\": {\"Algorithm\": \"Linear Learner\", \"Host\": \"algo-1\", \"Operation\": \"training\", \"epoch\": 1, \"model\": 22}, \"Metrics\": {\"train_binary_classification_cross_entropy_objective\": {\"sum\": 0.505429727210182, \"count\": 1, \"min\": 0.505429727210182, \"max\": 0.505429727210182}}}\u001b[0m\n",
            "\u001b[34m#metrics {\"StartTime\": 1650873283.9606333, \"EndTime\": 1650873283.9606512, \"Dimensions\": {\"Algorithm\": \"Linear Learner\", \"Host\": \"algo-1\", \"Operation\": \"training\", \"epoch\": 1, \"model\": 23}, \"Metrics\": {\"train_binary_classification_cross_entropy_objective\": {\"sum\": 0.5083404207375436, \"count\": 1, \"min\": 0.5083404207375436, \"max\": 0.5083404207375436}}}\u001b[0m\n",
            "\u001b[34m#metrics {\"StartTime\": 1650873283.9607046, \"EndTime\": 1650873283.9607217, \"Dimensions\": {\"Algorithm\": \"Linear Learner\", \"Host\": \"algo-1\", \"Operation\": \"training\", \"epoch\": 1, \"model\": 24}, \"Metrics\": {\"train_binary_classification_cross_entropy_objective\": {\"sum\": 0.513740225415711, \"count\": 1, \"min\": 0.513740225415711, \"max\": 0.513740225415711}}}\u001b[0m\n",
            "\u001b[34m#metrics {\"StartTime\": 1650873283.960772, \"EndTime\": 1650873283.9607882, \"Dimensions\": {\"Algorithm\": \"Linear Learner\", \"Host\": \"algo-1\", \"Operation\": \"training\", \"epoch\": 1, \"model\": 25}, \"Metrics\": {\"train_binary_classification_cross_entropy_objective\": {\"sum\": 0.5138389476577806, \"count\": 1, \"min\": 0.5138389476577806, \"max\": 0.5138389476577806}}}\u001b[0m\n",
            "\u001b[34m#metrics {\"StartTime\": 1650873283.960843, \"EndTime\": 1650873283.9608605, \"Dimensions\": {\"Algorithm\": \"Linear Learner\", \"Host\": \"algo-1\", \"Operation\": \"training\", \"epoch\": 1, \"model\": 26}, \"Metrics\": {\"train_binary_classification_cross_entropy_objective\": {\"sum\": 0.5137402658025059, \"count\": 1, \"min\": 0.5137402658025059, \"max\": 0.5137402658025059}}}\u001b[0m\n",
            "\u001b[34m#metrics {\"StartTime\": 1650873283.9609225, \"EndTime\": 1650873283.9609401, \"Dimensions\": {\"Algorithm\": \"Linear Learner\", \"Host\": \"algo-1\", \"Operation\": \"training\", \"epoch\": 1, \"model\": 27}, \"Metrics\": {\"train_binary_classification_cross_entropy_objective\": {\"sum\": 0.5138391754663684, \"count\": 1, \"min\": 0.5138391754663684, \"max\": 0.5138391754663684}}}\u001b[0m\n",
            "\u001b[34m#metrics {\"StartTime\": 1650873283.9610054, \"EndTime\": 1650873283.9610271, \"Dimensions\": {\"Algorithm\": \"Linear Learner\", \"Host\": \"algo-1\", \"Operation\": \"training\", \"epoch\": 1, \"model\": 28}, \"Metrics\": {\"train_binary_classification_cross_entropy_objective\": {\"sum\": 0.5141223115833528, \"count\": 1, \"min\": 0.5141223115833528, \"max\": 0.5141223115833528}}}\u001b[0m\n",
            "\u001b[34m#metrics {\"StartTime\": 1650873283.9610906, \"EndTime\": 1650873283.961107, \"Dimensions\": {\"Algorithm\": \"Linear Learner\", \"Host\": \"algo-1\", \"Operation\": \"training\", \"epoch\": 1, \"model\": 29}, \"Metrics\": {\"train_binary_classification_cross_entropy_objective\": {\"sum\": 0.5152013883211561, \"count\": 1, \"min\": 0.5152013883211561, \"max\": 0.5152013883211561}}}\u001b[0m\n",
            "\u001b[34m#metrics {\"StartTime\": 1650873283.9611585, \"EndTime\": 1650873283.9612124, \"Dimensions\": {\"Algorithm\": \"Linear Learner\", \"Host\": \"algo-1\", \"Operation\": \"training\", \"epoch\": 1, \"model\": 30}, \"Metrics\": {\"train_binary_classification_cross_entropy_objective\": {\"sum\": 0.5141211708372156, \"count\": 1, \"min\": 0.5141211708372156, \"max\": 0.5141211708372156}}}\u001b[0m\n",
            "\u001b[34m#metrics {\"StartTime\": 1650873283.9612696, \"EndTime\": 1650873283.961287, \"Dimensions\": {\"Algorithm\": \"Linear Learner\", \"Host\": \"algo-1\", \"Operation\": \"training\", \"epoch\": 1, \"model\": 31}, \"Metrics\": {\"train_binary_classification_cross_entropy_objective\": {\"sum\": 0.5152015392525116, \"count\": 1, \"min\": 0.5152015392525116, \"max\": 0.5152015392525116}}}\u001b[0m\n",
            "\u001b[34m[04/25/2022 07:54:43 INFO 140034759915328] #quality_metric: host=algo-1, epoch=1, train binary_classification_cross_entropy_objective <loss>=0.48063508727280735\u001b[0m\n",
            "\u001b[34m[2022-04-25 07:54:49.370] [tensorio] [info] epoch_stats={\"data_pipeline\": \"/opt/ml/input/data/validation\", \"epoch\": 5, \"duration\": 5378, \"num_examples\": 164, \"num_bytes\": 63460892}\u001b[0m\n",
            "\u001b[34m#metrics {\"StartTime\": 1650873289.3797333, \"EndTime\": 1650873289.3797922, \"Dimensions\": {\"Algorithm\": \"Linear Learner\", \"Host\": \"algo-1\", \"Operation\": \"training\", \"epoch\": 1, \"model\": 0}, \"Metrics\": {\"validation_binary_classification_cross_entropy_objective\": {\"sum\": 0.4805387775973736, \"count\": 1, \"min\": 0.4805387775973736, \"max\": 0.4805387775973736}}}\u001b[0m\n",
            "\u001b[34m#metrics {\"StartTime\": 1650873289.379885, \"EndTime\": 1650873289.3799078, \"Dimensions\": {\"Algorithm\": \"Linear Learner\", \"Host\": \"algo-1\", \"Operation\": \"training\", \"epoch\": 1, \"model\": 1}, \"Metrics\": {\"validation_binary_classification_cross_entropy_objective\": {\"sum\": 0.4818705901270241, \"count\": 1, \"min\": 0.4818705901270241, \"max\": 0.4818705901270241}}}\u001b[0m\n",
            "\u001b[34m#metrics {\"StartTime\": 1650873289.3799953, \"EndTime\": 1650873289.3800132, \"Dimensions\": {\"Algorithm\": \"Linear Learner\", \"Host\": \"algo-1\", \"Operation\": \"training\", \"epoch\": 1, \"model\": 2}, \"Metrics\": {\"validation_binary_classification_cross_entropy_objective\": {\"sum\": 0.4805395528560699, \"count\": 1, \"min\": 0.4805395528560699, \"max\": 0.4805395528560699}}}\u001b[0m\n",
            "\u001b[34m#metrics {\"StartTime\": 1650873289.3800771, \"EndTime\": 1650873289.3800967, \"Dimensions\": {\"Algorithm\": \"Linear Learner\", \"Host\": \"algo-1\", \"Operation\": \"training\", \"epoch\": 1, \"model\": 3}, \"Metrics\": {\"validation_binary_classification_cross_entropy_objective\": {\"sum\": 0.48187056456494437, \"count\": 1, \"min\": 0.48187056456494437, \"max\": 0.48187056456494437}}}\u001b[0m\n",
            "\u001b[34m#metrics {\"StartTime\": 1650873289.38016, \"EndTime\": 1650873289.3801773, \"Dimensions\": {\"Algorithm\": \"Linear Learner\", \"Host\": \"algo-1\", \"Operation\": \"training\", \"epoch\": 1, \"model\": 4}, \"Metrics\": {\"validation_binary_classification_cross_entropy_objective\": {\"sum\": 0.4821094707477142, \"count\": 1, \"min\": 0.4821094707477142, \"max\": 0.4821094707477142}}}\u001b[0m\n",
            "\u001b[34m#metrics {\"StartTime\": 1650873289.3802297, \"EndTime\": 1650873289.3802454, \"Dimensions\": {\"Algorithm\": \"Linear Learner\", \"Host\": \"algo-1\", \"Operation\": \"training\", \"epoch\": 1, \"model\": 5}, \"Metrics\": {\"validation_binary_classification_cross_entropy_objective\": {\"sum\": 0.5080981941179531, \"count\": 1, \"min\": 0.5080981941179531, \"max\": 0.5080981941179531}}}\u001b[0m\n",
            "\u001b[34m#metrics {\"StartTime\": 1650873289.3802922, \"EndTime\": 1650873289.3803067, \"Dimensions\": {\"Algorithm\": \"Linear Learner\", \"Host\": \"algo-1\", \"Operation\": \"training\", \"epoch\": 1, \"model\": 6}, \"Metrics\": {\"validation_binary_classification_cross_entropy_objective\": {\"sum\": 0.4821092375170595, \"count\": 1, \"min\": 0.4821092375170595, \"max\": 0.4821092375170595}}}\u001b[0m\n",
            "\u001b[34m#metrics {\"StartTime\": 1650873289.3803566, \"EndTime\": 1650873289.3803732, \"Dimensions\": {\"Algorithm\": \"Linear Learner\", \"Host\": \"algo-1\", \"Operation\": \"training\", \"epoch\": 1, \"model\": 7}, \"Metrics\": {\"validation_binary_classification_cross_entropy_objective\": {\"sum\": 0.5080970971875377, \"count\": 1, \"min\": 0.5080970971875377, \"max\": 0.5080970971875377}}}\u001b[0m\n",
            "\u001b[34m#metrics {\"StartTime\": 1650873289.3804224, \"EndTime\": 1650873289.380438, \"Dimensions\": {\"Algorithm\": \"Linear Learner\", \"Host\": \"algo-1\", \"Operation\": \"training\", \"epoch\": 1, \"model\": 8}, \"Metrics\": {\"validation_binary_classification_cross_entropy_objective\": {\"sum\": 0.480869491762147, \"count\": 1, \"min\": 0.480869491762147, \"max\": 0.480869491762147}}}\u001b[0m\n",
            "\u001b[34m#metrics {\"StartTime\": 1650873289.3804922, \"EndTime\": 1650873289.3805084, \"Dimensions\": {\"Algorithm\": \"Linear Learner\", \"Host\": \"algo-1\", \"Operation\": \"training\", \"epoch\": 1, \"model\": 9}, \"Metrics\": {\"validation_binary_classification_cross_entropy_objective\": {\"sum\": 0.48206560397983533, \"count\": 1, \"min\": 0.48206560397983533, \"max\": 0.48206560397983533}}}\u001b[0m\n",
            "\u001b[34m#metrics {\"StartTime\": 1650873289.3805594, \"EndTime\": 1650873289.380575, \"Dimensions\": {\"Algorithm\": \"Linear Learner\", \"Host\": \"algo-1\", \"Operation\": \"training\", \"epoch\": 1, \"model\": 10}, \"Metrics\": {\"validation_binary_classification_cross_entropy_objective\": {\"sum\": 0.4808691969585994, \"count\": 1, \"min\": 0.4808691969585994, \"max\": 0.4808691969585994}}}\u001b[0m\n",
            "\u001b[34m#metrics {\"StartTime\": 1650873289.380627, \"EndTime\": 1650873289.3806443, \"Dimensions\": {\"Algorithm\": \"Linear Learner\", \"Host\": \"algo-1\", \"Operation\": \"training\", \"epoch\": 1, \"model\": 11}, \"Metrics\": {\"validation_binary_classification_cross_entropy_objective\": {\"sum\": 0.4820651483404283, \"count\": 1, \"min\": 0.4820651483404283, \"max\": 0.4820651483404283}}}\u001b[0m\n",
            "\u001b[34m#metrics {\"StartTime\": 1650873289.3806956, \"EndTime\": 1650873289.3807125, \"Dimensions\": {\"Algorithm\": \"Linear Learner\", \"Host\": \"algo-1\", \"Operation\": \"training\", \"epoch\": 1, \"model\": 12}, \"Metrics\": {\"validation_binary_classification_cross_entropy_objective\": {\"sum\": 0.48217431148191126, \"count\": 1, \"min\": 0.48217431148191126, \"max\": 0.48217431148191126}}}\u001b[0m\n",
            "\u001b[34m#metrics {\"StartTime\": 1650873289.3807647, \"EndTime\": 1650873289.3807805, \"Dimensions\": {\"Algorithm\": \"Linear Learner\", \"Host\": \"algo-1\", \"Operation\": \"training\", \"epoch\": 1, \"model\": 13}, \"Metrics\": {\"validation_binary_classification_cross_entropy_objective\": {\"sum\": 0.507049371723337, \"count\": 1, \"min\": 0.507049371723337, \"max\": 0.507049371723337}}}\u001b[0m\n",
            "\u001b[34m#metrics {\"StartTime\": 1650873289.380831, \"EndTime\": 1650873289.380848, \"Dimensions\": {\"Algorithm\": \"Linear Learner\", \"Host\": \"algo-1\", \"Operation\": \"training\", \"epoch\": 1, \"model\": 14}, \"Metrics\": {\"validation_binary_classification_cross_entropy_objective\": {\"sum\": 0.48217490071583735, \"count\": 1, \"min\": 0.48217490071583735, \"max\": 0.48217490071583735}}}\u001b[0m\n",
            "\u001b[34m#metrics {\"StartTime\": 1650873289.380898, \"EndTime\": 1650873289.3809135, \"Dimensions\": {\"Algorithm\": \"Linear Learner\", \"Host\": \"algo-1\", \"Operation\": \"training\", \"epoch\": 1, \"model\": 15}, \"Metrics\": {\"validation_binary_classification_cross_entropy_objective\": {\"sum\": 0.5070519826005782, \"count\": 1, \"min\": 0.5070519826005782, \"max\": 0.5070519826005782}}}\u001b[0m\n",
            "\u001b[34m#metrics {\"StartTime\": 1650873289.3809648, \"EndTime\": 1650873289.38099, \"Dimensions\": {\"Algorithm\": \"Linear Learner\", \"Host\": \"algo-1\", \"Operation\": \"training\", \"epoch\": 1, \"model\": 16}, \"Metrics\": {\"validation_binary_classification_cross_entropy_objective\": {\"sum\": 0.5046853032657678, \"count\": 1, \"min\": 0.5046853032657678, \"max\": 0.5046853032657678}}}\u001b[0m\n",
            "\u001b[34m#metrics {\"StartTime\": 1650873289.38104, \"EndTime\": 1650873289.3810577, \"Dimensions\": {\"Algorithm\": \"Linear Learner\", \"Host\": \"algo-1\", \"Operation\": \"training\", \"epoch\": 1, \"model\": 17}, \"Metrics\": {\"validation_binary_classification_cross_entropy_objective\": {\"sum\": 0.505091201477814, \"count\": 1, \"min\": 0.505091201477814, \"max\": 0.505091201477814}}}\u001b[0m\n",
            "\u001b[34m#metrics {\"StartTime\": 1650873289.3811083, \"EndTime\": 1650873289.3811228, \"Dimensions\": {\"Algorithm\": \"Linear Learner\", \"Host\": \"algo-1\", \"Operation\": \"training\", \"epoch\": 1, \"model\": 18}, \"Metrics\": {\"validation_binary_classification_cross_entropy_objective\": {\"sum\": 0.5046856406105867, \"count\": 1, \"min\": 0.5046856406105867, \"max\": 0.5046856406105867}}}\u001b[0m\n",
            "\u001b[34m#metrics {\"StartTime\": 1650873289.3811922, \"EndTime\": 1650873289.381209, \"Dimensions\": {\"Algorithm\": \"Linear Learner\", \"Host\": \"algo-1\", \"Operation\": \"training\", \"epoch\": 1, \"model\": 19}, \"Metrics\": {\"validation_binary_classification_cross_entropy_objective\": {\"sum\": 0.5050919784157709, \"count\": 1, \"min\": 0.5050919784157709, \"max\": 0.5050919784157709}}}\u001b[0m\n",
            "\u001b[34m#metrics {\"StartTime\": 1650873289.3812585, \"EndTime\": 1650873289.3812757, \"Dimensions\": {\"Algorithm\": \"Linear Learner\", \"Host\": \"algo-1\", \"Operation\": \"training\", \"epoch\": 1, \"model\": 20}, \"Metrics\": {\"validation_binary_classification_cross_entropy_objective\": {\"sum\": 0.5048444990473024, \"count\": 1, \"min\": 0.5048444990473024, \"max\": 0.5048444990473024}}}\u001b[0m\n",
            "\u001b[34m#metrics {\"StartTime\": 1650873289.3813343, \"EndTime\": 1650873289.3813517, \"Dimensions\": {\"Algorithm\": \"Linear Learner\", \"Host\": \"algo-1\", \"Operation\": \"training\", \"epoch\": 1, \"model\": 21}, \"Metrics\": {\"validation_binary_classification_cross_entropy_objective\": {\"sum\": 0.5087533349222175, \"count\": 1, \"min\": 0.5087533349222175, \"max\": 0.5087533349222175}}}\u001b[0m\n",
            "\u001b[34m#metrics {\"StartTime\": 1650873289.3813927, \"EndTime\": 1650873289.381409, \"Dimensions\": {\"Algorithm\": \"Linear Learner\", \"Host\": \"algo-1\", \"Operation\": \"training\", \"epoch\": 1, \"model\": 22}, \"Metrics\": {\"validation_binary_classification_cross_entropy_objective\": {\"sum\": 0.5048448462811012, \"count\": 1, \"min\": 0.5048448462811012, \"max\": 0.5048448462811012}}}\u001b[0m\n",
            "\u001b[34m#metrics {\"StartTime\": 1650873289.3814495, \"EndTime\": 1650873289.381466, \"Dimensions\": {\"Algorithm\": \"Linear Learner\", \"Host\": \"algo-1\", \"Operation\": \"training\", \"epoch\": 1, \"model\": 23}, \"Metrics\": {\"validation_binary_classification_cross_entropy_objective\": {\"sum\": 0.5087526494106771, \"count\": 1, \"min\": 0.5087526494106771, \"max\": 0.5087526494106771}}}\u001b[0m\n",
            "\u001b[34m#metrics {\"StartTime\": 1650873289.3815062, \"EndTime\": 1650873289.3815227, \"Dimensions\": {\"Algorithm\": \"Linear Learner\", \"Host\": \"algo-1\", \"Operation\": \"training\", \"epoch\": 1, \"model\": 24}, \"Metrics\": {\"validation_binary_classification_cross_entropy_objective\": {\"sum\": 0.5137414421067689, \"count\": 1, \"min\": 0.5137414421067689, \"max\": 0.5137414421067689}}}\u001b[0m\n",
            "\u001b[34m#metrics {\"StartTime\": 1650873289.3815634, \"EndTime\": 1650873289.38158, \"Dimensions\": {\"Algorithm\": \"Linear Learner\", \"Host\": \"algo-1\", \"Operation\": \"training\", \"epoch\": 1, \"model\": 25}, \"Metrics\": {\"validation_binary_classification_cross_entropy_objective\": {\"sum\": 0.5145607871809399, \"count\": 1, \"min\": 0.5145607871809399, \"max\": 0.5145607871809399}}}\u001b[0m\n",
            "\u001b[34m#metrics {\"StartTime\": 1650873289.3816204, \"EndTime\": 1650873289.381637, \"Dimensions\": {\"Algorithm\": \"Linear Learner\", \"Host\": \"algo-1\", \"Operation\": \"training\", \"epoch\": 1, \"model\": 26}, \"Metrics\": {\"validation_binary_classification_cross_entropy_objective\": {\"sum\": 0.513727405726214, \"count\": 1, \"min\": 0.513727405726214, \"max\": 0.513727405726214}}}\u001b[0m\n",
            "\u001b[34m#metrics {\"StartTime\": 1650873289.3816772, \"EndTime\": 1650873289.3816934, \"Dimensions\": {\"Algorithm\": \"Linear Learner\", \"Host\": \"algo-1\", \"Operation\": \"training\", \"epoch\": 1, \"model\": 27}, \"Metrics\": {\"validation_binary_classification_cross_entropy_objective\": {\"sum\": 0.5145702270517515, \"count\": 1, \"min\": 0.5145702270517515, \"max\": 0.5145702270517515}}}\u001b[0m\n",
            "\u001b[34m#metrics {\"StartTime\": 1650873289.3817337, \"EndTime\": 1650873289.3817499, \"Dimensions\": {\"Algorithm\": \"Linear Learner\", \"Host\": \"algo-1\", \"Operation\": \"training\", \"epoch\": 1, \"model\": 28}, \"Metrics\": {\"validation_binary_classification_cross_entropy_objective\": {\"sum\": 0.5139049213092161, \"count\": 1, \"min\": 0.5139049213092161, \"max\": 0.5139049213092161}}}\u001b[0m\n",
            "\u001b[34m#metrics {\"StartTime\": 1650873289.38179, \"EndTime\": 1650873289.3818061, \"Dimensions\": {\"Algorithm\": \"Linear Learner\", \"Host\": \"algo-1\", \"Operation\": \"training\", \"epoch\": 1, \"model\": 29}, \"Metrics\": {\"validation_binary_classification_cross_entropy_objective\": {\"sum\": 0.5144230616805566, \"count\": 1, \"min\": 0.5144230616805566, \"max\": 0.5144230616805566}}}\u001b[0m\n",
            "\u001b[34m#metrics {\"StartTime\": 1650873289.3818467, \"EndTime\": 1650873289.3818629, \"Dimensions\": {\"Algorithm\": \"Linear Learner\", \"Host\": \"algo-1\", \"Operation\": \"training\", \"epoch\": 1, \"model\": 30}, \"Metrics\": {\"validation_binary_classification_cross_entropy_objective\": {\"sum\": 0.5139352159188351, \"count\": 1, \"min\": 0.5139352159188351, \"max\": 0.5139352159188351}}}\u001b[0m\n",
            "\u001b[34m#metrics {\"StartTime\": 1650873289.3819032, \"EndTime\": 1650873289.381919, \"Dimensions\": {\"Algorithm\": \"Linear Learner\", \"Host\": \"algo-1\", \"Operation\": \"training\", \"epoch\": 1, \"model\": 31}, \"Metrics\": {\"validation_binary_classification_cross_entropy_objective\": {\"sum\": 0.5144218673530199, \"count\": 1, \"min\": 0.5144218673530199, \"max\": 0.5144218673530199}}}\u001b[0m\n",
            "\u001b[34m[04/25/2022 07:54:49 INFO 140034759915328] #quality_metric: host=algo-1, epoch=1, validation binary_classification_cross_entropy_objective <loss>=0.4805387775973736\u001b[0m\n",
            "\u001b[34m[04/25/2022 07:54:49 INFO 140034759915328] #early_stopping_criteria_metric: host=algo-1, epoch=1, criteria=binary_classification_cross_entropy_objective, value=0.4805387775973736\u001b[0m\n",
            "\u001b[34m[04/25/2022 07:54:49 INFO 140034759915328] Saving model for epoch: 1\u001b[0m\n",
            "\u001b[34m[04/25/2022 07:54:49 INFO 140034759915328] Saved checkpoint to \"/tmp/tmpi3qr1y1i/mx-mod-0000.params\"\u001b[0m\n",
            "\u001b[34m[04/25/2022 07:54:49 INFO 140034759915328] #progress_metric: host=algo-1, completed 13.333333333333334 % of epochs\u001b[0m\n",
            "\u001b[34m#metrics {\"StartTime\": 1650873225.1730566, \"EndTime\": 1650873289.4115667, \"Dimensions\": {\"Algorithm\": \"Linear Learner\", \"Host\": \"algo-1\", \"Operation\": \"training\", \"epoch\": 1, \"Meta\": \"training_data_iter\"}, \"Metrics\": {\"Total Records Seen\": {\"sum\": 2628944.0, \"count\": 1, \"min\": 2628944, \"max\": 2628944}, \"Total Batches Seen\": {\"sum\": 2630.0, \"count\": 1, \"min\": 2630, \"max\": 2630}, \"Max Records Seen Between Resets\": {\"sum\": 1308472.0, \"count\": 1, \"min\": 1308472, \"max\": 1308472}, \"Max Batches Seen Between Resets\": {\"sum\": 1309.0, \"count\": 1, \"min\": 1309, \"max\": 1309}, \"Reset Count\": {\"sum\": 4.0, \"count\": 1, \"min\": 4, \"max\": 4}, \"Number of Records Since Last Reset\": {\"sum\": 1308472.0, \"count\": 1, \"min\": 1308472, \"max\": 1308472}, \"Number of Batches Since Last Reset\": {\"sum\": 1309.0, \"count\": 1, \"min\": 1309, \"max\": 1309}}}\u001b[0m\n",
            "\u001b[34m[04/25/2022 07:54:49 INFO 140034759915328] #throughput_metric: host=algo-1, train throughput=20368.90953380974 records/second\u001b[0m\n",
            "\u001b[34m[2022-04-25 07:55:47.767] [tensorio] [info] epoch_stats={\"data_pipeline\": \"/opt/ml/input/data/train\", \"epoch\": 7, \"duration\": 58353, \"num_examples\": 1309, \"num_bytes\": 507687136}\u001b[0m\n",
            "\u001b[34m#metrics {\"StartTime\": 1650873347.7678256, \"EndTime\": 1650873347.7679236, \"Dimensions\": {\"Algorithm\": \"Linear Learner\", \"Host\": \"algo-1\", \"Operation\": \"training\", \"epoch\": 2, \"model\": 0}, \"Metrics\": {\"train_binary_classification_cross_entropy_objective\": {\"sum\": 0.48048688941045636, \"count\": 1, \"min\": 0.48048688941045636, \"max\": 0.48048688941045636}}}\u001b[0m\n",
            "\u001b[34m#metrics {\"StartTime\": 1650873347.7680378, \"EndTime\": 1650873347.7680612, \"Dimensions\": {\"Algorithm\": \"Linear Learner\", \"Host\": \"algo-1\", \"Operation\": \"training\", \"epoch\": 2, \"model\": 1}, \"Metrics\": {\"train_binary_classification_cross_entropy_objective\": {\"sum\": 0.4814654720901349, \"count\": 1, \"min\": 0.4814654720901349, \"max\": 0.4814654720901349}}}\u001b[0m\n",
            "\u001b[34m#metrics {\"StartTime\": 1650873347.7681308, \"EndTime\": 1650873347.7681503, \"Dimensions\": {\"Algorithm\": \"Linear Learner\", \"Host\": \"algo-1\", \"Operation\": \"training\", \"epoch\": 2, \"model\": 2}, \"Metrics\": {\"train_binary_classification_cross_entropy_objective\": {\"sum\": 0.48048690490256024, \"count\": 1, \"min\": 0.48048690490256024, \"max\": 0.48048690490256024}}}\u001b[0m\n",
            "\u001b[34m#metrics {\"StartTime\": 1650873347.7682207, \"EndTime\": 1650873347.7682407, \"Dimensions\": {\"Algorithm\": \"Linear Learner\", \"Host\": \"algo-1\", \"Operation\": \"training\", \"epoch\": 2, \"model\": 3}, \"Metrics\": {\"train_binary_classification_cross_entropy_objective\": {\"sum\": 0.4814654125481935, \"count\": 1, \"min\": 0.4814654125481935, \"max\": 0.4814654125481935}}}\u001b[0m\n",
            "\u001b[34m#metrics {\"StartTime\": 1650873347.7683096, \"EndTime\": 1650873347.768329, \"Dimensions\": {\"Algorithm\": \"Linear Learner\", \"Host\": \"algo-1\", \"Operation\": \"training\", \"epoch\": 2, \"model\": 4}, \"Metrics\": {\"train_binary_classification_cross_entropy_objective\": {\"sum\": 0.48155486883227616, \"count\": 1, \"min\": 0.48155486883227616, \"max\": 0.48155486883227616}}}\u001b[0m\n",
            "\u001b[34m#metrics {\"StartTime\": 1650873347.7683876, \"EndTime\": 1650873347.7684047, \"Dimensions\": {\"Algorithm\": \"Linear Learner\", \"Host\": \"algo-1\", \"Operation\": \"training\", \"epoch\": 2, \"model\": 5}, \"Metrics\": {\"train_binary_classification_cross_entropy_objective\": {\"sum\": 0.4985399199552857, \"count\": 1, \"min\": 0.4985399199552857, \"max\": 0.4985399199552857}}}\u001b[0m\n",
            "\u001b[34m#metrics {\"StartTime\": 1650873347.7684703, \"EndTime\": 1650873347.768489, \"Dimensions\": {\"Algorithm\": \"Linear Learner\", \"Host\": \"algo-1\", \"Operation\": \"training\", \"epoch\": 2, \"model\": 6}, \"Metrics\": {\"train_binary_classification_cross_entropy_objective\": {\"sum\": 0.4815548840210708, \"count\": 1, \"min\": 0.4815548840210708, \"max\": 0.4815548840210708}}}\u001b[0m\n",
            "\u001b[34m#metrics {\"StartTime\": 1650873347.768555, \"EndTime\": 1650873347.7685726, \"Dimensions\": {\"Algorithm\": \"Linear Learner\", \"Host\": \"algo-1\", \"Operation\": \"training\", \"epoch\": 2, \"model\": 7}, \"Metrics\": {\"train_binary_classification_cross_entropy_objective\": {\"sum\": 0.4985399291012265, \"count\": 1, \"min\": 0.4985399291012265, \"max\": 0.4985399291012265}}}\u001b[0m\n",
            "\u001b[34m#metrics {\"StartTime\": 1650873347.768648, \"EndTime\": 1650873347.7686665, \"Dimensions\": {\"Algorithm\": \"Linear Learner\", \"Host\": \"algo-1\", \"Operation\": \"training\", \"epoch\": 2, \"model\": 8}, \"Metrics\": {\"train_binary_classification_cross_entropy_objective\": {\"sum\": 0.48075822922359546, \"count\": 1, \"min\": 0.48075822922359546, \"max\": 0.48075822922359546}}}\u001b[0m\n",
            "\u001b[34m#metrics {\"StartTime\": 1650873347.768731, \"EndTime\": 1650873347.7687495, \"Dimensions\": {\"Algorithm\": \"Linear Learner\", \"Host\": \"algo-1\", \"Operation\": \"training\", \"epoch\": 2, \"model\": 9}, \"Metrics\": {\"train_binary_classification_cross_entropy_objective\": {\"sum\": 0.48168277434836104, \"count\": 1, \"min\": 0.48168277434836104, \"max\": 0.48168277434836104}}}\u001b[0m\n",
            "\u001b[34m#metrics {\"StartTime\": 1650873347.7688072, \"EndTime\": 1650873347.7688274, \"Dimensions\": {\"Algorithm\": \"Linear Learner\", \"Host\": \"algo-1\", \"Operation\": \"training\", \"epoch\": 2, \"model\": 10}, \"Metrics\": {\"train_binary_classification_cross_entropy_objective\": {\"sum\": 0.4807581407972797, \"count\": 1, \"min\": 0.4807581407972797, \"max\": 0.4807581407972797}}}\u001b[0m\n",
            "\u001b[34m#metrics {\"StartTime\": 1650873347.7689013, \"EndTime\": 1650873347.768918, \"Dimensions\": {\"Algorithm\": \"Linear Learner\", \"Host\": \"algo-1\", \"Operation\": \"training\", \"epoch\": 2, \"model\": 11}, \"Metrics\": {\"train_binary_classification_cross_entropy_objective\": {\"sum\": 0.48168279035375755, \"count\": 1, \"min\": 0.48168279035375755, \"max\": 0.48168279035375755}}}\u001b[0m\n",
            "\u001b[34m#metrics {\"StartTime\": 1650873347.7689798, \"EndTime\": 1650873347.7689986, \"Dimensions\": {\"Algorithm\": \"Linear Learner\", \"Host\": \"algo-1\", \"Operation\": \"training\", \"epoch\": 2, \"model\": 12}, \"Metrics\": {\"train_binary_classification_cross_entropy_objective\": {\"sum\": 0.48176715650179336, \"count\": 1, \"min\": 0.48176715650179336, \"max\": 0.48176715650179336}}}\u001b[0m\n",
            "\u001b[34m#metrics {\"StartTime\": 1650873347.7690601, \"EndTime\": 1650873347.7690773, \"Dimensions\": {\"Algorithm\": \"Linear Learner\", \"Host\": \"algo-1\", \"Operation\": \"training\", \"epoch\": 2, \"model\": 13}, \"Metrics\": {\"train_binary_classification_cross_entropy_objective\": {\"sum\": 0.4974835964517856, \"count\": 1, \"min\": 0.4974835964517856, \"max\": 0.4974835964517856}}}\u001b[0m\n",
            "\u001b[34m#metrics {\"StartTime\": 1650873347.7691345, \"EndTime\": 1650873347.7691505, \"Dimensions\": {\"Algorithm\": \"Linear Learner\", \"Host\": \"algo-1\", \"Operation\": \"training\", \"epoch\": 2, \"model\": 14}, \"Metrics\": {\"train_binary_classification_cross_entropy_objective\": {\"sum\": 0.4817671208746207, \"count\": 1, \"min\": 0.4817671208746207, \"max\": 0.4817671208746207}}}\u001b[0m\n",
            "\u001b[34m#metrics {\"StartTime\": 1650873347.7692294, \"EndTime\": 1650873347.7692451, \"Dimensions\": {\"Algorithm\": \"Linear Learner\", \"Host\": \"algo-1\", \"Operation\": \"training\", \"epoch\": 2, \"model\": 15}, \"Metrics\": {\"train_binary_classification_cross_entropy_objective\": {\"sum\": 0.4974833745227312, \"count\": 1, \"min\": 0.4974833745227312, \"max\": 0.4974833745227312}}}\u001b[0m\n",
            "\u001b[34m#metrics {\"StartTime\": 1650873347.7692947, \"EndTime\": 1650873347.7693117, \"Dimensions\": {\"Algorithm\": \"Linear Learner\", \"Host\": \"algo-1\", \"Operation\": \"training\", \"epoch\": 2, \"model\": 16}, \"Metrics\": {\"train_binary_classification_cross_entropy_objective\": {\"sum\": 0.5045558720859913, \"count\": 1, \"min\": 0.5045558720859913, \"max\": 0.5045558720859913}}}\u001b[0m\n",
            "\u001b[34m#metrics {\"StartTime\": 1650873347.7693655, \"EndTime\": 1650873347.7693813, \"Dimensions\": {\"Algorithm\": \"Linear Learner\", \"Host\": \"algo-1\", \"Operation\": \"training\", \"epoch\": 2, \"model\": 17}, \"Metrics\": {\"train_binary_classification_cross_entropy_objective\": {\"sum\": 0.5048172822071507, \"count\": 1, \"min\": 0.5048172822071507, \"max\": 0.5048172822071507}}}\u001b[0m\n",
            "\u001b[34m#metrics {\"StartTime\": 1650873347.7694352, \"EndTime\": 1650873347.7694516, \"Dimensions\": {\"Algorithm\": \"Linear Learner\", \"Host\": \"algo-1\", \"Operation\": \"training\", \"epoch\": 2, \"model\": 18}, \"Metrics\": {\"train_binary_classification_cross_entropy_objective\": {\"sum\": 0.5045559096263453, \"count\": 1, \"min\": 0.5045559096263453, \"max\": 0.5045559096263453}}}\u001b[0m\n",
            "\u001b[34m#metrics {\"StartTime\": 1650873347.7695036, \"EndTime\": 1650873347.7695203, \"Dimensions\": {\"Algorithm\": \"Linear Learner\", \"Host\": \"algo-1\", \"Operation\": \"training\", \"epoch\": 2, \"model\": 19}, \"Metrics\": {\"train_binary_classification_cross_entropy_objective\": {\"sum\": 0.5048173057019528, \"count\": 1, \"min\": 0.5048173057019528, \"max\": 0.5048173057019528}}}\u001b[0m\n",
            "\u001b[34m#metrics {\"StartTime\": 1650873347.7695706, \"EndTime\": 1650873347.769588, \"Dimensions\": {\"Algorithm\": \"Linear Learner\", \"Host\": \"algo-1\", \"Operation\": \"training\", \"epoch\": 2, \"model\": 20}, \"Metrics\": {\"train_binary_classification_cross_entropy_objective\": {\"sum\": 0.5048081665739007, \"count\": 1, \"min\": 0.5048081665739007, \"max\": 0.5048081665739007}}}\u001b[0m\n",
            "\u001b[34m#metrics {\"StartTime\": 1650873347.7696378, \"EndTime\": 1650873347.7696545, \"Dimensions\": {\"Algorithm\": \"Linear Learner\", \"Host\": \"algo-1\", \"Operation\": \"training\", \"epoch\": 2, \"model\": 21}, \"Metrics\": {\"train_binary_classification_cross_entropy_objective\": {\"sum\": 0.50788980951805, \"count\": 1, \"min\": 0.50788980951805, \"max\": 0.50788980951805}}}\u001b[0m\n",
            "\u001b[34m#metrics {\"StartTime\": 1650873347.7697136, \"EndTime\": 1650873347.7697308, \"Dimensions\": {\"Algorithm\": \"Linear Learner\", \"Host\": \"algo-1\", \"Operation\": \"training\", \"epoch\": 2, \"model\": 22}, \"Metrics\": {\"train_binary_classification_cross_entropy_objective\": {\"sum\": 0.5048081969981529, \"count\": 1, \"min\": 0.5048081969981529, \"max\": 0.5048081969981529}}}\u001b[0m\n",
            "\u001b[34m#metrics {\"StartTime\": 1650873347.7697825, \"EndTime\": 1650873347.769799, \"Dimensions\": {\"Algorithm\": \"Linear Learner\", \"Host\": \"algo-1\", \"Operation\": \"training\", \"epoch\": 2, \"model\": 23}, \"Metrics\": {\"train_binary_classification_cross_entropy_objective\": {\"sum\": 0.5078896881710134, \"count\": 1, \"min\": 0.5078896881710134, \"max\": 0.5078896881710134}}}\u001b[0m\n",
            "\u001b[34m#metrics {\"StartTime\": 1650873347.7698526, \"EndTime\": 1650873347.7698703, \"Dimensions\": {\"Algorithm\": \"Linear Learner\", \"Host\": \"algo-1\", \"Operation\": \"training\", \"epoch\": 2, \"model\": 24}, \"Metrics\": {\"train_binary_classification_cross_entropy_objective\": {\"sum\": 0.5137320939743555, \"count\": 1, \"min\": 0.5137320939743555, \"max\": 0.5137320939743555}}}\u001b[0m\n",
            "\u001b[34m#metrics {\"StartTime\": 1650873347.7699332, \"EndTime\": 1650873347.7699506, \"Dimensions\": {\"Algorithm\": \"Linear Learner\", \"Host\": \"algo-1\", \"Operation\": \"training\", \"epoch\": 2, \"model\": 25}, \"Metrics\": {\"train_binary_classification_cross_entropy_objective\": {\"sum\": 0.5138410870379994, \"count\": 1, \"min\": 0.5138410870379994, \"max\": 0.5138410870379994}}}\u001b[0m\n",
            "\u001b[34m#metrics {\"StartTime\": 1650873347.7700143, \"EndTime\": 1650873347.7700324, \"Dimensions\": {\"Algorithm\": \"Linear Learner\", \"Host\": \"algo-1\", \"Operation\": \"training\", \"epoch\": 2, \"model\": 26}, \"Metrics\": {\"train_binary_classification_cross_entropy_objective\": {\"sum\": 0.5137320186603325, \"count\": 1, \"min\": 0.5137320186603325, \"max\": 0.5137320186603325}}}\u001b[0m\n",
            "\u001b[34m#metrics {\"StartTime\": 1650873347.7700956, \"EndTime\": 1650873347.7701132, \"Dimensions\": {\"Algorithm\": \"Linear Learner\", \"Host\": \"algo-1\", \"Operation\": \"training\", \"epoch\": 2, \"model\": 27}, \"Metrics\": {\"train_binary_classification_cross_entropy_objective\": {\"sum\": 0.5138402813086087, \"count\": 1, \"min\": 0.5138402813086087, \"max\": 0.5138402813086087}}}\u001b[0m\n",
            "\u001b[34m#metrics {\"StartTime\": 1650873347.7701786, \"EndTime\": 1650873347.7701957, \"Dimensions\": {\"Algorithm\": \"Linear Learner\", \"Host\": \"algo-1\", \"Operation\": \"training\", \"epoch\": 2, \"model\": 28}, \"Metrics\": {\"train_binary_classification_cross_entropy_objective\": {\"sum\": 0.5138337266087897, \"count\": 1, \"min\": 0.5138337266087897, \"max\": 0.5138337266087897}}}\u001b[0m\n",
            "\u001b[34m#metrics {\"StartTime\": 1650873347.7702503, \"EndTime\": 1650873347.770268, \"Dimensions\": {\"Algorithm\": \"Linear Learner\", \"Host\": \"algo-1\", \"Operation\": \"training\", \"epoch\": 2, \"model\": 29}, \"Metrics\": {\"train_binary_classification_cross_entropy_objective\": {\"sum\": 0.5150144403906772, \"count\": 1, \"min\": 0.5150144403906772, \"max\": 0.5150144403906772}}}\u001b[0m\n",
            "\u001b[34m#metrics {\"StartTime\": 1650873347.7703228, \"EndTime\": 1650873347.7703395, \"Dimensions\": {\"Algorithm\": \"Linear Learner\", \"Host\": \"algo-1\", \"Operation\": \"training\", \"epoch\": 2, \"model\": 30}, \"Metrics\": {\"train_binary_classification_cross_entropy_objective\": {\"sum\": 0.5138341638874205, \"count\": 1, \"min\": 0.5138341638874205, \"max\": 0.5138341638874205}}}\u001b[0m\n",
            "\u001b[34m#metrics {\"StartTime\": 1650873347.770402, \"EndTime\": 1650873347.7704203, \"Dimensions\": {\"Algorithm\": \"Linear Learner\", \"Host\": \"algo-1\", \"Operation\": \"training\", \"epoch\": 2, \"model\": 31}, \"Metrics\": {\"train_binary_classification_cross_entropy_objective\": {\"sum\": 0.5150151768022356, \"count\": 1, \"min\": 0.5150151768022356, \"max\": 0.5150151768022356}}}\u001b[0m\n",
            "\u001b[34m[04/25/2022 07:55:47 INFO 140034759915328] #quality_metric: host=algo-1, epoch=2, train binary_classification_cross_entropy_objective <loss>=0.48048688941045636\u001b[0m\n",
            "\u001b[34m[2022-04-25 07:55:52.927] [tensorio] [info] epoch_stats={\"data_pipeline\": \"/opt/ml/input/data/validation\", \"epoch\": 8, \"duration\": 5132, \"num_examples\": 164, \"num_bytes\": 63460892}\u001b[0m\n",
            "\u001b[34m#metrics {\"StartTime\": 1650873352.940573, \"EndTime\": 1650873352.9406683, \"Dimensions\": {\"Algorithm\": \"Linear Learner\", \"Host\": \"algo-1\", \"Operation\": \"training\", \"epoch\": 2, \"model\": 0}, \"Metrics\": {\"validation_binary_classification_cross_entropy_objective\": {\"sum\": 0.4804798635339899, \"count\": 1, \"min\": 0.4804798635339899, \"max\": 0.4804798635339899}}}\u001b[0m\n",
            "\u001b[34m#metrics {\"StartTime\": 1650873352.940777, \"EndTime\": 1650873352.9407957, \"Dimensions\": {\"Algorithm\": \"Linear Learner\", \"Host\": \"algo-1\", \"Operation\": \"training\", \"epoch\": 2, \"model\": 1}, \"Metrics\": {\"validation_binary_classification_cross_entropy_objective\": {\"sum\": 0.4817410680018134, \"count\": 1, \"min\": 0.4817410680018134, \"max\": 0.4817410680018134}}}\u001b[0m\n",
            "\u001b[34m#metrics {\"StartTime\": 1650873352.940836, \"EndTime\": 1650873352.9408453, \"Dimensions\": {\"Algorithm\": \"Linear Learner\", \"Host\": \"algo-1\", \"Operation\": \"training\", \"epoch\": 2, \"model\": 2}, \"Metrics\": {\"validation_binary_classification_cross_entropy_objective\": {\"sum\": 0.4804805225505279, \"count\": 1, \"min\": 0.4804805225505279, \"max\": 0.4804805225505279}}}\u001b[0m\n",
            "\u001b[34m#metrics {\"StartTime\": 1650873352.9408748, \"EndTime\": 1650873352.9408827, \"Dimensions\": {\"Algorithm\": \"Linear Learner\", \"Host\": \"algo-1\", \"Operation\": \"training\", \"epoch\": 2, \"model\": 3}, \"Metrics\": {\"validation_binary_classification_cross_entropy_objective\": {\"sum\": 0.4817410640835384, \"count\": 1, \"min\": 0.4817410640835384, \"max\": 0.4817410640835384}}}\u001b[0m\n",
            "\u001b[34m#metrics {\"StartTime\": 1650873352.940909, \"EndTime\": 1650873352.9409165, \"Dimensions\": {\"Algorithm\": \"Linear Learner\", \"Host\": \"algo-1\", \"Operation\": \"training\", \"epoch\": 2, \"model\": 4}, \"Metrics\": {\"validation_binary_classification_cross_entropy_objective\": {\"sum\": 0.48095677506944884, \"count\": 1, \"min\": 0.48095677506944884, \"max\": 0.48095677506944884}}}\u001b[0m\n",
            "\u001b[34m#metrics {\"StartTime\": 1650873352.9409416, \"EndTime\": 1650873352.940949, \"Dimensions\": {\"Algorithm\": \"Linear Learner\", \"Host\": \"algo-1\", \"Operation\": \"training\", \"epoch\": 2, \"model\": 5}, \"Metrics\": {\"validation_binary_classification_cross_entropy_objective\": {\"sum\": 0.5033797525078393, \"count\": 1, \"min\": 0.5033797525078393, \"max\": 0.5033797525078393}}}\u001b[0m\n",
            "\u001b[34m#metrics {\"StartTime\": 1650873352.9409738, \"EndTime\": 1650873352.9409811, \"Dimensions\": {\"Algorithm\": \"Linear Learner\", \"Host\": \"algo-1\", \"Operation\": \"training\", \"epoch\": 2, \"model\": 6}, \"Metrics\": {\"validation_binary_classification_cross_entropy_objective\": {\"sum\": 0.48095681033392385, \"count\": 1, \"min\": 0.48095681033392385, \"max\": 0.48095681033392385}}}\u001b[0m\n",
            "\u001b[34m#metrics {\"StartTime\": 1650873352.9410176, \"EndTime\": 1650873352.9410334, \"Dimensions\": {\"Algorithm\": \"Linear Learner\", \"Host\": \"algo-1\", \"Operation\": \"training\", \"epoch\": 2, \"model\": 7}, \"Metrics\": {\"validation_binary_classification_cross_entropy_objective\": {\"sum\": 0.5033796172340596, \"count\": 1, \"min\": 0.5033796172340596, \"max\": 0.5033796172340596}}}\u001b[0m\n",
            "\u001b[34m#metrics {\"StartTime\": 1650873352.9410853, \"EndTime\": 1650873352.9411058, \"Dimensions\": {\"Algorithm\": \"Linear Learner\", \"Host\": \"algo-1\", \"Operation\": \"training\", \"epoch\": 2, \"model\": 8}, \"Metrics\": {\"validation_binary_classification_cross_entropy_objective\": {\"sum\": 0.4808261425797371, \"count\": 1, \"min\": 0.4808261425797371, \"max\": 0.4808261425797371}}}\u001b[0m\n",
            "\u001b[34m#metrics {\"StartTime\": 1650873352.9411561, \"EndTime\": 1650873352.9411929, \"Dimensions\": {\"Algorithm\": \"Linear Learner\", \"Host\": \"algo-1\", \"Operation\": \"training\", \"epoch\": 2, \"model\": 9}, \"Metrics\": {\"validation_binary_classification_cross_entropy_objective\": {\"sum\": 0.48195926050367577, \"count\": 1, \"min\": 0.48195926050367577, \"max\": 0.48195926050367577}}}\u001b[0m\n",
            "\u001b[34m#metrics {\"StartTime\": 1650873352.9412472, \"EndTime\": 1650873352.941264, \"Dimensions\": {\"Algorithm\": \"Linear Learner\", \"Host\": \"algo-1\", \"Operation\": \"training\", \"epoch\": 2, \"model\": 10}, \"Metrics\": {\"validation_binary_classification_cross_entropy_objective\": {\"sum\": 0.48082593416482405, \"count\": 1, \"min\": 0.48082593416482405, \"max\": 0.48082593416482405}}}\u001b[0m\n",
            "\u001b[34m#metrics {\"StartTime\": 1650873352.9413197, \"EndTime\": 1650873352.9413369, \"Dimensions\": {\"Algorithm\": \"Linear Learner\", \"Host\": \"algo-1\", \"Operation\": \"training\", \"epoch\": 2, \"model\": 11}, \"Metrics\": {\"validation_binary_classification_cross_entropy_objective\": {\"sum\": 0.48195916236021624, \"count\": 1, \"min\": 0.48195916236021624, \"max\": 0.48195916236021624}}}\u001b[0m\n",
            "\u001b[34m#metrics {\"StartTime\": 1650873352.941391, \"EndTime\": 1650873352.9414072, \"Dimensions\": {\"Algorithm\": \"Linear Learner\", \"Host\": \"algo-1\", \"Operation\": \"training\", \"epoch\": 2, \"model\": 12}, \"Metrics\": {\"validation_binary_classification_cross_entropy_objective\": {\"sum\": 0.48123863972663583, \"count\": 1, \"min\": 0.48123863972663583, \"max\": 0.48123863972663583}}}\u001b[0m\n",
            "\u001b[34m#metrics {\"StartTime\": 1650873352.941463, \"EndTime\": 1650873352.9414802, \"Dimensions\": {\"Algorithm\": \"Linear Learner\", \"Host\": \"algo-1\", \"Operation\": \"training\", \"epoch\": 2, \"model\": 13}, \"Metrics\": {\"validation_binary_classification_cross_entropy_objective\": {\"sum\": 0.5029358856512954, \"count\": 1, \"min\": 0.5029358856512954, \"max\": 0.5029358856512954}}}\u001b[0m\n",
            "\u001b[34m#metrics {\"StartTime\": 1650873352.9415476, \"EndTime\": 1650873352.9415667, \"Dimensions\": {\"Algorithm\": \"Linear Learner\", \"Host\": \"algo-1\", \"Operation\": \"training\", \"epoch\": 2, \"model\": 14}, \"Metrics\": {\"validation_binary_classification_cross_entropy_objective\": {\"sum\": 0.48123859755853343, \"count\": 1, \"min\": 0.48123859755853343, \"max\": 0.48123859755853343}}}\u001b[0m\n",
            "\u001b[34m#metrics {\"StartTime\": 1650873352.9416358, \"EndTime\": 1650873352.9416547, \"Dimensions\": {\"Algorithm\": \"Linear Learner\", \"Host\": \"algo-1\", \"Operation\": \"training\", \"epoch\": 2, \"model\": 15}, \"Metrics\": {\"validation_binary_classification_cross_entropy_objective\": {\"sum\": 0.502936085296736, \"count\": 1, \"min\": 0.502936085296736, \"max\": 0.502936085296736}}}\u001b[0m\n",
            "\u001b[34m#metrics {\"StartTime\": 1650873352.9417052, \"EndTime\": 1650873352.9417212, \"Dimensions\": {\"Algorithm\": \"Linear Learner\", \"Host\": \"algo-1\", \"Operation\": \"training\", \"epoch\": 2, \"model\": 16}, \"Metrics\": {\"validation_binary_classification_cross_entropy_objective\": {\"sum\": 0.504618311398596, \"count\": 1, \"min\": 0.504618311398596, \"max\": 0.504618311398596}}}\u001b[0m\n",
            "\u001b[34m#metrics {\"StartTime\": 1650873352.94177, \"EndTime\": 1650873352.941785, \"Dimensions\": {\"Algorithm\": \"Linear Learner\", \"Host\": \"algo-1\", \"Operation\": \"training\", \"epoch\": 2, \"model\": 17}, \"Metrics\": {\"validation_binary_classification_cross_entropy_objective\": {\"sum\": 0.5050095144001338, \"count\": 1, \"min\": 0.5050095144001338, \"max\": 0.5050095144001338}}}\u001b[0m\n",
            "\u001b[34m#metrics {\"StartTime\": 1650873352.9418454, \"EndTime\": 1650873352.9418619, \"Dimensions\": {\"Algorithm\": \"Linear Learner\", \"Host\": \"algo-1\", \"Operation\": \"training\", \"epoch\": 2, \"model\": 18}, \"Metrics\": {\"validation_binary_classification_cross_entropy_objective\": {\"sum\": 0.5046182531842246, \"count\": 1, \"min\": 0.5046182531842246, \"max\": 0.5046182531842246}}}\u001b[0m\n",
            "\u001b[34m#metrics {\"StartTime\": 1650873352.9419262, \"EndTime\": 1650873352.9419441, \"Dimensions\": {\"Algorithm\": \"Linear Learner\", \"Host\": \"algo-1\", \"Operation\": \"training\", \"epoch\": 2, \"model\": 19}, \"Metrics\": {\"validation_binary_classification_cross_entropy_objective\": {\"sum\": 0.5050095802644707, \"count\": 1, \"min\": 0.5050095802644707, \"max\": 0.5050095802644707}}}\u001b[0m\n",
            "\u001b[34m#metrics {\"StartTime\": 1650873352.942011, \"EndTime\": 1650873352.9420295, \"Dimensions\": {\"Algorithm\": \"Linear Learner\", \"Host\": \"algo-1\", \"Operation\": \"training\", \"epoch\": 2, \"model\": 20}, \"Metrics\": {\"validation_binary_classification_cross_entropy_objective\": {\"sum\": 0.5046278986711814, \"count\": 1, \"min\": 0.5046278986711814, \"max\": 0.5046278986711814}}}\u001b[0m\n",
            "\u001b[34m#metrics {\"StartTime\": 1650873352.9420953, \"EndTime\": 1650873352.9421144, \"Dimensions\": {\"Algorithm\": \"Linear Learner\", \"Host\": \"algo-1\", \"Operation\": \"training\", \"epoch\": 2, \"model\": 21}, \"Metrics\": {\"validation_binary_classification_cross_entropy_objective\": {\"sum\": 0.5084183836094935, \"count\": 1, \"min\": 0.5084183836094935, \"max\": 0.5084183836094935}}}\u001b[0m\n",
            "\u001b[34m#metrics {\"StartTime\": 1650873352.9421747, \"EndTime\": 1650873352.9421916, \"Dimensions\": {\"Algorithm\": \"Linear Learner\", \"Host\": \"algo-1\", \"Operation\": \"training\", \"epoch\": 2, \"model\": 22}, \"Metrics\": {\"validation_binary_classification_cross_entropy_objective\": {\"sum\": 0.5046277169378552, \"count\": 1, \"min\": 0.5046277169378552, \"max\": 0.5046277169378552}}}\u001b[0m\n",
            "\u001b[34m#metrics {\"StartTime\": 1650873352.942244, \"EndTime\": 1650873352.9422615, \"Dimensions\": {\"Algorithm\": \"Linear Learner\", \"Host\": \"algo-1\", \"Operation\": \"training\", \"epoch\": 2, \"model\": 23}, \"Metrics\": {\"validation_binary_classification_cross_entropy_objective\": {\"sum\": 0.5084180210757638, \"count\": 1, \"min\": 0.5084180210757638, \"max\": 0.5084180210757638}}}\u001b[0m\n",
            "\u001b[34m#metrics {\"StartTime\": 1650873352.9423244, \"EndTime\": 1650873352.9423432, \"Dimensions\": {\"Algorithm\": \"Linear Learner\", \"Host\": \"algo-1\", \"Operation\": \"training\", \"epoch\": 2, \"model\": 24}, \"Metrics\": {\"validation_binary_classification_cross_entropy_objective\": {\"sum\": 0.5137171456298358, \"count\": 1, \"min\": 0.5137171456298358, \"max\": 0.5137171456298358}}}\u001b[0m\n",
            "\u001b[34m#metrics {\"StartTime\": 1650873352.9424174, \"EndTime\": 1650873352.9424355, \"Dimensions\": {\"Algorithm\": \"Linear Learner\", \"Host\": \"algo-1\", \"Operation\": \"training\", \"epoch\": 2, \"model\": 25}, \"Metrics\": {\"validation_binary_classification_cross_entropy_objective\": {\"sum\": 0.5145081223930111, \"count\": 1, \"min\": 0.5145081223930111, \"max\": 0.5145081223930111}}}\u001b[0m\n",
            "\u001b[34m#metrics {\"StartTime\": 1650873352.9425068, \"EndTime\": 1650873352.9425273, \"Dimensions\": {\"Algorithm\": \"Linear Learner\", \"Host\": \"algo-1\", \"Operation\": \"training\", \"epoch\": 2, \"model\": 26}, \"Metrics\": {\"validation_binary_classification_cross_entropy_objective\": {\"sum\": 0.5137159501827919, \"count\": 1, \"min\": 0.5137159501827919, \"max\": 0.5137159501827919}}}\u001b[0m\n",
            "\u001b[34m#metrics {\"StartTime\": 1650873352.9426003, \"EndTime\": 1650873352.942618, \"Dimensions\": {\"Algorithm\": \"Linear Learner\", \"Host\": \"algo-1\", \"Operation\": \"training\", \"epoch\": 2, \"model\": 27}, \"Metrics\": {\"validation_binary_classification_cross_entropy_objective\": {\"sum\": 0.5145330058648561, \"count\": 1, \"min\": 0.5145330058648561, \"max\": 0.5145330058648561}}}\u001b[0m\n",
            "\u001b[34m#metrics {\"StartTime\": 1650873352.9426713, \"EndTime\": 1650873352.9426877, \"Dimensions\": {\"Algorithm\": \"Linear Learner\", \"Host\": \"algo-1\", \"Operation\": \"training\", \"epoch\": 2, \"model\": 28}, \"Metrics\": {\"validation_binary_classification_cross_entropy_objective\": {\"sum\": 0.5139522309347276, \"count\": 1, \"min\": 0.5139522309347276, \"max\": 0.5139522309347276}}}\u001b[0m\n",
            "\u001b[34m#metrics {\"StartTime\": 1650873352.9427385, \"EndTime\": 1650873352.9427538, \"Dimensions\": {\"Algorithm\": \"Linear Learner\", \"Host\": \"algo-1\", \"Operation\": \"training\", \"epoch\": 2, \"model\": 29}, \"Metrics\": {\"validation_binary_classification_cross_entropy_objective\": {\"sum\": 0.5141216597578846, \"count\": 1, \"min\": 0.5141216597578846, \"max\": 0.5141216597578846}}}\u001b[0m\n",
            "\u001b[34m#metrics {\"StartTime\": 1650873352.942803, \"EndTime\": 1650873352.9428198, \"Dimensions\": {\"Algorithm\": \"Linear Learner\", \"Host\": \"algo-1\", \"Operation\": \"training\", \"epoch\": 2, \"model\": 30}, \"Metrics\": {\"validation_binary_classification_cross_entropy_objective\": {\"sum\": 0.5139555034406903, \"count\": 1, \"min\": 0.5139555034406903, \"max\": 0.5139555034406903}}}\u001b[0m\n",
            "\u001b[34m#metrics {\"StartTime\": 1650873352.9428716, \"EndTime\": 1650873352.9428883, \"Dimensions\": {\"Algorithm\": \"Linear Learner\", \"Host\": \"algo-1\", \"Operation\": \"training\", \"epoch\": 2, \"model\": 31}, \"Metrics\": {\"validation_binary_classification_cross_entropy_objective\": {\"sum\": 0.5141216517347501, \"count\": 1, \"min\": 0.5141216517347501, \"max\": 0.5141216517347501}}}\u001b[0m\n",
            "\u001b[34m[04/25/2022 07:55:52 INFO 140034759915328] #quality_metric: host=algo-1, epoch=2, validation binary_classification_cross_entropy_objective <loss>=0.4804798635339899\u001b[0m\n",
            "\u001b[34m[04/25/2022 07:55:52 INFO 140034759915328] #early_stopping_criteria_metric: host=algo-1, epoch=2, criteria=binary_classification_cross_entropy_objective, value=0.4804798635339899\u001b[0m\n",
            "\u001b[34m[04/25/2022 07:55:52 INFO 140034759915328] Saving model for epoch: 2\u001b[0m\n",
            "\u001b[34m[04/25/2022 07:55:52 INFO 140034759915328] Saved checkpoint to \"/tmp/tmpybetitit/mx-mod-0000.params\"\u001b[0m\n",
            "\u001b[34m[04/25/2022 07:55:52 INFO 140034759915328] #progress_metric: host=algo-1, completed 20.0 % of epochs\u001b[0m\n",
            "\u001b[34m#metrics {\"StartTime\": 1650873289.4137924, \"EndTime\": 1650873352.9522734, \"Dimensions\": {\"Algorithm\": \"Linear Learner\", \"Host\": \"algo-1\", \"Operation\": \"training\", \"epoch\": 2, \"Meta\": \"training_data_iter\"}, \"Metrics\": {\"Total Records Seen\": {\"sum\": 3937416.0, \"count\": 1, \"min\": 3937416, \"max\": 3937416}, \"Total Batches Seen\": {\"sum\": 3939.0, \"count\": 1, \"min\": 3939, \"max\": 3939}, \"Max Records Seen Between Resets\": {\"sum\": 1308472.0, \"count\": 1, \"min\": 1308472, \"max\": 1308472}, \"Max Batches Seen Between Resets\": {\"sum\": 1309.0, \"count\": 1, \"min\": 1309, \"max\": 1309}, \"Reset Count\": {\"sum\": 5.0, \"count\": 1, \"min\": 5, \"max\": 5}, \"Number of Records Since Last Reset\": {\"sum\": 1308472.0, \"count\": 1, \"min\": 1308472, \"max\": 1308472}, \"Number of Batches Since Last Reset\": {\"sum\": 1309.0, \"count\": 1, \"min\": 1309, \"max\": 1309}}}\u001b[0m\n",
            "\u001b[34m[04/25/2022 07:55:52 INFO 140034759915328] #throughput_metric: host=algo-1, train throughput=20593.310835226202 records/second\u001b[0m\n",
            "\u001b[34m[2022-04-25 07:56:51.662] [tensorio] [info] epoch_stats={\"data_pipeline\": \"/opt/ml/input/data/train\", \"epoch\": 9, \"duration\": 58705, \"num_examples\": 1309, \"num_bytes\": 507687136}\u001b[0m\n",
            "\u001b[34m#metrics {\"StartTime\": 1650873411.6628487, \"EndTime\": 1650873411.662956, \"Dimensions\": {\"Algorithm\": \"Linear Learner\", \"Host\": \"algo-1\", \"Operation\": \"training\", \"epoch\": 3, \"model\": 0}, \"Metrics\": {\"train_binary_classification_cross_entropy_objective\": {\"sum\": 0.48042769648467365, \"count\": 1, \"min\": 0.48042769648467365, \"max\": 0.48042769648467365}}}\u001b[0m\n",
            "\u001b[34m#metrics {\"StartTime\": 1650873411.6630473, \"EndTime\": 1650873411.6630688, \"Dimensions\": {\"Algorithm\": \"Linear Learner\", \"Host\": \"algo-1\", \"Operation\": \"training\", \"epoch\": 3, \"model\": 1}, \"Metrics\": {\"train_binary_classification_cross_entropy_objective\": {\"sum\": 0.4813375163647013, \"count\": 1, \"min\": 0.4813375163647013, \"max\": 0.4813375163647013}}}\u001b[0m\n",
            "\u001b[34m#metrics {\"StartTime\": 1650873411.663128, \"EndTime\": 1650873411.6631455, \"Dimensions\": {\"Algorithm\": \"Linear Learner\", \"Host\": \"algo-1\", \"Operation\": \"training\", \"epoch\": 3, \"model\": 2}, \"Metrics\": {\"train_binary_classification_cross_entropy_objective\": {\"sum\": 0.4804427429105893, \"count\": 1, \"min\": 0.4804427429105893, \"max\": 0.4804427429105893}}}\u001b[0m\n",
            "\u001b[34m#metrics {\"StartTime\": 1650873411.6632, \"EndTime\": 1650873411.6632183, \"Dimensions\": {\"Algorithm\": \"Linear Learner\", \"Host\": \"algo-1\", \"Operation\": \"training\", \"epoch\": 3, \"model\": 3}, \"Metrics\": {\"train_binary_classification_cross_entropy_objective\": {\"sum\": 0.4813375019225141, \"count\": 1, \"min\": 0.4813375019225141, \"max\": 0.4813375019225141}}}\u001b[0m\n",
            "\u001b[34m#metrics {\"StartTime\": 1650873411.663285, \"EndTime\": 1650873411.6633027, \"Dimensions\": {\"Algorithm\": \"Linear Learner\", \"Host\": \"algo-1\", \"Operation\": \"training\", \"epoch\": 3, \"model\": 4}, \"Metrics\": {\"train_binary_classification_cross_entropy_objective\": {\"sum\": 0.4807224993691167, \"count\": 1, \"min\": 0.4807224993691167, \"max\": 0.4807224993691167}}}\u001b[0m\n",
            "\u001b[34m#metrics {\"StartTime\": 1650873411.66337, \"EndTime\": 1650873411.6633894, \"Dimensions\": {\"Algorithm\": \"Linear Learner\", \"Host\": \"algo-1\", \"Operation\": \"training\", \"epoch\": 3, \"model\": 5}, \"Metrics\": {\"train_binary_classification_cross_entropy_objective\": {\"sum\": 0.4963598544619499, \"count\": 1, \"min\": 0.4963598544619499, \"max\": 0.4963598544619499}}}\u001b[0m\n",
            "\u001b[34m#metrics {\"StartTime\": 1650873411.6634517, \"EndTime\": 1650873411.66347, \"Dimensions\": {\"Algorithm\": \"Linear Learner\", \"Host\": \"algo-1\", \"Operation\": \"training\", \"epoch\": 3, \"model\": 6}, \"Metrics\": {\"train_binary_classification_cross_entropy_objective\": {\"sum\": 0.4807224989258186, \"count\": 1, \"min\": 0.4807224989258186, \"max\": 0.4807224989258186}}}\u001b[0m\n",
            "\u001b[34m#metrics {\"StartTime\": 1650873411.6635394, \"EndTime\": 1650873411.663559, \"Dimensions\": {\"Algorithm\": \"Linear Learner\", \"Host\": \"algo-1\", \"Operation\": \"training\", \"epoch\": 3, \"model\": 7}, \"Metrics\": {\"train_binary_classification_cross_entropy_objective\": {\"sum\": 0.4963598535286906, \"count\": 1, \"min\": 0.4963598535286906, \"max\": 0.4963598535286906}}}\u001b[0m\n",
            "\u001b[34m#metrics {\"StartTime\": 1650873411.6636207, \"EndTime\": 1650873411.6636398, \"Dimensions\": {\"Algorithm\": \"Linear Learner\", \"Host\": \"algo-1\", \"Operation\": \"training\", \"epoch\": 3, \"model\": 8}, \"Metrics\": {\"train_binary_classification_cross_entropy_objective\": {\"sum\": 0.4807018088477832, \"count\": 1, \"min\": 0.4807018088477832, \"max\": 0.4807018088477832}}}\u001b[0m\n",
            "\u001b[34m#metrics {\"StartTime\": 1650873411.6637108, \"EndTime\": 1650873411.6637285, \"Dimensions\": {\"Algorithm\": \"Linear Learner\", \"Host\": \"algo-1\", \"Operation\": \"training\", \"epoch\": 3, \"model\": 9}, \"Metrics\": {\"train_binary_classification_cross_entropy_objective\": {\"sum\": 0.48156238231600607, \"count\": 1, \"min\": 0.48156238231600607, \"max\": 0.48156238231600607}}}\u001b[0m\n",
            "\u001b[34m#metrics {\"StartTime\": 1650873411.6637967, \"EndTime\": 1650873411.663827, \"Dimensions\": {\"Algorithm\": \"Linear Learner\", \"Host\": \"algo-1\", \"Operation\": \"training\", \"epoch\": 3, \"model\": 10}, \"Metrics\": {\"train_binary_classification_cross_entropy_objective\": {\"sum\": 0.48071554556097096, \"count\": 1, \"min\": 0.48071554556097096, \"max\": 0.48071554556097096}}}\u001b[0m\n",
            "\u001b[34m#metrics {\"StartTime\": 1650873411.6638944, \"EndTime\": 1650873411.6639144, \"Dimensions\": {\"Algorithm\": \"Linear Learner\", \"Host\": \"algo-1\", \"Operation\": \"training\", \"epoch\": 3, \"model\": 11}, \"Metrics\": {\"train_binary_classification_cross_entropy_objective\": {\"sum\": 0.4815623860957061, \"count\": 1, \"min\": 0.4815623860957061, \"max\": 0.4815623860957061}}}\u001b[0m\n",
            "\u001b[34m#metrics {\"StartTime\": 1650873411.6639812, \"EndTime\": 1650873411.6639986, \"Dimensions\": {\"Algorithm\": \"Linear Learner\", \"Host\": \"algo-1\", \"Operation\": \"training\", \"epoch\": 3, \"model\": 12}, \"Metrics\": {\"train_binary_classification_cross_entropy_objective\": {\"sum\": 0.4809814146316015, \"count\": 1, \"min\": 0.4809814146316015, \"max\": 0.4809814146316015}}}\u001b[0m\n",
            "\u001b[34m#metrics {\"StartTime\": 1650873411.6640513, \"EndTime\": 1650873411.6640723, \"Dimensions\": {\"Algorithm\": \"Linear Learner\", \"Host\": \"algo-1\", \"Operation\": \"training\", \"epoch\": 3, \"model\": 13}, \"Metrics\": {\"train_binary_classification_cross_entropy_objective\": {\"sum\": 0.4955043609105848, \"count\": 1, \"min\": 0.4955043609105848, \"max\": 0.4955043609105848}}}\u001b[0m\n",
            "\u001b[34m#metrics {\"StartTime\": 1650873411.6641285, \"EndTime\": 1650873411.664144, \"Dimensions\": {\"Algorithm\": \"Linear Learner\", \"Host\": \"algo-1\", \"Operation\": \"training\", \"epoch\": 3, \"model\": 14}, \"Metrics\": {\"train_binary_classification_cross_entropy_objective\": {\"sum\": 0.4809814135350219, \"count\": 1, \"min\": 0.4809814135350219, \"max\": 0.4809814135350219}}}\u001b[0m\n",
            "\u001b[34m#metrics {\"StartTime\": 1650873411.6641753, \"EndTime\": 1650873411.6641839, \"Dimensions\": {\"Algorithm\": \"Linear Learner\", \"Host\": \"algo-1\", \"Operation\": \"training\", \"epoch\": 3, \"model\": 15}, \"Metrics\": {\"train_binary_classification_cross_entropy_objective\": {\"sum\": 0.49550432642665476, \"count\": 1, \"min\": 0.49550432642665476, \"max\": 0.49550432642665476}}}\u001b[0m\n",
            "\u001b[34m#metrics {\"StartTime\": 1650873411.6642091, \"EndTime\": 1650873411.6642165, \"Dimensions\": {\"Algorithm\": \"Linear Learner\", \"Host\": \"algo-1\", \"Operation\": \"training\", \"epoch\": 3, \"model\": 16}, \"Metrics\": {\"train_binary_classification_cross_entropy_objective\": {\"sum\": 0.5045455756697815, \"count\": 1, \"min\": 0.5045455756697815, \"max\": 0.5045455756697815}}}\u001b[0m\n",
            "\u001b[34m#metrics {\"StartTime\": 1650873411.6642416, \"EndTime\": 1650873411.6642509, \"Dimensions\": {\"Algorithm\": \"Linear Learner\", \"Host\": \"algo-1\", \"Operation\": \"training\", \"epoch\": 3, \"model\": 17}, \"Metrics\": {\"train_binary_classification_cross_entropy_objective\": {\"sum\": 0.5047858158543205, \"count\": 1, \"min\": 0.5047858158543205, \"max\": 0.5047858158543205}}}\u001b[0m\n",
            "\u001b[34m#metrics {\"StartTime\": 1650873411.6643102, \"EndTime\": 1650873411.6643279, \"Dimensions\": {\"Algorithm\": \"Linear Learner\", \"Host\": \"algo-1\", \"Operation\": \"training\", \"epoch\": 3, \"model\": 18}, \"Metrics\": {\"train_binary_classification_cross_entropy_objective\": {\"sum\": 0.5045472472771227, \"count\": 1, \"min\": 0.5045472472771227, \"max\": 0.5045472472771227}}}\u001b[0m\n",
            "\u001b[34m#metrics {\"StartTime\": 1650873411.664386, \"EndTime\": 1650873411.6644032, \"Dimensions\": {\"Algorithm\": \"Linear Learner\", \"Host\": \"algo-1\", \"Operation\": \"training\", \"epoch\": 3, \"model\": 19}, \"Metrics\": {\"train_binary_classification_cross_entropy_objective\": {\"sum\": 0.504785817137552, \"count\": 1, \"min\": 0.504785817137552, \"max\": 0.504785817137552}}}\u001b[0m\n",
            "\u001b[34m#metrics {\"StartTime\": 1650873411.6644557, \"EndTime\": 1650873411.6644723, \"Dimensions\": {\"Algorithm\": \"Linear Learner\", \"Host\": \"algo-1\", \"Operation\": \"training\", \"epoch\": 3, \"model\": 20}, \"Metrics\": {\"train_binary_classification_cross_entropy_objective\": {\"sum\": 0.5046038649439447, \"count\": 1, \"min\": 0.5046038649439447, \"max\": 0.5046038649439447}}}\u001b[0m\n",
            "\u001b[34m#metrics {\"StartTime\": 1650873411.6645288, \"EndTime\": 1650873411.664545, \"Dimensions\": {\"Algorithm\": \"Linear Learner\", \"Host\": \"algo-1\", \"Operation\": \"training\", \"epoch\": 3, \"model\": 21}, \"Metrics\": {\"train_binary_classification_cross_entropy_objective\": {\"sum\": 0.5074764718805249, \"count\": 1, \"min\": 0.5074764718805249, \"max\": 0.5074764718805249}}}\u001b[0m\n",
            "\u001b[34m#metrics {\"StartTime\": 1650873411.6646008, \"EndTime\": 1650873411.664618, \"Dimensions\": {\"Algorithm\": \"Linear Learner\", \"Host\": \"algo-1\", \"Operation\": \"training\", \"epoch\": 3, \"model\": 22}, \"Metrics\": {\"train_binary_classification_cross_entropy_objective\": {\"sum\": 0.5046038670671096, \"count\": 1, \"min\": 0.5046038670671096, \"max\": 0.5046038670671096}}}\u001b[0m\n",
            "\u001b[34m#metrics {\"StartTime\": 1650873411.664682, \"EndTime\": 1650873411.6647007, \"Dimensions\": {\"Algorithm\": \"Linear Learner\", \"Host\": \"algo-1\", \"Operation\": \"training\", \"epoch\": 3, \"model\": 23}, \"Metrics\": {\"train_binary_classification_cross_entropy_objective\": {\"sum\": 0.507476473093762, \"count\": 1, \"min\": 0.507476473093762, \"max\": 0.507476473093762}}}\u001b[0m\n",
            "\u001b[34m#metrics {\"StartTime\": 1650873411.6647582, \"EndTime\": 1650873411.664777, \"Dimensions\": {\"Algorithm\": \"Linear Learner\", \"Host\": \"algo-1\", \"Operation\": \"training\", \"epoch\": 3, \"model\": 24}, \"Metrics\": {\"train_binary_classification_cross_entropy_objective\": {\"sum\": 0.5137272446658633, \"count\": 1, \"min\": 0.5137272446658633, \"max\": 0.5137272446658633}}}\u001b[0m\n",
            "\u001b[34m#metrics {\"StartTime\": 1650873411.6648328, \"EndTime\": 1650873411.6648486, \"Dimensions\": {\"Algorithm\": \"Linear Learner\", \"Host\": \"algo-1\", \"Operation\": \"training\", \"epoch\": 3, \"model\": 25}, \"Metrics\": {\"train_binary_classification_cross_entropy_objective\": {\"sum\": 0.5138298856869385, \"count\": 1, \"min\": 0.5138298856869385, \"max\": 0.5138298856869385}}}\u001b[0m\n",
            "\u001b[34m#metrics {\"StartTime\": 1650873411.664904, \"EndTime\": 1650873411.6649215, \"Dimensions\": {\"Algorithm\": \"Linear Learner\", \"Host\": \"algo-1\", \"Operation\": \"training\", \"epoch\": 3, \"model\": 26}, \"Metrics\": {\"train_binary_classification_cross_entropy_objective\": {\"sum\": 0.5137289093670859, \"count\": 1, \"min\": 0.5137289093670859, \"max\": 0.5137289093670859}}}\u001b[0m\n",
            "\u001b[34m#metrics {\"StartTime\": 1650873411.6649802, \"EndTime\": 1650873411.6649983, \"Dimensions\": {\"Algorithm\": \"Linear Learner\", \"Host\": \"algo-1\", \"Operation\": \"training\", \"epoch\": 3, \"model\": 27}, \"Metrics\": {\"train_binary_classification_cross_entropy_objective\": {\"sum\": 0.5138302604138669, \"count\": 1, \"min\": 0.5138302604138669, \"max\": 0.5138302604138669}}}\u001b[0m\n",
            "\u001b[34m#metrics {\"StartTime\": 1650873411.6650555, \"EndTime\": 1650873411.6650736, \"Dimensions\": {\"Algorithm\": \"Linear Learner\", \"Host\": \"algo-1\", \"Operation\": \"training\", \"epoch\": 3, \"model\": 28}, \"Metrics\": {\"train_binary_classification_cross_entropy_objective\": {\"sum\": 0.5137480233568664, \"count\": 1, \"min\": 0.5137480233568664, \"max\": 0.5137480233568664}}}\u001b[0m\n",
            "\u001b[34m#metrics {\"StartTime\": 1650873411.6651301, \"EndTime\": 1650873411.6651473, \"Dimensions\": {\"Algorithm\": \"Linear Learner\", \"Host\": \"algo-1\", \"Operation\": \"training\", \"epoch\": 3, \"model\": 29}, \"Metrics\": {\"train_binary_classification_cross_entropy_objective\": {\"sum\": 0.5148154804801358, \"count\": 1, \"min\": 0.5148154804801358, \"max\": 0.5148154804801358}}}\u001b[0m\n",
            "\u001b[34m#metrics {\"StartTime\": 1650873411.6655843, \"EndTime\": 1650873411.6656008, \"Dimensions\": {\"Algorithm\": \"Linear Learner\", \"Host\": \"algo-1\", \"Operation\": \"training\", \"epoch\": 3, \"model\": 30}, \"Metrics\": {\"train_binary_classification_cross_entropy_objective\": {\"sum\": 0.5137478758785703, \"count\": 1, \"min\": 0.5137478758785703, \"max\": 0.5137478758785703}}}\u001b[0m\n",
            "\u001b[34m#metrics {\"StartTime\": 1650873411.6656625, \"EndTime\": 1650873411.6656823, \"Dimensions\": {\"Algorithm\": \"Linear Learner\", \"Host\": \"algo-1\", \"Operation\": \"training\", \"epoch\": 3, \"model\": 31}, \"Metrics\": {\"train_binary_classification_cross_entropy_objective\": {\"sum\": 0.5148154949223229, \"count\": 1, \"min\": 0.5148154949223229, \"max\": 0.5148154949223229}}}\u001b[0m\n",
            "\u001b[34m[04/25/2022 07:56:51 INFO 140034759915328] #quality_metric: host=algo-1, epoch=3, train binary_classification_cross_entropy_objective <loss>=0.48042769648467365\u001b[0m\n",
            "\u001b[34m[2022-04-25 07:56:56.845] [tensorio] [info] epoch_stats={\"data_pipeline\": \"/opt/ml/input/data/validation\", \"epoch\": 11, \"duration\": 5157, \"num_examples\": 164, \"num_bytes\": 63460892}\u001b[0m\n",
            "\u001b[34m#metrics {\"StartTime\": 1650873416.8539793, \"EndTime\": 1650873416.8540416, \"Dimensions\": {\"Algorithm\": \"Linear Learner\", \"Host\": \"algo-1\", \"Operation\": \"training\", \"epoch\": 3, \"model\": 0}, \"Metrics\": {\"validation_binary_classification_cross_entropy_objective\": {\"sum\": 0.480470715667958, \"count\": 1, \"min\": 0.480470715667958, \"max\": 0.480470715667958}}}\u001b[0m\n",
            "\u001b[34m#metrics {\"StartTime\": 1650873416.854122, \"EndTime\": 1650873416.8541358, \"Dimensions\": {\"Algorithm\": \"Linear Learner\", \"Host\": \"algo-1\", \"Operation\": \"training\", \"epoch\": 3, \"model\": 1}, \"Metrics\": {\"validation_binary_classification_cross_entropy_objective\": {\"sum\": 0.4815663636878311, \"count\": 1, \"min\": 0.4815663636878311, \"max\": 0.4815663636878311}}}\u001b[0m\n",
            "\u001b[34m#metrics {\"StartTime\": 1650873416.854196, \"EndTime\": 1650873416.854215, \"Dimensions\": {\"Algorithm\": \"Linear Learner\", \"Host\": \"algo-1\", \"Operation\": \"training\", \"epoch\": 3, \"model\": 2}, \"Metrics\": {\"validation_binary_classification_cross_entropy_objective\": {\"sum\": 0.4804809123255981, \"count\": 1, \"min\": 0.4804809123255981, \"max\": 0.4804809123255981}}}\u001b[0m\n",
            "\u001b[34m#metrics {\"StartTime\": 1650873416.8542814, \"EndTime\": 1650873416.854302, \"Dimensions\": {\"Algorithm\": \"Linear Learner\", \"Host\": \"algo-1\", \"Operation\": \"training\", \"epoch\": 3, \"model\": 3}, \"Metrics\": {\"validation_binary_classification_cross_entropy_objective\": {\"sum\": 0.48156637283047277, \"count\": 1, \"min\": 0.48156637283047277, \"max\": 0.48156637283047277}}}\u001b[0m\n",
            "\u001b[34m#metrics {\"StartTime\": 1650873416.854368, \"EndTime\": 1650873416.854386, \"Dimensions\": {\"Algorithm\": \"Linear Learner\", \"Host\": \"algo-1\", \"Operation\": \"training\", \"epoch\": 3, \"model\": 4}, \"Metrics\": {\"validation_binary_classification_cross_entropy_objective\": {\"sum\": 0.4805530542987952, \"count\": 1, \"min\": 0.4805530542987952, \"max\": 0.4805530542987952}}}\u001b[0m\n",
            "\u001b[34m#metrics {\"StartTime\": 1650873416.8544445, \"EndTime\": 1650873416.8544617, \"Dimensions\": {\"Algorithm\": \"Linear Learner\", \"Host\": \"algo-1\", \"Operation\": \"training\", \"epoch\": 3, \"model\": 5}, \"Metrics\": {\"validation_binary_classification_cross_entropy_objective\": {\"sum\": 0.49969148211676007, \"count\": 1, \"min\": 0.49969148211676007, \"max\": 0.49969148211676007}}}\u001b[0m\n",
            "\u001b[34m#metrics {\"StartTime\": 1650873416.8545175, \"EndTime\": 1650873416.8545346, \"Dimensions\": {\"Algorithm\": \"Linear Learner\", \"Host\": \"algo-1\", \"Operation\": \"training\", \"epoch\": 3, \"model\": 6}, \"Metrics\": {\"validation_binary_classification_cross_entropy_objective\": {\"sum\": 0.480553052806119, \"count\": 1, \"min\": 0.480553052806119, \"max\": 0.480553052806119}}}\u001b[0m\n",
            "\u001b[34m#metrics {\"StartTime\": 1650873416.85459, \"EndTime\": 1650873416.8546064, \"Dimensions\": {\"Algorithm\": \"Linear Learner\", \"Host\": \"algo-1\", \"Operation\": \"training\", \"epoch\": 3, \"model\": 7}, \"Metrics\": {\"validation_binary_classification_cross_entropy_objective\": {\"sum\": 0.4996914056171053, \"count\": 1, \"min\": 0.4996914056171053, \"max\": 0.4996914056171053}}}\u001b[0m\n",
            "\u001b[34m#metrics {\"StartTime\": 1650873416.8546615, \"EndTime\": 1650873416.8546786, \"Dimensions\": {\"Algorithm\": \"Linear Learner\", \"Host\": \"algo-1\", \"Operation\": \"training\", \"epoch\": 3, \"model\": 8}, \"Metrics\": {\"validation_binary_classification_cross_entropy_objective\": {\"sum\": 0.4808219222243937, \"count\": 1, \"min\": 0.4808219222243937, \"max\": 0.4808219222243937}}}\u001b[0m\n",
            "\u001b[34m#metrics {\"StartTime\": 1650873416.854741, \"EndTime\": 1650873416.85476, \"Dimensions\": {\"Algorithm\": \"Linear Learner\", \"Host\": \"algo-1\", \"Operation\": \"training\", \"epoch\": 3, \"model\": 9}, \"Metrics\": {\"validation_binary_classification_cross_entropy_objective\": {\"sum\": 0.4818055232523843, \"count\": 1, \"min\": 0.4818055232523843, \"max\": 0.4818055232523843}}}\u001b[0m\n",
            "\u001b[34m#metrics {\"StartTime\": 1650873416.8548229, \"EndTime\": 1650873416.8548417, \"Dimensions\": {\"Algorithm\": \"Linear Learner\", \"Host\": \"algo-1\", \"Operation\": \"training\", \"epoch\": 3, \"model\": 10}, \"Metrics\": {\"validation_binary_classification_cross_entropy_objective\": {\"sum\": 0.48082750110165473, \"count\": 1, \"min\": 0.48082750110165473, \"max\": 0.48082750110165473}}}\u001b[0m\n",
            "\u001b[34m#metrics {\"StartTime\": 1650873416.854907, \"EndTime\": 1650873416.8549244, \"Dimensions\": {\"Algorithm\": \"Linear Learner\", \"Host\": \"algo-1\", \"Operation\": \"training\", \"epoch\": 3, \"model\": 11}, \"Metrics\": {\"validation_binary_classification_cross_entropy_objective\": {\"sum\": 0.4818055044073474, \"count\": 1, \"min\": 0.4818055044073474, \"max\": 0.4818055044073474}}}\u001b[0m\n",
            "\u001b[34m#metrics {\"StartTime\": 1650873416.8549817, \"EndTime\": 1650873416.854997, \"Dimensions\": {\"Algorithm\": \"Linear Learner\", \"Host\": \"algo-1\", \"Operation\": \"training\", \"epoch\": 3, \"model\": 12}, \"Metrics\": {\"validation_binary_classification_cross_entropy_objective\": {\"sum\": 0.4808839806101721, \"count\": 1, \"min\": 0.4808839806101721, \"max\": 0.4808839806101721}}}\u001b[0m\n",
            "\u001b[34m#metrics {\"StartTime\": 1650873416.8550494, \"EndTime\": 1650873416.855064, \"Dimensions\": {\"Algorithm\": \"Linear Learner\", \"Host\": \"algo-1\", \"Operation\": \"training\", \"epoch\": 3, \"model\": 13}, \"Metrics\": {\"validation_binary_classification_cross_entropy_objective\": {\"sum\": 0.4988636101298523, \"count\": 1, \"min\": 0.4988636101298523, \"max\": 0.4988636101298523}}}\u001b[0m\n",
            "\u001b[34m#metrics {\"StartTime\": 1650873416.855114, \"EndTime\": 1650873416.85513, \"Dimensions\": {\"Algorithm\": \"Linear Learner\", \"Host\": \"algo-1\", \"Operation\": \"training\", \"epoch\": 3, \"model\": 14}, \"Metrics\": {\"validation_binary_classification_cross_entropy_objective\": {\"sum\": 0.4808839824760173, \"count\": 1, \"min\": 0.4808839824760173, \"max\": 0.4808839824760173}}}\u001b[0m\n",
            "\u001b[34m#metrics {\"StartTime\": 1650873416.8551805, \"EndTime\": 1650873416.855196, \"Dimensions\": {\"Algorithm\": \"Linear Learner\", \"Host\": \"algo-1\", \"Operation\": \"training\", \"epoch\": 3, \"model\": 15}, \"Metrics\": {\"validation_binary_classification_cross_entropy_objective\": {\"sum\": 0.49886366367961066, \"count\": 1, \"min\": 0.49886366367961066, \"max\": 0.49886366367961066}}}\u001b[0m\n",
            "\u001b[34m#metrics {\"StartTime\": 1650873416.8552475, \"EndTime\": 1650873416.8552637, \"Dimensions\": {\"Algorithm\": \"Linear Learner\", \"Host\": \"algo-1\", \"Operation\": \"training\", \"epoch\": 3, \"model\": 16}, \"Metrics\": {\"validation_binary_classification_cross_entropy_objective\": {\"sum\": 0.5046134275486861, \"count\": 1, \"min\": 0.5046134275486861, \"max\": 0.5046134275486861}}}\u001b[0m\n",
            "\u001b[34m#metrics {\"StartTime\": 1650873416.8553202, \"EndTime\": 1650873416.8553407, \"Dimensions\": {\"Algorithm\": \"Linear Learner\", \"Host\": \"algo-1\", \"Operation\": \"training\", \"epoch\": 3, \"model\": 17}, \"Metrics\": {\"validation_binary_classification_cross_entropy_objective\": {\"sum\": 0.5048996101449224, \"count\": 1, \"min\": 0.5048996101449224, \"max\": 0.5048996101449224}}}\u001b[0m\n",
            "\u001b[34m#metrics {\"StartTime\": 1650873416.8553944, \"EndTime\": 1650873416.8554099, \"Dimensions\": {\"Algorithm\": \"Linear Learner\", \"Host\": \"algo-1\", \"Operation\": \"training\", \"epoch\": 3, \"model\": 18}, \"Metrics\": {\"validation_binary_classification_cross_entropy_objective\": {\"sum\": 0.504620535299535, \"count\": 1, \"min\": 0.504620535299535, \"max\": 0.504620535299535}}}\u001b[0m\n",
            "\u001b[34m#metrics {\"StartTime\": 1650873416.8554616, \"EndTime\": 1650873416.8554773, \"Dimensions\": {\"Algorithm\": \"Linear Learner\", \"Host\": \"algo-1\", \"Operation\": \"training\", \"epoch\": 3, \"model\": 19}, \"Metrics\": {\"validation_binary_classification_cross_entropy_objective\": {\"sum\": 0.5048995843962581, \"count\": 1, \"min\": 0.5048995843962581, \"max\": 0.5048995843962581}}}\u001b[0m\n",
            "\u001b[34m#metrics {\"StartTime\": 1650873416.85553, \"EndTime\": 1650873416.8555458, \"Dimensions\": {\"Algorithm\": \"Linear Learner\", \"Host\": \"algo-1\", \"Operation\": \"training\", \"epoch\": 3, \"model\": 20}, \"Metrics\": {\"validation_binary_classification_cross_entropy_objective\": {\"sum\": 0.5047065651320061, \"count\": 1, \"min\": 0.5047065651320061, \"max\": 0.5047065651320061}}}\u001b[0m\n",
            "\u001b[34m#metrics {\"StartTime\": 1650873416.8555946, \"EndTime\": 1650873416.8556097, \"Dimensions\": {\"Algorithm\": \"Linear Learner\", \"Host\": \"algo-1\", \"Operation\": \"training\", \"epoch\": 3, \"model\": 21}, \"Metrics\": {\"validation_binary_classification_cross_entropy_objective\": {\"sum\": 0.5079542422920112, \"count\": 1, \"min\": 0.5079542422920112, \"max\": 0.5079542422920112}}}\u001b[0m\n",
            "\u001b[34m#metrics {\"StartTime\": 1650873416.8556561, \"EndTime\": 1650873416.8556657, \"Dimensions\": {\"Algorithm\": \"Linear Learner\", \"Host\": \"algo-1\", \"Operation\": \"training\", \"epoch\": 3, \"model\": 22}, \"Metrics\": {\"validation_binary_classification_cross_entropy_objective\": {\"sum\": 0.5047065694234502, \"count\": 1, \"min\": 0.5047065694234502, \"max\": 0.5047065694234502}}}\u001b[0m\n",
            "\u001b[34m#metrics {\"StartTime\": 1650873416.8556917, \"EndTime\": 1650873416.8556993, \"Dimensions\": {\"Algorithm\": \"Linear Learner\", \"Host\": \"algo-1\", \"Operation\": \"training\", \"epoch\": 3, \"model\": 23}, \"Metrics\": {\"validation_binary_classification_cross_entropy_objective\": {\"sum\": 0.5079542497553922, \"count\": 1, \"min\": 0.5079542497553922, \"max\": 0.5079542497553922}}}\u001b[0m\n",
            "\u001b[34m#metrics {\"StartTime\": 1650873416.8557327, \"EndTime\": 1650873416.8557456, \"Dimensions\": {\"Algorithm\": \"Linear Learner\", \"Host\": \"algo-1\", \"Operation\": \"training\", \"epoch\": 3, \"model\": 24}, \"Metrics\": {\"validation_binary_classification_cross_entropy_objective\": {\"sum\": 0.5137206599493412, \"count\": 1, \"min\": 0.5137206599493412, \"max\": 0.5137206599493412}}}\u001b[0m\n",
            "\u001b[34m#metrics {\"StartTime\": 1650873416.8558023, \"EndTime\": 1650873416.8558197, \"Dimensions\": {\"Algorithm\": \"Linear Learner\", \"Host\": \"algo-1\", \"Operation\": \"training\", \"epoch\": 3, \"model\": 25}, \"Metrics\": {\"validation_binary_classification_cross_entropy_objective\": {\"sum\": 0.5143834634068283, \"count\": 1, \"min\": 0.5143834634068283, \"max\": 0.5143834634068283}}}\u001b[0m\n",
            "\u001b[34m#metrics {\"StartTime\": 1650873416.8558617, \"EndTime\": 1650873416.8558776, \"Dimensions\": {\"Algorithm\": \"Linear Learner\", \"Host\": \"algo-1\", \"Operation\": \"training\", \"epoch\": 3, \"model\": 26}, \"Metrics\": {\"validation_binary_classification_cross_entropy_objective\": {\"sum\": 0.5137175719754726, \"count\": 1, \"min\": 0.5137175719754726, \"max\": 0.5137175719754726}}}\u001b[0m\n",
            "\u001b[34m#metrics {\"StartTime\": 1650873416.8559287, \"EndTime\": 1650873416.8559437, \"Dimensions\": {\"Algorithm\": \"Linear Learner\", \"Host\": \"algo-1\", \"Operation\": \"training\", \"epoch\": 3, \"model\": 27}, \"Metrics\": {\"validation_binary_classification_cross_entropy_objective\": {\"sum\": 0.5144431030974249, \"count\": 1, \"min\": 0.5144431030974249, \"max\": 0.5144431030974249}}}\u001b[0m\n",
            "\u001b[34m#metrics {\"StartTime\": 1650873416.8559978, \"EndTime\": 1650873416.8560138, \"Dimensions\": {\"Algorithm\": \"Linear Learner\", \"Host\": \"algo-1\", \"Operation\": \"training\", \"epoch\": 3, \"model\": 28}, \"Metrics\": {\"validation_binary_classification_cross_entropy_objective\": {\"sum\": 0.5137433674724698, \"count\": 1, \"min\": 0.5137433674724698, \"max\": 0.5137433674724698}}}\u001b[0m\n",
            "\u001b[34m#metrics {\"StartTime\": 1650873416.856051, \"EndTime\": 1650873416.8560658, \"Dimensions\": {\"Algorithm\": \"Linear Learner\", \"Host\": \"algo-1\", \"Operation\": \"training\", \"epoch\": 3, \"model\": 29}, \"Metrics\": {\"validation_binary_classification_cross_entropy_objective\": {\"sum\": 0.5137139710807482, \"count\": 1, \"min\": 0.5137139710807482, \"max\": 0.5137139710807482}}}\u001b[0m\n",
            "\u001b[34m#metrics {\"StartTime\": 1650873416.8561165, \"EndTime\": 1650873416.856132, \"Dimensions\": {\"Algorithm\": \"Linear Learner\", \"Host\": \"algo-1\", \"Operation\": \"training\", \"epoch\": 3, \"model\": 30}, \"Metrics\": {\"validation_binary_classification_cross_entropy_objective\": {\"sum\": 0.5137412993696082, \"count\": 1, \"min\": 0.5137412993696082, \"max\": 0.5137412993696082}}}\u001b[0m\n",
            "\u001b[34m#metrics {\"StartTime\": 1650873416.8561828, \"EndTime\": 1650873416.8561983, \"Dimensions\": {\"Algorithm\": \"Linear Learner\", \"Host\": \"algo-1\", \"Operation\": \"training\", \"epoch\": 3, \"model\": 31}, \"Metrics\": {\"validation_binary_classification_cross_entropy_objective\": {\"sum\": 0.513713973506347, \"count\": 1, \"min\": 0.513713973506347, \"max\": 0.513713973506347}}}\u001b[0m\n",
            "\u001b[34m[04/25/2022 07:56:56 INFO 140034759915328] #quality_metric: host=algo-1, epoch=3, validation binary_classification_cross_entropy_objective <loss>=0.480470715667958\u001b[0m\n",
            "\u001b[34m[04/25/2022 07:56:56 INFO 140034759915328] #early_stopping_criteria_metric: host=algo-1, epoch=3, criteria=binary_classification_cross_entropy_objective, value=0.480470715667958\u001b[0m\n",
            "\u001b[34m[04/25/2022 07:56:56 INFO 140034759915328] Saving model for epoch: 3\u001b[0m\n",
            "\u001b[34m[04/25/2022 07:56:56 INFO 140034759915328] Saved checkpoint to \"/tmp/tmpxumtzvp0/mx-mod-0000.params\"\u001b[0m\n",
            "\u001b[34m[04/25/2022 07:56:56 INFO 140034759915328] #progress_metric: host=algo-1, completed 26.666666666666668 % of epochs\u001b[0m\n",
            "\u001b[34m#metrics {\"StartTime\": 1650873352.957451, \"EndTime\": 1650873416.8631334, \"Dimensions\": {\"Algorithm\": \"Linear Learner\", \"Host\": \"algo-1\", \"Operation\": \"training\", \"epoch\": 3, \"Meta\": \"training_data_iter\"}, \"Metrics\": {\"Total Records Seen\": {\"sum\": 5245888.0, \"count\": 1, \"min\": 5245888, \"max\": 5245888}, \"Total Batches Seen\": {\"sum\": 5248.0, \"count\": 1, \"min\": 5248, \"max\": 5248}, \"Max Records Seen Between Resets\": {\"sum\": 1308472.0, \"count\": 1, \"min\": 1308472, \"max\": 1308472}, \"Max Batches Seen Between Resets\": {\"sum\": 1309.0, \"count\": 1, \"min\": 1309, \"max\": 1309}, \"Reset Count\": {\"sum\": 6.0, \"count\": 1, \"min\": 6, \"max\": 6}, \"Number of Records Since Last Reset\": {\"sum\": 1308472.0, \"count\": 1, \"min\": 1308472, \"max\": 1308472}, \"Number of Batches Since Last Reset\": {\"sum\": 1309.0, \"count\": 1, \"min\": 1309, \"max\": 1309}}}\u001b[0m\n",
            "\u001b[34m[04/25/2022 07:56:56 INFO 140034759915328] #throughput_metric: host=algo-1, train throughput=20474.99818017446 records/second\u001b[0m\n",
            "\u001b[34m[2022-04-25 07:57:55.380] [tensorio] [info] epoch_stats={\"data_pipeline\": \"/opt/ml/input/data/train\", \"epoch\": 11, \"duration\": 58517, \"num_examples\": 1309, \"num_bytes\": 507687136}\u001b[0m\n",
            "\u001b[34m#metrics {\"StartTime\": 1650873475.380963, \"EndTime\": 1650873475.3810296, \"Dimensions\": {\"Algorithm\": \"Linear Learner\", \"Host\": \"algo-1\", \"Operation\": \"training\", \"epoch\": 4, \"model\": 0}, \"Metrics\": {\"train_binary_classification_cross_entropy_objective\": {\"sum\": 0.48040358692134194, \"count\": 1, \"min\": 0.48040358692134194, \"max\": 0.48040358692134194}}}\u001b[0m\n",
            "\u001b[34m#metrics {\"StartTime\": 1650873475.381102, \"EndTime\": 1650873475.381116, \"Dimensions\": {\"Algorithm\": \"Linear Learner\", \"Host\": \"algo-1\", \"Operation\": \"training\", \"epoch\": 4, \"model\": 1}, \"Metrics\": {\"train_binary_classification_cross_entropy_objective\": {\"sum\": 0.4812220636770266, \"count\": 1, \"min\": 0.4812220636770266, \"max\": 0.4812220636770266}}}\u001b[0m\n",
            "\u001b[34m#metrics {\"StartTime\": 1650873475.3811502, \"EndTime\": 1650873475.3811593, \"Dimensions\": {\"Algorithm\": \"Linear Learner\", \"Host\": \"algo-1\", \"Operation\": \"training\", \"epoch\": 4, \"model\": 2}, \"Metrics\": {\"train_binary_classification_cross_entropy_objective\": {\"sum\": 0.4804420942020708, \"count\": 1, \"min\": 0.4804420942020708, \"max\": 0.4804420942020708}}}\u001b[0m\n",
            "\u001b[34m#metrics {\"StartTime\": 1650873475.3812256, \"EndTime\": 1650873475.381237, \"Dimensions\": {\"Algorithm\": \"Linear Learner\", \"Host\": \"algo-1\", \"Operation\": \"training\", \"epoch\": 4, \"model\": 3}, \"Metrics\": {\"train_binary_classification_cross_entropy_objective\": {\"sum\": 0.4812220600839784, \"count\": 1, \"min\": 0.4812220600839784, \"max\": 0.4812220600839784}}}\u001b[0m\n",
            "\u001b[34m#metrics {\"StartTime\": 1650873475.3812723, \"EndTime\": 1650873475.381287, \"Dimensions\": {\"Algorithm\": \"Linear Learner\", \"Host\": \"algo-1\", \"Operation\": \"training\", \"epoch\": 4, \"model\": 4}, \"Metrics\": {\"train_binary_classification_cross_entropy_objective\": {\"sum\": 0.48051206421925025, \"count\": 1, \"min\": 0.48051206421925025, \"max\": 0.48051206421925025}}}\u001b[0m\n",
            "\u001b[34m#metrics {\"StartTime\": 1650873475.3813396, \"EndTime\": 1650873475.3813534, \"Dimensions\": {\"Algorithm\": \"Linear Learner\", \"Host\": \"algo-1\", \"Operation\": \"training\", \"epoch\": 4, \"model\": 5}, \"Metrics\": {\"train_binary_classification_cross_entropy_objective\": {\"sum\": 0.4944656366237442, \"count\": 1, \"min\": 0.4944656366237442, \"max\": 0.4944656366237442}}}\u001b[0m\n",
            "\u001b[34m#metrics {\"StartTime\": 1650873475.3813841, \"EndTime\": 1650873475.3813925, \"Dimensions\": {\"Algorithm\": \"Linear Learner\", \"Host\": \"algo-1\", \"Operation\": \"training\", \"epoch\": 4, \"model\": 6}, \"Metrics\": {\"train_binary_classification_cross_entropy_objective\": {\"sum\": 0.4805120655258132, \"count\": 1, \"min\": 0.4805120655258132, \"max\": 0.4805120655258132}}}\u001b[0m\n",
            "\u001b[34m#metrics {\"StartTime\": 1650873475.381418, \"EndTime\": 1650873475.3814254, \"Dimensions\": {\"Algorithm\": \"Linear Learner\", \"Host\": \"algo-1\", \"Operation\": \"training\", \"epoch\": 4, \"model\": 7}, \"Metrics\": {\"train_binary_classification_cross_entropy_objective\": {\"sum\": 0.4944656369270535, \"count\": 1, \"min\": 0.4944656369270535, \"max\": 0.4944656369270535}}}\u001b[0m\n",
            "\u001b[34m#metrics {\"StartTime\": 1650873475.3814507, \"EndTime\": 1650873475.3814583, \"Dimensions\": {\"Algorithm\": \"Linear Learner\", \"Host\": \"algo-1\", \"Operation\": \"training\", \"epoch\": 4, \"model\": 8}, \"Metrics\": {\"train_binary_classification_cross_entropy_objective\": {\"sum\": 0.4806777124200757, \"count\": 1, \"min\": 0.4806777124200757, \"max\": 0.4806777124200757}}}\u001b[0m\n",
            "\u001b[34m#metrics {\"StartTime\": 1650873475.3814833, \"EndTime\": 1650873475.3814907, \"Dimensions\": {\"Algorithm\": \"Linear Learner\", \"Host\": \"algo-1\", \"Operation\": \"training\", \"epoch\": 4, \"model\": 9}, \"Metrics\": {\"train_binary_classification_cross_entropy_objective\": {\"sum\": 0.48145337905650476, \"count\": 1, \"min\": 0.48145337905650476, \"max\": 0.48145337905650476}}}\u001b[0m\n",
            "\u001b[34m#metrics {\"StartTime\": 1650873475.3815155, \"EndTime\": 1650873475.3815231, \"Dimensions\": {\"Algorithm\": \"Linear Learner\", \"Host\": \"algo-1\", \"Operation\": \"training\", \"epoch\": 4, \"model\": 10}, \"Metrics\": {\"train_binary_classification_cross_entropy_objective\": {\"sum\": 0.4807153827538913, \"count\": 1, \"min\": 0.4807153827538913, \"max\": 0.4807153827538913}}}\u001b[0m\n",
            "\u001b[34m#metrics {\"StartTime\": 1650873475.3815513, \"EndTime\": 1650873475.3815646, \"Dimensions\": {\"Algorithm\": \"Linear Learner\", \"Host\": \"algo-1\", \"Operation\": \"training\", \"epoch\": 4, \"model\": 11}, \"Metrics\": {\"train_binary_classification_cross_entropy_objective\": {\"sum\": 0.48145337837989177, \"count\": 1, \"min\": 0.48145337837989177, \"max\": 0.48145337837989177}}}\u001b[0m\n",
            "\u001b[34m#metrics {\"StartTime\": 1650873475.3816147, \"EndTime\": 1650873475.3816295, \"Dimensions\": {\"Algorithm\": \"Linear Learner\", \"Host\": \"algo-1\", \"Operation\": \"training\", \"epoch\": 4, \"model\": 12}, \"Metrics\": {\"train_binary_classification_cross_entropy_objective\": {\"sum\": 0.4807824202837929, \"count\": 1, \"min\": 0.4807824202837929, \"max\": 0.4807824202837929}}}\u001b[0m\n",
            "\u001b[34m#metrics {\"StartTime\": 1650873475.3816643, \"EndTime\": 1650873475.381673, \"Dimensions\": {\"Algorithm\": \"Linear Learner\", \"Host\": \"algo-1\", \"Operation\": \"training\", \"epoch\": 4, \"model\": 13}, \"Metrics\": {\"train_binary_classification_cross_entropy_objective\": {\"sum\": 0.49376166693077905, \"count\": 1, \"min\": 0.49376166693077905, \"max\": 0.49376166693077905}}}\u001b[0m\n",
            "\u001b[34m#metrics {\"StartTime\": 1650873475.3816998, \"EndTime\": 1650873475.3817074, \"Dimensions\": {\"Algorithm\": \"Linear Learner\", \"Host\": \"algo-1\", \"Operation\": \"training\", \"epoch\": 4, \"model\": 14}, \"Metrics\": {\"train_binary_classification_cross_entropy_objective\": {\"sum\": 0.4807824191638818, \"count\": 1, \"min\": 0.4807824191638818, \"max\": 0.4807824191638818}}}\u001b[0m\n",
            "\u001b[34m#metrics {\"StartTime\": 1650873475.3817325, \"EndTime\": 1650873475.3817399, \"Dimensions\": {\"Algorithm\": \"Linear Learner\", \"Host\": \"algo-1\", \"Operation\": \"training\", \"epoch\": 4, \"model\": 15}, \"Metrics\": {\"train_binary_classification_cross_entropy_objective\": {\"sum\": 0.4937616614945438, \"count\": 1, \"min\": 0.4937616614945438, \"max\": 0.4937616614945438}}}\u001b[0m\n",
            "\u001b[34m#metrics {\"StartTime\": 1650873475.3817642, \"EndTime\": 1650873475.3817718, \"Dimensions\": {\"Algorithm\": \"Linear Learner\", \"Host\": \"algo-1\", \"Operation\": \"training\", \"epoch\": 4, \"model\": 16}, \"Metrics\": {\"train_binary_classification_cross_entropy_objective\": {\"sum\": 0.5045410711305951, \"count\": 1, \"min\": 0.5045410711305951, \"max\": 0.5045410711305951}}}\u001b[0m\n",
            "\u001b[34m#metrics {\"StartTime\": 1650873475.3817966, \"EndTime\": 1650873475.3818038, \"Dimensions\": {\"Algorithm\": \"Linear Learner\", \"Host\": \"algo-1\", \"Operation\": \"training\", \"epoch\": 4, \"model\": 17}, \"Metrics\": {\"train_binary_classification_cross_entropy_objective\": {\"sum\": 0.5047535051351658, \"count\": 1, \"min\": 0.5047535051351658, \"max\": 0.5047535051351658}}}\u001b[0m\n",
            "\u001b[34m#metrics {\"StartTime\": 1650873475.381828, \"EndTime\": 1650873475.3818355, \"Dimensions\": {\"Algorithm\": \"Linear Learner\", \"Host\": \"algo-1\", \"Operation\": \"training\", \"epoch\": 4, \"model\": 18}, \"Metrics\": {\"train_binary_classification_cross_entropy_objective\": {\"sum\": 0.5045475805206765, \"count\": 1, \"min\": 0.5045475805206765, \"max\": 0.5045475805206765}}}\u001b[0m\n",
            "\u001b[34m#metrics {\"StartTime\": 1650873475.38186, \"EndTime\": 1650873475.3818672, \"Dimensions\": {\"Algorithm\": \"Linear Learner\", \"Host\": \"algo-1\", \"Operation\": \"training\", \"epoch\": 4, \"model\": 19}, \"Metrics\": {\"train_binary_classification_cross_entropy_objective\": {\"sum\": 0.5047535044352214, \"count\": 1, \"min\": 0.5047535044352214, \"max\": 0.5047535044352214}}}\u001b[0m\n",
            "\u001b[34m#metrics {\"StartTime\": 1650873475.3818913, \"EndTime\": 1650873475.3818986, \"Dimensions\": {\"Algorithm\": \"Linear Learner\", \"Host\": \"algo-1\", \"Operation\": \"training\", \"epoch\": 4, \"model\": 20}, \"Metrics\": {\"train_binary_classification_cross_entropy_objective\": {\"sum\": 0.5045605555076482, \"count\": 1, \"min\": 0.5045605555076482, \"max\": 0.5045605555076482}}}\u001b[0m\n",
            "\u001b[34m#metrics {\"StartTime\": 1650873475.3819227, \"EndTime\": 1650873475.3819304, \"Dimensions\": {\"Algorithm\": \"Linear Learner\", \"Host\": \"algo-1\", \"Operation\": \"training\", \"epoch\": 4, \"model\": 21}, \"Metrics\": {\"train_binary_classification_cross_entropy_objective\": {\"sum\": 0.5071506157737988, \"count\": 1, \"min\": 0.5071506157737988, \"max\": 0.5071506157737988}}}\u001b[0m\n",
            "\u001b[34m#metrics {\"StartTime\": 1650873475.3819776, \"EndTime\": 1650873475.381994, \"Dimensions\": {\"Algorithm\": \"Linear Learner\", \"Host\": \"algo-1\", \"Operation\": \"training\", \"epoch\": 4, \"model\": 22}, \"Metrics\": {\"train_binary_classification_cross_entropy_objective\": {\"sum\": 0.5045605545043945, \"count\": 1, \"min\": 0.5045605545043945, \"max\": 0.5045605545043945}}}\u001b[0m\n",
            "\u001b[34m#metrics {\"StartTime\": 1650873475.3820434, \"EndTime\": 1650873475.3820574, \"Dimensions\": {\"Algorithm\": \"Linear Learner\", \"Host\": \"algo-1\", \"Operation\": \"training\", \"epoch\": 4, \"model\": 23}, \"Metrics\": {\"train_binary_classification_cross_entropy_objective\": {\"sum\": 0.5071506159837822, \"count\": 1, \"min\": 0.5071506159837822, \"max\": 0.5071506159837822}}}\u001b[0m\n",
            "\u001b[34m#metrics {\"StartTime\": 1650873475.382089, \"EndTime\": 1650873475.3820975, \"Dimensions\": {\"Algorithm\": \"Linear Learner\", \"Host\": \"algo-1\", \"Operation\": \"training\", \"epoch\": 4, \"model\": 24}, \"Metrics\": {\"train_binary_classification_cross_entropy_objective\": {\"sum\": 0.5137252813450058, \"count\": 1, \"min\": 0.5137252813450058, \"max\": 0.5137252813450058}}}\u001b[0m\n",
            "\u001b[34m#metrics {\"StartTime\": 1650873475.382123, \"EndTime\": 1650873475.3821306, \"Dimensions\": {\"Algorithm\": \"Linear Learner\", \"Host\": \"algo-1\", \"Operation\": \"training\", \"epoch\": 4, \"model\": 25}, \"Metrics\": {\"train_binary_classification_cross_entropy_objective\": {\"sum\": 0.5138169318849523, \"count\": 1, \"min\": 0.5138169318849523, \"max\": 0.5138169318849523}}}\u001b[0m\n",
            "\u001b[34m#metrics {\"StartTime\": 1650873475.3821554, \"EndTime\": 1650873475.3821626, \"Dimensions\": {\"Algorithm\": \"Linear Learner\", \"Host\": \"algo-1\", \"Operation\": \"training\", \"epoch\": 4, \"model\": 26}, \"Metrics\": {\"train_binary_classification_cross_entropy_objective\": {\"sum\": 0.5137291281463903, \"count\": 1, \"min\": 0.5137291281463903, \"max\": 0.5137291281463903}}}\u001b[0m\n",
            "\u001b[34m#metrics {\"StartTime\": 1650873475.3821874, \"EndTime\": 1650873475.3821945, \"Dimensions\": {\"Algorithm\": \"Linear Learner\", \"Host\": \"algo-1\", \"Operation\": \"training\", \"epoch\": 4, \"model\": 27}, \"Metrics\": {\"train_binary_classification_cross_entropy_objective\": {\"sum\": 0.5138171617467104, \"count\": 1, \"min\": 0.5138171617467104, \"max\": 0.5138171617467104}}}\u001b[0m\n",
            "\u001b[34m#metrics {\"StartTime\": 1650873475.382219, \"EndTime\": 1650873475.3822265, \"Dimensions\": {\"Algorithm\": \"Linear Learner\", \"Host\": \"algo-1\", \"Operation\": \"training\", \"epoch\": 4, \"model\": 28}, \"Metrics\": {\"train_binary_classification_cross_entropy_objective\": {\"sum\": 0.513734679825809, \"count\": 1, \"min\": 0.513734679825809, \"max\": 0.513734679825809}}}\u001b[0m\n",
            "\u001b[34m#metrics {\"StartTime\": 1650873475.382251, \"EndTime\": 1650873475.3822582, \"Dimensions\": {\"Algorithm\": \"Linear Learner\", \"Host\": \"algo-1\", \"Operation\": \"training\", \"epoch\": 4, \"model\": 29}, \"Metrics\": {\"train_binary_classification_cross_entropy_objective\": {\"sum\": 0.5146783016333157, \"count\": 1, \"min\": 0.5146783016333157, \"max\": 0.5146783016333157}}}\u001b[0m\n",
            "\u001b[34m#metrics {\"StartTime\": 1650873475.3822827, \"EndTime\": 1650873475.38229, \"Dimensions\": {\"Algorithm\": \"Linear Learner\", \"Host\": \"algo-1\", \"Operation\": \"training\", \"epoch\": 4, \"model\": 30}, \"Metrics\": {\"train_binary_classification_cross_entropy_objective\": {\"sum\": 0.513734628053251, \"count\": 1, \"min\": 0.513734628053251, \"max\": 0.513734628053251}}}\u001b[0m\n",
            "\u001b[34m#metrics {\"StartTime\": 1650873475.3823144, \"EndTime\": 1650873475.3823218, \"Dimensions\": {\"Algorithm\": \"Linear Learner\", \"Host\": \"algo-1\", \"Operation\": \"training\", \"epoch\": 4, \"model\": 31}, \"Metrics\": {\"train_binary_classification_cross_entropy_objective\": {\"sum\": 0.5146783027765583, \"count\": 1, \"min\": 0.5146783027765583, \"max\": 0.5146783027765583}}}\u001b[0m\n",
            "\u001b[34m[04/25/2022 07:57:55 INFO 140034759915328] #quality_metric: host=algo-1, epoch=4, train binary_classification_cross_entropy_objective <loss>=0.48040358692134194\u001b[0m\n",
            "\u001b[34m[2022-04-25 07:58:00.534] [tensorio] [info] epoch_stats={\"data_pipeline\": \"/opt/ml/input/data/validation\", \"epoch\": 14, \"duration\": 5126, \"num_examples\": 164, \"num_bytes\": 63460892}\u001b[0m\n",
            "\u001b[34m#metrics {\"StartTime\": 1650873480.5433614, \"EndTime\": 1650873480.5434408, \"Dimensions\": {\"Algorithm\": \"Linear Learner\", \"Host\": \"algo-1\", \"Operation\": \"training\", \"epoch\": 4, \"model\": 0}, \"Metrics\": {\"validation_binary_classification_cross_entropy_objective\": {\"sum\": 0.48047114947697583, \"count\": 1, \"min\": 0.48047114947697583, \"max\": 0.48047114947697583}}}\u001b[0m\n",
            "\u001b[34m#metrics {\"StartTime\": 1650873480.543581, \"EndTime\": 1650873480.543605, \"Dimensions\": {\"Algorithm\": \"Linear Learner\", \"Host\": \"algo-1\", \"Operation\": \"training\", \"epoch\": 4, \"model\": 1}, \"Metrics\": {\"validation_binary_classification_cross_entropy_objective\": {\"sum\": 0.48137202601733403, \"count\": 1, \"min\": 0.48137202601733403, \"max\": 0.48137202601733403}}}\u001b[0m\n",
            "\u001b[34m#metrics {\"StartTime\": 1650873480.543681, \"EndTime\": 1650873480.5437026, \"Dimensions\": {\"Algorithm\": \"Linear Learner\", \"Host\": \"algo-1\", \"Operation\": \"training\", \"epoch\": 4, \"model\": 2}, \"Metrics\": {\"validation_binary_classification_cross_entropy_objective\": {\"sum\": 0.48048069364853624, \"count\": 1, \"min\": 0.48048069364853624, \"max\": 0.48048069364853624}}}\u001b[0m\n",
            "\u001b[34m#metrics {\"StartTime\": 1650873480.543772, \"EndTime\": 1650873480.5437899, \"Dimensions\": {\"Algorithm\": \"Linear Learner\", \"Host\": \"algo-1\", \"Operation\": \"training\", \"epoch\": 4, \"model\": 3}, \"Metrics\": {\"validation_binary_classification_cross_entropy_objective\": {\"sum\": 0.4813720340404686, \"count\": 1, \"min\": 0.4813720340404686, \"max\": 0.4813720340404686}}}\u001b[0m\n",
            "\u001b[34m#metrics {\"StartTime\": 1650873480.543848, \"EndTime\": 1650873480.543864, \"Dimensions\": {\"Algorithm\": \"Linear Learner\", \"Host\": \"algo-1\", \"Operation\": \"training\", \"epoch\": 4, \"model\": 4}, \"Metrics\": {\"validation_binary_classification_cross_entropy_objective\": {\"sum\": 0.48048278134277284, \"count\": 1, \"min\": 0.48048278134277284, \"max\": 0.48048278134277284}}}\u001b[0m\n",
            "\u001b[34m#metrics {\"StartTime\": 1650873480.5439126, \"EndTime\": 1650873480.54412, \"Dimensions\": {\"Algorithm\": \"Linear Learner\", \"Host\": \"algo-1\", \"Operation\": \"training\", \"epoch\": 4, \"model\": 5}, \"Metrics\": {\"validation_binary_classification_cross_entropy_objective\": {\"sum\": 0.497213237737892, \"count\": 1, \"min\": 0.497213237737892, \"max\": 0.497213237737892}}}\u001b[0m\n",
            "\u001b[34m#metrics {\"StartTime\": 1650873480.544192, \"EndTime\": 1650873480.5442061, \"Dimensions\": {\"Algorithm\": \"Linear Learner\", \"Host\": \"algo-1\", \"Operation\": \"training\", \"epoch\": 4, \"model\": 6}, \"Metrics\": {\"validation_binary_classification_cross_entropy_objective\": {\"sum\": 0.4804827794769276, \"count\": 1, \"min\": 0.4804827794769276, \"max\": 0.4804827794769276}}}\u001b[0m\n",
            "\u001b[34m#metrics {\"StartTime\": 1650873480.5442402, \"EndTime\": 1650873480.5442488, \"Dimensions\": {\"Algorithm\": \"Linear Learner\", \"Host\": \"algo-1\", \"Operation\": \"training\", \"epoch\": 4, \"model\": 7}, \"Metrics\": {\"validation_binary_classification_cross_entropy_objective\": {\"sum\": 0.49721321795993245, \"count\": 1, \"min\": 0.49721321795993245, \"max\": 0.49721321795993245}}}\u001b[0m\n",
            "\u001b[34m#metrics {\"StartTime\": 1650873480.5442774, \"EndTime\": 1650873480.5442855, \"Dimensions\": {\"Algorithm\": \"Linear Learner\", \"Host\": \"algo-1\", \"Operation\": \"training\", \"epoch\": 4, \"model\": 8}, \"Metrics\": {\"validation_binary_classification_cross_entropy_objective\": {\"sum\": 0.4808238546803065, \"count\": 1, \"min\": 0.4808238546803065, \"max\": 0.4808238546803065}}}\u001b[0m\n",
            "\u001b[34m#metrics {\"StartTime\": 1650873480.5443304, \"EndTime\": 1650873480.5443451, \"Dimensions\": {\"Algorithm\": \"Linear Learner\", \"Host\": \"algo-1\", \"Operation\": \"training\", \"epoch\": 4, \"model\": 9}, \"Metrics\": {\"validation_binary_classification_cross_entropy_objective\": {\"sum\": 0.4816289340615428, \"count\": 1, \"min\": 0.4816289340615428, \"max\": 0.4816289340615428}}}\u001b[0m\n",
            "\u001b[34m#metrics {\"StartTime\": 1650873480.5443785, \"EndTime\": 1650873480.544393, \"Dimensions\": {\"Algorithm\": \"Linear Learner\", \"Host\": \"algo-1\", \"Operation\": \"training\", \"epoch\": 4, \"model\": 10}, \"Metrics\": {\"validation_binary_classification_cross_entropy_objective\": {\"sum\": 0.48082790244496537, \"count\": 1, \"min\": 0.48082790244496537, \"max\": 0.48082790244496537}}}\u001b[0m\n",
            "\u001b[34m#metrics {\"StartTime\": 1650873480.5444217, \"EndTime\": 1650873480.5444295, \"Dimensions\": {\"Algorithm\": \"Linear Learner\", \"Host\": \"algo-1\", \"Operation\": \"training\", \"epoch\": 4, \"model\": 11}, \"Metrics\": {\"validation_binary_classification_cross_entropy_objective\": {\"sum\": 0.4816289308896059, \"count\": 1, \"min\": 0.4816289308896059, \"max\": 0.4816289308896059}}}\u001b[0m\n",
            "\u001b[34m#metrics {\"StartTime\": 1650873480.5444543, \"EndTime\": 1650873480.544462, \"Dimensions\": {\"Algorithm\": \"Linear Learner\", \"Host\": \"algo-1\", \"Operation\": \"training\", \"epoch\": 4, \"model\": 12}, \"Metrics\": {\"validation_binary_classification_cross_entropy_objective\": {\"sum\": 0.48083417056545724, \"count\": 1, \"min\": 0.48083417056545724, \"max\": 0.48083417056545724}}}\u001b[0m\n",
            "\u001b[34m#metrics {\"StartTime\": 1650873480.5444882, \"EndTime\": 1650873480.5445015, \"Dimensions\": {\"Algorithm\": \"Linear Learner\", \"Host\": \"algo-1\", \"Operation\": \"training\", \"epoch\": 4, \"model\": 13}, \"Metrics\": {\"validation_binary_classification_cross_entropy_objective\": {\"sum\": 0.4959924023244646, \"count\": 1, \"min\": 0.4959924023244646, \"max\": 0.4959924023244646}}}\u001b[0m\n",
            "\u001b[34m#metrics {\"StartTime\": 1650873480.5445437, \"EndTime\": 1650873480.5445528, \"Dimensions\": {\"Algorithm\": \"Linear Learner\", \"Host\": \"algo-1\", \"Operation\": \"training\", \"epoch\": 4, \"model\": 14}, \"Metrics\": {\"validation_binary_classification_cross_entropy_objective\": {\"sum\": 0.48083416869961204, \"count\": 1, \"min\": 0.48083416869961204, \"max\": 0.48083416869961204}}}\u001b[0m\n",
            "\u001b[34m#metrics {\"StartTime\": 1650873480.5445862, \"EndTime\": 1650873480.5446012, \"Dimensions\": {\"Algorithm\": \"Linear Learner\", \"Host\": \"algo-1\", \"Operation\": \"training\", \"epoch\": 4, \"model\": 15}, \"Metrics\": {\"validation_binary_classification_cross_entropy_objective\": {\"sum\": 0.49599243012555866, \"count\": 1, \"min\": 0.49599243012555866, \"max\": 0.49599243012555866}}}\u001b[0m\n",
            "\u001b[34m#metrics {\"StartTime\": 1650873480.544656, \"EndTime\": 1650873480.5446737, \"Dimensions\": {\"Algorithm\": \"Linear Learner\", \"Host\": \"algo-1\", \"Operation\": \"training\", \"epoch\": 4, \"model\": 16}, \"Metrics\": {\"validation_binary_classification_cross_entropy_objective\": {\"sum\": 0.5046080744386988, \"count\": 1, \"min\": 0.5046080744386988, \"max\": 0.5046080744386988}}}\u001b[0m\n",
            "\u001b[34m#metrics {\"StartTime\": 1650873480.5447268, \"EndTime\": 1650873480.5447447, \"Dimensions\": {\"Algorithm\": \"Linear Learner\", \"Host\": \"algo-1\", \"Operation\": \"training\", \"epoch\": 4, \"model\": 17}, \"Metrics\": {\"validation_binary_classification_cross_entropy_objective\": {\"sum\": 0.5047945936578959, \"count\": 1, \"min\": 0.5047945936578959, \"max\": 0.5047945936578959}}}\u001b[0m\n",
            "\u001b[34m#metrics {\"StartTime\": 1650873480.5447986, \"EndTime\": 1650873480.544815, \"Dimensions\": {\"Algorithm\": \"Linear Learner\", \"Host\": \"algo-1\", \"Operation\": \"training\", \"epoch\": 4, \"model\": 18}, \"Metrics\": {\"validation_binary_classification_cross_entropy_objective\": {\"sum\": 0.5046205664591504, \"count\": 1, \"min\": 0.5046205664591504, \"max\": 0.5046205664591504}}}\u001b[0m\n",
            "\u001b[34m#metrics {\"StartTime\": 1650873480.5448675, \"EndTime\": 1650873480.5448835, \"Dimensions\": {\"Algorithm\": \"Linear Learner\", \"Host\": \"algo-1\", \"Operation\": \"training\", \"epoch\": 4, \"model\": 19}, \"Metrics\": {\"validation_binary_classification_cross_entropy_objective\": {\"sum\": 0.504794582649409, \"count\": 1, \"min\": 0.504794582649409, \"max\": 0.504794582649409}}}\u001b[0m\n",
            "\u001b[34m#metrics {\"StartTime\": 1650873480.5449405, \"EndTime\": 1650873480.5449572, \"Dimensions\": {\"Algorithm\": \"Linear Learner\", \"Host\": \"algo-1\", \"Operation\": \"training\", \"epoch\": 4, \"model\": 20}, \"Metrics\": {\"validation_binary_classification_cross_entropy_objective\": {\"sum\": 0.5046295590868586, \"count\": 1, \"min\": 0.5046295590868586, \"max\": 0.5046295590868586}}}\u001b[0m\n",
            "\u001b[34m#metrics {\"StartTime\": 1650873480.5450096, \"EndTime\": 1650873480.545027, \"Dimensions\": {\"Algorithm\": \"Linear Learner\", \"Host\": \"algo-1\", \"Operation\": \"training\", \"epoch\": 4, \"model\": 21}, \"Metrics\": {\"validation_binary_classification_cross_entropy_objective\": {\"sum\": 0.507692971715052, \"count\": 1, \"min\": 0.507692971715052, \"max\": 0.507692971715052}}}\u001b[0m\n",
            "\u001b[34m#metrics {\"StartTime\": 1650873480.5450797, \"EndTime\": 1650873480.5450962, \"Dimensions\": {\"Algorithm\": \"Linear Learner\", \"Host\": \"algo-1\", \"Operation\": \"training\", \"epoch\": 4, \"model\": 22}, \"Metrics\": {\"validation_binary_classification_cross_entropy_objective\": {\"sum\": 0.5046295598331967, \"count\": 1, \"min\": 0.5046295598331967, \"max\": 0.5046295598331967}}}\u001b[0m\n",
            "\u001b[34m#metrics {\"StartTime\": 1650873480.5451488, \"EndTime\": 1650873480.545165, \"Dimensions\": {\"Algorithm\": \"Linear Learner\", \"Host\": \"algo-1\", \"Operation\": \"training\", \"epoch\": 4, \"model\": 23}, \"Metrics\": {\"validation_binary_classification_cross_entropy_objective\": {\"sum\": 0.5076929623858258, \"count\": 1, \"min\": 0.5076929623858258, \"max\": 0.5076929623858258}}}\u001b[0m\n",
            "\u001b[34m#metrics {\"StartTime\": 1650873480.5452383, \"EndTime\": 1650873480.5452564, \"Dimensions\": {\"Algorithm\": \"Linear Learner\", \"Host\": \"algo-1\", \"Operation\": \"training\", \"epoch\": 4, \"model\": 24}, \"Metrics\": {\"validation_binary_classification_cross_entropy_objective\": {\"sum\": 0.5137224108585123, \"count\": 1, \"min\": 0.5137224108585123, \"max\": 0.5137224108585123}}}\u001b[0m\n",
            "\u001b[34m#metrics {\"StartTime\": 1650873480.5453098, \"EndTime\": 1650873480.5453267, \"Dimensions\": {\"Algorithm\": \"Linear Learner\", \"Host\": \"algo-1\", \"Operation\": \"training\", \"epoch\": 4, \"model\": 25}, \"Metrics\": {\"validation_binary_classification_cross_entropy_objective\": {\"sum\": 0.5142745721189964, \"count\": 1, \"min\": 0.5142745721189964, \"max\": 0.5142745721189964}}}\u001b[0m\n",
            "\u001b[34m#metrics {\"StartTime\": 1650873480.5453799, \"EndTime\": 1650873480.5453959, \"Dimensions\": {\"Algorithm\": \"Linear Learner\", \"Host\": \"algo-1\", \"Operation\": \"training\", \"epoch\": 4, \"model\": 26}, \"Metrics\": {\"validation_binary_classification_cross_entropy_objective\": {\"sum\": 0.5137196809403449, \"count\": 1, \"min\": 0.5137196809403449, \"max\": 0.5137196809403449}}}\u001b[0m\n",
            "\u001b[34m#metrics {\"StartTime\": 1650873480.5454502, \"EndTime\": 1650873480.5454671, \"Dimensions\": {\"Algorithm\": \"Linear Learner\", \"Host\": \"algo-1\", \"Operation\": \"training\", \"epoch\": 4, \"model\": 27}, \"Metrics\": {\"validation_binary_classification_cross_entropy_objective\": {\"sum\": 0.5142911775818593, \"count\": 1, \"min\": 0.5142911775818593, \"max\": 0.5142911775818593}}}\u001b[0m\n",
            "\u001b[34m#metrics {\"StartTime\": 1650873480.5455205, \"EndTime\": 1650873480.545531, \"Dimensions\": {\"Algorithm\": \"Linear Learner\", \"Host\": \"algo-1\", \"Operation\": \"training\", \"epoch\": 4, \"model\": 28}, \"Metrics\": {\"validation_binary_classification_cross_entropy_objective\": {\"sum\": 0.5137187941041034, \"count\": 1, \"min\": 0.5137187941041034, \"max\": 0.5137187941041034}}}\u001b[0m\n",
            "\u001b[34m#metrics {\"StartTime\": 1650873480.545559, \"EndTime\": 1650873480.545567, \"Dimensions\": {\"Algorithm\": \"Linear Learner\", \"Host\": \"algo-1\", \"Operation\": \"training\", \"epoch\": 4, \"model\": 29}, \"Metrics\": {\"validation_binary_classification_cross_entropy_objective\": {\"sum\": 0.5136923601148659, \"count\": 1, \"min\": 0.5136923601148659, \"max\": 0.5136923601148659}}}\u001b[0m\n",
            "\u001b[34m#metrics {\"StartTime\": 1650873480.5456157, \"EndTime\": 1650873480.545631, \"Dimensions\": {\"Algorithm\": \"Linear Learner\", \"Host\": \"algo-1\", \"Operation\": \"training\", \"epoch\": 4, \"model\": 30}, \"Metrics\": {\"validation_binary_classification_cross_entropy_objective\": {\"sum\": 0.5137187215227237, \"count\": 1, \"min\": 0.5137187215227237, \"max\": 0.5137187215227237}}}\u001b[0m\n",
            "\u001b[34m#metrics {\"StartTime\": 1650873480.5456831, \"EndTime\": 1650873480.545699, \"Dimensions\": {\"Algorithm\": \"Linear Learner\", \"Host\": \"algo-1\", \"Operation\": \"training\", \"epoch\": 4, \"model\": 31}, \"Metrics\": {\"validation_binary_classification_cross_entropy_objective\": {\"sum\": 0.5136923603014504, \"count\": 1, \"min\": 0.5136923603014504, \"max\": 0.5136923603014504}}}\u001b[0m\n",
            "\u001b[34m[04/25/2022 07:58:00 INFO 140034759915328] #quality_metric: host=algo-1, epoch=4, validation binary_classification_cross_entropy_objective <loss>=0.48047114947697583\u001b[0m\n",
            "\u001b[34m[04/25/2022 07:58:00 INFO 140034759915328] #early_stopping_criteria_metric: host=algo-1, epoch=4, criteria=binary_classification_cross_entropy_objective, value=0.48047114947697583\u001b[0m\n",
            "\u001b[34m[04/25/2022 07:58:00 INFO 140034759915328] Saving model for epoch: 4\u001b[0m\n",
            "\u001b[34m[04/25/2022 07:58:00 INFO 140034759915328] Saved checkpoint to \"/tmp/tmp030x6bes/mx-mod-0000.params\"\u001b[0m\n",
            "\u001b[34m[04/25/2022 07:58:00 INFO 140034759915328] Early stop condition met. Stopping training.\u001b[0m\n",
            "\u001b[34m[04/25/2022 07:58:00 INFO 140034759915328] #progress_metric: host=algo-1, completed 100 % epochs\u001b[0m\n",
            "\u001b[34m#metrics {\"StartTime\": 1650873416.8635855, \"EndTime\": 1650873480.554152, \"Dimensions\": {\"Algorithm\": \"Linear Learner\", \"Host\": \"algo-1\", \"Operation\": \"training\", \"epoch\": 4, \"Meta\": \"training_data_iter\"}, \"Metrics\": {\"Total Records Seen\": {\"sum\": 6554360.0, \"count\": 1, \"min\": 6554360, \"max\": 6554360}, \"Total Batches Seen\": {\"sum\": 6557.0, \"count\": 1, \"min\": 6557, \"max\": 6557}, \"Max Records Seen Between Resets\": {\"sum\": 1308472.0, \"count\": 1, \"min\": 1308472, \"max\": 1308472}, \"Max Batches Seen Between Resets\": {\"sum\": 1309.0, \"count\": 1, \"min\": 1309, \"max\": 1309}, \"Reset Count\": {\"sum\": 7.0, \"count\": 1, \"min\": 7, \"max\": 7}, \"Number of Records Since Last Reset\": {\"sum\": 1308472.0, \"count\": 1, \"min\": 1308472, \"max\": 1308472}, \"Number of Batches Since Last Reset\": {\"sum\": 1309.0, \"count\": 1, \"min\": 1309, \"max\": 1309}}}\u001b[0m\n",
            "\u001b[34m[04/25/2022 07:58:00 INFO 140034759915328] #throughput_metric: host=algo-1, train throughput=20544.145833883922 records/second\u001b[0m\n",
            "\u001b[34m[04/25/2022 07:58:00 WARNING 140034759915328] wait_for_all_workers will not sync workers since the kv store is not running distributed\u001b[0m\n",
            "\u001b[34m[04/25/2022 07:58:00 WARNING 140034759915328] wait_for_all_workers will not sync workers since the kv store is not running distributed\u001b[0m\n",
            "\u001b[34m[2022-04-25 07:58:06.497] [tensorio] [info] epoch_stats={\"data_pipeline\": \"/opt/ml/input/data/validation\", \"epoch\": 17, \"duration\": 5917, \"num_examples\": 164, \"num_bytes\": 63460892}\u001b[0m\n",
            "\u001b[34m[04/25/2022 07:58:06 INFO 140034759915328] #early_stopping_criteria_metric: host=algo-1, epoch=4, criteria=binary_classification_cross_entropy_objective, value=0.48047114947697583\u001b[0m\n",
            "\u001b[34m[2022-04-25 07:58:07.425] [tensorio] [info] epoch_stats={\"data_pipeline\": \"/opt/ml/input/data/validation\", \"epoch\": 19, \"duration\": 910, \"num_examples\": 164, \"num_bytes\": 63460892}\u001b[0m\n",
            "\u001b[34m[04/25/2022 07:58:07 INFO 140034759915328] #validation_score (algo-1) : ('binary_classification_cross_entropy_objective', 0.4807035151258491)\u001b[0m\n",
            "\u001b[34m[04/25/2022 07:58:07 INFO 140034759915328] #validation_score (algo-1) : ('binary_classification_accuracy', 0.7926803171944069)\u001b[0m\n",
            "\u001b[34m[04/25/2022 07:58:07 INFO 140034759915328] #validation_score (algo-1) : ('binary_f_1.000', 0.10129601653812514)\u001b[0m\n",
            "\u001b[34m[04/25/2022 07:58:07 INFO 140034759915328] #validation_score (algo-1) : ('precision', 0.5623896409652737)\u001b[0m\n",
            "\u001b[34m[04/25/2022 07:58:07 INFO 140034759915328] #validation_score (algo-1) : ('recall', 0.05566073457023855)\u001b[0m\n",
            "\u001b[34m[04/25/2022 07:58:07 INFO 140034759915328] #validation_score (algo-1) : ('roc_auc_score', 0.6778651581734755)\u001b[0m\n",
            "\u001b[34m[04/25/2022 07:58:07 INFO 140034759915328] #validation_score (algo-1) : ('binary_balanced_accuracy', 0.5)\u001b[0m\n",
            "\u001b[34m[04/25/2022 07:58:07 INFO 140034759915328] #validation_score (algo-1) : ('binary_log_loss', 0.7493541148333973)\u001b[0m\n",
            "\u001b[34m[04/25/2022 07:58:07 INFO 140034759915328] #quality_metric: host=algo-1, validation binary_classification_cross_entropy_objective <loss>=0.4807035151258491\u001b[0m\n",
            "\u001b[34m[04/25/2022 07:58:07 INFO 140034759915328] #quality_metric: host=algo-1, validation binary_classification_accuracy <score>=0.7926803171944069\u001b[0m\n",
            "\u001b[34m[04/25/2022 07:58:07 INFO 140034759915328] #quality_metric: host=algo-1, validation binary_f_1.000 <score>=0.10129601653812514\u001b[0m\n",
            "\u001b[34m[04/25/2022 07:58:07 INFO 140034759915328] #quality_metric: host=algo-1, validation precision <score>=0.5623896409652737\u001b[0m\n",
            "\u001b[34m[04/25/2022 07:58:07 INFO 140034759915328] #quality_metric: host=algo-1, validation recall <score>=0.05566073457023855\u001b[0m\n",
            "\u001b[34m[04/25/2022 07:58:07 INFO 140034759915328] #quality_metric: host=algo-1, validation roc_auc_score <score>=0.6778651581734755\u001b[0m\n",
            "\u001b[34m[04/25/2022 07:58:07 INFO 140034759915328] #quality_metric: host=algo-1, validation binary_balanced_accuracy <score>=0.5\u001b[0m\n",
            "\u001b[34m[04/25/2022 07:58:07 INFO 140034759915328] #quality_metric: host=algo-1, validation binary_log_loss <score>=0.7493541148333973\u001b[0m\n",
            "\u001b[34m[04/25/2022 07:58:07 INFO 140034759915328] Best model found for hyperparameters: {\"optimizer\": \"adam\", \"learning_rate\": 0.005, \"l1\": 0.0, \"wd\": 0.0001, \"lr_scheduler_step\": 10, \"lr_scheduler_factor\": 0.99, \"lr_scheduler_minimum_lr\": 1e-05}\u001b[0m\n",
            "\u001b[34m[04/25/2022 07:58:07 INFO 140034759915328] Saved checkpoint to \"/tmp/tmp0e8iusg_/mx-mod-0000.params\"\u001b[0m\n",
            "\u001b[34m[2022-04-25 07:58:07.753] [tensorio] [info] epoch_stats={\"data_pipeline\": \"/opt/ml/input/data/test\", \"epoch\": 0, \"duration\": 327586, \"num_examples\": 1, \"num_bytes\": 388000}\u001b[0m\n",
            "\u001b[34m[2022-04-25 07:58:08.640] [tensorio] [info] epoch_stats={\"data_pipeline\": \"/opt/ml/input/data/test\", \"epoch\": 1, \"duration\": 886, \"num_examples\": 164, \"num_bytes\": 63460892}\u001b[0m\n",
            "\u001b[34m#metrics {\"StartTime\": 1650873487.7500668, \"EndTime\": 1650873488.9153786, \"Dimensions\": {\"Algorithm\": \"Linear Learner\", \"Host\": \"algo-1\", \"Operation\": \"training\", \"Meta\": \"test_data_iter\"}, \"Metrics\": {\"Total Records Seen\": {\"sum\": 163559.0, \"count\": 1, \"min\": 163559, \"max\": 163559}, \"Total Batches Seen\": {\"sum\": 164.0, \"count\": 1, \"min\": 164, \"max\": 164}, \"Max Records Seen Between Resets\": {\"sum\": 163559.0, \"count\": 1, \"min\": 163559, \"max\": 163559}, \"Max Batches Seen Between Resets\": {\"sum\": 164.0, \"count\": 1, \"min\": 164, \"max\": 164}, \"Reset Count\": {\"sum\": 1.0, \"count\": 1, \"min\": 1, \"max\": 1}, \"Number of Records Since Last Reset\": {\"sum\": 163559.0, \"count\": 1, \"min\": 163559, \"max\": 163559}, \"Number of Batches Since Last Reset\": {\"sum\": 164.0, \"count\": 1, \"min\": 164, \"max\": 164}}}\u001b[0m\n",
            "\u001b[34m[04/25/2022 07:58:08 INFO 140034759915328] #test_score (algo-1) : ('binary_classification_cross_entropy_objective', 0.48212808535272916)\u001b[0m\n",
            "\u001b[34m[04/25/2022 07:58:08 INFO 140034759915328] #test_score (algo-1) : ('binary_classification_accuracy', 0.7925947211709536)\u001b[0m\n",
            "\u001b[34m[04/25/2022 07:58:08 INFO 140034759915328] #test_score (algo-1) : ('binary_f_1.000', 0.10087730923162554)\u001b[0m\n",
            "\u001b[34m[04/25/2022 07:58:08 INFO 140034759915328] #test_score (algo-1) : ('precision', 0.5603651354534747)\u001b[0m\n",
            "\u001b[34m[04/25/2022 07:58:08 INFO 140034759915328] #test_score (algo-1) : ('recall', 0.05542772259924854)\u001b[0m\n",
            "\u001b[34m[04/25/2022 07:58:08 INFO 140034759915328] #test_score (algo-1) : ('roc_auc_score', 0.6733814404094354)\u001b[0m\n",
            "\u001b[34m[04/25/2022 07:58:08 INFO 140034759915328] #test_score (algo-1) : ('binary_balanced_accuracy', 0.5)\u001b[0m\n",
            "\u001b[34m[04/25/2022 07:58:08 INFO 140034759915328] #test_score (algo-1) : ('binary_log_loss', 0.7497309859414212)\u001b[0m\n",
            "\u001b[34m[04/25/2022 07:58:08 INFO 140034759915328] #quality_metric: host=algo-1, test binary_classification_cross_entropy_objective <loss>=0.48212808535272916\u001b[0m\n",
            "\u001b[34m[04/25/2022 07:58:08 INFO 140034759915328] #quality_metric: host=algo-1, test binary_classification_accuracy <score>=0.7925947211709536\u001b[0m\n",
            "\u001b[34m[04/25/2022 07:58:08 INFO 140034759915328] #quality_metric: host=algo-1, test binary_f_1.000 <score>=0.10087730923162554\u001b[0m\n",
            "\u001b[34m[04/25/2022 07:58:08 INFO 140034759915328] #quality_metric: host=algo-1, test precision <score>=0.5603651354534747\u001b[0m\n",
            "\u001b[34m[04/25/2022 07:58:08 INFO 140034759915328] #quality_metric: host=algo-1, test recall <score>=0.05542772259924854\u001b[0m\n",
            "\u001b[34m[04/25/2022 07:58:08 INFO 140034759915328] #quality_metric: host=algo-1, test roc_auc_score <score>=0.6733814404094354\u001b[0m\n",
            "\u001b[34m[04/25/2022 07:58:08 INFO 140034759915328] #quality_metric: host=algo-1, test binary_balanced_accuracy <score>=0.5\u001b[0m\n",
            "\u001b[34m[04/25/2022 07:58:08 INFO 140034759915328] #quality_metric: host=algo-1, test binary_log_loss <score>=0.7497309859414212\u001b[0m\n",
            "\u001b[34m#metrics {\"StartTime\": 1650873160.1496499, \"EndTime\": 1650873488.9232416, \"Dimensions\": {\"Algorithm\": \"Linear Learner\", \"Host\": \"algo-1\", \"Operation\": \"training\"}, \"Metrics\": {\"initialize.time\": {\"sum\": 348.28901290893555, \"count\": 1, \"min\": 348.28901290893555, \"max\": 348.28901290893555}, \"epochs\": {\"sum\": 15.0, \"count\": 1, \"min\": 15, \"max\": 15}, \"check_early_stopping.time\": {\"sum\": 2.5987625122070312, \"count\": 6, \"min\": 0.24509429931640625, \"max\": 1.0006427764892578}, \"update.time\": {\"sum\": 319976.06444358826, \"count\": 5, \"min\": 63534.15060043335, \"max\": 64619.66347694397}, \"finalize.time\": {\"sum\": 7192.275762557983, \"count\": 1, \"min\": 7192.275762557983, \"max\": 7192.275762557983}, \"setuptime\": {\"sum\": 43.74814033508301, \"count\": 1, \"min\": 43.74814033508301, \"max\": 43.74814033508301}, \"totaltime\": {\"sum\": 329156.3377380371, \"count\": 1, \"min\": 329156.3377380371, \"max\": 329156.3377380371}}}\u001b[0m\n",
            "\u001b[34m[04/25/2022 07:58:08 INFO 140034759915328 integration.py:636] worker closed\u001b[0m\n",
            "\n",
            "2022-04-25 07:59:11 Uploading - Uploading generated training model\n",
            "2022-04-25 07:59:31 Completed - Training job completed\n",
            "ProfilerReport-1650872945: NoIssuesFound\n",
            "Training seconds: 506\n",
            "Billable seconds: 506\n"
          ]
        }
      ],
      "source": [
        "classifier_estimator2.fit([train_records,val_records,test_records])"
      ]
    },
    {
      "cell_type": "markdown",
      "metadata": {
        "id": "JuujHKYgd5SC"
      },
      "source": [
        "Perform a batch prediction by using the newly trained model."
      ]
    },
    {
      "cell_type": "code",
      "execution_count": null,
      "metadata": {
        "id": "RPX0kQM5d5SD",
        "outputId": "b8e73154-6ea4-4c96-cc70-15193ceba0c2"
      },
      "outputs": [
        {
          "name": "stderr",
          "output_type": "stream",
          "text": [
            "Defaulting to the only supported framework/algorithm version: 1. Ignoring framework/algorithm version: 1.\n"
          ]
        },
        {
          "name": "stdout",
          "output_type": "stream",
          "text": [
            ".......................................\n",
            "\u001b[34mDocker entrypoint called with argument(s): serve\u001b[0m\n",
            "\u001b[34mRunning default environment configuration script\u001b[0m\n",
            "\u001b[34m[04/25/2022 08:06:26 INFO 140665784440640] loaded entry point class algorithm.serve.server_config:config_api\u001b[0m\n",
            "\u001b[34m[04/25/2022 08:06:26 INFO 140665784440640] loading entry points\u001b[0m\n",
            "\u001b[34m[04/25/2022 08:06:26 INFO 140665784440640] loaded request iterator application/json\u001b[0m\n",
            "\u001b[34m[04/25/2022 08:06:26 INFO 140665784440640] loaded request iterator application/jsonlines\u001b[0m\n",
            "\u001b[34m[04/25/2022 08:06:26 INFO 140665784440640] loaded request iterator application/x-recordio-protobuf\u001b[0m\n",
            "\u001b[34m[04/25/2022 08:06:26 INFO 140665784440640] loaded request iterator text/csv\u001b[0m\n",
            "\u001b[34m[04/25/2022 08:06:26 INFO 140665784440640] loaded response encoder application/json\u001b[0m\n",
            "\u001b[34m[04/25/2022 08:06:26 INFO 140665784440640] loaded response encoder application/jsonlines\u001b[0m\n",
            "\u001b[34m[04/25/2022 08:06:26 INFO 140665784440640] loaded response encoder application/x-recordio-protobuf\u001b[0m\n",
            "\u001b[34m[04/25/2022 08:06:26 INFO 140665784440640] loaded response encoder text/csv\u001b[0m\n",
            "\u001b[34m[04/25/2022 08:06:26 INFO 140665784440640] loaded entry point class algorithm:model\u001b[0m\n",
            "\u001b[34m[04/25/2022 08:06:26 INFO 140665784440640] Number of server workers: 4\u001b[0m\n",
            "\u001b[34m[04/25/2022 08:06:26 INFO 140665784440640] loading model...\u001b[0m\n",
            "\u001b[34m[04/25/2022 08:06:26 INFO 140665784440640] ...model loaded.\u001b[0m\n",
            "\u001b[34m[2022-04-25 08:06:26 +0000] [1] [INFO] Starting gunicorn 20.1.0\u001b[0m\n",
            "\u001b[34m[2022-04-25 08:06:26 +0000] [1] [INFO] Listening at: http://0.0.0.0:8080 (1)\u001b[0m\n",
            "\u001b[34m[2022-04-25 08:06:26 +0000] [1] [INFO] Using worker: sync\u001b[0m\n",
            "\u001b[34m[2022-04-25 08:06:26 +0000] [60] [INFO] Booting worker with pid: 60\u001b[0m\n",
            "\u001b[34m[2022-04-25 08:06:26 +0000] [69] [INFO] Booting worker with pid: 69\u001b[0m\n",
            "\u001b[34m[2022-04-25 08:06:26 +0000] [78] [INFO] Booting worker with pid: 78\u001b[0m\n",
            "\u001b[34m[2022-04-25 08:06:26 +0000] [87] [INFO] Booting worker with pid: 87\u001b[0m\n",
            "\u001b[34m#metrics {\"StartTime\": 1650873986.4593515, \"EndTime\": 1650873987.619765, \"Dimensions\": {\"Algorithm\": \"LinearLearnerModel\", \"Host\": \"UNKNOWN\", \"Operation\": \"scoring\"}, \"Metrics\": {\"execution_parameters.count\": {\"sum\": 1.0, \"count\": 1, \"min\": 1, \"max\": 1}}}\u001b[0m\n",
            "\u001b[34m#metrics {\"StartTime\": 1650873986.4593515, \"EndTime\": 1650873990.5347574, \"Dimensions\": {\"Algorithm\": \"LinearLearnerModel\", \"Host\": \"UNKNOWN\", \"Operation\": \"scoring\"}, \"Metrics\": {\"json.encoder.time\": {\"sum\": 150.90584754943848, \"count\": 1, \"min\": 150.90584754943848, \"max\": 150.90584754943848}, \"invocations.count\": {\"sum\": 1.0, \"count\": 1, \"min\": 1, \"max\": 1}}}\u001b[0m\n",
            "\u001b[34m#metrics {\"StartTime\": 1650873986.4593515, \"EndTime\": 1650873990.6903358, \"Dimensions\": {\"Algorithm\": \"LinearLearnerModel\", \"Host\": \"UNKNOWN\", \"Operation\": \"scoring\"}, \"Metrics\": {\"json.encoder.time\": {\"sum\": 157.2287082672119, \"count\": 1, \"min\": 157.2287082672119, \"max\": 157.2287082672119}, \"invocations.count\": {\"sum\": 1.0, \"count\": 1, \"min\": 1, \"max\": 1}}}\u001b[0m\n",
            "\u001b[34m#metrics {\"StartTime\": 1650873986.4593515, \"EndTime\": 1650873990.7424085, \"Dimensions\": {\"Algorithm\": \"LinearLearnerModel\", \"Host\": \"UNKNOWN\", \"Operation\": \"scoring\"}, \"Metrics\": {\"json.encoder.time\": {\"sum\": 149.8851776123047, \"count\": 1, \"min\": 149.8851776123047, \"max\": 149.8851776123047}, \"invocations.count\": {\"sum\": 1.0, \"count\": 1, \"min\": 1, \"max\": 1}}}\u001b[0m\n",
            "\u001b[34m#metrics {\"StartTime\": 1650873987.6199498, \"EndTime\": 1650873990.8416338, \"Dimensions\": {\"Algorithm\": \"LinearLearnerModel\", \"Host\": \"UNKNOWN\", \"Operation\": \"scoring\"}, \"Metrics\": {\"json.encoder.time\": {\"sum\": 158.62655639648438, \"count\": 1, \"min\": 158.62655639648438, \"max\": 158.62655639648438}, \"invocations.count\": {\"sum\": 1.0, \"count\": 1, \"min\": 1, \"max\": 1}}}\u001b[0m\n",
            "\u001b[34m#metrics {\"StartTime\": 1650873990.6905332, \"EndTime\": 1650873991.4875867, \"Dimensions\": {\"Algorithm\": \"LinearLearnerModel\", \"Host\": \"UNKNOWN\", \"Operation\": \"scoring\"}, \"Metrics\": {\"json.encoder.time\": {\"sum\": 67.89898872375488, \"count\": 1, \"min\": 67.89898872375488, \"max\": 67.89898872375488}, \"invocations.count\": {\"sum\": 1.0, \"count\": 1, \"min\": 1, \"max\": 1}}}\u001b[0m\n",
            "\u001b[35m#metrics {\"StartTime\": 1650873990.6905332, \"EndTime\": 1650873991.4875867, \"Dimensions\": {\"Algorithm\": \"LinearLearnerModel\", \"Host\": \"UNKNOWN\", \"Operation\": \"scoring\"}, \"Metrics\": {\"json.encoder.time\": {\"sum\": 67.89898872375488, \"count\": 1, \"min\": 67.89898872375488, \"max\": 67.89898872375488}, \"invocations.count\": {\"sum\": 1.0, \"count\": 1, \"min\": 1, \"max\": 1}}}\u001b[0m\n",
            "\u001b[32m2022-04-25T08:06:27.627:[sagemaker logs]: MaxConcurrentTransforms=4, MaxPayloadInMB=6, BatchStrategy=MULTI_RECORD\u001b[0m\n",
            "\u001b[34mDocker entrypoint called with argument(s): serve\u001b[0m\n",
            "\u001b[34mRunning default environment configuration script\u001b[0m\n",
            "\u001b[35mDocker entrypoint called with argument(s): serve\u001b[0m\n",
            "\u001b[35mRunning default environment configuration script\u001b[0m\n",
            "\u001b[34m[04/25/2022 08:06:26 INFO 140665784440640] loaded entry point class algorithm.serve.server_config:config_api\u001b[0m\n",
            "\u001b[34m[04/25/2022 08:06:26 INFO 140665784440640] loading entry points\u001b[0m\n",
            "\u001b[34m[04/25/2022 08:06:26 INFO 140665784440640] loaded request iterator application/json\u001b[0m\n",
            "\u001b[34m[04/25/2022 08:06:26 INFO 140665784440640] loaded request iterator application/jsonlines\u001b[0m\n",
            "\u001b[34m[04/25/2022 08:06:26 INFO 140665784440640] loaded request iterator application/x-recordio-protobuf\u001b[0m\n",
            "\u001b[34m[04/25/2022 08:06:26 INFO 140665784440640] loaded request iterator text/csv\u001b[0m\n",
            "\u001b[34m[04/25/2022 08:06:26 INFO 140665784440640] loaded response encoder application/json\u001b[0m\n",
            "\u001b[34m[04/25/2022 08:06:26 INFO 140665784440640] loaded response encoder application/jsonlines\u001b[0m\n",
            "\u001b[34m[04/25/2022 08:06:26 INFO 140665784440640] loaded response encoder application/x-recordio-protobuf\u001b[0m\n",
            "\u001b[35m[04/25/2022 08:06:26 INFO 140665784440640] loaded entry point class algorithm.serve.server_config:config_api\u001b[0m\n",
            "\u001b[35m[04/25/2022 08:06:26 INFO 140665784440640] loading entry points\u001b[0m\n",
            "\u001b[35m[04/25/2022 08:06:26 INFO 140665784440640] loaded request iterator application/json\u001b[0m\n",
            "\u001b[35m[04/25/2022 08:06:26 INFO 140665784440640] loaded request iterator application/jsonlines\u001b[0m\n",
            "\u001b[35m[04/25/2022 08:06:26 INFO 140665784440640] loaded request iterator application/x-recordio-protobuf\u001b[0m\n",
            "\u001b[35m[04/25/2022 08:06:26 INFO 140665784440640] loaded request iterator text/csv\u001b[0m\n",
            "\u001b[35m[04/25/2022 08:06:26 INFO 140665784440640] loaded response encoder application/json\u001b[0m\n",
            "\u001b[35m[04/25/2022 08:06:26 INFO 140665784440640] loaded response encoder application/jsonlines\u001b[0m\n",
            "\u001b[35m[04/25/2022 08:06:26 INFO 140665784440640] loaded response encoder application/x-recordio-protobuf\u001b[0m\n",
            "\u001b[34m[04/25/2022 08:06:26 INFO 140665784440640] loaded response encoder text/csv\u001b[0m\n",
            "\u001b[34m[04/25/2022 08:06:26 INFO 140665784440640] loaded entry point class algorithm:model\u001b[0m\n",
            "\u001b[34m[04/25/2022 08:06:26 INFO 140665784440640] Number of server workers: 4\u001b[0m\n",
            "\u001b[34m[04/25/2022 08:06:26 INFO 140665784440640] loading model...\u001b[0m\n",
            "\u001b[34m[04/25/2022 08:06:26 INFO 140665784440640] ...model loaded.\u001b[0m\n",
            "\u001b[34m[2022-04-25 08:06:26 +0000] [1] [INFO] Starting gunicorn 20.1.0\u001b[0m\n",
            "\u001b[34m[2022-04-25 08:06:26 +0000] [1] [INFO] Listening at: http://0.0.0.0:8080 (1)\u001b[0m\n",
            "\u001b[34m[2022-04-25 08:06:26 +0000] [1] [INFO] Using worker: sync\u001b[0m\n",
            "\u001b[34m[2022-04-25 08:06:26 +0000] [60] [INFO] Booting worker with pid: 60\u001b[0m\n",
            "\u001b[34m[2022-04-25 08:06:26 +0000] [69] [INFO] Booting worker with pid: 69\u001b[0m\n",
            "\u001b[34m[2022-04-25 08:06:26 +0000] [78] [INFO] Booting worker with pid: 78\u001b[0m\n",
            "\u001b[34m[2022-04-25 08:06:26 +0000] [87] [INFO] Booting worker with pid: 87\u001b[0m\n",
            "\u001b[35m[04/25/2022 08:06:26 INFO 140665784440640] loaded response encoder text/csv\u001b[0m\n",
            "\u001b[35m[04/25/2022 08:06:26 INFO 140665784440640] loaded entry point class algorithm:model\u001b[0m\n",
            "\u001b[35m[04/25/2022 08:06:26 INFO 140665784440640] Number of server workers: 4\u001b[0m\n",
            "\u001b[35m[04/25/2022 08:06:26 INFO 140665784440640] loading model...\u001b[0m\n",
            "\u001b[35m[04/25/2022 08:06:26 INFO 140665784440640] ...model loaded.\u001b[0m\n",
            "\u001b[35m[2022-04-25 08:06:26 +0000] [1] [INFO] Starting gunicorn 20.1.0\u001b[0m\n",
            "\u001b[35m[2022-04-25 08:06:26 +0000] [1] [INFO] Listening at: http://0.0.0.0:8080 (1)\u001b[0m\n",
            "\u001b[35m[2022-04-25 08:06:26 +0000] [1] [INFO] Using worker: sync\u001b[0m\n",
            "\u001b[35m[2022-04-25 08:06:26 +0000] [60] [INFO] Booting worker with pid: 60\u001b[0m\n",
            "\u001b[35m[2022-04-25 08:06:26 +0000] [69] [INFO] Booting worker with pid: 69\u001b[0m\n",
            "\u001b[35m[2022-04-25 08:06:26 +0000] [78] [INFO] Booting worker with pid: 78\u001b[0m\n",
            "\u001b[35m[2022-04-25 08:06:26 +0000] [87] [INFO] Booting worker with pid: 87\u001b[0m\n",
            "\u001b[34m#metrics {\"StartTime\": 1650873986.4593515, \"EndTime\": 1650873987.619765, \"Dimensions\": {\"Algorithm\": \"LinearLearnerModel\", \"Host\": \"UNKNOWN\", \"Operation\": \"scoring\"}, \"Metrics\": {\"execution_parameters.count\": {\"sum\": 1.0, \"count\": 1, \"min\": 1, \"max\": 1}}}\u001b[0m\n",
            "\u001b[35m#metrics {\"StartTime\": 1650873986.4593515, \"EndTime\": 1650873987.619765, \"Dimensions\": {\"Algorithm\": \"LinearLearnerModel\", \"Host\": \"UNKNOWN\", \"Operation\": \"scoring\"}, \"Metrics\": {\"execution_parameters.count\": {\"sum\": 1.0, \"count\": 1, \"min\": 1, \"max\": 1}}}\u001b[0m\n",
            "\u001b[34m#metrics {\"StartTime\": 1650873986.4593515, \"EndTime\": 1650873990.5347574, \"Dimensions\": {\"Algorithm\": \"LinearLearnerModel\", \"Host\": \"UNKNOWN\", \"Operation\": \"scoring\"}, \"Metrics\": {\"json.encoder.time\": {\"sum\": 150.90584754943848, \"count\": 1, \"min\": 150.90584754943848, \"max\": 150.90584754943848}, \"invocations.count\": {\"sum\": 1.0, \"count\": 1, \"min\": 1, \"max\": 1}}}\u001b[0m\n",
            "\u001b[35m#metrics {\"StartTime\": 1650873986.4593515, \"EndTime\": 1650873990.5347574, \"Dimensions\": {\"Algorithm\": \"LinearLearnerModel\", \"Host\": \"UNKNOWN\", \"Operation\": \"scoring\"}, \"Metrics\": {\"json.encoder.time\": {\"sum\": 150.90584754943848, \"count\": 1, \"min\": 150.90584754943848, \"max\": 150.90584754943848}, \"invocations.count\": {\"sum\": 1.0, \"count\": 1, \"min\": 1, \"max\": 1}}}\u001b[0m\n",
            "\u001b[34m#metrics {\"StartTime\": 1650873986.4593515, \"EndTime\": 1650873990.6903358, \"Dimensions\": {\"Algorithm\": \"LinearLearnerModel\", \"Host\": \"UNKNOWN\", \"Operation\": \"scoring\"}, \"Metrics\": {\"json.encoder.time\": {\"sum\": 157.2287082672119, \"count\": 1, \"min\": 157.2287082672119, \"max\": 157.2287082672119}, \"invocations.count\": {\"sum\": 1.0, \"count\": 1, \"min\": 1, \"max\": 1}}}\u001b[0m\n",
            "\u001b[34m#metrics {\"StartTime\": 1650873986.4593515, \"EndTime\": 1650873990.7424085, \"Dimensions\": {\"Algorithm\": \"LinearLearnerModel\", \"Host\": \"UNKNOWN\", \"Operation\": \"scoring\"}, \"Metrics\": {\"json.encoder.time\": {\"sum\": 149.8851776123047, \"count\": 1, \"min\": 149.8851776123047, \"max\": 149.8851776123047}, \"invocations.count\": {\"sum\": 1.0, \"count\": 1, \"min\": 1, \"max\": 1}}}\u001b[0m\n",
            "\u001b[34m#metrics {\"StartTime\": 1650873987.6199498, \"EndTime\": 1650873990.8416338, \"Dimensions\": {\"Algorithm\": \"LinearLearnerModel\", \"Host\": \"UNKNOWN\", \"Operation\": \"scoring\"}, \"Metrics\": {\"json.encoder.time\": {\"sum\": 158.62655639648438, \"count\": 1, \"min\": 158.62655639648438, \"max\": 158.62655639648438}, \"invocations.count\": {\"sum\": 1.0, \"count\": 1, \"min\": 1, \"max\": 1}}}\u001b[0m\n",
            "\u001b[35m#metrics {\"StartTime\": 1650873986.4593515, \"EndTime\": 1650873990.6903358, \"Dimensions\": {\"Algorithm\": \"LinearLearnerModel\", \"Host\": \"UNKNOWN\", \"Operation\": \"scoring\"}, \"Metrics\": {\"json.encoder.time\": {\"sum\": 157.2287082672119, \"count\": 1, \"min\": 157.2287082672119, \"max\": 157.2287082672119}, \"invocations.count\": {\"sum\": 1.0, \"count\": 1, \"min\": 1, \"max\": 1}}}\u001b[0m\n",
            "\u001b[35m#metrics {\"StartTime\": 1650873986.4593515, \"EndTime\": 1650873990.7424085, \"Dimensions\": {\"Algorithm\": \"LinearLearnerModel\", \"Host\": \"UNKNOWN\", \"Operation\": \"scoring\"}, \"Metrics\": {\"json.encoder.time\": {\"sum\": 149.8851776123047, \"count\": 1, \"min\": 149.8851776123047, \"max\": 149.8851776123047}, \"invocations.count\": {\"sum\": 1.0, \"count\": 1, \"min\": 1, \"max\": 1}}}\u001b[0m\n",
            "\u001b[35m#metrics {\"StartTime\": 1650873987.6199498, \"EndTime\": 1650873990.8416338, \"Dimensions\": {\"Algorithm\": \"LinearLearnerModel\", \"Host\": \"UNKNOWN\", \"Operation\": \"scoring\"}, \"Metrics\": {\"json.encoder.time\": {\"sum\": 158.62655639648438, \"count\": 1, \"min\": 158.62655639648438, \"max\": 158.62655639648438}, \"invocations.count\": {\"sum\": 1.0, \"count\": 1, \"min\": 1, \"max\": 1}}}\u001b[0m\n",
            "\u001b[34m#metrics {\"StartTime\": 1650873990.6905332, \"EndTime\": 1650873991.4875867, \"Dimensions\": {\"Algorithm\": \"LinearLearnerModel\", \"Host\": \"UNKNOWN\", \"Operation\": \"scoring\"}, \"Metrics\": {\"json.encoder.time\": {\"sum\": 67.89898872375488, \"count\": 1, \"min\": 67.89898872375488, \"max\": 67.89898872375488}, \"invocations.count\": {\"sum\": 1.0, \"count\": 1, \"min\": 1, \"max\": 1}}}\u001b[0m\n",
            "\u001b[35m#metrics {\"StartTime\": 1650873990.6905332, \"EndTime\": 1650873991.4875867, \"Dimensions\": {\"Algorithm\": \"LinearLearnerModel\", \"Host\": \"UNKNOWN\", \"Operation\": \"scoring\"}, \"Metrics\": {\"json.encoder.time\": {\"sum\": 67.89898872375488, \"count\": 1, \"min\": 67.89898872375488, \"max\": 67.89898872375488}, \"invocations.count\": {\"sum\": 1.0, \"count\": 1, \"min\": 1, \"max\": 1}}}\u001b[0m\n",
            "\u001b[32m2022-04-25T08:06:27.627:[sagemaker logs]: MaxConcurrentTransforms=4, MaxPayloadInMB=6, BatchStrategy=MULTI_RECORD\u001b[0m\n"
          ]
        }
      ],
      "source": [
        "test_labels, target_predicted = batch_linear_predict(test, classifier_estimator2)"
      ]
    },
    {
      "cell_type": "markdown",
      "metadata": {
        "id": "7iwxIZaOd5SD"
      },
      "source": [
        "Plot a confusion matrix."
      ]
    },
    {
      "cell_type": "code",
      "execution_count": null,
      "metadata": {
        "id": "C-zekyi5d5SE",
        "outputId": "5761b02f-4440-405e-882b-85056de46b50"
      },
      "outputs": [
        {
          "data": {
            "image/png": "[encoded data removed]",
            "text/plain": [
              "<Figure size 432x288 with 1 Axes>"
            ]
          },
          "metadata": {
            "needs_background": "light"
          },
          "output_type": "display_data"
        }
      ],
      "source": [
        "plot_confusion_matrix(test_labels, target_predicted)"
      ]
    },
    {
      "cell_type": "markdown",
      "metadata": {
        "id": "R_mQVyfjd5SE"
      },
      "source": [
        "Plot the ROC curve."
      ]
    },
    {
      "cell_type": "code",
      "execution_count": null,
      "metadata": {
        "id": "-Nl90Zbbd5SF",
        "outputId": "89d23aa6-ba3d-495f-ed5f-f1383128f11f"
      },
      "outputs": [
        {
          "name": "stdout",
          "output_type": "stream",
          "text": [
            "Sensitivity or TPR:  5.5427722599248535 %\n",
            "Specificity or TNR:  98.8446597433953 %\n",
            "Precision:  56.03651354534747 %\n",
            "Negative Predictive Value:  79.75187777451721 %\n",
            "False Positive Rate:  1.155340256604708 %\n",
            "False Negative Rate:  94.45722774007514 %\n",
            "False Discovery Rate:  43.96348645465253 %\n",
            "Accuracy:  79.25947211709537 %\n",
            "Validation AUC 0.5219371600166007\n",
            "Figure(432x288)\n"
          ]
        },
        {
          "data": {
            "image/png": "[encoded data removed]",
            "text/plain": [
              "<Figure size 432x288 with 2 Axes>"
            ]
          },
          "metadata": {
            "needs_background": "light"
          },
          "output_type": "display_data"
        },
        {
          "data": {
            "text/plain": [
              "<Figure size 432x288 with 0 Axes>"
            ]
          },
          "metadata": {},
          "output_type": "display_data"
        }
      ],
      "source": [
        "plot_roc(test_labels, target_predicted)"
      ]
    },
    {
      "cell_type": "markdown",
      "metadata": {
        "id": "DLBgcJntd5SF"
      },
      "source": [
        "The linear model shows only a little improvement in performance. Try a tree-based ensemble model, which is called *XGBoost*, with Amazon SageMaker."
      ]
    },
    {
      "cell_type": "markdown",
      "metadata": {
        "id": "GMg8w2GQd5SF"
      },
      "source": [
        "### Try the XGBoost model"
      ]
    },
    {
      "cell_type": "markdown",
      "metadata": {
        "id": "DKq3kL7Td5SG"
      },
      "source": [
        "Perform these steps:  \n",
        "\n",
        "1. Use the training set variables and save them as CSV files: train.csv, validation.csv and test.csv.\n",
        "2. Store the bucket name in the variable. The Amazon S3 bucket name is provided to the left of the lab instructions.  \n",
        "a. `bucket = <LabBucketName>`  \n",
        "b. `prefix = 'flight-xgb'`  \n",
        "3. Use the AWS SDK for Python (Boto3) to upload the model to the bucket.    "
      ]
    },
    {
      "cell_type": "code",
      "execution_count": null,
      "metadata": {
        "id": "e0a8PCRSd5SG"
      },
      "outputs": [],
      "source": [
        "bucket='c47433a664954l1950529t1w351240002430-flightbucket-1cwbwmg1ds05t'\n",
        "prefix='flight-xgb'\n",
        "train_file='flight_train.csv'\n",
        "test_file='flight_test.csv'\n",
        "validate_file='flight_validate.csv'\n",
        "whole_file='flight.csv'\n",
        "s3_resource = boto3.Session().resource('s3')\n",
        "\n",
        "def upload_s3_csv(filename, folder, dataframe):\n",
        "    csv_buffer = io.StringIO()\n",
        "    dataframe.to_csv(csv_buffer, header=False, index=False )\n",
        "    s3_resource.Bucket(bucket).Object(os.path.join(prefix, folder, filename)).put(Body=csv_buffer.getvalue())\n",
        "\n",
        "upload_s3_csv(train_file, 'train', train)\n",
        "upload_s3_csv(test_file, 'test', test)\n",
        "upload_s3_csv(validate_file, 'validate', validate)"
      ]
    },
    {
      "cell_type": "markdown",
      "metadata": {
        "id": "d3kOPrP9d5SH"
      },
      "source": [
        "Use the `sagemaker.inputs.TrainingInput` function to create a `record_set` for the training and validation datasets."
      ]
    },
    {
      "cell_type": "code",
      "execution_count": null,
      "metadata": {
        "id": "x3C-07TJd5SH"
      },
      "outputs": [],
      "source": [
        "train_channel = sagemaker.inputs.TrainingInput(\n",
        "    \"s3://{}/{}/train/\".format(bucket,prefix,train_file),\n",
        "    content_type='text/csv')\n",
        "\n",
        "validate_channel = sagemaker.inputs.TrainingInput(\n",
        "    \"s3://{}/{}/validate/\".format(bucket,prefix,validate_file),\n",
        "    content_type='text/csv')\n",
        "\n",
        "data_channels = {'train': train_channel, 'validation': validate_channel}"
      ]
    },
    {
      "cell_type": "code",
      "execution_count": null,
      "metadata": {
        "id": "i0bNualqd5SI"
      },
      "outputs": [],
      "source": [
        "from sagemaker.image_uris import retrieve\n",
        "container = retrieve('xgboost',boto3.Session().region_name,'1.0-1')"
      ]
    },
    {
      "cell_type": "code",
      "execution_count": null,
      "metadata": {
        "id": "-qsPHCqjd5SI",
        "outputId": "7d02664e-9dd2-4aaa-9b90-14dcefa068bf"
      },
      "outputs": [
        {
          "name": "stdout",
          "output_type": "stream",
          "text": [
            "2022-04-25 08:07:24 Starting - Starting the training job...\n",
            "2022-04-25 08:07:52 Starting - Preparing the instances for trainingProfilerReport-1650874043: InProgress\n",
            ".........\n",
            "2022-04-25 08:09:22 Downloading - Downloading input data......\n",
            "2022-04-25 08:10:12 Training - Downloading the training image...\n",
            "2022-04-25 08:10:53 Training - Training image download completed. Training in progress...\u001b[34mINFO:sagemaker-containers:Imported framework sagemaker_xgboost_container.training\u001b[0m\n",
            "\u001b[34mINFO:sagemaker-containers:Failed to parse hyperparameter eval_metric value auc to Json.\u001b[0m\n",
            "\u001b[34mReturning the value itself\u001b[0m\n",
            "\u001b[34mINFO:sagemaker-containers:Failed to parse hyperparameter objective value binary:logistic to Json.\u001b[0m\n",
            "\u001b[34mReturning the value itself\u001b[0m\n",
            "\u001b[34mINFO:sagemaker-containers:No GPUs detected (normal if no gpus installed)\u001b[0m\n",
            "\u001b[34mINFO:sagemaker_xgboost_container.training:Running XGBoost Sagemaker in algorithm mode\u001b[0m\n",
            "\u001b[34mINFO:root:Determined delimiter of CSV input is ','\u001b[0m\n",
            "\u001b[34mINFO:root:Determined delimiter of CSV input is ','\u001b[0m\n",
            "\u001b[34mINFO:root:Determined delimiter of CSV input is ','\u001b[0m\n",
            "\u001b[34m[08:11:05] 1308472x85 matrix with 111220120 entries loaded from /opt/ml/input/data/train?format=csv&label_column=0&delimiter=,\u001b[0m\n",
            "\u001b[34mINFO:root:Determined delimiter of CSV input is ','\u001b[0m\n",
            "\u001b[34m[08:11:06] 163559x85 matrix with 13902515 entries loaded from /opt/ml/input/data/validation?format=csv&label_column=0&delimiter=,\u001b[0m\n",
            "\u001b[34mINFO:root:Single node training.\u001b[0m\n",
            "\u001b[34mINFO:root:Train matrix has 1308472 rows\u001b[0m\n",
            "\u001b[34mINFO:root:Validation matrix has 163559 rows\u001b[0m\n",
            "\u001b[34m[0]#011train-auc:0.65440#011validation-auc:0.65445\u001b[0m\n",
            "\u001b[34m[1]#011train-auc:0.66716#011validation-auc:0.66693\u001b[0m\n",
            "\u001b[34m[2]#011train-auc:0.66965#011validation-auc:0.66960\u001b[0m\n",
            "\u001b[34m[3]#011train-auc:0.67287#011validation-auc:0.67240\u001b[0m\n",
            "\u001b[34m[4]#011train-auc:0.67686#011validation-auc:0.67628\u001b[0m\n",
            "\u001b[34m[5]#011train-auc:0.67779#011validation-auc:0.67708\u001b[0m\n",
            "\u001b[34m[6]#011train-auc:0.67980#011validation-auc:0.67911\u001b[0m\n",
            "\u001b[34m[7]#011train-auc:0.68369#011validation-auc:0.68308\u001b[0m\n",
            "\u001b[34m[8]#011train-auc:0.68610#011validation-auc:0.68550\u001b[0m\n",
            "\u001b[34m[9]#011train-auc:0.68753#011validation-auc:0.68688\u001b[0m\n",
            "\u001b[34m[10]#011train-auc:0.68910#011validation-auc:0.68839\u001b[0m\n",
            "\u001b[34m[11]#011train-auc:0.69068#011validation-auc:0.68996\u001b[0m\n",
            "\u001b[34m[12]#011train-auc:0.69317#011validation-auc:0.69247\u001b[0m\n",
            "\u001b[34m[13]#011train-auc:0.69425#011validation-auc:0.69340\u001b[0m\n",
            "\u001b[34m[14]#011train-auc:0.69603#011validation-auc:0.69526\u001b[0m\n",
            "\u001b[34m[15]#011train-auc:0.69796#011validation-auc:0.69696\u001b[0m\n",
            "\u001b[34m[16]#011train-auc:0.69979#011validation-auc:0.69869\u001b[0m\n",
            "\u001b[34m[17]#011train-auc:0.70089#011validation-auc:0.69958\u001b[0m\n",
            "\u001b[34m[18]#011train-auc:0.70239#011validation-auc:0.70100\u001b[0m\n",
            "\u001b[34m[19]#011train-auc:0.70365#011validation-auc:0.70230\u001b[0m\n",
            "\u001b[34m[20]#011train-auc:0.70456#011validation-auc:0.70324\u001b[0m\n",
            "\u001b[34m[21]#011train-auc:0.70538#011validation-auc:0.70416\u001b[0m\n",
            "\u001b[34m[22]#011train-auc:0.70661#011validation-auc:0.70544\u001b[0m\n",
            "\u001b[34m[23]#011train-auc:0.70753#011validation-auc:0.70632\u001b[0m\n",
            "\u001b[34m[24]#011train-auc:0.70815#011validation-auc:0.70693\u001b[0m\n",
            "\u001b[34m[25]#011train-auc:0.70884#011validation-auc:0.70758\u001b[0m\n",
            "\u001b[34m[26]#011train-auc:0.70952#011validation-auc:0.70824\u001b[0m\n",
            "\u001b[34m[27]#011train-auc:0.71052#011validation-auc:0.70919\u001b[0m\n",
            "\u001b[34m[28]#011train-auc:0.71121#011validation-auc:0.70980\u001b[0m\n",
            "\u001b[34m[29]#011train-auc:0.71155#011validation-auc:0.71019\u001b[0m\n",
            "\u001b[34m[30]#011train-auc:0.71217#011validation-auc:0.71069\u001b[0m\n",
            "\u001b[34m[31]#011train-auc:0.71394#011validation-auc:0.71237\u001b[0m\n",
            "\u001b[34m[32]#011train-auc:0.71450#011validation-auc:0.71293\u001b[0m\n",
            "\u001b[34m[33]#011train-auc:0.71525#011validation-auc:0.71368\u001b[0m\n",
            "\u001b[34m[34]#011train-auc:0.71581#011validation-auc:0.71425\u001b[0m\n",
            "\u001b[34m[35]#011train-auc:0.71653#011validation-auc:0.71500\u001b[0m\n",
            "\u001b[34m[36]#011train-auc:0.71683#011validation-auc:0.71519\u001b[0m\n",
            "\u001b[34m[37]#011train-auc:0.71733#011validation-auc:0.71568\u001b[0m\n",
            "\u001b[34m[38]#011train-auc:0.71771#011validation-auc:0.71606\u001b[0m\n",
            "\u001b[34m[39]#011train-auc:0.71810#011validation-auc:0.71644\u001b[0m\n",
            "\u001b[34m[40]#011train-auc:0.71915#011validation-auc:0.71747\u001b[0m\n",
            "\u001b[34m[41]#011train-auc:0.71955#011validation-auc:0.71772\u001b[0m\n",
            "\u001b[34m[42]#011train-auc:0.71995#011validation-auc:0.71807\u001b[0m\n",
            "\u001b[34m[43]#011train-auc:0.72049#011validation-auc:0.71860\u001b[0m\n",
            "\u001b[34m[44]#011train-auc:0.72059#011validation-auc:0.71878\u001b[0m\n",
            "\u001b[34m[45]#011train-auc:0.72121#011validation-auc:0.71947\u001b[0m\n",
            "\u001b[34m[46]#011train-auc:0.72154#011validation-auc:0.71974\u001b[0m\n",
            "\u001b[34m[47]#011train-auc:0.72182#011validation-auc:0.72005\u001b[0m\n",
            "\u001b[34m[48]#011train-auc:0.72204#011validation-auc:0.72026\u001b[0m\n",
            "\u001b[34m[49]#011train-auc:0.72232#011validation-auc:0.72055\u001b[0m\n",
            "\u001b[34m[50]#011train-auc:0.72315#011validation-auc:0.72135\u001b[0m\n",
            "\u001b[34m[51]#011train-auc:0.72341#011validation-auc:0.72154\u001b[0m\n",
            "\u001b[34m[52]#011train-auc:0.72371#011validation-auc:0.72179\u001b[0m\n",
            "\u001b[34m[53]#011train-auc:0.72409#011validation-auc:0.72206\u001b[0m\n",
            "\u001b[34m[54]#011train-auc:0.72435#011validation-auc:0.72225\u001b[0m\n",
            "\u001b[34m[55]#011train-auc:0.72466#011validation-auc:0.72253\u001b[0m\n",
            "\u001b[34m[56]#011train-auc:0.72479#011validation-auc:0.72262\u001b[0m\n",
            "\u001b[34m[57]#011train-auc:0.72532#011validation-auc:0.72308\u001b[0m\n",
            "\u001b[34m[58]#011train-auc:0.72551#011validation-auc:0.72326\u001b[0m\n",
            "\u001b[34m[59]#011train-auc:0.72593#011validation-auc:0.72357\u001b[0m\n",
            "\u001b[34m[60]#011train-auc:0.72642#011validation-auc:0.72397\u001b[0m\n",
            "\u001b[34m[61]#011train-auc:0.72665#011validation-auc:0.72418\u001b[0m\n",
            "\u001b[34m[62]#011train-auc:0.72697#011validation-auc:0.72443\u001b[0m\n",
            "\u001b[34m[63]#011train-auc:0.72732#011validation-auc:0.72479\u001b[0m\n",
            "\u001b[34m[64]#011train-auc:0.72749#011validation-auc:0.72494\u001b[0m\n",
            "\u001b[34m[65]#011train-auc:0.72778#011validation-auc:0.72520\u001b[0m\n",
            "\u001b[34m[66]#011train-auc:0.72805#011validation-auc:0.72547\u001b[0m\n",
            "\u001b[34m[67]#011train-auc:0.72842#011validation-auc:0.72585\u001b[0m\n",
            "\u001b[34m[68]#011train-auc:0.72858#011validation-auc:0.72600\u001b[0m\n",
            "\u001b[34m[69]#011train-auc:0.72874#011validation-auc:0.72611\u001b[0m\n",
            "\u001b[34m[70]#011train-auc:0.72904#011validation-auc:0.72636\u001b[0m\n",
            "\u001b[34m[71]#011train-auc:0.72924#011validation-auc:0.72654\u001b[0m\n",
            "\u001b[34m[72]#011train-auc:0.72945#011validation-auc:0.72672\u001b[0m\n",
            "\u001b[34m[73]#011train-auc:0.72951#011validation-auc:0.72681\u001b[0m\n",
            "\u001b[34m[74]#011train-auc:0.72964#011validation-auc:0.72694\u001b[0m\n",
            "\u001b[34m[75]#011train-auc:0.72997#011validation-auc:0.72723\u001b[0m\n",
            "\u001b[34m[76]#011train-auc:0.73041#011validation-auc:0.72761\u001b[0m\n",
            "\u001b[34m[77]#011train-auc:0.73077#011validation-auc:0.72787\u001b[0m\n",
            "\u001b[34m[78]#011train-auc:0.73116#011validation-auc:0.72827\u001b[0m\n",
            "\u001b[34m[79]#011train-auc:0.73138#011validation-auc:0.72848\u001b[0m\n",
            "\u001b[34m[80]#011train-auc:0.73157#011validation-auc:0.72867\u001b[0m\n",
            "\u001b[34m[81]#011train-auc:0.73166#011validation-auc:0.72871\u001b[0m\n",
            "\u001b[34m[82]#011train-auc:0.73185#011validation-auc:0.72887\u001b[0m\n",
            "\u001b[34m[83]#011train-auc:0.73205#011validation-auc:0.72903\u001b[0m\n",
            "\u001b[34m[84]#011train-auc:0.73225#011validation-auc:0.72926\u001b[0m\n",
            "\u001b[34m[85]#011train-auc:0.73236#011validation-auc:0.72933\u001b[0m\n",
            "\u001b[34m[86]#011train-auc:0.73255#011validation-auc:0.72952\u001b[0m\n",
            "\u001b[34m[87]#011train-auc:0.73273#011validation-auc:0.72961\u001b[0m\n",
            "\u001b[34m[88]#011train-auc:0.73289#011validation-auc:0.72974\u001b[0m\n",
            "\u001b[34m[89]#011train-auc:0.73295#011validation-auc:0.72981\u001b[0m\n",
            "\u001b[34m[90]#011train-auc:0.73329#011validation-auc:0.73015\u001b[0m\n",
            "\u001b[34m[91]#011train-auc:0.73357#011validation-auc:0.73037\u001b[0m\n",
            "\u001b[34m[92]#011train-auc:0.73382#011validation-auc:0.73063\u001b[0m\n",
            "\u001b[34m[93]#011train-auc:0.73408#011validation-auc:0.73085\u001b[0m\n",
            "\u001b[34m[94]#011train-auc:0.73428#011validation-auc:0.73102\u001b[0m\n",
            "\u001b[34m[95]#011train-auc:0.73437#011validation-auc:0.73112\u001b[0m\n",
            "\u001b[34m[96]#011train-auc:0.73450#011validation-auc:0.73121\u001b[0m\n",
            "\u001b[34m[97]#011train-auc:0.73470#011validation-auc:0.73136\u001b[0m\n",
            "\n",
            "2022-04-25 08:15:59 Uploading - Uploading generated training model\u001b[34m[98]#011train-auc:0.73482#011validation-auc:0.73146\u001b[0m\n",
            "\u001b[34m[99]#011train-auc:0.73505#011validation-auc:0.73161\u001b[0m\n",
            "\n",
            "2022-04-25 08:16:33 Completed - Training job completed\n",
            "ProfilerReport-1650874043: NoIssuesFound\n",
            "Training seconds: 408\n",
            "Billable seconds: 408\n"
          ]
        }
      ],
      "source": [
        "sess = sagemaker.Session()\n",
        "s3_output_location=\"s3://{}/{}/output/\".format(bucket,prefix)\n",
        "\n",
        "xgb = sagemaker.estimator.Estimator(container,\n",
        "                                    role = sagemaker.get_execution_role(), \n",
        "                                    instance_count=1, \n",
        "                                    instance_type=instance_type,\n",
        "                                    output_path=s3_output_location,\n",
        "                                    sagemaker_session=sess)\n",
        "xgb.set_hyperparameters(max_depth=5,\n",
        "                        eta=0.2,\n",
        "                        gamma=4,\n",
        "                        min_child_weight=6,\n",
        "                        subsample=0.8,\n",
        "                        silent=0,\n",
        "                        objective='binary:logistic',\n",
        "                        eval_metric = \"auc\", \n",
        "                        num_round=100)\n",
        "\n",
        "xgb.fit(inputs=data_channels)"
      ]
    },
    {
      "cell_type": "markdown",
      "metadata": {
        "id": "7r_s6Q20d5SJ"
      },
      "source": [
        "Use the batch transformer for your new model, and evaluate the model on the test dataset."
      ]
    },
    {
      "cell_type": "code",
      "execution_count": null,
      "metadata": {
        "id": "IrcL4U0dd5SJ"
      },
      "outputs": [],
      "source": [
        "batch_X = test.iloc[:,1:];\n",
        "batch_X_file='batch-in.csv'\n",
        "upload_s3_csv(batch_X_file, 'batch-in', batch_X)"
      ]
    },
    {
      "cell_type": "code",
      "execution_count": null,
      "metadata": {
        "id": "xNBKT0RWd5SJ",
        "outputId": "9f586cda-a6e3-4a8b-d662-fd7379bbddbd"
      },
      "outputs": [
        {
          "name": "stdout",
          "output_type": "stream",
          "text": [
            ".................................................\u001b[34m[2022-04-25:08:24:50:INFO] No GPUs detected (normal if no gpus installed)\u001b[0m\n",
            "\u001b[34m[2022-04-25:08:24:50:INFO] No GPUs detected (normal if no gpus installed)\u001b[0m\n",
            "\u001b[34m[2022-04-25:08:24:50:INFO] nginx config: \u001b[0m\n",
            "\u001b[34mworker_processes auto;\u001b[0m\n",
            "\u001b[34mdaemon off;\u001b[0m\n",
            "\u001b[34mpid /tmp/nginx.pid;\u001b[0m\n",
            "\u001b[34merror_log  /dev/stderr;\u001b[0m\n",
            "\u001b[34mworker_rlimit_nofile 4096;\u001b[0m\n",
            "\u001b[34mevents {\n",
            "  worker_connections 2048;\u001b[0m\n",
            "\u001b[34m}\u001b[0m\n",
            "\u001b[34mhttp {\n",
            "  include /etc/nginx/mime.types;\n",
            "  default_type application/octet-stream;\n",
            "  access_log /dev/stdout combined;\n",
            "  upstream gunicorn {\n",
            "    server unix:/tmp/gunicorn.sock;\n",
            "  }\n",
            "  server {\n",
            "    listen 8080 deferred;\n",
            "    client_max_body_size 0;\n",
            "    keepalive_timeout 3;\n",
            "    location ~ ^/(ping|invocations|execution-parameters) {\n",
            "      proxy_set_header X-Forwarded-For $proxy_add_x_forwarded_for;\n",
            "      proxy_set_header Host $http_host;\n",
            "      proxy_redirect off;\n",
            "      proxy_read_timeout 60s;\n",
            "      proxy_pass http://gunicorn;\n",
            "    }\n",
            "    location / {\n",
            "      return 404 \"{}\";\n",
            "    }\n",
            "  }\u001b[0m\n",
            "\u001b[34m}\u001b[0m\n",
            "\u001b[34m[2022-04-25 08:24:50 +0000] [18] [INFO] Starting gunicorn 19.10.0\u001b[0m\n",
            "\u001b[34m[2022-04-25 08:24:50 +0000] [18] [INFO] Listening at: unix:/tmp/gunicorn.sock (18)\u001b[0m\n",
            "\u001b[34m[2022-04-25 08:24:50 +0000] [18] [INFO] Using worker: gevent\u001b[0m\n",
            "\u001b[34m[2022-04-25 08:24:50 +0000] [25] [INFO] Booting worker with pid: 25\u001b[0m\n",
            "\u001b[34m[2022-04-25 08:24:50 +0000] [26] [INFO] Booting worker with pid: 26\u001b[0m\n",
            "\u001b[34m[2022-04-25 08:24:50 +0000] [27] [INFO] Booting worker with pid: 27\u001b[0m\n",
            "\u001b[34m[2022-04-25 08:24:51 +0000] [28] [INFO] Booting worker with pid: 28\u001b[0m\n",
            "\u001b[34m[2022-04-25:08:24:57:INFO] No GPUs detected (normal if no gpus installed)\u001b[0m\n",
            "\u001b[34m169.254.255.130 - - [25/Apr/2022:08:24:57 +0000] \"GET /ping HTTP/1.1\" 200 0 \"-\" \"Go-http-client/1.1\"\u001b[0m\n",
            "\u001b[34m[2022-04-25:08:24:57:INFO] No GPUs detected (normal if no gpus installed)\u001b[0m\n",
            "\u001b[34m169.254.255.130 - - [25/Apr/2022:08:24:57 +0000] \"GET /execution-parameters HTTP/1.1\" 200 84 \"-\" \"Go-http-client/1.1\"\u001b[0m\n",
            "\u001b[35m[2022-04-25:08:24:57:INFO] No GPUs detected (normal if no gpus installed)\u001b[0m\n",
            "\u001b[35m169.254.255.130 - - [25/Apr/2022:08:24:57 +0000] \"GET /ping HTTP/1.1\" 200 0 \"-\" \"Go-http-client/1.1\"\u001b[0m\n",
            "\u001b[35m[2022-04-25:08:24:57:INFO] No GPUs detected (normal if no gpus installed)\u001b[0m\n",
            "\u001b[35m169.254.255.130 - - [25/Apr/2022:08:24:57 +0000] \"GET /execution-parameters HTTP/1.1\" 200 84 \"-\" \"Go-http-client/1.1\"\u001b[0m\n",
            "\u001b[34m[2022-04-25:08:24:58:INFO] No GPUs detected (normal if no gpus installed)\u001b[0m\n",
            "\u001b[35m[2022-04-25:08:24:58:INFO] No GPUs detected (normal if no gpus installed)\u001b[0m\n",
            "\u001b[34m[2022-04-25:08:24:58:INFO] Determined delimiter of CSV input is ','\u001b[0m\n",
            "\u001b[34m[2022-04-25:08:24:58:INFO] Determined delimiter of CSV input is ','\u001b[0m\n",
            "\u001b[34m[2022-04-25:08:24:58:INFO] Determined delimiter of CSV input is ','\u001b[0m\n",
            "\u001b[34m[2022-04-25:08:24:58:INFO] No GPUs detected (normal if no gpus installed)\u001b[0m\n",
            "\u001b[34m[2022-04-25:08:24:58:INFO] Determined delimiter of CSV input is ','\u001b[0m\n",
            "\u001b[35m[2022-04-25:08:24:58:INFO] Determined delimiter of CSV input is ','\u001b[0m\n",
            "\u001b[35m[2022-04-25:08:24:58:INFO] Determined delimiter of CSV input is ','\u001b[0m\n",
            "\u001b[35m[2022-04-25:08:24:58:INFO] Determined delimiter of CSV input is ','\u001b[0m\n",
            "\u001b[35m[2022-04-25:08:24:58:INFO] No GPUs detected (normal if no gpus installed)\u001b[0m\n",
            "\u001b[35m[2022-04-25:08:24:58:INFO] Determined delimiter of CSV input is ','\u001b[0m\n",
            "\u001b[32m2022-04-25T08:24:57.116:[sagemaker logs]: MaxConcurrentTransforms=4, MaxPayloadInMB=6, BatchStrategy=MULTI_RECORD\u001b[0m\n",
            "\u001b[34m169.254.255.130 - - [25/Apr/2022:08:25:01 +0000] \"POST /invocations HTTP/1.1\" 200 652668 \"-\" \"Go-http-client/1.1\"\u001b[0m\n",
            "\u001b[34m169.254.255.130 - - [25/Apr/2022:08:25:01 +0000] \"POST /invocations HTTP/1.1\" 200 652532 \"-\" \"Go-http-client/1.1\"\u001b[0m\n",
            "\u001b[34m169.254.255.130 - - [25/Apr/2022:08:25:02 +0000] \"POST /invocations HTTP/1.1\" 200 652445 \"-\" \"Go-http-client/1.1\"\u001b[0m\n",
            "\u001b[34m[2022-04-25:08:25:02:INFO] Determined delimiter of CSV input is ','\u001b[0m\n",
            "\u001b[34m169.254.255.130 - - [25/Apr/2022:08:25:02 +0000] \"POST /invocations HTTP/1.1\" 200 652718 \"-\" \"Go-http-client/1.1\"\u001b[0m\n",
            "\u001b[35m169.254.255.130 - - [25/Apr/2022:08:25:01 +0000] \"POST /invocations HTTP/1.1\" 200 652668 \"-\" \"Go-http-client/1.1\"\u001b[0m\n",
            "\u001b[35m169.254.255.130 - - [25/Apr/2022:08:25:01 +0000] \"POST /invocations HTTP/1.1\" 200 652532 \"-\" \"Go-http-client/1.1\"\u001b[0m\n",
            "\u001b[35m169.254.255.130 - - [25/Apr/2022:08:25:02 +0000] \"POST /invocations HTTP/1.1\" 200 652445 \"-\" \"Go-http-client/1.1\"\u001b[0m\n",
            "\u001b[35m[2022-04-25:08:25:02:INFO] Determined delimiter of CSV input is ','\u001b[0m\n",
            "\u001b[35m169.254.255.130 - - [25/Apr/2022:08:25:02 +0000] \"POST /invocations HTTP/1.1\" 200 652718 \"-\" \"Go-http-client/1.1\"\u001b[0m\n",
            "\u001b[34m169.254.255.130 - - [25/Apr/2022:08:25:04 +0000] \"POST /invocations HTTP/1.1\" 200 602438 \"-\" \"Go-http-client/1.1\"\u001b[0m\n",
            "\u001b[35m169.254.255.130 - - [25/Apr/2022:08:25:04 +0000] \"POST /invocations HTTP/1.1\" 200 602438 \"-\" \"Go-http-client/1.1\"\u001b[0m\n",
            "\n",
            "\u001b[34m[2022-04-25:08:24:50:INFO] No GPUs detected (normal if no gpus installed)\u001b[0m\n",
            "\u001b[34m[2022-04-25:08:24:50:INFO] No GPUs detected (normal if no gpus installed)\u001b[0m\n",
            "\u001b[34m[2022-04-25:08:24:50:INFO] nginx config: \u001b[0m\n",
            "\u001b[34mworker_processes auto;\u001b[0m\n",
            "\u001b[34mdaemon off;\u001b[0m\n",
            "\u001b[34mpid /tmp/nginx.pid;\u001b[0m\n",
            "\u001b[34merror_log  /dev/stderr;\u001b[0m\n",
            "\u001b[34mworker_rlimit_nofile 4096;\u001b[0m\n",
            "\u001b[35m[2022-04-25:08:24:50:INFO] No GPUs detected (normal if no gpus installed)\u001b[0m\n",
            "\u001b[35m[2022-04-25:08:24:50:INFO] No GPUs detected (normal if no gpus installed)\u001b[0m\n",
            "\u001b[35m[2022-04-25:08:24:50:INFO] nginx config: \u001b[0m\n",
            "\u001b[35mworker_processes auto;\u001b[0m\n",
            "\u001b[35mdaemon off;\u001b[0m\n",
            "\u001b[35mpid /tmp/nginx.pid;\u001b[0m\n",
            "\u001b[35merror_log  /dev/stderr;\u001b[0m\n",
            "\u001b[35mworker_rlimit_nofile 4096;\u001b[0m\n",
            "\u001b[34mevents {\n",
            "  worker_connections 2048;\u001b[0m\n",
            "\u001b[34m}\u001b[0m\n",
            "\u001b[34mhttp {\n",
            "  include /etc/nginx/mime.types;\n",
            "  default_type application/octet-stream;\n",
            "  access_log /dev/stdout combined;\n",
            "  upstream gunicorn {\n",
            "    server unix:/tmp/gunicorn.sock;\n",
            "  }\n",
            "  server {\n",
            "    listen 8080 deferred;\n",
            "    client_max_body_size 0;\n",
            "    keepalive_timeout 3;\n",
            "    location ~ ^/(ping|invocations|execution-parameters) {\n",
            "      proxy_set_header X-Forwarded-For $proxy_add_x_forwarded_for;\n",
            "      proxy_set_header Host $http_host;\n",
            "      proxy_redirect off;\n",
            "      proxy_read_timeout 60s;\n",
            "      proxy_pass http://gunicorn;\n",
            "    }\n",
            "    location / {\n",
            "      return 404 \"{}\";\n",
            "    }\n",
            "  }\u001b[0m\n",
            "\u001b[34m}\u001b[0m\n",
            "\u001b[35mevents {\n",
            "  worker_connections 2048;\u001b[0m\n",
            "\u001b[35m}\u001b[0m\n",
            "\u001b[35mhttp {\n",
            "  include /etc/nginx/mime.types;\n",
            "  default_type application/octet-stream;\n",
            "  access_log /dev/stdout combined;\n",
            "  upstream gunicorn {\n",
            "    server unix:/tmp/gunicorn.sock;\n",
            "  }\n",
            "  server {\n",
            "    listen 8080 deferred;\n",
            "    client_max_body_size 0;\n",
            "    keepalive_timeout 3;\n",
            "    location ~ ^/(ping|invocations|execution-parameters) {\n",
            "      proxy_set_header X-Forwarded-For $proxy_add_x_forwarded_for;\n",
            "      proxy_set_header Host $http_host;\n",
            "      proxy_redirect off;\n",
            "      proxy_read_timeout 60s;\n",
            "      proxy_pass http://gunicorn;\n",
            "    }\n",
            "    location / {\n",
            "      return 404 \"{}\";\n",
            "    }\n",
            "  }\u001b[0m\n",
            "\u001b[35m}\u001b[0m\n",
            "\u001b[34m[2022-04-25 08:24:50 +0000] [18] [INFO] Starting gunicorn 19.10.0\u001b[0m\n",
            "\u001b[34m[2022-04-25 08:24:50 +0000] [18] [INFO] Listening at: unix:/tmp/gunicorn.sock (18)\u001b[0m\n",
            "\u001b[34m[2022-04-25 08:24:50 +0000] [18] [INFO] Using worker: gevent\u001b[0m\n",
            "\u001b[35m[2022-04-25 08:24:50 +0000] [18] [INFO] Starting gunicorn 19.10.0\u001b[0m\n",
            "\u001b[35m[2022-04-25 08:24:50 +0000] [18] [INFO] Listening at: unix:/tmp/gunicorn.sock (18)\u001b[0m\n",
            "\u001b[35m[2022-04-25 08:24:50 +0000] [18] [INFO] Using worker: gevent\u001b[0m\n",
            "\u001b[34m[2022-04-25 08:24:50 +0000] [25] [INFO] Booting worker with pid: 25\u001b[0m\n",
            "\u001b[34m[2022-04-25 08:24:50 +0000] [26] [INFO] Booting worker with pid: 26\u001b[0m\n",
            "\u001b[34m[2022-04-25 08:24:50 +0000] [27] [INFO] Booting worker with pid: 27\u001b[0m\n",
            "\u001b[34m[2022-04-25 08:24:51 +0000] [28] [INFO] Booting worker with pid: 28\u001b[0m\n",
            "\u001b[35m[2022-04-25 08:24:50 +0000] [25] [INFO] Booting worker with pid: 25\u001b[0m\n",
            "\u001b[35m[2022-04-25 08:24:50 +0000] [26] [INFO] Booting worker with pid: 26\u001b[0m\n",
            "\u001b[35m[2022-04-25 08:24:50 +0000] [27] [INFO] Booting worker with pid: 27\u001b[0m\n",
            "\u001b[35m[2022-04-25 08:24:51 +0000] [28] [INFO] Booting worker with pid: 28\u001b[0m\n",
            "\u001b[34m[2022-04-25:08:24:57:INFO] No GPUs detected (normal if no gpus installed)\u001b[0m\n",
            "\u001b[34m169.254.255.130 - - [25/Apr/2022:08:24:57 +0000] \"GET /ping HTTP/1.1\" 200 0 \"-\" \"Go-http-client/1.1\"\u001b[0m\n",
            "\u001b[34m[2022-04-25:08:24:57:INFO] No GPUs detected (normal if no gpus installed)\u001b[0m\n",
            "\u001b[34m169.254.255.130 - - [25/Apr/2022:08:24:57 +0000] \"GET /execution-parameters HTTP/1.1\" 200 84 \"-\" \"Go-http-client/1.1\"\u001b[0m\n",
            "\u001b[35m[2022-04-25:08:24:57:INFO] No GPUs detected (normal if no gpus installed)\u001b[0m\n",
            "\u001b[35m169.254.255.130 - - [25/Apr/2022:08:24:57 +0000] \"GET /ping HTTP/1.1\" 200 0 \"-\" \"Go-http-client/1.1\"\u001b[0m\n",
            "\u001b[35m[2022-04-25:08:24:57:INFO] No GPUs detected (normal if no gpus installed)\u001b[0m\n",
            "\u001b[35m169.254.255.130 - - [25/Apr/2022:08:24:57 +0000] \"GET /execution-parameters HTTP/1.1\" 200 84 \"-\" \"Go-http-client/1.1\"\u001b[0m\n",
            "\u001b[34m[2022-04-25:08:24:58:INFO] No GPUs detected (normal if no gpus installed)\u001b[0m\n",
            "\u001b[35m[2022-04-25:08:24:58:INFO] No GPUs detected (normal if no gpus installed)\u001b[0m\n",
            "\u001b[34m[2022-04-25:08:24:58:INFO] Determined delimiter of CSV input is ','\u001b[0m\n",
            "\u001b[34m[2022-04-25:08:24:58:INFO] Determined delimiter of CSV input is ','\u001b[0m\n",
            "\u001b[34m[2022-04-25:08:24:58:INFO] Determined delimiter of CSV input is ','\u001b[0m\n",
            "\u001b[34m[2022-04-25:08:24:58:INFO] No GPUs detected (normal if no gpus installed)\u001b[0m\n",
            "\u001b[34m[2022-04-25:08:24:58:INFO] Determined delimiter of CSV input is ','\u001b[0m\n",
            "\u001b[35m[2022-04-25:08:24:58:INFO] Determined delimiter of CSV input is ','\u001b[0m\n",
            "\u001b[35m[2022-04-25:08:24:58:INFO] Determined delimiter of CSV input is ','\u001b[0m\n",
            "\u001b[35m[2022-04-25:08:24:58:INFO] Determined delimiter of CSV input is ','\u001b[0m\n",
            "\u001b[35m[2022-04-25:08:24:58:INFO] No GPUs detected (normal if no gpus installed)\u001b[0m\n",
            "\u001b[35m[2022-04-25:08:24:58:INFO] Determined delimiter of CSV input is ','\u001b[0m\n",
            "\u001b[32m2022-04-25T08:24:57.116:[sagemaker logs]: MaxConcurrentTransforms=4, MaxPayloadInMB=6, BatchStrategy=MULTI_RECORD\u001b[0m\n",
            "\u001b[34m169.254.255.130 - - [25/Apr/2022:08:25:01 +0000] \"POST /invocations HTTP/1.1\" 200 652668 \"-\" \"Go-http-client/1.1\"\u001b[0m\n",
            "\u001b[34m169.254.255.130 - - [25/Apr/2022:08:25:01 +0000] \"POST /invocations HTTP/1.1\" 200 652532 \"-\" \"Go-http-client/1.1\"\u001b[0m\n",
            "\u001b[34m169.254.255.130 - - [25/Apr/2022:08:25:02 +0000] \"POST /invocations HTTP/1.1\" 200 652445 \"-\" \"Go-http-client/1.1\"\u001b[0m\n",
            "\u001b[34m[2022-04-25:08:25:02:INFO] Determined delimiter of CSV input is ','\u001b[0m\n",
            "\u001b[34m169.254.255.130 - - [25/Apr/2022:08:25:02 +0000] \"POST /invocations HTTP/1.1\" 200 652718 \"-\" \"Go-http-client/1.1\"\u001b[0m\n",
            "\u001b[35m169.254.255.130 - - [25/Apr/2022:08:25:01 +0000] \"POST /invocations HTTP/1.1\" 200 652668 \"-\" \"Go-http-client/1.1\"\u001b[0m\n",
            "\u001b[35m169.254.255.130 - - [25/Apr/2022:08:25:01 +0000] \"POST /invocations HTTP/1.1\" 200 652532 \"-\" \"Go-http-client/1.1\"\u001b[0m\n",
            "\u001b[35m169.254.255.130 - - [25/Apr/2022:08:25:02 +0000] \"POST /invocations HTTP/1.1\" 200 652445 \"-\" \"Go-http-client/1.1\"\u001b[0m\n",
            "\u001b[35m[2022-04-25:08:25:02:INFO] Determined delimiter of CSV input is ','\u001b[0m\n",
            "\u001b[35m169.254.255.130 - - [25/Apr/2022:08:25:02 +0000] \"POST /invocations HTTP/1.1\" 200 652718 \"-\" \"Go-http-client/1.1\"\u001b[0m\n",
            "\u001b[34m169.254.255.130 - - [25/Apr/2022:08:25:04 +0000] \"POST /invocations HTTP/1.1\" 200 602438 \"-\" \"Go-http-client/1.1\"\u001b[0m\n",
            "\u001b[35m169.254.255.130 - - [25/Apr/2022:08:25:04 +0000] \"POST /invocations HTTP/1.1\" 200 602438 \"-\" \"Go-http-client/1.1\"\u001b[0m\n"
          ]
        }
      ],
      "source": [
        "batch_output = \"s3://{}/{}/batch-out/\".format(bucket,prefix)\n",
        "batch_input = \"s3://{}/{}/batch-in/{}\".format(bucket,prefix,batch_X_file)\n",
        "\n",
        "xgb_transformer = xgb.transformer(instance_count=1,\n",
        "                                       instance_type=instance_type,\n",
        "                                       strategy='MultiRecord',\n",
        "                                       assemble_with='Line',\n",
        "                                       output_path=batch_output)\n",
        "\n",
        "xgb_transformer.transform(data=batch_input,\n",
        "                         data_type='S3Prefix',\n",
        "                         content_type='text/csv',\n",
        "                         split_type='Line')\n",
        "xgb_transformer.wait()"
      ]
    },
    {
      "cell_type": "markdown",
      "metadata": {
        "id": "sM_0MrEMd5SK"
      },
      "source": [
        "Get the predicted target and test labels."
      ]
    },
    {
      "cell_type": "code",
      "execution_count": null,
      "metadata": {
        "id": "Ccf0Vn1td5SK"
      },
      "outputs": [],
      "source": [
        "s3 = boto3.client('s3')\n",
        "obj = s3.get_object(Bucket=bucket, Key=\"{}/batch-out/{}\".format(prefix,'batch-in.csv.out'))\n",
        "target_predicted = pd.read_csv(io.BytesIO(obj['Body'].read()),',',names=['target'])\n",
        "test_labels = test.iloc[:,0]"
      ]
    },
    {
      "cell_type": "markdown",
      "metadata": {
        "id": "GZaXy3Avd5SK"
      },
      "source": [
        "Calculate the predicted values based on the defined threshold.\n",
        "\n",
        "**Note:** The predicted target will be a score, which must be converted to a binary class."
      ]
    },
    {
      "cell_type": "code",
      "execution_count": null,
      "metadata": {
        "id": "okgBgZKLd5SK",
        "outputId": "68cf057c-84a5-40f0-c6ea-d204249670c9"
      },
      "outputs": [
        {
          "name": "stdout",
          "output_type": "stream",
          "text": [
            "     target\n",
            "0  0.154489\n",
            "1  0.177058\n",
            "2  0.622191\n",
            "3  0.092662\n",
            "4  0.090670\n",
            "   target\n",
            "0       0\n",
            "1       0\n",
            "2       1\n",
            "3       0\n",
            "4       0\n"
          ]
        }
      ],
      "source": [
        "print(target_predicted.head())\n",
        "\n",
        "def binary_convert(x):\n",
        "    threshold = 0.55\n",
        "    if x > threshold:\n",
        "        return 1\n",
        "    else:\n",
        "        return 0\n",
        "\n",
        "target_predicted['target'] = target_predicted['target'].apply(binary_convert)\n",
        "\n",
        "test_labels = test.iloc[:,0]\n",
        "\n",
        "print(target_predicted.head())"
      ]
    },
    {
      "cell_type": "markdown",
      "metadata": {
        "id": "IbLlNAmWd5SL"
      },
      "source": [
        "Plot a confusion matrix for your `target_predicted` and `test_labels`."
      ]
    },
    {
      "cell_type": "code",
      "execution_count": null,
      "metadata": {
        "id": "nvVwjbned5SL",
        "outputId": "d9024be8-130c-40b9-9602-87139a50cdde"
      },
      "outputs": [
        {
          "data": {
            "image/png": "[encoded data removed]",
            "text/plain": [
              "<Figure size 432x288 with 1 Axes>"
            ]
          },
          "metadata": {
            "needs_background": "light"
          },
          "output_type": "display_data"
        }
      ],
      "source": [
        "plot_confusion_matrix(test_labels, target_predicted)"
      ]
    },
    {
      "cell_type": "markdown",
      "metadata": {
        "id": "qy4R1gy9d5SL"
      },
      "source": [
        "Plot the ROC chart:"
      ]
    },
    {
      "cell_type": "code",
      "execution_count": null,
      "metadata": {
        "id": "kV1FThkFd5SM",
        "outputId": "09c1d1c3-0838-4894-c8a3-e7dd217ec281"
      },
      "outputs": [
        {
          "name": "stdout",
          "output_type": "stream",
          "text": [
            "Sensitivity or TPR:  9.943785861998661 %\n",
            "Specificity or TNR:  98.88257780941916 %\n",
            "Precision:  70.27583367641004 %\n",
            "Negative Predictive Value:  80.51745105575895 %\n",
            "False Positive Rate:  1.1174221905808428 %\n",
            "False Negative Rate:  90.05621413800135 %\n",
            "False Discovery Rate:  29.724166323589955 %\n",
            "Accuracy:  80.21325637843225 %\n",
            "Validation AUC 0.5441318183570891\n",
            "Figure(432x288)\n"
          ]
        },
        {
          "data": {
            "image/png": "[encoded data removed]",
            "text/plain": [
              "<Figure size 432x288 with 2 Axes>"
            ]
          },
          "metadata": {
            "needs_background": "light"
          },
          "output_type": "display_data"
        },
        {
          "data": {
            "text/plain": [
              "<Figure size 432x288 with 0 Axes>"
            ]
          },
          "metadata": {},
          "output_type": "display_data"
        }
      ],
      "source": [
        "plot_roc(test_labels, target_predicted)"
      ]
    },
    {
      "cell_type": "markdown",
      "metadata": {
        "id": "Zwhe3nd-d5SM"
      },
      "source": [
        "### Try different thresholds"
      ]
    },
    {
      "cell_type": "markdown",
      "metadata": {
        "id": "U2JFtlbdd5SM"
      },
      "source": [
        "**Question**: Based on how well the model handled the test set, what can you conclude?"
      ]
    },
    {
      "cell_type": "code",
      "execution_count": null,
      "metadata": {
        "id": "a3bfIv8Md5SN"
      },
      "outputs": [],
      "source": [
        "#Enter your answer here"
      ]
    },
    {
      "cell_type": "markdown",
      "metadata": {
        "id": "kP85rR3kd5SN"
      },
      "source": [
        "### Hyperparameter optimization (HPO)"
      ]
    },
    {
      "cell_type": "code",
      "execution_count": null,
      "metadata": {
        "id": "rM7Sf0E9d5SN"
      },
      "outputs": [],
      "source": [
        "from sagemaker.tuner import IntegerParameter, CategoricalParameter, ContinuousParameter, HyperparameterTuner\n",
        "\n",
        "### You can spin up multiple instances to do hyperparameter optimization in parallel\n",
        "\n",
        "xgb = sagemaker.estimator.Estimator(container,\n",
        "                                    role=sagemaker.get_execution_role(), \n",
        "                                    instance_count= 1, # make sure you have a limit set for these instances\n",
        "                                    instance_type=instance_type, \n",
        "                                    output_path='s3://{}/{}/output'.format(bucket, prefix),\n",
        "                                    sagemaker_session=sess)\n",
        "\n",
        "xgb.set_hyperparameters(eval_metric='auc',\n",
        "                        objective='binary:logistic',\n",
        "                        num_round=100,\n",
        "                        rate_drop=0.3,\n",
        "                        tweedie_variance_power=1.4)\n",
        "\n",
        "hyperparameter_ranges = {'alpha': ContinuousParameter(0, 1000, scaling_type='Linear'),\n",
        "                         'eta': ContinuousParameter(0.1, 0.5, scaling_type='Linear'),\n",
        "                         'min_child_weight': ContinuousParameter(3, 10, scaling_type='Linear'),\n",
        "                         'subsample': ContinuousParameter(0.5, 1),\n",
        "                         'num_round': IntegerParameter(10,150)}\n",
        "\n",
        "objective_metric_name = 'validation:auc'\n",
        "\n",
        "tuner = HyperparameterTuner(xgb,\n",
        "                            objective_metric_name,\n",
        "                            hyperparameter_ranges,\n",
        "                            max_jobs=10, # Set this to 10 or above depending upon budget and available time.\n",
        "                            max_parallel_jobs=1)"
      ]
    },
    {
      "cell_type": "code",
      "execution_count": null,
      "metadata": {
        "id": "3BazU7udd5SO",
        "outputId": "9178bb16-ad6a-41b0-be78-11330cb90a17"
      },
      "outputs": [
        {
          "name": "stdout",
          "output_type": "stream",
          "text": [
            "................................................................................................................................................................................................................................................................................................................................................................................................................................................................................................................................................................................................................................................................................................................................................................................................................................................................................................................................................................................................................................................................................................................................................................!\n",
            "!\n"
          ]
        }
      ],
      "source": [
        "tuner.fit(inputs=data_channels)\n",
        "tuner.wait()"
      ]
    },
    {
      "cell_type": "markdown",
      "metadata": {
        "id": "xmwzczESd5SO"
      },
      "source": [
        "<i class=\"fas fa-exclamation-triangle\" style=\"color:red\"></i> Wait until the training job is finished. It might take 25-30 minutes.\n",
        "\n",
        "**To monitor hyperparameter optimization jobs:**  \n",
        "\n",
        "1. In the AWS Management Console, on the **Services** menu, choose **Amazon SageMaker**.  \n",
        "2. Choose **Training > Hyperparameter tuning jobs**.\n",
        "3. You can check the status of each hyperparameter tuning job, its objective metric value, and its logs.  "
      ]
    },
    {
      "cell_type": "markdown",
      "metadata": {
        "id": "A0TbTBzJd5SP"
      },
      "source": [
        "Check that the job completed successfully."
      ]
    },
    {
      "cell_type": "code",
      "execution_count": null,
      "metadata": {
        "id": "zaTSDthTd5SP",
        "outputId": "8ca1beb8-1ea7-46c4-a8a2-5d7c2791f513"
      },
      "outputs": [
        {
          "data": {
            "text/plain": [
              "'Completed'"
            ]
          },
          "execution_count": 97,
          "metadata": {},
          "output_type": "execute_result"
        }
      ],
      "source": [
        "boto3.client('sagemaker').describe_hyper_parameter_tuning_job(\n",
        "    HyperParameterTuningJobName=tuner.latest_tuning_job.job_name)['HyperParameterTuningJobStatus']"
      ]
    },
    {
      "cell_type": "markdown",
      "metadata": {
        "id": "uq5JyGcVd5SQ"
      },
      "source": [
        "The hyperparameter tuning job will have a model that worked the best. You can get the information about that model from the tuning job."
      ]
    },
    {
      "cell_type": "code",
      "execution_count": null,
      "metadata": {
        "id": "YzmQypDqd5SR",
        "outputId": "fb8cb21b-4cef-40a2-9904-13c043c5c883"
      },
      "outputs": [
        {
          "name": "stdout",
          "output_type": "stream",
          "text": [
            "tuning job name:sagemaker-xgboost-220425-0915\n",
            "best training job: sagemaker-xgboost-220425-0915-009-fd5d6f44\n",
            "\n",
            "2022-04-25 10:36:49 Starting - Preparing the instances for training\n",
            "2022-04-25 10:36:49 Downloading - Downloading input data\n",
            "2022-04-25 10:36:49 Training - Training image download completed. Training in progress.\n",
            "2022-04-25 10:36:49 Uploading - Uploading generated training model\n",
            "2022-04-25 10:36:49 Completed - Training job completed\n"
          ]
        },
        {
          "data": {
            "text/html": [
              "<div>\n",
              "<style scoped>\n",
              "    .dataframe tbody tr th:only-of-type {\n",
              "        vertical-align: middle;\n",
              "    }\n",
              "\n",
              "    .dataframe tbody tr th {\n",
              "        vertical-align: top;\n",
              "    }\n",
              "\n",
              "    .dataframe thead th {\n",
              "        text-align: right;\n",
              "    }\n",
              "</style>\n",
              "<table border=\"1\" class=\"dataframe\">\n",
              "  <thead>\n",
              "    <tr style=\"text-align: right;\">\n",
              "      <th></th>\n",
              "      <th>alpha</th>\n",
              "      <th>eta</th>\n",
              "      <th>min_child_weight</th>\n",
              "      <th>num_round</th>\n",
              "      <th>subsample</th>\n",
              "      <th>TrainingJobName</th>\n",
              "      <th>TrainingJobStatus</th>\n",
              "      <th>FinalObjectiveValue</th>\n",
              "      <th>TrainingStartTime</th>\n",
              "      <th>TrainingEndTime</th>\n",
              "      <th>TrainingElapsedTimeSeconds</th>\n",
              "    </tr>\n",
              "  </thead>\n",
              "  <tbody>\n",
              "    <tr>\n",
              "      <th>0</th>\n",
              "      <td>9.619396</td>\n",
              "      <td>0.324394</td>\n",
              "      <td>7.940337</td>\n",
              "      <td>146.0</td>\n",
              "      <td>0.891008</td>\n",
              "      <td>sagemaker-xgboost-220425-0915-010-c9a00874</td>\n",
              "      <td>Completed</td>\n",
              "      <td>0.75034</td>\n",
              "      <td>2022-04-25 10:39:41+00:00</td>\n",
              "      <td>2022-04-25 10:49:16+00:00</td>\n",
              "      <td>575.0</td>\n",
              "    </tr>\n",
              "    <tr>\n",
              "      <th>1</th>\n",
              "      <td>0.000000</td>\n",
              "      <td>0.388005</td>\n",
              "      <td>7.174926</td>\n",
              "      <td>135.0</td>\n",
              "      <td>0.982963</td>\n",
              "      <td>sagemaker-xgboost-220425-0915-009-fd5d6f44</td>\n",
              "      <td>Completed</td>\n",
              "      <td>0.75070</td>\n",
              "      <td>2022-04-25 10:27:43+00:00</td>\n",
              "      <td>2022-04-25 10:36:49+00:00</td>\n",
              "      <td>546.0</td>\n",
              "    </tr>\n",
              "    <tr>\n",
              "      <th>2</th>\n",
              "      <td>107.612780</td>\n",
              "      <td>0.157898</td>\n",
              "      <td>7.477339</td>\n",
              "      <td>144.0</td>\n",
              "      <td>0.987502</td>\n",
              "      <td>sagemaker-xgboost-220425-0915-008-ff76f5c1</td>\n",
              "      <td>Completed</td>\n",
              "      <td>0.73276</td>\n",
              "      <td>2022-04-25 10:15:46+00:00</td>\n",
              "      <td>2022-04-25 10:24:58+00:00</td>\n",
              "      <td>552.0</td>\n",
              "    </tr>\n",
              "    <tr>\n",
              "      <th>3</th>\n",
              "      <td>0.000000</td>\n",
              "      <td>0.484001</td>\n",
              "      <td>8.024428</td>\n",
              "      <td>76.0</td>\n",
              "      <td>0.767763</td>\n",
              "      <td>sagemaker-xgboost-220425-0915-007-b21a2d3e</td>\n",
              "      <td>Completed</td>\n",
              "      <td>0.74301</td>\n",
              "      <td>2022-04-25 10:07:35+00:00</td>\n",
              "      <td>2022-04-25 10:13:38+00:00</td>\n",
              "      <td>363.0</td>\n",
              "    </tr>\n",
              "    <tr>\n",
              "      <th>4</th>\n",
              "      <td>51.185778</td>\n",
              "      <td>0.366569</td>\n",
              "      <td>7.080214</td>\n",
              "      <td>78.0</td>\n",
              "      <td>0.961052</td>\n",
              "      <td>sagemaker-xgboost-220425-0915-006-a2d4c5dd</td>\n",
              "      <td>Completed</td>\n",
              "      <td>0.73801</td>\n",
              "      <td>2022-04-25 09:58:45+00:00</td>\n",
              "      <td>2022-04-25 10:04:49+00:00</td>\n",
              "      <td>364.0</td>\n",
              "    </tr>\n",
              "  </tbody>\n",
              "</table>\n",
              "</div>"
            ],
            "text/plain": [
              "        alpha       eta  min_child_weight  num_round  subsample  \\\n",
              "0    9.619396  0.324394          7.940337      146.0   0.891008   \n",
              "1    0.000000  0.388005          7.174926      135.0   0.982963   \n",
              "2  107.612780  0.157898          7.477339      144.0   0.987502   \n",
              "3    0.000000  0.484001          8.024428       76.0   0.767763   \n",
              "4   51.185778  0.366569          7.080214       78.0   0.961052   \n",
              "\n",
              "                              TrainingJobName TrainingJobStatus  \\\n",
              "0  sagemaker-xgboost-220425-0915-010-c9a00874         Completed   \n",
              "1  sagemaker-xgboost-220425-0915-009-fd5d6f44         Completed   \n",
              "2  sagemaker-xgboost-220425-0915-008-ff76f5c1         Completed   \n",
              "3  sagemaker-xgboost-220425-0915-007-b21a2d3e         Completed   \n",
              "4  sagemaker-xgboost-220425-0915-006-a2d4c5dd         Completed   \n",
              "\n",
              "   FinalObjectiveValue         TrainingStartTime           TrainingEndTime  \\\n",
              "0              0.75034 2022-04-25 10:39:41+00:00 2022-04-25 10:49:16+00:00   \n",
              "1              0.75070 2022-04-25 10:27:43+00:00 2022-04-25 10:36:49+00:00   \n",
              "2              0.73276 2022-04-25 10:15:46+00:00 2022-04-25 10:24:58+00:00   \n",
              "3              0.74301 2022-04-25 10:07:35+00:00 2022-04-25 10:13:38+00:00   \n",
              "4              0.73801 2022-04-25 09:58:45+00:00 2022-04-25 10:04:49+00:00   \n",
              "\n",
              "   TrainingElapsedTimeSeconds  \n",
              "0                       575.0  \n",
              "1                       546.0  \n",
              "2                       552.0  \n",
              "3                       363.0  \n",
              "4                       364.0  "
            ]
          },
          "execution_count": 98,
          "metadata": {},
          "output_type": "execute_result"
        }
      ],
      "source": [
        "sage_client = boto3.Session().client('sagemaker')\n",
        "tuning_job_name = tuner.latest_tuning_job.job_name\n",
        "print(f'tuning job name:{tuning_job_name}')\n",
        "tuning_job_result = sage_client.describe_hyper_parameter_tuning_job(HyperParameterTuningJobName=tuning_job_name)\n",
        "best_training_job = tuning_job_result['BestTrainingJob']\n",
        "best_training_job_name = best_training_job['TrainingJobName']\n",
        "print(f\"best training job: {best_training_job_name}\")\n",
        "\n",
        "best_estimator = tuner.best_estimator()\n",
        "\n",
        "tuner_df = sagemaker.HyperparameterTuningJobAnalytics(tuning_job_name).dataframe()\n",
        "tuner_df.head()"
      ]
    },
    {
      "cell_type": "markdown",
      "metadata": {
        "id": "Athe0jEdd5SR"
      },
      "source": [
        "Use the estimator `best_estimator` and train it by using the data. \n",
        "\n",
        "**Tip:** See the previous XGBoost estimator fit function."
      ]
    },
    {
      "cell_type": "code",
      "execution_count": null,
      "metadata": {
        "id": "Ely2ug0dd5SR",
        "outputId": "00cb5b17-f4f1-40cb-cc91-e38ef98aab43"
      },
      "outputs": [
        {
          "name": "stdout",
          "output_type": "stream",
          "text": [
            "2022-04-25 10:52:32 Starting - Starting the training job...\n",
            "2022-04-25 10:52:59 Starting - Preparing the instances for trainingProfilerReport-1650883952: InProgress\n",
            ".........\n",
            "2022-04-25 10:54:30 Downloading - Downloading input data......\n",
            "2022-04-25 10:55:30 Training - Downloading the training image.....\u001b[34mINFO:sagemaker-containers:Imported framework sagemaker_xgboost_container.training\u001b[0m\n",
            "\u001b[34mINFO:sagemaker-containers:Failed to parse hyperparameter _tuning_objective_metric value validation:auc to Json.\u001b[0m\n",
            "\u001b[34mReturning the value itself\u001b[0m\n",
            "\u001b[34mINFO:sagemaker-containers:Failed to parse hyperparameter eval_metric value auc to Json.\u001b[0m\n",
            "\u001b[34mReturning the value itself\u001b[0m\n",
            "\u001b[34mINFO:sagemaker-containers:Failed to parse hyperparameter objective value binary:logistic to Json.\u001b[0m\n",
            "\u001b[34mReturning the value itself\u001b[0m\n",
            "\u001b[34mINFO:sagemaker-containers:No GPUs detected (normal if no gpus installed)\u001b[0m\n",
            "\u001b[34mINFO:sagemaker_xgboost_container.training:Running XGBoost Sagemaker in algorithm mode\u001b[0m\n",
            "\u001b[34mINFO:root:Determined delimiter of CSV input is ','\u001b[0m\n",
            "\u001b[34mINFO:root:Determined delimiter of CSV input is ','\u001b[0m\n",
            "\u001b[34mINFO:root:Determined delimiter of CSV input is ','\u001b[0m\n",
            "\u001b[34m[10:56:16] 1308472x85 matrix with 111220120 entries loaded from /opt/ml/input/data/train?format=csv&label_column=0&delimiter=,\u001b[0m\n",
            "\u001b[34mINFO:root:Determined delimiter of CSV input is ','\u001b[0m\n",
            "\u001b[34m[10:56:17] 163559x85 matrix with 13902515 entries loaded from /opt/ml/input/data/validation?format=csv&label_column=0&delimiter=,\u001b[0m\n",
            "\u001b[34mINFO:root:Single node training.\u001b[0m\n",
            "\u001b[34mINFO:root:Setting up HPO optimized metric to be : auc\u001b[0m\n",
            "\u001b[34mINFO:root:Train matrix has 1308472 rows\u001b[0m\n",
            "\u001b[34mINFO:root:Validation matrix has 163559 rows\u001b[0m\n",
            "\n",
            "2022-04-25 10:56:30 Training - Training image download completed. Training in progress.\u001b[34m[0]#011train-auc:0.66320#011validation-auc:0.66182\u001b[0m\n",
            "\u001b[34m[1]#011train-auc:0.67872#011validation-auc:0.67748\u001b[0m\n",
            "\u001b[34m[2]#011train-auc:0.68315#011validation-auc:0.68169\u001b[0m\n",
            "\u001b[34m[3]#011train-auc:0.68622#011validation-auc:0.68450\u001b[0m\n",
            "\u001b[34m[4]#011train-auc:0.69267#011validation-auc:0.69108\u001b[0m\n",
            "\u001b[34m[5]#011train-auc:0.69651#011validation-auc:0.69535\u001b[0m\n",
            "\u001b[34m[6]#011train-auc:0.69959#011validation-auc:0.69802\u001b[0m\n",
            "\u001b[34m[7]#011train-auc:0.70290#011validation-auc:0.70144\u001b[0m\n",
            "\u001b[34m[8]#011train-auc:0.70588#011validation-auc:0.70433\u001b[0m\n",
            "\u001b[34m[9]#011train-auc:0.70890#011validation-auc:0.70687\u001b[0m\n",
            "\u001b[34m[10]#011train-auc:0.71078#011validation-auc:0.70880\u001b[0m\n",
            "\u001b[34m[11]#011train-auc:0.71262#011validation-auc:0.71072\u001b[0m\n",
            "\u001b[34m[12]#011train-auc:0.71499#011validation-auc:0.71262\u001b[0m\n",
            "\u001b[34m[13]#011train-auc:0.71777#011validation-auc:0.71505\u001b[0m\n",
            "\u001b[34m[14]#011train-auc:0.71845#011validation-auc:0.71566\u001b[0m\n",
            "\u001b[34m[15]#011train-auc:0.71967#011validation-auc:0.71671\u001b[0m\n",
            "\u001b[34m[16]#011train-auc:0.72079#011validation-auc:0.71777\u001b[0m\n",
            "\u001b[34m[17]#011train-auc:0.72223#011validation-auc:0.71897\u001b[0m\n",
            "\u001b[34m[18]#011train-auc:0.72338#011validation-auc:0.71990\u001b[0m\n",
            "\u001b[34m[19]#011train-auc:0.72451#011validation-auc:0.72080\u001b[0m\n",
            "\u001b[34m[20]#011train-auc:0.72573#011validation-auc:0.72204\u001b[0m\n",
            "\u001b[34m[21]#011train-auc:0.72727#011validation-auc:0.72358\u001b[0m\n",
            "\u001b[34m[22]#011train-auc:0.72821#011validation-auc:0.72455\u001b[0m\n",
            "\u001b[34m[23]#011train-auc:0.72945#011validation-auc:0.72581\u001b[0m\n",
            "\u001b[34m[24]#011train-auc:0.73015#011validation-auc:0.72634\u001b[0m\n",
            "\u001b[34m[25]#011train-auc:0.73080#011validation-auc:0.72677\u001b[0m\n",
            "\u001b[34m[26]#011train-auc:0.73146#011validation-auc:0.72737\u001b[0m\n",
            "\u001b[34m[27]#011train-auc:0.73184#011validation-auc:0.72767\u001b[0m\n",
            "\u001b[34m[28]#011train-auc:0.73255#011validation-auc:0.72833\u001b[0m\n",
            "\u001b[34m[29]#011train-auc:0.73307#011validation-auc:0.72881\u001b[0m\n",
            "\u001b[34m[30]#011train-auc:0.73394#011validation-auc:0.72970\u001b[0m\n",
            "\u001b[34m[31]#011train-auc:0.73471#011validation-auc:0.73033\u001b[0m\n",
            "\u001b[34m[32]#011train-auc:0.73557#011validation-auc:0.73108\u001b[0m\n",
            "\u001b[34m[33]#011train-auc:0.73597#011validation-auc:0.73143\u001b[0m\n",
            "\u001b[34m[34]#011train-auc:0.73645#011validation-auc:0.73179\u001b[0m\n",
            "\u001b[34m[35]#011train-auc:0.73686#011validation-auc:0.73212\u001b[0m\n",
            "\u001b[34m[36]#011train-auc:0.73766#011validation-auc:0.73288\u001b[0m\n",
            "\u001b[34m[37]#011train-auc:0.73820#011validation-auc:0.73332\u001b[0m\n",
            "\u001b[34m[38]#011train-auc:0.73865#011validation-auc:0.73373\u001b[0m\n",
            "\u001b[34m[39]#011train-auc:0.73897#011validation-auc:0.73396\u001b[0m\n",
            "\u001b[34m[40]#011train-auc:0.73954#011validation-auc:0.73426\u001b[0m\n",
            "\u001b[34m[41]#011train-auc:0.74016#011validation-auc:0.73476\u001b[0m\n",
            "\u001b[34m[42]#011train-auc:0.74048#011validation-auc:0.73496\u001b[0m\n",
            "\u001b[34m[43]#011train-auc:0.74075#011validation-auc:0.73507\u001b[0m\n",
            "\u001b[34m[44]#011train-auc:0.74121#011validation-auc:0.73550\u001b[0m\n",
            "\u001b[34m[45]#011train-auc:0.74159#011validation-auc:0.73568\u001b[0m\n",
            "\u001b[34m[46]#011train-auc:0.74224#011validation-auc:0.73613\u001b[0m\n",
            "\u001b[34m[47]#011train-auc:0.74277#011validation-auc:0.73656\u001b[0m\n",
            "\u001b[34m[48]#011train-auc:0.74320#011validation-auc:0.73704\u001b[0m\n",
            "\u001b[34m[49]#011train-auc:0.74348#011validation-auc:0.73721\u001b[0m\n",
            "\u001b[34m[50]#011train-auc:0.74389#011validation-auc:0.73754\u001b[0m\n",
            "\u001b[34m[51]#011train-auc:0.74428#011validation-auc:0.73783\u001b[0m\n",
            "\u001b[34m[52]#011train-auc:0.74474#011validation-auc:0.73826\u001b[0m\n",
            "\u001b[34m[53]#011train-auc:0.74529#011validation-auc:0.73872\u001b[0m\n",
            "\u001b[34m[54]#011train-auc:0.74578#011validation-auc:0.73899\u001b[0m\n",
            "\u001b[34m[55]#011train-auc:0.74617#011validation-auc:0.73924\u001b[0m\n",
            "\u001b[34m[56]#011train-auc:0.74661#011validation-auc:0.73946\u001b[0m\n",
            "\u001b[34m[57]#011train-auc:0.74681#011validation-auc:0.73954\u001b[0m\n",
            "\u001b[34m[58]#011train-auc:0.74714#011validation-auc:0.73964\u001b[0m\n",
            "\u001b[34m[59]#011train-auc:0.74766#011validation-auc:0.73997\u001b[0m\n",
            "\u001b[34m[60]#011train-auc:0.74806#011validation-auc:0.74023\u001b[0m\n",
            "\u001b[34m[61]#011train-auc:0.74833#011validation-auc:0.74047\u001b[0m\n",
            "\u001b[34m[62]#011train-auc:0.74843#011validation-auc:0.74054\u001b[0m\n",
            "\u001b[34m[63]#011train-auc:0.74889#011validation-auc:0.74091\u001b[0m\n",
            "\u001b[34m[64]#011train-auc:0.74894#011validation-auc:0.74095\u001b[0m\n",
            "\u001b[34m[65]#011train-auc:0.74931#011validation-auc:0.74122\u001b[0m\n",
            "\u001b[34m[66]#011train-auc:0.74966#011validation-auc:0.74140\u001b[0m\n",
            "\u001b[34m[67]#011train-auc:0.74974#011validation-auc:0.74139\u001b[0m\n",
            "\u001b[34m[68]#011train-auc:0.74987#011validation-auc:0.74149\u001b[0m\n",
            "\u001b[34m[69]#011train-auc:0.75021#011validation-auc:0.74166\u001b[0m\n",
            "\u001b[34m[70]#011train-auc:0.75033#011validation-auc:0.74171\u001b[0m\n",
            "\u001b[34m[71]#011train-auc:0.75070#011validation-auc:0.74200\u001b[0m\n",
            "\u001b[34m[72]#011train-auc:0.75105#011validation-auc:0.74221\u001b[0m\n",
            "\u001b[34m[73]#011train-auc:0.75150#011validation-auc:0.74251\u001b[0m\n",
            "\u001b[34m[74]#011train-auc:0.75164#011validation-auc:0.74258\u001b[0m\n",
            "\u001b[34m[75]#011train-auc:0.75193#011validation-auc:0.74282\u001b[0m\n",
            "\u001b[34m[76]#011train-auc:0.75239#011validation-auc:0.74309\u001b[0m\n",
            "\u001b[34m[77]#011train-auc:0.75275#011validation-auc:0.74319\u001b[0m\n",
            "\u001b[34m[78]#011train-auc:0.75303#011validation-auc:0.74339\u001b[0m\n",
            "\u001b[34m[79]#011train-auc:0.75338#011validation-auc:0.74360\u001b[0m\n",
            "\u001b[34m[80]#011train-auc:0.75367#011validation-auc:0.74377\u001b[0m\n",
            "\u001b[34m[81]#011train-auc:0.75377#011validation-auc:0.74379\u001b[0m\n",
            "\u001b[34m[82]#011train-auc:0.75418#011validation-auc:0.74411\u001b[0m\n",
            "\u001b[34m[83]#011train-auc:0.75460#011validation-auc:0.74440\u001b[0m\n",
            "\u001b[34m[84]#011train-auc:0.75496#011validation-auc:0.74461\u001b[0m\n",
            "\u001b[34m[85]#011train-auc:0.75542#011validation-auc:0.74506\u001b[0m\n",
            "\u001b[34m[86]#011train-auc:0.75566#011validation-auc:0.74526\u001b[0m\n",
            "\u001b[34m[87]#011train-auc:0.75594#011validation-auc:0.74541\u001b[0m\n",
            "\u001b[34m[88]#011train-auc:0.75623#011validation-auc:0.74558\u001b[0m\n",
            "\u001b[34m[89]#011train-auc:0.75644#011validation-auc:0.74560\u001b[0m\n",
            "\u001b[34m[90]#011train-auc:0.75672#011validation-auc:0.74586\u001b[0m\n",
            "\u001b[34m[91]#011train-auc:0.75700#011validation-auc:0.74609\u001b[0m\n",
            "\u001b[34m[92]#011train-auc:0.75715#011validation-auc:0.74610\u001b[0m\n",
            "\u001b[34m[93]#011train-auc:0.75744#011validation-auc:0.74628\u001b[0m\n",
            "\u001b[34m[94]#011train-auc:0.75761#011validation-auc:0.74640\u001b[0m\n",
            "\u001b[34m[95]#011train-auc:0.75781#011validation-auc:0.74657\u001b[0m\n",
            "\u001b[34m[96]#011train-auc:0.75802#011validation-auc:0.74667\u001b[0m\n",
            "\u001b[34m[97]#011train-auc:0.75827#011validation-auc:0.74679\u001b[0m\n",
            "\u001b[34m[98]#011train-auc:0.75843#011validation-auc:0.74687\u001b[0m\n",
            "\u001b[34m[99]#011train-auc:0.75850#011validation-auc:0.74693\u001b[0m\n",
            "\u001b[34m[100]#011train-auc:0.75864#011validation-auc:0.74695\u001b[0m\n",
            "\u001b[34m[101]#011train-auc:0.75901#011validation-auc:0.74715\u001b[0m\n",
            "\u001b[34m[102]#011train-auc:0.75914#011validation-auc:0.74720\u001b[0m\n",
            "\u001b[34m[103]#011train-auc:0.75932#011validation-auc:0.74730\u001b[0m\n",
            "\u001b[34m[104]#011train-auc:0.75953#011validation-auc:0.74750\u001b[0m\n",
            "\u001b[34m[105]#011train-auc:0.75976#011validation-auc:0.74755\u001b[0m\n",
            "\u001b[34m[106]#011train-auc:0.75985#011validation-auc:0.74761\u001b[0m\n",
            "\u001b[34m[107]#011train-auc:0.76012#011validation-auc:0.74783\u001b[0m\n",
            "\u001b[34m[108]#011train-auc:0.76037#011validation-auc:0.74800\u001b[0m\n",
            "\u001b[34m[109]#011train-auc:0.76051#011validation-auc:0.74809\u001b[0m\n",
            "\u001b[34m[110]#011train-auc:0.76071#011validation-auc:0.74818\u001b[0m\n",
            "\u001b[34m[111]#011train-auc:0.76091#011validation-auc:0.74828\u001b[0m\n",
            "\u001b[34m[112]#011train-auc:0.76114#011validation-auc:0.74846\u001b[0m\n",
            "\u001b[34m[113]#011train-auc:0.76125#011validation-auc:0.74850\u001b[0m\n",
            "\u001b[34m[114]#011train-auc:0.76134#011validation-auc:0.74858\u001b[0m\n",
            "\u001b[34m[115]#011train-auc:0.76149#011validation-auc:0.74869\u001b[0m\n",
            "\u001b[34m[116]#011train-auc:0.76182#011validation-auc:0.74898\u001b[0m\n",
            "\u001b[34m[117]#011train-auc:0.76185#011validation-auc:0.74901\u001b[0m\n",
            "\u001b[34m[118]#011train-auc:0.76213#011validation-auc:0.74927\u001b[0m\n",
            "\u001b[34m[119]#011train-auc:0.76227#011validation-auc:0.74939\u001b[0m\n",
            "\u001b[34m[120]#011train-auc:0.76231#011validation-auc:0.74941\u001b[0m\n",
            "\u001b[34m[121]#011train-auc:0.76247#011validation-auc:0.74949\u001b[0m\n",
            "\u001b[34m[122]#011train-auc:0.76260#011validation-auc:0.74956\u001b[0m\n",
            "\u001b[34m[123]#011train-auc:0.76265#011validation-auc:0.74957\u001b[0m\n",
            "\u001b[34m[124]#011train-auc:0.76270#011validation-auc:0.74958\u001b[0m\n",
            "\u001b[34m[125]#011train-auc:0.76280#011validation-auc:0.74962\u001b[0m\n",
            "\u001b[34m[126]#011train-auc:0.76305#011validation-auc:0.74974\u001b[0m\n",
            "\u001b[34m[127]#011train-auc:0.76324#011validation-auc:0.74982\u001b[0m\n",
            "\u001b[34m[128]#011train-auc:0.76340#011validation-auc:0.74993\u001b[0m\n",
            "\u001b[34m[129]#011train-auc:0.76352#011validation-auc:0.74994\u001b[0m\n",
            "\u001b[34m[130]#011train-auc:0.76363#011validation-auc:0.74996\u001b[0m\n",
            "\u001b[34m[131]#011train-auc:0.76371#011validation-auc:0.75001\u001b[0m\n",
            "\u001b[34m[132]#011train-auc:0.76392#011validation-auc:0.75018\u001b[0m\n",
            "\u001b[34m[133]#011train-auc:0.76410#011validation-auc:0.75030\u001b[0m\n",
            "\u001b[34m[134]#011train-auc:0.76448#011validation-auc:0.75070\u001b[0m\n",
            "\n",
            "2022-04-25 11:03:52 Uploading - Uploading generated training model\n",
            "2022-04-25 11:03:52 Completed - Training job completed\n",
            "Training seconds: 559\n",
            "Billable seconds: 559\n"
          ]
        }
      ],
      "source": [
        "best_estimator.fit(inputs=data_channels)"
      ]
    },
    {
      "cell_type": "markdown",
      "metadata": {
        "id": "MeKTra_9d5SS"
      },
      "source": [
        "Use the batch transformer for your new model, and evaluate the model on the test dataset."
      ]
    },
    {
      "cell_type": "code",
      "execution_count": null,
      "metadata": {
        "id": "bns4Lp61d5SS",
        "outputId": "77198e09-a4d6-4615-b16f-1eb478253b1e"
      },
      "outputs": [
        {
          "name": "stdout",
          "output_type": "stream",
          "text": [
            "....................................\n",
            "\u001b[34m[2022-04-25:11:13:07:INFO] No GPUs detected (normal if no gpus installed)\u001b[0m\n",
            "\u001b[34m[2022-04-25:11:13:07:INFO] No GPUs detected (normal if no gpus installed)\u001b[0m\n",
            "\u001b[34m[2022-04-25:11:13:07:INFO] nginx config: \u001b[0m\n",
            "\u001b[34mworker_processes auto;\u001b[0m\n",
            "\u001b[34mdaemon off;\u001b[0m\n",
            "\u001b[34mpid /tmp/nginx.pid;\u001b[0m\n",
            "\u001b[34merror_log  /dev/stderr;\u001b[0m\n",
            "\u001b[34mworker_rlimit_nofile 4096;\u001b[0m\n",
            "\u001b[34mevents {\n",
            "  worker_connections 2048;\u001b[0m\n",
            "\u001b[34m}\u001b[0m\n",
            "\u001b[35m[2022-04-25:11:13:07:INFO] No GPUs detected (normal if no gpus installed)\u001b[0m\n",
            "\u001b[35m[2022-04-25:11:13:07:INFO] No GPUs detected (normal if no gpus installed)\u001b[0m\n",
            "\u001b[35m[2022-04-25:11:13:07:INFO] nginx config: \u001b[0m\n",
            "\u001b[35mworker_processes auto;\u001b[0m\n",
            "\u001b[35mdaemon off;\u001b[0m\n",
            "\u001b[35mpid /tmp/nginx.pid;\u001b[0m\n",
            "\u001b[35merror_log  /dev/stderr;\u001b[0m\n",
            "\u001b[35mworker_rlimit_nofile 4096;\u001b[0m\n",
            "\u001b[35mevents {\n",
            "  worker_connections 2048;\u001b[0m\n",
            "\u001b[35m}\u001b[0m\n",
            "\u001b[34mhttp {\n",
            "  include /etc/nginx/mime.types;\n",
            "  default_type application/octet-stream;\n",
            "  access_log /dev/stdout combined;\n",
            "  upstream gunicorn {\n",
            "    server unix:/tmp/gunicorn.sock;\n",
            "  }\n",
            "  server {\n",
            "    listen 8080 deferred;\n",
            "    client_max_body_size 0;\n",
            "    keepalive_timeout 3;\n",
            "    location ~ ^/(ping|invocations|execution-parameters) {\n",
            "      proxy_set_header X-Forwarded-For $proxy_add_x_forwarded_for;\n",
            "      proxy_set_header Host $http_host;\n",
            "      proxy_redirect off;\n",
            "      proxy_read_timeout 60s;\n",
            "      proxy_pass http://gunicorn;\n",
            "    }\n",
            "    location / {\n",
            "      return 404 \"{}\";\n",
            "    }\n",
            "  }\u001b[0m\n",
            "\u001b[34m}\u001b[0m\n",
            "\u001b[34m[2022-04-25 11:13:07 +0000] [19] [INFO] Starting gunicorn 19.10.0\u001b[0m\n",
            "\u001b[34m[2022-04-25 11:13:07 +0000] [19] [INFO] Listening at: unix:/tmp/gunicorn.sock (19)\u001b[0m\n",
            "\u001b[34m[2022-04-25 11:13:07 +0000] [19] [INFO] Using worker: gevent\u001b[0m\n",
            "\u001b[34m[2022-04-25 11:13:07 +0000] [26] [INFO] Booting worker with pid: 26\u001b[0m\n",
            "\u001b[34m[2022-04-25 11:13:07 +0000] [27] [INFO] Booting worker with pid: 27\u001b[0m\n",
            "\u001b[34m[2022-04-25 11:13:07 +0000] [28] [INFO] Booting worker with pid: 28\u001b[0m\n",
            "\u001b[34m[2022-04-25 11:13:07 +0000] [29] [INFO] Booting worker with pid: 29\u001b[0m\n",
            "\u001b[35mhttp {\n",
            "  include /etc/nginx/mime.types;\n",
            "  default_type application/octet-stream;\n",
            "  access_log /dev/stdout combined;\n",
            "  upstream gunicorn {\n",
            "    server unix:/tmp/gunicorn.sock;\n",
            "  }\n",
            "  server {\n",
            "    listen 8080 deferred;\n",
            "    client_max_body_size 0;\n",
            "    keepalive_timeout 3;\n",
            "    location ~ ^/(ping|invocations|execution-parameters) {\n",
            "      proxy_set_header X-Forwarded-For $proxy_add_x_forwarded_for;\n",
            "      proxy_set_header Host $http_host;\n",
            "      proxy_redirect off;\n",
            "      proxy_read_timeout 60s;\n",
            "      proxy_pass http://gunicorn;\n",
            "    }\n",
            "    location / {\n",
            "      return 404 \"{}\";\n",
            "    }\n",
            "  }\u001b[0m\n",
            "\u001b[35m}\u001b[0m\n",
            "\u001b[35m[2022-04-25 11:13:07 +0000] [19] [INFO] Starting gunicorn 19.10.0\u001b[0m\n",
            "\u001b[35m[2022-04-25 11:13:07 +0000] [19] [INFO] Listening at: unix:/tmp/gunicorn.sock (19)\u001b[0m\n",
            "\u001b[35m[2022-04-25 11:13:07 +0000] [19] [INFO] Using worker: gevent\u001b[0m\n",
            "\u001b[35m[2022-04-25 11:13:07 +0000] [26] [INFO] Booting worker with pid: 26\u001b[0m\n",
            "\u001b[35m[2022-04-25 11:13:07 +0000] [27] [INFO] Booting worker with pid: 27\u001b[0m\n",
            "\u001b[35m[2022-04-25 11:13:07 +0000] [28] [INFO] Booting worker with pid: 28\u001b[0m\n",
            "\u001b[35m[2022-04-25 11:13:07 +0000] [29] [INFO] Booting worker with pid: 29\u001b[0m\n",
            "\u001b[34m[2022-04-25:11:13:13:INFO] No GPUs detected (normal if no gpus installed)\u001b[0m\n",
            "\u001b[34m169.254.255.130 - - [25/Apr/2022:11:13:13 +0000] \"GET /ping HTTP/1.1\" 200 0 \"-\" \"Go-http-client/1.1\"\u001b[0m\n",
            "\u001b[34m169.254.255.130 - - [25/Apr/2022:11:13:13 +0000] \"GET /execution-parameters HTTP/1.1\" 200 84 \"-\" \"Go-http-client/1.1\"\u001b[0m\n",
            "\u001b[35m[2022-04-25:11:13:13:INFO] No GPUs detected (normal if no gpus installed)\u001b[0m\n",
            "\u001b[35m169.254.255.130 - - [25/Apr/2022:11:13:13 +0000] \"GET /ping HTTP/1.1\" 200 0 \"-\" \"Go-http-client/1.1\"\u001b[0m\n",
            "\u001b[35m169.254.255.130 - - [25/Apr/2022:11:13:13 +0000] \"GET /execution-parameters HTTP/1.1\" 200 84 \"-\" \"Go-http-client/1.1\"\u001b[0m\n",
            "\u001b[34m[2022-04-25:11:13:14:INFO] No GPUs detected (normal if no gpus installed)\u001b[0m\n",
            "\u001b[35m[2022-04-25:11:13:14:INFO] No GPUs detected (normal if no gpus installed)\u001b[0m\n",
            "\u001b[34m[2022-04-25:11:13:14:INFO] Determined delimiter of CSV input is ','\u001b[0m\n",
            "\u001b[34m[2022-04-25:11:13:14:INFO] No GPUs detected (normal if no gpus installed)\u001b[0m\n",
            "\u001b[34m[2022-04-25:11:13:14:INFO] Determined delimiter of CSV input is ','\u001b[0m\n",
            "\u001b[34m[2022-04-25:11:13:14:INFO] No GPUs detected (normal if no gpus installed)\u001b[0m\n",
            "\u001b[34m[2022-04-25:11:13:14:INFO] Determined delimiter of CSV input is ','\u001b[0m\n",
            "\u001b[34m[2022-04-25:11:13:14:INFO] Determined delimiter of CSV input is ','\u001b[0m\n",
            "\u001b[35m[2022-04-25:11:13:14:INFO] Determined delimiter of CSV input is ','\u001b[0m\n",
            "\u001b[35m[2022-04-25:11:13:14:INFO] No GPUs detected (normal if no gpus installed)\u001b[0m\n",
            "\u001b[35m[2022-04-25:11:13:14:INFO] Determined delimiter of CSV input is ','\u001b[0m\n",
            "\u001b[35m[2022-04-25:11:13:14:INFO] No GPUs detected (normal if no gpus installed)\u001b[0m\n",
            "\u001b[35m[2022-04-25:11:13:14:INFO] Determined delimiter of CSV input is ','\u001b[0m\n",
            "\u001b[35m[2022-04-25:11:13:14:INFO] Determined delimiter of CSV input is ','\u001b[0m\n",
            "\u001b[32m2022-04-25T11:13:13.521:[sagemaker logs]: MaxConcurrentTransforms=4, MaxPayloadInMB=6, BatchStrategy=MULTI_RECORD\u001b[0m\n",
            "\u001b[34m169.254.255.130 - - [25/Apr/2022:11:13:18 +0000] \"POST /invocations HTTP/1.1\" 200 653234 \"-\" \"Go-http-client/1.1\"\u001b[0m\n",
            "\u001b[34m169.254.255.130 - - [25/Apr/2022:11:13:18 +0000] \"POST /invocations HTTP/1.1\" 200 653173 \"-\" \"Go-http-client/1.1\"\u001b[0m\n",
            "\u001b[34m169.254.255.130 - - [25/Apr/2022:11:13:18 +0000] \"POST /invocations HTTP/1.1\" 200 653218 \"-\" \"Go-http-client/1.1\"\u001b[0m\n",
            "\u001b[34m169.254.255.130 - - [25/Apr/2022:11:13:18 +0000] \"POST /invocations HTTP/1.1\" 200 653356 \"-\" \"Go-http-client/1.1\"\u001b[0m\n",
            "\u001b[34m[2022-04-25:11:13:18:INFO] Determined delimiter of CSV input is ','\u001b[0m\n",
            "\u001b[35m169.254.255.130 - - [25/Apr/2022:11:13:18 +0000] \"POST /invocations HTTP/1.1\" 200 653234 \"-\" \"Go-http-client/1.1\"\u001b[0m\n",
            "\u001b[35m169.254.255.130 - - [25/Apr/2022:11:13:18 +0000] \"POST /invocations HTTP/1.1\" 200 653173 \"-\" \"Go-http-client/1.1\"\u001b[0m\n",
            "\u001b[35m169.254.255.130 - - [25/Apr/2022:11:13:18 +0000] \"POST /invocations HTTP/1.1\" 200 653218 \"-\" \"Go-http-client/1.1\"\u001b[0m\n",
            "\u001b[35m169.254.255.130 - - [25/Apr/2022:11:13:18 +0000] \"POST /invocations HTTP/1.1\" 200 653356 \"-\" \"Go-http-client/1.1\"\u001b[0m\n",
            "\u001b[35m[2022-04-25:11:13:18:INFO] Determined delimiter of CSV input is ','\u001b[0m\n",
            "\u001b[34m169.254.255.130 - - [25/Apr/2022:11:13:20 +0000] \"POST /invocations HTTP/1.1\" 200 603308 \"-\" \"Go-http-client/1.1\"\u001b[0m\n",
            "\u001b[35m169.254.255.130 - - [25/Apr/2022:11:13:20 +0000] \"POST /invocations HTTP/1.1\" 200 603308 \"-\" \"Go-http-client/1.1\"\u001b[0m\n",
            "\u001b[34m[2022-04-25:11:13:07:INFO] No GPUs detected (normal if no gpus installed)\u001b[0m\n",
            "\u001b[34m[2022-04-25:11:13:07:INFO] No GPUs detected (normal if no gpus installed)\u001b[0m\n",
            "\u001b[34m[2022-04-25:11:13:07:INFO] nginx config: \u001b[0m\n",
            "\u001b[34mworker_processes auto;\u001b[0m\n",
            "\u001b[34mdaemon off;\u001b[0m\n",
            "\u001b[34mpid /tmp/nginx.pid;\u001b[0m\n",
            "\u001b[34merror_log  /dev/stderr;\u001b[0m\n",
            "\u001b[34mworker_rlimit_nofile 4096;\u001b[0m\n",
            "\u001b[34mevents {\n",
            "  worker_connections 2048;\u001b[0m\n",
            "\u001b[34m}\u001b[0m\n",
            "\u001b[35m[2022-04-25:11:13:07:INFO] No GPUs detected (normal if no gpus installed)\u001b[0m\n",
            "\u001b[35m[2022-04-25:11:13:07:INFO] No GPUs detected (normal if no gpus installed)\u001b[0m\n",
            "\u001b[35m[2022-04-25:11:13:07:INFO] nginx config: \u001b[0m\n",
            "\u001b[35mworker_processes auto;\u001b[0m\n",
            "\u001b[35mdaemon off;\u001b[0m\n",
            "\u001b[35mpid /tmp/nginx.pid;\u001b[0m\n",
            "\u001b[35merror_log  /dev/stderr;\u001b[0m\n",
            "\u001b[35mworker_rlimit_nofile 4096;\u001b[0m\n",
            "\u001b[35mevents {\n",
            "  worker_connections 2048;\u001b[0m\n",
            "\u001b[35m}\u001b[0m\n",
            "\u001b[34mhttp {\n",
            "  include /etc/nginx/mime.types;\n",
            "  default_type application/octet-stream;\n",
            "  access_log /dev/stdout combined;\n",
            "  upstream gunicorn {\n",
            "    server unix:/tmp/gunicorn.sock;\n",
            "  }\n",
            "  server {\n",
            "    listen 8080 deferred;\n",
            "    client_max_body_size 0;\n",
            "    keepalive_timeout 3;\n",
            "    location ~ ^/(ping|invocations|execution-parameters) {\n",
            "      proxy_set_header X-Forwarded-For $proxy_add_x_forwarded_for;\n",
            "      proxy_set_header Host $http_host;\n",
            "      proxy_redirect off;\n",
            "      proxy_read_timeout 60s;\n",
            "      proxy_pass http://gunicorn;\n",
            "    }\n",
            "    location / {\n",
            "      return 404 \"{}\";\n",
            "    }\n",
            "  }\u001b[0m\n",
            "\u001b[34m}\u001b[0m\n",
            "\u001b[34m[2022-04-25 11:13:07 +0000] [19] [INFO] Starting gunicorn 19.10.0\u001b[0m\n",
            "\u001b[34m[2022-04-25 11:13:07 +0000] [19] [INFO] Listening at: unix:/tmp/gunicorn.sock (19)\u001b[0m\n",
            "\u001b[34m[2022-04-25 11:13:07 +0000] [19] [INFO] Using worker: gevent\u001b[0m\n",
            "\u001b[34m[2022-04-25 11:13:07 +0000] [26] [INFO] Booting worker with pid: 26\u001b[0m\n",
            "\u001b[34m[2022-04-25 11:13:07 +0000] [27] [INFO] Booting worker with pid: 27\u001b[0m\n",
            "\u001b[34m[2022-04-25 11:13:07 +0000] [28] [INFO] Booting worker with pid: 28\u001b[0m\n",
            "\u001b[34m[2022-04-25 11:13:07 +0000] [29] [INFO] Booting worker with pid: 29\u001b[0m\n",
            "\u001b[35mhttp {\n",
            "  include /etc/nginx/mime.types;\n",
            "  default_type application/octet-stream;\n",
            "  access_log /dev/stdout combined;\n",
            "  upstream gunicorn {\n",
            "    server unix:/tmp/gunicorn.sock;\n",
            "  }\n",
            "  server {\n",
            "    listen 8080 deferred;\n",
            "    client_max_body_size 0;\n",
            "    keepalive_timeout 3;\n",
            "    location ~ ^/(ping|invocations|execution-parameters) {\n",
            "      proxy_set_header X-Forwarded-For $proxy_add_x_forwarded_for;\n",
            "      proxy_set_header Host $http_host;\n",
            "      proxy_redirect off;\n",
            "      proxy_read_timeout 60s;\n",
            "      proxy_pass http://gunicorn;\n",
            "    }\n",
            "    location / {\n",
            "      return 404 \"{}\";\n",
            "    }\n",
            "  }\u001b[0m\n",
            "\u001b[35m}\u001b[0m\n",
            "\u001b[35m[2022-04-25 11:13:07 +0000] [19] [INFO] Starting gunicorn 19.10.0\u001b[0m\n",
            "\u001b[35m[2022-04-25 11:13:07 +0000] [19] [INFO] Listening at: unix:/tmp/gunicorn.sock (19)\u001b[0m\n",
            "\u001b[35m[2022-04-25 11:13:07 +0000] [19] [INFO] Using worker: gevent\u001b[0m\n",
            "\u001b[35m[2022-04-25 11:13:07 +0000] [26] [INFO] Booting worker with pid: 26\u001b[0m\n",
            "\u001b[35m[2022-04-25 11:13:07 +0000] [27] [INFO] Booting worker with pid: 27\u001b[0m\n",
            "\u001b[35m[2022-04-25 11:13:07 +0000] [28] [INFO] Booting worker with pid: 28\u001b[0m\n",
            "\u001b[35m[2022-04-25 11:13:07 +0000] [29] [INFO] Booting worker with pid: 29\u001b[0m\n",
            "\u001b[34m[2022-04-25:11:13:13:INFO] No GPUs detected (normal if no gpus installed)\u001b[0m\n",
            "\u001b[34m169.254.255.130 - - [25/Apr/2022:11:13:13 +0000] \"GET /ping HTTP/1.1\" 200 0 \"-\" \"Go-http-client/1.1\"\u001b[0m\n",
            "\u001b[34m169.254.255.130 - - [25/Apr/2022:11:13:13 +0000] \"GET /execution-parameters HTTP/1.1\" 200 84 \"-\" \"Go-http-client/1.1\"\u001b[0m\n",
            "\u001b[35m[2022-04-25:11:13:13:INFO] No GPUs detected (normal if no gpus installed)\u001b[0m\n",
            "\u001b[35m169.254.255.130 - - [25/Apr/2022:11:13:13 +0000] \"GET /ping HTTP/1.1\" 200 0 \"-\" \"Go-http-client/1.1\"\u001b[0m\n",
            "\u001b[35m169.254.255.130 - - [25/Apr/2022:11:13:13 +0000] \"GET /execution-parameters HTTP/1.1\" 200 84 \"-\" \"Go-http-client/1.1\"\u001b[0m\n",
            "\u001b[34m[2022-04-25:11:13:14:INFO] No GPUs detected (normal if no gpus installed)\u001b[0m\n",
            "\u001b[35m[2022-04-25:11:13:14:INFO] No GPUs detected (normal if no gpus installed)\u001b[0m\n",
            "\u001b[34m[2022-04-25:11:13:14:INFO] Determined delimiter of CSV input is ','\u001b[0m\n",
            "\u001b[34m[2022-04-25:11:13:14:INFO] No GPUs detected (normal if no gpus installed)\u001b[0m\n",
            "\u001b[34m[2022-04-25:11:13:14:INFO] Determined delimiter of CSV input is ','\u001b[0m\n",
            "\u001b[34m[2022-04-25:11:13:14:INFO] No GPUs detected (normal if no gpus installed)\u001b[0m\n",
            "\u001b[34m[2022-04-25:11:13:14:INFO] Determined delimiter of CSV input is ','\u001b[0m\n",
            "\u001b[34m[2022-04-25:11:13:14:INFO] Determined delimiter of CSV input is ','\u001b[0m\n",
            "\u001b[35m[2022-04-25:11:13:14:INFO] Determined delimiter of CSV input is ','\u001b[0m\n",
            "\u001b[35m[2022-04-25:11:13:14:INFO] No GPUs detected (normal if no gpus installed)\u001b[0m\n",
            "\u001b[35m[2022-04-25:11:13:14:INFO] Determined delimiter of CSV input is ','\u001b[0m\n",
            "\u001b[35m[2022-04-25:11:13:14:INFO] No GPUs detected (normal if no gpus installed)\u001b[0m\n",
            "\u001b[35m[2022-04-25:11:13:14:INFO] Determined delimiter of CSV input is ','\u001b[0m\n",
            "\u001b[35m[2022-04-25:11:13:14:INFO] Determined delimiter of CSV input is ','\u001b[0m\n",
            "\u001b[32m2022-04-25T11:13:13.521:[sagemaker logs]: MaxConcurrentTransforms=4, MaxPayloadInMB=6, BatchStrategy=MULTI_RECORD\u001b[0m\n",
            "\u001b[34m169.254.255.130 - - [25/Apr/2022:11:13:18 +0000] \"POST /invocations HTTP/1.1\" 200 653234 \"-\" \"Go-http-client/1.1\"\u001b[0m\n",
            "\u001b[34m169.254.255.130 - - [25/Apr/2022:11:13:18 +0000] \"POST /invocations HTTP/1.1\" 200 653173 \"-\" \"Go-http-client/1.1\"\u001b[0m\n",
            "\u001b[34m169.254.255.130 - - [25/Apr/2022:11:13:18 +0000] \"POST /invocations HTTP/1.1\" 200 653218 \"-\" \"Go-http-client/1.1\"\u001b[0m\n",
            "\u001b[34m169.254.255.130 - - [25/Apr/2022:11:13:18 +0000] \"POST /invocations HTTP/1.1\" 200 653356 \"-\" \"Go-http-client/1.1\"\u001b[0m\n",
            "\u001b[34m[2022-04-25:11:13:18:INFO] Determined delimiter of CSV input is ','\u001b[0m\n",
            "\u001b[35m169.254.255.130 - - [25/Apr/2022:11:13:18 +0000] \"POST /invocations HTTP/1.1\" 200 653234 \"-\" \"Go-http-client/1.1\"\u001b[0m\n",
            "\u001b[35m169.254.255.130 - - [25/Apr/2022:11:13:18 +0000] \"POST /invocations HTTP/1.1\" 200 653173 \"-\" \"Go-http-client/1.1\"\u001b[0m\n",
            "\u001b[35m169.254.255.130 - - [25/Apr/2022:11:13:18 +0000] \"POST /invocations HTTP/1.1\" 200 653218 \"-\" \"Go-http-client/1.1\"\u001b[0m\n",
            "\u001b[35m169.254.255.130 - - [25/Apr/2022:11:13:18 +0000] \"POST /invocations HTTP/1.1\" 200 653356 \"-\" \"Go-http-client/1.1\"\u001b[0m\n",
            "\u001b[35m[2022-04-25:11:13:18:INFO] Determined delimiter of CSV input is ','\u001b[0m\n",
            "\u001b[34m169.254.255.130 - - [25/Apr/2022:11:13:20 +0000] \"POST /invocations HTTP/1.1\" 200 603308 \"-\" \"Go-http-client/1.1\"\u001b[0m\n",
            "\u001b[35m169.254.255.130 - - [25/Apr/2022:11:13:20 +0000] \"POST /invocations HTTP/1.1\" 200 603308 \"-\" \"Go-http-client/1.1\"\u001b[0m\n"
          ]
        }
      ],
      "source": [
        "batch_output = \"s3://{}/{}/batch-out/\".format(bucket,prefix)\n",
        "batch_input = \"s3://{}/{}/batch-in/{}\".format(bucket,prefix,batch_X_file)\n",
        "\n",
        "xgb_transformer = best_estimator.transformer(instance_count=1,\n",
        "                                       instance_type=instance_type,\n",
        "                                       strategy='MultiRecord',\n",
        "                                       assemble_with='Line',\n",
        "                                       output_path=batch_output)\n",
        "\n",
        "xgb_transformer.transform(data=batch_input,\n",
        "                         data_type='S3Prefix',\n",
        "                         content_type='text/csv',\n",
        "                         split_type='Line')\n",
        "xgb_transformer.wait()"
      ]
    },
    {
      "cell_type": "code",
      "execution_count": null,
      "metadata": {
        "id": "lTB0Aqtgd5SU"
      },
      "outputs": [],
      "source": [
        "s3 = boto3.client('s3')\n",
        "obj = s3.get_object(Bucket=bucket, Key=\"{}/batch-out/{}\".format(prefix,'batch-in.csv.out'))\n",
        "target_predicted = pd.read_csv(io.BytesIO(obj['Body'].read()),',',names=['target'])\n",
        "test_labels = test.iloc[:,0]"
      ]
    },
    {
      "cell_type": "markdown",
      "metadata": {
        "id": "RMATFwTOd5SV"
      },
      "source": [
        "Get the predicted target and test labels."
      ]
    },
    {
      "cell_type": "code",
      "execution_count": null,
      "metadata": {
        "id": "bvsvME7fd5SV",
        "outputId": "0a09deee-7122-4cdb-874d-0b6994900019"
      },
      "outputs": [
        {
          "name": "stdout",
          "output_type": "stream",
          "text": [
            "     target\n",
            "0  0.096313\n",
            "1  0.173304\n",
            "2  0.806998\n",
            "3  0.082347\n",
            "4  0.068633\n",
            "   target\n",
            "0       0\n",
            "1       0\n",
            "2       1\n",
            "3       0\n",
            "4       0\n"
          ]
        }
      ],
      "source": [
        "print(target_predicted.head())\n",
        "\n",
        "def binary_convert(x):\n",
        "    threshold = 0.55\n",
        "    if x > threshold:\n",
        "        return 1\n",
        "    else:\n",
        "        return 0\n",
        "\n",
        "target_predicted['target'] = target_predicted['target'].apply(binary_convert)\n",
        "\n",
        "test_labels = test.iloc[:,0]\n",
        "\n",
        "print(target_predicted.head())"
      ]
    },
    {
      "cell_type": "markdown",
      "metadata": {
        "id": "aOBFLS_Md5SX"
      },
      "source": [
        "Plot a confusion matrix for your `target_predicted` and `test_labels`."
      ]
    },
    {
      "cell_type": "code",
      "execution_count": null,
      "metadata": {
        "id": "wC8LCJTTd5SY",
        "outputId": "1804fc14-5acd-474d-d40b-fc8f2f4e122b"
      },
      "outputs": [
        {
          "data": {
            "image/png": "[encoded data removed]",
            "text/plain": [
              "<Figure size 432x288 with 1 Axes>"
            ]
          },
          "metadata": {
            "needs_background": "light"
          },
          "output_type": "display_data"
        }
      ],
      "source": [
        "plot_confusion_matrix(test_labels, target_predicted)"
      ]
    },
    {
      "cell_type": "markdown",
      "metadata": {
        "id": "X6qcJF9bd5SY"
      },
      "source": [
        "Plot the ROC chart:"
      ]
    },
    {
      "cell_type": "code",
      "execution_count": null,
      "metadata": {
        "id": "CvkCzAa8d5SY",
        "outputId": "11936746-8041-4d63-aeb8-40e445571020"
      },
      "outputs": [
        {
          "name": "stdout",
          "output_type": "stream",
          "text": [
            "Sensitivity or TPR:  15.30888649404363 %\n",
            "Specificity or TNR:  98.3223190379645 %\n",
            "Precision:  70.79741379310344 %\n",
            "Negative Predictive Value:  81.3770134819227 %\n",
            "False Positive Rate:  1.6776809620355038 %\n",
            "False Negative Rate:  84.69111350595637 %\n",
            "False Discovery Rate:  29.20258620689655 %\n",
            "Accuracy:  80.89680176572368 %\n",
            "Validation AUC 0.5681560276600406\n",
            "Figure(432x288)\n"
          ]
        },
        {
          "data": {
            "image/png": "[encoded data removed]",
            "text/plain": [
              "<Figure size 432x288 with 2 Axes>"
            ]
          },
          "metadata": {
            "needs_background": "light"
          },
          "output_type": "display_data"
        },
        {
          "data": {
            "text/plain": [
              "<Figure size 432x288 with 0 Axes>"
            ]
          },
          "metadata": {},
          "output_type": "display_data"
        }
      ],
      "source": [
        "plot_roc(test_labels, target_predicted)"
      ]
    },
    {
      "cell_type": "markdown",
      "metadata": {
        "id": "Zu9rfaY9d5SZ"
      },
      "source": [
        "**Question**: Try different hyperparameters and hyperparameter ranges. Do these changes improve the model?"
      ]
    },
    {
      "cell_type": "markdown",
      "metadata": {
        "id": "mfJDIlrQd5SZ"
      },
      "source": [
        "## Conclusion\n",
        "\n",
        "You have now iterated through training and evaluating your model at least a couple of times. It's time to wrap up this project and reflect on:\n",
        "\n",
        "- What you learned \n",
        "- What types of steps you might take moving forward (assuming that you had more time)\n",
        "\n",
        "Use the following cell to answer some of these questions and other relevant questions:\n",
        "\n",
        "1. Does your model performance meet your business goal? If not, what are some things you'd like to do differently if you had more time for tuning?\n",
        "2. How much did your model improve as you made changes to your dataset, features, and hyperparameters? What types of techniques did you employ throughout this project, and which yielded the greatest improvements in your model?\n",
        "3. What were some of the biggest challenges that you encountered throughout this project?\n",
        "4. Do you have any unanswered questions about aspects of the pipeline that didn't make sense to you?\n",
        "5. What were the three most important things that you learned about machine learning while working on this project?\n",
        "\n",
        "#### <span style=\"color: blue;\">Project presentation: Make sure that you also summarize your answers to these questions in your project presentation. Combine all your notes for your project presentation and prepare to present your findings to the class.</span>"
      ]
    },
    {
      "cell_type": "code",
      "execution_count": null,
      "metadata": {
        "id": "pda-OCsNd5SZ"
      },
      "outputs": [],
      "source": [
        "ได้เรียนการสร้าง model สร้าง dataset จากไฟล์ที่ download เข้ามา การเปรียบเทียบ model \n",
        "ส่วนตัวรู้สึกว่า lab นี้ยากมาก และต้องใช้เวลากับมันเยอะมากๆค่ะ มีส่วนที่ไม่เข้าใจและต้องค้นคว้าเพิ่มเยอะมากๆในการทำ lab"
      ]
    }
  ],
  "metadata": {
    "kernelspec": {
      "display_name": "conda_python3",
      "language": "python",
      "name": "conda_python3"
    },
    "language_info": {
      "codemirror_mode": {
        "name": "ipython",
        "version": 3
      },
      "file_extension": ".py",
      "mimetype": "text/x-python",
      "name": "python",
      "nbconvert_exporter": "python",
      "pygments_lexer": "ipython3",
      "version": "3.6.13"
    },
    "colab": {
      "name": "Flight_Delay-Student_6209610341.ipynb",
      "provenance": [],
      "include_colab_link": true
    }
  },
  "nbformat": 4,
  "nbformat_minor": 0
}